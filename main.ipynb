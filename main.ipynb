{
 "cells": [
  {
   "cell_type": "code",
   "execution_count": 2,
   "metadata": {},
   "outputs": [
    {
     "name": "stdout",
     "output_type": "stream",
     "text": [
      "INFO: Pandarallel will run on 8 workers.\n",
      "INFO: Pandarallel will use standard multiprocessing data transfer (pipe) to transfer data between the main process and workers.\n",
      "\n",
      "WARNING: You are on Windows. If you detect any issue with pandarallel, be sure you checked out the Troubleshooting page:\n",
      "https://nalepae.github.io/pandarallel/troubleshooting/\n"
     ]
    }
   ],
   "source": [
    "import math\n",
    "import pickle\n",
    "import time\n",
    "from functools import reduce\n",
    "from pandarallel import pandarallel\n",
    "\n",
    "\n",
    "\n",
    "import dask.dataframe as ddf\n",
    "import jqdatasdk as jq\n",
    "import matplotlib.pyplot as plt\n",
    "import numpy as np\n",
    "import pandas as pd\n",
    "import plotly.express as px\n",
    "import statsmodels.api as sm\n",
    "import plotly.graph_objects as go\n",
    "from csmarapi.CsmarService import CsmarService\n",
    "from plotly.subplots import make_subplots\n",
    "from scipy import stats\n",
    "from utils.my_cache import cache_wrapper\n",
    "\n",
    "csmar = CsmarService()\n",
    "from csmarapi.ReportUtil import ReportUtil\n",
    "pandarallel.initialize()\n",
    "# jq.auth('13764432461', 'Swisschina6')\n",
    "# csmar.login('wuhh@pbcsf.tsinghua.edu.cn', 'whh8803582')"
   ]
  },
  {
   "cell_type": "code",
   "execution_count": 3,
   "metadata": {},
   "outputs": [],
   "source": [
    "def yearly_return(result):\n",
    "    return str((((result.params[0] + 1) ** 12 - 1) * 100).round(2)) + '%'\n",
    "\n",
    "def float_to_percent(float : np.float64):\n",
    "    return str((float * 100).round(3)) + '%'"
   ]
  },
  {
   "cell_type": "markdown",
   "metadata": {},
   "source": [
    "## **I. Data**"
   ]
  },
  {
   "cell_type": "markdown",
   "metadata": {},
   "source": [
    "**Research**\n",
    "\n",
    "- Most Data (nav/dividend/split ratio/asset allocation) : `CSMAR`\n",
    "\n",
    "- Fund classification : `JoinQuant`\n",
    "\n",
    "- Fund start date: `JoinQuant`\n",
    "\n",
    "- SVC related: `previous research`\n",
    "\n",
    "**Validation**\n",
    "\n",
    "- `AMAC` : [2020 yearly report, page 15](https://www.amac.org.cn/researchstatistics/publication/zgzqtzjjynb/202104/t20210419_11390.html), for market statistic\n",
    "\n",
    "- `Win.d` : classification/share/nav, for market statistic; stock fund adjusted net asset value (2005/6-2019/6)\n",
    "\n",
    "<span style=\"color:blue\">Data is sound, carefully verified and available to fetch</span>"
   ]
  },
  {
   "cell_type": "markdown",
   "metadata": {},
   "source": [
    "AMAC"
   ]
  },
  {
   "cell_type": "code",
   "execution_count": 6,
   "metadata": {},
   "outputs": [],
   "source": [
    "amac = pd.read_csv('data/AMAC/amac.csv', sep='\\t', index_col=0).astype(float)\n",
    "amac.index = pd.to_datetime(amac.index.astype(str)) + pd.Timedelta('180 days')"
   ]
  },
  {
   "cell_type": "markdown",
   "metadata": {},
   "source": [
    "JoinQuant"
   ]
  },
  {
   "cell_type": "code",
   "execution_count": 7,
   "metadata": {},
   "outputs": [],
   "source": [
    "@cache_wrapper(expire = 60 * 60 * 24 * 7)\n",
    "# cache to avoid unnecessary traffic\n",
    "def brief_of_funds(frequency : str = time.strftime('%W')) -> pd.DataFrame:\n",
    "    return jq.get_all_securities(['fund', 'open_fund'], time.strftime('%Y%m%d'))\n",
    "\n",
    "\n",
    "@cache_wrapper(expire = 60 * 60 * 24 * 7)\n",
    "def main_info(fund_codes, frequency : str = time.strftime('%W')) -> pd.DataFrame:\n",
    "    '''\n",
    "    if you want to modify this function, delete cache and go on\n",
    "    '''\n",
    "    limit = jq.DBTable.RESULT_ROWS_LIMIT\n",
    "    fund_code_cuts = np.array_split(fund_codes, math.ceil(len(fund_codes) / limit))\n",
    "    full_table_cuts = []\n",
    "    for code_cut in fund_code_cuts:\n",
    "        # NOTE `in` is not applicable in filter, use `in_()` defined by joinquant\n",
    "        table_cut = jq.finance.run_query(jq.query(jq.finance.FUND_MAIN_INFO).filter(jq.finance.FUND_MAIN_INFO.main_code.in_(code_cut)))\n",
    "        full_table_cuts.append(table_cut)\n",
    "    full_table = pd.concat(full_table_cuts).reset_index(drop=True)\n",
    "    full_table['start_date'] = full_table.start_date.astype(np.datetime64).dt.to_period('M')\n",
    "    return full_table\n"
   ]
  },
  {
   "cell_type": "code",
   "execution_count": 8,
   "metadata": {},
   "outputs": [],
   "source": [
    "# run weekly\n",
    "brief = brief_of_funds()\n",
    "fund_codes = brief.index.str.split('.').str[0]\n",
    "fund_main_info = main_info(fund_codes)\n",
    "\n",
    "fund_main_info_ = fund_main_info[['main_code', 'underlying_asset_type']]"
   ]
  },
  {
   "cell_type": "markdown",
   "metadata": {},
   "source": [
    "Win.d"
   ]
  },
  {
   "cell_type": "code",
   "execution_count": 9,
   "metadata": {},
   "outputs": [],
   "source": [
    "wind_share_nav = pd.read_excel('data/Win.d/wind_share_nav.xlsx', sheet_name='Sheet1')\n",
    "wind_classification = wind_share_nav[['证券代码', '投资类型(一级分类)']]\n",
    "wind_share_nav = pd.DataFrame(data=wind_share_nav.iloc[:, 3:].values, index=wind_share_nav.证券代码.values, \\\n",
    "    columns = pd.MultiIndex.from_tuples(list(map(lambda x: (x[:4], pd.to_datetime(x[12:22])), wind_share_nav.columns[3:])))).T.sort_index()\n",
    "wind_share_nav.index = wind_share_nav.index.set_levels(wind_share_nav.index.levels[1].to_period('M'), level=1)\n",
    "\n",
    "\n",
    "stock_fund_verify = pd.read_excel('data/Win.d/stock_fund_adj_nav.xlsx')\n",
    "stock_fund_verify.columns = np.concatenate([stock_fund_verify.columns[:2].values, stock_fund_verify.columns[2:].str[-17:-7]])\n",
    "stock_fund_verify.index = stock_fund_verify.iloc[:, 0].str[:-3]\n",
    "stock_fund_verify = stock_fund_verify.iloc[:, 2:]\n",
    "stock_fund_verify.columns = pd.to_datetime(stock_fund_verify.columns).to_period('M')\n",
    "stock_fund_verify = stock_fund_verify.T.sort_index()\n",
    "stock_fund_verify.index.name = 'Date'\n",
    "stock_fund_verify.columns.name = ''"
   ]
  },
  {
   "cell_type": "code",
   "execution_count": 10,
   "metadata": {},
   "outputs": [],
   "source": [
    "adj_nav_verify = pd.read_excel('data/Win.d/2016-3_adj_nav.xlsx')"
   ]
  },
  {
   "cell_type": "markdown",
   "metadata": {},
   "source": [
    "CSMAR"
   ]
  },
  {
   "cell_type": "code",
   "execution_count": 11,
   "metadata": {},
   "outputs": [],
   "source": [
    "maininfo = pd.read_csv('data/CSMAR/FUND_MainInfo.csv', parse_dates=['InceptionDate'])\n",
    "maininfo['InceptionDate'] = maininfo.InceptionDate.dt.to_period('M')\n",
    "\n",
    "symbol_code_mapping = pd.read_csv('data/CSMAR/FUND_FundCodeInfo.csv')\n",
    "symbol_code_mapping = symbol_code_mapping[['MasterFundCode', 'Symbol']].drop_duplicates()\n",
    "symbol_code_mapping['Symbol'] = symbol_code_mapping.Symbol.astype(str).str.zfill(6)\n",
    "\n",
    "share_info = pd.read_csv('data/CSMAR/Fund_ShareChange.csv', parse_dates=['EndDate'])\n",
    "share_info = share_info.rename(columns={'EndDate': 'Date'})\n",
    "share_info['Date'] = share_info.Date.dt.to_period('M')\n",
    "share_info['Symbol'] = share_info.Symbol.astype(str).str.zfill(6)\n",
    "# share_info = share_info.set_index('Date').sort_index()\n",
    "\n",
    "nav_daily = ddf.read_csv('data/CSMAR/daily_nav/*').compute()\n",
    "nav_daily = nav_daily.rename(columns={'TradingDate': 'Date'})\n",
    "# * heavy time complexity\n",
    "# * if change Symbol to String now, program will be much slower\n",
    "# nav_daily['Symbol'] = nav_daily.Symbol.astype(str).str.zfill(6)\n",
    "nav_daily['Date'] = pd.to_datetime(nav_daily.Date)\n",
    "# nav_daily = nav_daily.set_index('Date')[['Symbol', 'NAV']].sort_index()\n",
    "\n",
    "fund_dividend = pd.read_csv('data/CSMAR/Fund_FundDividend.csv', parse_dates=['PrimaryExDividendDate', 'SecondaryExDividendDate'])\n",
    "fund_dividend['Symbol'] = fund_dividend.Symbol.astype(str).str.zfill(6)\n",
    "ExDividendMonth = fund_dividend.PrimaryExDividendDate.copy()\n",
    "ExDividendMonth.name = 'ExDividendMonth'\n",
    "ExDividendMonth[ExDividendMonth.isnull()] = fund_dividend.SecondaryExDividendDate[ExDividendMonth.isnull()].copy()\n",
    "fund_dividend['ExDividendMonth'] = ExDividendMonth\n",
    "fund_dividend = fund_dividend[['Symbol', 'ExDividendMonth', 'DividendperShare']]\n",
    "fund_dividend = fund_dividend.rename(columns={'ExDividendMonth': 'Date'})\n",
    "fund_dividend['DividendperShare'] = fund_dividend.DividendperShare.fillna(0)\n",
    "fund_dividend['Date'] = fund_dividend.Date.dt.to_period('M')\n",
    "fund_dividend = pd.DataFrame(fund_dividend.groupby(['Symbol', 'Date']).sum().to_records())\n",
    "# fund_dividend = fund_dividend.set_index('Date').sort_index()\n",
    "\n",
    "resolution = pd.read_csv('data/CSMAR/Fund_Resolution.csv', parse_dates=['DeclareDate'])\n",
    "resolution['Symbol'] = resolution.Symbol.astype(str).str.zfill(6)\n",
    "resolution = resolution.rename(columns={'DeclareDate': 'Date'})\n",
    "resolution['SplitRatio'] = resolution.SplitRatio.fillna(1)\n",
    "resolution['Date'] = resolution.Date.dt.to_period('M')\n",
    "resolution = pd.DataFrame(resolution.groupby(['Symbol', 'Date']).prod().to_records())\n",
    "# resolution = resolution.set_index('Date').sort_index()\n",
    "\n",
    "allocation = pd.read_csv('data/CSMAR/Fund_Allocation.csv', parse_dates=['EndDate'])\n",
    "allocation = allocation.rename(columns={'EndDate': 'Date'})\n",
    "allocation['Date'] = allocation.Date.dt.to_period('M')\n",
    "# allocation = allocation.set_index('Date').sort_index()\n"
   ]
  },
  {
   "cell_type": "markdown",
   "metadata": {},
   "source": [
    "SVC"
   ]
  },
  {
   "cell_type": "code",
   "execution_count": 12,
   "metadata": {},
   "outputs": [],
   "source": [
    "svc_source = pickle.load(open('data/SVC/CH3_Monthly.pkl', 'rb'))\n",
    "svc_source['Date'] = pd.to_datetime(svc_source[['year', 'month']].assign(day=1)).dt.to_period('M')\n",
    "svc_source = svc_source.set_index('Date')"
   ]
  },
  {
   "cell_type": "markdown",
   "metadata": {},
   "source": [
    "## **II. Market Statistic**"
   ]
  },
  {
   "cell_type": "markdown",
   "metadata": {},
   "source": [
    "split Win.d data\n",
    "\n",
    "|       | share            | nav            |\n",
    "| ----- | ---------------- | -------------- |\n",
    "| all | all fund share | all fund nav |\n",
    "| blend | blend fund share | blend fund nav |"
   ]
  },
  {
   "cell_type": "code",
   "execution_count": 13,
   "metadata": {},
   "outputs": [],
   "source": [
    "wind_share = wind_share_nav.loc['基金份额', slice(None)]\n",
    "wind_share.columns = wind_share.columns.str.split('.').str[0]\n",
    "wind_share = wind_share[ ~ wind_share.index.duplicated(keep='last')]"
   ]
  },
  {
   "cell_type": "code",
   "execution_count": 14,
   "metadata": {},
   "outputs": [],
   "source": [
    "wind_nav = wind_share_nav.loc['单位净值', slice(None)]\n",
    "wind_nav.columns = wind_nav.columns.str.split('.').str[0]\n",
    "wind_nav = wind_nav[ ~ wind_nav.index.duplicated(keep='last')]"
   ]
  },
  {
   "cell_type": "code",
   "execution_count": 15,
   "metadata": {},
   "outputs": [],
   "source": [
    "wind_stock_fund_share = wind_share.T[(wind_classification['投资类型(一级分类)'] == '股票型基金').values].T\n",
    "wind_blend_fund_share = wind_share.T[(wind_classification['投资类型(一级分类)'] == '混合型基金').values].T\n",
    "\n",
    "wind_stock_fund_nav = wind_nav.T[(wind_classification['投资类型(一级分类)'] == '股票型基金').values].T\n",
    "wind_blend_fund_nav = wind_nav.T[(wind_classification['投资类型(一级分类)'] == '混合型基金').values].T"
   ]
  },
  {
   "cell_type": "markdown",
   "metadata": {},
   "source": [
    "make Win.d data plottable"
   ]
  },
  {
   "cell_type": "code",
   "execution_count": 16,
   "metadata": {},
   "outputs": [],
   "source": [
    "wind_stock_fund_num = pd.notna(wind_stock_fund_nav).sum(axis=1)\n",
    "wind_stock_fund_num.index = wind_stock_fund_num.index.astype(np.datetime64) + pd.offsets.MonthEnd(0)\n",
    "\n",
    "wind_blend_fund_num = pd.notna(wind_blend_fund_nav).sum(axis=1)\n",
    "wind_blend_fund_num.index = wind_blend_fund_num.index.astype(np.datetime64) + pd.offsets.MonthEnd(0)\n",
    "\n",
    "wind_stock_fund_mkt_value = (wind_stock_fund_share * wind_stock_fund_nav).sum(axis=1)\n",
    "wind_stock_fund_mkt_value.index  = wind_stock_fund_mkt_value.index.astype(np.datetime64) + pd.offsets.MonthEnd(0)\n",
    "\n",
    "wind_blend_fund_mkt_value = (wind_blend_fund_share * wind_blend_fund_nav).sum(axis=1)\n",
    "wind_blend_fund_mkt_value.index  = wind_blend_fund_mkt_value.index.astype(np.datetime64) + pd.offsets.MonthEnd(0)\n"
   ]
  },
  {
   "cell_type": "markdown",
   "metadata": {},
   "source": [
    "align JoinQuant && CSMAR data"
   ]
  },
  {
   "cell_type": "code",
   "execution_count": 17,
   "metadata": {},
   "outputs": [],
   "source": [
    "# may cache this cell to speed up\n",
    "nav_monthly = nav_daily.groupby('Symbol').parallel_apply(lambda x: x.set_index('Date').resample('M').last()).NAV\n",
    "nav_monthly = nav_monthly.unstack(level=0)\n",
    "nav_monthly.index = nav_monthly.index.to_period('M')\n",
    "nav_monthly.columns = nav_monthly.columns.astype(str).str.zfill(6)"
   ]
  },
  {
   "cell_type": "code",
   "execution_count": 18,
   "metadata": {},
   "outputs": [],
   "source": [
    "share_info_ = share_info.drop_duplicates(subset=['Symbol', 'Date']).pivot(index='Date', columns='Symbol', values='EndDateShares')"
   ]
  },
  {
   "cell_type": "code",
   "execution_count": 19,
   "metadata": {},
   "outputs": [],
   "source": [
    "selected_month = 6\n",
    "\n",
    "share_info_6 = share_info_[share_info_.index.month == selected_month]\n",
    "nav_monthly_6 = nav_monthly[nav_monthly.index.month == selected_month]\n",
    "\n",
    "csmar_blend_code_6 = np.intersect1d(nav_monthly_6.columns, fund_main_info_[fund_main_info_.underlying_asset_type == '混合型'].main_code.values)\n",
    "csmar_blend_code_6 = np.intersect1d(csmar_blend_code_6, share_info_6.columns)\n",
    "\n",
    "csmar_stock_code_6 = np.intersect1d(nav_monthly_6.columns, fund_main_info_[fund_main_info_.underlying_asset_type == '股票型'].main_code.values)\n",
    "csmar_stock_code_6 = np.intersect1d(csmar_stock_code_6, share_info_6.columns)\n",
    "\n",
    "csmar_co_time_6 = np.intersect1d(share_info_6.index, nav_monthly_6.index)"
   ]
  },
  {
   "cell_type": "code",
   "execution_count": 20,
   "metadata": {},
   "outputs": [],
   "source": [
    "csmar_blend_mkt_value_jq_classify = (share_info_6.loc[csmar_co_time_6, csmar_blend_code_6] * nav_monthly_6.loc[csmar_co_time_6, csmar_blend_code_6]).sum(axis=1)\n",
    "csmar_stock_mkt_value_jq_classify = (share_info_6.loc[csmar_co_time_6, csmar_stock_code_6] * nav_monthly_6.loc[csmar_co_time_6, csmar_stock_code_6]).sum(axis=1)\n",
    "\n",
    "csmar_stock_mkt_value_jq_classify.index = csmar_stock_mkt_value_jq_classify.index.astype(np.datetime64) + pd.offsets.MonthEnd(0)\n",
    "csmar_blend_mkt_value_jq_classify.index = csmar_blend_mkt_value_jq_classify.index.astype(np.datetime64) + pd.offsets.MonthEnd(0)"
   ]
  },
  {
   "cell_type": "markdown",
   "metadata": {},
   "source": [
    "stock funds market value"
   ]
  },
  {
   "cell_type": "code",
   "execution_count": 21,
   "metadata": {},
   "outputs": [
    {
     "data": {
      "text/plain": [
       "<matplotlib.legend.Legend at 0x223398b73a0>"
      ]
     },
     "execution_count": 21,
     "metadata": {},
     "output_type": "execute_result"
    },
    {
     "data": {
      "image/png": "[encoded data removed]",
      "text/plain": [
       "<Figure size 1728x432 with 1 Axes>"
      ]
     },
     "metadata": {
      "needs_background": "light"
     },
     "output_type": "display_data"
    }
   ],
   "source": [
    "plt.figure(figsize=(24, 6))\n",
    "plt.bar(amac.股票基金.index - pd.Timedelta('10W'), amac.股票基金.values * 1e8, width=75, label='AMAC Source', alpha=.8)\n",
    "plt.bar(wind_stock_fund_mkt_value.index - pd.Timedelta('1W'), wind_stock_fund_mkt_value.values, width=75, label='Win.d Source', alpha=.8)\n",
    "plt.bar(csmar_stock_mkt_value_jq_classify.index + pd.Timedelta('8W'), csmar_stock_mkt_value_jq_classify.values, width=75, label='CSMAR Fund & JoinQuant Classification', alpha=.8)\n",
    "plt.grid()\n",
    "plt.ylabel('Total Market Value (Share × NAV)')\n",
    "plt.title('Sum of Stock Fund Market Value, Every 6th Month')\n",
    "plt.legend()"
   ]
  },
  {
   "cell_type": "markdown",
   "metadata": {},
   "source": [
    "blend funds market value"
   ]
  },
  {
   "cell_type": "code",
   "execution_count": 22,
   "metadata": {},
   "outputs": [
    {
     "data": {
      "text/plain": [
       "<matplotlib.legend.Legend at 0x223271d2650>"
      ]
     },
     "execution_count": 22,
     "metadata": {},
     "output_type": "execute_result"
    },
    {
     "data": {
      "image/png": "[encoded data removed]",
      "text/plain": [
       "<Figure size 1728x432 with 1 Axes>"
      ]
     },
     "metadata": {
      "needs_background": "light"
     },
     "output_type": "display_data"
    }
   ],
   "source": [
    "plt.figure(figsize=(24, 6))\n",
    "plt.bar(amac.混合基金.index - pd.Timedelta('10W'), amac.混合基金.values * 1e8, width=75, label='AMAC Source', alpha=.8)\n",
    "plt.bar(wind_blend_fund_mkt_value.index - pd.Timedelta('1W'), wind_blend_fund_mkt_value.values, width=75, label='Win.d Source', alpha=.8)\n",
    "plt.bar(csmar_blend_mkt_value_jq_classify.index + pd.Timedelta('8W'), csmar_blend_mkt_value_jq_classify.values, width=75, label='CSMAR Fund & JoinQuant Classification', alpha=.8)\n",
    "plt.grid()\n",
    "plt.ylabel('Total Market Value (Share × NAV)')\n",
    "plt.title('Sum of Blend Fund Market Value, End of Every 6th Month')\n",
    "plt.legend()"
   ]
  },
  {
   "cell_type": "markdown",
   "metadata": {},
   "source": [
    "(stock + blend) funds market value"
   ]
  },
  {
   "cell_type": "code",
   "execution_count": 23,
   "metadata": {},
   "outputs": [
    {
     "data": {
      "text/plain": [
       "<matplotlib.legend.Legend at 0x2232738a6e0>"
      ]
     },
     "execution_count": 23,
     "metadata": {},
     "output_type": "execute_result"
    },
    {
     "data": {
      "image/png": "[encoded data removed]",
      "text/plain": [
       "<Figure size 1728x432 with 1 Axes>"
      ]
     },
     "metadata": {
      "needs_background": "light"
     },
     "output_type": "display_data"
    }
   ],
   "source": [
    "plt.figure(figsize=(24, 6))\n",
    "plt.bar(amac.混合基金.index - pd.Timedelta('10W'), (amac.混合基金.values + amac.股票基金.values) * 1e8, width=75, label='AMAC Source', alpha=.8)\n",
    "plt.bar(wind_blend_fund_mkt_value.index - pd.Timedelta('1W'), \\\n",
    "     wind_blend_fund_mkt_value.values + wind_stock_fund_mkt_value.values, width=75, label='Win.d Source', alpha=.8)\n",
    "plt.bar(csmar_blend_mkt_value_jq_classify.index + pd.Timedelta('8W'), \\\n",
    "     csmar_blend_mkt_value_jq_classify.values + csmar_stock_mkt_value_jq_classify.values, width=75, label='CSMAR Fund & JoinQuant Classification', alpha=.8)\n",
    "plt.grid()\n",
    "plt.ylabel('Total Market Value (Share × NAV)')\n",
    "plt.title('Sum of Stock Fund && Blend Fund Market Value, End of Every 6th month')\n",
    "plt.legend()"
   ]
  },
  {
   "cell_type": "markdown",
   "metadata": {},
   "source": [
    "fund counts"
   ]
  },
  {
   "cell_type": "code",
   "execution_count": 24,
   "metadata": {},
   "outputs": [],
   "source": [
    "csmar_stock_fund_count = nav_monthly.loc[:, csmar_stock_code_6].apply(lambda x: pd.notna(x).sum(), axis=1)\n",
    "csmar_stock_fund_count.index = csmar_stock_fund_count.index.astype(np.datetime64) + pd.offsets.MonthEnd(0)\n",
    "\n",
    "csmar_blend_fund_count = nav_monthly.loc[:, csmar_blend_code_6].apply(lambda x: pd.notna(x).sum(), axis=1)\n",
    "csmar_blend_fund_count.index = csmar_blend_fund_count.index.astype(np.datetime64) + pd.offsets.MonthEnd(0)"
   ]
  },
  {
   "cell_type": "markdown",
   "metadata": {},
   "source": [
    "integrated plot"
   ]
  },
  {
   "cell_type": "code",
   "execution_count": 25,
   "metadata": {},
   "outputs": [
    {
     "data": {
      "image/png": "[encoded data removed]",
      "text/plain": [
       "<Figure size 1728x576 with 2 Axes>"
      ]
     },
     "metadata": {
      "needs_background": "light"
     },
     "output_type": "display_data"
    }
   ],
   "source": [
    "fig, ax1 = plt.subplots()\n",
    "\n",
    "fig.set_figheight(8)\n",
    "fig.set_figwidth(24)\n",
    "\n",
    "nav_monthly_6.loc[:, csmar_blend_code_6].apply(lambda x: pd.notna(x).sum(), axis=1)\n",
    "\n",
    "ax1.plot(csmar_stock_fund_count, linewidth=3, label='Line, Stock Fund Count')\n",
    "ax1.plot(csmar_blend_fund_count, linewidth=3, label='Line, Blend Fund Count')\n",
    "\n",
    "ax1.set_yscale('log')\n",
    "ax1.set_yticks([1e0, 1e1, 1e2, 1e3, 1e4])\n",
    "ax1.grid()\n",
    "ax1.set_ylabel('Fund Number Count')\n",
    "\n",
    "ax2 = ax1.twinx()\n",
    "\n",
    "plt.bar(csmar_stock_mkt_value_jq_classify.index - pd.Timedelta('7W'), \\\n",
    "     csmar_stock_mkt_value_jq_classify.values, width=100, label='Bar, Stock Fund Market Value', alpha=.8)\n",
    "\n",
    "plt.bar(csmar_blend_mkt_value_jq_classify.index + pd.Timedelta('7W'), \\\n",
    "     csmar_blend_mkt_value_jq_classify.values, width=100, label='Bar, Blend Fund Market Value', alpha=.8)\n",
    "\n",
    "plt.title('Full Market, CSMAR Fund & JoinQuant Classification, Market Statistic, End of Every 6th month')\n",
    "\n",
    "ax2.grid(color='y', alpha=.7)\n",
    "plt.ylabel('Total Market Value (Share × NAV)')\n",
    "\n",
    "ax1.legend(loc='upper left')\n",
    "ax2.legend(loc='lower left')\n",
    "\n",
    "pass"
   ]
  },
  {
   "cell_type": "markdown",
   "metadata": {},
   "source": [
    "## **III. Filters**"
   ]
  },
  {
   "cell_type": "markdown",
   "metadata": {},
   "source": [
    "### preview"
   ]
  },
  {
   "cell_type": "code",
   "execution_count": 26,
   "metadata": {},
   "outputs": [],
   "source": [
    "csmar_jq_co_fund = np.intersect1d(np.char.zfill(nav_daily.Symbol.unique().astype(str), 6), fund_main_info.main_code)\n",
    "csmar_jq_co_fund = pd.Series(csmar_jq_co_fund, name='main_code')\n",
    "\n",
    "final_main_info = pd.merge(fund_main_info, csmar_jq_co_fund, on='main_code')[['main_code', 'name', 'operate_mode', 'underlying_asset_type', 'invest_style', 'start_date']]"
   ]
  },
  {
   "cell_type": "code",
   "execution_count": 27,
   "metadata": {},
   "outputs": [
    {
     "data": {
      "application/vnd.plotly.v1+json": {
       "config": {
        "plotlyServerURL": "https://plot.ly"
       },
       "data": [
        {
         "domain": {
          "x": [
           0,
           0.45
          ],
          "y": [
           0,
           1
          ]
         },
         "labels": [
          "混合型",
          "债券型",
          "股票型",
          "货币型",
          "基金型",
          "商品",
          "基础设施基金"
         ],
         "textinfo": "percent+label",
         "textposition": "inside",
         "type": "pie",
         "values": [
          7595,
          4748,
          2571,
          729,
          711,
          20,
          19
         ]
        },
        {
         "domain": {
          "x": [
           0.55,
           1
          ],
          "y": [
           0,
           1
          ]
         },
         "labels": [
          "开放式基金",
          "封闭式基金",
          "ETF",
          "FOF",
          "QDII",
          "LOF",
          "基础设施基金",
          "MOM"
         ],
         "textinfo": "percent+label",
         "textposition": "inside",
         "type": "pie",
         "values": [
          12490,
          1925,
          696,
          456,
          420,
          379,
          19,
          8
         ]
        }
       ],
       "layout": {
        "annotations": [
         {
          "font": {
           "size": 16
          },
          "showarrow": false,
          "text": "JoinQuant Asset Type",
          "x": 0.225,
          "xanchor": "center",
          "xref": "paper",
          "y": 1,
          "yanchor": "bottom",
          "yref": "paper"
         },
         {
          "font": {
           "size": 16
          },
          "showarrow": false,
          "text": "JoinQuant Operation Mode",
          "x": 0.775,
          "xanchor": "center",
          "xref": "paper",
          "y": 1,
          "yanchor": "bottom",
          "yref": "paper"
         }
        ],
        "height": 500,
        "showlegend": false,
        "template": {
         "data": {
          "bar": [
           {
            "error_x": {
             "color": "#2a3f5f"
            },
            "error_y": {
             "color": "#2a3f5f"
            },
            "marker": {
             "line": {
              "color": "#E5ECF6",
              "width": 0.5
             },
             "pattern": {
              "fillmode": "overlay",
              "size": 10,
              "solidity": 0.2
             }
            },
            "type": "bar"
           }
          ],
          "barpolar": [
           {
            "marker": {
             "line": {
              "color": "#E5ECF6",
              "width": 0.5
             },
             "pattern": {
              "fillmode": "overlay",
              "size": 10,
              "solidity": 0.2
             }
            },
            "type": "barpolar"
           }
          ],
          "carpet": [
           {
            "aaxis": {
             "endlinecolor": "#2a3f5f",
             "gridcolor": "white",
             "linecolor": "white",
             "minorgridcolor": "white",
             "startlinecolor": "#2a3f5f"
            },
            "baxis": {
             "endlinecolor": "#2a3f5f",
             "gridcolor": "white",
             "linecolor": "white",
             "minorgridcolor": "white",
             "startlinecolor": "#2a3f5f"
            },
            "type": "carpet"
           }
          ],
          "choropleth": [
           {
            "colorbar": {
             "outlinewidth": 0,
             "ticks": ""
            },
            "type": "choropleth"
           }
          ],
          "contour": [
           {
            "colorbar": {
             "outlinewidth": 0,
             "ticks": ""
            },
            "colorscale": [
             [
              0,
              "#0d0887"
             ],
             [
              0.1111111111111111,
              "#46039f"
             ],
             [
              0.2222222222222222,
              "#7201a8"
             ],
             [
              0.3333333333333333,
              "#9c179e"
             ],
             [
              0.4444444444444444,
              "#bd3786"
             ],
             [
              0.5555555555555556,
              "#d8576b"
             ],
             [
              0.6666666666666666,
              "#ed7953"
             ],
             [
              0.7777777777777778,
              "#fb9f3a"
             ],
             [
              0.8888888888888888,
              "#fdca26"
             ],
             [
              1,
              "#f0f921"
             ]
            ],
            "type": "contour"
           }
          ],
          "contourcarpet": [
           {
            "colorbar": {
             "outlinewidth": 0,
             "ticks": ""
            },
            "type": "contourcarpet"
           }
          ],
          "heatmap": [
           {
            "colorbar": {
             "outlinewidth": 0,
             "ticks": ""
            },
            "colorscale": [
             [
              0,
              "#0d0887"
             ],
             [
              0.1111111111111111,
              "#46039f"
             ],
             [
              0.2222222222222222,
              "#7201a8"
             ],
             [
              0.3333333333333333,
              "#9c179e"
             ],
             [
              0.4444444444444444,
              "#bd3786"
             ],
             [
              0.5555555555555556,
              "#d8576b"
             ],
             [
              0.6666666666666666,
              "#ed7953"
             ],
             [
              0.7777777777777778,
              "#fb9f3a"
             ],
             [
              0.8888888888888888,
              "#fdca26"
             ],
             [
              1,
              "#f0f921"
             ]
            ],
            "type": "heatmap"
           }
          ],
          "heatmapgl": [
           {
            "colorbar": {
             "outlinewidth": 0,
             "ticks": ""
            },
            "colorscale": [
             [
              0,
              "#0d0887"
             ],
             [
              0.1111111111111111,
              "#46039f"
             ],
             [
              0.2222222222222222,
              "#7201a8"
             ],
             [
              0.3333333333333333,
              "#9c179e"
             ],
             [
              0.4444444444444444,
              "#bd3786"
             ],
             [
              0.5555555555555556,
              "#d8576b"
             ],
             [
              0.6666666666666666,
              "#ed7953"
             ],
             [
              0.7777777777777778,
              "#fb9f3a"
             ],
             [
              0.8888888888888888,
              "#fdca26"
             ],
             [
              1,
              "#f0f921"
             ]
            ],
            "type": "heatmapgl"
           }
          ],
          "histogram": [
           {
            "marker": {
             "pattern": {
              "fillmode": "overlay",
              "size": 10,
              "solidity": 0.2
             }
            },
            "type": "histogram"
           }
          ],
          "histogram2d": [
           {
            "colorbar": {
             "outlinewidth": 0,
             "ticks": ""
            },
            "colorscale": [
             [
              0,
              "#0d0887"
             ],
             [
              0.1111111111111111,
              "#46039f"
             ],
             [
              0.2222222222222222,
              "#7201a8"
             ],
             [
              0.3333333333333333,
              "#9c179e"
             ],
             [
              0.4444444444444444,
              "#bd3786"
             ],
             [
              0.5555555555555556,
              "#d8576b"
             ],
             [
              0.6666666666666666,
              "#ed7953"
             ],
             [
              0.7777777777777778,
              "#fb9f3a"
             ],
             [
              0.8888888888888888,
              "#fdca26"
             ],
             [
              1,
              "#f0f921"
             ]
            ],
            "type": "histogram2d"
           }
          ],
          "histogram2dcontour": [
           {
            "colorbar": {
             "outlinewidth": 0,
             "ticks": ""
            },
            "colorscale": [
             [
              0,
              "#0d0887"
             ],
             [
              0.1111111111111111,
              "#46039f"
             ],
             [
              0.2222222222222222,
              "#7201a8"
             ],
             [
              0.3333333333333333,
              "#9c179e"
             ],
             [
              0.4444444444444444,
              "#bd3786"
             ],
             [
              0.5555555555555556,
              "#d8576b"
             ],
             [
              0.6666666666666666,
              "#ed7953"
             ],
             [
              0.7777777777777778,
              "#fb9f3a"
             ],
             [
              0.8888888888888888,
              "#fdca26"
             ],
             [
              1,
              "#f0f921"
             ]
            ],
            "type": "histogram2dcontour"
           }
          ],
          "mesh3d": [
           {
            "colorbar": {
             "outlinewidth": 0,
             "ticks": ""
            },
            "type": "mesh3d"
           }
          ],
          "parcoords": [
           {
            "line": {
             "colorbar": {
              "outlinewidth": 0,
              "ticks": ""
             }
            },
            "type": "parcoords"
           }
          ],
          "pie": [
           {
            "automargin": true,
            "type": "pie"
           }
          ],
          "scatter": [
           {
            "fillpattern": {
             "fillmode": "overlay",
             "size": 10,
             "solidity": 0.2
            },
            "type": "scatter"
           }
          ],
          "scatter3d": [
           {
            "line": {
             "colorbar": {
              "outlinewidth": 0,
              "ticks": ""
             }
            },
            "marker": {
             "colorbar": {
              "outlinewidth": 0,
              "ticks": ""
             }
            },
            "type": "scatter3d"
           }
          ],
          "scattercarpet": [
           {
            "marker": {
             "colorbar": {
              "outlinewidth": 0,
              "ticks": ""
             }
            },
            "type": "scattercarpet"
           }
          ],
          "scattergeo": [
           {
            "marker": {
             "colorbar": {
              "outlinewidth": 0,
              "ticks": ""
             }
            },
            "type": "scattergeo"
           }
          ],
          "scattergl": [
           {
            "marker": {
             "colorbar": {
              "outlinewidth": 0,
              "ticks": ""
             }
            },
            "type": "scattergl"
           }
          ],
          "scattermapbox": [
           {
            "marker": {
             "colorbar": {
              "outlinewidth": 0,
              "ticks": ""
             }
            },
            "type": "scattermapbox"
           }
          ],
          "scatterpolar": [
           {
            "marker": {
             "colorbar": {
              "outlinewidth": 0,
              "ticks": ""
             }
            },
            "type": "scatterpolar"
           }
          ],
          "scatterpolargl": [
           {
            "marker": {
             "colorbar": {
              "outlinewidth": 0,
              "ticks": ""
             }
            },
            "type": "scatterpolargl"
           }
          ],
          "scatterternary": [
           {
            "marker": {
             "colorbar": {
              "outlinewidth": 0,
              "ticks": ""
             }
            },
            "type": "scatterternary"
           }
          ],
          "surface": [
           {
            "colorbar": {
             "outlinewidth": 0,
             "ticks": ""
            },
            "colorscale": [
             [
              0,
              "#0d0887"
             ],
             [
              0.1111111111111111,
              "#46039f"
             ],
             [
              0.2222222222222222,
              "#7201a8"
             ],
             [
              0.3333333333333333,
              "#9c179e"
             ],
             [
              0.4444444444444444,
              "#bd3786"
             ],
             [
              0.5555555555555556,
              "#d8576b"
             ],
             [
              0.6666666666666666,
              "#ed7953"
             ],
             [
              0.7777777777777778,
              "#fb9f3a"
             ],
             [
              0.8888888888888888,
              "#fdca26"
             ],
             [
              1,
              "#f0f921"
             ]
            ],
            "type": "surface"
           }
          ],
          "table": [
           {
            "cells": {
             "fill": {
              "color": "#EBF0F8"
             },
             "line": {
              "color": "white"
             }
            },
            "header": {
             "fill": {
              "color": "#C8D4E3"
             },
             "line": {
              "color": "white"
             }
            },
            "type": "table"
           }
          ]
         },
         "layout": {
          "annotationdefaults": {
           "arrowcolor": "#2a3f5f",
           "arrowhead": 0,
           "arrowwidth": 1
          },
          "autotypenumbers": "strict",
          "coloraxis": {
           "colorbar": {
            "outlinewidth": 0,
            "ticks": ""
           }
          },
          "colorscale": {
           "diverging": [
            [
             0,
             "#8e0152"
            ],
            [
             0.1,
             "#c51b7d"
            ],
            [
             0.2,
             "#de77ae"
            ],
            [
             0.3,
             "#f1b6da"
            ],
            [
             0.4,
             "#fde0ef"
            ],
            [
             0.5,
             "#f7f7f7"
            ],
            [
             0.6,
             "#e6f5d0"
            ],
            [
             0.7,
             "#b8e186"
            ],
            [
             0.8,
             "#7fbc41"
            ],
            [
             0.9,
             "#4d9221"
            ],
            [
             1,
             "#276419"
            ]
           ],
           "sequential": [
            [
             0,
             "#0d0887"
            ],
            [
             0.1111111111111111,
             "#46039f"
            ],
            [
             0.2222222222222222,
             "#7201a8"
            ],
            [
             0.3333333333333333,
             "#9c179e"
            ],
            [
             0.4444444444444444,
             "#bd3786"
            ],
            [
             0.5555555555555556,
             "#d8576b"
            ],
            [
             0.6666666666666666,
             "#ed7953"
            ],
            [
             0.7777777777777778,
             "#fb9f3a"
            ],
            [
             0.8888888888888888,
             "#fdca26"
            ],
            [
             1,
             "#f0f921"
            ]
           ],
           "sequentialminus": [
            [
             0,
             "#0d0887"
            ],
            [
             0.1111111111111111,
             "#46039f"
            ],
            [
             0.2222222222222222,
             "#7201a8"
            ],
            [
             0.3333333333333333,
             "#9c179e"
            ],
            [
             0.4444444444444444,
             "#bd3786"
            ],
            [
             0.5555555555555556,
             "#d8576b"
            ],
            [
             0.6666666666666666,
             "#ed7953"
            ],
            [
             0.7777777777777778,
             "#fb9f3a"
            ],
            [
             0.8888888888888888,
             "#fdca26"
            ],
            [
             1,
             "#f0f921"
            ]
           ]
          },
          "colorway": [
           "#636efa",
           "#EF553B",
           "#00cc96",
           "#ab63fa",
           "#FFA15A",
           "#19d3f3",
           "#FF6692",
           "#B6E880",
           "#FF97FF",
           "#FECB52"
          ],
          "font": {
           "color": "#2a3f5f"
          },
          "geo": {
           "bgcolor": "white",
           "lakecolor": "white",
           "landcolor": "#E5ECF6",
           "showlakes": true,
           "showland": true,
           "subunitcolor": "white"
          },
          "hoverlabel": {
           "align": "left"
          },
          "hovermode": "closest",
          "mapbox": {
           "style": "light"
          },
          "paper_bgcolor": "white",
          "plot_bgcolor": "#E5ECF6",
          "polar": {
           "angularaxis": {
            "gridcolor": "white",
            "linecolor": "white",
            "ticks": ""
           },
           "bgcolor": "#E5ECF6",
           "radialaxis": {
            "gridcolor": "white",
            "linecolor": "white",
            "ticks": ""
           }
          },
          "scene": {
           "xaxis": {
            "backgroundcolor": "#E5ECF6",
            "gridcolor": "white",
            "gridwidth": 2,
            "linecolor": "white",
            "showbackground": true,
            "ticks": "",
            "zerolinecolor": "white"
           },
           "yaxis": {
            "backgroundcolor": "#E5ECF6",
            "gridcolor": "white",
            "gridwidth": 2,
            "linecolor": "white",
            "showbackground": true,
            "ticks": "",
            "zerolinecolor": "white"
           },
           "zaxis": {
            "backgroundcolor": "#E5ECF6",
            "gridcolor": "white",
            "gridwidth": 2,
            "linecolor": "white",
            "showbackground": true,
            "ticks": "",
            "zerolinecolor": "white"
           }
          },
          "shapedefaults": {
           "line": {
            "color": "#2a3f5f"
           }
          },
          "ternary": {
           "aaxis": {
            "gridcolor": "white",
            "linecolor": "white",
            "ticks": ""
           },
           "baxis": {
            "gridcolor": "white",
            "linecolor": "white",
            "ticks": ""
           },
           "bgcolor": "#E5ECF6",
           "caxis": {
            "gridcolor": "white",
            "linecolor": "white",
            "ticks": ""
           }
          },
          "title": {
           "x": 0.05
          },
          "xaxis": {
           "automargin": true,
           "gridcolor": "white",
           "linecolor": "white",
           "ticks": "",
           "title": {
            "standoff": 15
           },
           "zerolinecolor": "white",
           "zerolinewidth": 2
          },
          "yaxis": {
           "automargin": true,
           "gridcolor": "white",
           "linecolor": "white",
           "ticks": "",
           "title": {
            "standoff": 15
           },
           "zerolinecolor": "white",
           "zerolinewidth": 2
          }
         }
        },
        "width": 1200
       }
      }
     },
     "metadata": {},
     "output_type": "display_data"
    }
   ],
   "source": [
    "specs = [[{'type':'domain'}] * 2]\n",
    "fig = make_subplots(rows=1, cols=2, specs=specs, subplot_titles=['JoinQuant Asset Type', 'JoinQuant Operation Mode'])\n",
    "fig.add_trace(go.Pie(labels=final_main_info.underlying_asset_type.value_counts().index, values=final_main_info.underlying_asset_type.value_counts().values), 1, 1)\n",
    "fig.add_trace(go.Pie(labels=final_main_info.operate_mode.value_counts().index, values=final_main_info.operate_mode.value_counts().values), 1, 2)\n",
    "fig.update_traces(textposition='inside', textinfo='percent+label')\n",
    "fig.update(layout_showlegend=False)\n",
    "fig.update_layout(width=1200, height=500)"
   ]
  },
  {
   "cell_type": "markdown",
   "metadata": {},
   "source": [
    "### 1. static filtering"
   ]
  },
  {
   "cell_type": "markdown",
   "metadata": {},
   "source": [
    "（1）基金类别为“股票型基金”或“混合型基金”；\n"
   ]
  },
  {
   "cell_type": "markdown",
   "metadata": {},
   "source": [
    "（2）基金非 ETF 类基金、非 QDII 类基金\n",
    "\n",
    "<!-- （4）主动管理标识为 1 或者为空； -->"
   ]
  },
  {
   "cell_type": "code",
   "execution_count": 28,
   "metadata": {},
   "outputs": [
    {
     "data": {
      "text/html": [
       "<div>\n",
       "<style scoped>\n",
       "    .dataframe tbody tr th:only-of-type {\n",
       "        vertical-align: middle;\n",
       "    }\n",
       "\n",
       "    .dataframe tbody tr th {\n",
       "        vertical-align: top;\n",
       "    }\n",
       "\n",
       "    .dataframe thead th {\n",
       "        text-align: right;\n",
       "    }\n",
       "</style>\n",
       "<table border=\"1\" class=\"dataframe\">\n",
       "  <thead>\n",
       "    <tr style=\"text-align: right;\">\n",
       "      <th></th>\n",
       "      <th>main_code</th>\n",
       "      <th>name</th>\n",
       "      <th>operate_mode</th>\n",
       "      <th>underlying_asset_type</th>\n",
       "      <th>invest_style</th>\n",
       "      <th>start_date</th>\n",
       "    </tr>\n",
       "  </thead>\n",
       "  <tbody>\n",
       "    <tr>\n",
       "      <th>0</th>\n",
       "      <td>000001</td>\n",
       "      <td>华夏成长</td>\n",
       "      <td>开放式基金</td>\n",
       "      <td>混合型</td>\n",
       "      <td>偏股混合型</td>\n",
       "      <td>2001-12</td>\n",
       "    </tr>\n",
       "    <tr>\n",
       "      <th>1</th>\n",
       "      <td>000003</td>\n",
       "      <td>中海可转债债券</td>\n",
       "      <td>开放式基金</td>\n",
       "      <td>债券型</td>\n",
       "      <td>二级债基</td>\n",
       "      <td>2013-03</td>\n",
       "    </tr>\n",
       "    <tr>\n",
       "      <th>2</th>\n",
       "      <td>000004</td>\n",
       "      <td>中海可转债C</td>\n",
       "      <td>开放式基金</td>\n",
       "      <td>债券型</td>\n",
       "      <td>二级债基</td>\n",
       "      <td>2013-03</td>\n",
       "    </tr>\n",
       "    <tr>\n",
       "      <th>3</th>\n",
       "      <td>000005</td>\n",
       "      <td>嘉实增强信用</td>\n",
       "      <td>开放式基金</td>\n",
       "      <td>债券型</td>\n",
       "      <td>长期纯债型</td>\n",
       "      <td>2013-03</td>\n",
       "    </tr>\n",
       "    <tr>\n",
       "      <th>4</th>\n",
       "      <td>000006</td>\n",
       "      <td>西部利得量化成长混合</td>\n",
       "      <td>开放式基金</td>\n",
       "      <td>混合型</td>\n",
       "      <td>偏股混合型</td>\n",
       "      <td>2019-03</td>\n",
       "    </tr>\n",
       "    <tr>\n",
       "      <th>...</th>\n",
       "      <td>...</td>\n",
       "      <td>...</td>\n",
       "      <td>...</td>\n",
       "      <td>...</td>\n",
       "      <td>...</td>\n",
       "      <td>...</td>\n",
       "    </tr>\n",
       "    <tr>\n",
       "      <th>16388</th>\n",
       "      <td>968083</td>\n",
       "      <td>汇丰亚洲高入息债券BM2类–人民币</td>\n",
       "      <td>开放式基金</td>\n",
       "      <td>债券型</td>\n",
       "      <td>中短期纯债型</td>\n",
       "      <td>2020-04</td>\n",
       "    </tr>\n",
       "    <tr>\n",
       "      <th>16389</th>\n",
       "      <td>968084</td>\n",
       "      <td>汇丰亚洲高入息债券BM3O类–人民币</td>\n",
       "      <td>开放式基金</td>\n",
       "      <td>债券型</td>\n",
       "      <td>中短期纯债型</td>\n",
       "      <td>2020-04</td>\n",
       "    </tr>\n",
       "    <tr>\n",
       "      <th>16390</th>\n",
       "      <td>968085</td>\n",
       "      <td>汇丰亚洲高入息债券BC类–港元</td>\n",
       "      <td>开放式基金</td>\n",
       "      <td>债券型</td>\n",
       "      <td>中短期纯债型</td>\n",
       "      <td>2020-04</td>\n",
       "    </tr>\n",
       "    <tr>\n",
       "      <th>16391</th>\n",
       "      <td>968086</td>\n",
       "      <td>汇丰亚洲高入息债券BM2类–港元</td>\n",
       "      <td>开放式基金</td>\n",
       "      <td>债券型</td>\n",
       "      <td>中短期纯债型</td>\n",
       "      <td>2020-04</td>\n",
       "    </tr>\n",
       "    <tr>\n",
       "      <th>16392</th>\n",
       "      <td>968087</td>\n",
       "      <td>汇丰亚洲高入息债券BM3O类–澳元</td>\n",
       "      <td>开放式基金</td>\n",
       "      <td>债券型</td>\n",
       "      <td>中短期纯债型</td>\n",
       "      <td>2020-04</td>\n",
       "    </tr>\n",
       "  </tbody>\n",
       "</table>\n",
       "<p>16393 rows × 6 columns</p>\n",
       "</div>"
      ],
      "text/plain": [
       "      main_code                name operate_mode underlying_asset_type  \\\n",
       "0        000001                华夏成长        开放式基金                   混合型   \n",
       "1        000003             中海可转债债券        开放式基金                   债券型   \n",
       "2        000004              中海可转债C        开放式基金                   债券型   \n",
       "3        000005              嘉实增强信用        开放式基金                   债券型   \n",
       "4        000006          西部利得量化成长混合        开放式基金                   混合型   \n",
       "...         ...                 ...          ...                   ...   \n",
       "16388    968083   汇丰亚洲高入息债券BM2类–人民币        开放式基金                   债券型   \n",
       "16389    968084  汇丰亚洲高入息债券BM3O类–人民币        开放式基金                   债券型   \n",
       "16390    968085     汇丰亚洲高入息债券BC类–港元        开放式基金                   债券型   \n",
       "16391    968086    汇丰亚洲高入息债券BM2类–港元        开放式基金                   债券型   \n",
       "16392    968087   汇丰亚洲高入息债券BM3O类–澳元        开放式基金                   债券型   \n",
       "\n",
       "      invest_style start_date  \n",
       "0            偏股混合型    2001-12  \n",
       "1             二级债基    2013-03  \n",
       "2             二级债基    2013-03  \n",
       "3            长期纯债型    2013-03  \n",
       "4            偏股混合型    2019-03  \n",
       "...            ...        ...  \n",
       "16388       中短期纯债型    2020-04  \n",
       "16389       中短期纯债型    2020-04  \n",
       "16390       中短期纯债型    2020-04  \n",
       "16391       中短期纯债型    2020-04  \n",
       "16392       中短期纯债型    2020-04  \n",
       "\n",
       "[16393 rows x 6 columns]"
      ]
     },
     "execution_count": 28,
     "metadata": {},
     "output_type": "execute_result"
    }
   ],
   "source": [
    "final_main_info"
   ]
  },
  {
   "cell_type": "code",
   "execution_count": 29,
   "metadata": {},
   "outputs": [
    {
     "data": {
      "text/plain": [
       "array([0.62014274, 0.93192216])"
      ]
     },
     "execution_count": 29,
     "metadata": {},
     "output_type": "execute_result"
    }
   ],
   "source": [
    "filter_1 = np.logical_or(final_main_info.underlying_asset_type == '股票型', final_main_info.underlying_asset_type == '混合型')\n",
    "filter_2 = np.logical_and(final_main_info.operate_mode != 'ETF', final_main_info.operate_mode != 'QDII')\n",
    "\n",
    "filters = [(1, filter_1), (2, filter_2)]\n",
    "np.array(list(map(lambda _: _[1].sum(), filters))) / len(final_main_info)\n",
    "\n",
    "# proportional data left"
   ]
  },
  {
   "cell_type": "code",
   "execution_count": 30,
   "metadata": {},
   "outputs": [
    {
     "name": "stdout",
     "output_type": "stream",
     "text": [
      "filter 1: 16393 to 10166\n",
      "filter 2: 10166 to 9255\n"
     ]
    }
   ],
   "source": [
    "def func(previous, now):\n",
    "    if type(previous) == tuple:\n",
    "        print(f'filter {previous[0]}: {len(final_main_info)} to {previous[1].sum()}')\n",
    "        temp = np.logical_and(previous[1], now[1])\n",
    "        print(f'filter {now[0]}: {previous[1].sum()} to {temp.sum()}')\n",
    "        return temp\n",
    "    else:\n",
    "        temp = np.logical_and(previous, now[1])\n",
    "        print(f'filter {now[0]}: {previous.sum()} to {temp.sum()}')\n",
    "        return temp\n",
    "\n",
    "\n",
    "filters_ = reduce(func, filters)"
   ]
  },
  {
   "cell_type": "code",
   "execution_count": 31,
   "metadata": {},
   "outputs": [
    {
     "data": {
      "text/html": [
       "<div>\n",
       "<style scoped>\n",
       "    .dataframe tbody tr th:only-of-type {\n",
       "        vertical-align: middle;\n",
       "    }\n",
       "\n",
       "    .dataframe tbody tr th {\n",
       "        vertical-align: top;\n",
       "    }\n",
       "\n",
       "    .dataframe thead th {\n",
       "        text-align: right;\n",
       "    }\n",
       "</style>\n",
       "<table border=\"1\" class=\"dataframe\">\n",
       "  <thead>\n",
       "    <tr style=\"text-align: right;\">\n",
       "      <th></th>\n",
       "      <th>name</th>\n",
       "      <th>operate_mode</th>\n",
       "      <th>underlying_asset_type</th>\n",
       "      <th>invest_style</th>\n",
       "      <th>start_date</th>\n",
       "    </tr>\n",
       "    <tr>\n",
       "      <th>main_code</th>\n",
       "      <th></th>\n",
       "      <th></th>\n",
       "      <th></th>\n",
       "      <th></th>\n",
       "      <th></th>\n",
       "    </tr>\n",
       "  </thead>\n",
       "  <tbody>\n",
       "    <tr>\n",
       "      <th>000001</th>\n",
       "      <td>华夏成长</td>\n",
       "      <td>开放式基金</td>\n",
       "      <td>混合型</td>\n",
       "      <td>偏股混合型</td>\n",
       "      <td>2001-12</td>\n",
       "    </tr>\n",
       "    <tr>\n",
       "      <th>000006</th>\n",
       "      <td>西部利得量化成长混合</td>\n",
       "      <td>开放式基金</td>\n",
       "      <td>混合型</td>\n",
       "      <td>偏股混合型</td>\n",
       "      <td>2019-03</td>\n",
       "    </tr>\n",
       "    <tr>\n",
       "      <th>000011</th>\n",
       "      <td>华夏大盘</td>\n",
       "      <td>开放式基金</td>\n",
       "      <td>混合型</td>\n",
       "      <td>偏股混合型</td>\n",
       "      <td>2004-08</td>\n",
       "    </tr>\n",
       "    <tr>\n",
       "      <th>000017</th>\n",
       "      <td>财通可持续混合</td>\n",
       "      <td>开放式基金</td>\n",
       "      <td>混合型</td>\n",
       "      <td>偏股混合型</td>\n",
       "      <td>2013-03</td>\n",
       "    </tr>\n",
       "    <tr>\n",
       "      <th>000020</th>\n",
       "      <td>景顺品质</td>\n",
       "      <td>开放式基金</td>\n",
       "      <td>混合型</td>\n",
       "      <td>偏股混合型</td>\n",
       "      <td>2013-03</td>\n",
       "    </tr>\n",
       "    <tr>\n",
       "      <th>...</th>\n",
       "      <td>...</td>\n",
       "      <td>...</td>\n",
       "      <td>...</td>\n",
       "      <td>...</td>\n",
       "      <td>...</td>\n",
       "    </tr>\n",
       "    <tr>\n",
       "      <th>968045</th>\n",
       "      <td>摩根股息人民币对冲(每月派息)</td>\n",
       "      <td>开放式基金</td>\n",
       "      <td>股票型</td>\n",
       "      <td>普通股票型</td>\n",
       "      <td>2019-03</td>\n",
       "    </tr>\n",
       "    <tr>\n",
       "      <th>968046</th>\n",
       "      <td>摩根股息美元(累计)</td>\n",
       "      <td>开放式基金</td>\n",
       "      <td>股票型</td>\n",
       "      <td>普通股票型</td>\n",
       "      <td>2019-03</td>\n",
       "    </tr>\n",
       "    <tr>\n",
       "      <th>968047</th>\n",
       "      <td>摩根股息美元(每月派息)</td>\n",
       "      <td>开放式基金</td>\n",
       "      <td>股票型</td>\n",
       "      <td>普通股票型</td>\n",
       "      <td>2019-03</td>\n",
       "    </tr>\n",
       "    <tr>\n",
       "      <th>968048</th>\n",
       "      <td>摩根股息人民币(累计)</td>\n",
       "      <td>开放式基金</td>\n",
       "      <td>股票型</td>\n",
       "      <td>普通股票型</td>\n",
       "      <td>2019-03</td>\n",
       "    </tr>\n",
       "    <tr>\n",
       "      <th>968049</th>\n",
       "      <td>摩根股息人民币(每月派息)</td>\n",
       "      <td>开放式基金</td>\n",
       "      <td>股票型</td>\n",
       "      <td>普通股票型</td>\n",
       "      <td>2019-03</td>\n",
       "    </tr>\n",
       "  </tbody>\n",
       "</table>\n",
       "<p>9255 rows × 5 columns</p>\n",
       "</div>"
      ],
      "text/plain": [
       "                      name operate_mode underlying_asset_type invest_style  \\\n",
       "main_code                                                                    \n",
       "000001                华夏成长        开放式基金                   混合型        偏股混合型   \n",
       "000006          西部利得量化成长混合        开放式基金                   混合型        偏股混合型   \n",
       "000011                华夏大盘        开放式基金                   混合型        偏股混合型   \n",
       "000017             财通可持续混合        开放式基金                   混合型        偏股混合型   \n",
       "000020                景顺品质        开放式基金                   混合型        偏股混合型   \n",
       "...                    ...          ...                   ...          ...   \n",
       "968045     摩根股息人民币对冲(每月派息)        开放式基金                   股票型        普通股票型   \n",
       "968046          摩根股息美元(累计)        开放式基金                   股票型        普通股票型   \n",
       "968047        摩根股息美元(每月派息)        开放式基金                   股票型        普通股票型   \n",
       "968048         摩根股息人民币(累计)        开放式基金                   股票型        普通股票型   \n",
       "968049       摩根股息人民币(每月派息)        开放式基金                   股票型        普通股票型   \n",
       "\n",
       "          start_date  \n",
       "main_code             \n",
       "000001       2001-12  \n",
       "000006       2019-03  \n",
       "000011       2004-08  \n",
       "000017       2013-03  \n",
       "000020       2013-03  \n",
       "...              ...  \n",
       "968045       2019-03  \n",
       "968046       2019-03  \n",
       "968047       2019-03  \n",
       "968048       2019-03  \n",
       "968049       2019-03  \n",
       "\n",
       "[9255 rows x 5 columns]"
      ]
     },
     "execution_count": 31,
     "metadata": {},
     "output_type": "execute_result"
    }
   ],
   "source": [
    "final_main_info_ = final_main_info[filters_]\n",
    "final_main_info_.set_index('main_code').sort_index()"
   ]
  },
  {
   "cell_type": "markdown",
   "metadata": {},
   "source": [
    "### 2. big table\n",
    "\n",
    "from `code` indexed only to `code-month` multiIndex"
   ]
  },
  {
   "cell_type": "code",
   "execution_count": 32,
   "metadata": {},
   "outputs": [
    {
     "data": {
      "text/html": [
       "<div>\n",
       "<style scoped>\n",
       "    .dataframe tbody tr th:only-of-type {\n",
       "        vertical-align: middle;\n",
       "    }\n",
       "\n",
       "    .dataframe tbody tr th {\n",
       "        vertical-align: top;\n",
       "    }\n",
       "\n",
       "    .dataframe thead th {\n",
       "        text-align: right;\n",
       "    }\n",
       "</style>\n",
       "<table border=\"1\" class=\"dataframe\">\n",
       "  <thead>\n",
       "    <tr style=\"text-align: right;\">\n",
       "      <th></th>\n",
       "      <th></th>\n",
       "      <th>name</th>\n",
       "      <th>operate_mode</th>\n",
       "      <th>underlying_asset_type</th>\n",
       "      <th>invest_style</th>\n",
       "      <th>start_date</th>\n",
       "    </tr>\n",
       "    <tr>\n",
       "      <th>Symbol</th>\n",
       "      <th>Date</th>\n",
       "      <th></th>\n",
       "      <th></th>\n",
       "      <th></th>\n",
       "      <th></th>\n",
       "      <th></th>\n",
       "    </tr>\n",
       "  </thead>\n",
       "  <tbody>\n",
       "    <tr>\n",
       "      <th rowspan=\"5\" valign=\"top\">000001</th>\n",
       "      <th>2001-12</th>\n",
       "      <td>华夏成长</td>\n",
       "      <td>开放式基金</td>\n",
       "      <td>混合型</td>\n",
       "      <td>偏股混合型</td>\n",
       "      <td>2001-12</td>\n",
       "    </tr>\n",
       "    <tr>\n",
       "      <th>2002-01</th>\n",
       "      <td>华夏成长</td>\n",
       "      <td>开放式基金</td>\n",
       "      <td>混合型</td>\n",
       "      <td>偏股混合型</td>\n",
       "      <td>2001-12</td>\n",
       "    </tr>\n",
       "    <tr>\n",
       "      <th>2002-02</th>\n",
       "      <td>华夏成长</td>\n",
       "      <td>开放式基金</td>\n",
       "      <td>混合型</td>\n",
       "      <td>偏股混合型</td>\n",
       "      <td>2001-12</td>\n",
       "    </tr>\n",
       "    <tr>\n",
       "      <th>2002-03</th>\n",
       "      <td>华夏成长</td>\n",
       "      <td>开放式基金</td>\n",
       "      <td>混合型</td>\n",
       "      <td>偏股混合型</td>\n",
       "      <td>2001-12</td>\n",
       "    </tr>\n",
       "    <tr>\n",
       "      <th>2002-04</th>\n",
       "      <td>华夏成长</td>\n",
       "      <td>开放式基金</td>\n",
       "      <td>混合型</td>\n",
       "      <td>偏股混合型</td>\n",
       "      <td>2001-12</td>\n",
       "    </tr>\n",
       "    <tr>\n",
       "      <th>...</th>\n",
       "      <th>...</th>\n",
       "      <td>...</td>\n",
       "      <td>...</td>\n",
       "      <td>...</td>\n",
       "      <td>...</td>\n",
       "      <td>...</td>\n",
       "    </tr>\n",
       "    <tr>\n",
       "      <th rowspan=\"5\" valign=\"top\">968049</th>\n",
       "      <th>2022-05</th>\n",
       "      <td>摩根股息人民币(每月派息)</td>\n",
       "      <td>开放式基金</td>\n",
       "      <td>股票型</td>\n",
       "      <td>普通股票型</td>\n",
       "      <td>2019-03</td>\n",
       "    </tr>\n",
       "    <tr>\n",
       "      <th>2022-06</th>\n",
       "      <td>摩根股息人民币(每月派息)</td>\n",
       "      <td>开放式基金</td>\n",
       "      <td>股票型</td>\n",
       "      <td>普通股票型</td>\n",
       "      <td>2019-03</td>\n",
       "    </tr>\n",
       "    <tr>\n",
       "      <th>2022-07</th>\n",
       "      <td>摩根股息人民币(每月派息)</td>\n",
       "      <td>开放式基金</td>\n",
       "      <td>股票型</td>\n",
       "      <td>普通股票型</td>\n",
       "      <td>2019-03</td>\n",
       "    </tr>\n",
       "    <tr>\n",
       "      <th>2022-08</th>\n",
       "      <td>摩根股息人民币(每月派息)</td>\n",
       "      <td>开放式基金</td>\n",
       "      <td>股票型</td>\n",
       "      <td>普通股票型</td>\n",
       "      <td>2019-03</td>\n",
       "    </tr>\n",
       "    <tr>\n",
       "      <th>2022-09</th>\n",
       "      <td>摩根股息人民币(每月派息)</td>\n",
       "      <td>开放式基金</td>\n",
       "      <td>股票型</td>\n",
       "      <td>普通股票型</td>\n",
       "      <td>2019-03</td>\n",
       "    </tr>\n",
       "  </tbody>\n",
       "</table>\n",
       "<p>418550 rows × 5 columns</p>\n",
       "</div>"
      ],
      "text/plain": [
       "                         name operate_mode underlying_asset_type invest_style  \\\n",
       "Symbol Date                                                                     \n",
       "000001 2001-12           华夏成长        开放式基金                   混合型        偏股混合型   \n",
       "       2002-01           华夏成长        开放式基金                   混合型        偏股混合型   \n",
       "       2002-02           华夏成长        开放式基金                   混合型        偏股混合型   \n",
       "       2002-03           华夏成长        开放式基金                   混合型        偏股混合型   \n",
       "       2002-04           华夏成长        开放式基金                   混合型        偏股混合型   \n",
       "...                       ...          ...                   ...          ...   \n",
       "968049 2022-05  摩根股息人民币(每月派息)        开放式基金                   股票型        普通股票型   \n",
       "       2022-06  摩根股息人民币(每月派息)        开放式基金                   股票型        普通股票型   \n",
       "       2022-07  摩根股息人民币(每月派息)        开放式基金                   股票型        普通股票型   \n",
       "       2022-08  摩根股息人民币(每月派息)        开放式基金                   股票型        普通股票型   \n",
       "       2022-09  摩根股息人民币(每月派息)        开放式基金                   股票型        普通股票型   \n",
       "\n",
       "               start_date  \n",
       "Symbol Date                \n",
       "000001 2001-12    2001-12  \n",
       "       2002-01    2001-12  \n",
       "       2002-02    2001-12  \n",
       "       2002-03    2001-12  \n",
       "       2002-04    2001-12  \n",
       "...                   ...  \n",
       "968049 2022-05    2019-03  \n",
       "       2022-06    2019-03  \n",
       "       2022-07    2019-03  \n",
       "       2022-08    2019-03  \n",
       "       2022-09    2019-03  \n",
       "\n",
       "[418550 rows x 5 columns]"
      ]
     },
     "execution_count": 32,
     "metadata": {},
     "output_type": "execute_result"
    }
   ],
   "source": [
    "indexes = pd.MultiIndex.from_product([final_main_info_.main_code.sort_values().values, pd.date_range('2000-1', '2022-10', freq='M')])\n",
    "temp_codes = indexes.get_level_values(0)\n",
    "temp_date = indexes.get_level_values(1)\n",
    "main_data = pd.DataFrame(index=indexes)\n",
    "main_data['main_code'] = temp_codes\n",
    "main_data['Date'] = temp_date.to_period('M')\n",
    "main_data = pd.merge(main_data, final_main_info_, on='main_code')\n",
    "main_data = main_data.rename(columns={'main_code': 'Symbol'})\n",
    "main_data = main_data.set_index(['Symbol', 'Date'])\n",
    "main_data = main_data.loc[nav_monthly[final_main_info_.main_code.sort_values().values].stack().index.swaplevel()].sort_index()\n",
    "main_data"
   ]
  },
  {
   "cell_type": "markdown",
   "metadata": {},
   "source": [
    "### 3. dynamic filtering"
   ]
  },
  {
   "cell_type": "markdown",
   "metadata": {},
   "source": [
    "（3）基金上市时间超过一年\n",
    "\n",
    "（4）最近一次**二季度报/年报/半年报**~~年报或半年报~~披露的中国市场股票持股比例超过总管理规模的30%"
   ]
  },
  {
   "cell_type": "code",
   "execution_count": 33,
   "metadata": {},
   "outputs": [
    {
     "data": {
      "text/plain": [
       "'in view of 2022, filter 3: 9255 to 7159'"
      ]
     },
     "execution_count": 33,
     "metadata": {},
     "output_type": "execute_result"
    }
   ],
   "source": [
    "main_data = main_data[main_data.index.get_level_values(1) >= main_data.start_date + pd.offsets.MonthEnd(12)]\n",
    "record_shape = len(main_data.index.get_level_values(0).unique())\n",
    "f'in view of 2022, filter 3: {len(final_main_info_)} to {record_shape}'"
   ]
  },
  {
   "cell_type": "markdown",
   "metadata": {},
   "source": [
    "*problem*: annual report or semi-annual report not available before 2008\n",
    "\n",
    "*reason*: regulation rule changed\n",
    "\n",
    "*solve*: add second quarter report"
   ]
  },
  {
   "cell_type": "code",
   "execution_count": 34,
   "metadata": {},
   "outputs": [
    {
     "data": {
      "image/png": "[encoded data removed]",
      "text/plain": [
       "<Figure size 1152x288 with 1 Axes>"
      ]
     },
     "metadata": {
      "needs_background": "light"
     },
     "output_type": "display_data"
    }
   ],
   "source": [
    "allocation['report_type_check'] = allocation.Date.dt.year\n",
    "report_type_check = allocation.groupby(['MasterFundCode', 'report_type_check']).apply(lambda temp : 5 in temp.ReportTypeID.values or 6 in temp.ReportTypeID.values)\n",
    "plt.figure(figsize=(16,4))\n",
    "report_type_check_ = report_type_check.groupby(level=1).apply(lambda temp: temp.sum() / len(temp))\n",
    "year_report_count = report_type_check.groupby(level=1).apply(lambda temp: temp.sum())\n",
    "total_report_count = report_type_check.groupby(level=1).apply(lambda temp: len(temp))\n",
    "plt.scatter(x=report_type_check_.index, y=report_type_check_.values, label='Proportion for Funds Who Have Annual/Semi-Annual Report')\n",
    "temp = year_report_count.cumsum() / total_report_count.cumsum()\n",
    "plt.plot(temp.index, temp.values, label='Full Market, Cumulative Sum of Proportion for Symbols Who Have Annual/Semi-Annual Report')\n",
    "plt.legend()\n",
    "pass"
   ]
  },
  {
   "cell_type": "markdown",
   "metadata": {},
   "source": [
    "<img src=\"image/README/2008_search.png\" alt=\"drawing\" width=\"500\"/> <img src=\"image/README/2009_search.png\" alt=\"drawing\" width=\"508\"/>\n",
    "\n",
    "[中国证券监督管理委员会公告〔2008〕第4号](http://www.gov.cn/zwgk/2008-02/21/content_896020.htm)\n"
   ]
  },
  {
   "cell_type": "markdown",
   "metadata": {},
   "source": [
    "使用存在二季度报/年报/半年报的数据"
   ]
  },
  {
   "cell_type": "code",
   "execution_count": 35,
   "metadata": {},
   "outputs": [],
   "source": [
    "allocation_ = allocation[allocation.ReportTypeID.isin([2, 5, 6])]\n",
    "allocation_ = pd.merge(allocation_, symbol_code_mapping, on='MasterFundCode', how='left')\n",
    "allocation_ = allocation_[allocation_.Symbol.isin(main_data.index.get_level_values(0).unique())]\n",
    "main_data = main_data.loc[allocation_.Symbol.unique(), slice(None)]"
   ]
  },
  {
   "cell_type": "markdown",
   "metadata": {},
   "source": [
    "中国市场股票持股比例超过总管理规模30%"
   ]
  },
  {
   "cell_type": "code",
   "execution_count": 36,
   "metadata": {},
   "outputs": [
    {
     "data": {
      "text/html": [
       "<div>\n",
       "<style scoped>\n",
       "    .dataframe tbody tr th:only-of-type {\n",
       "        vertical-align: middle;\n",
       "    }\n",
       "\n",
       "    .dataframe tbody tr th {\n",
       "        vertical-align: top;\n",
       "    }\n",
       "\n",
       "    .dataframe thead th {\n",
       "        text-align: right;\n",
       "    }\n",
       "</style>\n",
       "<table border=\"1\" class=\"dataframe\">\n",
       "  <thead>\n",
       "    <tr style=\"text-align: right;\">\n",
       "      <th></th>\n",
       "      <th></th>\n",
       "      <th>name</th>\n",
       "      <th>operate_mode</th>\n",
       "      <th>underlying_asset_type</th>\n",
       "      <th>invest_style</th>\n",
       "      <th>start_date</th>\n",
       "    </tr>\n",
       "    <tr>\n",
       "      <th>Symbol</th>\n",
       "      <th>Date</th>\n",
       "      <th></th>\n",
       "      <th></th>\n",
       "      <th></th>\n",
       "      <th></th>\n",
       "      <th></th>\n",
       "    </tr>\n",
       "  </thead>\n",
       "  <tbody>\n",
       "    <tr>\n",
       "      <th rowspan=\"5\" valign=\"top\">000001</th>\n",
       "      <th>2003-06</th>\n",
       "      <td>华夏成长</td>\n",
       "      <td>开放式基金</td>\n",
       "      <td>混合型</td>\n",
       "      <td>偏股混合型</td>\n",
       "      <td>2001-12</td>\n",
       "    </tr>\n",
       "    <tr>\n",
       "      <th>2003-07</th>\n",
       "      <td>华夏成长</td>\n",
       "      <td>开放式基金</td>\n",
       "      <td>混合型</td>\n",
       "      <td>偏股混合型</td>\n",
       "      <td>2001-12</td>\n",
       "    </tr>\n",
       "    <tr>\n",
       "      <th>2003-08</th>\n",
       "      <td>华夏成长</td>\n",
       "      <td>开放式基金</td>\n",
       "      <td>混合型</td>\n",
       "      <td>偏股混合型</td>\n",
       "      <td>2001-12</td>\n",
       "    </tr>\n",
       "    <tr>\n",
       "      <th>2003-09</th>\n",
       "      <td>华夏成长</td>\n",
       "      <td>开放式基金</td>\n",
       "      <td>混合型</td>\n",
       "      <td>偏股混合型</td>\n",
       "      <td>2001-12</td>\n",
       "    </tr>\n",
       "    <tr>\n",
       "      <th>2003-10</th>\n",
       "      <td>华夏成长</td>\n",
       "      <td>开放式基金</td>\n",
       "      <td>混合型</td>\n",
       "      <td>偏股混合型</td>\n",
       "      <td>2001-12</td>\n",
       "    </tr>\n",
       "    <tr>\n",
       "      <th>...</th>\n",
       "      <th>...</th>\n",
       "      <td>...</td>\n",
       "      <td>...</td>\n",
       "      <td>...</td>\n",
       "      <td>...</td>\n",
       "      <td>...</td>\n",
       "    </tr>\n",
       "    <tr>\n",
       "      <th rowspan=\"5\" valign=\"top\">952009</th>\n",
       "      <th>2022-05</th>\n",
       "      <td>国泰君安君得鑫2年持有混合</td>\n",
       "      <td>封闭式基金</td>\n",
       "      <td>混合型</td>\n",
       "      <td>偏股混合型</td>\n",
       "      <td>2020-01</td>\n",
       "    </tr>\n",
       "    <tr>\n",
       "      <th>2022-06</th>\n",
       "      <td>国泰君安君得鑫2年持有混合</td>\n",
       "      <td>封闭式基金</td>\n",
       "      <td>混合型</td>\n",
       "      <td>偏股混合型</td>\n",
       "      <td>2020-01</td>\n",
       "    </tr>\n",
       "    <tr>\n",
       "      <th>2022-07</th>\n",
       "      <td>国泰君安君得鑫2年持有混合</td>\n",
       "      <td>封闭式基金</td>\n",
       "      <td>混合型</td>\n",
       "      <td>偏股混合型</td>\n",
       "      <td>2020-01</td>\n",
       "    </tr>\n",
       "    <tr>\n",
       "      <th>2022-08</th>\n",
       "      <td>国泰君安君得鑫2年持有混合</td>\n",
       "      <td>封闭式基金</td>\n",
       "      <td>混合型</td>\n",
       "      <td>偏股混合型</td>\n",
       "      <td>2020-01</td>\n",
       "    </tr>\n",
       "    <tr>\n",
       "      <th>2022-09</th>\n",
       "      <td>国泰君安君得鑫2年持有混合</td>\n",
       "      <td>封闭式基金</td>\n",
       "      <td>混合型</td>\n",
       "      <td>偏股混合型</td>\n",
       "      <td>2020-01</td>\n",
       "    </tr>\n",
       "  </tbody>\n",
       "</table>\n",
       "<p>235912 rows × 5 columns</p>\n",
       "</div>"
      ],
      "text/plain": [
       "                         name operate_mode underlying_asset_type invest_style  \\\n",
       "Symbol Date                                                                     \n",
       "000001 2003-06           华夏成长        开放式基金                   混合型        偏股混合型   \n",
       "       2003-07           华夏成长        开放式基金                   混合型        偏股混合型   \n",
       "       2003-08           华夏成长        开放式基金                   混合型        偏股混合型   \n",
       "       2003-09           华夏成长        开放式基金                   混合型        偏股混合型   \n",
       "       2003-10           华夏成长        开放式基金                   混合型        偏股混合型   \n",
       "...                       ...          ...                   ...          ...   \n",
       "952009 2022-05  国泰君安君得鑫2年持有混合        封闭式基金                   混合型        偏股混合型   \n",
       "       2022-06  国泰君安君得鑫2年持有混合        封闭式基金                   混合型        偏股混合型   \n",
       "       2022-07  国泰君安君得鑫2年持有混合        封闭式基金                   混合型        偏股混合型   \n",
       "       2022-08  国泰君安君得鑫2年持有混合        封闭式基金                   混合型        偏股混合型   \n",
       "       2022-09  国泰君安君得鑫2年持有混合        封闭式基金                   混合型        偏股混合型   \n",
       "\n",
       "               start_date  \n",
       "Symbol Date                \n",
       "000001 2003-06    2001-12  \n",
       "       2003-07    2001-12  \n",
       "       2003-08    2001-12  \n",
       "       2003-09    2001-12  \n",
       "       2003-10    2001-12  \n",
       "...                   ...  \n",
       "952009 2022-05    2020-01  \n",
       "       2022-06    2020-01  \n",
       "       2022-07    2020-01  \n",
       "       2022-08    2020-01  \n",
       "       2022-09    2020-01  \n",
       "\n",
       "[235912 rows x 5 columns]"
      ]
     },
     "execution_count": 36,
     "metadata": {},
     "output_type": "execute_result"
    }
   ],
   "source": [
    "filter_4 = allocation_[(allocation_.Equity / allocation_.TotalAsset) > .3]\n",
    "co_index = np.intersect1d(filter_4.set_index(['Symbol', 'Date']).index, main_data.index)\n",
    "main_data['filter_4'] = np.nan\n",
    "main_data.loc[main_data.index.get_level_values(1).month == 6, 'filter_4'] = False\n",
    "main_data.loc[co_index, 'filter_4'] = True\n",
    "main_data = main_data.groupby(level=0).fillna(method='ffill').fillna(False)\n",
    "main_data = main_data[main_data.filter_4].drop('filter_4', axis=1)\n",
    "main_data"
   ]
  },
  {
   "cell_type": "code",
   "execution_count": 37,
   "metadata": {},
   "outputs": [
    {
     "data": {
      "text/plain": [
       "'in view of all time span, filter 4: 7159 to 5291'"
      ]
     },
     "execution_count": 37,
     "metadata": {},
     "output_type": "execute_result"
    }
   ],
   "source": [
    "f'in view of all time span, filter 4: {record_shape} to {len(main_data.index.get_level_values(0).unique())}'"
   ]
  },
  {
   "cell_type": "markdown",
   "metadata": {},
   "source": [
    "### 4. full data"
   ]
  },
  {
   "cell_type": "markdown",
   "metadata": {},
   "source": [
    "reset nav"
   ]
  },
  {
   "cell_type": "code",
   "execution_count": 38,
   "metadata": {},
   "outputs": [],
   "source": [
    "nav_monthly_ = pd.Series(nav_monthly.stack().swaplevel(), name='NAV')\n",
    "nav_monthly_ = pd.DataFrame(nav_monthly_).reset_index()"
   ]
  },
  {
   "cell_type": "markdown",
   "metadata": {},
   "source": [
    "merge data"
   ]
  },
  {
   "cell_type": "code",
   "execution_count": 39,
   "metadata": {},
   "outputs": [],
   "source": [
    "main_data = pd.merge(main_data, nav_monthly_, on=['Symbol', 'Date'], how='left').set_index(['Symbol', 'Date'])\n",
    "main_data = pd.merge(main_data, fund_dividend, on=['Symbol', 'Date'], how='left').set_index(['Symbol', 'Date'])\n",
    "main_data = pd.merge(main_data, resolution, on=['Symbol', 'Date'], how='left').set_index(['Symbol', 'Date'])"
   ]
  },
  {
   "cell_type": "markdown",
   "metadata": {},
   "source": [
    "handle NA"
   ]
  },
  {
   "cell_type": "code",
   "execution_count": 40,
   "metadata": {},
   "outputs": [],
   "source": [
    "main_data['NAV'] = main_data.groupby(level=0).apply(lambda x: x.NAV.fillna(method='ffill')).droplevel(0)\n",
    "main_data['DividendperShare'] = main_data.DividendperShare.fillna(0)\n",
    "main_data['SplitRatio'] = main_data.SplitRatio.fillna(1)"
   ]
  },
  {
   "cell_type": "markdown",
   "metadata": {},
   "source": [
    "combine csmar category"
   ]
  },
  {
   "cell_type": "code",
   "execution_count": 41,
   "metadata": {},
   "outputs": [
    {
     "data": {
      "text/html": [
       "<div>\n",
       "<style scoped>\n",
       "    .dataframe tbody tr th:only-of-type {\n",
       "        vertical-align: middle;\n",
       "    }\n",
       "\n",
       "    .dataframe tbody tr th {\n",
       "        vertical-align: top;\n",
       "    }\n",
       "\n",
       "    .dataframe thead th {\n",
       "        text-align: right;\n",
       "    }\n",
       "</style>\n",
       "<table border=\"1\" class=\"dataframe\">\n",
       "  <thead>\n",
       "    <tr style=\"text-align: right;\">\n",
       "      <th></th>\n",
       "      <th></th>\n",
       "      <th>name</th>\n",
       "      <th>operate_mode</th>\n",
       "      <th>underlying_asset_type</th>\n",
       "      <th>invest_style</th>\n",
       "      <th>start_date</th>\n",
       "      <th>NAV</th>\n",
       "      <th>DividendperShare</th>\n",
       "      <th>SplitRatio</th>\n",
       "      <th>Category</th>\n",
       "    </tr>\n",
       "    <tr>\n",
       "      <th>Symbol</th>\n",
       "      <th>Date</th>\n",
       "      <th></th>\n",
       "      <th></th>\n",
       "      <th></th>\n",
       "      <th></th>\n",
       "      <th></th>\n",
       "      <th></th>\n",
       "      <th></th>\n",
       "      <th></th>\n",
       "      <th></th>\n",
       "    </tr>\n",
       "  </thead>\n",
       "  <tbody>\n",
       "    <tr>\n",
       "      <th rowspan=\"5\" valign=\"top\">000001</th>\n",
       "      <th>2003-06</th>\n",
       "      <td>华夏成长</td>\n",
       "      <td>开放式基金</td>\n",
       "      <td>混合型</td>\n",
       "      <td>偏股混合型</td>\n",
       "      <td>2001-12</td>\n",
       "      <td>0.9730</td>\n",
       "      <td>0.033</td>\n",
       "      <td>1.0</td>\n",
       "      <td>混合型基金</td>\n",
       "    </tr>\n",
       "    <tr>\n",
       "      <th>2003-07</th>\n",
       "      <td>华夏成长</td>\n",
       "      <td>开放式基金</td>\n",
       "      <td>混合型</td>\n",
       "      <td>偏股混合型</td>\n",
       "      <td>2001-12</td>\n",
       "      <td>0.9860</td>\n",
       "      <td>0.000</td>\n",
       "      <td>1.0</td>\n",
       "      <td>混合型基金</td>\n",
       "    </tr>\n",
       "    <tr>\n",
       "      <th>2003-08</th>\n",
       "      <td>华夏成长</td>\n",
       "      <td>开放式基金</td>\n",
       "      <td>混合型</td>\n",
       "      <td>偏股混合型</td>\n",
       "      <td>2001-12</td>\n",
       "      <td>0.9540</td>\n",
       "      <td>0.000</td>\n",
       "      <td>1.0</td>\n",
       "      <td>混合型基金</td>\n",
       "    </tr>\n",
       "    <tr>\n",
       "      <th>2003-09</th>\n",
       "      <td>华夏成长</td>\n",
       "      <td>开放式基金</td>\n",
       "      <td>混合型</td>\n",
       "      <td>偏股混合型</td>\n",
       "      <td>2001-12</td>\n",
       "      <td>0.9200</td>\n",
       "      <td>0.000</td>\n",
       "      <td>1.0</td>\n",
       "      <td>混合型基金</td>\n",
       "    </tr>\n",
       "    <tr>\n",
       "      <th>2003-10</th>\n",
       "      <td>华夏成长</td>\n",
       "      <td>开放式基金</td>\n",
       "      <td>混合型</td>\n",
       "      <td>偏股混合型</td>\n",
       "      <td>2001-12</td>\n",
       "      <td>0.9360</td>\n",
       "      <td>0.000</td>\n",
       "      <td>1.0</td>\n",
       "      <td>混合型基金</td>\n",
       "    </tr>\n",
       "    <tr>\n",
       "      <th>...</th>\n",
       "      <th>...</th>\n",
       "      <td>...</td>\n",
       "      <td>...</td>\n",
       "      <td>...</td>\n",
       "      <td>...</td>\n",
       "      <td>...</td>\n",
       "      <td>...</td>\n",
       "      <td>...</td>\n",
       "      <td>...</td>\n",
       "      <td>...</td>\n",
       "    </tr>\n",
       "    <tr>\n",
       "      <th rowspan=\"5\" valign=\"top\">952009</th>\n",
       "      <th>2022-05</th>\n",
       "      <td>国泰君安君得鑫2年持有混合</td>\n",
       "      <td>封闭式基金</td>\n",
       "      <td>混合型</td>\n",
       "      <td>偏股混合型</td>\n",
       "      <td>2020-01</td>\n",
       "      <td>1.7120</td>\n",
       "      <td>0.000</td>\n",
       "      <td>1.0</td>\n",
       "      <td>混合型基金</td>\n",
       "    </tr>\n",
       "    <tr>\n",
       "      <th>2022-06</th>\n",
       "      <td>国泰君安君得鑫2年持有混合</td>\n",
       "      <td>封闭式基金</td>\n",
       "      <td>混合型</td>\n",
       "      <td>偏股混合型</td>\n",
       "      <td>2020-01</td>\n",
       "      <td>1.8868</td>\n",
       "      <td>0.000</td>\n",
       "      <td>1.0</td>\n",
       "      <td>混合型基金</td>\n",
       "    </tr>\n",
       "    <tr>\n",
       "      <th>2022-07</th>\n",
       "      <td>国泰君安君得鑫2年持有混合</td>\n",
       "      <td>封闭式基金</td>\n",
       "      <td>混合型</td>\n",
       "      <td>偏股混合型</td>\n",
       "      <td>2020-01</td>\n",
       "      <td>1.7885</td>\n",
       "      <td>0.000</td>\n",
       "      <td>1.0</td>\n",
       "      <td>混合型基金</td>\n",
       "    </tr>\n",
       "    <tr>\n",
       "      <th>2022-08</th>\n",
       "      <td>国泰君安君得鑫2年持有混合</td>\n",
       "      <td>封闭式基金</td>\n",
       "      <td>混合型</td>\n",
       "      <td>偏股混合型</td>\n",
       "      <td>2020-01</td>\n",
       "      <td>1.7257</td>\n",
       "      <td>0.000</td>\n",
       "      <td>1.0</td>\n",
       "      <td>混合型基金</td>\n",
       "    </tr>\n",
       "    <tr>\n",
       "      <th>2022-09</th>\n",
       "      <td>国泰君安君得鑫2年持有混合</td>\n",
       "      <td>封闭式基金</td>\n",
       "      <td>混合型</td>\n",
       "      <td>偏股混合型</td>\n",
       "      <td>2020-01</td>\n",
       "      <td>1.7006</td>\n",
       "      <td>0.000</td>\n",
       "      <td>1.0</td>\n",
       "      <td>混合型基金</td>\n",
       "    </tr>\n",
       "  </tbody>\n",
       "</table>\n",
       "<p>235808 rows × 9 columns</p>\n",
       "</div>"
      ],
      "text/plain": [
       "                         name operate_mode underlying_asset_type invest_style  \\\n",
       "Symbol Date                                                                     \n",
       "000001 2003-06           华夏成长        开放式基金                   混合型        偏股混合型   \n",
       "       2003-07           华夏成长        开放式基金                   混合型        偏股混合型   \n",
       "       2003-08           华夏成长        开放式基金                   混合型        偏股混合型   \n",
       "       2003-09           华夏成长        开放式基金                   混合型        偏股混合型   \n",
       "       2003-10           华夏成长        开放式基金                   混合型        偏股混合型   \n",
       "...                       ...          ...                   ...          ...   \n",
       "952009 2022-05  国泰君安君得鑫2年持有混合        封闭式基金                   混合型        偏股混合型   \n",
       "       2022-06  国泰君安君得鑫2年持有混合        封闭式基金                   混合型        偏股混合型   \n",
       "       2022-07  国泰君安君得鑫2年持有混合        封闭式基金                   混合型        偏股混合型   \n",
       "       2022-08  国泰君安君得鑫2年持有混合        封闭式基金                   混合型        偏股混合型   \n",
       "       2022-09  国泰君安君得鑫2年持有混合        封闭式基金                   混合型        偏股混合型   \n",
       "\n",
       "               start_date     NAV  DividendperShare  SplitRatio Category  \n",
       "Symbol Date                                                               \n",
       "000001 2003-06    2001-12  0.9730             0.033         1.0    混合型基金  \n",
       "       2003-07    2001-12  0.9860             0.000         1.0    混合型基金  \n",
       "       2003-08    2001-12  0.9540             0.000         1.0    混合型基金  \n",
       "       2003-09    2001-12  0.9200             0.000         1.0    混合型基金  \n",
       "       2003-10    2001-12  0.9360             0.000         1.0    混合型基金  \n",
       "...                   ...     ...               ...         ...      ...  \n",
       "952009 2022-05    2020-01  1.7120             0.000         1.0    混合型基金  \n",
       "       2022-06    2020-01  1.8868             0.000         1.0    混合型基金  \n",
       "       2022-07    2020-01  1.7885             0.000         1.0    混合型基金  \n",
       "       2022-08    2020-01  1.7257             0.000         1.0    混合型基金  \n",
       "       2022-09    2020-01  1.7006             0.000         1.0    混合型基金  \n",
       "\n",
       "[235808 rows x 9 columns]"
      ]
     },
     "execution_count": 41,
     "metadata": {},
     "output_type": "execute_result"
    }
   ],
   "source": [
    "csmar_category_symbol_mapping = pd.merge(maininfo[['MasterFundCode', 'Category']].drop_duplicates(), \\\n",
    "    symbol_code_mapping, on='MasterFundCode', how='left')[['Category', 'Symbol']]\n",
    "csmar_category_symbol_mapping = csmar_category_symbol_mapping.drop_duplicates().reset_index(drop=True)\n",
    "csmar_category_symbol_mapping = csmar_category_symbol_mapping.groupby('Symbol').last()\n",
    "\n",
    "main_data = pd.merge(main_data.reset_index(), csmar_category_symbol_mapping, on='Symbol').set_index(['Symbol', 'Date'])\n",
    "main_data"
   ]
  },
  {
   "cell_type": "markdown",
   "metadata": {},
   "source": [
    "## **IV. Overall Performance**"
   ]
  },
  {
   "cell_type": "markdown",
   "metadata": {},
   "source": [
    "### Return\n",
    "\n",
    "$$\n",
    "R_t^{real}=\\frac{\\left(NAV_t+Div_t\\right)*SF_t}{NAV_{t-1}*SF_{t-1}}\\tag{1}\n",
    "$$\n",
    "\n",
    "$NAV_t$ 基金在 $t$ 月末的基金净值\n",
    "\n",
    "$Div_t$ 在 $t$ 月中发放的现金分红\n",
    "\n",
    "$SF_t$ 累计拆分因子\n",
    "\n",
    "当$t$月中发生比例为$s_t$的拆分时, $SF_t=s_tSF_{t-1}$"
   ]
  },
  {
   "cell_type": "markdown",
   "metadata": {},
   "source": [
    "公式等价于\n",
    "\n",
    "$$\n",
    "R_t^{real}=\\frac{\\left(NAV_t+Div_t\\right)*s_t}{NAV_{t-1}}\\tag{2}\n",
    "$$"
   ]
  },
  {
   "cell_type": "markdown",
   "metadata": {},
   "source": [
    "#### 1. prepare"
   ]
  },
  {
   "cell_type": "markdown",
   "metadata": {},
   "source": [
    "NAV_shift calculation"
   ]
  },
  {
   "cell_type": "code",
   "execution_count": 42,
   "metadata": {},
   "outputs": [],
   "source": [
    "main_data['NAV_shift'] = main_data.groupby(level=0).apply(lambda x: x.NAV.shift(1)).droplevel(0)"
   ]
  },
  {
   "cell_type": "markdown",
   "metadata": {},
   "source": [
    "split into stock fund and blend fund\n",
    "\n",
    "apply formula"
   ]
  },
  {
   "cell_type": "code",
   "execution_count": 43,
   "metadata": {},
   "outputs": [],
   "source": [
    "# JoinQuant classification\n",
    "blend_data = main_data[main_data.underlying_asset_type == '混合型']\n",
    "stock_data = main_data[main_data.underlying_asset_type == '股票型']\n",
    "\n",
    "# CSMAR classification\n",
    "# blend_data = main_data[main_data.Category == '混合型基金']\n",
    "# stock_data = main_data[main_data.Category == '股票型基金']\n",
    "\n",
    "\n",
    "return_of_stock_fund = stock_data.groupby(level=0).apply(lambda x: ((x.NAV + x.DividendperShare) * x.SplitRatio) / x.NAV_shift).droplevel(0)\n",
    "return_of_blend_fund = blend_data.groupby(level=0).apply(lambda x: ((x.NAV + x.DividendperShare) * x.SplitRatio) / x.NAV_shift).droplevel(0)\n",
    "return_of_all_fund = main_data.groupby(level=0).apply(lambda x: ((x.NAV + x.DividendperShare) * x.SplitRatio) / x.NAV_shift).droplevel(0)"
   ]
  },
  {
   "cell_type": "markdown",
   "metadata": {},
   "source": [
    "market value weight generation"
   ]
  },
  {
   "cell_type": "code",
   "execution_count": 44,
   "metadata": {},
   "outputs": [
    {
     "name": "stdout",
     "output_type": "stream",
     "text": [
      "[] will not be used\n"
     ]
    }
   ],
   "source": [
    "stock_fund_weight = (share_info_6.loc[csmar_co_time_6, csmar_stock_code_6] * nav_monthly_6.loc[csmar_co_time_6, csmar_stock_code_6])\n",
    "\n",
    "stock_fund_weight = pd.concat([stock_fund_weight, \\\n",
    "    pd.DataFrame([[np.nan] * stock_fund_weight.shape[1]], index=[pd.to_datetime('2023-06').to_period('M')], columns=stock_fund_weight.columns)])\n",
    "\n",
    "stock_fund_weight = stock_fund_weight.resample('M').ffill()\n",
    "\n",
    "stock_fund_dates = return_of_stock_fund.unstack(level=0).index\n",
    "stock_fund_funds = return_of_stock_fund.unstack(level=0).columns\n",
    "\n",
    "stock_fund_new = np.setdiff1d(stock_fund_funds, stock_fund_weight.columns)\n",
    "print(f'{stock_fund_new} will not be used')\n",
    "stock_fund_funds = np.intersect1d(stock_fund_funds, stock_fund_weight.columns)\n",
    "\n",
    "stock_fund_weight = stock_fund_weight.loc[stock_fund_dates, stock_fund_funds]\n",
    "stock_fund_weight = stock_fund_weight.div(stock_fund_weight.sum(axis=1), axis=0)"
   ]
  },
  {
   "cell_type": "code",
   "execution_count": 45,
   "metadata": {},
   "outputs": [
    {
     "name": "stdout",
     "output_type": "stream",
     "text": [
      "['960002' '960004'] will not be used\n"
     ]
    }
   ],
   "source": [
    "blend_fund_weight = (share_info_6.loc[csmar_co_time_6, csmar_blend_code_6] * nav_monthly_6.loc[csmar_co_time_6, csmar_blend_code_6])\n",
    "blend_fund_weight = pd.concat([blend_fund_weight, \\\n",
    "    pd.DataFrame([[np.nan] * blend_fund_weight.shape[1]], index=[pd.to_datetime('2023-06').to_period('M')], columns=blend_fund_weight.columns)])\n",
    "blend_fund_weight = blend_fund_weight.resample('M').ffill()\n",
    "\n",
    "blend_fund_dates = return_of_blend_fund.unstack(level=0).index\n",
    "blend_fund_funds = return_of_blend_fund.unstack(level=0).columns\n",
    "\n",
    "blend_fund_new = np.setdiff1d(blend_fund_funds, blend_fund_weight.columns)\n",
    "print(f'{blend_fund_new} will not be used')\n",
    "blend_fund_funds = np.intersect1d(blend_fund_funds, blend_fund_weight.columns)\n",
    "\n",
    "blend_fund_weight = blend_fund_weight.loc[blend_fund_dates, blend_fund_funds]\n",
    "blend_fund_weight = blend_fund_weight.div(blend_fund_weight.sum(axis=1), axis=0)"
   ]
  },
  {
   "cell_type": "markdown",
   "metadata": {},
   "source": [
    "#### 2. analysis"
   ]
  },
  {
   "cell_type": "markdown",
   "metadata": {},
   "source": [
    "use data later than 2005-06"
   ]
  },
  {
   "cell_type": "code",
   "execution_count": 46,
   "metadata": {},
   "outputs": [
    {
     "data": {
      "text/plain": [
       "<matplotlib.legend.Legend at 0x2233974ead0>"
      ]
     },
     "execution_count": 46,
     "metadata": {},
     "output_type": "execute_result"
    },
    {
     "data": {
      "image/png": "[encoded data removed]",
      "text/plain": [
       "<Figure size 1728x576 with 1 Axes>"
      ]
     },
     "metadata": {
      "needs_background": "light"
     },
     "output_type": "display_data"
    }
   ],
   "source": [
    "plt.figure(figsize=(24,8))\n",
    "\n",
    "# TODO: 高收益混合型基金收益来源\n",
    "(((return_of_stock_fund.unstack(level=0) - 1) * stock_fund_weight).sum(axis=1) + 1).loc['2005-6':].cumprod().plot(label='Stock Fund Cumulative Return')\n",
    "(((return_of_blend_fund.unstack(level=0) - 1) * blend_fund_weight).sum(axis=1) + 1).loc['2005-6':].cumprod().plot(label='Blend Fund Cumulative Return')\n",
    "((svc_source.loc['2005-6': ].mktrf + svc_source.loc['2005-6': ].rf) + 1).cumprod().plot(label='Market Portfolio Cumulative Return')\n",
    "\n",
    "plt.yscale('log', base=2)\n",
    "plt.title('Market Value Weighted Fund Portfolio')\n",
    "plt.grid()\n",
    "plt.legend()"
   ]
  },
  {
   "cell_type": "code",
   "execution_count": 47,
   "metadata": {},
   "outputs": [
    {
     "data": {
      "text/plain": [
       "<matplotlib.legend.Legend at 0x22339500310>"
      ]
     },
     "execution_count": 47,
     "metadata": {},
     "output_type": "execute_result"
    },
    {
     "data": {
      "image/png": "[encoded data removed]",
      "text/plain": [
       "<Figure size 1728x576 with 2 Axes>"
      ]
     },
     "metadata": {
      "needs_background": "light"
     },
     "output_type": "display_data"
    }
   ],
   "source": [
    "fig, ax1 = plt.subplots()\n",
    "fig.set_figheight(8)\n",
    "fig.set_figwidth(24)\n",
    "(return_of_stock_fund.unstack(0) - 1).T.describe().loc['min'].plot(ax=ax1, style='.', label='min return', color='y')\n",
    "ax1.legend()\n",
    "ax1.legend(loc='upper left')\n",
    "ax1.axhline(color='y', alpha=.7)\n",
    "ax2 = ax1.twinx()\n",
    "(return_of_stock_fund.unstack(0) - 1).T.describe().loc['count'].plot(ax=ax2, label='stock fund number count')\n",
    "ax2.grid()\n",
    "ax2.set_yscale('log')\n",
    "ax2.legend(loc='upper right')"
   ]
  },
  {
   "cell_type": "code",
   "execution_count": 48,
   "metadata": {},
   "outputs": [],
   "source": [
    "# plt.figure(figsize=(24,8))\n",
    "# return_of_stock_fund.groupby(level=1).mean().loc['2005-6':].cumprod().plot(label='Stock Fund Cumulative Return')\n",
    "# return_of_blend_fund.groupby(level=1).mean().loc['2005-6':].cumprod().plot(label='Blend Fund Cumulative Return')\n",
    "# plt.yscale('log', base=2)\n",
    "# plt.title('1/N Weighted Fund Portfolio')\n",
    "# plt.grid()\n",
    "# plt.legend()"
   ]
  },
  {
   "cell_type": "markdown",
   "metadata": {},
   "source": [
    "why use data later than 2005-06?"
   ]
  },
  {
   "cell_type": "code",
   "execution_count": 49,
   "metadata": {},
   "outputs": [],
   "source": [
    "co_time = np.intersect1d(share_info_.index, nav_monthly.index)\n",
    "co_stocks = np.intersect1d(share_info_.columns, nav_monthly.columns)\n",
    "compare_share_info = share_info_.loc[co_time, co_stocks]\n",
    "compare_nav_monthly = nav_monthly.loc[co_time, co_stocks]"
   ]
  },
  {
   "cell_type": "code",
   "execution_count": 50,
   "metadata": {},
   "outputs": [
    {
     "data": {
      "text/plain": [
       "<matplotlib.lines.Line2D at 0x223460a3610>"
      ]
     },
     "execution_count": 50,
     "metadata": {},
     "output_type": "execute_result"
    },
    {
     "data": {
      "image/png": "[encoded data removed]",
      "text/plain": [
       "<Figure size 1728x576 with 2 Axes>"
      ]
     },
     "metadata": {
      "needs_background": "light"
     },
     "output_type": "display_data"
    }
   ],
   "source": [
    "filled_share_info = compare_share_info.fillna(method='ffill')\n",
    "fig, ax1 = plt.subplots()\n",
    "fig.set_figheight(8)\n",
    "fig.set_figwidth(24)\n",
    "def na_compare(row):\n",
    "    date = row.name\n",
    "    available_funds = row.dropna().index\n",
    "    selected_share_info = (row * filled_share_info.loc[date]).dropna()\n",
    "    available_share_funds = selected_share_info.index\n",
    "\n",
    "    return [len(available_share_funds), len(available_funds)]\n",
    "\n",
    "temp = np.array(list(compare_nav_monthly.apply(na_compare, axis=1).values))\n",
    "ax1.plot(compare_nav_monthly.index.astype(np.datetime64), temp[:, 0], label='Left Axis, Full Market, Share, non-NA Fund Number Count')\n",
    "ax1.plot(compare_nav_monthly.index.astype(np.datetime64), temp[:, 1], label='Left Axis, Full Market, NAV non-NA Fund Number Count')\n",
    "ax1.legend(loc='center left')\n",
    "ax1.grid(linewidth=.5)\n",
    "\n",
    "ax2 = ax1.twinx()\n",
    "\n",
    "pd.Series(temp[:, 0] / temp[:, 1] ,index=compare_nav_monthly.index.astype(np.datetime64)).plot(style='.', label='Right Axis, Full Market, Share, non-NA Fund Number Count, divide by NAV, non-NA Fund Number Count')\n",
    "plt.title('Full Market, Share NA value && NAV NA value')\n",
    "ax2.legend(loc='lower right')\n",
    "\n",
    "ax2.axhline(y=1, color='grey', alpha=.7)\n"
   ]
  },
  {
   "cell_type": "markdown",
   "metadata": {},
   "source": [
    "Size effect in fund?"
   ]
  },
  {
   "cell_type": "code",
   "execution_count": 51,
   "metadata": {},
   "outputs": [
    {
     "data": {
      "image/png": "[encoded data removed]",
      "text/plain": [
       "<Figure size 1728x576 with 1 Axes>"
      ]
     },
     "metadata": {
      "needs_background": "light"
     },
     "output_type": "display_data"
    }
   ],
   "source": [
    "stock_fund_weight_ = (share_info_6.loc[csmar_co_time_6, csmar_stock_code_6] * nav_monthly_6.loc[csmar_co_time_6, csmar_stock_code_6])\n",
    "stock_fund_weight_ = pd.concat([stock_fund_weight_, \\\n",
    "    pd.DataFrame([[np.nan] * stock_fund_weight_.shape[1]], index=[pd.to_datetime('2023-06').to_period('M')], columns=stock_fund_weight_.columns)])\n",
    "stock_fund_weight_ = stock_fund_weight_.resample('M').ffill()\n",
    "\n",
    "groups = 3\n",
    "ret_stock_fund = return_of_stock_fund.unstack(0) - 1\n",
    "stock_fund_groups = stock_fund_weight_.dropna(how='all').apply(lambda x: pd.qcut(x, groups, labels=np.arange(groups)) if not pd.isna(x).all() else x, axis=1)\n",
    "co_time = np.intersect1d(stock_fund_groups.index, ret_stock_fund.index)\n",
    "co_stocks = np.intersect1d(stock_fund_groups.columns, ret_stock_fund.columns)\n",
    "\n",
    "stock_fund_groups = stock_fund_groups.loc[co_time, co_stocks]\n",
    "ret_stock_fund = ret_stock_fund.loc[co_time, co_stocks]\n",
    "\n",
    "def func(x):\n",
    "    date = x.name\n",
    "    result = pd.DataFrame([x, stock_fund_groups.loc[date]], index=['return', 'rank']).T.groupby('rank').mean().iloc[:, 0]\n",
    "    if result.shape[0] < groups:\n",
    "        \n",
    "        return pd.Series([np.nan] * groups, name=date)\n",
    "    else:\n",
    "        return result\n",
    "\n",
    "stock_grouped_return = ret_stock_fund.apply(func, axis=1).dropna()\n",
    "plt.figure(figsize=(24, 8))\n",
    "plt.title(f'Cumulative Return in Long-Short Stock Funds, {groups} Groups')\n",
    "(stock_grouped_return.iloc[:, -1] - stock_grouped_return.iloc[:, 0] + 1).cumprod().plot()\n",
    "plt.grid()"
   ]
  },
  {
   "cell_type": "code",
   "execution_count": 52,
   "metadata": {},
   "outputs": [
    {
     "data": {
      "text/plain": [
       "Ttest_1sampResult(statistic=-0.4363630368132899, pvalue=0.6684848318998369)"
      ]
     },
     "execution_count": 52,
     "metadata": {},
     "output_type": "execute_result"
    }
   ],
   "source": [
    "stats.ttest_1samp((stock_grouped_return.iloc[:, -1] - stock_grouped_return.iloc[:, 0]).dropna(), 0, alternative ='greater')"
   ]
  },
  {
   "cell_type": "code",
   "execution_count": 53,
   "metadata": {},
   "outputs": [
    {
     "data": {
      "image/png": "[encoded data removed]",
      "text/plain": [
       "<Figure size 1728x576 with 1 Axes>"
      ]
     },
     "metadata": {
      "needs_background": "light"
     },
     "output_type": "display_data"
    }
   ],
   "source": [
    "blend_fund_weight_ = (share_info_6.loc[csmar_co_time_6, csmar_blend_code_6] * nav_monthly_6.loc[csmar_co_time_6, csmar_blend_code_6])\n",
    "blend_fund_weight_ = pd.concat([blend_fund_weight_, \\\n",
    "    pd.DataFrame([[np.nan] * blend_fund_weight_.shape[1]], index=[pd.to_datetime('2023-06').to_period('M')], columns=blend_fund_weight_.columns)])\n",
    "blend_fund_weight_ = blend_fund_weight_.resample('M').ffill()\n",
    "\n",
    "groups = 3\n",
    "ret_blend_fund = return_of_blend_fund.unstack(0) - 1\n",
    "blend_fund_groups = blend_fund_weight_.dropna(how='all').apply(lambda x: pd.qcut(x, groups, labels=np.arange(groups)) if not pd.isna(x).all() else x, axis=1)\n",
    "co_time = np.intersect1d(blend_fund_groups.index, ret_blend_fund.index)\n",
    "co_stocks = np.intersect1d(blend_fund_groups.columns, ret_blend_fund.columns)\n",
    "\n",
    "blend_fund_groups = blend_fund_groups.loc[co_time, co_stocks]\n",
    "ret_blend_fund = ret_blend_fund.loc[co_time, co_stocks]\n",
    "\n",
    "def func(x):\n",
    "    date = x.name\n",
    "    result = pd.DataFrame([x, blend_fund_groups.loc[date]], index=['return', 'rank']).T.groupby('rank').mean().iloc[:, 0]\n",
    "    if result.shape[0] < groups:\n",
    "        \n",
    "        return pd.Series([np.nan] * groups, name=date)\n",
    "    else:\n",
    "        return result\n",
    "plt.figure(figsize=(24, 8))\n",
    "plt.title(f'Cumulative Return in Long-Short Blend Funds, {groups} Groups')\n",
    "blend_grouped_return = ret_blend_fund.apply(func, axis=1).dropna()\n",
    "\n",
    "(blend_grouped_return.iloc[:, -1] - blend_grouped_return.iloc[:, 0] + 1).cumprod().plot()\n",
    "plt.grid()"
   ]
  },
  {
   "cell_type": "code",
   "execution_count": 54,
   "metadata": {},
   "outputs": [
    {
     "data": {
      "text/plain": [
       "Ttest_1sampResult(statistic=-1.0556523974666998, pvalue=0.8538522254956163)"
      ]
     },
     "execution_count": 54,
     "metadata": {},
     "output_type": "execute_result"
    }
   ],
   "source": [
    "stats.ttest_1samp((blend_grouped_return.iloc[:, -1] - blend_grouped_return.iloc[:, 0]).dropna(), 0, alternative ='greater')"
   ]
  },
  {
   "cell_type": "markdown",
   "metadata": {},
   "source": [
    "### Regression"
   ]
  },
  {
   "cell_type": "markdown",
   "metadata": {},
   "source": [
    "regression table construction"
   ]
  },
  {
   "cell_type": "code",
   "execution_count": 55,
   "metadata": {},
   "outputs": [
    {
     "data": {
      "text/html": [
       "<div>\n",
       "<style scoped>\n",
       "    .dataframe tbody tr th:only-of-type {\n",
       "        vertical-align: middle;\n",
       "    }\n",
       "\n",
       "    .dataframe tbody tr th {\n",
       "        vertical-align: top;\n",
       "    }\n",
       "\n",
       "    .dataframe thead th {\n",
       "        text-align: right;\n",
       "    }\n",
       "</style>\n",
       "<table border=\"1\" class=\"dataframe\">\n",
       "  <thead>\n",
       "    <tr style=\"text-align: right;\">\n",
       "      <th></th>\n",
       "      <th>stock_fund</th>\n",
       "      <th>mktrf</th>\n",
       "      <th>rf</th>\n",
       "      <th>smb</th>\n",
       "      <th>vmg</th>\n",
       "      <th>blend_fund</th>\n",
       "      <th>α</th>\n",
       "    </tr>\n",
       "    <tr>\n",
       "      <th>Date</th>\n",
       "      <th></th>\n",
       "      <th></th>\n",
       "      <th></th>\n",
       "      <th></th>\n",
       "      <th></th>\n",
       "      <th></th>\n",
       "      <th></th>\n",
       "    </tr>\n",
       "  </thead>\n",
       "  <tbody>\n",
       "    <tr>\n",
       "      <th>2005-06</th>\n",
       "      <td>0.006722</td>\n",
       "      <td>0.011522</td>\n",
       "      <td>0.001856</td>\n",
       "      <td>0.000517</td>\n",
       "      <td>0.056121</td>\n",
       "      <td>0.006346</td>\n",
       "      <td>1</td>\n",
       "    </tr>\n",
       "    <tr>\n",
       "      <th>2005-07</th>\n",
       "      <td>0.026240</td>\n",
       "      <td>-0.019041</td>\n",
       "      <td>0.001856</td>\n",
       "      <td>-0.051082</td>\n",
       "      <td>0.071114</td>\n",
       "      <td>0.019213</td>\n",
       "      <td>1</td>\n",
       "    </tr>\n",
       "    <tr>\n",
       "      <th>2005-08</th>\n",
       "      <td>0.030586</td>\n",
       "      <td>0.071589</td>\n",
       "      <td>0.001856</td>\n",
       "      <td>0.094712</td>\n",
       "      <td>-0.049516</td>\n",
       "      <td>0.021038</td>\n",
       "      <td>1</td>\n",
       "    </tr>\n",
       "    <tr>\n",
       "      <th>2005-09</th>\n",
       "      <td>-0.016050</td>\n",
       "      <td>0.001288</td>\n",
       "      <td>0.001856</td>\n",
       "      <td>0.033242</td>\n",
       "      <td>0.045120</td>\n",
       "      <td>0.001627</td>\n",
       "      <td>1</td>\n",
       "    </tr>\n",
       "    <tr>\n",
       "      <th>2005-10</th>\n",
       "      <td>-0.034043</td>\n",
       "      <td>-0.054595</td>\n",
       "      <td>0.001856</td>\n",
       "      <td>-0.001480</td>\n",
       "      <td>0.024557</td>\n",
       "      <td>-0.023199</td>\n",
       "      <td>1</td>\n",
       "    </tr>\n",
       "    <tr>\n",
       "      <th>...</th>\n",
       "      <td>...</td>\n",
       "      <td>...</td>\n",
       "      <td>...</td>\n",
       "      <td>...</td>\n",
       "      <td>...</td>\n",
       "      <td>...</td>\n",
       "      <td>...</td>\n",
       "    </tr>\n",
       "    <tr>\n",
       "      <th>2022-05</th>\n",
       "      <td>0.045655</td>\n",
       "      <td>0.052554</td>\n",
       "      <td>0.001241</td>\n",
       "      <td>0.064625</td>\n",
       "      <td>-0.012790</td>\n",
       "      <td>0.038071</td>\n",
       "      <td>1</td>\n",
       "    </tr>\n",
       "    <tr>\n",
       "      <th>2022-06</th>\n",
       "      <td>0.101454</td>\n",
       "      <td>0.088114</td>\n",
       "      <td>0.001241</td>\n",
       "      <td>-0.020506</td>\n",
       "      <td>-0.028009</td>\n",
       "      <td>0.086118</td>\n",
       "      <td>1</td>\n",
       "    </tr>\n",
       "    <tr>\n",
       "      <th>2022-07</th>\n",
       "      <td>-0.046780</td>\n",
       "      <td>-0.030989</td>\n",
       "      <td>0.001241</td>\n",
       "      <td>0.071198</td>\n",
       "      <td>-0.005291</td>\n",
       "      <td>-0.037448</td>\n",
       "      <td>1</td>\n",
       "    </tr>\n",
       "    <tr>\n",
       "      <th>2022-08</th>\n",
       "      <td>-0.028674</td>\n",
       "      <td>-0.025324</td>\n",
       "      <td>0.001241</td>\n",
       "      <td>-0.012092</td>\n",
       "      <td>0.025149</td>\n",
       "      <td>-0.028359</td>\n",
       "      <td>1</td>\n",
       "    </tr>\n",
       "    <tr>\n",
       "      <th>2022-09</th>\n",
       "      <td>-0.052880</td>\n",
       "      <td>-0.034785</td>\n",
       "      <td>0.001241</td>\n",
       "      <td>0.003295</td>\n",
       "      <td>0.005758</td>\n",
       "      <td>-0.045850</td>\n",
       "      <td>1</td>\n",
       "    </tr>\n",
       "  </tbody>\n",
       "</table>\n",
       "<p>208 rows × 7 columns</p>\n",
       "</div>"
      ],
      "text/plain": [
       "         stock_fund     mktrf        rf       smb       vmg  blend_fund  α\n",
       "Date                                                                      \n",
       "2005-06    0.006722  0.011522  0.001856  0.000517  0.056121    0.006346  1\n",
       "2005-07    0.026240 -0.019041  0.001856 -0.051082  0.071114    0.019213  1\n",
       "2005-08    0.030586  0.071589  0.001856  0.094712 -0.049516    0.021038  1\n",
       "2005-09   -0.016050  0.001288  0.001856  0.033242  0.045120    0.001627  1\n",
       "2005-10   -0.034043 -0.054595  0.001856 -0.001480  0.024557   -0.023199  1\n",
       "...             ...       ...       ...       ...       ...         ... ..\n",
       "2022-05    0.045655  0.052554  0.001241  0.064625 -0.012790    0.038071  1\n",
       "2022-06    0.101454  0.088114  0.001241 -0.020506 -0.028009    0.086118  1\n",
       "2022-07   -0.046780 -0.030989  0.001241  0.071198 -0.005291   -0.037448  1\n",
       "2022-08   -0.028674 -0.025324  0.001241 -0.012092  0.025149   -0.028359  1\n",
       "2022-09   -0.052880 -0.034785  0.001241  0.003295  0.005758   -0.045850  1\n",
       "\n",
       "[208 rows x 7 columns]"
      ]
     },
     "execution_count": 55,
     "metadata": {},
     "output_type": "execute_result"
    }
   ],
   "source": [
    "# market value weighted\n",
    "stock_fund_regression = ((return_of_stock_fund.unstack(level=0) - 1) * stock_fund_weight).sum(axis=1)\n",
    "stock_fund_regression.name = 'stock_fund'\n",
    "\n",
    "blend_fund_regression = ((return_of_blend_fund.unstack(level=0) - 1) * blend_fund_weight).sum(axis=1)\n",
    "blend_fund_regression.name = 'blend_fund'\n",
    "\n",
    "# 1/N weighted\n",
    "# stock_fund_regression = return_of_stock_fund.groupby(level=1).mean().dropna() - 1\n",
    "# stock_fund_regression.name = 'stock_fund'\n",
    "\n",
    "# blend_fund_regression = return_of_blend_fund.groupby(level=1).mean().dropna() - 1\n",
    "# blend_fund_regression.name = 'blend_fund'\n",
    "\n",
    "regression_source = pd.merge(stock_fund_regression, svc_source[['mktrf', 'rf', 'smb', 'vmg']], on='Date')\n",
    "regression_source = pd.merge(regression_source, blend_fund_regression, on='Date')\n",
    "\n",
    "# regression_source *= 100\n",
    "regression_source['α'] = 1\n",
    "\n",
    "regression_source = regression_source.loc['2005/6':]\n",
    "regression_source"
   ]
  },
  {
   "cell_type": "markdown",
   "metadata": {},
   "source": [
    "naïve regression"
   ]
  },
  {
   "cell_type": "code",
   "execution_count": 56,
   "metadata": {},
   "outputs": [],
   "source": [
    "stock_naïve = sm.OLS(regression_source.stock_fund, regression_source[['α']]).fit()\n",
    "blend_naïve = sm.OLS(regression_source.blend_fund, regression_source[['α']]).fit()\n",
    "stock_naïve_excess = sm.OLS(regression_source.stock_fund - regression_source.rf, regression_source[['α']]).fit()\n",
    "blend_naïve_excess = sm.OLS(regression_source.blend_fund - regression_source.rf, regression_source[['α']]).fit()"
   ]
  },
  {
   "cell_type": "code",
   "execution_count": 57,
   "metadata": {},
   "outputs": [
    {
     "data": {
      "text/html": [
       "<div>\n",
       "<style scoped>\n",
       "    .dataframe tbody tr th:only-of-type {\n",
       "        vertical-align: middle;\n",
       "    }\n",
       "\n",
       "    .dataframe tbody tr th {\n",
       "        vertical-align: top;\n",
       "    }\n",
       "\n",
       "    .dataframe thead th {\n",
       "        text-align: right;\n",
       "    }\n",
       "</style>\n",
       "<table border=\"1\" class=\"dataframe\">\n",
       "  <thead>\n",
       "    <tr style=\"text-align: right;\">\n",
       "      <th>2005/6-2022/9</th>\n",
       "      <th>α</th>\n",
       "      <th>t</th>\n",
       "      <th>p</th>\n",
       "      <th>annual α</th>\n",
       "    </tr>\n",
       "  </thead>\n",
       "  <tbody>\n",
       "    <tr>\n",
       "      <th>stock_naïve</th>\n",
       "      <td>1.091%</td>\n",
       "      <td>2.328</td>\n",
       "      <td>0.021</td>\n",
       "      <td>13.91%</td>\n",
       "    </tr>\n",
       "    <tr>\n",
       "      <th>blend_naïve</th>\n",
       "      <td>1.076%</td>\n",
       "      <td>2.930</td>\n",
       "      <td>0.004</td>\n",
       "      <td>13.71%</td>\n",
       "    </tr>\n",
       "    <tr>\n",
       "      <th>stock_naïve_excess</th>\n",
       "      <td>0.901%</td>\n",
       "      <td>1.921</td>\n",
       "      <td>0.056</td>\n",
       "      <td>11.36%</td>\n",
       "    </tr>\n",
       "    <tr>\n",
       "      <th>blend_naïve_excess</th>\n",
       "      <td>0.886%</td>\n",
       "      <td>2.410</td>\n",
       "      <td>0.017</td>\n",
       "      <td>11.17%</td>\n",
       "    </tr>\n",
       "  </tbody>\n",
       "</table>\n",
       "</div>"
      ],
      "text/plain": [
       "2005/6-2022/9            α      t      p annual α\n",
       "stock_naïve         1.091%  2.328  0.021   13.91%\n",
       "blend_naïve         1.076%  2.930  0.004   13.71%\n",
       "stock_naïve_excess  0.901%  1.921  0.056   11.36%\n",
       "blend_naïve_excess  0.886%  2.410  0.017   11.17%"
      ]
     },
     "execution_count": 57,
     "metadata": {},
     "output_type": "execute_result"
    }
   ],
   "source": [
    "pd.DataFrame(\n",
    "[\n",
    "[float_to_percent(stock_naïve.params[0]), stock_naïve.tvalues.iloc[0].round(3), stock_naïve.pvalues[0].round(3), yearly_return(stock_naïve)],\n",
    "[float_to_percent(blend_naïve.params[0]), blend_naïve.tvalues.iloc[0].round(3), blend_naïve.pvalues[0].round(3), yearly_return(blend_naïve)],\n",
    "[float_to_percent(stock_naïve_excess.params[0]), stock_naïve_excess.tvalues.iloc[0].round(3), stock_naïve_excess.pvalues[0].round(3), yearly_return(stock_naïve_excess)],\n",
    "[float_to_percent(blend_naïve_excess.params[0]), blend_naïve_excess.tvalues.iloc[0].round(3), blend_naïve_excess.pvalues[0].round(3), yearly_return(blend_naïve_excess)],\n",
    "],\n",
    "index=['stock_naïve', 'blend_naïve', 'stock_naïve_excess', 'blend_naïve_excess'], columns=pd.Series(['α', 't', 'p', 'annual α'],\\\n",
    "name=f'{regression_source.index[0].year}/{regression_source.index[0].month}-{regression_source.index[-1].year}/{regression_source.index[-1].month}'))"
   ]
  },
  {
   "cell_type": "markdown",
   "metadata": {},
   "source": [
    "CAPM regression"
   ]
  },
  {
   "cell_type": "code",
   "execution_count": 58,
   "metadata": {},
   "outputs": [],
   "source": [
    "stock_capm = sm.OLS(regression_source.stock_fund - regression_source.rf, regression_source[['α', 'mktrf']]).fit()\n",
    "blend_capm = sm.OLS(regression_source.blend_fund - regression_source.rf, regression_source[['α', 'mktrf']]).fit()"
   ]
  },
  {
   "cell_type": "code",
   "execution_count": 59,
   "metadata": {},
   "outputs": [
    {
     "data": {
      "text/html": [
       "<div>\n",
       "<style scoped>\n",
       "    .dataframe tbody tr th:only-of-type {\n",
       "        vertical-align: middle;\n",
       "    }\n",
       "\n",
       "    .dataframe tbody tr th {\n",
       "        vertical-align: top;\n",
       "    }\n",
       "\n",
       "    .dataframe thead th {\n",
       "        text-align: right;\n",
       "    }\n",
       "</style>\n",
       "<table border=\"1\" class=\"dataframe\">\n",
       "  <thead>\n",
       "    <tr style=\"text-align: right;\">\n",
       "      <th>2005/6-2022/9</th>\n",
       "      <th>stock_capm</th>\n",
       "      <th>blend_capm</th>\n",
       "    </tr>\n",
       "  </thead>\n",
       "  <tbody>\n",
       "    <tr>\n",
       "      <th>α</th>\n",
       "      <td>0.154% (1.052)</td>\n",
       "      <td>0.325% (2.128)</td>\n",
       "    </tr>\n",
       "    <tr>\n",
       "      <th>mktrf</th>\n",
       "      <td>0.826 (44.307)</td>\n",
       "      <td>0.62 (31.82)</td>\n",
       "    </tr>\n",
       "    <tr>\n",
       "      <th>r^2</th>\n",
       "      <td>0.905032</td>\n",
       "      <td>0.830937</td>\n",
       "    </tr>\n",
       "    <tr>\n",
       "      <th>annual α</th>\n",
       "      <td>1.86%</td>\n",
       "      <td>3.97%</td>\n",
       "    </tr>\n",
       "  </tbody>\n",
       "</table>\n",
       "</div>"
      ],
      "text/plain": [
       "2005/6-2022/9      stock_capm      blend_capm\n",
       "α              0.154% (1.052)  0.325% (2.128)\n",
       "mktrf          0.826 (44.307)    0.62 (31.82)\n",
       "r^2                  0.905032        0.830937\n",
       "annual α                1.86%           3.97%"
      ]
     },
     "execution_count": 59,
     "metadata": {},
     "output_type": "execute_result"
    }
   ],
   "source": [
    "pd.DataFrame(\n",
    "[\n",
    "[float_to_percent(stock_capm.params[0]) + ' (' + str(stock_capm.tvalues.iloc[0].round(3)) + ')', \\\n",
    "    str(stock_capm.params[1].round(3)) + ' (' + str(stock_capm.tvalues.iloc[1].round(3)) + ')',\\\n",
    "         stock_capm.rsquared, yearly_return(stock_capm)],\n",
    "[float_to_percent(blend_capm.params[0]) + ' (' + str(blend_capm.tvalues.iloc[0].round(3)) + ')', \\\n",
    "    str(blend_capm.params[1].round(3)) + ' (' + str(blend_capm.tvalues.iloc[1].round(3)) + ')', \\\n",
    "        blend_capm.rsquared, yearly_return(blend_capm)],\n",
    "],\n",
    "columns=['α', 'mktrf', 'r^2', 'annual α'], index=pd.Series(['stock_capm', 'blend_capm'], \\\n",
    "name=f'{regression_source.index[0].year}/{regression_source.index[0].month}-{regression_source.index[-1].year}/{regression_source.index[-1].month}')).T"
   ]
  },
  {
   "cell_type": "markdown",
   "metadata": {},
   "source": [
    "SVC regression"
   ]
  },
  {
   "cell_type": "code",
   "execution_count": 60,
   "metadata": {},
   "outputs": [],
   "source": [
    "stock_svc = sm.OLS(regression_source.stock_fund - regression_source.rf, regression_source[['α', 'mktrf', 'smb', 'vmg']]).fit()\n",
    "blend_svc = sm.OLS(regression_source.blend_fund - regression_source.rf, regression_source[['α', 'mktrf', 'smb', 'vmg']]).fit()"
   ]
  },
  {
   "cell_type": "code",
   "execution_count": 61,
   "metadata": {},
   "outputs": [
    {
     "data": {
      "text/html": [
       "<div>\n",
       "<style scoped>\n",
       "    .dataframe tbody tr th:only-of-type {\n",
       "        vertical-align: middle;\n",
       "    }\n",
       "\n",
       "    .dataframe tbody tr th {\n",
       "        vertical-align: top;\n",
       "    }\n",
       "\n",
       "    .dataframe thead th {\n",
       "        text-align: right;\n",
       "    }\n",
       "</style>\n",
       "<table border=\"1\" class=\"dataframe\">\n",
       "  <thead>\n",
       "    <tr style=\"text-align: right;\">\n",
       "      <th>2005/6-2022/9</th>\n",
       "      <th>stock_svc</th>\n",
       "      <th>blend_svc</th>\n",
       "    </tr>\n",
       "  </thead>\n",
       "  <tbody>\n",
       "    <tr>\n",
       "      <th>α</th>\n",
       "      <td>0.323% (2.165)</td>\n",
       "      <td>0.67% (4.294)</td>\n",
       "    </tr>\n",
       "    <tr>\n",
       "      <th>mktrf</th>\n",
       "      <td>0.838 (46.938)</td>\n",
       "      <td>0.592 (31.72)</td>\n",
       "    </tr>\n",
       "    <tr>\n",
       "      <th>smb</th>\n",
       "      <td>-0.179 (-5.55)</td>\n",
       "      <td>-0.063 (-1.867)</td>\n",
       "    </tr>\n",
       "    <tr>\n",
       "      <th>vmg</th>\n",
       "      <td>-0.024 (-0.569)</td>\n",
       "      <td>-0.263 (-5.967)</td>\n",
       "    </tr>\n",
       "    <tr>\n",
       "      <th>r^2</th>\n",
       "      <td>0.919562</td>\n",
       "      <td>0.856929</td>\n",
       "    </tr>\n",
       "    <tr>\n",
       "      <th>annual α</th>\n",
       "      <td>3.95%</td>\n",
       "      <td>8.35%</td>\n",
       "    </tr>\n",
       "  </tbody>\n",
       "</table>\n",
       "</div>"
      ],
      "text/plain": [
       "2005/6-2022/9        stock_svc        blend_svc\n",
       "α               0.323% (2.165)    0.67% (4.294)\n",
       "mktrf           0.838 (46.938)    0.592 (31.72)\n",
       "smb             -0.179 (-5.55)  -0.063 (-1.867)\n",
       "vmg            -0.024 (-0.569)  -0.263 (-5.967)\n",
       "r^2                   0.919562         0.856929\n",
       "annual α                 3.95%            8.35%"
      ]
     },
     "execution_count": 61,
     "metadata": {},
     "output_type": "execute_result"
    }
   ],
   "source": [
    "pd.DataFrame(\n",
    "[\n",
    "[float_to_percent(stock_svc.params[0]) + ' (' + str(stock_svc.tvalues.iloc[0].round(3)) + ')', \\\n",
    "    str(stock_svc.params[1].round(3)) + ' (' + str(stock_svc.tvalues.iloc[1].round(3)) + ')', \\\n",
    "        str(stock_svc.params[2].round(3)) + ' (' + str(stock_svc.tvalues.iloc[2].round(3)) + ')', \\\n",
    "            str(stock_svc.params[3].round(3)) + ' (' + str(stock_svc.tvalues.iloc[3].round(3)) + ')', \\\n",
    "                stock_svc.rsquared, yearly_return(stock_svc)],\n",
    "[float_to_percent(blend_svc.params[0]) + ' (' + str(blend_svc.tvalues.iloc[0].round(3)) + ')', \\\n",
    "    str(blend_svc.params[1].round(3)) + ' (' + str(blend_svc.tvalues.iloc[1].round(3)) + ')', \\\n",
    "        str(blend_svc.params[2].round(3)) + ' (' + str(blend_svc.tvalues.iloc[2].round(3)) + ')', \\\n",
    "            str(blend_svc.params[3].round(3)) + ' (' + str(blend_svc.tvalues.iloc[3].round(3)) + ')', \\\n",
    "                blend_svc.rsquared, yearly_return(blend_svc)],\n",
    "],\n",
    "# 乘100\n",
    "columns=['α', 'mktrf', 'smb', 'vmg', 'r^2', 'annual α'], index=pd.Series(['stock_svc', 'blend_svc'], \\\n",
    "name=f'{regression_source.index[0].year}/{regression_source.index[0].month}-{regression_source.index[-1].year}/{regression_source.index[-1].month}')).T"
   ]
  },
  {
   "cell_type": "code",
   "execution_count": 62,
   "metadata": {},
   "outputs": [],
   "source": [
    "X = regression_source[['α', 'mktrf', 'smb', 'vmg']]\n",
    "y = regression_source.stock_fund - regression_source.rf"
   ]
  },
  {
   "cell_type": "markdown",
   "metadata": {},
   "source": [
    "$\\vec{\\hat{y}} = \\boldsymbol{X}\\vec{\\hat{β}}$\n",
    "\n",
    "$SSE = \\sum_{i=1}^{n}(y_i-\\hat{y_i})^2$"
   ]
  },
  {
   "cell_type": "code",
   "execution_count": 63,
   "metadata": {},
   "outputs": [],
   "source": [
    "SSE = ((y - X @ stock_svc.params) ** 2).sum()"
   ]
  },
  {
   "cell_type": "markdown",
   "metadata": {},
   "source": [
    "$\\hat{σ}=\\sqrt{\\dfrac{SSE}{n-p-1}}$"
   ]
  },
  {
   "cell_type": "code",
   "execution_count": 64,
   "metadata": {},
   "outputs": [],
   "source": [
    "σ_hat = (SSE / (X.shape[0] - X.shape[1])) ** .5"
   ]
  },
  {
   "cell_type": "markdown",
   "metadata": {},
   "source": [
    "$\\vec{c_{ij}}=(\\boldsymbol{X^T}\\boldsymbol{X})^{-1}$"
   ]
  },
  {
   "cell_type": "code",
   "execution_count": 65,
   "metadata": {},
   "outputs": [],
   "source": [
    "c_ii = np.linalg.inv(X.T @ X).diagonal()"
   ]
  },
  {
   "cell_type": "markdown",
   "metadata": {},
   "source": [
    "$\\vec{t}=\\dfrac{\\vec{\\hat{β}}}{\\sqrt{\\vec{c_{ij}}}\\hat{σ}}$"
   ]
  },
  {
   "cell_type": "code",
   "execution_count": 66,
   "metadata": {},
   "outputs": [
    {
     "data": {
      "text/plain": [
       "α         2.164585\n",
       "mktrf    46.937742\n",
       "smb      -5.549842\n",
       "vmg      -0.569241\n",
       "dtype: float64"
      ]
     },
     "execution_count": 66,
     "metadata": {},
     "output_type": "execute_result"
    }
   ],
   "source": [
    "stock_svc.params / (c_ii  ** .5 * σ_hat)"
   ]
  },
  {
   "cell_type": "markdown",
   "metadata": {},
   "source": [
    "## **V. Fund Evaluation**"
   ]
  },
  {
   "cell_type": "markdown",
   "metadata": {},
   "source": [
    "### Method"
   ]
  },
  {
   "cell_type": "markdown",
   "metadata": {},
   "source": [
    "step1, α, 每支基金，2005-2022滚动回归，窗口期3年，得到α面板数据\n",
    "\n",
    "| date/fund | fund1 | fund2 | fund3 |\n",
    "| --------- | ----- | ----- | ----- |\n",
    "| date1     | 0.1   | 0.1   | 0.1   |\n",
    "| date2     | 0.1   | 0.1   | 0.1   |\n",
    "| date3     | 0.1   | 0.1   | 0.1   |"
   ]
  },
  {
   "cell_type": "markdown",
   "metadata": {},
   "source": [
    "step2, fund_list, 每个日期，对上述α面板数据分低中高3组。保留每个日期中，低中高3组α对应的3个基金组合\n",
    "\n",
    "| date/group | low                         | middle | high   |\n",
    "| ---------- | --------------------------- | ------ | ------ |\n",
    "| date1      | [ fund1, fund2, fund3, … ] | [ … ] | [ … ] |\n",
    "| date2      | [ … ]                      | [ … ] | [ … ] |\n",
    "| date3      | [ … ]                      | [ … ] | [ … ] |"
   ]
  },
  {
   "cell_type": "markdown",
   "metadata": {},
   "source": [
    "step3, return, 对上述基金列表面板数据，对每个日期、每组基金，乘以其市值加权权重（市值与权重成正比），得到加权收益率\n",
    "\n",
    "| date/group | low | middle | high |\n",
    "| ---------- | --- | ------ | ---- |\n",
    "| date1      | 0.1 | 0.1    | 0.1  |\n",
    "| date2      | 0.1 | 0.1    | 0.1  |\n",
    "| date3      | 0.1 | 0.1    | 0.1  |"
   ]
  },
  {
   "cell_type": "markdown",
   "metadata": {},
   "source": [
    "step4, summary, 对上述收益率面板数据，按基金组别，与既有模型回归\n",
    "\n",
    "| indicator/group | low | middle | high |\n",
    "| --------------- | --- | ------ | ---- |\n",
    "| α              | 0.1 | 0.1    | 0.1  |\n",
    "| t               | 1   | 1      | 1    |"
   ]
  },
  {
   "cell_type": "markdown",
   "metadata": {},
   "source": [
    "step5, summary, 整合多个模型统计结果\n",
    "\n",
    "|   model-indicator/group     | model-indicator/group | low | middle | high |\n",
    "| ------ | --------------------- | --- | ------ | ---- |\n",
    "| model1 | α                    | 0.1 | 0.1    | 0.1  |\n",
    "|        | t                     | 1   | 1      | 1    |\n",
    "| model2 | α                    | 0.1 | 0.1    | 0.1  |\n",
    "|        | t                     | 1   | 1      | 1    |\n",
    "| model3 | α                    | 0.1 | 0.1    | 0.1  |\n",
    "|        | t                     | 1   | 1      | 1    |"
   ]
  },
  {
   "cell_type": "markdown",
   "metadata": {},
   "source": [
    "### Utilities"
   ]
  },
  {
   "cell_type": "code",
   "execution_count": 67,
   "metadata": {},
   "outputs": [],
   "source": [
    "all_fund_weight = share_info_6 * nav_monthly_6\n",
    "all_fund_weight = pd.concat([all_fund_weight, \\\n",
    "    pd.DataFrame([[np.nan] * all_fund_weight.shape[1]], index=[pd.to_datetime('2023-06').to_period('M')], columns=all_fund_weight.columns)])\n",
    "all_fund_weight = all_fund_weight.resample('M').ffill()"
   ]
  },
  {
   "cell_type": "code",
   "execution_count": 68,
   "metadata": {},
   "outputs": [],
   "source": [
    "return_of_all_fund_ = (return_of_all_fund.unstack(0) - 1).loc['2005-6': '2019-6']"
   ]
  },
  {
   "cell_type": "code",
   "execution_count": 69,
   "metadata": {},
   "outputs": [],
   "source": [
    "\n",
    "\n",
    "def group_and_statistic(α_matrix, GROUPS = 5):\n",
    "\n",
    "    grouped_all_fund_α_matrix = α_matrix.apply(lambda x: \\\n",
    "        pd.qcut(x, GROUPS, labels=np.arange(GROUPS)) if pd.notna(x).sum() >= GROUPS else pd.Series([np.nan] * len(x), x.index), axis=1).dropna(how='all')\n",
    "\n",
    "    def func(x):\n",
    "        date = x.name\n",
    "        weight = all_fund_weight.loc[date]\n",
    "        return_look_forward = return_of_all_fund_.shift(-1)\n",
    "        ret = return_look_forward.loc[date]\n",
    "\n",
    "        result = pd.DataFrame([x, ret, weight], index=['rank', 'ret', 'weight']).T.dropna(subset='rank').sort_values(by='rank')\n",
    "        result['weight'] = result.groupby('rank').apply(lambda y: y.weight / y.weight.sum()).values\n",
    "        result = result.groupby('rank').apply(lambda y: (y.ret * y.weight).sum())\n",
    "        return result\n",
    "\n",
    "    grouped_all_fund_α_matrix_return = grouped_all_fund_α_matrix.apply(func, axis=1)\n",
    "\n",
    "\n",
    "    # RS denotes regression source\n",
    "    RS_α = pd.merge(grouped_all_fund_α_matrix_return, regression_source, on='Date')\n",
    "    RS_α[['stock_fund', 'mktrf', 'rf', 'smb', 'vmg', 'blend_fund']] = RS_α[['stock_fund', 'mktrf', 'rf', 'smb', 'vmg', 'blend_fund']].shift(-1)\n",
    "    RS_α = RS_α.iloc[:-1]\n",
    "\n",
    "    regressors = [\n",
    "        ['α'],\n",
    "        ['α', 'mktrf'],\n",
    "        ['α', 'mktrf', 'smb', 'vmg']\n",
    "        ]\n",
    "        \n",
    "    results = []\n",
    "\n",
    "    for regressor in regressors:\n",
    "\n",
    "        for group in range(GROUPS):\n",
    "            temp = sm.OLS(RS_α[group] - RS_α.rf, RS_α[regressor]).fit()\n",
    "            results.append([float_to_percent(temp.params[0]), yearly_return(temp), temp.tvalues[0].round(3), temp.rsquared.round(3)])\n",
    "        # remove r_f\n",
    "        temp = sm.OLS(RS_α[GROUPS - 1] - RS_α[0], RS_α[regressor]).fit()\n",
    "        results.append([float_to_percent(temp.params[0]), yearly_return(temp), temp.tvalues[0].round(3), temp.rsquared.round(3)])\n",
    "\n",
    "    excess_result, capm_α_result, svc_α_result = results[0: GROUPS + 1], results[GROUPS + 1: 2 * GROUPS + 2], results[2 * GROUPS + 2: 3 * GROUPS + 3]\n",
    "\n",
    "    excess_result = pd.DataFrame(np.array(excess_result).T, \\\n",
    "        index=pd.MultiIndex.from_product([['excess'], ['α (monthly)', 'annual α', 't', 'R^2']]), columns=['group' + str(i) for i in range(GROUPS)] + ['long-short'])\n",
    "    capm_α_result = pd.DataFrame(np.array(capm_α_result).T, \\\n",
    "        index=pd.MultiIndex.from_product([['capm α'], ['α (monthly)', 'annual α', 't', 'R^2']]), columns=['group' + str(i) for i in range(GROUPS)] + ['long-short'])\n",
    "    svc_α_result = pd.DataFrame(np.array(svc_α_result).T, \\\n",
    "        index=pd.MultiIndex.from_product([['svc α'], ['α (monthly)', 'annual α', 't', 'R^2']]), columns=['group' + str(i) for i in range(GROUPS)] + ['long-short'])\n",
    "\n",
    "    return pd.concat([excess_result, capm_α_result, svc_α_result])\n",
    "\n",
    "\n",
    "def fund_ended_check(α_operation):\n",
    "    def check_filter(x):\n",
    "        if pd.notna(x[-1]):\n",
    "            # if the fund is running now\n",
    "            return α_operation(x)\n",
    "        else:\n",
    "            # if the fund is shut down\n",
    "            return np.nan\n",
    "    return check_filter\n",
    "\n",
    "\n",
    "@fund_ended_check\n",
    "def α_na_ratio(x):\n",
    "\n",
    "    window_length = len(x)\n",
    "    x = x.dropna()  \n",
    "    return 1 - len(x) / window_length\n",
    "\n",
    "\n",
    "    "
   ]
  },
  {
   "cell_type": "code",
   "execution_count": 70,
   "metadata": {},
   "outputs": [
    {
     "data": {
      "text/html": [
       "<div>\n",
       "<style scoped>\n",
       "    .dataframe tbody tr th:only-of-type {\n",
       "        vertical-align: middle;\n",
       "    }\n",
       "\n",
       "    .dataframe tbody tr th {\n",
       "        vertical-align: top;\n",
       "    }\n",
       "\n",
       "    .dataframe thead th {\n",
       "        text-align: right;\n",
       "    }\n",
       "</style>\n",
       "<table border=\"1\" class=\"dataframe\">\n",
       "  <thead>\n",
       "    <tr style=\"text-align: right;\">\n",
       "      <th>Symbol</th>\n",
       "      <th>000001</th>\n",
       "      <th>000006</th>\n",
       "      <th>000011</th>\n",
       "      <th>000017</th>\n",
       "      <th>000020</th>\n",
       "      <th>000021</th>\n",
       "      <th>000029</th>\n",
       "      <th>000030</th>\n",
       "      <th>000031</th>\n",
       "      <th>000039</th>\n",
       "      <th>...</th>\n",
       "      <th>960016</th>\n",
       "      <th>960018</th>\n",
       "      <th>960020</th>\n",
       "      <th>960021</th>\n",
       "      <th>960022</th>\n",
       "      <th>960023</th>\n",
       "      <th>960024</th>\n",
       "      <th>960026</th>\n",
       "      <th>960028</th>\n",
       "      <th>960033</th>\n",
       "    </tr>\n",
       "    <tr>\n",
       "      <th>Date</th>\n",
       "      <th></th>\n",
       "      <th></th>\n",
       "      <th></th>\n",
       "      <th></th>\n",
       "      <th></th>\n",
       "      <th></th>\n",
       "      <th></th>\n",
       "      <th></th>\n",
       "      <th></th>\n",
       "      <th></th>\n",
       "      <th></th>\n",
       "      <th></th>\n",
       "      <th></th>\n",
       "      <th></th>\n",
       "      <th></th>\n",
       "      <th></th>\n",
       "      <th></th>\n",
       "      <th></th>\n",
       "      <th></th>\n",
       "      <th></th>\n",
       "      <th></th>\n",
       "    </tr>\n",
       "  </thead>\n",
       "  <tbody>\n",
       "    <tr>\n",
       "      <th>2005-06</th>\n",
       "      <td>0.0</td>\n",
       "      <td>NaN</td>\n",
       "      <td>NaN</td>\n",
       "      <td>NaN</td>\n",
       "      <td>NaN</td>\n",
       "      <td>NaN</td>\n",
       "      <td>NaN</td>\n",
       "      <td>NaN</td>\n",
       "      <td>NaN</td>\n",
       "      <td>NaN</td>\n",
       "      <td>...</td>\n",
       "      <td>NaN</td>\n",
       "      <td>NaN</td>\n",
       "      <td>NaN</td>\n",
       "      <td>NaN</td>\n",
       "      <td>NaN</td>\n",
       "      <td>NaN</td>\n",
       "      <td>NaN</td>\n",
       "      <td>NaN</td>\n",
       "      <td>NaN</td>\n",
       "      <td>NaN</td>\n",
       "    </tr>\n",
       "    <tr>\n",
       "      <th>2005-07</th>\n",
       "      <td>0.0</td>\n",
       "      <td>NaN</td>\n",
       "      <td>NaN</td>\n",
       "      <td>NaN</td>\n",
       "      <td>NaN</td>\n",
       "      <td>NaN</td>\n",
       "      <td>NaN</td>\n",
       "      <td>NaN</td>\n",
       "      <td>NaN</td>\n",
       "      <td>NaN</td>\n",
       "      <td>...</td>\n",
       "      <td>NaN</td>\n",
       "      <td>NaN</td>\n",
       "      <td>NaN</td>\n",
       "      <td>NaN</td>\n",
       "      <td>NaN</td>\n",
       "      <td>NaN</td>\n",
       "      <td>NaN</td>\n",
       "      <td>NaN</td>\n",
       "      <td>NaN</td>\n",
       "      <td>NaN</td>\n",
       "    </tr>\n",
       "    <tr>\n",
       "      <th>2005-08</th>\n",
       "      <td>0.0</td>\n",
       "      <td>NaN</td>\n",
       "      <td>NaN</td>\n",
       "      <td>NaN</td>\n",
       "      <td>NaN</td>\n",
       "      <td>NaN</td>\n",
       "      <td>NaN</td>\n",
       "      <td>NaN</td>\n",
       "      <td>NaN</td>\n",
       "      <td>NaN</td>\n",
       "      <td>...</td>\n",
       "      <td>NaN</td>\n",
       "      <td>NaN</td>\n",
       "      <td>NaN</td>\n",
       "      <td>NaN</td>\n",
       "      <td>NaN</td>\n",
       "      <td>NaN</td>\n",
       "      <td>NaN</td>\n",
       "      <td>NaN</td>\n",
       "      <td>NaN</td>\n",
       "      <td>NaN</td>\n",
       "    </tr>\n",
       "    <tr>\n",
       "      <th>2005-09</th>\n",
       "      <td>0.0</td>\n",
       "      <td>NaN</td>\n",
       "      <td>NaN</td>\n",
       "      <td>NaN</td>\n",
       "      <td>NaN</td>\n",
       "      <td>NaN</td>\n",
       "      <td>NaN</td>\n",
       "      <td>NaN</td>\n",
       "      <td>NaN</td>\n",
       "      <td>NaN</td>\n",
       "      <td>...</td>\n",
       "      <td>NaN</td>\n",
       "      <td>NaN</td>\n",
       "      <td>NaN</td>\n",
       "      <td>NaN</td>\n",
       "      <td>NaN</td>\n",
       "      <td>NaN</td>\n",
       "      <td>NaN</td>\n",
       "      <td>NaN</td>\n",
       "      <td>NaN</td>\n",
       "      <td>NaN</td>\n",
       "    </tr>\n",
       "    <tr>\n",
       "      <th>2005-10</th>\n",
       "      <td>0.0</td>\n",
       "      <td>NaN</td>\n",
       "      <td>NaN</td>\n",
       "      <td>NaN</td>\n",
       "      <td>NaN</td>\n",
       "      <td>NaN</td>\n",
       "      <td>NaN</td>\n",
       "      <td>NaN</td>\n",
       "      <td>NaN</td>\n",
       "      <td>NaN</td>\n",
       "      <td>...</td>\n",
       "      <td>NaN</td>\n",
       "      <td>NaN</td>\n",
       "      <td>NaN</td>\n",
       "      <td>NaN</td>\n",
       "      <td>NaN</td>\n",
       "      <td>NaN</td>\n",
       "      <td>NaN</td>\n",
       "      <td>NaN</td>\n",
       "      <td>NaN</td>\n",
       "      <td>NaN</td>\n",
       "    </tr>\n",
       "    <tr>\n",
       "      <th>...</th>\n",
       "      <td>...</td>\n",
       "      <td>...</td>\n",
       "      <td>...</td>\n",
       "      <td>...</td>\n",
       "      <td>...</td>\n",
       "      <td>...</td>\n",
       "      <td>...</td>\n",
       "      <td>...</td>\n",
       "      <td>...</td>\n",
       "      <td>...</td>\n",
       "      <td>...</td>\n",
       "      <td>...</td>\n",
       "      <td>...</td>\n",
       "      <td>...</td>\n",
       "      <td>...</td>\n",
       "      <td>...</td>\n",
       "      <td>...</td>\n",
       "      <td>...</td>\n",
       "      <td>...</td>\n",
       "      <td>...</td>\n",
       "      <td>...</td>\n",
       "    </tr>\n",
       "    <tr>\n",
       "      <th>2019-02</th>\n",
       "      <td>0.0</td>\n",
       "      <td>NaN</td>\n",
       "      <td>0.0</td>\n",
       "      <td>0.0</td>\n",
       "      <td>0.0</td>\n",
       "      <td>0.0</td>\n",
       "      <td>NaN</td>\n",
       "      <td>NaN</td>\n",
       "      <td>0.0</td>\n",
       "      <td>0.0</td>\n",
       "      <td>...</td>\n",
       "      <td>0.277778</td>\n",
       "      <td>0.277778</td>\n",
       "      <td>0.277778</td>\n",
       "      <td>0.777778</td>\n",
       "      <td>NaN</td>\n",
       "      <td>NaN</td>\n",
       "      <td>0.444444</td>\n",
       "      <td>NaN</td>\n",
       "      <td>0.444444</td>\n",
       "      <td>0.777778</td>\n",
       "    </tr>\n",
       "    <tr>\n",
       "      <th>2019-03</th>\n",
       "      <td>0.0</td>\n",
       "      <td>NaN</td>\n",
       "      <td>0.0</td>\n",
       "      <td>0.0</td>\n",
       "      <td>0.0</td>\n",
       "      <td>0.0</td>\n",
       "      <td>NaN</td>\n",
       "      <td>NaN</td>\n",
       "      <td>0.0</td>\n",
       "      <td>0.0</td>\n",
       "      <td>...</td>\n",
       "      <td>0.250000</td>\n",
       "      <td>0.250000</td>\n",
       "      <td>0.250000</td>\n",
       "      <td>0.750000</td>\n",
       "      <td>NaN</td>\n",
       "      <td>NaN</td>\n",
       "      <td>0.416667</td>\n",
       "      <td>NaN</td>\n",
       "      <td>0.416667</td>\n",
       "      <td>0.750000</td>\n",
       "    </tr>\n",
       "    <tr>\n",
       "      <th>2019-04</th>\n",
       "      <td>0.0</td>\n",
       "      <td>NaN</td>\n",
       "      <td>0.0</td>\n",
       "      <td>0.0</td>\n",
       "      <td>0.0</td>\n",
       "      <td>0.0</td>\n",
       "      <td>NaN</td>\n",
       "      <td>NaN</td>\n",
       "      <td>0.0</td>\n",
       "      <td>0.0</td>\n",
       "      <td>...</td>\n",
       "      <td>0.222222</td>\n",
       "      <td>0.222222</td>\n",
       "      <td>0.222222</td>\n",
       "      <td>0.722222</td>\n",
       "      <td>NaN</td>\n",
       "      <td>NaN</td>\n",
       "      <td>0.388889</td>\n",
       "      <td>NaN</td>\n",
       "      <td>0.388889</td>\n",
       "      <td>0.722222</td>\n",
       "    </tr>\n",
       "    <tr>\n",
       "      <th>2019-05</th>\n",
       "      <td>0.0</td>\n",
       "      <td>NaN</td>\n",
       "      <td>0.0</td>\n",
       "      <td>0.0</td>\n",
       "      <td>0.0</td>\n",
       "      <td>0.0</td>\n",
       "      <td>NaN</td>\n",
       "      <td>NaN</td>\n",
       "      <td>0.0</td>\n",
       "      <td>0.0</td>\n",
       "      <td>...</td>\n",
       "      <td>0.194444</td>\n",
       "      <td>0.194444</td>\n",
       "      <td>0.194444</td>\n",
       "      <td>0.694444</td>\n",
       "      <td>NaN</td>\n",
       "      <td>NaN</td>\n",
       "      <td>0.361111</td>\n",
       "      <td>NaN</td>\n",
       "      <td>0.361111</td>\n",
       "      <td>0.694444</td>\n",
       "    </tr>\n",
       "    <tr>\n",
       "      <th>2019-06</th>\n",
       "      <td>0.0</td>\n",
       "      <td>NaN</td>\n",
       "      <td>0.0</td>\n",
       "      <td>0.0</td>\n",
       "      <td>0.0</td>\n",
       "      <td>0.0</td>\n",
       "      <td>0.333333</td>\n",
       "      <td>NaN</td>\n",
       "      <td>0.0</td>\n",
       "      <td>0.0</td>\n",
       "      <td>...</td>\n",
       "      <td>0.166667</td>\n",
       "      <td>0.166667</td>\n",
       "      <td>0.166667</td>\n",
       "      <td>0.666667</td>\n",
       "      <td>NaN</td>\n",
       "      <td>NaN</td>\n",
       "      <td>0.333333</td>\n",
       "      <td>NaN</td>\n",
       "      <td>0.333333</td>\n",
       "      <td>0.666667</td>\n",
       "    </tr>\n",
       "  </tbody>\n",
       "</table>\n",
       "<p>169 rows × 5286 columns</p>\n",
       "</div>"
      ],
      "text/plain": [
       "Symbol   000001  000006  000011  000017  000020  000021    000029  000030  \\\n",
       "Date                                                                        \n",
       "2005-06     0.0     NaN     NaN     NaN     NaN     NaN       NaN     NaN   \n",
       "2005-07     0.0     NaN     NaN     NaN     NaN     NaN       NaN     NaN   \n",
       "2005-08     0.0     NaN     NaN     NaN     NaN     NaN       NaN     NaN   \n",
       "2005-09     0.0     NaN     NaN     NaN     NaN     NaN       NaN     NaN   \n",
       "2005-10     0.0     NaN     NaN     NaN     NaN     NaN       NaN     NaN   \n",
       "...         ...     ...     ...     ...     ...     ...       ...     ...   \n",
       "2019-02     0.0     NaN     0.0     0.0     0.0     0.0       NaN     NaN   \n",
       "2019-03     0.0     NaN     0.0     0.0     0.0     0.0       NaN     NaN   \n",
       "2019-04     0.0     NaN     0.0     0.0     0.0     0.0       NaN     NaN   \n",
       "2019-05     0.0     NaN     0.0     0.0     0.0     0.0       NaN     NaN   \n",
       "2019-06     0.0     NaN     0.0     0.0     0.0     0.0  0.333333     NaN   \n",
       "\n",
       "Symbol   000031  000039  ...    960016    960018    960020    960021  960022  \\\n",
       "Date                     ...                                                   \n",
       "2005-06     NaN     NaN  ...       NaN       NaN       NaN       NaN     NaN   \n",
       "2005-07     NaN     NaN  ...       NaN       NaN       NaN       NaN     NaN   \n",
       "2005-08     NaN     NaN  ...       NaN       NaN       NaN       NaN     NaN   \n",
       "2005-09     NaN     NaN  ...       NaN       NaN       NaN       NaN     NaN   \n",
       "2005-10     NaN     NaN  ...       NaN       NaN       NaN       NaN     NaN   \n",
       "...         ...     ...  ...       ...       ...       ...       ...     ...   \n",
       "2019-02     0.0     0.0  ...  0.277778  0.277778  0.277778  0.777778     NaN   \n",
       "2019-03     0.0     0.0  ...  0.250000  0.250000  0.250000  0.750000     NaN   \n",
       "2019-04     0.0     0.0  ...  0.222222  0.222222  0.222222  0.722222     NaN   \n",
       "2019-05     0.0     0.0  ...  0.194444  0.194444  0.194444  0.694444     NaN   \n",
       "2019-06     0.0     0.0  ...  0.166667  0.166667  0.166667  0.666667     NaN   \n",
       "\n",
       "Symbol   960023    960024  960026    960028    960033  \n",
       "Date                                                   \n",
       "2005-06     NaN       NaN     NaN       NaN       NaN  \n",
       "2005-07     NaN       NaN     NaN       NaN       NaN  \n",
       "2005-08     NaN       NaN     NaN       NaN       NaN  \n",
       "2005-09     NaN       NaN     NaN       NaN       NaN  \n",
       "2005-10     NaN       NaN     NaN       NaN       NaN  \n",
       "...         ...       ...     ...       ...       ...  \n",
       "2019-02     NaN  0.444444     NaN  0.444444  0.777778  \n",
       "2019-03     NaN  0.416667     NaN  0.416667  0.750000  \n",
       "2019-04     NaN  0.388889     NaN  0.388889  0.722222  \n",
       "2019-05     NaN  0.361111     NaN  0.361111  0.694444  \n",
       "2019-06     NaN  0.333333     NaN  0.333333  0.666667  \n",
       "\n",
       "[169 rows x 5286 columns]"
      ]
     },
     "execution_count": 70,
     "metadata": {},
     "output_type": "execute_result"
    }
   ],
   "source": [
    "MAX_NA_NUM = 35\n",
    "\n",
    "return_of_all_fund_na_ratio = return_of_all_fund_.rolling(window = 36, min_periods = 36 - MAX_NA_NUM).apply(α_na_ratio)\n",
    "return_of_all_fund_na_ratio"
   ]
  },
  {
   "cell_type": "markdown",
   "metadata": {},
   "source": [
    "### last 3 years' excess return on CAPM"
   ]
  },
  {
   "cell_type": "code",
   "execution_count": 69,
   "metadata": {},
   "outputs": [],
   "source": [
    "@fund_ended_check\n",
    "def capm_α_generation(x):\n",
    "    x = x.dropna()  \n",
    "    temp_dates = x.index\n",
    "    temp_regression = regression_source.loc[temp_dates]\n",
    "    α = sm.OLS(x - temp_regression.rf, temp_regression[['α', 'mktrf']]).fit().params[0]\n",
    "    return α\n",
    "\n",
    "all_fund_capm_α = return_of_all_fund_.rolling(window = 36, min_periods = 36 - MAX_NA_NUM).apply(capm_α_generation)"
   ]
  },
  {
   "cell_type": "code",
   "execution_count": 70,
   "metadata": {},
   "outputs": [
    {
     "data": {
      "text/html": [
       "<div>\n",
       "<style scoped>\n",
       "    .dataframe tbody tr th:only-of-type {\n",
       "        vertical-align: middle;\n",
       "    }\n",
       "\n",
       "    .dataframe tbody tr th {\n",
       "        vertical-align: top;\n",
       "    }\n",
       "\n",
       "    .dataframe thead th {\n",
       "        text-align: right;\n",
       "    }\n",
       "</style>\n",
       "<table border=\"1\" class=\"dataframe\">\n",
       "  <thead>\n",
       "    <tr style=\"text-align: right;\">\n",
       "      <th></th>\n",
       "      <th></th>\n",
       "      <th>group0</th>\n",
       "      <th>group1</th>\n",
       "      <th>group2</th>\n",
       "      <th>group3</th>\n",
       "      <th>group4</th>\n",
       "      <th>long-short</th>\n",
       "    </tr>\n",
       "  </thead>\n",
       "  <tbody>\n",
       "    <tr>\n",
       "      <th rowspan=\"4\" valign=\"top\">excess</th>\n",
       "      <th>α (monthly)</th>\n",
       "      <td>0.942%</td>\n",
       "      <td>1.07%</td>\n",
       "      <td>1.08%</td>\n",
       "      <td>1.257%</td>\n",
       "      <td>1.205%</td>\n",
       "      <td>0.263%</td>\n",
       "    </tr>\n",
       "    <tr>\n",
       "      <th>annual α</th>\n",
       "      <td>11.91%</td>\n",
       "      <td>13.63%</td>\n",
       "      <td>13.76%</td>\n",
       "      <td>16.17%</td>\n",
       "      <td>15.45%</td>\n",
       "      <td>3.2%</td>\n",
       "    </tr>\n",
       "    <tr>\n",
       "      <th>t</th>\n",
       "      <td>1.686</td>\n",
       "      <td>1.907</td>\n",
       "      <td>1.933</td>\n",
       "      <td>2.232</td>\n",
       "      <td>2.075</td>\n",
       "      <td>1.482</td>\n",
       "    </tr>\n",
       "    <tr>\n",
       "      <th>R^2</th>\n",
       "      <td>-0.0</td>\n",
       "      <td>0.0</td>\n",
       "      <td>-0.0</td>\n",
       "      <td>0.0</td>\n",
       "      <td>-0.0</td>\n",
       "      <td>-0.0</td>\n",
       "    </tr>\n",
       "    <tr>\n",
       "      <th rowspan=\"4\" valign=\"top\">capm α</th>\n",
       "      <th>α (monthly)</th>\n",
       "      <td>0.091%</td>\n",
       "      <td>0.222%</td>\n",
       "      <td>0.243%</td>\n",
       "      <td>0.471%</td>\n",
       "      <td>0.377%</td>\n",
       "      <td>0.286%</td>\n",
       "    </tr>\n",
       "    <tr>\n",
       "      <th>annual α</th>\n",
       "      <td>1.1%</td>\n",
       "      <td>2.69%</td>\n",
       "      <td>2.95%</td>\n",
       "      <td>5.8%</td>\n",
       "      <td>4.62%</td>\n",
       "      <td>3.49%</td>\n",
       "    </tr>\n",
       "    <tr>\n",
       "      <th>t</th>\n",
       "      <td>0.646</td>\n",
       "      <td>1.416</td>\n",
       "      <td>1.41</td>\n",
       "      <td>1.791</td>\n",
       "      <td>1.52</td>\n",
       "      <td>1.605</td>\n",
       "    </tr>\n",
       "    <tr>\n",
       "      <th>R^2</th>\n",
       "      <td>0.938</td>\n",
       "      <td>0.924</td>\n",
       "      <td>0.907</td>\n",
       "      <td>0.787</td>\n",
       "      <td>0.821</td>\n",
       "      <td>0.007</td>\n",
       "    </tr>\n",
       "    <tr>\n",
       "      <th rowspan=\"4\" valign=\"top\">svc α</th>\n",
       "      <th>α (monthly)</th>\n",
       "      <td>0.159%</td>\n",
       "      <td>0.323%</td>\n",
       "      <td>0.405%</td>\n",
       "      <td>0.524%</td>\n",
       "      <td>0.645%</td>\n",
       "      <td>0.486%</td>\n",
       "    </tr>\n",
       "    <tr>\n",
       "      <th>annual α</th>\n",
       "      <td>1.92%</td>\n",
       "      <td>3.94%</td>\n",
       "      <td>4.97%</td>\n",
       "      <td>6.47%</td>\n",
       "      <td>8.02%</td>\n",
       "      <td>5.99%</td>\n",
       "    </tr>\n",
       "    <tr>\n",
       "      <th>t</th>\n",
       "      <td>0.996</td>\n",
       "      <td>1.812</td>\n",
       "      <td>2.092</td>\n",
       "      <td>1.713</td>\n",
       "      <td>2.346</td>\n",
       "      <td>2.41</td>\n",
       "    </tr>\n",
       "    <tr>\n",
       "      <th>R^2</th>\n",
       "      <td>0.942</td>\n",
       "      <td>0.928</td>\n",
       "      <td>0.914</td>\n",
       "      <td>0.788</td>\n",
       "      <td>0.839</td>\n",
       "      <td>0.07</td>\n",
       "    </tr>\n",
       "  </tbody>\n",
       "</table>\n",
       "</div>"
      ],
      "text/plain": [
       "                    group0  group1  group2  group3  group4 long-short\n",
       "excess α (monthly)  0.942%   1.07%   1.08%  1.257%  1.205%     0.263%\n",
       "       annual α     11.91%  13.63%  13.76%  16.17%  15.45%       3.2%\n",
       "       t             1.686   1.907   1.933   2.232   2.075      1.482\n",
       "       R^2            -0.0     0.0    -0.0     0.0    -0.0       -0.0\n",
       "capm α α (monthly)  0.091%  0.222%  0.243%  0.471%  0.377%     0.286%\n",
       "       annual α       1.1%   2.69%   2.95%    5.8%   4.62%      3.49%\n",
       "       t             0.646   1.416    1.41   1.791    1.52      1.605\n",
       "       R^2           0.938   0.924   0.907   0.787   0.821      0.007\n",
       "svc α  α (monthly)  0.159%  0.323%  0.405%  0.524%  0.645%     0.486%\n",
       "       annual α      1.92%   3.94%   4.97%   6.47%   8.02%      5.99%\n",
       "       t             0.996   1.812   2.092   1.713   2.346       2.41\n",
       "       R^2           0.942   0.928   0.914   0.788   0.839       0.07"
      ]
     },
     "execution_count": 70,
     "metadata": {},
     "output_type": "execute_result"
    }
   ],
   "source": [
    "group_and_statistic(all_fund_capm_α)"
   ]
  },
  {
   "cell_type": "markdown",
   "metadata": {},
   "source": [
    "### last 3 years' excess return on SVC"
   ]
  },
  {
   "cell_type": "code",
   "execution_count": 71,
   "metadata": {},
   "outputs": [],
   "source": [
    "@fund_ended_check\n",
    "def svc_α_generation(x):\n",
    "    x = x.dropna()  \n",
    "    temp_dates = x.index\n",
    "    temp_regression = regression_source.loc[temp_dates]\n",
    "    α = sm.OLS(x - temp_regression.rf, temp_regression[['α', 'mktrf', 'smb', 'vmg']]).fit().params[0]\n",
    "    return α\n",
    "\n",
    "all_fund_svc_α = return_of_all_fund_.rolling(window = 36, min_periods = 36 - MAX_NA_NUM).apply(svc_α_generation)"
   ]
  },
  {
   "cell_type": "code",
   "execution_count": 72,
   "metadata": {},
   "outputs": [
    {
     "data": {
      "text/html": [
       "<div>\n",
       "<style scoped>\n",
       "    .dataframe tbody tr th:only-of-type {\n",
       "        vertical-align: middle;\n",
       "    }\n",
       "\n",
       "    .dataframe tbody tr th {\n",
       "        vertical-align: top;\n",
       "    }\n",
       "\n",
       "    .dataframe thead th {\n",
       "        text-align: right;\n",
       "    }\n",
       "</style>\n",
       "<table border=\"1\" class=\"dataframe\">\n",
       "  <thead>\n",
       "    <tr style=\"text-align: right;\">\n",
       "      <th></th>\n",
       "      <th></th>\n",
       "      <th>group0</th>\n",
       "      <th>group1</th>\n",
       "      <th>group2</th>\n",
       "      <th>group3</th>\n",
       "      <th>group4</th>\n",
       "      <th>long-short</th>\n",
       "    </tr>\n",
       "  </thead>\n",
       "  <tbody>\n",
       "    <tr>\n",
       "      <th rowspan=\"4\" valign=\"top\">excess</th>\n",
       "      <th>α (monthly)</th>\n",
       "      <td>0.957%</td>\n",
       "      <td>1.064%</td>\n",
       "      <td>1.071%</td>\n",
       "      <td>1.308%</td>\n",
       "      <td>1.134%</td>\n",
       "      <td>0.177%</td>\n",
       "    </tr>\n",
       "    <tr>\n",
       "      <th>annual α</th>\n",
       "      <td>12.11%</td>\n",
       "      <td>13.54%</td>\n",
       "      <td>13.63%</td>\n",
       "      <td>16.88%</td>\n",
       "      <td>14.49%</td>\n",
       "      <td>2.15%</td>\n",
       "    </tr>\n",
       "    <tr>\n",
       "      <th>t</th>\n",
       "      <td>1.682</td>\n",
       "      <td>1.932</td>\n",
       "      <td>1.941</td>\n",
       "      <td>2.25</td>\n",
       "      <td>1.975</td>\n",
       "      <td>1.055</td>\n",
       "    </tr>\n",
       "    <tr>\n",
       "      <th>R^2</th>\n",
       "      <td>-0.0</td>\n",
       "      <td>-0.0</td>\n",
       "      <td>-0.0</td>\n",
       "      <td>0.0</td>\n",
       "      <td>-0.0</td>\n",
       "      <td>0.0</td>\n",
       "    </tr>\n",
       "    <tr>\n",
       "      <th rowspan=\"4\" valign=\"top\">capm α</th>\n",
       "      <th>α (monthly)</th>\n",
       "      <td>0.091%</td>\n",
       "      <td>0.229%</td>\n",
       "      <td>0.243%</td>\n",
       "      <td>0.51%</td>\n",
       "      <td>0.311%</td>\n",
       "      <td>0.22%</td>\n",
       "    </tr>\n",
       "    <tr>\n",
       "      <th>annual α</th>\n",
       "      <td>1.1%</td>\n",
       "      <td>2.79%</td>\n",
       "      <td>2.96%</td>\n",
       "      <td>6.3%</td>\n",
       "      <td>3.8%</td>\n",
       "      <td>2.67%</td>\n",
       "    </tr>\n",
       "    <tr>\n",
       "      <th>t</th>\n",
       "      <td>0.626</td>\n",
       "      <td>1.531</td>\n",
       "      <td>1.442</td>\n",
       "      <td>1.777</td>\n",
       "      <td>1.302</td>\n",
       "      <td>1.315</td>\n",
       "    </tr>\n",
       "    <tr>\n",
       "      <th>R^2</th>\n",
       "      <td>0.936</td>\n",
       "      <td>0.927</td>\n",
       "      <td>0.908</td>\n",
       "      <td>0.761</td>\n",
       "      <td>0.83</td>\n",
       "      <td>0.026</td>\n",
       "    </tr>\n",
       "    <tr>\n",
       "      <th rowspan=\"4\" valign=\"top\">svc α</th>\n",
       "      <th>α (monthly)</th>\n",
       "      <td>0.039%</td>\n",
       "      <td>0.242%</td>\n",
       "      <td>0.4%</td>\n",
       "      <td>0.6%</td>\n",
       "      <td>0.661%</td>\n",
       "      <td>0.621%</td>\n",
       "    </tr>\n",
       "    <tr>\n",
       "      <th>annual α</th>\n",
       "      <td>0.47%</td>\n",
       "      <td>2.94%</td>\n",
       "      <td>4.91%</td>\n",
       "      <td>7.44%</td>\n",
       "      <td>8.22%</td>\n",
       "      <td>7.71%</td>\n",
       "    </tr>\n",
       "    <tr>\n",
       "      <th>t</th>\n",
       "      <td>0.233</td>\n",
       "      <td>1.401</td>\n",
       "      <td>2.127</td>\n",
       "      <td>1.799</td>\n",
       "      <td>2.541</td>\n",
       "      <td>3.648</td>\n",
       "    </tr>\n",
       "    <tr>\n",
       "      <th>R^2</th>\n",
       "      <td>0.937</td>\n",
       "      <td>0.93</td>\n",
       "      <td>0.916</td>\n",
       "      <td>0.764</td>\n",
       "      <td>0.853</td>\n",
       "      <td>0.263</td>\n",
       "    </tr>\n",
       "  </tbody>\n",
       "</table>\n",
       "</div>"
      ],
      "text/plain": [
       "                    group0  group1  group2  group3  group4 long-short\n",
       "excess α (monthly)  0.957%  1.064%  1.071%  1.308%  1.134%     0.177%\n",
       "       annual α     12.11%  13.54%  13.63%  16.88%  14.49%      2.15%\n",
       "       t             1.682   1.932   1.941    2.25   1.975      1.055\n",
       "       R^2            -0.0    -0.0    -0.0     0.0    -0.0        0.0\n",
       "capm α α (monthly)  0.091%  0.229%  0.243%   0.51%  0.311%      0.22%\n",
       "       annual α       1.1%   2.79%   2.96%    6.3%    3.8%      2.67%\n",
       "       t             0.626   1.531   1.442   1.777   1.302      1.315\n",
       "       R^2           0.936   0.927   0.908   0.761    0.83      0.026\n",
       "svc α  α (monthly)  0.039%  0.242%    0.4%    0.6%  0.661%     0.621%\n",
       "       annual α      0.47%   2.94%   4.91%   7.44%   8.22%      7.71%\n",
       "       t             0.233   1.401   2.127   1.799   2.541      3.648\n",
       "       R^2           0.937    0.93   0.916   0.764   0.853      0.263"
      ]
     },
     "execution_count": 72,
     "metadata": {},
     "output_type": "execute_result"
    }
   ],
   "source": [
    "group_and_statistic(all_fund_svc_α)"
   ]
  },
  {
   "cell_type": "markdown",
   "metadata": {},
   "source": [
    "### industry concentration"
   ]
  },
  {
   "cell_type": "code",
   "execution_count": 71,
   "metadata": {},
   "outputs": [],
   "source": [
    "classification = pd.read_csv('data/CSMAR/TRD_Co.csv')"
   ]
  },
  {
   "cell_type": "code",
   "execution_count": 105,
   "metadata": {},
   "outputs": [],
   "source": [
    "invest_detail = ddf.read_csv('data/CSMAR/invest_detail/*', low_memory=False, dtype={'Symbol': 'object'}).compute()\n",
    "invest_detail = invest_detail.rename(columns={'Symbol': 'Stkcd'})\n",
    "def aboard_stock(x):\n",
    "    try:\n",
    "        int(x)\n",
    "        return False\n",
    "    except:\n",
    "        return True\n",
    "\n",
    "# 1.8% aboard_stock dropped\n",
    "aboard_stock_filter = invest_detail.Stkcd.apply(aboard_stock)\n",
    "invest_detail = invest_detail[~ aboard_stock_filter]\n",
    "invest_detail = pd.merge(invest_detail, symbol_code_mapping.groupby('MasterFundCode').last(), on='MasterFundCode', how='left', validate='m:1')\n",
    "invest_detail['Stkcd'] = invest_detail.Stkcd.astype(int)\n",
    "invest_detail = pd.merge(invest_detail, classification[['Stkcd', 'Indnme']], on='Stkcd', validate='m:1')\n",
    "\n",
    "invest_detail = invest_detail.rename(columns={'EndDate': 'Date'})\n",
    "invest_detail['Date'] = pd.to_datetime(invest_detail.Date).dt.to_period('M')\n",
    "\n",
    "invest_detail = invest_detail[['Date', 'Symbol', 'Indnme', 'Proportion', 'ReportTypeID', 'Stkcd', 'StockName']]\n",
    "invest_industry_sum = invest_detail.groupby(['Symbol', 'Date', 'Indnme']).apply(lambda x: x.Proportion.sum())\n",
    "\n",
    "invest_industry_proportion = invest_industry_sum / invest_industry_sum.groupby(level=[0, 1]).sum()\n",
    "invest_industry_proportion = invest_industry_proportion.unstack(level=[0, 2]).resample('M').ffill().fillna(method='ffill')\n",
    "invest_industry_proportion = invest_industry_proportion.stack(0).swaplevel().sort_index().fillna(0)"
   ]
  },
  {
   "cell_type": "code",
   "execution_count": 116,
   "metadata": {},
   "outputs": [
    {
     "data": {
      "text/html": [
       "<div>\n",
       "<style scoped>\n",
       "    .dataframe tbody tr th:only-of-type {\n",
       "        vertical-align: middle;\n",
       "    }\n",
       "\n",
       "    .dataframe tbody tr th {\n",
       "        vertical-align: top;\n",
       "    }\n",
       "\n",
       "    .dataframe thead th {\n",
       "        text-align: right;\n",
       "    }\n",
       "</style>\n",
       "<table border=\"1\" class=\"dataframe\">\n",
       "  <thead>\n",
       "    <tr style=\"text-align: right;\">\n",
       "      <th></th>\n",
       "      <th>Indnme</th>\n",
       "      <th>公用事业</th>\n",
       "      <th>商业</th>\n",
       "      <th>工业</th>\n",
       "      <th>房地产</th>\n",
       "      <th>综合</th>\n",
       "      <th>金融</th>\n",
       "    </tr>\n",
       "    <tr>\n",
       "      <th>Symbol</th>\n",
       "      <th>Date</th>\n",
       "      <th></th>\n",
       "      <th></th>\n",
       "      <th></th>\n",
       "      <th></th>\n",
       "      <th></th>\n",
       "      <th></th>\n",
       "    </tr>\n",
       "  </thead>\n",
       "  <tbody>\n",
       "    <tr>\n",
       "      <th rowspan=\"5\" valign=\"top\">000001</th>\n",
       "      <th>2002-03</th>\n",
       "      <td>0.155654</td>\n",
       "      <td>0.068701</td>\n",
       "      <td>0.613242</td>\n",
       "      <td>0.092060</td>\n",
       "      <td>0.026749</td>\n",
       "      <td>0.043595</td>\n",
       "    </tr>\n",
       "    <tr>\n",
       "      <th>2002-04</th>\n",
       "      <td>0.155306</td>\n",
       "      <td>0.068864</td>\n",
       "      <td>0.603982</td>\n",
       "      <td>0.090650</td>\n",
       "      <td>0.025712</td>\n",
       "      <td>0.055485</td>\n",
       "    </tr>\n",
       "    <tr>\n",
       "      <th>2002-05</th>\n",
       "      <td>0.159220</td>\n",
       "      <td>0.067568</td>\n",
       "      <td>0.605567</td>\n",
       "      <td>0.088785</td>\n",
       "      <td>0.024681</td>\n",
       "      <td>0.054179</td>\n",
       "    </tr>\n",
       "    <tr>\n",
       "      <th>2002-06</th>\n",
       "      <td>0.155224</td>\n",
       "      <td>0.066079</td>\n",
       "      <td>0.605700</td>\n",
       "      <td>0.090146</td>\n",
       "      <td>0.024409</td>\n",
       "      <td>0.058442</td>\n",
       "    </tr>\n",
       "    <tr>\n",
       "      <th>2002-07</th>\n",
       "      <td>0.157237</td>\n",
       "      <td>0.067617</td>\n",
       "      <td>0.601294</td>\n",
       "      <td>0.090411</td>\n",
       "      <td>0.023976</td>\n",
       "      <td>0.059465</td>\n",
       "    </tr>\n",
       "    <tr>\n",
       "      <th>...</th>\n",
       "      <th>...</th>\n",
       "      <td>...</td>\n",
       "      <td>...</td>\n",
       "      <td>...</td>\n",
       "      <td>...</td>\n",
       "      <td>...</td>\n",
       "      <td>...</td>\n",
       "    </tr>\n",
       "    <tr>\n",
       "      <th>970121</th>\n",
       "      <th>2022-09</th>\n",
       "      <td>0.124558</td>\n",
       "      <td>0.020137</td>\n",
       "      <td>0.665292</td>\n",
       "      <td>0.036775</td>\n",
       "      <td>0.012576</td>\n",
       "      <td>0.140661</td>\n",
       "    </tr>\n",
       "    <tr>\n",
       "      <th rowspan=\"4\" valign=\"top\">970126</th>\n",
       "      <th>2022-06</th>\n",
       "      <td>0.123718</td>\n",
       "      <td>0.020448</td>\n",
       "      <td>0.665322</td>\n",
       "      <td>0.036829</td>\n",
       "      <td>0.011916</td>\n",
       "      <td>0.141767</td>\n",
       "    </tr>\n",
       "    <tr>\n",
       "      <th>2022-07</th>\n",
       "      <td>0.123910</td>\n",
       "      <td>0.020222</td>\n",
       "      <td>0.673685</td>\n",
       "      <td>0.035785</td>\n",
       "      <td>0.012920</td>\n",
       "      <td>0.133478</td>\n",
       "    </tr>\n",
       "    <tr>\n",
       "      <th>2022-08</th>\n",
       "      <td>0.124436</td>\n",
       "      <td>0.020273</td>\n",
       "      <td>0.668596</td>\n",
       "      <td>0.036049</td>\n",
       "      <td>0.013248</td>\n",
       "      <td>0.137398</td>\n",
       "    </tr>\n",
       "    <tr>\n",
       "      <th>2022-09</th>\n",
       "      <td>0.124558</td>\n",
       "      <td>0.020137</td>\n",
       "      <td>0.665292</td>\n",
       "      <td>0.036775</td>\n",
       "      <td>0.012576</td>\n",
       "      <td>0.140661</td>\n",
       "    </tr>\n",
       "  </tbody>\n",
       "</table>\n",
       "<p>451255 rows × 6 columns</p>\n",
       "</div>"
      ],
      "text/plain": [
       "Indnme              公用事业        商业        工业       房地产        综合        金融\n",
       "Symbol Date                                                               \n",
       "000001 2002-03  0.155654  0.068701  0.613242  0.092060  0.026749  0.043595\n",
       "       2002-04  0.155306  0.068864  0.603982  0.090650  0.025712  0.055485\n",
       "       2002-05  0.159220  0.067568  0.605567  0.088785  0.024681  0.054179\n",
       "       2002-06  0.155224  0.066079  0.605700  0.090146  0.024409  0.058442\n",
       "       2002-07  0.157237  0.067617  0.601294  0.090411  0.023976  0.059465\n",
       "...                  ...       ...       ...       ...       ...       ...\n",
       "970121 2022-09  0.124558  0.020137  0.665292  0.036775  0.012576  0.140661\n",
       "970126 2022-06  0.123718  0.020448  0.665322  0.036829  0.011916  0.141767\n",
       "       2022-07  0.123910  0.020222  0.673685  0.035785  0.012920  0.133478\n",
       "       2022-08  0.124436  0.020273  0.668596  0.036049  0.013248  0.137398\n",
       "       2022-09  0.124558  0.020137  0.665292  0.036775  0.012576  0.140661\n",
       "\n",
       "[451255 rows x 6 columns]"
      ]
     },
     "execution_count": 116,
     "metadata": {},
     "output_type": "execute_result"
    }
   ],
   "source": [
    "month_mkt_value = pd.read_csv('data/CSMAR/TRD_Mnth.csv')\n",
    "month_mkt_value = pd.merge(month_mkt_value, classification, on='Stkcd', validate='m:1')\n",
    "month_mkt_value = month_mkt_value.groupby(['Trdmnt', 'Indnme']).apply(lambda x: x.Msmvttl.sum())\n",
    "month_mkt_value = month_mkt_value.unstack().div(month_mkt_value.unstack().sum(axis=1), axis=0).fillna(0)\n",
    "month_mkt_value.index = pd.to_datetime(month_mkt_value.index).to_period('M')\n",
    "month_mkt_value.index.name = 'Date'\n",
    "month_mkt_value = pd.merge(invest_industry_proportion.reset_index()[['Symbol', 'Date']], month_mkt_value, on='Date')\\\n",
    "    .set_index(['Symbol', 'Date']).sort_index()"
   ]
  },
  {
   "cell_type": "code",
   "execution_count": 117,
   "metadata": {},
   "outputs": [],
   "source": [
    "industry_concentration = ((invest_industry_proportion - month_mkt_value) ** 2).sum(axis=1)\n",
    "industry_concentration = industry_concentration.unstack().T\n",
    "industry_concentration"
   ]
  }
 ],
 "metadata": {
  "kernelspec": {
   "display_name": "Python 3.10.7 64-bit",
   "language": "python",
   "name": "python3"
  },
  "language_info": {
   "codemirror_mode": {
    "name": "ipython",
    "version": 3
   },
   "file_extension": ".py",
   "mimetype": "text/x-python",
   "name": "python",
   "nbconvert_exporter": "python",
   "pygments_lexer": "ipython3",
   "version": "3.10.7"
  },
  "orig_nbformat": 4,
  "vscode": {
   "interpreter": {
    "hash": "30f376259ad5d5354be6f280c6eaf9568078f04b7c7fbe2e366bcbeb41831e82"
   }
  }
 },
 "nbformat": 4,
 "nbformat_minor": 2
}
