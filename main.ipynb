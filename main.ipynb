{
 "cells": [
  {
   "cell_type": "markdown",
   "metadata": {},
   "source": [
    "from csmarapi.CsmarService import CsmarService\n",
    "csmar = CsmarService()\n",
    "from csmarapi.ReportUtil import ReportUtil"
   ]
  },
  {
   "cell_type": "markdown",
   "metadata": {},
   "source": [
    "csmar.login()"
   ]
  },
  {
   "cell_type": "code",
   "execution_count": 5,
   "metadata": {},
   "outputs": [],
   "source": [
    "import re\n",
    "from functools import reduce\n",
    "import pickle\n",
    "import pandas as pd\n",
    "import numpy as np\n",
    "import matplotlib.pyplot as plt\n",
    "import plotly.express as px\n",
    "import plotly.graph_objects as go\n",
    "from plotly.subplots import make_subplots\n",
    "from dask import dataframe as ddf\n",
    "from IPython.display import display\n",
    "\n",
    "# plt.rcParams['font.sans-serif'] = ['SimHei']\n",
    "plt.rcParams['axes.unicode_minus'] = False"
   ]
  },
  {
   "cell_type": "code",
   "execution_count": 6,
   "metadata": {},
   "outputs": [],
   "source": [
    "def round_(data : float):\n",
    "    return str(round(data, 4)*100) + '%'"
   ]
  },
  {
   "cell_type": "code",
   "execution_count": 7,
   "metadata": {},
   "outputs": [],
   "source": [
    "maininfo = pd.read_csv('data/FUND_MainInfo.csv', parse_dates=['InceptionDate'])\n",
    "maininfo['InceptionDate'] = maininfo.InceptionDate.dt.to_period('M')\n",
    "\n",
    "\n",
    "unitclassinfo = pd.read_csv('data/FUND_UnitClassInfo.csv', parse_dates=['ListingDate', 'InceptionDate'])\n",
    "unitclassinfo['InceptionDate'] = unitclassinfo.InceptionDate.dt.to_period('M')\n",
    "unitclassinfo['MasterFundCode'] = unitclassinfo.MasterFundCode.astype('Int64')\n",
    "\n",
    "\n",
    "allocation = pd.read_csv('data/Fund_Allocation.csv', parse_dates=['EndDate'])\n",
    "allocation['EndDate'] = allocation.EndDate.dt.to_period('M')\n",
    "\n",
    "\n",
    "fees = ddf.read_csv('data/管理费率/*', dtype={'Symbol': 'object', 'ProportionOfFee': 'object'}, parse_dates=['DeclareDate']).compute()\n",
    "fees['DeclareDate'] = fees.DeclareDate.dt.to_period('M')\n",
    "fees['Symbol'] = fees.Symbol.astype(int)\n",
    "fees = fees[np.logical_and(fees.NameOfFee != '最低赎回份额', fees.NameOfFee != '最低申购份额')]\n",
    "\n",
    "\n",
    "fund_dividend = pd.read_csv('data/Fund_FundDividend.csv', parse_dates=['PrimaryExDividendDate', 'SecondaryExDividendDate'])\n",
    "fund_dividend['PrimaryExDividendDate'] = fund_dividend.PrimaryExDividendDate.dt.to_period('M')\n",
    "fund_dividend['SecondaryExDividendDate'] = fund_dividend.SecondaryExDividendDate.dt.to_period('M')\n",
    "\n",
    "\n",
    "nav_month = pd.read_csv('data/Fund_NAV_Month.csv', parse_dates=['TradingDate'])\n",
    "nav_month['TradingDate'] = nav_month.TradingDate.dt.to_period('M')\n",
    "\n",
    "\n",
    "resolution = pd.read_csv('data/Fund_Resolution.csv', parse_dates=['DeclareDate'])\n",
    "resolution['DeclareDate'] = resolution.DeclareDate.dt.to_period('M')\n",
    "\n",
    "\n",
    "share_info = pd.read_csv('data/Fund_ShareChange.csv', parse_dates=['EndDate'])\n",
    "share_info['EndDate'] = share_info.EndDate.dt.to_period('M')"
   ]
  },
  {
   "cell_type": "markdown",
   "metadata": {},
   "source": [
    "### **#data-insight**"
   ]
  },
  {
   "cell_type": "markdown",
   "metadata": {},
   "source": [
    " #**1. `Symbol`, `MasterFundCode`, `FundID`?**\n",
    "\n",
    "`Symbol` is queryable in Win.d\n",
    "\n",
    "`Symbol` translates as  `前端代码(Win.d)/基金代码(CSMAR)/前端代码(CSMAR)`\n",
    "\n",
    "`Symbol == 11228` means `011228.OF`\n",
    "\n",
    "`Symbol` is not available in `FUND_MainInfo 基金概况 — 基金主体信息表`, `Fund_Allocation 基金投组 — 资产配置文件`\n",
    "\n",
    "`Symbol` may map more than one fund name, only the latest one is ongoing, **use the latest one** (checked `Win.d`)\n",
    "\n",
    "`MasterFundCode` is the first `Symbol` in ***a collection of funds***\n",
    "\n",
    "***a collection of funds, e.g.***\n",
    "\n",
    "*西部利得量化成长A, 000006.OF, 2019-03-19*\n",
    "\n",
    "*西部利得量化成长C, 011228.OF, 2021-01-13*\n",
    "\n",
    "*or*\n",
    "\n",
    "*中海可转债A, 000003.OF, 2013-03-20*\n",
    "\n",
    "*中海可转债C, 000004.OF, 2013-03-20*\n",
    "\n",
    "|            |                    | A      | C       |                          |\n",
    "| ---------- | ------------------ | ------ | ------- | ------------------------ |\n",
    "| 运作方式   | operation          | same   | same    |                          |\n",
    "| 管理费     | management fee     | same   | same    |                          |\n",
    "| 认购费     | purchase fee       | √     |         |                          |\n",
    "| 销售服务费 | sales service fees |        | √      | charge from net value |\n",
    "| 赎回费     | redemption fee    | bigger | smaller |                          |\n",
    "\n",
    "*≈60%* `MasterFundCode` has multiple symbols\n",
    "\n",
    "`MasterFundCode` can be inferred from `Symbol`\n",
    "\n",
    "`FundID` is in bijection with `MasterFundCode`\n",
    "\n",
    "`FundID` is not queryable in Win.d --> *`FundID` used by CSMAR only?*\n",
    "\n",
    "`Symbol` is not available in `FUND_MainInfo 基金概况 — 基金主体信息表`, `Fund_Allocation 基金投组 — 资产配置文件`\n",
    "\n",
    "**use `Symbol`**"
   ]
  },
  {
   "cell_type": "markdown",
   "metadata": {},
   "source": [
    " #**2. `InceptionDate`, `ListingDate`?**\n",
    " \n",
    "`InceptionDate`: 成立日期\n",
    "\n",
    "`ListingDate`: 上市日期\n",
    "\n",
    "*<10%* `ListingDate` is available\n",
    "\n",
    "*=100%* `InceptionDate` is available\n",
    "\n",
    "*≈85%* collection of funds has the same `InceptionDate`\n",
    "\n",
    "**use `InceptionDate`**"
   ]
  },
  {
   "cell_type": "markdown",
   "metadata": {},
   "source": [
    " #**3. `Equity`, `StockAmount`? `allocation` data quality**\n",
    "\n",
    "`Equity` is ≈60% the same as `StockAmount`\n",
    "\n",
    "when `StockAmount` is not available, ≈100% `Equity` is available\n",
    "\n",
    "when `Equity` is not available, ≈0% `StockAmount` is available\n",
    "\n",
    "**use `Equity`**\n",
    "\n",
    "but, ≈30% `Equity` is not available while `TotalAsset` is available\n",
    "\n",
    "固定收益类投资\n",
    "\n",
    "in the last report period, ≈30% `Equity` is not available while `TotalAsset` is available"
   ]
  },
  {
   "cell_type": "markdown",
   "metadata": {},
   "source": [
    " #**4. `unitclassinfo`, `nav_month`**\n",
    "\n",
    "检查0\n",
    "\n",
    "wrong data, in `nav_month`, ≈1.5% values are 0\n",
    "\n",
    "**`nav_month`, `unitclassinfo` both have unique symbols in itself**"
   ]
  },
  {
   "cell_type": "markdown",
   "metadata": {},
   "source": [
    " #**5. `Fund_Resolution`, `Fund_FundDividend`**\n",
    "\n",
    "≈1% fund have multiple dividend payouts in one month, `sum` them\n",
    "\n",
    "≈1% fund have multiple divisions in one month, `cumulative product` them"
   ]
  },
  {
   "cell_type": "markdown",
   "metadata": {},
   "source": [
    " #**6. `Fund_FeesChange`**\n",
    "\n",
    "≈0.01% data are duplicated\n",
    "\n",
    "compared with `Win.d`, **we should keep the first one**"
   ]
  },
  {
   "cell_type": "markdown",
   "metadata": {},
   "source": [
    "## **I. Data Preprocessing**"
   ]
  },
  {
   "cell_type": "markdown",
   "metadata": {},
   "source": [
    "### **1. align MasterFundCode, Symbol**"
   ]
  },
  {
   "cell_type": "markdown",
   "metadata": {},
   "source": [
    "#### i. check: FUND_MainInfo\n",
    "\n",
    "基金概况 — 基金主体信息表"
   ]
  },
  {
   "cell_type": "markdown",
   "metadata": {},
   "source": [
    "<span style=\"color: red\">`Symbol`/`FrontendCode` not available</span> "
   ]
  },
  {
   "cell_type": "code",
   "execution_count": 8,
   "metadata": {},
   "outputs": [
    {
     "data": {
      "application/vnd.plotly.v1+json": {
       "config": {
        "plotlyServerURL": "https://plot.ly"
       },
       "data": [
        {
         "domain": {
          "x": [
           0,
           0.45
          ],
          "y": [
           0.575,
           1
          ]
         },
         "labels": [
          "混合型基金",
          "债券型基金",
          "股票型基金",
          "货币型基金",
          "FOF",
          "REITs",
          "商品期货型基金"
         ],
         "type": "pie",
         "values": [
          4891,
          3570,
          2381,
          391,
          371,
          18,
          7
         ]
        },
        {
         "domain": {
          "x": [
           0.55,
           1
          ],
          "y": [
           0.575,
           1
          ]
         },
         "labels": [
          "非ETF",
          "ETF"
         ],
         "type": "pie",
         "values": [
          10833,
          796
         ]
        },
        {
         "domain": {
          "x": [
           0,
           0.45
          ],
          "y": [
           0,
           0.425
          ]
         },
         "labels": [
          "非QDII",
          "QDII"
         ],
         "type": "pie",
         "values": [
          11376,
          253
         ]
        },
        {
         "domain": {
          "x": [
           0.55,
           1
          ],
          "y": [
           0,
           0.425
          ]
         },
         "labels": [
          "1主动",
          "空",
          "2被动"
         ],
         "type": "pie",
         "values": [
          5793,
          3773,
          2063
         ]
        }
       ],
       "layout": {
        "height": 800,
        "template": {
         "data": {
          "bar": [
           {
            "error_x": {
             "color": "#2a3f5f"
            },
            "error_y": {
             "color": "#2a3f5f"
            },
            "marker": {
             "line": {
              "color": "#E5ECF6",
              "width": 0.5
             },
             "pattern": {
              "fillmode": "overlay",
              "size": 10,
              "solidity": 0.2
             }
            },
            "type": "bar"
           }
          ],
          "barpolar": [
           {
            "marker": {
             "line": {
              "color": "#E5ECF6",
              "width": 0.5
             },
             "pattern": {
              "fillmode": "overlay",
              "size": 10,
              "solidity": 0.2
             }
            },
            "type": "barpolar"
           }
          ],
          "carpet": [
           {
            "aaxis": {
             "endlinecolor": "#2a3f5f",
             "gridcolor": "white",
             "linecolor": "white",
             "minorgridcolor": "white",
             "startlinecolor": "#2a3f5f"
            },
            "baxis": {
             "endlinecolor": "#2a3f5f",
             "gridcolor": "white",
             "linecolor": "white",
             "minorgridcolor": "white",
             "startlinecolor": "#2a3f5f"
            },
            "type": "carpet"
           }
          ],
          "choropleth": [
           {
            "colorbar": {
             "outlinewidth": 0,
             "ticks": ""
            },
            "type": "choropleth"
           }
          ],
          "contour": [
           {
            "colorbar": {
             "outlinewidth": 0,
             "ticks": ""
            },
            "colorscale": [
             [
              0,
              "#0d0887"
             ],
             [
              0.1111111111111111,
              "#46039f"
             ],
             [
              0.2222222222222222,
              "#7201a8"
             ],
             [
              0.3333333333333333,
              "#9c179e"
             ],
             [
              0.4444444444444444,
              "#bd3786"
             ],
             [
              0.5555555555555556,
              "#d8576b"
             ],
             [
              0.6666666666666666,
              "#ed7953"
             ],
             [
              0.7777777777777778,
              "#fb9f3a"
             ],
             [
              0.8888888888888888,
              "#fdca26"
             ],
             [
              1,
              "#f0f921"
             ]
            ],
            "type": "contour"
           }
          ],
          "contourcarpet": [
           {
            "colorbar": {
             "outlinewidth": 0,
             "ticks": ""
            },
            "type": "contourcarpet"
           }
          ],
          "heatmap": [
           {
            "colorbar": {
             "outlinewidth": 0,
             "ticks": ""
            },
            "colorscale": [
             [
              0,
              "#0d0887"
             ],
             [
              0.1111111111111111,
              "#46039f"
             ],
             [
              0.2222222222222222,
              "#7201a8"
             ],
             [
              0.3333333333333333,
              "#9c179e"
             ],
             [
              0.4444444444444444,
              "#bd3786"
             ],
             [
              0.5555555555555556,
              "#d8576b"
             ],
             [
              0.6666666666666666,
              "#ed7953"
             ],
             [
              0.7777777777777778,
              "#fb9f3a"
             ],
             [
              0.8888888888888888,
              "#fdca26"
             ],
             [
              1,
              "#f0f921"
             ]
            ],
            "type": "heatmap"
           }
          ],
          "heatmapgl": [
           {
            "colorbar": {
             "outlinewidth": 0,
             "ticks": ""
            },
            "colorscale": [
             [
              0,
              "#0d0887"
             ],
             [
              0.1111111111111111,
              "#46039f"
             ],
             [
              0.2222222222222222,
              "#7201a8"
             ],
             [
              0.3333333333333333,
              "#9c179e"
             ],
             [
              0.4444444444444444,
              "#bd3786"
             ],
             [
              0.5555555555555556,
              "#d8576b"
             ],
             [
              0.6666666666666666,
              "#ed7953"
             ],
             [
              0.7777777777777778,
              "#fb9f3a"
             ],
             [
              0.8888888888888888,
              "#fdca26"
             ],
             [
              1,
              "#f0f921"
             ]
            ],
            "type": "heatmapgl"
           }
          ],
          "histogram": [
           {
            "marker": {
             "pattern": {
              "fillmode": "overlay",
              "size": 10,
              "solidity": 0.2
             }
            },
            "type": "histogram"
           }
          ],
          "histogram2d": [
           {
            "colorbar": {
             "outlinewidth": 0,
             "ticks": ""
            },
            "colorscale": [
             [
              0,
              "#0d0887"
             ],
             [
              0.1111111111111111,
              "#46039f"
             ],
             [
              0.2222222222222222,
              "#7201a8"
             ],
             [
              0.3333333333333333,
              "#9c179e"
             ],
             [
              0.4444444444444444,
              "#bd3786"
             ],
             [
              0.5555555555555556,
              "#d8576b"
             ],
             [
              0.6666666666666666,
              "#ed7953"
             ],
             [
              0.7777777777777778,
              "#fb9f3a"
             ],
             [
              0.8888888888888888,
              "#fdca26"
             ],
             [
              1,
              "#f0f921"
             ]
            ],
            "type": "histogram2d"
           }
          ],
          "histogram2dcontour": [
           {
            "colorbar": {
             "outlinewidth": 0,
             "ticks": ""
            },
            "colorscale": [
             [
              0,
              "#0d0887"
             ],
             [
              0.1111111111111111,
              "#46039f"
             ],
             [
              0.2222222222222222,
              "#7201a8"
             ],
             [
              0.3333333333333333,
              "#9c179e"
             ],
             [
              0.4444444444444444,
              "#bd3786"
             ],
             [
              0.5555555555555556,
              "#d8576b"
             ],
             [
              0.6666666666666666,
              "#ed7953"
             ],
             [
              0.7777777777777778,
              "#fb9f3a"
             ],
             [
              0.8888888888888888,
              "#fdca26"
             ],
             [
              1,
              "#f0f921"
             ]
            ],
            "type": "histogram2dcontour"
           }
          ],
          "mesh3d": [
           {
            "colorbar": {
             "outlinewidth": 0,
             "ticks": ""
            },
            "type": "mesh3d"
           }
          ],
          "parcoords": [
           {
            "line": {
             "colorbar": {
              "outlinewidth": 0,
              "ticks": ""
             }
            },
            "type": "parcoords"
           }
          ],
          "pie": [
           {
            "automargin": true,
            "type": "pie"
           }
          ],
          "scatter": [
           {
            "fillpattern": {
             "fillmode": "overlay",
             "size": 10,
             "solidity": 0.2
            },
            "type": "scatter"
           }
          ],
          "scatter3d": [
           {
            "line": {
             "colorbar": {
              "outlinewidth": 0,
              "ticks": ""
             }
            },
            "marker": {
             "colorbar": {
              "outlinewidth": 0,
              "ticks": ""
             }
            },
            "type": "scatter3d"
           }
          ],
          "scattercarpet": [
           {
            "marker": {
             "colorbar": {
              "outlinewidth": 0,
              "ticks": ""
             }
            },
            "type": "scattercarpet"
           }
          ],
          "scattergeo": [
           {
            "marker": {
             "colorbar": {
              "outlinewidth": 0,
              "ticks": ""
             }
            },
            "type": "scattergeo"
           }
          ],
          "scattergl": [
           {
            "marker": {
             "colorbar": {
              "outlinewidth": 0,
              "ticks": ""
             }
            },
            "type": "scattergl"
           }
          ],
          "scattermapbox": [
           {
            "marker": {
             "colorbar": {
              "outlinewidth": 0,
              "ticks": ""
             }
            },
            "type": "scattermapbox"
           }
          ],
          "scatterpolar": [
           {
            "marker": {
             "colorbar": {
              "outlinewidth": 0,
              "ticks": ""
             }
            },
            "type": "scatterpolar"
           }
          ],
          "scatterpolargl": [
           {
            "marker": {
             "colorbar": {
              "outlinewidth": 0,
              "ticks": ""
             }
            },
            "type": "scatterpolargl"
           }
          ],
          "scatterternary": [
           {
            "marker": {
             "colorbar": {
              "outlinewidth": 0,
              "ticks": ""
             }
            },
            "type": "scatterternary"
           }
          ],
          "surface": [
           {
            "colorbar": {
             "outlinewidth": 0,
             "ticks": ""
            },
            "colorscale": [
             [
              0,
              "#0d0887"
             ],
             [
              0.1111111111111111,
              "#46039f"
             ],
             [
              0.2222222222222222,
              "#7201a8"
             ],
             [
              0.3333333333333333,
              "#9c179e"
             ],
             [
              0.4444444444444444,
              "#bd3786"
             ],
             [
              0.5555555555555556,
              "#d8576b"
             ],
             [
              0.6666666666666666,
              "#ed7953"
             ],
             [
              0.7777777777777778,
              "#fb9f3a"
             ],
             [
              0.8888888888888888,
              "#fdca26"
             ],
             [
              1,
              "#f0f921"
             ]
            ],
            "type": "surface"
           }
          ],
          "table": [
           {
            "cells": {
             "fill": {
              "color": "#EBF0F8"
             },
             "line": {
              "color": "white"
             }
            },
            "header": {
             "fill": {
              "color": "#C8D4E3"
             },
             "line": {
              "color": "white"
             }
            },
            "type": "table"
           }
          ]
         },
         "layout": {
          "annotationdefaults": {
           "arrowcolor": "#2a3f5f",
           "arrowhead": 0,
           "arrowwidth": 1
          },
          "autotypenumbers": "strict",
          "coloraxis": {
           "colorbar": {
            "outlinewidth": 0,
            "ticks": ""
           }
          },
          "colorscale": {
           "diverging": [
            [
             0,
             "#8e0152"
            ],
            [
             0.1,
             "#c51b7d"
            ],
            [
             0.2,
             "#de77ae"
            ],
            [
             0.3,
             "#f1b6da"
            ],
            [
             0.4,
             "#fde0ef"
            ],
            [
             0.5,
             "#f7f7f7"
            ],
            [
             0.6,
             "#e6f5d0"
            ],
            [
             0.7,
             "#b8e186"
            ],
            [
             0.8,
             "#7fbc41"
            ],
            [
             0.9,
             "#4d9221"
            ],
            [
             1,
             "#276419"
            ]
           ],
           "sequential": [
            [
             0,
             "#0d0887"
            ],
            [
             0.1111111111111111,
             "#46039f"
            ],
            [
             0.2222222222222222,
             "#7201a8"
            ],
            [
             0.3333333333333333,
             "#9c179e"
            ],
            [
             0.4444444444444444,
             "#bd3786"
            ],
            [
             0.5555555555555556,
             "#d8576b"
            ],
            [
             0.6666666666666666,
             "#ed7953"
            ],
            [
             0.7777777777777778,
             "#fb9f3a"
            ],
            [
             0.8888888888888888,
             "#fdca26"
            ],
            [
             1,
             "#f0f921"
            ]
           ],
           "sequentialminus": [
            [
             0,
             "#0d0887"
            ],
            [
             0.1111111111111111,
             "#46039f"
            ],
            [
             0.2222222222222222,
             "#7201a8"
            ],
            [
             0.3333333333333333,
             "#9c179e"
            ],
            [
             0.4444444444444444,
             "#bd3786"
            ],
            [
             0.5555555555555556,
             "#d8576b"
            ],
            [
             0.6666666666666666,
             "#ed7953"
            ],
            [
             0.7777777777777778,
             "#fb9f3a"
            ],
            [
             0.8888888888888888,
             "#fdca26"
            ],
            [
             1,
             "#f0f921"
            ]
           ]
          },
          "colorway": [
           "#636efa",
           "#EF553B",
           "#00cc96",
           "#ab63fa",
           "#FFA15A",
           "#19d3f3",
           "#FF6692",
           "#B6E880",
           "#FF97FF",
           "#FECB52"
          ],
          "font": {
           "color": "#2a3f5f"
          },
          "geo": {
           "bgcolor": "white",
           "lakecolor": "white",
           "landcolor": "#E5ECF6",
           "showlakes": true,
           "showland": true,
           "subunitcolor": "white"
          },
          "hoverlabel": {
           "align": "left"
          },
          "hovermode": "closest",
          "mapbox": {
           "style": "light"
          },
          "paper_bgcolor": "white",
          "plot_bgcolor": "#E5ECF6",
          "polar": {
           "angularaxis": {
            "gridcolor": "white",
            "linecolor": "white",
            "ticks": ""
           },
           "bgcolor": "#E5ECF6",
           "radialaxis": {
            "gridcolor": "white",
            "linecolor": "white",
            "ticks": ""
           }
          },
          "scene": {
           "xaxis": {
            "backgroundcolor": "#E5ECF6",
            "gridcolor": "white",
            "gridwidth": 2,
            "linecolor": "white",
            "showbackground": true,
            "ticks": "",
            "zerolinecolor": "white"
           },
           "yaxis": {
            "backgroundcolor": "#E5ECF6",
            "gridcolor": "white",
            "gridwidth": 2,
            "linecolor": "white",
            "showbackground": true,
            "ticks": "",
            "zerolinecolor": "white"
           },
           "zaxis": {
            "backgroundcolor": "#E5ECF6",
            "gridcolor": "white",
            "gridwidth": 2,
            "linecolor": "white",
            "showbackground": true,
            "ticks": "",
            "zerolinecolor": "white"
           }
          },
          "shapedefaults": {
           "line": {
            "color": "#2a3f5f"
           }
          },
          "ternary": {
           "aaxis": {
            "gridcolor": "white",
            "linecolor": "white",
            "ticks": ""
           },
           "baxis": {
            "gridcolor": "white",
            "linecolor": "white",
            "ticks": ""
           },
           "bgcolor": "#E5ECF6",
           "caxis": {
            "gridcolor": "white",
            "linecolor": "white",
            "ticks": ""
           }
          },
          "title": {
           "x": 0.05
          },
          "xaxis": {
           "automargin": true,
           "gridcolor": "white",
           "linecolor": "white",
           "ticks": "",
           "title": {
            "standoff": 15
           },
           "zerolinecolor": "white",
           "zerolinewidth": 2
          },
          "yaxis": {
           "automargin": true,
           "gridcolor": "white",
           "linecolor": "white",
           "ticks": "",
           "title": {
            "standoff": 15
           },
           "zerolinecolor": "white",
           "zerolinewidth": 2
          }
         }
        },
        "width": 800
       }
      }
     },
     "metadata": {},
     "output_type": "display_data"
    }
   ],
   "source": [
    "specs = [[{'type':'domain'}, {'type':'domain'}], [{'type':'domain'}, {'type':'domain'}]]\n",
    "fig = make_subplots(rows=2, cols=2, specs=specs)\n",
    "fig.add_trace(go.Pie(labels=maininfo.Category.value_counts().index, values=maininfo.Category.value_counts().values), 1, 1)\n",
    "\n",
    "# IsETF [是否ETF] - 1=是；2=否\n",
    "fig.add_trace(go.Pie(labels=maininfo.replace([1, 2], ['ETF', '非ETF'])\\\n",
    "    .IsETF.value_counts().index, values=maininfo.IsETF.value_counts().values), 1, 2)\n",
    "\n",
    "# IsQDII [是否QDII] - 1=是；2=否\n",
    "fig.add_trace(go.Pie(labels=maininfo.replace([1, 2], ['QDII', '非QDII'])\\\n",
    "    .IsQDII.value_counts().index, values=maininfo.IsQDII.value_counts().values), 2, 1)\n",
    "    \n",
    "# IsActiveOrPassive [主动标识] - 1=主动；2=被动\n",
    "fig.add_trace(go.Pie(labels=maininfo.replace([1, 2, np.nan], ['1主动', '2被动', '空'])\\\n",
    "    .IsActiveOrPassive.value_counts().index, values=maininfo.replace([1, 2, np.nan], ['1主动', '2被动', '空']).IsActiveOrPassive.value_counts().values), 2, 2)\n",
    "fig.update_layout(width=800, height=800)\n"
   ]
  },
  {
   "cell_type": "code",
   "execution_count": 9,
   "metadata": {},
   "outputs": [
    {
     "data": {
      "text/plain": [
       "False"
      ]
     },
     "execution_count": 9,
     "metadata": {},
     "output_type": "execute_result"
    }
   ],
   "source": [
    "(maininfo.groupby('MasterFundCode').apply(lambda per_MasterFundCode: len(per_MasterFundCode.FundID.unique())) != 1).any()"
   ]
  },
  {
   "cell_type": "code",
   "execution_count": 10,
   "metadata": {},
   "outputs": [
    {
     "data": {
      "text/plain": [
       "False"
      ]
     },
     "execution_count": 10,
     "metadata": {},
     "output_type": "execute_result"
    }
   ],
   "source": [
    "(maininfo.groupby('FundID').apply(lambda per_FundID: len(per_FundID.MasterFundCode.unique())) != 1).any()"
   ]
  },
  {
   "cell_type": "markdown",
   "metadata": {},
   "source": [
    "`FundID` is in bijection with `MasterFundCode`, they make no difference in later research\n",
    "\n",
    "Use `MasterFundCode` instead of `FundID`, because `MasterFundCode` is covered in most tables\n"
   ]
  },
  {
   "cell_type": "markdown",
   "metadata": {},
   "source": [
    "#### ii. check: FUND_UnitClassInfo\n",
    "\n",
    "基金概况 — 基金份额类别信息表"
   ]
  },
  {
   "cell_type": "markdown",
   "metadata": {},
   "source": [
    "**erratum**\n",
    "\n",
    "*problem*: use `Symbol` to merge `maininfo`, found ≈3% duplicated `Symbol`\n",
    "\n",
    "*reason*: fund changed its name\n",
    "\n",
    "*solve*: keep the latest `Symbol`"
   ]
  },
  {
   "cell_type": "code",
   "execution_count": 11,
   "metadata": {},
   "outputs": [
    {
     "data": {
      "text/html": [
       "<div>\n",
       "<style scoped>\n",
       "    .dataframe tbody tr th:only-of-type {\n",
       "        vertical-align: middle;\n",
       "    }\n",
       "\n",
       "    .dataframe tbody tr th {\n",
       "        vertical-align: top;\n",
       "    }\n",
       "\n",
       "    .dataframe thead th {\n",
       "        text-align: right;\n",
       "    }\n",
       "</style>\n",
       "<table border=\"1\" class=\"dataframe\">\n",
       "  <thead>\n",
       "    <tr style=\"text-align: right;\">\n",
       "      <th></th>\n",
       "      <th>MasterFundCode</th>\n",
       "      <th>Symbol</th>\n",
       "      <th>ShortName</th>\n",
       "      <th>InceptionDate</th>\n",
       "      <th>ListingDate</th>\n",
       "    </tr>\n",
       "  </thead>\n",
       "  <tbody>\n",
       "    <tr>\n",
       "      <th>28</th>\n",
       "      <td>37</td>\n",
       "      <td>37</td>\n",
       "      <td>广发理财7天债券A</td>\n",
       "      <td>2013-06</td>\n",
       "      <td>NaT</td>\n",
       "    </tr>\n",
       "    <tr>\n",
       "      <th>29</th>\n",
       "      <td>37</td>\n",
       "      <td>37</td>\n",
       "      <td>广发景宁纯债A</td>\n",
       "      <td>2020-04</td>\n",
       "      <td>NaT</td>\n",
       "    </tr>\n",
       "    <tr>\n",
       "      <th>85</th>\n",
       "      <td>104</td>\n",
       "      <td>104</td>\n",
       "      <td>华宸未来信用增利</td>\n",
       "      <td>2013-08</td>\n",
       "      <td>NaT</td>\n",
       "    </tr>\n",
       "    <tr>\n",
       "      <th>86</th>\n",
       "      <td>104</td>\n",
       "      <td>104</td>\n",
       "      <td>华宸未来稳健添利债券A</td>\n",
       "      <td>2018-08</td>\n",
       "      <td>NaT</td>\n",
       "    </tr>\n",
       "    <tr>\n",
       "      <th>114</th>\n",
       "      <td>134</td>\n",
       "      <td>134</td>\n",
       "      <td>理财28日盈A</td>\n",
       "      <td>2017-05</td>\n",
       "      <td>NaT</td>\n",
       "    </tr>\n",
       "    <tr>\n",
       "      <th>...</th>\n",
       "      <td>...</td>\n",
       "      <td>...</td>\n",
       "      <td>...</td>\n",
       "      <td>...</td>\n",
       "      <td>...</td>\n",
       "    </tr>\n",
       "    <tr>\n",
       "      <th>18661</th>\n",
       "      <td>660016</td>\n",
       "      <td>660016</td>\n",
       "      <td>农银汇理金聚高等级债券</td>\n",
       "      <td>2020-06</td>\n",
       "      <td>NaT</td>\n",
       "    </tr>\n",
       "    <tr>\n",
       "      <th>18680</th>\n",
       "      <td>673100</td>\n",
       "      <td>673100</td>\n",
       "      <td>西部利得久安回报混合</td>\n",
       "      <td>2017-03</td>\n",
       "      <td>NaT</td>\n",
       "    </tr>\n",
       "    <tr>\n",
       "      <th>18681</th>\n",
       "      <td>673100</td>\n",
       "      <td>673100</td>\n",
       "      <td>西部利得沪深300指数增强A</td>\n",
       "      <td>2018-12</td>\n",
       "      <td>NaT</td>\n",
       "    </tr>\n",
       "    <tr>\n",
       "      <th>18729</th>\n",
       "      <td>690012</td>\n",
       "      <td>690012</td>\n",
       "      <td>民生加银家盈理财7天债券A</td>\n",
       "      <td>2013-02</td>\n",
       "      <td>NaT</td>\n",
       "    </tr>\n",
       "    <tr>\n",
       "      <th>18730</th>\n",
       "      <td>690012</td>\n",
       "      <td>690012</td>\n",
       "      <td>民生加银丰鑫债券</td>\n",
       "      <td>2020-03</td>\n",
       "      <td>NaT</td>\n",
       "    </tr>\n",
       "  </tbody>\n",
       "</table>\n",
       "<p>483 rows × 5 columns</p>\n",
       "</div>"
      ],
      "text/plain": [
       "       MasterFundCode  Symbol       ShortName InceptionDate ListingDate\n",
       "28                 37      37       广发理财7天债券A       2013-06         NaT\n",
       "29                 37      37         广发景宁纯债A       2020-04         NaT\n",
       "85                104     104        华宸未来信用增利       2013-08         NaT\n",
       "86                104     104     华宸未来稳健添利债券A       2018-08         NaT\n",
       "114               134     134         理财28日盈A       2017-05         NaT\n",
       "...               ...     ...             ...           ...         ...\n",
       "18661          660016  660016     农银汇理金聚高等级债券       2020-06         NaT\n",
       "18680          673100  673100      西部利得久安回报混合       2017-03         NaT\n",
       "18681          673100  673100  西部利得沪深300指数增强A       2018-12         NaT\n",
       "18729          690012  690012   民生加银家盈理财7天债券A       2013-02         NaT\n",
       "18730          690012  690012        民生加银丰鑫债券       2020-03         NaT\n",
       "\n",
       "[483 rows x 5 columns]"
      ]
     },
     "execution_count": 11,
     "metadata": {},
     "output_type": "execute_result"
    }
   ],
   "source": [
    "unitclassinfo[unitclassinfo.Symbol.duplicated(keep=False)]"
   ]
  },
  {
   "cell_type": "markdown",
   "metadata": {},
   "source": [
    "<img src=\"attachment/37_.png\" alt=\"drawing\" width=\"200\"/> <img src=\"attachment/37.jpg\" alt=\"drawing\" width=\"800\"/>\n",
    "<img src=\"attachment/104_.png\" alt=\"drawing\" width=\"200\"/> <img src=\"attachment/104.png\" alt=\"drawing\" width=\"800\"/>"
   ]
  },
  {
   "cell_type": "code",
   "execution_count": 12,
   "metadata": {},
   "outputs": [
    {
     "data": {
      "text/plain": [
       "'2.5100000000000002% funds changed name'"
      ]
     },
     "execution_count": 12,
     "metadata": {},
     "output_type": "execute_result"
    }
   ],
   "source": [
    "round_(len(unitclassinfo[unitclassinfo.Symbol.duplicated(keep=False)]) / len(unitclassinfo)) + ' funds changed name'"
   ]
  },
  {
   "cell_type": "code",
   "execution_count": 13,
   "metadata": {},
   "outputs": [],
   "source": [
    "unitclassinfo_ = unitclassinfo.drop_duplicates(subset=['Symbol'], keep='last')"
   ]
  },
  {
   "cell_type": "markdown",
   "metadata": {},
   "source": [
    "**erratum**\n",
    "\n",
    "*problem*: ≈0.5% *NA* `MasterFundCode`\n",
    "\n",
    "*reason*: wrong data\n",
    "\n",
    "*solve*: delete all *NA* `MasterFundCode`"
   ]
  },
  {
   "cell_type": "code",
   "execution_count": 14,
   "metadata": {},
   "outputs": [
    {
     "data": {
      "text/html": [
       "<div>\n",
       "<style scoped>\n",
       "    .dataframe tbody tr th:only-of-type {\n",
       "        vertical-align: middle;\n",
       "    }\n",
       "\n",
       "    .dataframe tbody tr th {\n",
       "        vertical-align: top;\n",
       "    }\n",
       "\n",
       "    .dataframe thead th {\n",
       "        text-align: right;\n",
       "    }\n",
       "</style>\n",
       "<table border=\"1\" class=\"dataframe\">\n",
       "  <thead>\n",
       "    <tr style=\"text-align: right;\">\n",
       "      <th></th>\n",
       "      <th>MasterFundCode</th>\n",
       "      <th>Symbol</th>\n",
       "      <th>ShortName</th>\n",
       "      <th>InceptionDate</th>\n",
       "      <th>ListingDate</th>\n",
       "    </tr>\n",
       "  </thead>\n",
       "  <tbody>\n",
       "    <tr>\n",
       "      <th>927</th>\n",
       "      <td>&lt;NA&gt;</td>\n",
       "      <td>1041</td>\n",
       "      <td>南方理财60天债券E</td>\n",
       "      <td>2015-03</td>\n",
       "      <td>NaT</td>\n",
       "    </tr>\n",
       "    <tr>\n",
       "      <th>1715</th>\n",
       "      <td>&lt;NA&gt;</td>\n",
       "      <td>1888</td>\n",
       "      <td>中欧盛世成长混合(LOF)E</td>\n",
       "      <td>2015-10</td>\n",
       "      <td>NaT</td>\n",
       "    </tr>\n",
       "    <tr>\n",
       "      <th>2104</th>\n",
       "      <td>&lt;NA&gt;</td>\n",
       "      <td>2294</td>\n",
       "      <td>博时新机遇混合C</td>\n",
       "      <td>2016-01</td>\n",
       "      <td>NaT</td>\n",
       "    </tr>\n",
       "    <tr>\n",
       "      <th>2221</th>\n",
       "      <td>&lt;NA&gt;</td>\n",
       "      <td>2418</td>\n",
       "      <td>汇添富优选回报混合C</td>\n",
       "      <td>2016-02</td>\n",
       "      <td>NaT</td>\n",
       "    </tr>\n",
       "    <tr>\n",
       "      <th>2387</th>\n",
       "      <td>&lt;NA&gt;</td>\n",
       "      <td>2591</td>\n",
       "      <td>中欧信用增利债券E</td>\n",
       "      <td>2016-04</td>\n",
       "      <td>NaT</td>\n",
       "    </tr>\n",
       "    <tr>\n",
       "      <th>...</th>\n",
       "      <td>...</td>\n",
       "      <td>...</td>\n",
       "      <td>...</td>\n",
       "      <td>...</td>\n",
       "      <td>...</td>\n",
       "    </tr>\n",
       "    <tr>\n",
       "      <th>16589</th>\n",
       "      <td>&lt;NA&gt;</td>\n",
       "      <td>163008</td>\n",
       "      <td>长信利鑫债券(LOF)A</td>\n",
       "      <td>2017-01</td>\n",
       "      <td>NaT</td>\n",
       "    </tr>\n",
       "    <tr>\n",
       "      <th>16705</th>\n",
       "      <td>&lt;NA&gt;</td>\n",
       "      <td>164822</td>\n",
       "      <td>工银政府债纯债债券C</td>\n",
       "      <td>2017-01</td>\n",
       "      <td>NaT</td>\n",
       "    </tr>\n",
       "    <tr>\n",
       "      <th>16828</th>\n",
       "      <td>&lt;NA&gt;</td>\n",
       "      <td>167502</td>\n",
       "      <td>宝利A</td>\n",
       "      <td>2013-07</td>\n",
       "      <td>NaT</td>\n",
       "    </tr>\n",
       "    <tr>\n",
       "      <th>16966</th>\n",
       "      <td>&lt;NA&gt;</td>\n",
       "      <td>202308</td>\n",
       "      <td>南方收益宝货币B</td>\n",
       "      <td>2015-07</td>\n",
       "      <td>NaT</td>\n",
       "    </tr>\n",
       "    <tr>\n",
       "      <th>17723</th>\n",
       "      <td>&lt;NA&gt;</td>\n",
       "      <td>511980</td>\n",
       "      <td>汇添富添富通货币E</td>\n",
       "      <td>2015-10</td>\n",
       "      <td>2015-11-02</td>\n",
       "    </tr>\n",
       "  </tbody>\n",
       "</table>\n",
       "<p>102 rows × 5 columns</p>\n",
       "</div>"
      ],
      "text/plain": [
       "       MasterFundCode  Symbol       ShortName InceptionDate ListingDate\n",
       "927              <NA>    1041      南方理财60天债券E       2015-03         NaT\n",
       "1715             <NA>    1888  中欧盛世成长混合(LOF)E       2015-10         NaT\n",
       "2104             <NA>    2294        博时新机遇混合C       2016-01         NaT\n",
       "2221             <NA>    2418      汇添富优选回报混合C       2016-02         NaT\n",
       "2387             <NA>    2591       中欧信用增利债券E       2016-04         NaT\n",
       "...               ...     ...             ...           ...         ...\n",
       "16589            <NA>  163008    长信利鑫债券(LOF)A       2017-01         NaT\n",
       "16705            <NA>  164822      工银政府债纯债债券C       2017-01         NaT\n",
       "16828            <NA>  167502             宝利A       2013-07         NaT\n",
       "16966            <NA>  202308        南方收益宝货币B       2015-07         NaT\n",
       "17723            <NA>  511980       汇添富添富通货币E       2015-10  2015-11-02\n",
       "\n",
       "[102 rows x 5 columns]"
      ]
     },
     "execution_count": 14,
     "metadata": {},
     "output_type": "execute_result"
    }
   ],
   "source": [
    "unitclassinfo_[pd.isnull(unitclassinfo_.MasterFundCode)]\n",
    "# `unitclassinfo_.MasterFundCode` is `Int64`, display <NA> instead of NaN"
   ]
  },
  {
   "cell_type": "markdown",
   "metadata": {},
   "source": [
    "<img src=\"attachment/1041.png\" alt=\"drawing\" width=\"400\"/> <img src=\"attachment/1041_.png\" alt=\"drawing\" width=\"400\"/>\n",
    "\n",
    "<img src=\"attachment/1888.png\" alt=\"drawing\" width=\"400\"/> <img src=\"attachment/1888_.png\" alt=\"drawing\" width=\"400\"/>"
   ]
  },
  {
   "cell_type": "code",
   "execution_count": 15,
   "metadata": {},
   "outputs": [
    {
     "data": {
      "text/html": [
       "<div>\n",
       "<style scoped>\n",
       "    .dataframe tbody tr th:only-of-type {\n",
       "        vertical-align: middle;\n",
       "    }\n",
       "\n",
       "    .dataframe tbody tr th {\n",
       "        vertical-align: top;\n",
       "    }\n",
       "\n",
       "    .dataframe thead th {\n",
       "        text-align: right;\n",
       "    }\n",
       "</style>\n",
       "<table border=\"1\" class=\"dataframe\">\n",
       "  <thead>\n",
       "    <tr style=\"text-align: right;\">\n",
       "      <th></th>\n",
       "      <th>MasterFundCode</th>\n",
       "      <th>Symbol</th>\n",
       "      <th>ShortName</th>\n",
       "      <th>InceptionDate</th>\n",
       "      <th>ListingDate</th>\n",
       "    </tr>\n",
       "  </thead>\n",
       "  <tbody>\n",
       "    <tr>\n",
       "      <th>927</th>\n",
       "      <td>&lt;NA&gt;</td>\n",
       "      <td>1041</td>\n",
       "      <td>南方理财60天债券E</td>\n",
       "      <td>2015-03</td>\n",
       "      <td>NaT</td>\n",
       "    </tr>\n",
       "  </tbody>\n",
       "</table>\n",
       "</div>"
      ],
      "text/plain": [
       "     MasterFundCode  Symbol   ShortName InceptionDate ListingDate\n",
       "927            <NA>    1041  南方理财60天债券E       2015-03         NaT"
      ]
     },
     "execution_count": 15,
     "metadata": {},
     "output_type": "execute_result"
    }
   ],
   "source": [
    "unitclassinfo_[unitclassinfo_.Symbol == 1041]"
   ]
  },
  {
   "cell_type": "code",
   "execution_count": 16,
   "metadata": {},
   "outputs": [
    {
     "data": {
      "text/html": [
       "<div>\n",
       "<style scoped>\n",
       "    .dataframe tbody tr th:only-of-type {\n",
       "        vertical-align: middle;\n",
       "    }\n",
       "\n",
       "    .dataframe tbody tr th {\n",
       "        vertical-align: top;\n",
       "    }\n",
       "\n",
       "    .dataframe thead th {\n",
       "        text-align: right;\n",
       "    }\n",
       "</style>\n",
       "<table border=\"1\" class=\"dataframe\">\n",
       "  <thead>\n",
       "    <tr style=\"text-align: right;\">\n",
       "      <th></th>\n",
       "      <th>MasterFundCode</th>\n",
       "      <th>Symbol</th>\n",
       "      <th>ShortName</th>\n",
       "      <th>InceptionDate</th>\n",
       "      <th>ListingDate</th>\n",
       "    </tr>\n",
       "  </thead>\n",
       "  <tbody>\n",
       "    <tr>\n",
       "      <th>1715</th>\n",
       "      <td>&lt;NA&gt;</td>\n",
       "      <td>1888</td>\n",
       "      <td>中欧盛世成长混合(LOF)E</td>\n",
       "      <td>2015-10</td>\n",
       "      <td>NaT</td>\n",
       "    </tr>\n",
       "  </tbody>\n",
       "</table>\n",
       "</div>"
      ],
      "text/plain": [
       "      MasterFundCode  Symbol       ShortName InceptionDate ListingDate\n",
       "1715            <NA>    1888  中欧盛世成长混合(LOF)E       2015-10         NaT"
      ]
     },
     "execution_count": 16,
     "metadata": {},
     "output_type": "execute_result"
    }
   ],
   "source": [
    "unitclassinfo_[unitclassinfo_.Symbol == 1888]"
   ]
  },
  {
   "cell_type": "code",
   "execution_count": 17,
   "metadata": {},
   "outputs": [
    {
     "data": {
      "text/plain": [
       "'0.53% error'"
      ]
     },
     "execution_count": 17,
     "metadata": {},
     "output_type": "execute_result"
    }
   ],
   "source": [
    "round_(pd.isnull(unitclassinfo_.MasterFundCode).sum() / len(unitclassinfo)) + ' error'"
   ]
  },
  {
   "cell_type": "code",
   "execution_count": 18,
   "metadata": {},
   "outputs": [
    {
     "data": {
      "text/html": [
       "<div>\n",
       "<style scoped>\n",
       "    .dataframe tbody tr th:only-of-type {\n",
       "        vertical-align: middle;\n",
       "    }\n",
       "\n",
       "    .dataframe tbody tr th {\n",
       "        vertical-align: top;\n",
       "    }\n",
       "\n",
       "    .dataframe thead th {\n",
       "        text-align: right;\n",
       "    }\n",
       "</style>\n",
       "<table border=\"1\" class=\"dataframe\">\n",
       "  <thead>\n",
       "    <tr style=\"text-align: right;\">\n",
       "      <th></th>\n",
       "      <th></th>\n",
       "      <th>ShortName</th>\n",
       "      <th>InceptionDate</th>\n",
       "      <th>ListingDate</th>\n",
       "    </tr>\n",
       "    <tr>\n",
       "      <th>MasterFundCode</th>\n",
       "      <th>Symbol</th>\n",
       "      <th></th>\n",
       "      <th></th>\n",
       "      <th></th>\n",
       "    </tr>\n",
       "  </thead>\n",
       "  <tbody>\n",
       "    <tr>\n",
       "      <th rowspan=\"2\" valign=\"top\">3</th>\n",
       "      <th>3</th>\n",
       "      <td>中海可转债A</td>\n",
       "      <td>2013-03</td>\n",
       "      <td>NaT</td>\n",
       "    </tr>\n",
       "    <tr>\n",
       "      <th>4</th>\n",
       "      <td>中海可转债C</td>\n",
       "      <td>2013-03</td>\n",
       "      <td>NaT</td>\n",
       "    </tr>\n",
       "    <tr>\n",
       "      <th>5</th>\n",
       "      <th>5</th>\n",
       "      <td>嘉实增强信用定期债券</td>\n",
       "      <td>2013-03</td>\n",
       "      <td>NaT</td>\n",
       "    </tr>\n",
       "    <tr>\n",
       "      <th>6</th>\n",
       "      <th>6</th>\n",
       "      <td>西部利得量化成长混合A</td>\n",
       "      <td>2019-03</td>\n",
       "      <td>NaT</td>\n",
       "    </tr>\n",
       "    <tr>\n",
       "      <th>7</th>\n",
       "      <th>7</th>\n",
       "      <td>鹏华国企债债券</td>\n",
       "      <td>2013-03</td>\n",
       "      <td>NaT</td>\n",
       "    </tr>\n",
       "    <tr>\n",
       "      <th>...</th>\n",
       "      <th>...</th>\n",
       "      <td>...</td>\n",
       "      <td>...</td>\n",
       "      <td>...</td>\n",
       "    </tr>\n",
       "    <tr>\n",
       "      <th>970191</th>\n",
       "      <th>970191</th>\n",
       "      <td>申万宏源天天增货币</td>\n",
       "      <td>2022-08</td>\n",
       "      <td>NaT</td>\n",
       "    </tr>\n",
       "    <tr>\n",
       "      <th>920187</th>\n",
       "      <th>970193</th>\n",
       "      <td>中金丰裕稳健一年持有混合型C</td>\n",
       "      <td>2022-07</td>\n",
       "      <td>NaT</td>\n",
       "    </tr>\n",
       "    <tr>\n",
       "      <th rowspan=\"2\" valign=\"top\">970194</th>\n",
       "      <th>970194</th>\n",
       "      <td>兴证资管金麒麟3个月(FOF)A</td>\n",
       "      <td>2022-09</td>\n",
       "      <td>NaT</td>\n",
       "    </tr>\n",
       "    <tr>\n",
       "      <th>970195</th>\n",
       "      <td>兴证资管金麒麟3个月(FOF)C</td>\n",
       "      <td>2022-09</td>\n",
       "      <td>NaT</td>\n",
       "    </tr>\n",
       "    <tr>\n",
       "      <th>980003</th>\n",
       "      <th>980003</th>\n",
       "      <td>太平洋证券六个月滚动持有债券</td>\n",
       "      <td>2020-04</td>\n",
       "      <td>NaT</td>\n",
       "    </tr>\n",
       "  </tbody>\n",
       "</table>\n",
       "<p>18915 rows × 3 columns</p>\n",
       "</div>"
      ],
      "text/plain": [
       "                              ShortName InceptionDate ListingDate\n",
       "MasterFundCode Symbol                                            \n",
       "3              3                 中海可转债A       2013-03         NaT\n",
       "               4                 中海可转债C       2013-03         NaT\n",
       "5              5             嘉实增强信用定期债券       2013-03         NaT\n",
       "6              6            西部利得量化成长混合A       2019-03         NaT\n",
       "7              7                鹏华国企债债券       2013-03         NaT\n",
       "...                                 ...           ...         ...\n",
       "970191         970191         申万宏源天天增货币       2022-08         NaT\n",
       "920187         970193    中金丰裕稳健一年持有混合型C       2022-07         NaT\n",
       "970194         970194  兴证资管金麒麟3个月(FOF)A       2022-09         NaT\n",
       "               970195  兴证资管金麒麟3个月(FOF)C       2022-09         NaT\n",
       "980003         980003    太平洋证券六个月滚动持有债券       2020-04         NaT\n",
       "\n",
       "[18915 rows x 3 columns]"
      ]
     },
     "execution_count": 18,
     "metadata": {},
     "output_type": "execute_result"
    }
   ],
   "source": [
    "unitclassinfo_ = unitclassinfo_[pd.notnull(unitclassinfo_.MasterFundCode)]\n",
    "unitclassinfo__ = unitclassinfo_.set_index(['MasterFundCode', 'Symbol'])\n",
    "unitclassinfo__"
   ]
  },
  {
   "cell_type": "code",
   "execution_count": 19,
   "metadata": {},
   "outputs": [
    {
     "data": {
      "text/plain": [
       "'8.61% of `ListingDate` available'"
      ]
     },
     "execution_count": 19,
     "metadata": {},
     "output_type": "execute_result"
    }
   ],
   "source": [
    "f'{round_(pd.notnull(unitclassinfo__.ListingDate).sum() / len(unitclassinfo__))} of `ListingDate` available'"
   ]
  },
  {
   "cell_type": "code",
   "execution_count": 20,
   "metadata": {},
   "outputs": [
    {
     "data": {
      "text/plain": [
       "'100.0% of `InceptionDate` available'"
      ]
     },
     "execution_count": 20,
     "metadata": {},
     "output_type": "execute_result"
    }
   ],
   "source": [
    "f'{round_(pd.notnull(unitclassinfo__.InceptionDate).sum() / len(unitclassinfo__))} of `InceptionDate` available'"
   ]
  },
  {
   "cell_type": "code",
   "execution_count": 21,
   "metadata": {},
   "outputs": [
    {
     "data": {
      "text/plain": [
       "'60.150000000000006% `MasterFundCode` have multiple symbols'"
      ]
     },
     "execution_count": 21,
     "metadata": {},
     "output_type": "execute_result"
    }
   ],
   "source": [
    "f'{round_(len(unitclassinfo__.index.levels[0]) / len(unitclassinfo__.index.levels[1]))} `MasterFundCode` have multiple symbols'"
   ]
  },
  {
   "cell_type": "code",
   "execution_count": 22,
   "metadata": {},
   "outputs": [
    {
     "data": {
      "text/plain": [
       "'85.39999999999999% `MasterFundCode` which have multiple symbols, have identical `InceptionDate`'"
      ]
     },
     "execution_count": 22,
     "metadata": {},
     "output_type": "execute_result"
    }
   ],
   "source": [
    "symbol_date_identical = unitclassinfo__.groupby(level=0).apply(lambda _: True if len(_.InceptionDate.unique()) == 1 else False)\n",
    "f'{round_(symbol_date_identical.sum() / len(symbol_date_identical))} `MasterFundCode` which have multiple symbols, have identical `InceptionDate`'"
   ]
  },
  {
   "cell_type": "markdown",
   "metadata": {},
   "source": [
    "**erratum**\n",
    "\n",
    "*problem*: ≈0.22% `unitclassinfo` has less unique `MasterFundCode`, while `maininfo` has all `MasterFundCode`\n",
    "\n",
    "*reason*:\n",
    "\n",
    "- fund changed its name\n",
    "\n",
    "- lack of data\n",
    "\n",
    "*solve*: use `MasterFundCode` & `Symbol` in `unitclassinfo`"
   ]
  },
  {
   "cell_type": "code",
   "execution_count": 23,
   "metadata": {},
   "outputs": [
    {
     "data": {
      "text/plain": [
       "array([], dtype=object)"
      ]
     },
     "execution_count": 23,
     "metadata": {},
     "output_type": "execute_result"
    }
   ],
   "source": [
    "np.setdiff1d(unitclassinfo_.MasterFundCode, maininfo.MasterFundCode.unique())"
   ]
  },
  {
   "cell_type": "code",
   "execution_count": 24,
   "metadata": {},
   "outputs": [
    {
     "data": {
      "text/plain": [
       "array([   500,    622,    791,    813,    909,  10656,  12570,  13363,\n",
       "        15393,  15514,  15838,  15948,  16005,  16250,  16396,  16454,\n",
       "        16513,  16517,  16566,  16596,  16609, 180102, 240021, 550017,\n",
       "       970186], dtype=int64)"
      ]
     },
     "execution_count": 24,
     "metadata": {},
     "output_type": "execute_result"
    }
   ],
   "source": [
    "np.setdiff1d(maininfo.MasterFundCode.unique(), unitclassinfo_.MasterFundCode)"
   ]
  },
  {
   "cell_type": "code",
   "execution_count": 25,
   "metadata": {},
   "outputs": [
    {
     "data": {
      "text/html": [
       "<div>\n",
       "<style scoped>\n",
       "    .dataframe tbody tr th:only-of-type {\n",
       "        vertical-align: middle;\n",
       "    }\n",
       "\n",
       "    .dataframe tbody tr th {\n",
       "        vertical-align: top;\n",
       "    }\n",
       "\n",
       "    .dataframe thead th {\n",
       "        text-align: right;\n",
       "    }\n",
       "</style>\n",
       "<table border=\"1\" class=\"dataframe\">\n",
       "  <thead>\n",
       "    <tr style=\"text-align: right;\">\n",
       "      <th></th>\n",
       "      <th>FundID</th>\n",
       "      <th>MasterFundCode</th>\n",
       "      <th>FullName</th>\n",
       "      <th>InceptionDate</th>\n",
       "      <th>Category</th>\n",
       "      <th>IsETF</th>\n",
       "      <th>IsQDII</th>\n",
       "      <th>IsActiveOrPassive</th>\n",
       "    </tr>\n",
       "  </thead>\n",
       "  <tbody>\n",
       "    <tr>\n",
       "      <th>293</th>\n",
       "      <td>10131316</td>\n",
       "      <td>500</td>\n",
       "      <td>华富恒富分级债券型证券投资基金</td>\n",
       "      <td>2014-03</td>\n",
       "      <td>债券型基金</td>\n",
       "      <td>2</td>\n",
       "      <td>2</td>\n",
       "      <td>NaN</td>\n",
       "    </tr>\n",
       "  </tbody>\n",
       "</table>\n",
       "</div>"
      ],
      "text/plain": [
       "       FundID  MasterFundCode         FullName InceptionDate Category  IsETF  \\\n",
       "293  10131316             500  华富恒富分级债券型证券投资基金       2014-03    债券型基金      2   \n",
       "\n",
       "     IsQDII  IsActiveOrPassive  \n",
       "293       2                NaN  "
      ]
     },
     "execution_count": 25,
     "metadata": {},
     "output_type": "execute_result"
    }
   ],
   "source": [
    "# e.g. fund changed its name\n",
    "maininfo[maininfo.MasterFundCode == 500]"
   ]
  },
  {
   "cell_type": "code",
   "execution_count": 26,
   "metadata": {},
   "outputs": [
    {
     "data": {
      "text/html": [
       "<div>\n",
       "<style scoped>\n",
       "    .dataframe tbody tr th:only-of-type {\n",
       "        vertical-align: middle;\n",
       "    }\n",
       "\n",
       "    .dataframe tbody tr th {\n",
       "        vertical-align: top;\n",
       "    }\n",
       "\n",
       "    .dataframe thead th {\n",
       "        text-align: right;\n",
       "    }\n",
       "</style>\n",
       "<table border=\"1\" class=\"dataframe\">\n",
       "  <thead>\n",
       "    <tr style=\"text-align: right;\">\n",
       "      <th></th>\n",
       "      <th>MasterFundCode</th>\n",
       "      <th>Symbol</th>\n",
       "      <th>ShortName</th>\n",
       "      <th>InceptionDate</th>\n",
       "      <th>ListingDate</th>\n",
       "    </tr>\n",
       "  </thead>\n",
       "  <tbody>\n",
       "    <tr>\n",
       "      <th>425</th>\n",
       "      <td>500</td>\n",
       "      <td>501</td>\n",
       "      <td>华富恒富分级债券A</td>\n",
       "      <td>2014-03</td>\n",
       "      <td>NaT</td>\n",
       "    </tr>\n",
       "    <tr>\n",
       "      <th>427</th>\n",
       "      <td>500</td>\n",
       "      <td>502</td>\n",
       "      <td>华富恒富分级债券B</td>\n",
       "      <td>2014-03</td>\n",
       "      <td>NaT</td>\n",
       "    </tr>\n",
       "  </tbody>\n",
       "</table>\n",
       "</div>"
      ],
      "text/plain": [
       "     MasterFundCode  Symbol  ShortName InceptionDate ListingDate\n",
       "425             500     501  华富恒富分级债券A       2014-03         NaT\n",
       "427             500     502  华富恒富分级债券B       2014-03         NaT"
      ]
     },
     "execution_count": 26,
     "metadata": {},
     "output_type": "execute_result"
    }
   ],
   "source": [
    "# e.g. fund changed its name\n",
    "# locate `MasterFundCode == 500`, find `Symbol == 501` or `Symbol == 502`\n",
    "unitclassinfo[unitclassinfo.MasterFundCode == 500]"
   ]
  },
  {
   "cell_type": "code",
   "execution_count": 27,
   "metadata": {},
   "outputs": [
    {
     "data": {
      "text/html": [
       "<div>\n",
       "<style scoped>\n",
       "    .dataframe tbody tr th:only-of-type {\n",
       "        vertical-align: middle;\n",
       "    }\n",
       "\n",
       "    .dataframe tbody tr th {\n",
       "        vertical-align: top;\n",
       "    }\n",
       "\n",
       "    .dataframe thead th {\n",
       "        text-align: right;\n",
       "    }\n",
       "</style>\n",
       "<table border=\"1\" class=\"dataframe\">\n",
       "  <thead>\n",
       "    <tr style=\"text-align: right;\">\n",
       "      <th></th>\n",
       "      <th>MasterFundCode</th>\n",
       "      <th>Symbol</th>\n",
       "      <th>ShortName</th>\n",
       "      <th>InceptionDate</th>\n",
       "      <th>ListingDate</th>\n",
       "    </tr>\n",
       "  </thead>\n",
       "  <tbody>\n",
       "    <tr>\n",
       "      <th>425</th>\n",
       "      <td>500</td>\n",
       "      <td>501</td>\n",
       "      <td>华富恒富分级债券A</td>\n",
       "      <td>2014-03</td>\n",
       "      <td>NaT</td>\n",
       "    </tr>\n",
       "    <tr>\n",
       "      <th>426</th>\n",
       "      <td>502</td>\n",
       "      <td>501</td>\n",
       "      <td>华富恒富18个月定开债C</td>\n",
       "      <td>2017-11</td>\n",
       "      <td>NaT</td>\n",
       "    </tr>\n",
       "  </tbody>\n",
       "</table>\n",
       "</div>"
      ],
      "text/plain": [
       "     MasterFundCode  Symbol     ShortName InceptionDate ListingDate\n",
       "425             500     501     华富恒富分级债券A       2014-03         NaT\n",
       "426             502     501  华富恒富18个月定开债C       2017-11         NaT"
      ]
     },
     "execution_count": 27,
     "metadata": {},
     "output_type": "execute_result"
    }
   ],
   "source": [
    "# e.g. fund changed its name\n",
    "# `Symbol == 501` or `Symbol == 502` in original data\n",
    "# the latest `MasterFundCode` change to 502, instead of 500\n",
    "# but they have same `Symbol`\n",
    "unitclassinfo[unitclassinfo.Symbol == 501]"
   ]
  },
  {
   "cell_type": "code",
   "execution_count": 28,
   "metadata": {},
   "outputs": [
    {
     "data": {
      "text/html": [
       "<div>\n",
       "<style scoped>\n",
       "    .dataframe tbody tr th:only-of-type {\n",
       "        vertical-align: middle;\n",
       "    }\n",
       "\n",
       "    .dataframe tbody tr th {\n",
       "        vertical-align: top;\n",
       "    }\n",
       "\n",
       "    .dataframe thead th {\n",
       "        text-align: right;\n",
       "    }\n",
       "</style>\n",
       "<table border=\"1\" class=\"dataframe\">\n",
       "  <thead>\n",
       "    <tr style=\"text-align: right;\">\n",
       "      <th></th>\n",
       "      <th>MasterFundCode</th>\n",
       "      <th>Symbol</th>\n",
       "      <th>ShortName</th>\n",
       "      <th>InceptionDate</th>\n",
       "      <th>ListingDate</th>\n",
       "    </tr>\n",
       "  </thead>\n",
       "  <tbody>\n",
       "    <tr>\n",
       "      <th>426</th>\n",
       "      <td>502</td>\n",
       "      <td>501</td>\n",
       "      <td>华富恒富18个月定开债C</td>\n",
       "      <td>2017-11</td>\n",
       "      <td>NaT</td>\n",
       "    </tr>\n",
       "  </tbody>\n",
       "</table>\n",
       "</div>"
      ],
      "text/plain": [
       "     MasterFundCode  Symbol     ShortName InceptionDate ListingDate\n",
       "426             502     501  华富恒富18个月定开债C       2017-11         NaT"
      ]
     },
     "execution_count": 28,
     "metadata": {},
     "output_type": "execute_result"
    }
   ],
   "source": [
    "# e.g. fund changed its name\n",
    "unitclassinfo_[unitclassinfo_.Symbol == 501]"
   ]
  },
  {
   "cell_type": "code",
   "execution_count": 29,
   "metadata": {},
   "outputs": [
    {
     "data": {
      "text/html": [
       "<div>\n",
       "<style scoped>\n",
       "    .dataframe tbody tr th:only-of-type {\n",
       "        vertical-align: middle;\n",
       "    }\n",
       "\n",
       "    .dataframe tbody tr th {\n",
       "        vertical-align: top;\n",
       "    }\n",
       "\n",
       "    .dataframe thead th {\n",
       "        text-align: right;\n",
       "    }\n",
       "</style>\n",
       "<table border=\"1\" class=\"dataframe\">\n",
       "  <thead>\n",
       "    <tr style=\"text-align: right;\">\n",
       "      <th></th>\n",
       "      <th>MasterFundCode</th>\n",
       "      <th>Symbol</th>\n",
       "      <th>ShortName</th>\n",
       "      <th>InceptionDate</th>\n",
       "      <th>ListingDate</th>\n",
       "    </tr>\n",
       "  </thead>\n",
       "  <tbody>\n",
       "    <tr>\n",
       "      <th>427</th>\n",
       "      <td>500</td>\n",
       "      <td>502</td>\n",
       "      <td>华富恒富分级债券B</td>\n",
       "      <td>2014-03</td>\n",
       "      <td>NaT</td>\n",
       "    </tr>\n",
       "    <tr>\n",
       "      <th>428</th>\n",
       "      <td>502</td>\n",
       "      <td>502</td>\n",
       "      <td>华富恒富18个月定开债A</td>\n",
       "      <td>2017-11</td>\n",
       "      <td>NaT</td>\n",
       "    </tr>\n",
       "  </tbody>\n",
       "</table>\n",
       "</div>"
      ],
      "text/plain": [
       "     MasterFundCode  Symbol     ShortName InceptionDate ListingDate\n",
       "427             500     502     华富恒富分级债券B       2014-03         NaT\n",
       "428             502     502  华富恒富18个月定开债A       2017-11         NaT"
      ]
     },
     "execution_count": 29,
     "metadata": {},
     "output_type": "execute_result"
    }
   ],
   "source": [
    "# e.g. fund changed its name\n",
    "unitclassinfo[unitclassinfo.Symbol == 502]"
   ]
  },
  {
   "cell_type": "code",
   "execution_count": 30,
   "metadata": {},
   "outputs": [
    {
     "data": {
      "text/html": [
       "<div>\n",
       "<style scoped>\n",
       "    .dataframe tbody tr th:only-of-type {\n",
       "        vertical-align: middle;\n",
       "    }\n",
       "\n",
       "    .dataframe tbody tr th {\n",
       "        vertical-align: top;\n",
       "    }\n",
       "\n",
       "    .dataframe thead th {\n",
       "        text-align: right;\n",
       "    }\n",
       "</style>\n",
       "<table border=\"1\" class=\"dataframe\">\n",
       "  <thead>\n",
       "    <tr style=\"text-align: right;\">\n",
       "      <th></th>\n",
       "      <th>MasterFundCode</th>\n",
       "      <th>Symbol</th>\n",
       "      <th>ShortName</th>\n",
       "      <th>InceptionDate</th>\n",
       "      <th>ListingDate</th>\n",
       "    </tr>\n",
       "  </thead>\n",
       "  <tbody>\n",
       "    <tr>\n",
       "      <th>428</th>\n",
       "      <td>502</td>\n",
       "      <td>502</td>\n",
       "      <td>华富恒富18个月定开债A</td>\n",
       "      <td>2017-11</td>\n",
       "      <td>NaT</td>\n",
       "    </tr>\n",
       "  </tbody>\n",
       "</table>\n",
       "</div>"
      ],
      "text/plain": [
       "     MasterFundCode  Symbol     ShortName InceptionDate ListingDate\n",
       "428             502     502  华富恒富18个月定开债A       2017-11         NaT"
      ]
     },
     "execution_count": 30,
     "metadata": {},
     "output_type": "execute_result"
    }
   ],
   "source": [
    "# e.g. fund changed its name\n",
    "unitclassinfo_[unitclassinfo_.Symbol == 502]"
   ]
  },
  {
   "cell_type": "code",
   "execution_count": 31,
   "metadata": {},
   "outputs": [
    {
     "data": {
      "text/html": [
       "<div>\n",
       "<style scoped>\n",
       "    .dataframe tbody tr th:only-of-type {\n",
       "        vertical-align: middle;\n",
       "    }\n",
       "\n",
       "    .dataframe tbody tr th {\n",
       "        vertical-align: top;\n",
       "    }\n",
       "\n",
       "    .dataframe thead th {\n",
       "        text-align: right;\n",
       "    }\n",
       "</style>\n",
       "<table border=\"1\" class=\"dataframe\">\n",
       "  <thead>\n",
       "    <tr style=\"text-align: right;\">\n",
       "      <th></th>\n",
       "      <th>MasterFundCode</th>\n",
       "      <th>Symbol</th>\n",
       "      <th>ShortName</th>\n",
       "      <th>InceptionDate</th>\n",
       "      <th>ListingDate</th>\n",
       "    </tr>\n",
       "  </thead>\n",
       "  <tbody>\n",
       "  </tbody>\n",
       "</table>\n",
       "</div>"
      ],
      "text/plain": [
       "Empty DataFrame\n",
       "Columns: [MasterFundCode, Symbol, ShortName, InceptionDate, ListingDate]\n",
       "Index: []"
      ]
     },
     "execution_count": 31,
     "metadata": {},
     "output_type": "execute_result"
    }
   ],
   "source": [
    "# e.g. fund changed its name\n",
    "unitclassinfo_[unitclassinfo_.MasterFundCode == 500]"
   ]
  },
  {
   "cell_type": "code",
   "execution_count": 32,
   "metadata": {},
   "outputs": [
    {
     "data": {
      "text/html": [
       "<div>\n",
       "<style scoped>\n",
       "    .dataframe tbody tr th:only-of-type {\n",
       "        vertical-align: middle;\n",
       "    }\n",
       "\n",
       "    .dataframe tbody tr th {\n",
       "        vertical-align: top;\n",
       "    }\n",
       "\n",
       "    .dataframe thead th {\n",
       "        text-align: right;\n",
       "    }\n",
       "</style>\n",
       "<table border=\"1\" class=\"dataframe\">\n",
       "  <thead>\n",
       "    <tr style=\"text-align: right;\">\n",
       "      <th></th>\n",
       "      <th>MasterFundCode</th>\n",
       "      <th>Symbol</th>\n",
       "      <th>ShortName</th>\n",
       "      <th>InceptionDate</th>\n",
       "      <th>ListingDate</th>\n",
       "    </tr>\n",
       "  </thead>\n",
       "  <tbody>\n",
       "  </tbody>\n",
       "</table>\n",
       "</div>"
      ],
      "text/plain": [
       "Empty DataFrame\n",
       "Columns: [MasterFundCode, Symbol, ShortName, InceptionDate, ListingDate]\n",
       "Index: []"
      ]
     },
     "execution_count": 32,
     "metadata": {},
     "output_type": "execute_result"
    }
   ],
   "source": [
    "# 500, 622, 791, 813, 909 are because of renaming\n",
    "# others are lack of data\n",
    "\n",
    "# e.g. lack of data\n",
    "unitclassinfo[unitclassinfo.MasterFundCode == 10656]"
   ]
  },
  {
   "cell_type": "code",
   "execution_count": 33,
   "metadata": {},
   "outputs": [
    {
     "data": {
      "text/plain": [
       "'0.22% MasterFundCode will be dropped'"
      ]
     },
     "execution_count": 33,
     "metadata": {},
     "output_type": "execute_result"
    }
   ],
   "source": [
    "# `MasterFundCode` included in `maininfo` but not in `unitclassinfo`\n",
    "# some born NA, some changed name\n",
    "\n",
    "f'{round_(len(np.setdiff1d(maininfo.MasterFundCode.unique(), unitclassinfo_.MasterFundCode)) / len(maininfo.MasterFundCode.unique()))} \\\n",
    "MasterFundCode will be dropped'"
   ]
  },
  {
   "cell_type": "markdown",
   "metadata": {},
   "source": [
    "#### iii. concatenate"
   ]
  },
  {
   "cell_type": "markdown",
   "metadata": {},
   "source": [
    "**Q**: We use `Symbol`, and `Symbol` is duplicated, why drop `MasterFundCode` here?\n",
    "\n",
    "**A**: `MasterFundCode` is the proper `key` both table have in common. If we drop with `key` of `Symbol`, program does not know what to do with `maininfo`"
   ]
  },
  {
   "cell_type": "code",
   "execution_count": 34,
   "metadata": {},
   "outputs": [
    {
     "data": {
      "text/html": [
       "<div>\n",
       "<style scoped>\n",
       "    .dataframe tbody tr th:only-of-type {\n",
       "        vertical-align: middle;\n",
       "    }\n",
       "\n",
       "    .dataframe tbody tr th {\n",
       "        vertical-align: top;\n",
       "    }\n",
       "\n",
       "    .dataframe thead th {\n",
       "        text-align: right;\n",
       "    }\n",
       "</style>\n",
       "<table border=\"1\" class=\"dataframe\">\n",
       "  <thead>\n",
       "    <tr style=\"text-align: right;\">\n",
       "      <th></th>\n",
       "      <th>FundID</th>\n",
       "      <th>MasterFundCode</th>\n",
       "      <th>FullName</th>\n",
       "      <th>Symbol</th>\n",
       "      <th>Category</th>\n",
       "      <th>IsETF</th>\n",
       "      <th>IsQDII</th>\n",
       "      <th>IsActiveOrPassive</th>\n",
       "      <th>InceptionDate</th>\n",
       "    </tr>\n",
       "  </thead>\n",
       "  <tbody>\n",
       "    <tr>\n",
       "      <th>0</th>\n",
       "      <td>10110606</td>\n",
       "      <td>3</td>\n",
       "      <td>中海可转换债券债券型证券投资基金</td>\n",
       "      <td>3</td>\n",
       "      <td>债券型基金</td>\n",
       "      <td>2</td>\n",
       "      <td>2</td>\n",
       "      <td>NaN</td>\n",
       "      <td>2013-03</td>\n",
       "    </tr>\n",
       "    <tr>\n",
       "      <th>1</th>\n",
       "      <td>10110606</td>\n",
       "      <td>3</td>\n",
       "      <td>中海可转换债券债券型证券投资基金</td>\n",
       "      <td>4</td>\n",
       "      <td>债券型基金</td>\n",
       "      <td>2</td>\n",
       "      <td>2</td>\n",
       "      <td>NaN</td>\n",
       "      <td>2013-03</td>\n",
       "    </tr>\n",
       "    <tr>\n",
       "      <th>2</th>\n",
       "      <td>10110338</td>\n",
       "      <td>5</td>\n",
       "      <td>嘉实增强信用定期开放债券型证券投资基金</td>\n",
       "      <td>5</td>\n",
       "      <td>债券型基金</td>\n",
       "      <td>2</td>\n",
       "      <td>2</td>\n",
       "      <td>NaN</td>\n",
       "      <td>2013-03</td>\n",
       "    </tr>\n",
       "    <tr>\n",
       "      <th>3</th>\n",
       "      <td>10445836</td>\n",
       "      <td>6</td>\n",
       "      <td>西部利得量化成长混合型发起式证券投资基金</td>\n",
       "      <td>6</td>\n",
       "      <td>混合型基金</td>\n",
       "      <td>2</td>\n",
       "      <td>2</td>\n",
       "      <td>1.0</td>\n",
       "      <td>2019-03</td>\n",
       "    </tr>\n",
       "    <tr>\n",
       "      <th>4</th>\n",
       "      <td>10445836</td>\n",
       "      <td>6</td>\n",
       "      <td>西部利得量化成长混合型发起式证券投资基金</td>\n",
       "      <td>11228</td>\n",
       "      <td>混合型基金</td>\n",
       "      <td>2</td>\n",
       "      <td>2</td>\n",
       "      <td>1.0</td>\n",
       "      <td>2021-01</td>\n",
       "    </tr>\n",
       "    <tr>\n",
       "      <th>...</th>\n",
       "      <td>...</td>\n",
       "      <td>...</td>\n",
       "      <td>...</td>\n",
       "      <td>...</td>\n",
       "      <td>...</td>\n",
       "      <td>...</td>\n",
       "      <td>...</td>\n",
       "      <td>...</td>\n",
       "      <td>...</td>\n",
       "    </tr>\n",
       "    <tr>\n",
       "      <th>18910</th>\n",
       "      <td>10596615</td>\n",
       "      <td>970187</td>\n",
       "      <td>申万宏源天添利货币型集合资产管理计划</td>\n",
       "      <td>970187</td>\n",
       "      <td>货币型基金</td>\n",
       "      <td>2</td>\n",
       "      <td>2</td>\n",
       "      <td>NaN</td>\n",
       "      <td>2022-08</td>\n",
       "    </tr>\n",
       "    <tr>\n",
       "      <th>18911</th>\n",
       "      <td>10596605</td>\n",
       "      <td>970191</td>\n",
       "      <td>申万宏源天天增货币型集合资产管理计划</td>\n",
       "      <td>970191</td>\n",
       "      <td>货币型基金</td>\n",
       "      <td>2</td>\n",
       "      <td>2</td>\n",
       "      <td>NaN</td>\n",
       "      <td>2022-08</td>\n",
       "    </tr>\n",
       "    <tr>\n",
       "      <th>18912</th>\n",
       "      <td>10598181</td>\n",
       "      <td>970194</td>\n",
       "      <td>兴证资管金麒麟3个月持有期混合型基金中基金(FOF)集合资产管理计划</td>\n",
       "      <td>970194</td>\n",
       "      <td>FOF</td>\n",
       "      <td>2</td>\n",
       "      <td>2</td>\n",
       "      <td>1.0</td>\n",
       "      <td>2022-09</td>\n",
       "    </tr>\n",
       "    <tr>\n",
       "      <th>18913</th>\n",
       "      <td>10598181</td>\n",
       "      <td>970194</td>\n",
       "      <td>兴证资管金麒麟3个月持有期混合型基金中基金(FOF)集合资产管理计划</td>\n",
       "      <td>970195</td>\n",
       "      <td>FOF</td>\n",
       "      <td>2</td>\n",
       "      <td>2</td>\n",
       "      <td>1.0</td>\n",
       "      <td>2022-09</td>\n",
       "    </tr>\n",
       "    <tr>\n",
       "      <th>18914</th>\n",
       "      <td>10496016</td>\n",
       "      <td>980003</td>\n",
       "      <td>太平洋证券六个月滚动持有债券型集合资产管理计划</td>\n",
       "      <td>980003</td>\n",
       "      <td>债券型基金</td>\n",
       "      <td>2</td>\n",
       "      <td>2</td>\n",
       "      <td>NaN</td>\n",
       "      <td>2020-04</td>\n",
       "    </tr>\n",
       "  </tbody>\n",
       "</table>\n",
       "<p>18915 rows × 9 columns</p>\n",
       "</div>"
      ],
      "text/plain": [
       "         FundID  MasterFundCode                            FullName  Symbol  \\\n",
       "0      10110606               3                    中海可转换债券债券型证券投资基金       3   \n",
       "1      10110606               3                    中海可转换债券债券型证券投资基金       4   \n",
       "2      10110338               5                 嘉实增强信用定期开放债券型证券投资基金       5   \n",
       "3      10445836               6                西部利得量化成长混合型发起式证券投资基金       6   \n",
       "4      10445836               6                西部利得量化成长混合型发起式证券投资基金   11228   \n",
       "...         ...             ...                                 ...     ...   \n",
       "18910  10596615          970187                  申万宏源天添利货币型集合资产管理计划  970187   \n",
       "18911  10596605          970191                  申万宏源天天增货币型集合资产管理计划  970191   \n",
       "18912  10598181          970194  兴证资管金麒麟3个月持有期混合型基金中基金(FOF)集合资产管理计划  970194   \n",
       "18913  10598181          970194  兴证资管金麒麟3个月持有期混合型基金中基金(FOF)集合资产管理计划  970195   \n",
       "18914  10496016          980003             太平洋证券六个月滚动持有债券型集合资产管理计划  980003   \n",
       "\n",
       "      Category  IsETF  IsQDII  IsActiveOrPassive InceptionDate  \n",
       "0        债券型基金      2       2                NaN       2013-03  \n",
       "1        债券型基金      2       2                NaN       2013-03  \n",
       "2        债券型基金      2       2                NaN       2013-03  \n",
       "3        混合型基金      2       2                1.0       2019-03  \n",
       "4        混合型基金      2       2                1.0       2021-01  \n",
       "...        ...    ...     ...                ...           ...  \n",
       "18910    货币型基金      2       2                NaN       2022-08  \n",
       "18911    货币型基金      2       2                NaN       2022-08  \n",
       "18912      FOF      2       2                1.0       2022-09  \n",
       "18913      FOF      2       2                1.0       2022-09  \n",
       "18914    债券型基金      2       2                NaN       2020-04  \n",
       "\n",
       "[18915 rows x 9 columns]"
      ]
     },
     "execution_count": 34,
     "metadata": {},
     "output_type": "execute_result"
    }
   ],
   "source": [
    "selected_columns = ['FundID', 'MasterFundCode', 'FullName', 'Symbol', 'InceptionDate_y', 'Category', 'IsETF', 'IsQDII', 'IsActiveOrPassive']\n",
    "maininfo_ = pd.merge(maininfo, unitclassinfo_, how='inner' ,on='MasterFundCode')[selected_columns].drop_duplicates(subset='Symbol').reset_index(drop=True)\n",
    "maininfo_['InceptionDate'] = maininfo_.InceptionDate_y\n",
    "maininfo_ = maininfo_.drop('InceptionDate_y', axis=1)\n",
    "maininfo_"
   ]
  },
  {
   "cell_type": "markdown",
   "metadata": {},
   "source": [
    "### **2. filter data**"
   ]
  },
  {
   "cell_type": "markdown",
   "metadata": {},
   "source": [
    "#### i. first 4 : static filtering"
   ]
  },
  {
   "cell_type": "markdown",
   "metadata": {},
   "source": [
    "（1）基金类别必须为“股票型基金”或“混合型基金”；\n",
    "\n",
    "（2）非 ETF 类基金；\n",
    "\n",
    "（3）非 QDII 类基金；\n",
    "\n",
    "（4）主动管理标识为 1 或者为空；"
   ]
  },
  {
   "cell_type": "code",
   "execution_count": 35,
   "metadata": {},
   "outputs": [
    {
     "data": {
      "text/plain": [
       "array([0.61908538, 0.9554322 , 0.97383029, 0.83246101])"
      ]
     },
     "execution_count": 35,
     "metadata": {},
     "output_type": "execute_result"
    }
   ],
   "source": [
    "filter_1 = np.logical_or(maininfo_.Category == '股票型基金', maininfo_.Category == '混合型基金')\n",
    "filter_2 = maininfo_.IsETF == 2\n",
    "filter_3 = maininfo_.IsQDII == 2\n",
    "filter_4 = maininfo_.IsActiveOrPassive != 2\n",
    "\n",
    "filters = [(1, filter_1), (2, filter_2), (3, filter_3), (4, filter_4)]\n",
    "np.array(list(map(lambda _: _[1].sum(), filters))) / len(maininfo_)\n",
    "\n",
    "# proportional data left"
   ]
  },
  {
   "cell_type": "code",
   "execution_count": 36,
   "metadata": {},
   "outputs": [
    {
     "name": "stdout",
     "output_type": "stream",
     "text": [
      "filter 1: 18915 to 11710, 38.09% symbols dropped\n",
      "filter 2: 11710 to 10969, 6.329999999999999% symbols dropped\n",
      "filter 3: 10969 to 10654, 2.87% symbols dropped\n",
      "filter 4: 10654 to 8786, 17.53% symbols dropped\n"
     ]
    }
   ],
   "source": [
    "def func(previous, now):\n",
    "    if type(previous) == tuple:\n",
    "        print(f'filter {previous[0]}: {len(maininfo_)} to {previous[1].sum()}, ' + round_(1 - previous[1].sum() / len(maininfo_)) + ' symbols dropped')\n",
    "        temp = np.logical_and(previous[1], now[1])\n",
    "        print(f'filter {now[0]}: {previous[1].sum()} to {temp.sum()}, ' + round_(1 - temp.sum() / previous[1].sum()) + ' symbols dropped')\n",
    "        return temp\n",
    "    else:\n",
    "        temp = np.logical_and(previous, now[1])\n",
    "        print(f'filter {now[0]}: {previous.sum()} to {temp.sum()}, ' + round_(1 - temp.sum() / previous.sum()) + ' symbols dropped')\n",
    "        return temp\n",
    "\n",
    "\n",
    "filters_ = reduce(func, filters)"
   ]
  },
  {
   "cell_type": "code",
   "execution_count": 37,
   "metadata": {},
   "outputs": [
    {
     "data": {
      "text/html": [
       "<div>\n",
       "<style scoped>\n",
       "    .dataframe tbody tr th:only-of-type {\n",
       "        vertical-align: middle;\n",
       "    }\n",
       "\n",
       "    .dataframe tbody tr th {\n",
       "        vertical-align: top;\n",
       "    }\n",
       "\n",
       "    .dataframe thead th {\n",
       "        text-align: right;\n",
       "    }\n",
       "</style>\n",
       "<table border=\"1\" class=\"dataframe\">\n",
       "  <thead>\n",
       "    <tr style=\"text-align: right;\">\n",
       "      <th></th>\n",
       "      <th>FundID</th>\n",
       "      <th>MasterFundCode</th>\n",
       "      <th>FullName</th>\n",
       "      <th>Category</th>\n",
       "      <th>IsETF</th>\n",
       "      <th>IsQDII</th>\n",
       "      <th>IsActiveOrPassive</th>\n",
       "      <th>InceptionDate</th>\n",
       "    </tr>\n",
       "    <tr>\n",
       "      <th>Symbol</th>\n",
       "      <th></th>\n",
       "      <th></th>\n",
       "      <th></th>\n",
       "      <th></th>\n",
       "      <th></th>\n",
       "      <th></th>\n",
       "      <th></th>\n",
       "      <th></th>\n",
       "    </tr>\n",
       "  </thead>\n",
       "  <tbody>\n",
       "    <tr>\n",
       "      <th>6</th>\n",
       "      <td>10445836</td>\n",
       "      <td>6</td>\n",
       "      <td>西部利得量化成长混合型发起式证券投资基金</td>\n",
       "      <td>混合型基金</td>\n",
       "      <td>2</td>\n",
       "      <td>2</td>\n",
       "      <td>1.0</td>\n",
       "      <td>2019-03</td>\n",
       "    </tr>\n",
       "    <tr>\n",
       "      <th>11</th>\n",
       "      <td>107794</td>\n",
       "      <td>11</td>\n",
       "      <td>华夏大盘精选证券投资基金</td>\n",
       "      <td>混合型基金</td>\n",
       "      <td>2</td>\n",
       "      <td>2</td>\n",
       "      <td>1.0</td>\n",
       "      <td>2004-08</td>\n",
       "    </tr>\n",
       "    <tr>\n",
       "      <th>17</th>\n",
       "      <td>10110640</td>\n",
       "      <td>17</td>\n",
       "      <td>财通可持续发展主题混合型证券投资基金</td>\n",
       "      <td>混合型基金</td>\n",
       "      <td>2</td>\n",
       "      <td>2</td>\n",
       "      <td>1.0</td>\n",
       "      <td>2013-03</td>\n",
       "    </tr>\n",
       "    <tr>\n",
       "      <th>20</th>\n",
       "      <td>10110534</td>\n",
       "      <td>20</td>\n",
       "      <td>景顺长城品质投资混合型证券投资基金</td>\n",
       "      <td>混合型基金</td>\n",
       "      <td>2</td>\n",
       "      <td>2</td>\n",
       "      <td>1.0</td>\n",
       "      <td>2013-03</td>\n",
       "    </tr>\n",
       "    <tr>\n",
       "      <th>21</th>\n",
       "      <td>10102822</td>\n",
       "      <td>21</td>\n",
       "      <td>华夏优势增长混合型证券投资基金</td>\n",
       "      <td>混合型基金</td>\n",
       "      <td>2</td>\n",
       "      <td>2</td>\n",
       "      <td>1.0</td>\n",
       "      <td>2006-11</td>\n",
       "    </tr>\n",
       "    <tr>\n",
       "      <th>...</th>\n",
       "      <td>...</td>\n",
       "      <td>...</td>\n",
       "      <td>...</td>\n",
       "      <td>...</td>\n",
       "      <td>...</td>\n",
       "      <td>...</td>\n",
       "      <td>...</td>\n",
       "      <td>...</td>\n",
       "    </tr>\n",
       "    <tr>\n",
       "      <th>970120</th>\n",
       "      <td>10578152</td>\n",
       "      <td>970120</td>\n",
       "      <td>兴证资管金麒麟恒睿致远一年持有期混合型集合资产管理计划</td>\n",
       "      <td>混合型基金</td>\n",
       "      <td>2</td>\n",
       "      <td>2</td>\n",
       "      <td>1.0</td>\n",
       "      <td>2021-12</td>\n",
       "    </tr>\n",
       "    <tr>\n",
       "      <th>970121</th>\n",
       "      <td>10578152</td>\n",
       "      <td>970120</td>\n",
       "      <td>兴证资管金麒麟恒睿致远一年持有期混合型集合资产管理计划</td>\n",
       "      <td>混合型基金</td>\n",
       "      <td>2</td>\n",
       "      <td>2</td>\n",
       "      <td>1.0</td>\n",
       "      <td>2021-12</td>\n",
       "    </tr>\n",
       "    <tr>\n",
       "      <th>970184</th>\n",
       "      <td>10596614</td>\n",
       "      <td>880006</td>\n",
       "      <td>招商资管核心优势混合型集合资产管理计划</td>\n",
       "      <td>混合型基金</td>\n",
       "      <td>2</td>\n",
       "      <td>2</td>\n",
       "      <td>1.0</td>\n",
       "      <td>2022-08</td>\n",
       "    </tr>\n",
       "    <tr>\n",
       "      <th>970185</th>\n",
       "      <td>10596614</td>\n",
       "      <td>880006</td>\n",
       "      <td>招商资管核心优势混合型集合资产管理计划</td>\n",
       "      <td>混合型基金</td>\n",
       "      <td>2</td>\n",
       "      <td>2</td>\n",
       "      <td>1.0</td>\n",
       "      <td>2022-08</td>\n",
       "    </tr>\n",
       "    <tr>\n",
       "      <th>970193</th>\n",
       "      <td>10596222</td>\n",
       "      <td>920187</td>\n",
       "      <td>中金丰裕稳健一年持有混合型集合资产管理计划</td>\n",
       "      <td>混合型基金</td>\n",
       "      <td>2</td>\n",
       "      <td>2</td>\n",
       "      <td>1.0</td>\n",
       "      <td>2022-07</td>\n",
       "    </tr>\n",
       "  </tbody>\n",
       "</table>\n",
       "<p>8786 rows × 8 columns</p>\n",
       "</div>"
      ],
      "text/plain": [
       "          FundID  MasterFundCode                     FullName Category  IsETF  \\\n",
       "Symbol                                                                          \n",
       "6       10445836               6         西部利得量化成长混合型发起式证券投资基金    混合型基金      2   \n",
       "11        107794              11                 华夏大盘精选证券投资基金    混合型基金      2   \n",
       "17      10110640              17           财通可持续发展主题混合型证券投资基金    混合型基金      2   \n",
       "20      10110534              20            景顺长城品质投资混合型证券投资基金    混合型基金      2   \n",
       "21      10102822              21              华夏优势增长混合型证券投资基金    混合型基金      2   \n",
       "...          ...             ...                          ...      ...    ...   \n",
       "970120  10578152          970120  兴证资管金麒麟恒睿致远一年持有期混合型集合资产管理计划    混合型基金      2   \n",
       "970121  10578152          970120  兴证资管金麒麟恒睿致远一年持有期混合型集合资产管理计划    混合型基金      2   \n",
       "970184  10596614          880006          招商资管核心优势混合型集合资产管理计划    混合型基金      2   \n",
       "970185  10596614          880006          招商资管核心优势混合型集合资产管理计划    混合型基金      2   \n",
       "970193  10596222          920187        中金丰裕稳健一年持有混合型集合资产管理计划    混合型基金      2   \n",
       "\n",
       "        IsQDII  IsActiveOrPassive InceptionDate  \n",
       "Symbol                                           \n",
       "6            2                1.0       2019-03  \n",
       "11           2                1.0       2004-08  \n",
       "17           2                1.0       2013-03  \n",
       "20           2                1.0       2013-03  \n",
       "21           2                1.0       2006-11  \n",
       "...        ...                ...           ...  \n",
       "970120       2                1.0       2021-12  \n",
       "970121       2                1.0       2021-12  \n",
       "970184       2                1.0       2022-08  \n",
       "970185       2                1.0       2022-08  \n",
       "970193       2                1.0       2022-07  \n",
       "\n",
       "[8786 rows x 8 columns]"
      ]
     },
     "execution_count": 37,
     "metadata": {},
     "output_type": "execute_result"
    }
   ],
   "source": [
    "maininfo__ = maininfo_[filters_]\n",
    "maininfo__.set_index('Symbol').sort_index()"
   ]
  },
  {
   "cell_type": "markdown",
   "metadata": {},
   "source": [
    "#### ii. use filtered data (first 4) to create big table\n",
    "\n",
    "big table: from `Symbol` indexed only to `Symbol-Month` multiIndex"
   ]
  },
  {
   "cell_type": "code",
   "execution_count": 38,
   "metadata": {},
   "outputs": [
    {
     "data": {
      "text/html": [
       "<div>\n",
       "<style scoped>\n",
       "    .dataframe tbody tr th:only-of-type {\n",
       "        vertical-align: middle;\n",
       "    }\n",
       "\n",
       "    .dataframe tbody tr th {\n",
       "        vertical-align: top;\n",
       "    }\n",
       "\n",
       "    .dataframe thead th {\n",
       "        text-align: right;\n",
       "    }\n",
       "</style>\n",
       "<table border=\"1\" class=\"dataframe\">\n",
       "  <thead>\n",
       "    <tr style=\"text-align: right;\">\n",
       "      <th></th>\n",
       "      <th></th>\n",
       "      <th>InceptionDate</th>\n",
       "      <th>MasterFundCode</th>\n",
       "      <th>Category</th>\n",
       "      <th>FullName</th>\n",
       "    </tr>\n",
       "    <tr>\n",
       "      <th>Symbol</th>\n",
       "      <th>EndDate</th>\n",
       "      <th></th>\n",
       "      <th></th>\n",
       "      <th></th>\n",
       "      <th></th>\n",
       "    </tr>\n",
       "  </thead>\n",
       "  <tbody>\n",
       "    <tr>\n",
       "      <th rowspan=\"5\" valign=\"top\">6</th>\n",
       "      <th>2019-03</th>\n",
       "      <td>2019-03</td>\n",
       "      <td>6</td>\n",
       "      <td>混合型基金</td>\n",
       "      <td>西部利得量化成长混合型发起式证券投资基金</td>\n",
       "    </tr>\n",
       "    <tr>\n",
       "      <th>2019-06</th>\n",
       "      <td>2019-03</td>\n",
       "      <td>6</td>\n",
       "      <td>混合型基金</td>\n",
       "      <td>西部利得量化成长混合型发起式证券投资基金</td>\n",
       "    </tr>\n",
       "    <tr>\n",
       "      <th>2019-09</th>\n",
       "      <td>2019-03</td>\n",
       "      <td>6</td>\n",
       "      <td>混合型基金</td>\n",
       "      <td>西部利得量化成长混合型发起式证券投资基金</td>\n",
       "    </tr>\n",
       "    <tr>\n",
       "      <th>2019-12</th>\n",
       "      <td>2019-03</td>\n",
       "      <td>6</td>\n",
       "      <td>混合型基金</td>\n",
       "      <td>西部利得量化成长混合型发起式证券投资基金</td>\n",
       "    </tr>\n",
       "    <tr>\n",
       "      <th>2020-03</th>\n",
       "      <td>2019-03</td>\n",
       "      <td>6</td>\n",
       "      <td>混合型基金</td>\n",
       "      <td>西部利得量化成长混合型发起式证券投资基金</td>\n",
       "    </tr>\n",
       "    <tr>\n",
       "      <th>...</th>\n",
       "      <th>...</th>\n",
       "      <td>...</td>\n",
       "      <td>...</td>\n",
       "      <td>...</td>\n",
       "      <td>...</td>\n",
       "    </tr>\n",
       "    <tr>\n",
       "      <th rowspan=\"2\" valign=\"top\">970121</th>\n",
       "      <th>2022-06</th>\n",
       "      <td>2021-12</td>\n",
       "      <td>970120</td>\n",
       "      <td>混合型基金</td>\n",
       "      <td>兴证资管金麒麟恒睿致远一年持有期混合型集合资产管理计划</td>\n",
       "    </tr>\n",
       "    <tr>\n",
       "      <th>2022-09</th>\n",
       "      <td>2021-12</td>\n",
       "      <td>970120</td>\n",
       "      <td>混合型基金</td>\n",
       "      <td>兴证资管金麒麟恒睿致远一年持有期混合型集合资产管理计划</td>\n",
       "    </tr>\n",
       "    <tr>\n",
       "      <th>970184</th>\n",
       "      <th>2022-09</th>\n",
       "      <td>2022-08</td>\n",
       "      <td>880006</td>\n",
       "      <td>混合型基金</td>\n",
       "      <td>招商资管核心优势混合型集合资产管理计划</td>\n",
       "    </tr>\n",
       "    <tr>\n",
       "      <th>970185</th>\n",
       "      <th>2022-09</th>\n",
       "      <td>2022-08</td>\n",
       "      <td>880006</td>\n",
       "      <td>混合型基金</td>\n",
       "      <td>招商资管核心优势混合型集合资产管理计划</td>\n",
       "    </tr>\n",
       "    <tr>\n",
       "      <th>970193</th>\n",
       "      <th>2022-09</th>\n",
       "      <td>2022-07</td>\n",
       "      <td>920187</td>\n",
       "      <td>混合型基金</td>\n",
       "      <td>中金丰裕稳健一年持有混合型集合资产管理计划</td>\n",
       "    </tr>\n",
       "  </tbody>\n",
       "</table>\n",
       "<p>144418 rows × 4 columns</p>\n",
       "</div>"
      ],
      "text/plain": [
       "               InceptionDate  MasterFundCode Category  \\\n",
       "Symbol EndDate                                          \n",
       "6      2019-03       2019-03               6    混合型基金   \n",
       "       2019-06       2019-03               6    混合型基金   \n",
       "       2019-09       2019-03               6    混合型基金   \n",
       "       2019-12       2019-03               6    混合型基金   \n",
       "       2020-03       2019-03               6    混合型基金   \n",
       "...                      ...             ...      ...   \n",
       "970121 2022-06       2021-12          970120    混合型基金   \n",
       "       2022-09       2021-12          970120    混合型基金   \n",
       "970184 2022-09       2022-08          880006    混合型基金   \n",
       "970185 2022-09       2022-08          880006    混合型基金   \n",
       "970193 2022-09       2022-07          920187    混合型基金   \n",
       "\n",
       "                                   FullName  \n",
       "Symbol EndDate                               \n",
       "6      2019-03         西部利得量化成长混合型发起式证券投资基金  \n",
       "       2019-06         西部利得量化成长混合型发起式证券投资基金  \n",
       "       2019-09         西部利得量化成长混合型发起式证券投资基金  \n",
       "       2019-12         西部利得量化成长混合型发起式证券投资基金  \n",
       "       2020-03         西部利得量化成长混合型发起式证券投资基金  \n",
       "...                                     ...  \n",
       "970121 2022-06  兴证资管金麒麟恒睿致远一年持有期混合型集合资产管理计划  \n",
       "       2022-09  兴证资管金麒麟恒睿致远一年持有期混合型集合资产管理计划  \n",
       "970184 2022-09          招商资管核心优势混合型集合资产管理计划  \n",
       "970185 2022-09          招商资管核心优势混合型集合资产管理计划  \n",
       "970193 2022-09        中金丰裕稳健一年持有混合型集合资产管理计划  \n",
       "\n",
       "[144418 rows x 4 columns]"
      ]
     },
     "execution_count": 38,
     "metadata": {},
     "output_type": "execute_result"
    }
   ],
   "source": [
    "indexes = pd.MultiIndex.from_product([maininfo__.Symbol.sort_values().values, pd.date_range('2002-1', '2022-10', freq='Q')])\n",
    "temp_symbols = indexes.get_level_values(0)\n",
    "temp_EndDate = indexes.get_level_values(1)\n",
    "main_data = pd.DataFrame(index=indexes)\n",
    "main_data['Symbol'] = temp_symbols\n",
    "main_data['EndDate'] = temp_EndDate.to_period('M')\n",
    "main_data = pd.merge(main_data, maininfo__[['Symbol', 'InceptionDate', 'MasterFundCode', 'Category', 'FullName']], on='Symbol')\n",
    "main_data = main_data[main_data.EndDate >= main_data.InceptionDate].reset_index(drop=True)\n",
    "main_data.set_index(['Symbol', 'EndDate'])"
   ]
  },
  {
   "cell_type": "code",
   "execution_count": 39,
   "metadata": {},
   "outputs": [
    {
     "data": {
      "text/plain": [
       "'8786 Symbols to 144418 Symbol-Month multiIndex'"
      ]
     },
     "execution_count": 39,
     "metadata": {},
     "output_type": "execute_result"
    }
   ],
   "source": [
    "f'{len(main_data.Symbol.unique())} Symbols to {len(main_data)} Symbol-Month multiIndex'"
   ]
  },
  {
   "cell_type": "markdown",
   "metadata": {},
   "source": [
    "#### iii. check: Fund_Allocation\n",
    "\n",
    "基金投组 — 资产配置文件"
   ]
  },
  {
   "cell_type": "markdown",
   "metadata": {},
   "source": [
    "<span style=\"color: red\">`Symbol`/`FrontendCode` not available</span> "
   ]
  },
  {
   "cell_type": "markdown",
   "metadata": {},
   "source": [
    "**erratum**\n",
    "\n",
    "*problem*: ≈30% `Equity` is not available while `TotalAsset` is available\n",
    "\n",
    "*reason*:\n",
    "\n",
    "≈8% `混合型基金`主要投资于债券\n",
    "\n",
    "≈6% `股票型基金`不直接投资于股票，而投资于股票指数\n",
    "\n",
    "*solve*: ignore them"
   ]
  },
  {
   "cell_type": "code",
   "execution_count": 40,
   "metadata": {},
   "outputs": [
    {
     "name": "stdout",
     "output_type": "stream",
     "text": [
      "CPU times: total: 6.73 s\n",
      "Wall time: 7.37 s\n"
     ]
    },
    {
     "data": {
      "text/plain": [
       "'30.270000000000003% `Equity` is not available while `TotalAsset` is available'"
      ]
     },
     "execution_count": 40,
     "metadata": {},
     "output_type": "execute_result"
    }
   ],
   "source": [
    "%%time\n",
    "available_flag = allocation.apply(lambda row: row.MasterFundCode if pd.isna(row.Equity) and pd.notna(row.TotalAsset) else False, axis=1)\n",
    "f'{round_(len(available_flag[available_flag != False]) / len(available_flag))} `Equity` is not available while `TotalAsset` is available'"
   ]
  },
  {
   "cell_type": "code",
   "execution_count": 41,
   "metadata": {},
   "outputs": [
    {
     "data": {
      "application/vnd.plotly.v1+json": {
       "config": {
        "plotlyServerURL": "https://plot.ly"
       },
       "data": [
        {
         "labels": [
          "债券型基金",
          "货币型基金",
          "混合型基金",
          "股票型基金",
          "FOF",
          "商品期货型基金",
          "REITs"
         ],
         "type": "pie",
         "values": [
          3117,
          666,
          372,
          286,
          223,
          10,
          7
         ]
        }
       ],
       "layout": {
        "template": {
         "data": {
          "bar": [
           {
            "error_x": {
             "color": "#2a3f5f"
            },
            "error_y": {
             "color": "#2a3f5f"
            },
            "marker": {
             "line": {
              "color": "#E5ECF6",
              "width": 0.5
             },
             "pattern": {
              "fillmode": "overlay",
              "size": 10,
              "solidity": 0.2
             }
            },
            "type": "bar"
           }
          ],
          "barpolar": [
           {
            "marker": {
             "line": {
              "color": "#E5ECF6",
              "width": 0.5
             },
             "pattern": {
              "fillmode": "overlay",
              "size": 10,
              "solidity": 0.2
             }
            },
            "type": "barpolar"
           }
          ],
          "carpet": [
           {
            "aaxis": {
             "endlinecolor": "#2a3f5f",
             "gridcolor": "white",
             "linecolor": "white",
             "minorgridcolor": "white",
             "startlinecolor": "#2a3f5f"
            },
            "baxis": {
             "endlinecolor": "#2a3f5f",
             "gridcolor": "white",
             "linecolor": "white",
             "minorgridcolor": "white",
             "startlinecolor": "#2a3f5f"
            },
            "type": "carpet"
           }
          ],
          "choropleth": [
           {
            "colorbar": {
             "outlinewidth": 0,
             "ticks": ""
            },
            "type": "choropleth"
           }
          ],
          "contour": [
           {
            "colorbar": {
             "outlinewidth": 0,
             "ticks": ""
            },
            "colorscale": [
             [
              0,
              "#0d0887"
             ],
             [
              0.1111111111111111,
              "#46039f"
             ],
             [
              0.2222222222222222,
              "#7201a8"
             ],
             [
              0.3333333333333333,
              "#9c179e"
             ],
             [
              0.4444444444444444,
              "#bd3786"
             ],
             [
              0.5555555555555556,
              "#d8576b"
             ],
             [
              0.6666666666666666,
              "#ed7953"
             ],
             [
              0.7777777777777778,
              "#fb9f3a"
             ],
             [
              0.8888888888888888,
              "#fdca26"
             ],
             [
              1,
              "#f0f921"
             ]
            ],
            "type": "contour"
           }
          ],
          "contourcarpet": [
           {
            "colorbar": {
             "outlinewidth": 0,
             "ticks": ""
            },
            "type": "contourcarpet"
           }
          ],
          "heatmap": [
           {
            "colorbar": {
             "outlinewidth": 0,
             "ticks": ""
            },
            "colorscale": [
             [
              0,
              "#0d0887"
             ],
             [
              0.1111111111111111,
              "#46039f"
             ],
             [
              0.2222222222222222,
              "#7201a8"
             ],
             [
              0.3333333333333333,
              "#9c179e"
             ],
             [
              0.4444444444444444,
              "#bd3786"
             ],
             [
              0.5555555555555556,
              "#d8576b"
             ],
             [
              0.6666666666666666,
              "#ed7953"
             ],
             [
              0.7777777777777778,
              "#fb9f3a"
             ],
             [
              0.8888888888888888,
              "#fdca26"
             ],
             [
              1,
              "#f0f921"
             ]
            ],
            "type": "heatmap"
           }
          ],
          "heatmapgl": [
           {
            "colorbar": {
             "outlinewidth": 0,
             "ticks": ""
            },
            "colorscale": [
             [
              0,
              "#0d0887"
             ],
             [
              0.1111111111111111,
              "#46039f"
             ],
             [
              0.2222222222222222,
              "#7201a8"
             ],
             [
              0.3333333333333333,
              "#9c179e"
             ],
             [
              0.4444444444444444,
              "#bd3786"
             ],
             [
              0.5555555555555556,
              "#d8576b"
             ],
             [
              0.6666666666666666,
              "#ed7953"
             ],
             [
              0.7777777777777778,
              "#fb9f3a"
             ],
             [
              0.8888888888888888,
              "#fdca26"
             ],
             [
              1,
              "#f0f921"
             ]
            ],
            "type": "heatmapgl"
           }
          ],
          "histogram": [
           {
            "marker": {
             "pattern": {
              "fillmode": "overlay",
              "size": 10,
              "solidity": 0.2
             }
            },
            "type": "histogram"
           }
          ],
          "histogram2d": [
           {
            "colorbar": {
             "outlinewidth": 0,
             "ticks": ""
            },
            "colorscale": [
             [
              0,
              "#0d0887"
             ],
             [
              0.1111111111111111,
              "#46039f"
             ],
             [
              0.2222222222222222,
              "#7201a8"
             ],
             [
              0.3333333333333333,
              "#9c179e"
             ],
             [
              0.4444444444444444,
              "#bd3786"
             ],
             [
              0.5555555555555556,
              "#d8576b"
             ],
             [
              0.6666666666666666,
              "#ed7953"
             ],
             [
              0.7777777777777778,
              "#fb9f3a"
             ],
             [
              0.8888888888888888,
              "#fdca26"
             ],
             [
              1,
              "#f0f921"
             ]
            ],
            "type": "histogram2d"
           }
          ],
          "histogram2dcontour": [
           {
            "colorbar": {
             "outlinewidth": 0,
             "ticks": ""
            },
            "colorscale": [
             [
              0,
              "#0d0887"
             ],
             [
              0.1111111111111111,
              "#46039f"
             ],
             [
              0.2222222222222222,
              "#7201a8"
             ],
             [
              0.3333333333333333,
              "#9c179e"
             ],
             [
              0.4444444444444444,
              "#bd3786"
             ],
             [
              0.5555555555555556,
              "#d8576b"
             ],
             [
              0.6666666666666666,
              "#ed7953"
             ],
             [
              0.7777777777777778,
              "#fb9f3a"
             ],
             [
              0.8888888888888888,
              "#fdca26"
             ],
             [
              1,
              "#f0f921"
             ]
            ],
            "type": "histogram2dcontour"
           }
          ],
          "mesh3d": [
           {
            "colorbar": {
             "outlinewidth": 0,
             "ticks": ""
            },
            "type": "mesh3d"
           }
          ],
          "parcoords": [
           {
            "line": {
             "colorbar": {
              "outlinewidth": 0,
              "ticks": ""
             }
            },
            "type": "parcoords"
           }
          ],
          "pie": [
           {
            "automargin": true,
            "type": "pie"
           }
          ],
          "scatter": [
           {
            "fillpattern": {
             "fillmode": "overlay",
             "size": 10,
             "solidity": 0.2
            },
            "type": "scatter"
           }
          ],
          "scatter3d": [
           {
            "line": {
             "colorbar": {
              "outlinewidth": 0,
              "ticks": ""
             }
            },
            "marker": {
             "colorbar": {
              "outlinewidth": 0,
              "ticks": ""
             }
            },
            "type": "scatter3d"
           }
          ],
          "scattercarpet": [
           {
            "marker": {
             "colorbar": {
              "outlinewidth": 0,
              "ticks": ""
             }
            },
            "type": "scattercarpet"
           }
          ],
          "scattergeo": [
           {
            "marker": {
             "colorbar": {
              "outlinewidth": 0,
              "ticks": ""
             }
            },
            "type": "scattergeo"
           }
          ],
          "scattergl": [
           {
            "marker": {
             "colorbar": {
              "outlinewidth": 0,
              "ticks": ""
             }
            },
            "type": "scattergl"
           }
          ],
          "scattermapbox": [
           {
            "marker": {
             "colorbar": {
              "outlinewidth": 0,
              "ticks": ""
             }
            },
            "type": "scattermapbox"
           }
          ],
          "scatterpolar": [
           {
            "marker": {
             "colorbar": {
              "outlinewidth": 0,
              "ticks": ""
             }
            },
            "type": "scatterpolar"
           }
          ],
          "scatterpolargl": [
           {
            "marker": {
             "colorbar": {
              "outlinewidth": 0,
              "ticks": ""
             }
            },
            "type": "scatterpolargl"
           }
          ],
          "scatterternary": [
           {
            "marker": {
             "colorbar": {
              "outlinewidth": 0,
              "ticks": ""
             }
            },
            "type": "scatterternary"
           }
          ],
          "surface": [
           {
            "colorbar": {
             "outlinewidth": 0,
             "ticks": ""
            },
            "colorscale": [
             [
              0,
              "#0d0887"
             ],
             [
              0.1111111111111111,
              "#46039f"
             ],
             [
              0.2222222222222222,
              "#7201a8"
             ],
             [
              0.3333333333333333,
              "#9c179e"
             ],
             [
              0.4444444444444444,
              "#bd3786"
             ],
             [
              0.5555555555555556,
              "#d8576b"
             ],
             [
              0.6666666666666666,
              "#ed7953"
             ],
             [
              0.7777777777777778,
              "#fb9f3a"
             ],
             [
              0.8888888888888888,
              "#fdca26"
             ],
             [
              1,
              "#f0f921"
             ]
            ],
            "type": "surface"
           }
          ],
          "table": [
           {
            "cells": {
             "fill": {
              "color": "#EBF0F8"
             },
             "line": {
              "color": "white"
             }
            },
            "header": {
             "fill": {
              "color": "#C8D4E3"
             },
             "line": {
              "color": "white"
             }
            },
            "type": "table"
           }
          ]
         },
         "layout": {
          "annotationdefaults": {
           "arrowcolor": "#2a3f5f",
           "arrowhead": 0,
           "arrowwidth": 1
          },
          "autotypenumbers": "strict",
          "coloraxis": {
           "colorbar": {
            "outlinewidth": 0,
            "ticks": ""
           }
          },
          "colorscale": {
           "diverging": [
            [
             0,
             "#8e0152"
            ],
            [
             0.1,
             "#c51b7d"
            ],
            [
             0.2,
             "#de77ae"
            ],
            [
             0.3,
             "#f1b6da"
            ],
            [
             0.4,
             "#fde0ef"
            ],
            [
             0.5,
             "#f7f7f7"
            ],
            [
             0.6,
             "#e6f5d0"
            ],
            [
             0.7,
             "#b8e186"
            ],
            [
             0.8,
             "#7fbc41"
            ],
            [
             0.9,
             "#4d9221"
            ],
            [
             1,
             "#276419"
            ]
           ],
           "sequential": [
            [
             0,
             "#0d0887"
            ],
            [
             0.1111111111111111,
             "#46039f"
            ],
            [
             0.2222222222222222,
             "#7201a8"
            ],
            [
             0.3333333333333333,
             "#9c179e"
            ],
            [
             0.4444444444444444,
             "#bd3786"
            ],
            [
             0.5555555555555556,
             "#d8576b"
            ],
            [
             0.6666666666666666,
             "#ed7953"
            ],
            [
             0.7777777777777778,
             "#fb9f3a"
            ],
            [
             0.8888888888888888,
             "#fdca26"
            ],
            [
             1,
             "#f0f921"
            ]
           ],
           "sequentialminus": [
            [
             0,
             "#0d0887"
            ],
            [
             0.1111111111111111,
             "#46039f"
            ],
            [
             0.2222222222222222,
             "#7201a8"
            ],
            [
             0.3333333333333333,
             "#9c179e"
            ],
            [
             0.4444444444444444,
             "#bd3786"
            ],
            [
             0.5555555555555556,
             "#d8576b"
            ],
            [
             0.6666666666666666,
             "#ed7953"
            ],
            [
             0.7777777777777778,
             "#fb9f3a"
            ],
            [
             0.8888888888888888,
             "#fdca26"
            ],
            [
             1,
             "#f0f921"
            ]
           ]
          },
          "colorway": [
           "#636efa",
           "#EF553B",
           "#00cc96",
           "#ab63fa",
           "#FFA15A",
           "#19d3f3",
           "#FF6692",
           "#B6E880",
           "#FF97FF",
           "#FECB52"
          ],
          "font": {
           "color": "#2a3f5f"
          },
          "geo": {
           "bgcolor": "white",
           "lakecolor": "white",
           "landcolor": "#E5ECF6",
           "showlakes": true,
           "showland": true,
           "subunitcolor": "white"
          },
          "hoverlabel": {
           "align": "left"
          },
          "hovermode": "closest",
          "mapbox": {
           "style": "light"
          },
          "paper_bgcolor": "white",
          "plot_bgcolor": "#E5ECF6",
          "polar": {
           "angularaxis": {
            "gridcolor": "white",
            "linecolor": "white",
            "ticks": ""
           },
           "bgcolor": "#E5ECF6",
           "radialaxis": {
            "gridcolor": "white",
            "linecolor": "white",
            "ticks": ""
           }
          },
          "scene": {
           "xaxis": {
            "backgroundcolor": "#E5ECF6",
            "gridcolor": "white",
            "gridwidth": 2,
            "linecolor": "white",
            "showbackground": true,
            "ticks": "",
            "zerolinecolor": "white"
           },
           "yaxis": {
            "backgroundcolor": "#E5ECF6",
            "gridcolor": "white",
            "gridwidth": 2,
            "linecolor": "white",
            "showbackground": true,
            "ticks": "",
            "zerolinecolor": "white"
           },
           "zaxis": {
            "backgroundcolor": "#E5ECF6",
            "gridcolor": "white",
            "gridwidth": 2,
            "linecolor": "white",
            "showbackground": true,
            "ticks": "",
            "zerolinecolor": "white"
           }
          },
          "shapedefaults": {
           "line": {
            "color": "#2a3f5f"
           }
          },
          "ternary": {
           "aaxis": {
            "gridcolor": "white",
            "linecolor": "white",
            "ticks": ""
           },
           "baxis": {
            "gridcolor": "white",
            "linecolor": "white",
            "ticks": ""
           },
           "bgcolor": "#E5ECF6",
           "caxis": {
            "gridcolor": "white",
            "linecolor": "white",
            "ticks": ""
           }
          },
          "title": {
           "x": 0.05
          },
          "xaxis": {
           "automargin": true,
           "gridcolor": "white",
           "linecolor": "white",
           "ticks": "",
           "title": {
            "standoff": 15
           },
           "zerolinecolor": "white",
           "zerolinewidth": 2
          },
          "yaxis": {
           "automargin": true,
           "gridcolor": "white",
           "linecolor": "white",
           "ticks": "",
           "title": {
            "standoff": 15
           },
           "zerolinecolor": "white",
           "zerolinewidth": 2
          }
         }
        }
       }
      }
     },
     "metadata": {},
     "output_type": "display_data"
    }
   ],
   "source": [
    "not_available = available_flag[available_flag != False].unique()\n",
    "not_available = pd.merge(pd.Series(not_available, name='MasterFundCode'), maininfo, on='MasterFundCode')\n",
    "go.Figure(go.Pie(labels=not_available.Category.unique(), values=not_available.Category.value_counts().values))"
   ]
  },
  {
   "cell_type": "code",
   "execution_count": 42,
   "metadata": {},
   "outputs": [
    {
     "data": {
      "text/html": [
       "<div>\n",
       "<style scoped>\n",
       "    .dataframe tbody tr th:only-of-type {\n",
       "        vertical-align: middle;\n",
       "    }\n",
       "\n",
       "    .dataframe tbody tr th {\n",
       "        vertical-align: top;\n",
       "    }\n",
       "\n",
       "    .dataframe thead th {\n",
       "        text-align: right;\n",
       "    }\n",
       "</style>\n",
       "<table border=\"1\" class=\"dataframe\">\n",
       "  <thead>\n",
       "    <tr style=\"text-align: right;\">\n",
       "      <th></th>\n",
       "      <th>MasterFundCode</th>\n",
       "      <th>FundID</th>\n",
       "      <th>FullName</th>\n",
       "      <th>InceptionDate</th>\n",
       "      <th>Category</th>\n",
       "      <th>IsETF</th>\n",
       "      <th>IsQDII</th>\n",
       "      <th>IsActiveOrPassive</th>\n",
       "    </tr>\n",
       "  </thead>\n",
       "  <tbody>\n",
       "    <tr>\n",
       "      <th>22</th>\n",
       "      <td>71</td>\n",
       "      <td>10103634</td>\n",
       "      <td>恒生交易型开放式指数证券投资基金联接基金</td>\n",
       "      <td>2012-08</td>\n",
       "      <td>股票型基金</td>\n",
       "      <td>2</td>\n",
       "      <td>2</td>\n",
       "      <td>2.0</td>\n",
       "    </tr>\n",
       "    <tr>\n",
       "      <th>150</th>\n",
       "      <td>373</td>\n",
       "      <td>10137818</td>\n",
       "      <td>华安中证细分医药交易型开放式指数证券投资基金联接基金</td>\n",
       "      <td>2014-11</td>\n",
       "      <td>股票型基金</td>\n",
       "      <td>2</td>\n",
       "      <td>2</td>\n",
       "      <td>2.0</td>\n",
       "    </tr>\n",
       "    <tr>\n",
       "      <th>236</th>\n",
       "      <td>613</td>\n",
       "      <td>10132574</td>\n",
       "      <td>国寿安保沪深300交易型开放式指数证券投资基金联接基金</td>\n",
       "      <td>2014-06</td>\n",
       "      <td>股票型基金</td>\n",
       "      <td>2</td>\n",
       "      <td>2</td>\n",
       "      <td>2.0</td>\n",
       "    </tr>\n",
       "    <tr>\n",
       "      <th>237</th>\n",
       "      <td>614</td>\n",
       "      <td>10134096</td>\n",
       "      <td>华安国际龙头(DAX)交易型开放式指数证券投资基金联接基金</td>\n",
       "      <td>2014-08</td>\n",
       "      <td>股票型基金</td>\n",
       "      <td>2</td>\n",
       "      <td>1</td>\n",
       "      <td>2.0</td>\n",
       "    </tr>\n",
       "    <tr>\n",
       "      <th>357</th>\n",
       "      <td>948</td>\n",
       "      <td>10138894</td>\n",
       "      <td>华夏沪港通恒生交易型开放式指数证券投资基金联接基金</td>\n",
       "      <td>2015-01</td>\n",
       "      <td>股票型基金</td>\n",
       "      <td>2</td>\n",
       "      <td>2</td>\n",
       "      <td>2.0</td>\n",
       "    </tr>\n",
       "  </tbody>\n",
       "</table>\n",
       "</div>"
      ],
      "text/plain": [
       "    MasterFundCode    FundID                       FullName InceptionDate  \\\n",
       "22              71  10103634           恒生交易型开放式指数证券投资基金联接基金       2012-08   \n",
       "150            373  10137818     华安中证细分医药交易型开放式指数证券投资基金联接基金       2014-11   \n",
       "236            613  10132574    国寿安保沪深300交易型开放式指数证券投资基金联接基金       2014-06   \n",
       "237            614  10134096  华安国际龙头(DAX)交易型开放式指数证券投资基金联接基金       2014-08   \n",
       "357            948  10138894      华夏沪港通恒生交易型开放式指数证券投资基金联接基金       2015-01   \n",
       "\n",
       "    Category  IsETF  IsQDII  IsActiveOrPassive  \n",
       "22     股票型基金      2       2                2.0  \n",
       "150    股票型基金      2       2                2.0  \n",
       "236    股票型基金      2       2                2.0  \n",
       "237    股票型基金      2       1                2.0  \n",
       "357    股票型基金      2       2                2.0  "
      ]
     },
     "execution_count": 42,
     "metadata": {},
     "output_type": "execute_result"
    }
   ],
   "source": [
    "not_available[not_available.Category == '股票型基金'].head(5)"
   ]
  },
  {
   "cell_type": "code",
   "execution_count": 43,
   "metadata": {},
   "outputs": [
    {
     "data": {
      "text/html": [
       "<div>\n",
       "<style scoped>\n",
       "    .dataframe tbody tr th:only-of-type {\n",
       "        vertical-align: middle;\n",
       "    }\n",
       "\n",
       "    .dataframe tbody tr th {\n",
       "        vertical-align: top;\n",
       "    }\n",
       "\n",
       "    .dataframe thead th {\n",
       "        text-align: right;\n",
       "    }\n",
       "</style>\n",
       "<table border=\"1\" class=\"dataframe\">\n",
       "  <thead>\n",
       "    <tr style=\"text-align: right;\">\n",
       "      <th></th>\n",
       "      <th>MasterFundCode</th>\n",
       "      <th>ReportTypeID</th>\n",
       "      <th>EndDate</th>\n",
       "      <th>CrossCode</th>\n",
       "      <th>CrossName</th>\n",
       "      <th>Equity</th>\n",
       "      <th>FundValue</th>\n",
       "      <th>FixedIncome</th>\n",
       "      <th>PreciousMetals</th>\n",
       "      <th>Derivative</th>\n",
       "      <th>OthersAsset</th>\n",
       "      <th>TotalAsset</th>\n",
       "    </tr>\n",
       "  </thead>\n",
       "  <tbody>\n",
       "    <tr>\n",
       "      <th>6031</th>\n",
       "      <td>71</td>\n",
       "      <td>4</td>\n",
       "      <td>2012-12</td>\n",
       "      <td>1</td>\n",
       "      <td>账面金额</td>\n",
       "      <td>NaN</td>\n",
       "      <td>2.016605e+08</td>\n",
       "      <td>NaN</td>\n",
       "      <td>NaN</td>\n",
       "      <td>NaN</td>\n",
       "      <td>436803.92</td>\n",
       "      <td>3.163774e+08</td>\n",
       "    </tr>\n",
       "    <tr>\n",
       "      <th>6032</th>\n",
       "      <td>71</td>\n",
       "      <td>4</td>\n",
       "      <td>2012-12</td>\n",
       "      <td>2</td>\n",
       "      <td>占基金总资产比例</td>\n",
       "      <td>NaN</td>\n",
       "      <td>6.374000e+01</td>\n",
       "      <td>NaN</td>\n",
       "      <td>NaN</td>\n",
       "      <td>NaN</td>\n",
       "      <td>0.14</td>\n",
       "      <td>1.000000e+02</td>\n",
       "    </tr>\n",
       "    <tr>\n",
       "      <th>6033</th>\n",
       "      <td>71</td>\n",
       "      <td>6</td>\n",
       "      <td>2012-12</td>\n",
       "      <td>1</td>\n",
       "      <td>账面金额</td>\n",
       "      <td>NaN</td>\n",
       "      <td>2.016605e+08</td>\n",
       "      <td>NaN</td>\n",
       "      <td>NaN</td>\n",
       "      <td>NaN</td>\n",
       "      <td>436803.92</td>\n",
       "      <td>3.163774e+08</td>\n",
       "    </tr>\n",
       "    <tr>\n",
       "      <th>6034</th>\n",
       "      <td>71</td>\n",
       "      <td>6</td>\n",
       "      <td>2012-12</td>\n",
       "      <td>2</td>\n",
       "      <td>占基金总资产比例</td>\n",
       "      <td>NaN</td>\n",
       "      <td>6.374000e+01</td>\n",
       "      <td>NaN</td>\n",
       "      <td>NaN</td>\n",
       "      <td>NaN</td>\n",
       "      <td>0.14</td>\n",
       "      <td>1.000000e+02</td>\n",
       "    </tr>\n",
       "    <tr>\n",
       "      <th>6035</th>\n",
       "      <td>71</td>\n",
       "      <td>6</td>\n",
       "      <td>2012-12</td>\n",
       "      <td>3</td>\n",
       "      <td>占基金资产净值比例</td>\n",
       "      <td>NaN</td>\n",
       "      <td>6.711000e+01</td>\n",
       "      <td>NaN</td>\n",
       "      <td>NaN</td>\n",
       "      <td>NaN</td>\n",
       "      <td>0.15</td>\n",
       "      <td>1.052900e+02</td>\n",
       "    </tr>\n",
       "  </tbody>\n",
       "</table>\n",
       "</div>"
      ],
      "text/plain": [
       "      MasterFundCode  ReportTypeID  EndDate  CrossCode  CrossName  Equity  \\\n",
       "6031              71             4  2012-12          1       账面金额     NaN   \n",
       "6032              71             4  2012-12          2   占基金总资产比例     NaN   \n",
       "6033              71             6  2012-12          1       账面金额     NaN   \n",
       "6034              71             6  2012-12          2   占基金总资产比例     NaN   \n",
       "6035              71             6  2012-12          3  占基金资产净值比例     NaN   \n",
       "\n",
       "         FundValue  FixedIncome  PreciousMetals  Derivative  OthersAsset  \\\n",
       "6031  2.016605e+08          NaN             NaN         NaN    436803.92   \n",
       "6032  6.374000e+01          NaN             NaN         NaN         0.14   \n",
       "6033  2.016605e+08          NaN             NaN         NaN    436803.92   \n",
       "6034  6.374000e+01          NaN             NaN         NaN         0.14   \n",
       "6035  6.711000e+01          NaN             NaN         NaN         0.15   \n",
       "\n",
       "        TotalAsset  \n",
       "6031  3.163774e+08  \n",
       "6032  1.000000e+02  \n",
       "6033  3.163774e+08  \n",
       "6034  1.000000e+02  \n",
       "6035  1.052900e+02  "
      ]
     },
     "execution_count": 43,
     "metadata": {},
     "output_type": "execute_result"
    }
   ],
   "source": [
    "inspect_code = 71\n",
    "allocation[allocation.MasterFundCode == inspect_code].head(5)"
   ]
  },
  {
   "cell_type": "code",
   "execution_count": 44,
   "metadata": {},
   "outputs": [
    {
     "data": {
      "text/html": [
       "<div>\n",
       "<style scoped>\n",
       "    .dataframe tbody tr th:only-of-type {\n",
       "        vertical-align: middle;\n",
       "    }\n",
       "\n",
       "    .dataframe tbody tr th {\n",
       "        vertical-align: top;\n",
       "    }\n",
       "\n",
       "    .dataframe thead th {\n",
       "        text-align: right;\n",
       "    }\n",
       "</style>\n",
       "<table border=\"1\" class=\"dataframe\">\n",
       "  <thead>\n",
       "    <tr style=\"text-align: right;\">\n",
       "      <th></th>\n",
       "      <th>MasterFundCode</th>\n",
       "      <th>FundID</th>\n",
       "      <th>FullName</th>\n",
       "      <th>InceptionDate</th>\n",
       "      <th>Category</th>\n",
       "      <th>IsETF</th>\n",
       "      <th>IsQDII</th>\n",
       "      <th>IsActiveOrPassive</th>\n",
       "    </tr>\n",
       "  </thead>\n",
       "  <tbody>\n",
       "    <tr>\n",
       "      <th>18</th>\n",
       "      <td>58</td>\n",
       "      <td>10111888</td>\n",
       "      <td>国联安灵活配置混合型证券投资基金</td>\n",
       "      <td>2013-04</td>\n",
       "      <td>混合型基金</td>\n",
       "      <td>2</td>\n",
       "      <td>2</td>\n",
       "      <td>1.0</td>\n",
       "    </tr>\n",
       "    <tr>\n",
       "      <th>20</th>\n",
       "      <td>66</td>\n",
       "      <td>10113694</td>\n",
       "      <td>诺安鸿鑫混合型证券投资基金</td>\n",
       "      <td>2013-05</td>\n",
       "      <td>混合型基金</td>\n",
       "      <td>2</td>\n",
       "      <td>2</td>\n",
       "      <td>1.0</td>\n",
       "    </tr>\n",
       "    <tr>\n",
       "      <th>23</th>\n",
       "      <td>72</td>\n",
       "      <td>10113798</td>\n",
       "      <td>华安稳健回报混合型证券投资基金</td>\n",
       "      <td>2013-05</td>\n",
       "      <td>混合型基金</td>\n",
       "      <td>2</td>\n",
       "      <td>2</td>\n",
       "      <td>1.0</td>\n",
       "    </tr>\n",
       "    <tr>\n",
       "      <th>37</th>\n",
       "      <td>110</td>\n",
       "      <td>10114123</td>\n",
       "      <td>金鹰元安混合型证券投资基金</td>\n",
       "      <td>2013-05</td>\n",
       "      <td>混合型基金</td>\n",
       "      <td>2</td>\n",
       "      <td>2</td>\n",
       "      <td>1.0</td>\n",
       "    </tr>\n",
       "    <tr>\n",
       "      <th>42</th>\n",
       "      <td>125</td>\n",
       "      <td>10116672</td>\n",
       "      <td>上投摩根天颐年丰混合型证券投资基金</td>\n",
       "      <td>2013-07</td>\n",
       "      <td>混合型基金</td>\n",
       "      <td>2</td>\n",
       "      <td>2</td>\n",
       "      <td>1.0</td>\n",
       "    </tr>\n",
       "  </tbody>\n",
       "</table>\n",
       "</div>"
      ],
      "text/plain": [
       "   MasterFundCode    FundID           FullName InceptionDate Category  IsETF  \\\n",
       "18             58  10111888   国联安灵活配置混合型证券投资基金       2013-04    混合型基金      2   \n",
       "20             66  10113694      诺安鸿鑫混合型证券投资基金       2013-05    混合型基金      2   \n",
       "23             72  10113798    华安稳健回报混合型证券投资基金       2013-05    混合型基金      2   \n",
       "37            110  10114123      金鹰元安混合型证券投资基金       2013-05    混合型基金      2   \n",
       "42            125  10116672  上投摩根天颐年丰混合型证券投资基金       2013-07    混合型基金      2   \n",
       "\n",
       "    IsQDII  IsActiveOrPassive  \n",
       "18       2                1.0  \n",
       "20       2                1.0  \n",
       "23       2                1.0  \n",
       "37       2                1.0  \n",
       "42       2                1.0  "
      ]
     },
     "execution_count": 44,
     "metadata": {},
     "output_type": "execute_result"
    }
   ],
   "source": [
    "not_available[not_available.Category == '混合型基金'].head(5)"
   ]
  },
  {
   "cell_type": "code",
   "execution_count": 45,
   "metadata": {},
   "outputs": [
    {
     "data": {
      "text/html": [
       "<div>\n",
       "<style scoped>\n",
       "    .dataframe tbody tr th:only-of-type {\n",
       "        vertical-align: middle;\n",
       "    }\n",
       "\n",
       "    .dataframe tbody tr th {\n",
       "        vertical-align: top;\n",
       "    }\n",
       "\n",
       "    .dataframe thead th {\n",
       "        text-align: right;\n",
       "    }\n",
       "</style>\n",
       "<table border=\"1\" class=\"dataframe\">\n",
       "  <thead>\n",
       "    <tr style=\"text-align: right;\">\n",
       "      <th></th>\n",
       "      <th>MasterFundCode</th>\n",
       "      <th>ReportTypeID</th>\n",
       "      <th>EndDate</th>\n",
       "      <th>CrossCode</th>\n",
       "      <th>CrossName</th>\n",
       "      <th>Equity</th>\n",
       "      <th>FundValue</th>\n",
       "      <th>FixedIncome</th>\n",
       "      <th>PreciousMetals</th>\n",
       "      <th>Derivative</th>\n",
       "      <th>OthersAsset</th>\n",
       "      <th>TotalAsset</th>\n",
       "    </tr>\n",
       "  </thead>\n",
       "  <tbody>\n",
       "    <tr>\n",
       "      <th>4757</th>\n",
       "      <td>58</td>\n",
       "      <td>1</td>\n",
       "      <td>2017-03</td>\n",
       "      <td>1</td>\n",
       "      <td>账面金额</td>\n",
       "      <td>NaN</td>\n",
       "      <td>NaN</td>\n",
       "      <td>43536794.50</td>\n",
       "      <td>NaN</td>\n",
       "      <td>NaN</td>\n",
       "      <td>714045.86</td>\n",
       "      <td>53850477.56</td>\n",
       "    </tr>\n",
       "    <tr>\n",
       "      <th>4758</th>\n",
       "      <td>58</td>\n",
       "      <td>1</td>\n",
       "      <td>2017-03</td>\n",
       "      <td>2</td>\n",
       "      <td>占基金总资产比例</td>\n",
       "      <td>NaN</td>\n",
       "      <td>NaN</td>\n",
       "      <td>80.85</td>\n",
       "      <td>NaN</td>\n",
       "      <td>NaN</td>\n",
       "      <td>1.33</td>\n",
       "      <td>100.00</td>\n",
       "    </tr>\n",
       "    <tr>\n",
       "      <th>4759</th>\n",
       "      <td>58</td>\n",
       "      <td>2</td>\n",
       "      <td>2017-06</td>\n",
       "      <td>2</td>\n",
       "      <td>占基金总资产比例</td>\n",
       "      <td>NaN</td>\n",
       "      <td>NaN</td>\n",
       "      <td>95.34</td>\n",
       "      <td>NaN</td>\n",
       "      <td>NaN</td>\n",
       "      <td>1.91</td>\n",
       "      <td>100.00</td>\n",
       "    </tr>\n",
       "    <tr>\n",
       "      <th>4760</th>\n",
       "      <td>58</td>\n",
       "      <td>2</td>\n",
       "      <td>2017-06</td>\n",
       "      <td>1</td>\n",
       "      <td>账面金额</td>\n",
       "      <td>NaN</td>\n",
       "      <td>NaN</td>\n",
       "      <td>48355423.14</td>\n",
       "      <td>NaN</td>\n",
       "      <td>NaN</td>\n",
       "      <td>967223.75</td>\n",
       "      <td>50721283.53</td>\n",
       "    </tr>\n",
       "    <tr>\n",
       "      <th>4761</th>\n",
       "      <td>58</td>\n",
       "      <td>5</td>\n",
       "      <td>2017-06</td>\n",
       "      <td>1</td>\n",
       "      <td>账面金额</td>\n",
       "      <td>NaN</td>\n",
       "      <td>NaN</td>\n",
       "      <td>48355423.14</td>\n",
       "      <td>NaN</td>\n",
       "      <td>NaN</td>\n",
       "      <td>967223.75</td>\n",
       "      <td>50721283.53</td>\n",
       "    </tr>\n",
       "  </tbody>\n",
       "</table>\n",
       "</div>"
      ],
      "text/plain": [
       "      MasterFundCode  ReportTypeID  EndDate  CrossCode CrossName  Equity  \\\n",
       "4757              58             1  2017-03          1      账面金额     NaN   \n",
       "4758              58             1  2017-03          2  占基金总资产比例     NaN   \n",
       "4759              58             2  2017-06          2  占基金总资产比例     NaN   \n",
       "4760              58             2  2017-06          1      账面金额     NaN   \n",
       "4761              58             5  2017-06          1      账面金额     NaN   \n",
       "\n",
       "      FundValue  FixedIncome  PreciousMetals  Derivative  OthersAsset  \\\n",
       "4757        NaN  43536794.50             NaN         NaN    714045.86   \n",
       "4758        NaN        80.85             NaN         NaN         1.33   \n",
       "4759        NaN        95.34             NaN         NaN         1.91   \n",
       "4760        NaN  48355423.14             NaN         NaN    967223.75   \n",
       "4761        NaN  48355423.14             NaN         NaN    967223.75   \n",
       "\n",
       "       TotalAsset  \n",
       "4757  53850477.56  \n",
       "4758       100.00  \n",
       "4759       100.00  \n",
       "4760  50721283.53  \n",
       "4761  50721283.53  "
      ]
     },
     "execution_count": 45,
     "metadata": {},
     "output_type": "execute_result"
    }
   ],
   "source": [
    "inspect_code = 58\n",
    "# 混合型基金，故二重索引\n",
    "# try `allocation[allocation.MasterFundCode == inspect_code].head(5)`\n",
    "allocation[allocation.MasterFundCode == inspect_code][pd.isna(allocation[allocation.MasterFundCode == inspect_code].Equity)].head(5)\n",
    "# 补全Equity"
   ]
  },
  {
   "cell_type": "markdown",
   "metadata": {},
   "source": [
    "**erratum**\n",
    "\n",
    "*problem*: annual report or semi-annual report not available before 2008\n",
    "\n",
    "*reason*: regulation rule changed\n",
    "\n",
    "*solve*: add second quarter report"
   ]
  },
  {
   "cell_type": "code",
   "execution_count": 46,
   "metadata": {},
   "outputs": [
    {
     "name": "stdout",
     "output_type": "stream",
     "text": [
      "CPU times: total: 2.72 s\n",
      "Wall time: 3.02 s\n"
     ]
    },
    {
     "data": {
      "image/png": "[encoded data removed]",
      "text/plain": [
       "<Figure size 1152x288 with 1 Axes>"
      ]
     },
     "metadata": {
      "needs_background": "light"
     },
     "output_type": "display_data"
    }
   ],
   "source": [
    "%%time\n",
    "allocation['report_type_check'] = allocation.EndDate.dt.asfreq('y')\n",
    "report_type_check = allocation.groupby(['MasterFundCode', 'report_type_check']).apply(lambda temp : 5 in temp.ReportTypeID.values or 6 in temp.ReportTypeID.values)\n",
    "plt.figure(figsize=(16,4))\n",
    "report_type_check_ = report_type_check.groupby(level=1).apply(lambda temp: temp.sum() / len(temp))\n",
    "year_report_count = report_type_check.groupby(level=1).apply(lambda temp: temp.sum())\n",
    "total_report_count = report_type_check.groupby(level=1).apply(lambda temp: len(temp))\n",
    "plt.scatter(x=report_type_check_.index.astype(str), y=report_type_check_.values)\n",
    "temp = year_report_count.cumsum() / total_report_count.cumsum()\n",
    "plt.plot(temp.index.astype(str), temp.values)\n",
    "plt.title('(cumulative sum of) proportion for symbols who have annual/semi-annual report')\n",
    "pass"
   ]
  },
  {
   "cell_type": "markdown",
   "metadata": {},
   "source": [
    "<img src=\"attachment/2008_search.png\" alt=\"drawing\" width=\"500\"/> <img src=\"attachment/2009_search.png\" alt=\"drawing\" width=\"508\"/>\n",
    "\n",
    "[中国证券监督管理委员会公告〔2008〕第4号](http://www.gov.cn/zwgk/2008-02/21/content_896020.htm)\n"
   ]
  },
  {
   "cell_type": "code",
   "execution_count": 47,
   "metadata": {},
   "outputs": [
    {
     "name": "stdout",
     "output_type": "stream",
     "text": [
      "CPU times: total: 25.9 s\n",
      "Wall time: 27.2 s\n"
     ]
    },
    {
     "data": {
      "text/plain": [
       "MasterFundCode  EndDate        \n",
       "1               2002-03  0         0.322983\n",
       "                         1         0.323000\n",
       "                2002-06  2         0.441513\n",
       "                         3         0.441500\n",
       "                2002-09  4         0.462637\n",
       "                                     ...   \n",
       "980003          2022-03  646977         NaN\n",
       "                2022-06  646978         NaN\n",
       "                         646979         NaN\n",
       "                         646980         NaN\n",
       "                         646981         NaN\n",
       "Name: proportion, Length: 646982, dtype: float64"
      ]
     },
     "execution_count": 47,
     "metadata": {},
     "output_type": "execute_result"
    }
   ],
   "source": [
    "%%time\n",
    "# CrossCodes do not matter\n",
    "allocation['proportion'] = allocation.Equity / allocation.TotalAsset\n",
    "allocation['flag'] = allocation.proportion > .3\n",
    "allocation.groupby(['MasterFundCode', 'EndDate']).apply(lambda cross_code: cross_code.proportion)"
   ]
  },
  {
   "cell_type": "code",
   "execution_count": 48,
   "metadata": {},
   "outputs": [
    {
     "name": "stdout",
     "output_type": "stream",
     "text": [
      "CPU times: total: 40.2 s\n",
      "Wall time: 42.9 s\n"
     ]
    }
   ],
   "source": [
    "%%time\n",
    "# keep only one CrossCode per report period per symbol\n",
    "def func(temp):\n",
    "    if temp.flag.any():\n",
    "        return temp[temp.flag].iloc[0]\n",
    "\n",
    "allocation_ = allocation.groupby(['MasterFundCode', 'EndDate']).apply(func)"
   ]
  },
  {
   "cell_type": "markdown",
   "metadata": {},
   "source": [
    "#### iv. check: Fund_ShareChange\n",
    "\n",
    "基金概况 — 份额变动文件"
   ]
  },
  {
   "cell_type": "markdown",
   "metadata": {},
   "source": [
    "**erratum**\n",
    "\n",
    "*problem*: ≈1% wrong `Fund_ShareChange`\n",
    "\n",
    "*reason*: wrong data\n",
    "\n",
    "*solve*: keep the last one"
   ]
  },
  {
   "cell_type": "code",
   "execution_count": 49,
   "metadata": {},
   "outputs": [
    {
     "data": {
      "text/html": [
       "<div>\n",
       "<style scoped>\n",
       "    .dataframe tbody tr th:only-of-type {\n",
       "        vertical-align: middle;\n",
       "    }\n",
       "\n",
       "    .dataframe tbody tr th {\n",
       "        vertical-align: top;\n",
       "    }\n",
       "\n",
       "    .dataframe thead th {\n",
       "        text-align: right;\n",
       "    }\n",
       "</style>\n",
       "<table border=\"1\" class=\"dataframe\">\n",
       "  <thead>\n",
       "    <tr style=\"text-align: right;\">\n",
       "      <th></th>\n",
       "      <th></th>\n",
       "      <th>ReportTypeID</th>\n",
       "      <th>EndDateShares</th>\n",
       "    </tr>\n",
       "    <tr>\n",
       "      <th>Symbol</th>\n",
       "      <th>EndDate</th>\n",
       "      <th></th>\n",
       "      <th></th>\n",
       "    </tr>\n",
       "  </thead>\n",
       "  <tbody>\n",
       "    <tr>\n",
       "      <th rowspan=\"5\" valign=\"top\">28</th>\n",
       "      <th>2019-06</th>\n",
       "      <td>2</td>\n",
       "      <td>1.072282e+08</td>\n",
       "    </tr>\n",
       "    <tr>\n",
       "      <th>2019-06</th>\n",
       "      <td>5</td>\n",
       "      <td>1.072282e+08</td>\n",
       "    </tr>\n",
       "    <tr>\n",
       "      <th>2019-06</th>\n",
       "      <td>6</td>\n",
       "      <td>1.072282e+08</td>\n",
       "    </tr>\n",
       "    <tr>\n",
       "      <th>2019-06</th>\n",
       "      <td>2</td>\n",
       "      <td>8.847101e+07</td>\n",
       "    </tr>\n",
       "    <tr>\n",
       "      <th>2019-06</th>\n",
       "      <td>5</td>\n",
       "      <td>8.847101e+07</td>\n",
       "    </tr>\n",
       "    <tr>\n",
       "      <th>...</th>\n",
       "      <th>...</th>\n",
       "      <td>...</td>\n",
       "      <td>...</td>\n",
       "    </tr>\n",
       "    <tr>\n",
       "      <th>970058</th>\n",
       "      <th>2021-12</th>\n",
       "      <td>6</td>\n",
       "      <td>7.161019e+07</td>\n",
       "    </tr>\n",
       "    <tr>\n",
       "      <th rowspan=\"2\" valign=\"top\">970059</th>\n",
       "      <th>2021-12</th>\n",
       "      <td>4</td>\n",
       "      <td>NaN</td>\n",
       "    </tr>\n",
       "    <tr>\n",
       "      <th>2021-12</th>\n",
       "      <td>6</td>\n",
       "      <td>1.251201e+07</td>\n",
       "    </tr>\n",
       "    <tr>\n",
       "      <th rowspan=\"2\" valign=\"top\">970060</th>\n",
       "      <th>2021-12</th>\n",
       "      <td>4</td>\n",
       "      <td>NaN</td>\n",
       "    </tr>\n",
       "    <tr>\n",
       "      <th>2021-12</th>\n",
       "      <td>6</td>\n",
       "      <td>6.645630e+07</td>\n",
       "    </tr>\n",
       "  </tbody>\n",
       "</table>\n",
       "<p>2328 rows × 2 columns</p>\n",
       "</div>"
      ],
      "text/plain": [
       "                ReportTypeID  EndDateShares\n",
       "Symbol EndDate                             \n",
       "28     2019-06             2   1.072282e+08\n",
       "       2019-06             5   1.072282e+08\n",
       "       2019-06             6   1.072282e+08\n",
       "       2019-06             2   8.847101e+07\n",
       "       2019-06             5   8.847101e+07\n",
       "...                      ...            ...\n",
       "970058 2021-12             6   7.161019e+07\n",
       "970059 2021-12             4            NaN\n",
       "       2021-12             6   1.251201e+07\n",
       "970060 2021-12             4            NaN\n",
       "       2021-12             6   6.645630e+07\n",
       "\n",
       "[2328 rows x 2 columns]"
      ]
     },
     "execution_count": 49,
     "metadata": {},
     "output_type": "execute_result"
    }
   ],
   "source": [
    "share_info_erratum = share_info.set_index(['Symbol', 'EndDate'])\n",
    "filter_share = share_info_erratum.groupby(['Symbol', 'EndDate'])\\\n",
    "    .apply(lambda duplicated: True if len(duplicated.EndDateShares.unique()) == 1 else False)\n",
    "share_info_erratum_ = share_info_erratum.loc[filter_share[~filter_share].index]\n",
    "share_info_erratum_"
   ]
  },
  {
   "cell_type": "markdown",
   "metadata": {},
   "source": [
    "e.g.\n",
    "\n",
    "`Symbol == 28`\n"
   ]
  },
  {
   "cell_type": "code",
   "execution_count": 50,
   "metadata": {},
   "outputs": [
    {
     "data": {
      "text/html": [
       "<div>\n",
       "<style scoped>\n",
       "    .dataframe tbody tr th:only-of-type {\n",
       "        vertical-align: middle;\n",
       "    }\n",
       "\n",
       "    .dataframe tbody tr th {\n",
       "        vertical-align: top;\n",
       "    }\n",
       "\n",
       "    .dataframe thead th {\n",
       "        text-align: right;\n",
       "    }\n",
       "</style>\n",
       "<table border=\"1\" class=\"dataframe\">\n",
       "  <thead>\n",
       "    <tr style=\"text-align: right;\">\n",
       "      <th></th>\n",
       "      <th>ReportTypeID</th>\n",
       "      <th>EndDateShares</th>\n",
       "    </tr>\n",
       "    <tr>\n",
       "      <th>EndDate</th>\n",
       "      <th></th>\n",
       "      <th></th>\n",
       "    </tr>\n",
       "  </thead>\n",
       "  <tbody>\n",
       "    <tr>\n",
       "      <th>2019-06</th>\n",
       "      <td>2</td>\n",
       "      <td>1.072282e+08</td>\n",
       "    </tr>\n",
       "    <tr>\n",
       "      <th>2019-06</th>\n",
       "      <td>5</td>\n",
       "      <td>1.072282e+08</td>\n",
       "    </tr>\n",
       "    <tr>\n",
       "      <th>2019-06</th>\n",
       "      <td>6</td>\n",
       "      <td>1.072282e+08</td>\n",
       "    </tr>\n",
       "    <tr>\n",
       "      <th>2019-06</th>\n",
       "      <td>2</td>\n",
       "      <td>8.847101e+07</td>\n",
       "    </tr>\n",
       "    <tr>\n",
       "      <th>2019-06</th>\n",
       "      <td>5</td>\n",
       "      <td>8.847101e+07</td>\n",
       "    </tr>\n",
       "  </tbody>\n",
       "</table>\n",
       "</div>"
      ],
      "text/plain": [
       "         ReportTypeID  EndDateShares\n",
       "EndDate                             \n",
       "2019-06             2   1.072282e+08\n",
       "2019-06             5   1.072282e+08\n",
       "2019-06             6   1.072282e+08\n",
       "2019-06             2   8.847101e+07\n",
       "2019-06             5   8.847101e+07"
      ]
     },
     "execution_count": 50,
     "metadata": {},
     "output_type": "execute_result"
    }
   ],
   "source": [
    "share_info_erratum_.loc[28, slice(None)]"
   ]
  },
  {
   "cell_type": "markdown",
   "metadata": {},
   "source": [
    "e.g.\n",
    "\n",
    "`Symbol == 970059`\n"
   ]
  },
  {
   "cell_type": "code",
   "execution_count": 51,
   "metadata": {},
   "outputs": [
    {
     "data": {
      "text/html": [
       "<div>\n",
       "<style scoped>\n",
       "    .dataframe tbody tr th:only-of-type {\n",
       "        vertical-align: middle;\n",
       "    }\n",
       "\n",
       "    .dataframe tbody tr th {\n",
       "        vertical-align: top;\n",
       "    }\n",
       "\n",
       "    .dataframe thead th {\n",
       "        text-align: right;\n",
       "    }\n",
       "</style>\n",
       "<table border=\"1\" class=\"dataframe\">\n",
       "  <thead>\n",
       "    <tr style=\"text-align: right;\">\n",
       "      <th></th>\n",
       "      <th>ReportTypeID</th>\n",
       "      <th>EndDateShares</th>\n",
       "    </tr>\n",
       "    <tr>\n",
       "      <th>EndDate</th>\n",
       "      <th></th>\n",
       "      <th></th>\n",
       "    </tr>\n",
       "  </thead>\n",
       "  <tbody>\n",
       "    <tr>\n",
       "      <th>2021-12</th>\n",
       "      <td>4</td>\n",
       "      <td>NaN</td>\n",
       "    </tr>\n",
       "    <tr>\n",
       "      <th>2021-12</th>\n",
       "      <td>6</td>\n",
       "      <td>12512009.66</td>\n",
       "    </tr>\n",
       "  </tbody>\n",
       "</table>\n",
       "</div>"
      ],
      "text/plain": [
       "         ReportTypeID  EndDateShares\n",
       "EndDate                             \n",
       "2021-12             4            NaN\n",
       "2021-12             6    12512009.66"
      ]
     },
     "execution_count": 51,
     "metadata": {},
     "output_type": "execute_result"
    }
   ],
   "source": [
    "share_info_erratum_.loc[970059, slice(None)]"
   ]
  },
  {
   "cell_type": "markdown",
   "metadata": {},
   "source": [
    "e.g.\n",
    "\n",
    "`Symbol == 970060`\n"
   ]
  },
  {
   "cell_type": "code",
   "execution_count": 52,
   "metadata": {},
   "outputs": [
    {
     "data": {
      "text/html": [
       "<div>\n",
       "<style scoped>\n",
       "    .dataframe tbody tr th:only-of-type {\n",
       "        vertical-align: middle;\n",
       "    }\n",
       "\n",
       "    .dataframe tbody tr th {\n",
       "        vertical-align: top;\n",
       "    }\n",
       "\n",
       "    .dataframe thead th {\n",
       "        text-align: right;\n",
       "    }\n",
       "</style>\n",
       "<table border=\"1\" class=\"dataframe\">\n",
       "  <thead>\n",
       "    <tr style=\"text-align: right;\">\n",
       "      <th></th>\n",
       "      <th>ReportTypeID</th>\n",
       "      <th>EndDateShares</th>\n",
       "    </tr>\n",
       "    <tr>\n",
       "      <th>EndDate</th>\n",
       "      <th></th>\n",
       "      <th></th>\n",
       "    </tr>\n",
       "  </thead>\n",
       "  <tbody>\n",
       "    <tr>\n",
       "      <th>2021-12</th>\n",
       "      <td>4</td>\n",
       "      <td>NaN</td>\n",
       "    </tr>\n",
       "    <tr>\n",
       "      <th>2021-12</th>\n",
       "      <td>6</td>\n",
       "      <td>66456295.68</td>\n",
       "    </tr>\n",
       "  </tbody>\n",
       "</table>\n",
       "</div>"
      ],
      "text/plain": [
       "         ReportTypeID  EndDateShares\n",
       "EndDate                             \n",
       "2021-12             4            NaN\n",
       "2021-12             6    66456295.68"
      ]
     },
     "execution_count": 52,
     "metadata": {},
     "output_type": "execute_result"
    }
   ],
   "source": [
    "share_info_erratum_.loc[970060, slice(None)]"
   ]
  },
  {
   "cell_type": "code",
   "execution_count": 53,
   "metadata": {},
   "outputs": [
    {
     "data": {
      "text/plain": [
       "'0.5700000000000001% Symbol-Month in `share_info` have more than one `EndDateShares`'"
      ]
     },
     "execution_count": 53,
     "metadata": {},
     "output_type": "execute_result"
    }
   ],
   "source": [
    "round_(len(share_info_erratum_) / len(share_info_erratum)) + ' Symbol-Month in `share_info` have more than one `EndDateShares`'"
   ]
  },
  {
   "cell_type": "markdown",
   "metadata": {},
   "source": [
    "<img src=\"attachment/share_erratum.png\" alt=\"drawing\" width=\"600\"/>"
   ]
  },
  {
   "cell_type": "code",
   "execution_count": 54,
   "metadata": {},
   "outputs": [
    {
     "data": {
      "text/plain": [
       "'0.09% wrong data in `share_info` deleted'"
      ]
     },
     "execution_count": 54,
     "metadata": {},
     "output_type": "execute_result"
    }
   ],
   "source": [
    "share_info_ = share_info.groupby(['Symbol', 'EndDate', 'ReportTypeID']).last().reset_index(['ReportTypeID'])\n",
    "round_(1 - len(share_info_) / len(share_info)) + ' wrong data in `share_info` deleted'"
   ]
  },
  {
   "cell_type": "markdown",
   "metadata": {},
   "source": [
    "#### v. last 2 : dynamic filtering"
   ]
  },
  {
   "cell_type": "markdown",
   "metadata": {},
   "source": [
    "（5）基金上市时间超过一年"
   ]
  },
  {
   "cell_type": "code",
   "execution_count": 55,
   "metadata": {},
   "outputs": [
    {
     "data": {
      "text/plain": [
       "'filter 5: 144418 to 111230, 22.98% Symbol-Month dropped'"
      ]
     },
     "execution_count": 55,
     "metadata": {},
     "output_type": "execute_result"
    }
   ],
   "source": [
    "filter_5 = main_data.EndDate >= main_data.InceptionDate + pd.offsets.MonthEnd(12)\n",
    "\n",
    "f'filter 5: {len(main_data)} to {filter_5.sum()}, {round_(1 - filter_5.sum() / len(main_data))} Symbol-Month dropped'\n",
    "# Symbol statistic"
   ]
  },
  {
   "cell_type": "code",
   "execution_count": 56,
   "metadata": {},
   "outputs": [
    {
     "data": {
      "text/html": [
       "<div>\n",
       "<style scoped>\n",
       "    .dataframe tbody tr th:only-of-type {\n",
       "        vertical-align: middle;\n",
       "    }\n",
       "\n",
       "    .dataframe tbody tr th {\n",
       "        vertical-align: top;\n",
       "    }\n",
       "\n",
       "    .dataframe thead th {\n",
       "        text-align: right;\n",
       "    }\n",
       "</style>\n",
       "<table border=\"1\" class=\"dataframe\">\n",
       "  <thead>\n",
       "    <tr style=\"text-align: right;\">\n",
       "      <th></th>\n",
       "      <th>Symbol</th>\n",
       "      <th>EndDate</th>\n",
       "      <th>InceptionDate</th>\n",
       "      <th>MasterFundCode</th>\n",
       "      <th>Category</th>\n",
       "      <th>FullName</th>\n",
       "    </tr>\n",
       "  </thead>\n",
       "  <tbody>\n",
       "    <tr>\n",
       "      <th>4</th>\n",
       "      <td>6</td>\n",
       "      <td>2020-03</td>\n",
       "      <td>2019-03</td>\n",
       "      <td>6</td>\n",
       "      <td>混合型基金</td>\n",
       "      <td>西部利得量化成长混合型发起式证券投资基金</td>\n",
       "    </tr>\n",
       "    <tr>\n",
       "      <th>5</th>\n",
       "      <td>6</td>\n",
       "      <td>2020-06</td>\n",
       "      <td>2019-03</td>\n",
       "      <td>6</td>\n",
       "      <td>混合型基金</td>\n",
       "      <td>西部利得量化成长混合型发起式证券投资基金</td>\n",
       "    </tr>\n",
       "    <tr>\n",
       "      <th>6</th>\n",
       "      <td>6</td>\n",
       "      <td>2020-09</td>\n",
       "      <td>2019-03</td>\n",
       "      <td>6</td>\n",
       "      <td>混合型基金</td>\n",
       "      <td>西部利得量化成长混合型发起式证券投资基金</td>\n",
       "    </tr>\n",
       "    <tr>\n",
       "      <th>7</th>\n",
       "      <td>6</td>\n",
       "      <td>2020-12</td>\n",
       "      <td>2019-03</td>\n",
       "      <td>6</td>\n",
       "      <td>混合型基金</td>\n",
       "      <td>西部利得量化成长混合型发起式证券投资基金</td>\n",
       "    </tr>\n",
       "    <tr>\n",
       "      <th>8</th>\n",
       "      <td>6</td>\n",
       "      <td>2021-03</td>\n",
       "      <td>2019-03</td>\n",
       "      <td>6</td>\n",
       "      <td>混合型基金</td>\n",
       "      <td>西部利得量化成长混合型发起式证券投资基金</td>\n",
       "    </tr>\n",
       "    <tr>\n",
       "      <th>...</th>\n",
       "      <td>...</td>\n",
       "      <td>...</td>\n",
       "      <td>...</td>\n",
       "      <td>...</td>\n",
       "      <td>...</td>\n",
       "      <td>...</td>\n",
       "    </tr>\n",
       "    <tr>\n",
       "      <th>144323</th>\n",
       "      <td>970048</td>\n",
       "      <td>2022-09</td>\n",
       "      <td>2021-07</td>\n",
       "      <td>970048</td>\n",
       "      <td>混合型基金</td>\n",
       "      <td>东海证券海睿致远灵活配置混合型集合资产管理计划</td>\n",
       "    </tr>\n",
       "    <tr>\n",
       "      <th>144332</th>\n",
       "      <td>970051</td>\n",
       "      <td>2022-09</td>\n",
       "      <td>2021-09</td>\n",
       "      <td>970051</td>\n",
       "      <td>混合型基金</td>\n",
       "      <td>银河安丰九个月滚动持有混合型集合资产管理计划</td>\n",
       "    </tr>\n",
       "    <tr>\n",
       "      <th>144337</th>\n",
       "      <td>970067</td>\n",
       "      <td>2022-09</td>\n",
       "      <td>2021-08</td>\n",
       "      <td>970068</td>\n",
       "      <td>混合型基金</td>\n",
       "      <td>兴证资管金麒麟消费升级混合型集合资产管理计划</td>\n",
       "    </tr>\n",
       "    <tr>\n",
       "      <th>144342</th>\n",
       "      <td>970068</td>\n",
       "      <td>2022-09</td>\n",
       "      <td>2021-08</td>\n",
       "      <td>970068</td>\n",
       "      <td>混合型基金</td>\n",
       "      <td>兴证资管金麒麟消费升级混合型集合资产管理计划</td>\n",
       "    </tr>\n",
       "    <tr>\n",
       "      <th>144347</th>\n",
       "      <td>970069</td>\n",
       "      <td>2022-09</td>\n",
       "      <td>2021-08</td>\n",
       "      <td>970068</td>\n",
       "      <td>混合型基金</td>\n",
       "      <td>兴证资管金麒麟消费升级混合型集合资产管理计划</td>\n",
       "    </tr>\n",
       "  </tbody>\n",
       "</table>\n",
       "<p>111230 rows × 6 columns</p>\n",
       "</div>"
      ],
      "text/plain": [
       "        Symbol  EndDate InceptionDate  MasterFundCode Category  \\\n",
       "4            6  2020-03       2019-03               6    混合型基金   \n",
       "5            6  2020-06       2019-03               6    混合型基金   \n",
       "6            6  2020-09       2019-03               6    混合型基金   \n",
       "7            6  2020-12       2019-03               6    混合型基金   \n",
       "8            6  2021-03       2019-03               6    混合型基金   \n",
       "...        ...      ...           ...             ...      ...   \n",
       "144323  970048  2022-09       2021-07          970048    混合型基金   \n",
       "144332  970051  2022-09       2021-09          970051    混合型基金   \n",
       "144337  970067  2022-09       2021-08          970068    混合型基金   \n",
       "144342  970068  2022-09       2021-08          970068    混合型基金   \n",
       "144347  970069  2022-09       2021-08          970068    混合型基金   \n",
       "\n",
       "                       FullName  \n",
       "4          西部利得量化成长混合型发起式证券投资基金  \n",
       "5          西部利得量化成长混合型发起式证券投资基金  \n",
       "6          西部利得量化成长混合型发起式证券投资基金  \n",
       "7          西部利得量化成长混合型发起式证券投资基金  \n",
       "8          西部利得量化成长混合型发起式证券投资基金  \n",
       "...                         ...  \n",
       "144323  东海证券海睿致远灵活配置混合型集合资产管理计划  \n",
       "144332   银河安丰九个月滚动持有混合型集合资产管理计划  \n",
       "144337   兴证资管金麒麟消费升级混合型集合资产管理计划  \n",
       "144342   兴证资管金麒麟消费升级混合型集合资产管理计划  \n",
       "144347   兴证资管金麒麟消费升级混合型集合资产管理计划  \n",
       "\n",
       "[111230 rows x 6 columns]"
      ]
     },
     "execution_count": 56,
     "metadata": {},
     "output_type": "execute_result"
    }
   ],
   "source": [
    "main_data[filter_5]"
   ]
  },
  {
   "cell_type": "code",
   "execution_count": 57,
   "metadata": {},
   "outputs": [
    {
     "data": {
      "text/html": [
       "<div>\n",
       "<style scoped>\n",
       "    .dataframe tbody tr th:only-of-type {\n",
       "        vertical-align: middle;\n",
       "    }\n",
       "\n",
       "    .dataframe tbody tr th {\n",
       "        vertical-align: top;\n",
       "    }\n",
       "\n",
       "    .dataframe thead th {\n",
       "        text-align: right;\n",
       "    }\n",
       "</style>\n",
       "<table border=\"1\" class=\"dataframe\">\n",
       "  <thead>\n",
       "    <tr style=\"text-align: right;\">\n",
       "      <th></th>\n",
       "      <th>Symbol</th>\n",
       "      <th>EndDate</th>\n",
       "      <th>InceptionDate</th>\n",
       "      <th>MasterFundCode</th>\n",
       "      <th>Category</th>\n",
       "      <th>FullName</th>\n",
       "    </tr>\n",
       "  </thead>\n",
       "  <tbody>\n",
       "    <tr>\n",
       "      <th>0</th>\n",
       "      <td>6</td>\n",
       "      <td>2020-03</td>\n",
       "      <td>2019-03</td>\n",
       "      <td>6</td>\n",
       "      <td>混合型基金</td>\n",
       "      <td>西部利得量化成长混合型发起式证券投资基金</td>\n",
       "    </tr>\n",
       "    <tr>\n",
       "      <th>1</th>\n",
       "      <td>6</td>\n",
       "      <td>2020-06</td>\n",
       "      <td>2019-03</td>\n",
       "      <td>6</td>\n",
       "      <td>混合型基金</td>\n",
       "      <td>西部利得量化成长混合型发起式证券投资基金</td>\n",
       "    </tr>\n",
       "    <tr>\n",
       "      <th>2</th>\n",
       "      <td>6</td>\n",
       "      <td>2020-09</td>\n",
       "      <td>2019-03</td>\n",
       "      <td>6</td>\n",
       "      <td>混合型基金</td>\n",
       "      <td>西部利得量化成长混合型发起式证券投资基金</td>\n",
       "    </tr>\n",
       "    <tr>\n",
       "      <th>3</th>\n",
       "      <td>6</td>\n",
       "      <td>2020-12</td>\n",
       "      <td>2019-03</td>\n",
       "      <td>6</td>\n",
       "      <td>混合型基金</td>\n",
       "      <td>西部利得量化成长混合型发起式证券投资基金</td>\n",
       "    </tr>\n",
       "    <tr>\n",
       "      <th>4</th>\n",
       "      <td>6</td>\n",
       "      <td>2021-03</td>\n",
       "      <td>2019-03</td>\n",
       "      <td>6</td>\n",
       "      <td>混合型基金</td>\n",
       "      <td>西部利得量化成长混合型发起式证券投资基金</td>\n",
       "    </tr>\n",
       "    <tr>\n",
       "      <th>...</th>\n",
       "      <td>...</td>\n",
       "      <td>...</td>\n",
       "      <td>...</td>\n",
       "      <td>...</td>\n",
       "      <td>...</td>\n",
       "      <td>...</td>\n",
       "    </tr>\n",
       "    <tr>\n",
       "      <th>111225</th>\n",
       "      <td>970048</td>\n",
       "      <td>2022-09</td>\n",
       "      <td>2021-07</td>\n",
       "      <td>970048</td>\n",
       "      <td>混合型基金</td>\n",
       "      <td>东海证券海睿致远灵活配置混合型集合资产管理计划</td>\n",
       "    </tr>\n",
       "    <tr>\n",
       "      <th>111226</th>\n",
       "      <td>970051</td>\n",
       "      <td>2022-09</td>\n",
       "      <td>2021-09</td>\n",
       "      <td>970051</td>\n",
       "      <td>混合型基金</td>\n",
       "      <td>银河安丰九个月滚动持有混合型集合资产管理计划</td>\n",
       "    </tr>\n",
       "    <tr>\n",
       "      <th>111227</th>\n",
       "      <td>970067</td>\n",
       "      <td>2022-09</td>\n",
       "      <td>2021-08</td>\n",
       "      <td>970068</td>\n",
       "      <td>混合型基金</td>\n",
       "      <td>兴证资管金麒麟消费升级混合型集合资产管理计划</td>\n",
       "    </tr>\n",
       "    <tr>\n",
       "      <th>111228</th>\n",
       "      <td>970068</td>\n",
       "      <td>2022-09</td>\n",
       "      <td>2021-08</td>\n",
       "      <td>970068</td>\n",
       "      <td>混合型基金</td>\n",
       "      <td>兴证资管金麒麟消费升级混合型集合资产管理计划</td>\n",
       "    </tr>\n",
       "    <tr>\n",
       "      <th>111229</th>\n",
       "      <td>970069</td>\n",
       "      <td>2022-09</td>\n",
       "      <td>2021-08</td>\n",
       "      <td>970068</td>\n",
       "      <td>混合型基金</td>\n",
       "      <td>兴证资管金麒麟消费升级混合型集合资产管理计划</td>\n",
       "    </tr>\n",
       "  </tbody>\n",
       "</table>\n",
       "<p>111230 rows × 6 columns</p>\n",
       "</div>"
      ],
      "text/plain": [
       "        Symbol  EndDate InceptionDate  MasterFundCode Category  \\\n",
       "0            6  2020-03       2019-03               6    混合型基金   \n",
       "1            6  2020-06       2019-03               6    混合型基金   \n",
       "2            6  2020-09       2019-03               6    混合型基金   \n",
       "3            6  2020-12       2019-03               6    混合型基金   \n",
       "4            6  2021-03       2019-03               6    混合型基金   \n",
       "...        ...      ...           ...             ...      ...   \n",
       "111225  970048  2022-09       2021-07          970048    混合型基金   \n",
       "111226  970051  2022-09       2021-09          970051    混合型基金   \n",
       "111227  970067  2022-09       2021-08          970068    混合型基金   \n",
       "111228  970068  2022-09       2021-08          970068    混合型基金   \n",
       "111229  970069  2022-09       2021-08          970068    混合型基金   \n",
       "\n",
       "                       FullName  \n",
       "0          西部利得量化成长混合型发起式证券投资基金  \n",
       "1          西部利得量化成长混合型发起式证券投资基金  \n",
       "2          西部利得量化成长混合型发起式证券投资基金  \n",
       "3          西部利得量化成长混合型发起式证券投资基金  \n",
       "4          西部利得量化成长混合型发起式证券投资基金  \n",
       "...                         ...  \n",
       "111225  东海证券海睿致远灵活配置混合型集合资产管理计划  \n",
       "111226   银河安丰九个月滚动持有混合型集合资产管理计划  \n",
       "111227   兴证资管金麒麟消费升级混合型集合资产管理计划  \n",
       "111228   兴证资管金麒麟消费升级混合型集合资产管理计划  \n",
       "111229   兴证资管金麒麟消费升级混合型集合资产管理计划  \n",
       "\n",
       "[111230 rows x 6 columns]"
      ]
     },
     "execution_count": 57,
     "metadata": {},
     "output_type": "execute_result"
    }
   ],
   "source": [
    "main_data_5 = main_data[main_data.EndDate >= main_data.InceptionDate + pd.offsets.MonthEnd(12)].reset_index(drop=True)\n",
    "main_data_5"
   ]
  },
  {
   "cell_type": "markdown",
   "metadata": {},
   "source": [
    "（6）最近一次 **二季度报/年报/半年报** ~~年报或半年报~~ 披露的中国市场股票持股比例超过总管理规模的 30%"
   ]
  },
  {
   "cell_type": "code",
   "execution_count": 58,
   "metadata": {},
   "outputs": [
    {
     "data": {
      "text/html": [
       "<div>\n",
       "<style scoped>\n",
       "    .dataframe tbody tr th:only-of-type {\n",
       "        vertical-align: middle;\n",
       "    }\n",
       "\n",
       "    .dataframe tbody tr th {\n",
       "        vertical-align: top;\n",
       "    }\n",
       "\n",
       "    .dataframe thead th {\n",
       "        text-align: right;\n",
       "    }\n",
       "</style>\n",
       "<table border=\"1\" class=\"dataframe\">\n",
       "  <thead>\n",
       "    <tr style=\"text-align: right;\">\n",
       "      <th></th>\n",
       "      <th></th>\n",
       "      <th>InceptionDate</th>\n",
       "      <th>MasterFundCode</th>\n",
       "      <th>Category</th>\n",
       "      <th>FullName</th>\n",
       "    </tr>\n",
       "    <tr>\n",
       "      <th>Symbol</th>\n",
       "      <th>EndDate</th>\n",
       "      <th></th>\n",
       "      <th></th>\n",
       "      <th></th>\n",
       "      <th></th>\n",
       "    </tr>\n",
       "  </thead>\n",
       "  <tbody>\n",
       "    <tr>\n",
       "      <th rowspan=\"5\" valign=\"top\">6</th>\n",
       "      <th>2020-03</th>\n",
       "      <td>2019-03</td>\n",
       "      <td>6</td>\n",
       "      <td>混合型基金</td>\n",
       "      <td>西部利得量化成长混合型发起式证券投资基金</td>\n",
       "    </tr>\n",
       "    <tr>\n",
       "      <th>2020-06</th>\n",
       "      <td>2019-03</td>\n",
       "      <td>6</td>\n",
       "      <td>混合型基金</td>\n",
       "      <td>西部利得量化成长混合型发起式证券投资基金</td>\n",
       "    </tr>\n",
       "    <tr>\n",
       "      <th>2020-09</th>\n",
       "      <td>2019-03</td>\n",
       "      <td>6</td>\n",
       "      <td>混合型基金</td>\n",
       "      <td>西部利得量化成长混合型发起式证券投资基金</td>\n",
       "    </tr>\n",
       "    <tr>\n",
       "      <th>2020-12</th>\n",
       "      <td>2019-03</td>\n",
       "      <td>6</td>\n",
       "      <td>混合型基金</td>\n",
       "      <td>西部利得量化成长混合型发起式证券投资基金</td>\n",
       "    </tr>\n",
       "    <tr>\n",
       "      <th>2021-03</th>\n",
       "      <td>2019-03</td>\n",
       "      <td>6</td>\n",
       "      <td>混合型基金</td>\n",
       "      <td>西部利得量化成长混合型发起式证券投资基金</td>\n",
       "    </tr>\n",
       "    <tr>\n",
       "      <th>...</th>\n",
       "      <th>...</th>\n",
       "      <td>...</td>\n",
       "      <td>...</td>\n",
       "      <td>...</td>\n",
       "      <td>...</td>\n",
       "    </tr>\n",
       "    <tr>\n",
       "      <th>970021</th>\n",
       "      <th>2022-03</th>\n",
       "      <td>2021-03</td>\n",
       "      <td>970021</td>\n",
       "      <td>混合型基金</td>\n",
       "      <td>信达价值精选一年持有期灵活配置混合型集合资产管理计划</td>\n",
       "    </tr>\n",
       "    <tr>\n",
       "      <th>970020</th>\n",
       "      <th>2022-06</th>\n",
       "      <td>2021-03</td>\n",
       "      <td>970021</td>\n",
       "      <td>混合型基金</td>\n",
       "      <td>信达价值精选一年持有期灵活配置混合型集合资产管理计划</td>\n",
       "    </tr>\n",
       "    <tr>\n",
       "      <th>970021</th>\n",
       "      <th>2022-06</th>\n",
       "      <td>2021-03</td>\n",
       "      <td>970021</td>\n",
       "      <td>混合型基金</td>\n",
       "      <td>信达价值精选一年持有期灵活配置混合型集合资产管理计划</td>\n",
       "    </tr>\n",
       "    <tr>\n",
       "      <th>970032</th>\n",
       "      <th>2022-06</th>\n",
       "      <td>2021-06</td>\n",
       "      <td>970033</td>\n",
       "      <td>混合型基金</td>\n",
       "      <td>东海证券海睿进取灵活配置混合型集合资产管理计划</td>\n",
       "    </tr>\n",
       "    <tr>\n",
       "      <th>970033</th>\n",
       "      <th>2022-06</th>\n",
       "      <td>2021-06</td>\n",
       "      <td>970033</td>\n",
       "      <td>混合型基金</td>\n",
       "      <td>东海证券海睿进取灵活配置混合型集合资产管理计划</td>\n",
       "    </tr>\n",
       "  </tbody>\n",
       "</table>\n",
       "<p>72576 rows × 4 columns</p>\n",
       "</div>"
      ],
      "text/plain": [
       "               InceptionDate  MasterFundCode Category  \\\n",
       "Symbol EndDate                                          \n",
       "6      2020-03       2019-03               6    混合型基金   \n",
       "       2020-06       2019-03               6    混合型基金   \n",
       "       2020-09       2019-03               6    混合型基金   \n",
       "       2020-12       2019-03               6    混合型基金   \n",
       "       2021-03       2019-03               6    混合型基金   \n",
       "...                      ...             ...      ...   \n",
       "970021 2022-03       2021-03          970021    混合型基金   \n",
       "970020 2022-06       2021-03          970021    混合型基金   \n",
       "970021 2022-06       2021-03          970021    混合型基金   \n",
       "970032 2022-06       2021-06          970033    混合型基金   \n",
       "970033 2022-06       2021-06          970033    混合型基金   \n",
       "\n",
       "                                  FullName  \n",
       "Symbol EndDate                              \n",
       "6      2020-03        西部利得量化成长混合型发起式证券投资基金  \n",
       "       2020-06        西部利得量化成长混合型发起式证券投资基金  \n",
       "       2020-09        西部利得量化成长混合型发起式证券投资基金  \n",
       "       2020-12        西部利得量化成长混合型发起式证券投资基金  \n",
       "       2021-03        西部利得量化成长混合型发起式证券投资基金  \n",
       "...                                    ...  \n",
       "970021 2022-03  信达价值精选一年持有期灵活配置混合型集合资产管理计划  \n",
       "970020 2022-06  信达价值精选一年持有期灵活配置混合型集合资产管理计划  \n",
       "970021 2022-06  信达价值精选一年持有期灵活配置混合型集合资产管理计划  \n",
       "970032 2022-06     东海证券海睿进取灵活配置混合型集合资产管理计划  \n",
       "970033 2022-06     东海证券海睿进取灵活配置混合型集合资产管理计划  \n",
       "\n",
       "[72576 rows x 4 columns]"
      ]
     },
     "execution_count": 58,
     "metadata": {},
     "output_type": "execute_result"
    }
   ],
   "source": [
    "allocation_['flag'] = allocation_.proportion > .3\n",
    "main_data_6 = pd.merge(main_data_5, allocation_[allocation_.flag].drop(['MasterFundCode', 'EndDate'], axis=1), on=['MasterFundCode', 'EndDate'])\\\n",
    "    .set_index(['Symbol', 'EndDate'])[['InceptionDate', 'MasterFundCode', 'Category', 'FullName']]\n",
    "main_data_6"
   ]
  },
  {
   "cell_type": "code",
   "execution_count": 59,
   "metadata": {},
   "outputs": [
    {
     "data": {
      "text/plain": [
       "'filter 6: 111230 to 72576, 34.75% Symbol-Month dropped'"
      ]
     },
     "execution_count": 59,
     "metadata": {},
     "output_type": "execute_result"
    }
   ],
   "source": [
    "f'filter 6: {len(main_data_5)} to {len(main_data_6)}, {round_(1 - len(main_data_6) / len(main_data_5))} Symbol-Month dropped'"
   ]
  },
  {
   "cell_type": "markdown",
   "metadata": {},
   "source": [
    "### **3. full market statistic**"
   ]
  },
  {
   "cell_type": "markdown",
   "metadata": {},
   "source": [
    "here we do not apply 6 filters"
   ]
  },
  {
   "cell_type": "markdown",
   "metadata": {},
   "source": [
    "#### i. fund num count && fund market value"
   ]
  },
  {
   "cell_type": "code",
   "execution_count": 60,
   "metadata": {},
   "outputs": [],
   "source": [
    "full_maininfo = pd.read_csv('FUND_MainInfo.csv', parse_dates=['InceptionDate'])\n",
    "full_maininfo['InceptionDate'] = full_maininfo.InceptionDate.dt.to_period('M')\n",
    "\n",
    "full_unitclassinfo = pd.read_csv('FUND_UnitClassInfo.csv', parse_dates=['InceptionDate'])\n",
    "full_unitclassinfo['InceptionDate'] = full_unitclassinfo.InceptionDate.dt.to_period('M')\n",
    "full_unitclassinfo['MasterFundCode'] = full_unitclassinfo.MasterFundCode.astype('Int64')\n",
    "\n",
    "full_share_info = pd.read_csv('Fund_ShareChange.csv', parse_dates=['EndDate'])\n",
    "full_share_info['EndDate'] = full_share_info.EndDate.dt.to_period('M')\n",
    "\n",
    "full_nav_month = pd.read_csv('Fund_NAV_Month.csv', parse_dates=['TradingDate'])\n",
    "full_nav_month['TradingDate'] = full_nav_month.TradingDate.dt.to_period('M')\n",
    "full_nav_month['EndDate'] = full_nav_month.TradingDate"
   ]
  },
  {
   "cell_type": "code",
   "execution_count": 61,
   "metadata": {},
   "outputs": [
    {
     "data": {
      "text/html": [
       "<div>\n",
       "<style scoped>\n",
       "    .dataframe tbody tr th:only-of-type {\n",
       "        vertical-align: middle;\n",
       "    }\n",
       "\n",
       "    .dataframe tbody tr th {\n",
       "        vertical-align: top;\n",
       "    }\n",
       "\n",
       "    .dataframe thead th {\n",
       "        text-align: right;\n",
       "    }\n",
       "</style>\n",
       "<table border=\"1\" class=\"dataframe\">\n",
       "  <thead>\n",
       "    <tr style=\"text-align: right;\">\n",
       "      <th></th>\n",
       "      <th>MasterFundCode</th>\n",
       "      <th>Symbol</th>\n",
       "      <th>Category</th>\n",
       "      <th>FullName</th>\n",
       "      <th>InceptionDate</th>\n",
       "    </tr>\n",
       "  </thead>\n",
       "  <tbody>\n",
       "    <tr>\n",
       "      <th>0</th>\n",
       "      <td>1</td>\n",
       "      <td>1</td>\n",
       "      <td>混合型基金</td>\n",
       "      <td>华夏成长证券投资基金</td>\n",
       "      <td>2001-12</td>\n",
       "    </tr>\n",
       "    <tr>\n",
       "      <th>1</th>\n",
       "      <td>3</td>\n",
       "      <td>3</td>\n",
       "      <td>债券型基金</td>\n",
       "      <td>中海可转换债券债券型证券投资基金</td>\n",
       "      <td>2013-03</td>\n",
       "    </tr>\n",
       "    <tr>\n",
       "      <th>2</th>\n",
       "      <td>3</td>\n",
       "      <td>4</td>\n",
       "      <td>债券型基金</td>\n",
       "      <td>中海可转换债券债券型证券投资基金</td>\n",
       "      <td>2013-03</td>\n",
       "    </tr>\n",
       "    <tr>\n",
       "      <th>3</th>\n",
       "      <td>5</td>\n",
       "      <td>5</td>\n",
       "      <td>债券型基金</td>\n",
       "      <td>嘉实增强信用定期开放债券型证券投资基金</td>\n",
       "      <td>2013-03</td>\n",
       "    </tr>\n",
       "    <tr>\n",
       "      <th>4</th>\n",
       "      <td>6</td>\n",
       "      <td>6</td>\n",
       "      <td>混合型基金</td>\n",
       "      <td>西部利得量化成长混合型发起式证券投资基金</td>\n",
       "      <td>2019-03</td>\n",
       "    </tr>\n",
       "    <tr>\n",
       "      <th>...</th>\n",
       "      <td>...</td>\n",
       "      <td>...</td>\n",
       "      <td>...</td>\n",
       "      <td>...</td>\n",
       "      <td>...</td>\n",
       "    </tr>\n",
       "    <tr>\n",
       "      <th>20125</th>\n",
       "      <td>970187</td>\n",
       "      <td>970187</td>\n",
       "      <td>货币型基金</td>\n",
       "      <td>申万宏源天添利货币型集合资产管理计划</td>\n",
       "      <td>2022-08</td>\n",
       "    </tr>\n",
       "    <tr>\n",
       "      <th>20126</th>\n",
       "      <td>970191</td>\n",
       "      <td>970191</td>\n",
       "      <td>货币型基金</td>\n",
       "      <td>申万宏源天天增货币型集合资产管理计划</td>\n",
       "      <td>2022-08</td>\n",
       "    </tr>\n",
       "    <tr>\n",
       "      <th>20127</th>\n",
       "      <td>970194</td>\n",
       "      <td>970194</td>\n",
       "      <td>FOF</td>\n",
       "      <td>兴证资管金麒麟3个月持有期混合型基金中基金(FOF)集合资产管理计划</td>\n",
       "      <td>2022-09</td>\n",
       "    </tr>\n",
       "    <tr>\n",
       "      <th>20128</th>\n",
       "      <td>970194</td>\n",
       "      <td>970195</td>\n",
       "      <td>FOF</td>\n",
       "      <td>兴证资管金麒麟3个月持有期混合型基金中基金(FOF)集合资产管理计划</td>\n",
       "      <td>2022-09</td>\n",
       "    </tr>\n",
       "    <tr>\n",
       "      <th>20129</th>\n",
       "      <td>980003</td>\n",
       "      <td>980003</td>\n",
       "      <td>债券型基金</td>\n",
       "      <td>太平洋证券六个月滚动持有债券型集合资产管理计划</td>\n",
       "      <td>2020-04</td>\n",
       "    </tr>\n",
       "  </tbody>\n",
       "</table>\n",
       "<p>19023 rows × 5 columns</p>\n",
       "</div>"
      ],
      "text/plain": [
       "       MasterFundCode  Symbol Category                            FullName  \\\n",
       "0                   1       1    混合型基金                          华夏成长证券投资基金   \n",
       "1                   3       3    债券型基金                    中海可转换债券债券型证券投资基金   \n",
       "2                   3       4    债券型基金                    中海可转换债券债券型证券投资基金   \n",
       "3                   5       5    债券型基金                 嘉实增强信用定期开放债券型证券投资基金   \n",
       "4                   6       6    混合型基金                西部利得量化成长混合型发起式证券投资基金   \n",
       "...               ...     ...      ...                                 ...   \n",
       "20125          970187  970187    货币型基金                  申万宏源天添利货币型集合资产管理计划   \n",
       "20126          970191  970191    货币型基金                  申万宏源天天增货币型集合资产管理计划   \n",
       "20127          970194  970194      FOF  兴证资管金麒麟3个月持有期混合型基金中基金(FOF)集合资产管理计划   \n",
       "20128          970194  970195      FOF  兴证资管金麒麟3个月持有期混合型基金中基金(FOF)集合资产管理计划   \n",
       "20129          980003  980003    债券型基金             太平洋证券六个月滚动持有债券型集合资产管理计划   \n",
       "\n",
       "      InceptionDate  \n",
       "0           2001-12  \n",
       "1           2013-03  \n",
       "2           2013-03  \n",
       "3           2013-03  \n",
       "4           2019-03  \n",
       "...             ...  \n",
       "20125       2022-08  \n",
       "20126       2022-08  \n",
       "20127       2022-09  \n",
       "20128       2022-09  \n",
       "20129       2020-04  \n",
       "\n",
       "[19023 rows x 5 columns]"
      ]
     },
     "execution_count": 61,
     "metadata": {},
     "output_type": "execute_result"
    }
   ],
   "source": [
    "full_symbol_code = pd.merge(full_unitclassinfo.dropna(subset='MasterFundCode'), full_maininfo, on='MasterFundCode')[['MasterFundCode', 'Symbol', 'Category', 'FullName', 'InceptionDate_x']]\n",
    "full_symbol_code.columns = ['MasterFundCode', 'Symbol', 'Category', 'FullName', 'InceptionDate']\n",
    "full_symbol_code = full_symbol_code.drop_duplicates(subset='Symbol', keep='last')\n",
    "full_symbol_code"
   ]
  },
  {
   "cell_type": "code",
   "execution_count": 62,
   "metadata": {},
   "outputs": [
    {
     "data": {
      "text/html": [
       "<div>\n",
       "<style scoped>\n",
       "    .dataframe tbody tr th:only-of-type {\n",
       "        vertical-align: middle;\n",
       "    }\n",
       "\n",
       "    .dataframe tbody tr th {\n",
       "        vertical-align: top;\n",
       "    }\n",
       "\n",
       "    .dataframe thead th {\n",
       "        text-align: right;\n",
       "    }\n",
       "</style>\n",
       "<table border=\"1\" class=\"dataframe\">\n",
       "  <thead>\n",
       "    <tr style=\"text-align: right;\">\n",
       "      <th></th>\n",
       "      <th>MasterFundCode</th>\n",
       "      <th>Symbol</th>\n",
       "      <th>Category</th>\n",
       "      <th>FullName</th>\n",
       "      <th>InceptionDate</th>\n",
       "    </tr>\n",
       "  </thead>\n",
       "  <tbody>\n",
       "    <tr>\n",
       "      <th>0</th>\n",
       "      <td>1</td>\n",
       "      <td>1</td>\n",
       "      <td>混合型基金</td>\n",
       "      <td>华夏成长证券投资基金</td>\n",
       "      <td>2001-12</td>\n",
       "    </tr>\n",
       "    <tr>\n",
       "      <th>1</th>\n",
       "      <td>3</td>\n",
       "      <td>3</td>\n",
       "      <td>债券型基金</td>\n",
       "      <td>中海可转换债券债券型证券投资基金</td>\n",
       "      <td>2013-03</td>\n",
       "    </tr>\n",
       "    <tr>\n",
       "      <th>2</th>\n",
       "      <td>3</td>\n",
       "      <td>4</td>\n",
       "      <td>债券型基金</td>\n",
       "      <td>中海可转换债券债券型证券投资基金</td>\n",
       "      <td>2013-03</td>\n",
       "    </tr>\n",
       "    <tr>\n",
       "      <th>3</th>\n",
       "      <td>5</td>\n",
       "      <td>5</td>\n",
       "      <td>债券型基金</td>\n",
       "      <td>嘉实增强信用定期开放债券型证券投资基金</td>\n",
       "      <td>2013-03</td>\n",
       "    </tr>\n",
       "    <tr>\n",
       "      <th>4</th>\n",
       "      <td>6</td>\n",
       "      <td>6</td>\n",
       "      <td>混合型基金</td>\n",
       "      <td>西部利得量化成长混合型发起式证券投资基金</td>\n",
       "      <td>2019-03</td>\n",
       "    </tr>\n",
       "    <tr>\n",
       "      <th>...</th>\n",
       "      <td>...</td>\n",
       "      <td>...</td>\n",
       "      <td>...</td>\n",
       "      <td>...</td>\n",
       "      <td>...</td>\n",
       "    </tr>\n",
       "    <tr>\n",
       "      <th>20125</th>\n",
       "      <td>970187</td>\n",
       "      <td>970187</td>\n",
       "      <td>货币型基金</td>\n",
       "      <td>申万宏源天添利货币型集合资产管理计划</td>\n",
       "      <td>2022-08</td>\n",
       "    </tr>\n",
       "    <tr>\n",
       "      <th>20126</th>\n",
       "      <td>970191</td>\n",
       "      <td>970191</td>\n",
       "      <td>货币型基金</td>\n",
       "      <td>申万宏源天天增货币型集合资产管理计划</td>\n",
       "      <td>2022-08</td>\n",
       "    </tr>\n",
       "    <tr>\n",
       "      <th>20127</th>\n",
       "      <td>970194</td>\n",
       "      <td>970194</td>\n",
       "      <td>FOF</td>\n",
       "      <td>兴证资管金麒麟3个月持有期混合型基金中基金(FOF)集合资产管理计划</td>\n",
       "      <td>2022-09</td>\n",
       "    </tr>\n",
       "    <tr>\n",
       "      <th>20128</th>\n",
       "      <td>970194</td>\n",
       "      <td>970195</td>\n",
       "      <td>FOF</td>\n",
       "      <td>兴证资管金麒麟3个月持有期混合型基金中基金(FOF)集合资产管理计划</td>\n",
       "      <td>2022-09</td>\n",
       "    </tr>\n",
       "    <tr>\n",
       "      <th>20129</th>\n",
       "      <td>980003</td>\n",
       "      <td>980003</td>\n",
       "      <td>债券型基金</td>\n",
       "      <td>太平洋证券六个月滚动持有债券型集合资产管理计划</td>\n",
       "      <td>2020-04</td>\n",
       "    </tr>\n",
       "  </tbody>\n",
       "</table>\n",
       "<p>19023 rows × 5 columns</p>\n",
       "</div>"
      ],
      "text/plain": [
       "       MasterFundCode  Symbol Category                            FullName  \\\n",
       "0                   1       1    混合型基金                          华夏成长证券投资基金   \n",
       "1                   3       3    债券型基金                    中海可转换债券债券型证券投资基金   \n",
       "2                   3       4    债券型基金                    中海可转换债券债券型证券投资基金   \n",
       "3                   5       5    债券型基金                 嘉实增强信用定期开放债券型证券投资基金   \n",
       "4                   6       6    混合型基金                西部利得量化成长混合型发起式证券投资基金   \n",
       "...               ...     ...      ...                                 ...   \n",
       "20125          970187  970187    货币型基金                  申万宏源天添利货币型集合资产管理计划   \n",
       "20126          970191  970191    货币型基金                  申万宏源天天增货币型集合资产管理计划   \n",
       "20127          970194  970194      FOF  兴证资管金麒麟3个月持有期混合型基金中基金(FOF)集合资产管理计划   \n",
       "20128          970194  970195      FOF  兴证资管金麒麟3个月持有期混合型基金中基金(FOF)集合资产管理计划   \n",
       "20129          980003  980003    债券型基金             太平洋证券六个月滚动持有债券型集合资产管理计划   \n",
       "\n",
       "      InceptionDate  \n",
       "0           2001-12  \n",
       "1           2013-03  \n",
       "2           2013-03  \n",
       "3           2013-03  \n",
       "4           2019-03  \n",
       "...             ...  \n",
       "20125       2022-08  \n",
       "20126       2022-08  \n",
       "20127       2022-09  \n",
       "20128       2022-09  \n",
       "20129       2020-04  \n",
       "\n",
       "[19023 rows x 5 columns]"
      ]
     },
     "execution_count": 62,
     "metadata": {},
     "output_type": "execute_result"
    }
   ],
   "source": [
    "full_symbol_code"
   ]
  },
  {
   "cell_type": "markdown",
   "metadata": {},
   "source": [
    "**erratum**\n",
    "\n",
    "*problem*: in mixed fund, <1% net asset value is 0\n",
    "\n",
    "*reason*: money market fund\n",
    "\n",
    "*solve*: ignore"
   ]
  },
  {
   "cell_type": "code",
   "execution_count": 556,
   "metadata": {},
   "outputs": [
    {
     "data": {
      "text/plain": [
       "'8.4% net asset value is 0'"
      ]
     },
     "execution_count": 556,
     "metadata": {},
     "output_type": "execute_result"
    }
   ],
   "source": [
    "f'{round_((full_nav_month.NAV == 0).sum() / len(full_nav_month))} net asset value is 0'"
   ]
  },
  {
   "cell_type": "code",
   "execution_count": 564,
   "metadata": {},
   "outputs": [
    {
     "data": {
      "text/html": [
       "<div>\n",
       "<style scoped>\n",
       "    .dataframe tbody tr th:only-of-type {\n",
       "        vertical-align: middle;\n",
       "    }\n",
       "\n",
       "    .dataframe tbody tr th {\n",
       "        vertical-align: top;\n",
       "    }\n",
       "\n",
       "    .dataframe thead th {\n",
       "        text-align: right;\n",
       "    }\n",
       "</style>\n",
       "<table border=\"1\" class=\"dataframe\">\n",
       "  <thead>\n",
       "    <tr style=\"text-align: right;\">\n",
       "      <th></th>\n",
       "      <th>TradingDate</th>\n",
       "      <th>TradingMonth</th>\n",
       "      <th>Symbol</th>\n",
       "      <th>NAV</th>\n",
       "      <th>EndDate</th>\n",
       "    </tr>\n",
       "  </thead>\n",
       "  <tbody>\n",
       "    <tr>\n",
       "      <th>813</th>\n",
       "      <td>2013-03</td>\n",
       "      <td>2013-03</td>\n",
       "      <td>9</td>\n",
       "      <td>0.0</td>\n",
       "      <td>2013-03</td>\n",
       "    </tr>\n",
       "    <tr>\n",
       "      <th>814</th>\n",
       "      <td>2013-04</td>\n",
       "      <td>2013-04</td>\n",
       "      <td>9</td>\n",
       "      <td>0.0</td>\n",
       "      <td>2013-04</td>\n",
       "    </tr>\n",
       "    <tr>\n",
       "      <th>815</th>\n",
       "      <td>2013-05</td>\n",
       "      <td>2013-05</td>\n",
       "      <td>9</td>\n",
       "      <td>0.0</td>\n",
       "      <td>2013-05</td>\n",
       "    </tr>\n",
       "    <tr>\n",
       "      <th>816</th>\n",
       "      <td>2013-06</td>\n",
       "      <td>2013-06</td>\n",
       "      <td>9</td>\n",
       "      <td>0.0</td>\n",
       "      <td>2013-06</td>\n",
       "    </tr>\n",
       "    <tr>\n",
       "      <th>817</th>\n",
       "      <td>2013-07</td>\n",
       "      <td>2013-07</td>\n",
       "      <td>9</td>\n",
       "      <td>0.0</td>\n",
       "      <td>2013-07</td>\n",
       "    </tr>\n",
       "    <tr>\n",
       "      <th>...</th>\n",
       "      <td>...</td>\n",
       "      <td>...</td>\n",
       "      <td>...</td>\n",
       "      <td>...</td>\n",
       "      <td>...</td>\n",
       "    </tr>\n",
       "    <tr>\n",
       "      <th>869699</th>\n",
       "      <td>2022-08</td>\n",
       "      <td>2022-08</td>\n",
       "      <td>970178</td>\n",
       "      <td>0.0</td>\n",
       "      <td>2022-08</td>\n",
       "    </tr>\n",
       "    <tr>\n",
       "      <th>869700</th>\n",
       "      <td>2022-07</td>\n",
       "      <td>2022-07</td>\n",
       "      <td>970180</td>\n",
       "      <td>0.0</td>\n",
       "      <td>2022-07</td>\n",
       "    </tr>\n",
       "    <tr>\n",
       "      <th>869701</th>\n",
       "      <td>2022-08</td>\n",
       "      <td>2022-08</td>\n",
       "      <td>970180</td>\n",
       "      <td>0.0</td>\n",
       "      <td>2022-08</td>\n",
       "    </tr>\n",
       "    <tr>\n",
       "      <th>869706</th>\n",
       "      <td>2022-08</td>\n",
       "      <td>2022-08</td>\n",
       "      <td>970187</td>\n",
       "      <td>0.0</td>\n",
       "      <td>2022-08</td>\n",
       "    </tr>\n",
       "    <tr>\n",
       "      <th>869707</th>\n",
       "      <td>2022-08</td>\n",
       "      <td>2022-08</td>\n",
       "      <td>970191</td>\n",
       "      <td>0.0</td>\n",
       "      <td>2022-08</td>\n",
       "    </tr>\n",
       "  </tbody>\n",
       "</table>\n",
       "<p>73063 rows × 5 columns</p>\n",
       "</div>"
      ],
      "text/plain": [
       "       TradingDate TradingMonth  Symbol  NAV  EndDate\n",
       "813        2013-03      2013-03       9  0.0  2013-03\n",
       "814        2013-04      2013-04       9  0.0  2013-04\n",
       "815        2013-05      2013-05       9  0.0  2013-05\n",
       "816        2013-06      2013-06       9  0.0  2013-06\n",
       "817        2013-07      2013-07       9  0.0  2013-07\n",
       "...            ...          ...     ...  ...      ...\n",
       "869699     2022-08      2022-08  970178  0.0  2022-08\n",
       "869700     2022-07      2022-07  970180  0.0  2022-07\n",
       "869701     2022-08      2022-08  970180  0.0  2022-08\n",
       "869706     2022-08      2022-08  970187  0.0  2022-08\n",
       "869707     2022-08      2022-08  970191  0.0  2022-08\n",
       "\n",
       "[73063 rows x 5 columns]"
      ]
     },
     "metadata": {},
     "output_type": "display_data"
    },
    {
     "data": {
      "text/html": [
       "<div>\n",
       "<style scoped>\n",
       "    .dataframe tbody tr th:only-of-type {\n",
       "        vertical-align: middle;\n",
       "    }\n",
       "\n",
       "    .dataframe tbody tr th {\n",
       "        vertical-align: top;\n",
       "    }\n",
       "\n",
       "    .dataframe thead th {\n",
       "        text-align: right;\n",
       "    }\n",
       "</style>\n",
       "<table border=\"1\" class=\"dataframe\">\n",
       "  <thead>\n",
       "    <tr style=\"text-align: right;\">\n",
       "      <th></th>\n",
       "      <th>TradingDate</th>\n",
       "      <th>TradingMonth</th>\n",
       "      <th>Symbol</th>\n",
       "      <th>NAV</th>\n",
       "      <th>EndDate</th>\n",
       "    </tr>\n",
       "  </thead>\n",
       "  <tbody>\n",
       "    <tr>\n",
       "      <th>813</th>\n",
       "      <td>2013-03</td>\n",
       "      <td>2013-03</td>\n",
       "      <td>9</td>\n",
       "      <td>0.0</td>\n",
       "      <td>2013-03</td>\n",
       "    </tr>\n",
       "    <tr>\n",
       "      <th>814</th>\n",
       "      <td>2013-04</td>\n",
       "      <td>2013-04</td>\n",
       "      <td>9</td>\n",
       "      <td>0.0</td>\n",
       "      <td>2013-04</td>\n",
       "    </tr>\n",
       "    <tr>\n",
       "      <th>815</th>\n",
       "      <td>2013-05</td>\n",
       "      <td>2013-05</td>\n",
       "      <td>9</td>\n",
       "      <td>0.0</td>\n",
       "      <td>2013-05</td>\n",
       "    </tr>\n",
       "    <tr>\n",
       "      <th>816</th>\n",
       "      <td>2013-06</td>\n",
       "      <td>2013-06</td>\n",
       "      <td>9</td>\n",
       "      <td>0.0</td>\n",
       "      <td>2013-06</td>\n",
       "    </tr>\n",
       "    <tr>\n",
       "      <th>817</th>\n",
       "      <td>2013-07</td>\n",
       "      <td>2013-07</td>\n",
       "      <td>9</td>\n",
       "      <td>0.0</td>\n",
       "      <td>2013-07</td>\n",
       "    </tr>\n",
       "    <tr>\n",
       "      <th>...</th>\n",
       "      <td>...</td>\n",
       "      <td>...</td>\n",
       "      <td>...</td>\n",
       "      <td>...</td>\n",
       "      <td>...</td>\n",
       "    </tr>\n",
       "    <tr>\n",
       "      <th>922</th>\n",
       "      <td>2022-04</td>\n",
       "      <td>2022-04</td>\n",
       "      <td>9</td>\n",
       "      <td>0.0</td>\n",
       "      <td>2022-04</td>\n",
       "    </tr>\n",
       "    <tr>\n",
       "      <th>923</th>\n",
       "      <td>2022-05</td>\n",
       "      <td>2022-05</td>\n",
       "      <td>9</td>\n",
       "      <td>0.0</td>\n",
       "      <td>2022-05</td>\n",
       "    </tr>\n",
       "    <tr>\n",
       "      <th>924</th>\n",
       "      <td>2022-06</td>\n",
       "      <td>2022-06</td>\n",
       "      <td>9</td>\n",
       "      <td>0.0</td>\n",
       "      <td>2022-06</td>\n",
       "    </tr>\n",
       "    <tr>\n",
       "      <th>925</th>\n",
       "      <td>2022-07</td>\n",
       "      <td>2022-07</td>\n",
       "      <td>9</td>\n",
       "      <td>0.0</td>\n",
       "      <td>2022-07</td>\n",
       "    </tr>\n",
       "    <tr>\n",
       "      <th>926</th>\n",
       "      <td>2022-08</td>\n",
       "      <td>2022-08</td>\n",
       "      <td>9</td>\n",
       "      <td>0.0</td>\n",
       "      <td>2022-08</td>\n",
       "    </tr>\n",
       "  </tbody>\n",
       "</table>\n",
       "<p>114 rows × 5 columns</p>\n",
       "</div>"
      ],
      "text/plain": [
       "    TradingDate TradingMonth  Symbol  NAV  EndDate\n",
       "813     2013-03      2013-03       9  0.0  2013-03\n",
       "814     2013-04      2013-04       9  0.0  2013-04\n",
       "815     2013-05      2013-05       9  0.0  2013-05\n",
       "816     2013-06      2013-06       9  0.0  2013-06\n",
       "817     2013-07      2013-07       9  0.0  2013-07\n",
       "..          ...          ...     ...  ...      ...\n",
       "922     2022-04      2022-04       9  0.0  2022-04\n",
       "923     2022-05      2022-05       9  0.0  2022-05\n",
       "924     2022-06      2022-06       9  0.0  2022-06\n",
       "925     2022-07      2022-07       9  0.0  2022-07\n",
       "926     2022-08      2022-08       9  0.0  2022-08\n",
       "\n",
       "[114 rows x 5 columns]"
      ]
     },
     "execution_count": 564,
     "metadata": {},
     "output_type": "execute_result"
    }
   ],
   "source": [
    "# nav_month__ = nav_month_.replace(0, np.nan)\n",
    "# nav_month__\n",
    "f'{round_((full_nav_month.NAV == 0).sum() / len(full_nav_month))} values is 0'\n",
    "display(full_nav_month[full_nav_month.NAV == 0])\n",
    "full_nav_month[full_nav_month.NAV == 0][full_nav_month[full_nav_month.NAV == 0].Symbol == 9]"
   ]
  },
  {
   "cell_type": "markdown",
   "metadata": {},
   "source": [
    "<img src=\"attachment/NAV.png\" alt=\"drawing\" width=\"1200\"/>"
   ]
  },
  {
   "cell_type": "code",
   "execution_count": 557,
   "metadata": {},
   "outputs": [
    {
     "data": {
      "text/plain": [
       "货币型基金    64343\n",
       "债券型基金     8354\n",
       "混合型基金      133\n",
       "Name: Category, dtype: int64"
      ]
     },
     "execution_count": 557,
     "metadata": {},
     "output_type": "execute_result"
    }
   ],
   "source": [
    "symboled_full_nav_month = pd.merge(full_nav_month, full_symbol_code, on='Symbol')\n",
    "symboled_full_nav_month[symboled_full_nav_month.NAV == 0].Category.value_counts()"
   ]
  },
  {
   "cell_type": "code",
   "execution_count": 563,
   "metadata": {},
   "outputs": [
    {
     "data": {
      "text/plain": [
       "'0.02% net asset value is 0'"
      ]
     },
     "execution_count": 563,
     "metadata": {},
     "output_type": "execute_result"
    }
   ],
   "source": [
    "round_((symboled_full_nav_month[symboled_full_nav_month.NAV == 0].Category == '混合型基金').sum() / len(symboled_full_nav_month)) + ' net asset value is 0'"
   ]
  },
  {
   "cell_type": "code",
   "execution_count": 565,
   "metadata": {},
   "outputs": [],
   "source": [
    "full_nav_month['NAV'].fillna(0, inplace=True)"
   ]
  },
  {
   "cell_type": "markdown",
   "metadata": {},
   "source": [
    "**erratum**\n",
    "\n",
    "*problem*: almost all ≈95% `share` funds did not report `share` on the first quarter in which it was founded\n",
    "\n",
    "*reason*: -\n",
    "\n",
    "*solve*: ignore\n",
    "\n",
    "e.g. `Symbol == 20001`"
   ]
  },
  {
   "cell_type": "code",
   "execution_count": 566,
   "metadata": {},
   "outputs": [
    {
     "data": {
      "text/html": [
       "<div>\n",
       "<style scoped>\n",
       "    .dataframe tbody tr th:only-of-type {\n",
       "        vertical-align: middle;\n",
       "    }\n",
       "\n",
       "    .dataframe tbody tr th {\n",
       "        vertical-align: top;\n",
       "    }\n",
       "\n",
       "    .dataframe thead th {\n",
       "        text-align: right;\n",
       "    }\n",
       "</style>\n",
       "<table border=\"1\" class=\"dataframe\">\n",
       "  <thead>\n",
       "    <tr style=\"text-align: right;\">\n",
       "      <th></th>\n",
       "      <th>TradingDate</th>\n",
       "      <th>TradingMonth</th>\n",
       "      <th>Symbol</th>\n",
       "      <th>NAV</th>\n",
       "      <th>EndDate</th>\n",
       "    </tr>\n",
       "  </thead>\n",
       "  <tbody>\n",
       "    <tr>\n",
       "      <th>544507</th>\n",
       "      <td>2002-05</td>\n",
       "      <td>2002-05</td>\n",
       "      <td>20001</td>\n",
       "      <td>1.000</td>\n",
       "      <td>2002-05</td>\n",
       "    </tr>\n",
       "    <tr>\n",
       "      <th>544508</th>\n",
       "      <td>2002-06</td>\n",
       "      <td>2002-06</td>\n",
       "      <td>20001</td>\n",
       "      <td>1.027</td>\n",
       "      <td>2002-06</td>\n",
       "    </tr>\n",
       "    <tr>\n",
       "      <th>544509</th>\n",
       "      <td>2002-07</td>\n",
       "      <td>2002-07</td>\n",
       "      <td>20001</td>\n",
       "      <td>1.010</td>\n",
       "      <td>2002-07</td>\n",
       "    </tr>\n",
       "    <tr>\n",
       "      <th>544510</th>\n",
       "      <td>2002-08</td>\n",
       "      <td>2002-08</td>\n",
       "      <td>20001</td>\n",
       "      <td>1.016</td>\n",
       "      <td>2002-08</td>\n",
       "    </tr>\n",
       "    <tr>\n",
       "      <th>544511</th>\n",
       "      <td>2002-09</td>\n",
       "      <td>2002-09</td>\n",
       "      <td>20001</td>\n",
       "      <td>0.984</td>\n",
       "      <td>2002-09</td>\n",
       "    </tr>\n",
       "  </tbody>\n",
       "</table>\n",
       "</div>"
      ],
      "text/plain": [
       "       TradingDate TradingMonth  Symbol    NAV  EndDate\n",
       "544507     2002-05      2002-05   20001  1.000  2002-05\n",
       "544508     2002-06      2002-06   20001  1.027  2002-06\n",
       "544509     2002-07      2002-07   20001  1.010  2002-07\n",
       "544510     2002-08      2002-08   20001  1.016  2002-08\n",
       "544511     2002-09      2002-09   20001  0.984  2002-09"
      ]
     },
     "execution_count": 566,
     "metadata": {},
     "output_type": "execute_result"
    }
   ],
   "source": [
    "full_nav_month[full_nav_month.Symbol == 20001].sort_values('EndDate').head(5)"
   ]
  },
  {
   "cell_type": "code",
   "execution_count": 567,
   "metadata": {},
   "outputs": [
    {
     "data": {
      "text/html": [
       "<div>\n",
       "<style scoped>\n",
       "    .dataframe tbody tr th:only-of-type {\n",
       "        vertical-align: middle;\n",
       "    }\n",
       "\n",
       "    .dataframe tbody tr th {\n",
       "        vertical-align: top;\n",
       "    }\n",
       "\n",
       "    .dataframe thead th {\n",
       "        text-align: right;\n",
       "    }\n",
       "</style>\n",
       "<table border=\"1\" class=\"dataframe\">\n",
       "  <thead>\n",
       "    <tr style=\"text-align: right;\">\n",
       "      <th></th>\n",
       "      <th>Symbol</th>\n",
       "      <th>ReportTypeID</th>\n",
       "      <th>EndDate</th>\n",
       "      <th>EndDateShares</th>\n",
       "    </tr>\n",
       "  </thead>\n",
       "  <tbody>\n",
       "    <tr>\n",
       "      <th>253185</th>\n",
       "      <td>20001</td>\n",
       "      <td>2</td>\n",
       "      <td>2004-06</td>\n",
       "      <td>1.273287e+09</td>\n",
       "    </tr>\n",
       "    <tr>\n",
       "      <th>253186</th>\n",
       "      <td>20001</td>\n",
       "      <td>3</td>\n",
       "      <td>2004-09</td>\n",
       "      <td>1.253561e+09</td>\n",
       "    </tr>\n",
       "    <tr>\n",
       "      <th>253187</th>\n",
       "      <td>20001</td>\n",
       "      <td>4</td>\n",
       "      <td>2004-12</td>\n",
       "      <td>9.161155e+08</td>\n",
       "    </tr>\n",
       "    <tr>\n",
       "      <th>253188</th>\n",
       "      <td>20001</td>\n",
       "      <td>1</td>\n",
       "      <td>2005-03</td>\n",
       "      <td>9.079695e+08</td>\n",
       "    </tr>\n",
       "    <tr>\n",
       "      <th>253189</th>\n",
       "      <td>20001</td>\n",
       "      <td>2</td>\n",
       "      <td>2005-06</td>\n",
       "      <td>8.695486e+08</td>\n",
       "    </tr>\n",
       "  </tbody>\n",
       "</table>\n",
       "</div>"
      ],
      "text/plain": [
       "        Symbol  ReportTypeID  EndDate  EndDateShares\n",
       "253185   20001             2  2004-06   1.273287e+09\n",
       "253186   20001             3  2004-09   1.253561e+09\n",
       "253187   20001             4  2004-12   9.161155e+08\n",
       "253188   20001             1  2005-03   9.079695e+08\n",
       "253189   20001             2  2005-06   8.695486e+08"
      ]
     },
     "execution_count": 567,
     "metadata": {},
     "output_type": "execute_result"
    }
   ],
   "source": [
    "full_share_info[full_share_info.Symbol == 20001].sort_values('EndDate').head(5)"
   ]
  },
  {
   "cell_type": "markdown",
   "metadata": {},
   "source": [
    "<img src=\"attachment/200001.png\" alt=\"drawing\" width=\"800\"/>"
   ]
  },
  {
   "cell_type": "code",
   "execution_count": 568,
   "metadata": {},
   "outputs": [
    {
     "data": {
      "text/plain": [
       "'96.33% funds did not report share info on the first quarter in which it was founded'"
      ]
     },
     "execution_count": 568,
     "metadata": {},
     "output_type": "execute_result"
    }
   ],
   "source": [
    "share_init_month = full_share_info.groupby('Symbol').apply(lambda x: x.EndDate.iloc[0])\n",
    "nav_init_month = full_nav_month.groupby('Symbol').apply(lambda x: x.EndDate.iloc[0])\n",
    "co_quarter = np.intersect1d(nav_init_month.index, share_init_month.index)\n",
    "round_((nav_init_month.loc[co_quarter] != share_init_month.loc[co_quarter]).sum() / len(co_quarter)) + ' funds did not report share info on the first quarter in which it was founded'"
   ]
  },
  {
   "cell_type": "code",
   "execution_count": 569,
   "metadata": {},
   "outputs": [],
   "source": [
    "full_share_nav = pd.merge(full_share_info, full_nav_month, on=['Symbol', 'EndDate'])\n",
    "full_share_nav['mkt_value'] = full_share_nav.NAV * full_share_nav.EndDateShares\n",
    "full_share_nav = pd.merge(full_share_nav, full_symbol_code, on='Symbol')[['Symbol', 'ReportTypeID', 'EndDate', 'mkt_value', 'MasterFundCode', 'Category', 'FullName', 'InceptionDate']]"
   ]
  },
  {
   "cell_type": "code",
   "execution_count": 570,
   "metadata": {},
   "outputs": [],
   "source": [
    "fund_num_count = pd.merge(full_nav_month, full_symbol_code, on=['Symbol'])\n",
    "stock_fund_count = fund_num_count[fund_num_count.Category == '股票型基金'].groupby('EndDate').apply(lambda x: len(x.Symbol.unique()))\n",
    "stock_fund_count.index = stock_fund_count.index.astype(np.datetime64)\n",
    "mixed_fund_count = fund_num_count[fund_num_count.Category == '混合型基金'].groupby('EndDate').apply(lambda x: len(x.Symbol.unique()))\n",
    "mixed_fund_count.index = mixed_fund_count.index.astype(np.datetime64)"
   ]
  },
  {
   "cell_type": "code",
   "execution_count": 571,
   "metadata": {},
   "outputs": [],
   "source": [
    "stock_fund_mkt_value = full_share_nav[full_share_nav.Category == '股票型基金'].groupby('EndDate').apply(lambda x: x.mkt_value.sum())\n",
    "mixed_fund_mkt_value = full_share_nav[full_share_nav.Category == '混合型基金'].groupby('EndDate').apply(lambda x: x.mkt_value.sum())\n"
   ]
  },
  {
   "cell_type": "code",
   "execution_count": 938,
   "metadata": {},
   "outputs": [
    {
     "data": {
      "image/png": "[encoded data removed]",
      "text/plain": [
       "<Figure size 1728x576 with 2 Axes>"
      ]
     },
     "metadata": {
      "needs_background": "light"
     },
     "output_type": "display_data"
    }
   ],
   "source": [
    "fig, ax1 = plt.subplots()\n",
    "\n",
    "fig.set_figheight(8)\n",
    "fig.set_figwidth(24)\n",
    "\n",
    "ax1.plot(stock_fund_count, linewidth=3, label='stock fund count, line')\n",
    "ax1.plot(mixed_fund_count, linewidth=3, label='mixed fund count, line')\n",
    "ax1.set_yscale('log')\n",
    "ax1.set_yticks([1e0, 1e1, 1e2, 1e3, 1e4])\n",
    "ax1.grid()\n",
    "\n",
    "ax2 = ax1.twinx()\n",
    "\n",
    "selected_month = 12\n",
    "\n",
    "ax2.bar(stock_fund_mkt_value[stock_fund_mkt_value.index.month == selected_month].index.astype(np.datetime64) - pd.Timedelta('7W'),\\\n",
    "     stock_fund_mkt_value[stock_fund_mkt_value.index.month == selected_month].values, width=100, label='stock fund, bar', alpha=.8)\n",
    "\n",
    "ax2.bar(mixed_fund_mkt_value[mixed_fund_mkt_value.index.month == selected_month].index.astype(np.datetime64) + pd.Timedelta('7W'),\\\n",
    "     mixed_fund_mkt_value[mixed_fund_mkt_value.index.month == selected_month].values, width=100, label='mixed fund, bar', alpha=.8)\n",
    "\n",
    "ax2.grid()\n",
    "ax2.set_xticks(ax2.get_xticks()[::1])\n",
    "\n",
    "ax1.legend(loc='upper left')\n",
    "ax2.legend(loc='upper right')\n",
    "# 19年涨幅对比\n",
    "# wind数据净值\n",
    "pass"
   ]
  },
  {
   "cell_type": "markdown",
   "metadata": {},
   "source": [
    "#### ii. fund management fees"
   ]
  },
  {
   "cell_type": "markdown",
   "metadata": {},
   "source": [
    "**erratum**\n",
    "\n",
    "*problem*: date begins at 2003-05\n",
    "\n",
    "*reason*: \n",
    "\n",
    "*solve*: "
   ]
  },
  {
   "cell_type": "code",
   "execution_count": 996,
   "metadata": {},
   "outputs": [
    {
     "ename": "ValueError",
     "evalue": "'DeclareDate' is both an index level and a column label, which is ambiguous.",
     "output_type": "error",
     "traceback": [
      "\u001b[1;31m---------------------------------------------------------------------------\u001b[0m",
      "\u001b[1;31mValueError\u001b[0m                                Traceback (most recent call last)",
      "\u001b[1;32mc:\\Users\\11633\\OneDrive\\Desktop\\Research\\公募基金管理是否有效\\main.ipynb Cell 119\u001b[0m in \u001b[0;36m<cell line: 7>\u001b[1;34m()\u001b[0m\n\u001b[0;32m      <a href='vscode-notebook-cell:/c%3A/Users/11633/OneDrive/Desktop/Research/%E5%85%AC%E5%8B%9F%E5%9F%BA%E9%87%91%E7%AE%A1%E7%90%86%E6%98%AF%E5%90%A6%E6%9C%89%E6%95%88/main.ipynb#Y512sZmlsZQ%3D%3D?line=4'>5</a>\u001b[0m fees_[\u001b[39m'\u001b[39m\u001b[39mSymbol\u001b[39m\u001b[39m'\u001b[39m] \u001b[39m=\u001b[39m fees_\u001b[39m.\u001b[39mindex\u001b[39m.\u001b[39mget_level_values(\u001b[39m0\u001b[39m)\n\u001b[0;32m      <a href='vscode-notebook-cell:/c%3A/Users/11633/OneDrive/Desktop/Research/%E5%85%AC%E5%8B%9F%E5%9F%BA%E9%87%91%E7%AE%A1%E7%90%86%E6%98%AF%E5%90%A6%E6%9C%89%E6%95%88/main.ipynb#Y512sZmlsZQ%3D%3D?line=5'>6</a>\u001b[0m fees_[\u001b[39m'\u001b[39m\u001b[39mDeclareDate\u001b[39m\u001b[39m'\u001b[39m] \u001b[39m=\u001b[39m fees_\u001b[39m.\u001b[39mindex\u001b[39m.\u001b[39mget_level_values(\u001b[39m1\u001b[39m)\n\u001b[1;32m----> <a href='vscode-notebook-cell:/c%3A/Users/11633/OneDrive/Desktop/Research/%E5%85%AC%E5%8B%9F%E5%9F%BA%E9%87%91%E7%AE%A1%E7%90%86%E6%98%AF%E5%90%A6%E6%9C%89%E6%95%88/main.ipynb#Y512sZmlsZQ%3D%3D?line=6'>7</a>\u001b[0m fees_\u001b[39m.\u001b[39;49msort_values(\u001b[39m'\u001b[39;49m\u001b[39mDeclareDate\u001b[39;49m\u001b[39m'\u001b[39;49m)\u001b[39m.\u001b[39mhead(\u001b[39m5\u001b[39m)\n",
      "File \u001b[1;32mc:\\Users\\11633\\AppData\\Local\\Programs\\Python\\Python310\\lib\\site-packages\\pandas\\util\\_decorators.py:311\u001b[0m, in \u001b[0;36mdeprecate_nonkeyword_arguments.<locals>.decorate.<locals>.wrapper\u001b[1;34m(*args, **kwargs)\u001b[0m\n\u001b[0;32m    305\u001b[0m \u001b[39mif\u001b[39;00m \u001b[39mlen\u001b[39m(args) \u001b[39m>\u001b[39m num_allow_args:\n\u001b[0;32m    306\u001b[0m     warnings\u001b[39m.\u001b[39mwarn(\n\u001b[0;32m    307\u001b[0m         msg\u001b[39m.\u001b[39mformat(arguments\u001b[39m=\u001b[39marguments),\n\u001b[0;32m    308\u001b[0m         \u001b[39mFutureWarning\u001b[39;00m,\n\u001b[0;32m    309\u001b[0m         stacklevel\u001b[39m=\u001b[39mstacklevel,\n\u001b[0;32m    310\u001b[0m     )\n\u001b[1;32m--> 311\u001b[0m \u001b[39mreturn\u001b[39;00m func(\u001b[39m*\u001b[39margs, \u001b[39m*\u001b[39m\u001b[39m*\u001b[39mkwargs)\n",
      "File \u001b[1;32mc:\\Users\\11633\\AppData\\Local\\Programs\\Python\\Python310\\lib\\site-packages\\pandas\\core\\frame.py:6313\u001b[0m, in \u001b[0;36mDataFrame.sort_values\u001b[1;34m(self, by, axis, ascending, inplace, kind, na_position, ignore_index, key)\u001b[0m\n\u001b[0;32m   6309\u001b[0m \u001b[39melif\u001b[39;00m \u001b[39mlen\u001b[39m(by):\n\u001b[0;32m   6310\u001b[0m     \u001b[39m# len(by) == 1\u001b[39;00m\n\u001b[0;32m   6312\u001b[0m     by \u001b[39m=\u001b[39m by[\u001b[39m0\u001b[39m]\n\u001b[1;32m-> 6313\u001b[0m     k \u001b[39m=\u001b[39m \u001b[39mself\u001b[39;49m\u001b[39m.\u001b[39;49m_get_label_or_level_values(by, axis\u001b[39m=\u001b[39;49maxis)\n\u001b[0;32m   6315\u001b[0m     \u001b[39m# need to rewrap column in Series to apply key function\u001b[39;00m\n\u001b[0;32m   6316\u001b[0m     \u001b[39mif\u001b[39;00m key \u001b[39mis\u001b[39;00m \u001b[39mnot\u001b[39;00m \u001b[39mNone\u001b[39;00m:\n\u001b[0;32m   6317\u001b[0m         \u001b[39m# error: Incompatible types in assignment (expression has type\u001b[39;00m\n\u001b[0;32m   6318\u001b[0m         \u001b[39m# \"Series\", variable has type \"ndarray\")\u001b[39;00m\n",
      "File \u001b[1;32mc:\\Users\\11633\\AppData\\Local\\Programs\\Python\\Python310\\lib\\site-packages\\pandas\\core\\generic.py:1835\u001b[0m, in \u001b[0;36mNDFrame._get_label_or_level_values\u001b[1;34m(self, key, axis)\u001b[0m\n\u001b[0;32m   1832\u001b[0m other_axes \u001b[39m=\u001b[39m [ax \u001b[39mfor\u001b[39;00m ax \u001b[39min\u001b[39;00m \u001b[39mrange\u001b[39m(\u001b[39mself\u001b[39m\u001b[39m.\u001b[39m_AXIS_LEN) \u001b[39mif\u001b[39;00m ax \u001b[39m!=\u001b[39m axis]\n\u001b[0;32m   1834\u001b[0m \u001b[39mif\u001b[39;00m \u001b[39mself\u001b[39m\u001b[39m.\u001b[39m_is_label_reference(key, axis\u001b[39m=\u001b[39maxis):\n\u001b[1;32m-> 1835\u001b[0m     \u001b[39mself\u001b[39;49m\u001b[39m.\u001b[39;49m_check_label_or_level_ambiguity(key, axis\u001b[39m=\u001b[39;49maxis)\n\u001b[0;32m   1836\u001b[0m     values \u001b[39m=\u001b[39m \u001b[39mself\u001b[39m\u001b[39m.\u001b[39mxs(key, axis\u001b[39m=\u001b[39mother_axes[\u001b[39m0\u001b[39m])\u001b[39m.\u001b[39m_values\n\u001b[0;32m   1837\u001b[0m \u001b[39melif\u001b[39;00m \u001b[39mself\u001b[39m\u001b[39m.\u001b[39m_is_level_reference(key, axis\u001b[39m=\u001b[39maxis):\n",
      "File \u001b[1;32mc:\\Users\\11633\\AppData\\Local\\Programs\\Python\\Python310\\lib\\site-packages\\pandas\\core\\generic.py:1794\u001b[0m, in \u001b[0;36mNDFrame._check_label_or_level_ambiguity\u001b[1;34m(self, key, axis)\u001b[0m\n\u001b[0;32m   1786\u001b[0m label_article, label_type \u001b[39m=\u001b[39m (\n\u001b[0;32m   1787\u001b[0m     (\u001b[39m\"\u001b[39m\u001b[39ma\u001b[39m\u001b[39m\"\u001b[39m, \u001b[39m\"\u001b[39m\u001b[39mcolumn\u001b[39m\u001b[39m\"\u001b[39m) \u001b[39mif\u001b[39;00m axis \u001b[39m==\u001b[39m \u001b[39m0\u001b[39m \u001b[39melse\u001b[39;00m (\u001b[39m\"\u001b[39m\u001b[39man\u001b[39m\u001b[39m\"\u001b[39m, \u001b[39m\"\u001b[39m\u001b[39mindex\u001b[39m\u001b[39m\"\u001b[39m)\n\u001b[0;32m   1788\u001b[0m )\n\u001b[0;32m   1790\u001b[0m msg \u001b[39m=\u001b[39m (\n\u001b[0;32m   1791\u001b[0m     \u001b[39mf\u001b[39m\u001b[39m\"\u001b[39m\u001b[39m'\u001b[39m\u001b[39m{\u001b[39;00mkey\u001b[39m}\u001b[39;00m\u001b[39m'\u001b[39m\u001b[39m is both \u001b[39m\u001b[39m{\u001b[39;00mlevel_article\u001b[39m}\u001b[39;00m\u001b[39m \u001b[39m\u001b[39m{\u001b[39;00mlevel_type\u001b[39m}\u001b[39;00m\u001b[39m level and \u001b[39m\u001b[39m\"\u001b[39m\n\u001b[0;32m   1792\u001b[0m     \u001b[39mf\u001b[39m\u001b[39m\"\u001b[39m\u001b[39m{\u001b[39;00mlabel_article\u001b[39m}\u001b[39;00m\u001b[39m \u001b[39m\u001b[39m{\u001b[39;00mlabel_type\u001b[39m}\u001b[39;00m\u001b[39m label, which is ambiguous.\u001b[39m\u001b[39m\"\u001b[39m\n\u001b[0;32m   1793\u001b[0m )\n\u001b[1;32m-> 1794\u001b[0m \u001b[39mraise\u001b[39;00m \u001b[39mValueError\u001b[39;00m(msg)\n",
      "\u001b[1;31mValueError\u001b[0m: 'DeclareDate' is both an index level and a column label, which is ambiguous."
     ]
    }
   ],
   "source": [
    "fees_ = fees[np.logical_or(fees.NameOfFee == '管理费率', fees.NameOfFee == '托管费率')]\n",
    "fees_ = fees_.astype({'ProportionOfFee': 'float'})\n",
    "# duplicated\n",
    "fees_ = fees_.groupby(['Symbol', 'DeclareDate']).sum()\n",
    "fees_['Symbol'] = fees_.index.get_level_values(0)\n",
    "fees_['DeclareDate'] = fees_.index.get_level_values(1)\n",
    "fees_.sort_values('DeclareDate').head(5)\n"
   ]
  },
  {
   "cell_type": "markdown",
   "metadata": {},
   "source": [
    "**erratum**\n",
    "\n",
    "*problem*: ＜1% Symbol-DeclareDate in `fees` are duplicated\n",
    "\n",
    "*reason*: wrong data\n",
    "\n",
    "*solve*: keep the last one"
   ]
  },
  {
   "cell_type": "code",
   "execution_count": 982,
   "metadata": {},
   "outputs": [
    {
     "data": {
      "text/html": [
       "<div>\n",
       "<style scoped>\n",
       "    .dataframe tbody tr th:only-of-type {\n",
       "        vertical-align: middle;\n",
       "    }\n",
       "\n",
       "    .dataframe tbody tr th {\n",
       "        vertical-align: top;\n",
       "    }\n",
       "\n",
       "    .dataframe thead th {\n",
       "        text-align: right;\n",
       "    }\n",
       "</style>\n",
       "<table border=\"1\" class=\"dataframe\">\n",
       "  <thead>\n",
       "    <tr style=\"text-align: right;\">\n",
       "      <th></th>\n",
       "      <th>Symbol</th>\n",
       "      <th>DeclareDate</th>\n",
       "      <th>TypeOfFee</th>\n",
       "      <th>NameOfFee</th>\n",
       "      <th>ProportionOfFee</th>\n",
       "    </tr>\n",
       "  </thead>\n",
       "  <tbody>\n",
       "    <tr>\n",
       "      <th>1096</th>\n",
       "      <td>5</td>\n",
       "      <td>2021-04</td>\n",
       "      <td>B1804</td>\n",
       "      <td>管理费率</td>\n",
       "      <td>0.8</td>\n",
       "    </tr>\n",
       "    <tr>\n",
       "      <th>1109</th>\n",
       "      <td>5</td>\n",
       "      <td>2021-04</td>\n",
       "      <td>B1804</td>\n",
       "      <td>管理费率</td>\n",
       "      <td>0.8</td>\n",
       "    </tr>\n",
       "    <tr>\n",
       "      <th>1131</th>\n",
       "      <td>5</td>\n",
       "      <td>2022-03</td>\n",
       "      <td>B1804</td>\n",
       "      <td>管理费率</td>\n",
       "      <td>0.3</td>\n",
       "    </tr>\n",
       "    <tr>\n",
       "      <th>1134</th>\n",
       "      <td>5</td>\n",
       "      <td>2022-03</td>\n",
       "      <td>B1804</td>\n",
       "      <td>管理费率</td>\n",
       "      <td>0.3</td>\n",
       "    </tr>\n",
       "    <tr>\n",
       "      <th>3262</th>\n",
       "      <td>20</td>\n",
       "      <td>2020-11</td>\n",
       "      <td>B1804</td>\n",
       "      <td>管理费率</td>\n",
       "      <td>1.5</td>\n",
       "    </tr>\n",
       "    <tr>\n",
       "      <th>...</th>\n",
       "      <td>...</td>\n",
       "      <td>...</td>\n",
       "      <td>...</td>\n",
       "      <td>...</td>\n",
       "      <td>...</td>\n",
       "    </tr>\n",
       "    <tr>\n",
       "      <th>564157</th>\n",
       "      <td>970182</td>\n",
       "      <td>2022-07</td>\n",
       "      <td>B1804</td>\n",
       "      <td>管理费率</td>\n",
       "      <td>0.3</td>\n",
       "    </tr>\n",
       "    <tr>\n",
       "      <th>564225</th>\n",
       "      <td>970194</td>\n",
       "      <td>2022-09</td>\n",
       "      <td>B1804</td>\n",
       "      <td>管理费率</td>\n",
       "      <td>0.8</td>\n",
       "    </tr>\n",
       "    <tr>\n",
       "      <th>564237</th>\n",
       "      <td>970194</td>\n",
       "      <td>2022-09</td>\n",
       "      <td>B1804</td>\n",
       "      <td>管理费率</td>\n",
       "      <td>0.8</td>\n",
       "    </tr>\n",
       "    <tr>\n",
       "      <th>564245</th>\n",
       "      <td>970195</td>\n",
       "      <td>2022-09</td>\n",
       "      <td>B1804</td>\n",
       "      <td>管理费率</td>\n",
       "      <td>0.8</td>\n",
       "    </tr>\n",
       "    <tr>\n",
       "      <th>564258</th>\n",
       "      <td>970195</td>\n",
       "      <td>2022-09</td>\n",
       "      <td>B1804</td>\n",
       "      <td>管理费率</td>\n",
       "      <td>0.8</td>\n",
       "    </tr>\n",
       "  </tbody>\n",
       "</table>\n",
       "<p>8064 rows × 5 columns</p>\n",
       "</div>"
      ],
      "text/plain": [
       "        Symbol DeclareDate TypeOfFee NameOfFee  ProportionOfFee\n",
       "1096         5     2021-04     B1804      管理费率              0.8\n",
       "1109         5     2021-04     B1804      管理费率              0.8\n",
       "1131         5     2022-03     B1804      管理费率              0.3\n",
       "1134         5     2022-03     B1804      管理费率              0.3\n",
       "3262        20     2020-11     B1804      管理费率              1.5\n",
       "...        ...         ...       ...       ...              ...\n",
       "564157  970182     2022-07     B1804      管理费率              0.3\n",
       "564225  970194     2022-09     B1804      管理费率              0.8\n",
       "564237  970194     2022-09     B1804      管理费率              0.8\n",
       "564245  970195     2022-09     B1804      管理费率              0.8\n",
       "564258  970195     2022-09     B1804      管理费率              0.8\n",
       "\n",
       "[8064 rows x 5 columns]"
      ]
     },
     "execution_count": 982,
     "metadata": {},
     "output_type": "execute_result"
    }
   ],
   "source": [
    "# fees_ = fees[fees.NameOfFee == '管理费率']\n",
    "# fees_ = fees_.astype({'ProportionOfFee': 'float'})\n",
    "duplicated_fees = fees_[fees_.duplicated(subset=['Symbol', 'DeclareDate'], keep=False)]\n",
    "duplicated_fees"
   ]
  },
  {
   "cell_type": "code",
   "execution_count": 983,
   "metadata": {},
   "outputs": [
    {
     "data": {
      "text/plain": [
       "'0.64% data are duplicated'"
      ]
     },
     "execution_count": 983,
     "metadata": {},
     "output_type": "execute_result"
    }
   ],
   "source": [
    "f'{round_(len(duplicated_fees) / len(fees))} data are duplicated'"
   ]
  },
  {
   "cell_type": "markdown",
   "metadata": {},
   "source": [
    "<img src=\"attachment/fees_erratum.png\" alt=\"drawing\" width=\"800\"/>"
   ]
  },
  {
   "cell_type": "code",
   "execution_count": 984,
   "metadata": {},
   "outputs": [],
   "source": [
    "# fees__ = fees_.drop_duplicates(subset=['Symbol', 'DeclareDate'], keep='last')\n",
    "fees__ = fees_"
   ]
  },
  {
   "cell_type": "code",
   "execution_count": 986,
   "metadata": {},
   "outputs": [],
   "source": [
    "fees__ = fees__[fees__.ProportionOfFee < 5]\n",
    "fees__ = pd.merge(fees__, full_symbol_code[['Symbol', 'Category']], on='Symbol')"
   ]
  },
  {
   "cell_type": "code",
   "execution_count": 987,
   "metadata": {},
   "outputs": [],
   "source": [
    "fees__['DeclareDate'] = fees__.DeclareDate.apply(lambda month: month.year)"
   ]
  },
  {
   "cell_type": "code",
   "execution_count": 988,
   "metadata": {},
   "outputs": [
    {
     "data": {
      "text/plain": [
       "<AxesSubplot:xlabel='DeclareDate'>"
      ]
     },
     "execution_count": 988,
     "metadata": {},
     "output_type": "execute_result"
    },
    {
     "data": {
      "image/png": "[encoded data removed]",
      "text/plain": [
       "<Figure size 432x288 with 1 Axes>"
      ]
     },
     "metadata": {
      "needs_background": "light"
     },
     "output_type": "display_data"
    }
   ],
   "source": [
    "fees__[fees__.Category == '股票型基金'].groupby('DeclareDate').apply(lambda x: x.ProportionOfFee.mean()).plot()\n",
    "fees__[fees__.Category == '混合型基金'].groupby('DeclareDate').apply(lambda x: x.ProportionOfFee.mean()).plot()"
   ]
  },
  {
   "cell_type": "markdown",
   "metadata": {},
   "source": [
    "### **4. fund return**"
   ]
  },
  {
   "cell_type": "markdown",
   "metadata": {},
   "source": [
    "#### i. check: Fund_Resolution, Fund_FundDividend\n",
    "\n",
    "收益分配与拆分 — 基金分配文件\n",
    "\n",
    "收益分配与拆分 — 基金拆分信息文件\n"
   ]
  },
  {
   "cell_type": "markdown",
   "metadata": {},
   "source": [
    "SecondaryExDividendDate [场内除息日] - \n",
    "\n",
    "PrimaryExDividendDate [场外除息日] - "
   ]
  },
  {
   "cell_type": "code",
   "execution_count": 644,
   "metadata": {},
   "outputs": [
    {
     "data": {
      "text/plain": [
       "'0.0% split ratio is null'"
      ]
     },
     "execution_count": 644,
     "metadata": {},
     "output_type": "execute_result"
    }
   ],
   "source": [
    "round_(pd.isnull(resolution.SplitRatio).sum() / len(resolution)) + ' split ratio is null'"
   ]
  },
  {
   "cell_type": "code",
   "execution_count": 658,
   "metadata": {},
   "outputs": [],
   "source": [
    "resolution.dropna(inplace=True)"
   ]
  },
  {
   "cell_type": "code",
   "execution_count": 646,
   "metadata": {},
   "outputs": [
    {
     "data": {
      "text/plain": [
       "'1.28% `PrimaryExDividendDate` is not available'"
      ]
     },
     "execution_count": 646,
     "metadata": {},
     "output_type": "execute_result"
    }
   ],
   "source": [
    "f'{round_(pd.isnull(fund_dividend.PrimaryExDividendDate).sum() / len(fund_dividend))} `PrimaryExDividendDate` is not available'"
   ]
  },
  {
   "cell_type": "code",
   "execution_count": 647,
   "metadata": {},
   "outputs": [
    {
     "data": {
      "text/plain": [
       "'92.64% `SecondaryExDividendDate` is not available'"
      ]
     },
     "execution_count": 647,
     "metadata": {},
     "output_type": "execute_result"
    }
   ],
   "source": [
    "f'{round_(pd.isnull(fund_dividend.SecondaryExDividendDate).sum() / len(fund_dividend))} `SecondaryExDividendDate` is not available'"
   ]
  },
  {
   "cell_type": "code",
   "execution_count": 648,
   "metadata": {},
   "outputs": [
    {
     "data": {
      "text/plain": [
       "'when `PrimaryExDividendDate` is not available, there stands 1.28% chance `SecondaryExDividendDate` is available'"
      ]
     },
     "execution_count": 648,
     "metadata": {},
     "output_type": "execute_result"
    }
   ],
   "source": [
    "temp = fund_dividend.apply(lambda row: True if pd.notnull(row.SecondaryExDividendDate) and pd.isna(row.PrimaryExDividendDate) else False, axis=1).sum() / len(fund_dividend)\n",
    "f'when `PrimaryExDividendDate` is not available, there stands {round_(temp)} chance `SecondaryExDividendDate` is available'"
   ]
  },
  {
   "cell_type": "code",
   "execution_count": 682,
   "metadata": {},
   "outputs": [],
   "source": [
    "ExDividendMonth = fund_dividend.PrimaryExDividendDate.copy()\n",
    "ExDividendMonth.name = 'ExDividendMonth'\n",
    "ExDividendMonth[ExDividendMonth.isnull()] = fund_dividend.SecondaryExDividendDate[ExDividendMonth.isnull()].copy()\n",
    "fund_dividend['ExDividendMonth'] = ExDividendMonth\n"
   ]
  },
  {
   "cell_type": "code",
   "execution_count": 650,
   "metadata": {},
   "outputs": [
    {
     "data": {
      "text/plain": [
       "'1.28% funds have multiple dividend payouts in one month'"
      ]
     },
     "execution_count": 650,
     "metadata": {},
     "output_type": "execute_result"
    }
   ],
   "source": [
    "temp = fund_dividend.groupby(['Symbol', 'ExDividendMonth']).apply(lambda one_month: len(one_month))\n",
    "f'{round_(len(temp[temp != 1]) / len(temp))} funds have multiple dividend payouts in one month'"
   ]
  },
  {
   "cell_type": "code",
   "execution_count": 651,
   "metadata": {},
   "outputs": [
    {
     "data": {
      "text/plain": [
       "'1.02% funds have multiple divisions in one month'"
      ]
     },
     "execution_count": 651,
     "metadata": {},
     "output_type": "execute_result"
    }
   ],
   "source": [
    "temp = resolution.set_index(['Symbol', resolution.DeclareDate.dt.strftime('%Y-%m')]).copy().SplitRatio\n",
    "f'{round_(len(temp[temp.index.duplicated(keep=False)]) / len(temp))} funds have multiple divisions in one month'"
   ]
  },
  {
   "cell_type": "code",
   "execution_count": 683,
   "metadata": {},
   "outputs": [
    {
     "data": {
      "text/plain": [
       "Symbol  ExDividendMonth\n",
       "1       2002-06            0.0270\n",
       "        2003-06            0.0330\n",
       "        2004-06            0.0300\n",
       "        2004-12            0.0300\n",
       "        2006-04            0.0200\n",
       "                            ...  \n",
       "970071  2022-08            0.0090\n",
       "970072  2022-08            0.0300\n",
       "970086  2022-08            0.0180\n",
       "970106  2022-07            0.0185\n",
       "970124  2022-08            0.0200\n",
       "Name: fund_dividend, Length: 29429, dtype: float64"
      ]
     },
     "execution_count": 683,
     "metadata": {},
     "output_type": "execute_result"
    }
   ],
   "source": [
    "dividend = fund_dividend.groupby(['Symbol', 'ExDividendMonth']).apply(lambda x: x.DividendperShare.sum())\n",
    "dividend.name = 'fund_dividend'\n",
    "dividend"
   ]
  },
  {
   "cell_type": "code",
   "execution_count": 684,
   "metadata": {},
   "outputs": [
    {
     "data": {
      "text/plain": [
       "Symbol  DeclareDate\n",
       "28      2016-04        0.998495\n",
       "30      2016-04        1.851295\n",
       "53      2018-11        1.454000\n",
       "58      2016-04        1.171550\n",
       "66      2016-04        1.411347\n",
       "                         ...   \n",
       "870017  2019-11        1.781349\n",
       "880007  2020-10        1.385466\n",
       "970044  2021-09        1.272947\n",
       "970087  2021-12        1.001735\n",
       "970117  2022-01        1.004620\n",
       "Name: SplitRatio, Length: 3741, dtype: float64"
      ]
     },
     "execution_count": 684,
     "metadata": {},
     "output_type": "execute_result"
    }
   ],
   "source": [
    "split = resolution.groupby(['Symbol', 'DeclareDate']).apply(lambda x: x.SplitRatio.cumprod()).droplevel(2)\n",
    "split"
   ]
  },
  {
   "cell_type": "markdown",
   "metadata": {},
   "source": [
    "#### ii. calculate $R_t^{real}$\n"
   ]
  },
  {
   "cell_type": "markdown",
   "metadata": {},
   "source": [
    "$$\n",
    "R_t^{real}=\\frac{\\left(NAV_t+Div_t\\right)*SF_t}{NAV_{t-1}*SF_{t-1}}\n",
    "$$\n",
    "\n",
    "$NAV_t$ 基金在 $t$ 月末的基金净值\n",
    "\n",
    "$Div_t$ 在 $t$ 月中发放的现金分红\n",
    "\n",
    "$SF_t$ 累计拆分因子"
   ]
  },
  {
   "cell_type": "code",
   "execution_count": 724,
   "metadata": {},
   "outputs": [],
   "source": [
    "split.index = split.index.rename(['Symbol', 'TradingDate'])\n",
    "dividend.index = dividend.index.rename(['Symbol', 'TradingDate'])"
   ]
  },
  {
   "cell_type": "code",
   "execution_count": 729,
   "metadata": {},
   "outputs": [
    {
     "data": {
      "text/plain": [
       "(3741, 29429, 869739, 72576)"
      ]
     },
     "execution_count": 729,
     "metadata": {},
     "output_type": "execute_result"
    }
   ],
   "source": [
    "len(split), len(dividend), len(full_nav_month), len(main_data_6)"
   ]
  },
  {
   "cell_type": "code",
   "execution_count": 725,
   "metadata": {},
   "outputs": [],
   "source": [
    "calculate = pd.merge(full_nav_month, main_data_6.Category.groupby(level=0).last(), on='Symbol')[['Symbol', 'NAV', 'TradingDate', 'Category']]\n",
    "calculate = pd.merge(calculate, dividend, how='left', on=['Symbol', 'TradingDate'])\n",
    "calculate = pd.merge(calculate, split, how='left', on=['Symbol', 'TradingDate'])"
   ]
  },
  {
   "cell_type": "code",
   "execution_count": 918,
   "metadata": {},
   "outputs": [],
   "source": [
    "calculate.fund_dividend.fillna(0, inplace=True)\n",
    "calculate.SplitRatio.fillna(1, inplace=True)\n",
    "stock_calculate = calculate[calculate.Category == '股票型基金'].pivot(index='TradingDate', columns='Symbol')\n",
    "stock_calculate['cumulative_SplitRatio'] = stock_calculate.SplitRatio.cumprod().shift(1)\n",
    "mixed_calculate = calculate[calculate.Category == '混合型基金'].pivot(index='TradingDate', columns='Symbol')\n",
    "mixed_calculate['cumulative_SplitRatio'] = mixed_calculate.SplitRatio.cumprod().shift(1)\n"
   ]
  },
  {
   "cell_type": "code",
   "execution_count": 919,
   "metadata": {},
   "outputs": [
    {
     "data": {
      "text/html": [
       "<div>\n",
       "<style scoped>\n",
       "    .dataframe tbody tr th:only-of-type {\n",
       "        vertical-align: middle;\n",
       "    }\n",
       "\n",
       "    .dataframe tbody tr th {\n",
       "        vertical-align: top;\n",
       "    }\n",
       "\n",
       "    .dataframe thead tr th {\n",
       "        text-align: left;\n",
       "    }\n",
       "\n",
       "    .dataframe thead tr:last-of-type th {\n",
       "        text-align: right;\n",
       "    }\n",
       "</style>\n",
       "<table border=\"1\" class=\"dataframe\">\n",
       "  <thead>\n",
       "    <tr>\n",
       "      <th></th>\n",
       "      <th colspan=\"10\" halign=\"left\">NAV</th>\n",
       "      <th>...</th>\n",
       "      <th colspan=\"10\" halign=\"left\">cumulative_SplitRatio</th>\n",
       "    </tr>\n",
       "    <tr>\n",
       "      <th>Symbol</th>\n",
       "      <th>6</th>\n",
       "      <th>11</th>\n",
       "      <th>17</th>\n",
       "      <th>20</th>\n",
       "      <th>21</th>\n",
       "      <th>29</th>\n",
       "      <th>30</th>\n",
       "      <th>31</th>\n",
       "      <th>39</th>\n",
       "      <th>56</th>\n",
       "      <th>...</th>\n",
       "      <th>960033</th>\n",
       "      <th>970009</th>\n",
       "      <th>970010</th>\n",
       "      <th>970015</th>\n",
       "      <th>970016</th>\n",
       "      <th>970017</th>\n",
       "      <th>970020</th>\n",
       "      <th>970021</th>\n",
       "      <th>970032</th>\n",
       "      <th>970033</th>\n",
       "    </tr>\n",
       "    <tr>\n",
       "      <th>TradingDate</th>\n",
       "      <th></th>\n",
       "      <th></th>\n",
       "      <th></th>\n",
       "      <th></th>\n",
       "      <th></th>\n",
       "      <th></th>\n",
       "      <th></th>\n",
       "      <th></th>\n",
       "      <th></th>\n",
       "      <th></th>\n",
       "      <th></th>\n",
       "      <th></th>\n",
       "      <th></th>\n",
       "      <th></th>\n",
       "      <th></th>\n",
       "      <th></th>\n",
       "      <th></th>\n",
       "      <th></th>\n",
       "      <th></th>\n",
       "      <th></th>\n",
       "      <th></th>\n",
       "    </tr>\n",
       "  </thead>\n",
       "  <tbody>\n",
       "    <tr>\n",
       "      <th>2002-05</th>\n",
       "      <td>NaN</td>\n",
       "      <td>NaN</td>\n",
       "      <td>NaN</td>\n",
       "      <td>NaN</td>\n",
       "      <td>NaN</td>\n",
       "      <td>NaN</td>\n",
       "      <td>NaN</td>\n",
       "      <td>NaN</td>\n",
       "      <td>NaN</td>\n",
       "      <td>NaN</td>\n",
       "      <td>...</td>\n",
       "      <td>NaN</td>\n",
       "      <td>NaN</td>\n",
       "      <td>NaN</td>\n",
       "      <td>NaN</td>\n",
       "      <td>NaN</td>\n",
       "      <td>NaN</td>\n",
       "      <td>NaN</td>\n",
       "      <td>NaN</td>\n",
       "      <td>NaN</td>\n",
       "      <td>NaN</td>\n",
       "    </tr>\n",
       "    <tr>\n",
       "      <th>2002-06</th>\n",
       "      <td>NaN</td>\n",
       "      <td>NaN</td>\n",
       "      <td>NaN</td>\n",
       "      <td>NaN</td>\n",
       "      <td>NaN</td>\n",
       "      <td>NaN</td>\n",
       "      <td>NaN</td>\n",
       "      <td>NaN</td>\n",
       "      <td>NaN</td>\n",
       "      <td>NaN</td>\n",
       "      <td>...</td>\n",
       "      <td>NaN</td>\n",
       "      <td>NaN</td>\n",
       "      <td>NaN</td>\n",
       "      <td>NaN</td>\n",
       "      <td>NaN</td>\n",
       "      <td>NaN</td>\n",
       "      <td>NaN</td>\n",
       "      <td>NaN</td>\n",
       "      <td>NaN</td>\n",
       "      <td>NaN</td>\n",
       "    </tr>\n",
       "    <tr>\n",
       "      <th>2002-07</th>\n",
       "      <td>NaN</td>\n",
       "      <td>NaN</td>\n",
       "      <td>NaN</td>\n",
       "      <td>NaN</td>\n",
       "      <td>NaN</td>\n",
       "      <td>NaN</td>\n",
       "      <td>NaN</td>\n",
       "      <td>NaN</td>\n",
       "      <td>NaN</td>\n",
       "      <td>NaN</td>\n",
       "      <td>...</td>\n",
       "      <td>NaN</td>\n",
       "      <td>NaN</td>\n",
       "      <td>NaN</td>\n",
       "      <td>NaN</td>\n",
       "      <td>NaN</td>\n",
       "      <td>NaN</td>\n",
       "      <td>NaN</td>\n",
       "      <td>NaN</td>\n",
       "      <td>NaN</td>\n",
       "      <td>NaN</td>\n",
       "    </tr>\n",
       "    <tr>\n",
       "      <th>2002-08</th>\n",
       "      <td>NaN</td>\n",
       "      <td>NaN</td>\n",
       "      <td>NaN</td>\n",
       "      <td>NaN</td>\n",
       "      <td>NaN</td>\n",
       "      <td>NaN</td>\n",
       "      <td>NaN</td>\n",
       "      <td>NaN</td>\n",
       "      <td>NaN</td>\n",
       "      <td>NaN</td>\n",
       "      <td>...</td>\n",
       "      <td>NaN</td>\n",
       "      <td>NaN</td>\n",
       "      <td>NaN</td>\n",
       "      <td>NaN</td>\n",
       "      <td>NaN</td>\n",
       "      <td>NaN</td>\n",
       "      <td>NaN</td>\n",
       "      <td>NaN</td>\n",
       "      <td>NaN</td>\n",
       "      <td>NaN</td>\n",
       "    </tr>\n",
       "    <tr>\n",
       "      <th>2002-09</th>\n",
       "      <td>NaN</td>\n",
       "      <td>NaN</td>\n",
       "      <td>NaN</td>\n",
       "      <td>NaN</td>\n",
       "      <td>NaN</td>\n",
       "      <td>NaN</td>\n",
       "      <td>NaN</td>\n",
       "      <td>NaN</td>\n",
       "      <td>NaN</td>\n",
       "      <td>NaN</td>\n",
       "      <td>...</td>\n",
       "      <td>NaN</td>\n",
       "      <td>NaN</td>\n",
       "      <td>NaN</td>\n",
       "      <td>NaN</td>\n",
       "      <td>NaN</td>\n",
       "      <td>NaN</td>\n",
       "      <td>NaN</td>\n",
       "      <td>NaN</td>\n",
       "      <td>NaN</td>\n",
       "      <td>NaN</td>\n",
       "    </tr>\n",
       "    <tr>\n",
       "      <th>...</th>\n",
       "      <td>...</td>\n",
       "      <td>...</td>\n",
       "      <td>...</td>\n",
       "      <td>...</td>\n",
       "      <td>...</td>\n",
       "      <td>...</td>\n",
       "      <td>...</td>\n",
       "      <td>...</td>\n",
       "      <td>...</td>\n",
       "      <td>...</td>\n",
       "      <td>...</td>\n",
       "      <td>...</td>\n",
       "      <td>...</td>\n",
       "      <td>...</td>\n",
       "      <td>...</td>\n",
       "      <td>...</td>\n",
       "      <td>...</td>\n",
       "      <td>...</td>\n",
       "      <td>...</td>\n",
       "      <td>...</td>\n",
       "      <td>...</td>\n",
       "    </tr>\n",
       "    <tr>\n",
       "      <th>2022-04</th>\n",
       "      <td>1.7115</td>\n",
       "      <td>15.588</td>\n",
       "      <td>1.436</td>\n",
       "      <td>3.189</td>\n",
       "      <td>2.543</td>\n",
       "      <td>3.052</td>\n",
       "      <td>1.2049</td>\n",
       "      <td>2.646</td>\n",
       "      <td>3.2334</td>\n",
       "      <td>2.374</td>\n",
       "      <td>...</td>\n",
       "      <td>NaN</td>\n",
       "      <td>1.0</td>\n",
       "      <td>1.0</td>\n",
       "      <td>1.0</td>\n",
       "      <td>1.0</td>\n",
       "      <td>1.0</td>\n",
       "      <td>1.0</td>\n",
       "      <td>1.0</td>\n",
       "      <td>1.0</td>\n",
       "      <td>1.0</td>\n",
       "    </tr>\n",
       "    <tr>\n",
       "      <th>2022-05</th>\n",
       "      <td>1.8559</td>\n",
       "      <td>16.868</td>\n",
       "      <td>1.458</td>\n",
       "      <td>3.362</td>\n",
       "      <td>2.705</td>\n",
       "      <td>3.127</td>\n",
       "      <td>1.2888</td>\n",
       "      <td>2.973</td>\n",
       "      <td>3.5553</td>\n",
       "      <td>2.447</td>\n",
       "      <td>...</td>\n",
       "      <td>NaN</td>\n",
       "      <td>1.0</td>\n",
       "      <td>1.0</td>\n",
       "      <td>1.0</td>\n",
       "      <td>1.0</td>\n",
       "      <td>1.0</td>\n",
       "      <td>1.0</td>\n",
       "      <td>1.0</td>\n",
       "      <td>1.0</td>\n",
       "      <td>1.0</td>\n",
       "    </tr>\n",
       "    <tr>\n",
       "      <th>2022-06</th>\n",
       "      <td>2.0785</td>\n",
       "      <td>18.869</td>\n",
       "      <td>1.663</td>\n",
       "      <td>3.612</td>\n",
       "      <td>2.996</td>\n",
       "      <td>3.288</td>\n",
       "      <td>1.4303</td>\n",
       "      <td>3.406</td>\n",
       "      <td>4.0427</td>\n",
       "      <td>2.744</td>\n",
       "      <td>...</td>\n",
       "      <td>NaN</td>\n",
       "      <td>1.0</td>\n",
       "      <td>1.0</td>\n",
       "      <td>1.0</td>\n",
       "      <td>1.0</td>\n",
       "      <td>1.0</td>\n",
       "      <td>1.0</td>\n",
       "      <td>1.0</td>\n",
       "      <td>1.0</td>\n",
       "      <td>1.0</td>\n",
       "    </tr>\n",
       "    <tr>\n",
       "      <th>2022-07</th>\n",
       "      <td>2.1458</td>\n",
       "      <td>17.880</td>\n",
       "      <td>1.552</td>\n",
       "      <td>3.468</td>\n",
       "      <td>2.947</td>\n",
       "      <td>3.291</td>\n",
       "      <td>1.3852</td>\n",
       "      <td>3.306</td>\n",
       "      <td>3.8905</td>\n",
       "      <td>2.582</td>\n",
       "      <td>...</td>\n",
       "      <td>NaN</td>\n",
       "      <td>1.0</td>\n",
       "      <td>1.0</td>\n",
       "      <td>1.0</td>\n",
       "      <td>1.0</td>\n",
       "      <td>1.0</td>\n",
       "      <td>1.0</td>\n",
       "      <td>1.0</td>\n",
       "      <td>1.0</td>\n",
       "      <td>1.0</td>\n",
       "    </tr>\n",
       "    <tr>\n",
       "      <th>2022-08</th>\n",
       "      <td>2.0240</td>\n",
       "      <td>16.982</td>\n",
       "      <td>1.479</td>\n",
       "      <td>3.398</td>\n",
       "      <td>2.830</td>\n",
       "      <td>3.175</td>\n",
       "      <td>1.2707</td>\n",
       "      <td>3.017</td>\n",
       "      <td>3.5922</td>\n",
       "      <td>2.517</td>\n",
       "      <td>...</td>\n",
       "      <td>NaN</td>\n",
       "      <td>1.0</td>\n",
       "      <td>1.0</td>\n",
       "      <td>1.0</td>\n",
       "      <td>1.0</td>\n",
       "      <td>1.0</td>\n",
       "      <td>1.0</td>\n",
       "      <td>1.0</td>\n",
       "      <td>1.0</td>\n",
       "      <td>1.0</td>\n",
       "    </tr>\n",
       "  </tbody>\n",
       "</table>\n",
       "<p>244 rows × 22340 columns</p>\n",
       "</div>"
      ],
      "text/plain": [
       "                NAV                                                     \\\n",
       "Symbol       6       11     17     20     21     29      30     31       \n",
       "TradingDate                                                              \n",
       "2002-05         NaN     NaN    NaN    NaN    NaN    NaN     NaN    NaN   \n",
       "2002-06         NaN     NaN    NaN    NaN    NaN    NaN     NaN    NaN   \n",
       "2002-07         NaN     NaN    NaN    NaN    NaN    NaN     NaN    NaN   \n",
       "2002-08         NaN     NaN    NaN    NaN    NaN    NaN     NaN    NaN   \n",
       "2002-09         NaN     NaN    NaN    NaN    NaN    NaN     NaN    NaN   \n",
       "...             ...     ...    ...    ...    ...    ...     ...    ...   \n",
       "2022-04      1.7115  15.588  1.436  3.189  2.543  3.052  1.2049  2.646   \n",
       "2022-05      1.8559  16.868  1.458  3.362  2.705  3.127  1.2888  2.973   \n",
       "2022-06      2.0785  18.869  1.663  3.612  2.996  3.288  1.4303  3.406   \n",
       "2022-07      2.1458  17.880  1.552  3.468  2.947  3.291  1.3852  3.306   \n",
       "2022-08      2.0240  16.982  1.479  3.398  2.830  3.175  1.2707  3.017   \n",
       "\n",
       "                            ... cumulative_SplitRatio                       \\\n",
       "Symbol       39     56      ...                960033 970009 970010 970015   \n",
       "TradingDate                 ...                                              \n",
       "2002-05         NaN    NaN  ...                   NaN    NaN    NaN    NaN   \n",
       "2002-06         NaN    NaN  ...                   NaN    NaN    NaN    NaN   \n",
       "2002-07         NaN    NaN  ...                   NaN    NaN    NaN    NaN   \n",
       "2002-08         NaN    NaN  ...                   NaN    NaN    NaN    NaN   \n",
       "2002-09         NaN    NaN  ...                   NaN    NaN    NaN    NaN   \n",
       "...             ...    ...  ...                   ...    ...    ...    ...   \n",
       "2022-04      3.2334  2.374  ...                   NaN    1.0    1.0    1.0   \n",
       "2022-05      3.5553  2.447  ...                   NaN    1.0    1.0    1.0   \n",
       "2022-06      4.0427  2.744  ...                   NaN    1.0    1.0    1.0   \n",
       "2022-07      3.8905  2.582  ...                   NaN    1.0    1.0    1.0   \n",
       "2022-08      3.5922  2.517  ...                   NaN    1.0    1.0    1.0   \n",
       "\n",
       "                                                       \n",
       "Symbol      970016 970017 970020 970021 970032 970033  \n",
       "TradingDate                                            \n",
       "2002-05        NaN    NaN    NaN    NaN    NaN    NaN  \n",
       "2002-06        NaN    NaN    NaN    NaN    NaN    NaN  \n",
       "2002-07        NaN    NaN    NaN    NaN    NaN    NaN  \n",
       "2002-08        NaN    NaN    NaN    NaN    NaN    NaN  \n",
       "2002-09        NaN    NaN    NaN    NaN    NaN    NaN  \n",
       "...            ...    ...    ...    ...    ...    ...  \n",
       "2022-04        1.0    1.0    1.0    1.0    1.0    1.0  \n",
       "2022-05        1.0    1.0    1.0    1.0    1.0    1.0  \n",
       "2022-06        1.0    1.0    1.0    1.0    1.0    1.0  \n",
       "2022-07        1.0    1.0    1.0    1.0    1.0    1.0  \n",
       "2022-08        1.0    1.0    1.0    1.0    1.0    1.0  \n",
       "\n",
       "[244 rows x 22340 columns]"
      ]
     },
     "execution_count": 919,
     "metadata": {},
     "output_type": "execute_result"
    }
   ],
   "source": [
    "mixed_calculate"
   ]
  },
  {
   "cell_type": "code",
   "execution_count": 920,
   "metadata": {},
   "outputs": [],
   "source": [
    "stock_return = ((stock_calculate.NAV + stock_calculate.fund_dividend) * stock_calculate.cumulative_SplitRatio)\\\n",
    "    / (stock_calculate.NAV.shift(1) * stock_calculate.cumulative_SplitRatio.shift(1))\n",
    "mixed_return = ((mixed_calculate.NAV + mixed_calculate.fund_dividend) * mixed_calculate.cumulative_SplitRatio)\\\n",
    "    / (mixed_calculate.NAV.shift(1) * mixed_calculate.cumulative_SplitRatio.shift(1))"
   ]
  },
  {
   "cell_type": "code",
   "execution_count": 921,
   "metadata": {},
   "outputs": [
    {
     "data": {
      "text/html": [
       "<div>\n",
       "<style scoped>\n",
       "    .dataframe tbody tr th:only-of-type {\n",
       "        vertical-align: middle;\n",
       "    }\n",
       "\n",
       "    .dataframe tbody tr th {\n",
       "        vertical-align: top;\n",
       "    }\n",
       "\n",
       "    .dataframe thead th {\n",
       "        text-align: right;\n",
       "    }\n",
       "</style>\n",
       "<table border=\"1\" class=\"dataframe\">\n",
       "  <thead>\n",
       "    <tr style=\"text-align: right;\">\n",
       "      <th>Symbol</th>\n",
       "      <th>6</th>\n",
       "      <th>11</th>\n",
       "      <th>17</th>\n",
       "      <th>20</th>\n",
       "      <th>21</th>\n",
       "      <th>29</th>\n",
       "      <th>30</th>\n",
       "      <th>31</th>\n",
       "      <th>39</th>\n",
       "      <th>56</th>\n",
       "      <th>...</th>\n",
       "      <th>960033</th>\n",
       "      <th>970009</th>\n",
       "      <th>970010</th>\n",
       "      <th>970015</th>\n",
       "      <th>970016</th>\n",
       "      <th>970017</th>\n",
       "      <th>970020</th>\n",
       "      <th>970021</th>\n",
       "      <th>970032</th>\n",
       "      <th>970033</th>\n",
       "    </tr>\n",
       "    <tr>\n",
       "      <th>TradingDate</th>\n",
       "      <th></th>\n",
       "      <th></th>\n",
       "      <th></th>\n",
       "      <th></th>\n",
       "      <th></th>\n",
       "      <th></th>\n",
       "      <th></th>\n",
       "      <th></th>\n",
       "      <th></th>\n",
       "      <th></th>\n",
       "      <th></th>\n",
       "      <th></th>\n",
       "      <th></th>\n",
       "      <th></th>\n",
       "      <th></th>\n",
       "      <th></th>\n",
       "      <th></th>\n",
       "      <th></th>\n",
       "      <th></th>\n",
       "      <th></th>\n",
       "      <th></th>\n",
       "    </tr>\n",
       "  </thead>\n",
       "  <tbody>\n",
       "    <tr>\n",
       "      <th>2002-05</th>\n",
       "      <td>NaN</td>\n",
       "      <td>NaN</td>\n",
       "      <td>NaN</td>\n",
       "      <td>NaN</td>\n",
       "      <td>NaN</td>\n",
       "      <td>NaN</td>\n",
       "      <td>NaN</td>\n",
       "      <td>NaN</td>\n",
       "      <td>NaN</td>\n",
       "      <td>NaN</td>\n",
       "      <td>...</td>\n",
       "      <td>NaN</td>\n",
       "      <td>NaN</td>\n",
       "      <td>NaN</td>\n",
       "      <td>NaN</td>\n",
       "      <td>NaN</td>\n",
       "      <td>NaN</td>\n",
       "      <td>NaN</td>\n",
       "      <td>NaN</td>\n",
       "      <td>NaN</td>\n",
       "      <td>NaN</td>\n",
       "    </tr>\n",
       "    <tr>\n",
       "      <th>2002-06</th>\n",
       "      <td>NaN</td>\n",
       "      <td>NaN</td>\n",
       "      <td>NaN</td>\n",
       "      <td>NaN</td>\n",
       "      <td>NaN</td>\n",
       "      <td>NaN</td>\n",
       "      <td>NaN</td>\n",
       "      <td>NaN</td>\n",
       "      <td>NaN</td>\n",
       "      <td>NaN</td>\n",
       "      <td>...</td>\n",
       "      <td>NaN</td>\n",
       "      <td>NaN</td>\n",
       "      <td>NaN</td>\n",
       "      <td>NaN</td>\n",
       "      <td>NaN</td>\n",
       "      <td>NaN</td>\n",
       "      <td>NaN</td>\n",
       "      <td>NaN</td>\n",
       "      <td>NaN</td>\n",
       "      <td>NaN</td>\n",
       "    </tr>\n",
       "    <tr>\n",
       "      <th>2002-07</th>\n",
       "      <td>NaN</td>\n",
       "      <td>NaN</td>\n",
       "      <td>NaN</td>\n",
       "      <td>NaN</td>\n",
       "      <td>NaN</td>\n",
       "      <td>NaN</td>\n",
       "      <td>NaN</td>\n",
       "      <td>NaN</td>\n",
       "      <td>NaN</td>\n",
       "      <td>NaN</td>\n",
       "      <td>...</td>\n",
       "      <td>NaN</td>\n",
       "      <td>NaN</td>\n",
       "      <td>NaN</td>\n",
       "      <td>NaN</td>\n",
       "      <td>NaN</td>\n",
       "      <td>NaN</td>\n",
       "      <td>NaN</td>\n",
       "      <td>NaN</td>\n",
       "      <td>NaN</td>\n",
       "      <td>NaN</td>\n",
       "    </tr>\n",
       "    <tr>\n",
       "      <th>2002-08</th>\n",
       "      <td>NaN</td>\n",
       "      <td>NaN</td>\n",
       "      <td>NaN</td>\n",
       "      <td>NaN</td>\n",
       "      <td>NaN</td>\n",
       "      <td>NaN</td>\n",
       "      <td>NaN</td>\n",
       "      <td>NaN</td>\n",
       "      <td>NaN</td>\n",
       "      <td>NaN</td>\n",
       "      <td>...</td>\n",
       "      <td>NaN</td>\n",
       "      <td>NaN</td>\n",
       "      <td>NaN</td>\n",
       "      <td>NaN</td>\n",
       "      <td>NaN</td>\n",
       "      <td>NaN</td>\n",
       "      <td>NaN</td>\n",
       "      <td>NaN</td>\n",
       "      <td>NaN</td>\n",
       "      <td>NaN</td>\n",
       "    </tr>\n",
       "    <tr>\n",
       "      <th>2002-09</th>\n",
       "      <td>NaN</td>\n",
       "      <td>NaN</td>\n",
       "      <td>NaN</td>\n",
       "      <td>NaN</td>\n",
       "      <td>NaN</td>\n",
       "      <td>NaN</td>\n",
       "      <td>NaN</td>\n",
       "      <td>NaN</td>\n",
       "      <td>NaN</td>\n",
       "      <td>NaN</td>\n",
       "      <td>...</td>\n",
       "      <td>NaN</td>\n",
       "      <td>NaN</td>\n",
       "      <td>NaN</td>\n",
       "      <td>NaN</td>\n",
       "      <td>NaN</td>\n",
       "      <td>NaN</td>\n",
       "      <td>NaN</td>\n",
       "      <td>NaN</td>\n",
       "      <td>NaN</td>\n",
       "      <td>NaN</td>\n",
       "    </tr>\n",
       "    <tr>\n",
       "      <th>...</th>\n",
       "      <td>...</td>\n",
       "      <td>...</td>\n",
       "      <td>...</td>\n",
       "      <td>...</td>\n",
       "      <td>...</td>\n",
       "      <td>...</td>\n",
       "      <td>...</td>\n",
       "      <td>...</td>\n",
       "      <td>...</td>\n",
       "      <td>...</td>\n",
       "      <td>...</td>\n",
       "      <td>...</td>\n",
       "      <td>...</td>\n",
       "      <td>...</td>\n",
       "      <td>...</td>\n",
       "      <td>...</td>\n",
       "      <td>...</td>\n",
       "      <td>...</td>\n",
       "      <td>...</td>\n",
       "      <td>...</td>\n",
       "      <td>...</td>\n",
       "    </tr>\n",
       "    <tr>\n",
       "      <th>2022-04</th>\n",
       "      <td>0.896073</td>\n",
       "      <td>0.960089</td>\n",
       "      <td>0.961178</td>\n",
       "      <td>0.940431</td>\n",
       "      <td>0.912123</td>\n",
       "      <td>0.977892</td>\n",
       "      <td>0.922871</td>\n",
       "      <td>0.878194</td>\n",
       "      <td>0.860977</td>\n",
       "      <td>0.974149</td>\n",
       "      <td>...</td>\n",
       "      <td>NaN</td>\n",
       "      <td>0.922375</td>\n",
       "      <td>0.922815</td>\n",
       "      <td>0.930134</td>\n",
       "      <td>0.961805</td>\n",
       "      <td>0.961153</td>\n",
       "      <td>0.943458</td>\n",
       "      <td>0.943458</td>\n",
       "      <td>0.899072</td>\n",
       "      <td>0.898991</td>\n",
       "    </tr>\n",
       "    <tr>\n",
       "      <th>2022-05</th>\n",
       "      <td>1.084370</td>\n",
       "      <td>1.082114</td>\n",
       "      <td>1.015320</td>\n",
       "      <td>1.054249</td>\n",
       "      <td>1.063704</td>\n",
       "      <td>1.024574</td>\n",
       "      <td>1.069632</td>\n",
       "      <td>1.123583</td>\n",
       "      <td>1.099555</td>\n",
       "      <td>1.030750</td>\n",
       "      <td>...</td>\n",
       "      <td>NaN</td>\n",
       "      <td>1.036125</td>\n",
       "      <td>1.036617</td>\n",
       "      <td>1.026038</td>\n",
       "      <td>0.987140</td>\n",
       "      <td>0.986504</td>\n",
       "      <td>1.026248</td>\n",
       "      <td>1.026248</td>\n",
       "      <td>1.023259</td>\n",
       "      <td>1.023256</td>\n",
       "    </tr>\n",
       "    <tr>\n",
       "      <th>2022-06</th>\n",
       "      <td>1.119942</td>\n",
       "      <td>1.118627</td>\n",
       "      <td>1.140604</td>\n",
       "      <td>1.074360</td>\n",
       "      <td>1.107579</td>\n",
       "      <td>1.051487</td>\n",
       "      <td>1.109792</td>\n",
       "      <td>1.145644</td>\n",
       "      <td>1.137091</td>\n",
       "      <td>1.121373</td>\n",
       "      <td>...</td>\n",
       "      <td>NaN</td>\n",
       "      <td>1.065251</td>\n",
       "      <td>1.065820</td>\n",
       "      <td>1.050520</td>\n",
       "      <td>1.119971</td>\n",
       "      <td>1.119218</td>\n",
       "      <td>1.047129</td>\n",
       "      <td>1.047129</td>\n",
       "      <td>1.097182</td>\n",
       "      <td>1.097252</td>\n",
       "    </tr>\n",
       "    <tr>\n",
       "      <th>2022-07</th>\n",
       "      <td>1.032379</td>\n",
       "      <td>0.947586</td>\n",
       "      <td>0.933253</td>\n",
       "      <td>0.960133</td>\n",
       "      <td>0.983645</td>\n",
       "      <td>1.000912</td>\n",
       "      <td>0.968468</td>\n",
       "      <td>0.970640</td>\n",
       "      <td>0.962352</td>\n",
       "      <td>0.940962</td>\n",
       "      <td>...</td>\n",
       "      <td>NaN</td>\n",
       "      <td>0.949168</td>\n",
       "      <td>0.949690</td>\n",
       "      <td>0.973172</td>\n",
       "      <td>0.927394</td>\n",
       "      <td>0.926724</td>\n",
       "      <td>0.958237</td>\n",
       "      <td>0.958237</td>\n",
       "      <td>0.982137</td>\n",
       "      <td>0.982057</td>\n",
       "    </tr>\n",
       "    <tr>\n",
       "      <th>2022-08</th>\n",
       "      <td>0.943238</td>\n",
       "      <td>0.949776</td>\n",
       "      <td>0.952964</td>\n",
       "      <td>0.979815</td>\n",
       "      <td>0.960299</td>\n",
       "      <td>0.964752</td>\n",
       "      <td>0.917340</td>\n",
       "      <td>0.912583</td>\n",
       "      <td>0.923326</td>\n",
       "      <td>0.974826</td>\n",
       "      <td>...</td>\n",
       "      <td>NaN</td>\n",
       "      <td>0.948276</td>\n",
       "      <td>0.948782</td>\n",
       "      <td>0.981011</td>\n",
       "      <td>0.923915</td>\n",
       "      <td>0.923233</td>\n",
       "      <td>0.996791</td>\n",
       "      <td>0.996791</td>\n",
       "      <td>0.936289</td>\n",
       "      <td>0.936235</td>\n",
       "    </tr>\n",
       "  </tbody>\n",
       "</table>\n",
       "<p>244 rows × 4468 columns</p>\n",
       "</div>"
      ],
      "text/plain": [
       "Symbol         6         11        17        20        21        29      \\\n",
       "TradingDate                                                               \n",
       "2002-05           NaN       NaN       NaN       NaN       NaN       NaN   \n",
       "2002-06           NaN       NaN       NaN       NaN       NaN       NaN   \n",
       "2002-07           NaN       NaN       NaN       NaN       NaN       NaN   \n",
       "2002-08           NaN       NaN       NaN       NaN       NaN       NaN   \n",
       "2002-09           NaN       NaN       NaN       NaN       NaN       NaN   \n",
       "...               ...       ...       ...       ...       ...       ...   \n",
       "2022-04      0.896073  0.960089  0.961178  0.940431  0.912123  0.977892   \n",
       "2022-05      1.084370  1.082114  1.015320  1.054249  1.063704  1.024574   \n",
       "2022-06      1.119942  1.118627  1.140604  1.074360  1.107579  1.051487   \n",
       "2022-07      1.032379  0.947586  0.933253  0.960133  0.983645  1.000912   \n",
       "2022-08      0.943238  0.949776  0.952964  0.979815  0.960299  0.964752   \n",
       "\n",
       "Symbol         30        31        39        56      ...  960033    970009  \\\n",
       "TradingDate                                          ...                     \n",
       "2002-05           NaN       NaN       NaN       NaN  ...     NaN       NaN   \n",
       "2002-06           NaN       NaN       NaN       NaN  ...     NaN       NaN   \n",
       "2002-07           NaN       NaN       NaN       NaN  ...     NaN       NaN   \n",
       "2002-08           NaN       NaN       NaN       NaN  ...     NaN       NaN   \n",
       "2002-09           NaN       NaN       NaN       NaN  ...     NaN       NaN   \n",
       "...               ...       ...       ...       ...  ...     ...       ...   \n",
       "2022-04      0.922871  0.878194  0.860977  0.974149  ...     NaN  0.922375   \n",
       "2022-05      1.069632  1.123583  1.099555  1.030750  ...     NaN  1.036125   \n",
       "2022-06      1.109792  1.145644  1.137091  1.121373  ...     NaN  1.065251   \n",
       "2022-07      0.968468  0.970640  0.962352  0.940962  ...     NaN  0.949168   \n",
       "2022-08      0.917340  0.912583  0.923326  0.974826  ...     NaN  0.948276   \n",
       "\n",
       "Symbol         970010    970015    970016    970017    970020    970021  \\\n",
       "TradingDate                                                               \n",
       "2002-05           NaN       NaN       NaN       NaN       NaN       NaN   \n",
       "2002-06           NaN       NaN       NaN       NaN       NaN       NaN   \n",
       "2002-07           NaN       NaN       NaN       NaN       NaN       NaN   \n",
       "2002-08           NaN       NaN       NaN       NaN       NaN       NaN   \n",
       "2002-09           NaN       NaN       NaN       NaN       NaN       NaN   \n",
       "...               ...       ...       ...       ...       ...       ...   \n",
       "2022-04      0.922815  0.930134  0.961805  0.961153  0.943458  0.943458   \n",
       "2022-05      1.036617  1.026038  0.987140  0.986504  1.026248  1.026248   \n",
       "2022-06      1.065820  1.050520  1.119971  1.119218  1.047129  1.047129   \n",
       "2022-07      0.949690  0.973172  0.927394  0.926724  0.958237  0.958237   \n",
       "2022-08      0.948782  0.981011  0.923915  0.923233  0.996791  0.996791   \n",
       "\n",
       "Symbol         970032    970033  \n",
       "TradingDate                      \n",
       "2002-05           NaN       NaN  \n",
       "2002-06           NaN       NaN  \n",
       "2002-07           NaN       NaN  \n",
       "2002-08           NaN       NaN  \n",
       "2002-09           NaN       NaN  \n",
       "...               ...       ...  \n",
       "2022-04      0.899072  0.898991  \n",
       "2022-05      1.023259  1.023256  \n",
       "2022-06      1.097182  1.097252  \n",
       "2022-07      0.982137  0.982057  \n",
       "2022-08      0.936289  0.936235  \n",
       "\n",
       "[244 rows x 4468 columns]"
      ]
     },
     "execution_count": 921,
     "metadata": {},
     "output_type": "execute_result"
    }
   ],
   "source": [
    "mixed_return"
   ]
  },
  {
   "cell_type": "code",
   "execution_count": 922,
   "metadata": {},
   "outputs": [
    {
     "data": {
      "text/plain": [
       "Int64Index([  1387,   2141,   3803,   6109,   6279,   6401,  20005,  70003,\n",
       "             90004, 100022, 110005, 160607, 161706, 162207, 162607, 163402,\n",
       "            163803, 202002, 240001, 240005, 260101, 270005, 290002, 310328,\n",
       "            398001, 400003, 481001, 519018, 519688, 519994, 860038, 860039,\n",
       "            960033],\n",
       "           dtype='int64', name='Symbol')"
      ]
     },
     "execution_count": 922,
     "metadata": {},
     "output_type": "execute_result"
    }
   ],
   "source": [
    "mixed_return.columns[(np.abs(mixed_return) > 1.96 * mixed_return.mean()).any()]"
   ]
  },
  {
   "cell_type": "code",
   "execution_count": 923,
   "metadata": {},
   "outputs": [
    {
     "data": {
      "text/plain": [
       "<AxesSubplot:xlabel='TradingDate'>"
      ]
     },
     "execution_count": 923,
     "metadata": {},
     "output_type": "execute_result"
    },
    {
     "data": {
      "image/png": "[encoded data removed]",
      "text/plain": [
       "<Figure size 432x288 with 1 Axes>"
      ]
     },
     "metadata": {
      "needs_background": "light"
     },
     "output_type": "display_data"
    }
   ],
   "source": [
    "mixed_return[1387].plot()"
   ]
  },
  {
   "cell_type": "code",
   "execution_count": 927,
   "metadata": {},
   "outputs": [
    {
     "data": {
      "text/plain": [
       "TradingDate\n",
       "2016-08    1.009063\n",
       "2016-09    0.984032\n",
       "2016-10    1.012170\n",
       "2016-11    0.997996\n",
       "2016-12    0.977912\n",
       "2017-01    0.998973\n",
       "2017-02    1.013361\n",
       "2017-03    0.994929\n",
       "2017-04    2.217125\n",
       "2017-05    0.992184\n",
       "2017-06    1.007878\n",
       "Freq: M, Name: 1387, dtype: float64"
      ]
     },
     "execution_count": 927,
     "metadata": {},
     "output_type": "execute_result"
    }
   ],
   "source": [
    "symbol_ = 1387\n",
    "mixed_return[symbol_].loc[mixed_return[symbol_].idxmax() - pd.offsets.MonthEnd(8): mixed_return[symbol_].idxmax() + pd.offsets.MonthEnd(2)]"
   ]
  },
  {
   "cell_type": "code",
   "execution_count": 928,
   "metadata": {},
   "outputs": [
    {
     "data": {
      "text/plain": [
       "1.0297864012013225"
      ]
     },
     "execution_count": 928,
     "metadata": {},
     "output_type": "execute_result"
    }
   ],
   "source": [
    "mixed_return[symbol_].mean()"
   ]
  },
  {
   "cell_type": "code",
   "execution_count": 929,
   "metadata": {},
   "outputs": [
    {
     "data": {
      "text/html": [
       "<div>\n",
       "<style scoped>\n",
       "    .dataframe tbody tr th:only-of-type {\n",
       "        vertical-align: middle;\n",
       "    }\n",
       "\n",
       "    .dataframe tbody tr th {\n",
       "        vertical-align: top;\n",
       "    }\n",
       "\n",
       "    .dataframe thead tr th {\n",
       "        text-align: left;\n",
       "    }\n",
       "\n",
       "    .dataframe thead tr:last-of-type th {\n",
       "        text-align: right;\n",
       "    }\n",
       "</style>\n",
       "<table border=\"1\" class=\"dataframe\">\n",
       "  <thead>\n",
       "    <tr>\n",
       "      <th></th>\n",
       "      <th>NAV</th>\n",
       "      <th>Category</th>\n",
       "      <th>fund_dividend</th>\n",
       "      <th>SplitRatio</th>\n",
       "      <th>cumulative_SplitRatio</th>\n",
       "    </tr>\n",
       "    <tr>\n",
       "      <th>Symbol</th>\n",
       "      <th>1387</th>\n",
       "      <th>1387</th>\n",
       "      <th>1387</th>\n",
       "      <th>1387</th>\n",
       "      <th>1387</th>\n",
       "    </tr>\n",
       "    <tr>\n",
       "      <th>TradingDate</th>\n",
       "      <th></th>\n",
       "      <th></th>\n",
       "      <th></th>\n",
       "      <th></th>\n",
       "      <th></th>\n",
       "    </tr>\n",
       "  </thead>\n",
       "  <tbody>\n",
       "    <tr>\n",
       "      <th>2016-08</th>\n",
       "      <td>1.002</td>\n",
       "      <td>混合型基金</td>\n",
       "      <td>0.000</td>\n",
       "      <td>1.0</td>\n",
       "      <td>1.0</td>\n",
       "    </tr>\n",
       "    <tr>\n",
       "      <th>2016-09</th>\n",
       "      <td>0.986</td>\n",
       "      <td>混合型基金</td>\n",
       "      <td>0.000</td>\n",
       "      <td>1.0</td>\n",
       "      <td>1.0</td>\n",
       "    </tr>\n",
       "    <tr>\n",
       "      <th>2016-10</th>\n",
       "      <td>0.998</td>\n",
       "      <td>混合型基金</td>\n",
       "      <td>0.000</td>\n",
       "      <td>1.0</td>\n",
       "      <td>1.0</td>\n",
       "    </tr>\n",
       "    <tr>\n",
       "      <th>2016-11</th>\n",
       "      <td>0.996</td>\n",
       "      <td>混合型基金</td>\n",
       "      <td>0.000</td>\n",
       "      <td>1.0</td>\n",
       "      <td>1.0</td>\n",
       "    </tr>\n",
       "    <tr>\n",
       "      <th>2016-12</th>\n",
       "      <td>0.974</td>\n",
       "      <td>混合型基金</td>\n",
       "      <td>0.000</td>\n",
       "      <td>1.0</td>\n",
       "      <td>1.0</td>\n",
       "    </tr>\n",
       "    <tr>\n",
       "      <th>2017-01</th>\n",
       "      <td>0.973</td>\n",
       "      <td>混合型基金</td>\n",
       "      <td>0.000</td>\n",
       "      <td>1.0</td>\n",
       "      <td>1.0</td>\n",
       "    </tr>\n",
       "    <tr>\n",
       "      <th>2017-02</th>\n",
       "      <td>0.986</td>\n",
       "      <td>混合型基金</td>\n",
       "      <td>0.000</td>\n",
       "      <td>1.0</td>\n",
       "      <td>1.0</td>\n",
       "    </tr>\n",
       "    <tr>\n",
       "      <th>2017-03</th>\n",
       "      <td>0.981</td>\n",
       "      <td>混合型基金</td>\n",
       "      <td>0.000</td>\n",
       "      <td>1.0</td>\n",
       "      <td>1.0</td>\n",
       "    </tr>\n",
       "    <tr>\n",
       "      <th>2017-04</th>\n",
       "      <td>2.175</td>\n",
       "      <td>混合型基金</td>\n",
       "      <td>0.000</td>\n",
       "      <td>1.0</td>\n",
       "      <td>1.0</td>\n",
       "    </tr>\n",
       "    <tr>\n",
       "      <th>2017-05</th>\n",
       "      <td>2.158</td>\n",
       "      <td>混合型基金</td>\n",
       "      <td>0.000</td>\n",
       "      <td>1.0</td>\n",
       "      <td>1.0</td>\n",
       "    </tr>\n",
       "    <tr>\n",
       "      <th>2017-06</th>\n",
       "      <td>1.743</td>\n",
       "      <td>混合型基金</td>\n",
       "      <td>0.432</td>\n",
       "      <td>1.0</td>\n",
       "      <td>1.0</td>\n",
       "    </tr>\n",
       "  </tbody>\n",
       "</table>\n",
       "</div>"
      ],
      "text/plain": [
       "               NAV Category fund_dividend SplitRatio cumulative_SplitRatio\n",
       "Symbol        1387     1387          1387       1387                  1387\n",
       "TradingDate                                                               \n",
       "2016-08      1.002    混合型基金         0.000        1.0                   1.0\n",
       "2016-09      0.986    混合型基金         0.000        1.0                   1.0\n",
       "2016-10      0.998    混合型基金         0.000        1.0                   1.0\n",
       "2016-11      0.996    混合型基金         0.000        1.0                   1.0\n",
       "2016-12      0.974    混合型基金         0.000        1.0                   1.0\n",
       "2017-01      0.973    混合型基金         0.000        1.0                   1.0\n",
       "2017-02      0.986    混合型基金         0.000        1.0                   1.0\n",
       "2017-03      0.981    混合型基金         0.000        1.0                   1.0\n",
       "2017-04      2.175    混合型基金         0.000        1.0                   1.0\n",
       "2017-05      2.158    混合型基金         0.000        1.0                   1.0\n",
       "2017-06      1.743    混合型基金         0.432        1.0                   1.0"
      ]
     },
     "execution_count": 929,
     "metadata": {},
     "output_type": "execute_result"
    }
   ],
   "source": [
    "mixed_calculate.loc[:, (slice(None), symbol_)].loc[mixed_return[symbol_].idxmax() - pd.offsets.MonthEnd(8): mixed_return[symbol_].idxmax() + pd.offsets.MonthEnd(2)]"
   ]
  },
  {
   "cell_type": "code",
   "execution_count": 812,
   "metadata": {},
   "outputs": [
    {
     "data": {
      "text/plain": [
       "[<matplotlib.lines.Line2D at 0x237315c4b20>]"
      ]
     },
     "execution_count": 812,
     "metadata": {},
     "output_type": "execute_result"
    },
    {
     "data": {
      "image/png": "[encoded data removed]",
      "text/plain": [
       "<Figure size 432x288 with 1 Axes>"
      ]
     },
     "metadata": {
      "needs_background": "light"
     },
     "output_type": "display_data"
    }
   ],
   "source": [
    "plt.plot(full_nav_month[full_nav_month.Symbol == 30].sort_values('EndDate').EndDate.astype(np.datetime64), full_nav_month[full_nav_month.Symbol == 30].sort_values('EndDate').NAV, )"
   ]
  },
  {
   "cell_type": "code",
   "execution_count": 36,
   "metadata": {},
   "outputs": [],
   "source": [
    "r_t_real_ = r_t_real.drop(possible_errors, axis=1)\n",
    "pass"
   ]
  },
  {
   "cell_type": "code",
   "execution_count": 37,
   "metadata": {},
   "outputs": [],
   "source": [
    "stock_fund = np.intersect1d(maininfo[maininfo.Category == '股票型基金'].MasterFundCode.unique(), fund_codes)\n",
    "integrated_fund = np.intersect1d(maininfo[maininfo.Category == '混合型基金'].MasterFundCode.unique(), fund_codes)\n",
    "\n",
    "# TODO: in case use full range funds\n",
    "# stock_fund = maininfo[maininfo.Category == '股票型基金'].MasterFundCode.unique()\n",
    "# integrated_fund = maininfo[maininfo.Category == '混合型基金'].MasterFundCode.unique()"
   ]
  },
  {
   "cell_type": "code",
   "execution_count": 157,
   "metadata": {},
   "outputs": [
    {
     "ename": "AttributeError",
     "evalue": "'DataFrame' object has no attribute 'CategoryID'",
     "output_type": "error",
     "traceback": [
      "\u001b[1;31m---------------------------------------------------------------------------\u001b[0m",
      "\u001b[1;31mAttributeError\u001b[0m                            Traceback (most recent call last)",
      "\u001b[1;32mc:\\Users\\11633\\OneDrive\\Desktop\\Research\\公募基金管理是否有效\\main.ipynb Cell 82\u001b[0m in \u001b[0;36m<cell line: 7>\u001b[1;34m()\u001b[0m\n\u001b[0;32m      <a href='vscode-notebook-cell:/c%3A/Users/11633/OneDrive/Desktop/Research/%E5%85%AC%E5%8B%9F%E5%9F%BA%E9%87%91%E7%AE%A1%E7%90%86%E6%98%AF%E5%90%A6%E6%9C%89%E6%95%88/main.ipynb#Y125sZmlsZQ%3D%3D?line=0'>1</a>\u001b[0m \u001b[39m# SgnMonth [统计月份] - null\u001b[39;00m\n\u001b[0;32m      <a href='vscode-notebook-cell:/c%3A/Users/11633/OneDrive/Desktop/Research/%E5%85%AC%E5%8B%9F%E5%9F%BA%E9%87%91%E7%AE%A1%E7%90%86%E6%98%AF%E5%90%A6%E6%9C%89%E6%95%88/main.ipynb#Y125sZmlsZQ%3D%3D?line=1'>2</a>\u001b[0m \u001b[39m# CategoryID [基金类型编号] - 0:全部基金;1:股票型基金;2:债券型基金;3:货币型基金;4:混合型基金;5:FOF;6:商品期货型基金;7:REITs;8:其他;21:封闭式基金;22:开放式基金;31:场内基金;32:场外基金;40:ETF基金;50:LOF基金\u001b[39;00m\n\u001b[0;32m      <a href='vscode-notebook-cell:/c%3A/Users/11633/OneDrive/Desktop/Research/%E5%85%AC%E5%8B%9F%E5%9F%BA%E9%87%91%E7%AE%A1%E7%90%86%E6%98%AF%E5%90%A6%E6%9C%89%E6%95%88/main.ipynb#Y125sZmlsZQ%3D%3D?line=2'>3</a>\u001b[0m \u001b[39m# TotalFundNAV [基金总资产净值] - 对应类型的所有基金的总资产净值\u001b[39;00m\n\u001b[0;32m      <a href='vscode-notebook-cell:/c%3A/Users/11633/OneDrive/Desktop/Research/%E5%85%AC%E5%8B%9F%E5%9F%BA%E9%87%91%E7%AE%A1%E7%90%86%E6%98%AF%E5%90%A6%E6%9C%89%E6%95%88/main.ipynb#Y125sZmlsZQ%3D%3D?line=3'>4</a>\u001b[0m \n\u001b[0;32m      <a href='vscode-notebook-cell:/c%3A/Users/11633/OneDrive/Desktop/Research/%E5%85%AC%E5%8B%9F%E5%9F%BA%E9%87%91%E7%AE%A1%E7%90%86%E6%98%AF%E5%90%A6%E6%9C%89%E6%95%88/main.ipynb#Y125sZmlsZQ%3D%3D?line=4'>5</a>\u001b[0m \u001b[39m# TODO: 不一致\u001b[39;00m\n\u001b[1;32m----> <a href='vscode-notebook-cell:/c%3A/Users/11633/OneDrive/Desktop/Research/%E5%85%AC%E5%8B%9F%E5%9F%BA%E9%87%91%E7%AE%A1%E7%90%86%E6%98%AF%E5%90%A6%E6%9C%89%E6%95%88/main.ipynb#Y125sZmlsZQ%3D%3D?line=6'>7</a>\u001b[0m stock_mkt_month \u001b[39m=\u001b[39m mkt_month[mkt_month\u001b[39m.\u001b[39;49mCategoryID \u001b[39m==\u001b[39m \u001b[39m1\u001b[39m]\u001b[39m.\u001b[39mresample(\u001b[39m'\u001b[39m\u001b[39m12M\u001b[39m\u001b[39m'\u001b[39m)\u001b[39m.\u001b[39mmean()\n\u001b[0;32m      <a href='vscode-notebook-cell:/c%3A/Users/11633/OneDrive/Desktop/Research/%E5%85%AC%E5%8B%9F%E5%9F%BA%E9%87%91%E7%AE%A1%E7%90%86%E6%98%AF%E5%90%A6%E6%9C%89%E6%95%88/main.ipynb#Y125sZmlsZQ%3D%3D?line=7'>8</a>\u001b[0m mixed_mkt_month \u001b[39m=\u001b[39m mkt_month[mkt_month\u001b[39m.\u001b[39mCategoryID \u001b[39m==\u001b[39m \u001b[39m4\u001b[39m]\u001b[39m.\u001b[39mresample(\u001b[39m'\u001b[39m\u001b[39m12M\u001b[39m\u001b[39m'\u001b[39m)\u001b[39m.\u001b[39mmean()\n\u001b[0;32m      <a href='vscode-notebook-cell:/c%3A/Users/11633/OneDrive/Desktop/Research/%E5%85%AC%E5%8B%9F%E5%9F%BA%E9%87%91%E7%AE%A1%E7%90%86%E6%98%AF%E5%90%A6%E6%9C%89%E6%95%88/main.ipynb#Y125sZmlsZQ%3D%3D?line=8'>9</a>\u001b[0m fig, ax1 \u001b[39m=\u001b[39m plt\u001b[39m.\u001b[39msubplots()\n",
      "File \u001b[1;32mc:\\Users\\11633\\AppData\\Local\\Programs\\Python\\Python310\\lib\\site-packages\\pandas\\core\\generic.py:5575\u001b[0m, in \u001b[0;36mNDFrame.__getattr__\u001b[1;34m(self, name)\u001b[0m\n\u001b[0;32m   5568\u001b[0m \u001b[39mif\u001b[39;00m (\n\u001b[0;32m   5569\u001b[0m     name \u001b[39mnot\u001b[39;00m \u001b[39min\u001b[39;00m \u001b[39mself\u001b[39m\u001b[39m.\u001b[39m_internal_names_set\n\u001b[0;32m   5570\u001b[0m     \u001b[39mand\u001b[39;00m name \u001b[39mnot\u001b[39;00m \u001b[39min\u001b[39;00m \u001b[39mself\u001b[39m\u001b[39m.\u001b[39m_metadata\n\u001b[0;32m   5571\u001b[0m     \u001b[39mand\u001b[39;00m name \u001b[39mnot\u001b[39;00m \u001b[39min\u001b[39;00m \u001b[39mself\u001b[39m\u001b[39m.\u001b[39m_accessors\n\u001b[0;32m   5572\u001b[0m     \u001b[39mand\u001b[39;00m \u001b[39mself\u001b[39m\u001b[39m.\u001b[39m_info_axis\u001b[39m.\u001b[39m_can_hold_identifiers_and_holds_name(name)\n\u001b[0;32m   5573\u001b[0m ):\n\u001b[0;32m   5574\u001b[0m     \u001b[39mreturn\u001b[39;00m \u001b[39mself\u001b[39m[name]\n\u001b[1;32m-> 5575\u001b[0m \u001b[39mreturn\u001b[39;00m \u001b[39mobject\u001b[39;49m\u001b[39m.\u001b[39;49m\u001b[39m__getattribute__\u001b[39;49m(\u001b[39mself\u001b[39;49m, name)\n",
      "\u001b[1;31mAttributeError\u001b[0m: 'DataFrame' object has no attribute 'CategoryID'"
     ]
    }
   ],
   "source": [
    "# SgnMonth [统计月份] - null\n",
    "# CategoryID [基金类型编号] - 0:全部基金;1:股票型基金;2:债券型基金;3:货币型基金;4:混合型基金;5:FOF;6:商品期货型基金;7:REITs;8:其他;21:封闭式基金;22:开放式基金;31:场内基金;32:场外基金;40:ETF基金;50:LOF基金\n",
    "# TotalFundNAV [基金总资产净值] - 对应类型的所有基金的总资产净值\n",
    "\n",
    "# TODO: 不一致\n",
    "\n",
    "stock_mkt_month = mkt_month[mkt_month.CategoryID == 1].resample('12M').mean()\n",
    "mixed_mkt_month = mkt_month[mkt_month.CategoryID == 4].resample('12M').mean()\n",
    "fig, ax1 = plt.subplots()\n",
    "fig.set_figheight(8)\n",
    "fig.set_figwidth(16)\n",
    "ax1.plot(stock_mkt_month.FundNum, linewidth=5, label='股票型基金总数量（折线）')\n",
    "ax1.plot(mixed_mkt_month.FundNum, linewidth=5, label='混合型基金总数量（折线）')\n",
    "ax1.set_yscale('log')\n",
    "ax1.set_yticks([100, 1000, 10000])\n",
    "\n",
    "ax2 = ax1.twinx()\n",
    "ax2.bar(stock_mkt_month.index - pd.Timedelta('7W'), stock_mkt_month.TotalFundNAV.values, width=100 ,label='股票型基金总市值（柱状）', alpha=.8)\n",
    "ax2.bar(mixed_mkt_month.index + pd.Timedelta('7W'), mixed_mkt_month.TotalFundNAV.values, width=100 ,label='混合型基金总市值（柱状）', alpha=.8)\n",
    "\n",
    "ax1.legend(loc='upper left')\n",
    "ax2.legend(loc='upper right')"
   ]
  },
  {
   "cell_type": "code",
   "execution_count": 39,
   "metadata": {},
   "outputs": [
    {
     "data": {
      "text/plain": [
       "Text(0.5, 1.0, '「所有」基金管理费率日平均（柱状）/季度平均（折线）')"
      ]
     },
     "execution_count": 39,
     "metadata": {},
     "output_type": "execute_result"
    },
    {
     "name": "stderr",
     "output_type": "stream",
     "text": [
      "findfont: Generic family 'sans-serif' not found because none of the following families were found: SimHei\n",
      "findfont: Generic family 'sans-serif' not found because none of the following families were found: SimHei\n",
      "findfont: Generic family 'sans-serif' not found because none of the following families were found: SimHei\n",
      "findfont: Generic family 'sans-serif' not found because none of the following families were found: SimHei\n",
      "findfont: Generic family 'sans-serif' not found because none of the following families were found: SimHei\n",
      "findfont: Generic family 'sans-serif' not found because none of the following families were found: SimHei\n",
      "findfont: Generic family 'sans-serif' not found because none of the following families were found: SimHei\n",
      "findfont: Generic family 'sans-serif' not found because none of the following families were found: SimHei\n",
      "findfont: Generic family 'sans-serif' not found because none of the following families were found: SimHei\n",
      "/home/pdx01/.local/lib/python3.10/site-packages/IPython/core/events.py:89: UserWarning: Glyph 12300 (\\N{LEFT CORNER BRACKET}) missing from current font.\n",
      "  func(*args, **kwargs)\n",
      "/home/pdx01/.local/lib/python3.10/site-packages/IPython/core/events.py:89: UserWarning: Glyph 25152 (\\N{CJK UNIFIED IDEOGRAPH-6240}) missing from current font.\n",
      "  func(*args, **kwargs)\n",
      "/home/pdx01/.local/lib/python3.10/site-packages/IPython/core/events.py:89: UserWarning: Glyph 26377 (\\N{CJK UNIFIED IDEOGRAPH-6709}) missing from current font.\n",
      "  func(*args, **kwargs)\n",
      "/home/pdx01/.local/lib/python3.10/site-packages/IPython/core/events.py:89: UserWarning: Glyph 12301 (\\N{RIGHT CORNER BRACKET}) missing from current font.\n",
      "  func(*args, **kwargs)\n",
      "/home/pdx01/.local/lib/python3.10/site-packages/IPython/core/events.py:89: UserWarning: Glyph 22522 (\\N{CJK UNIFIED IDEOGRAPH-57FA}) missing from current font.\n",
      "  func(*args, **kwargs)\n",
      "/home/pdx01/.local/lib/python3.10/site-packages/IPython/core/events.py:89: UserWarning: Glyph 37329 (\\N{CJK UNIFIED IDEOGRAPH-91D1}) missing from current font.\n",
      "  func(*args, **kwargs)\n",
      "/home/pdx01/.local/lib/python3.10/site-packages/IPython/core/events.py:89: UserWarning: Glyph 31649 (\\N{CJK UNIFIED IDEOGRAPH-7BA1}) missing from current font.\n",
      "  func(*args, **kwargs)\n",
      "/home/pdx01/.local/lib/python3.10/site-packages/IPython/core/events.py:89: UserWarning: Glyph 29702 (\\N{CJK UNIFIED IDEOGRAPH-7406}) missing from current font.\n",
      "  func(*args, **kwargs)\n",
      "/home/pdx01/.local/lib/python3.10/site-packages/IPython/core/events.py:89: UserWarning: Glyph 36153 (\\N{CJK UNIFIED IDEOGRAPH-8D39}) missing from current font.\n",
      "  func(*args, **kwargs)\n",
      "/home/pdx01/.local/lib/python3.10/site-packages/IPython/core/events.py:89: UserWarning: Glyph 29575 (\\N{CJK UNIFIED IDEOGRAPH-7387}) missing from current font.\n",
      "  func(*args, **kwargs)\n",
      "/home/pdx01/.local/lib/python3.10/site-packages/IPython/core/events.py:89: UserWarning: Glyph 26085 (\\N{CJK UNIFIED IDEOGRAPH-65E5}) missing from current font.\n",
      "  func(*args, **kwargs)\n",
      "/home/pdx01/.local/lib/python3.10/site-packages/IPython/core/events.py:89: UserWarning: Glyph 24179 (\\N{CJK UNIFIED IDEOGRAPH-5E73}) missing from current font.\n",
      "  func(*args, **kwargs)\n",
      "/home/pdx01/.local/lib/python3.10/site-packages/IPython/core/events.py:89: UserWarning: Glyph 22343 (\\N{CJK UNIFIED IDEOGRAPH-5747}) missing from current font.\n",
      "  func(*args, **kwargs)\n",
      "/home/pdx01/.local/lib/python3.10/site-packages/IPython/core/events.py:89: UserWarning: Glyph 65288 (\\N{FULLWIDTH LEFT PARENTHESIS}) missing from current font.\n",
      "  func(*args, **kwargs)\n",
      "/home/pdx01/.local/lib/python3.10/site-packages/IPython/core/events.py:89: UserWarning: Glyph 26609 (\\N{CJK UNIFIED IDEOGRAPH-67F1}) missing from current font.\n",
      "  func(*args, **kwargs)\n",
      "/home/pdx01/.local/lib/python3.10/site-packages/IPython/core/events.py:89: UserWarning: Glyph 29366 (\\N{CJK UNIFIED IDEOGRAPH-72B6}) missing from current font.\n",
      "  func(*args, **kwargs)\n",
      "/home/pdx01/.local/lib/python3.10/site-packages/IPython/core/events.py:89: UserWarning: Glyph 65289 (\\N{FULLWIDTH RIGHT PARENTHESIS}) missing from current font.\n",
      "  func(*args, **kwargs)\n",
      "/home/pdx01/.local/lib/python3.10/site-packages/IPython/core/events.py:89: UserWarning: Glyph 23395 (\\N{CJK UNIFIED IDEOGRAPH-5B63}) missing from current font.\n",
      "  func(*args, **kwargs)\n",
      "/home/pdx01/.local/lib/python3.10/site-packages/IPython/core/events.py:89: UserWarning: Glyph 24230 (\\N{CJK UNIFIED IDEOGRAPH-5EA6}) missing from current font.\n",
      "  func(*args, **kwargs)\n",
      "/home/pdx01/.local/lib/python3.10/site-packages/IPython/core/events.py:89: UserWarning: Glyph 25240 (\\N{CJK UNIFIED IDEOGRAPH-6298}) missing from current font.\n",
      "  func(*args, **kwargs)\n",
      "/home/pdx01/.local/lib/python3.10/site-packages/IPython/core/events.py:89: UserWarning: Glyph 32447 (\\N{CJK UNIFIED IDEOGRAPH-7EBF}) missing from current font.\n",
      "  func(*args, **kwargs)\n",
      "findfont: Generic family 'sans-serif' not found because none of the following families were found: SimHei\n",
      "findfont: Generic family 'sans-serif' not found because none of the following families were found: SimHei\n",
      "findfont: Generic family 'sans-serif' not found because none of the following families were found: SimHei\n",
      "findfont: Generic family 'sans-serif' not found because none of the following families were found: SimHei\n",
      "findfont: Generic family 'sans-serif' not found because none of the following families were found: SimHei\n",
      "findfont: Generic family 'sans-serif' not found because none of the following families were found: SimHei\n",
      "findfont: Generic family 'sans-serif' not found because none of the following families were found: SimHei\n",
      "findfont: Generic family 'sans-serif' not found because none of the following families were found: SimHei\n",
      "findfont: Generic family 'sans-serif' not found because none of the following families were found: SimHei\n",
      "findfont: Generic family 'sans-serif' not found because none of the following families were found: SimHei\n",
      "findfont: Generic family 'sans-serif' not found because none of the following families were found: SimHei\n",
      "findfont: Generic family 'sans-serif' not found because none of the following families were found: SimHei\n",
      "findfont: Generic family 'sans-serif' not found because none of the following families were found: SimHei\n",
      "findfont: Generic family 'sans-serif' not found because none of the following families were found: SimHei\n",
      "findfont: Generic family 'sans-serif' not found because none of the following families were found: SimHei\n",
      "findfont: Generic family 'sans-serif' not found because none of the following families were found: SimHei\n",
      "findfont: Generic family 'sans-serif' not found because none of the following families were found: SimHei\n",
      "findfont: Generic family 'sans-serif' not found because none of the following families were found: SimHei\n",
      "findfont: Generic family 'sans-serif' not found because none of the following families were found: SimHei\n",
      "findfont: Generic family 'sans-serif' not found because none of the following families were found: SimHei\n",
      "findfont: Generic family 'sans-serif' not found because none of the following families were found: SimHei\n",
      "findfont: Generic family 'sans-serif' not found because none of the following families were found: SimHei\n",
      "findfont: Generic family 'sans-serif' not found because none of the following families were found: SimHei\n",
      "findfont: Generic family 'sans-serif' not found because none of the following families were found: SimHei\n",
      "findfont: Generic family 'sans-serif' not found because none of the following families were found: SimHei\n",
      "findfont: Generic family 'sans-serif' not found because none of the following families were found: SimHei\n",
      "findfont: Generic family 'sans-serif' not found because none of the following families were found: SimHei\n",
      "findfont: Generic family 'sans-serif' not found because none of the following families were found: SimHei\n",
      "/home/pdx01/.local/lib/python3.10/site-packages/IPython/core/pylabtools.py:151: UserWarning: Glyph 12300 (\\N{LEFT CORNER BRACKET}) missing from current font.\n",
      "  fig.canvas.print_figure(bytes_io, **kw)\n",
      "/home/pdx01/.local/lib/python3.10/site-packages/IPython/core/pylabtools.py:151: UserWarning: Glyph 25152 (\\N{CJK UNIFIED IDEOGRAPH-6240}) missing from current font.\n",
      "  fig.canvas.print_figure(bytes_io, **kw)\n",
      "/home/pdx01/.local/lib/python3.10/site-packages/IPython/core/pylabtools.py:151: UserWarning: Glyph 26377 (\\N{CJK UNIFIED IDEOGRAPH-6709}) missing from current font.\n",
      "  fig.canvas.print_figure(bytes_io, **kw)\n",
      "/home/pdx01/.local/lib/python3.10/site-packages/IPython/core/pylabtools.py:151: UserWarning: Glyph 12301 (\\N{RIGHT CORNER BRACKET}) missing from current font.\n",
      "  fig.canvas.print_figure(bytes_io, **kw)\n",
      "/home/pdx01/.local/lib/python3.10/site-packages/IPython/core/pylabtools.py:151: UserWarning: Glyph 22522 (\\N{CJK UNIFIED IDEOGRAPH-57FA}) missing from current font.\n",
      "  fig.canvas.print_figure(bytes_io, **kw)\n",
      "/home/pdx01/.local/lib/python3.10/site-packages/IPython/core/pylabtools.py:151: UserWarning: Glyph 37329 (\\N{CJK UNIFIED IDEOGRAPH-91D1}) missing from current font.\n",
      "  fig.canvas.print_figure(bytes_io, **kw)\n",
      "/home/pdx01/.local/lib/python3.10/site-packages/IPython/core/pylabtools.py:151: UserWarning: Glyph 31649 (\\N{CJK UNIFIED IDEOGRAPH-7BA1}) missing from current font.\n",
      "  fig.canvas.print_figure(bytes_io, **kw)\n",
      "/home/pdx01/.local/lib/python3.10/site-packages/IPython/core/pylabtools.py:151: UserWarning: Glyph 29702 (\\N{CJK UNIFIED IDEOGRAPH-7406}) missing from current font.\n",
      "  fig.canvas.print_figure(bytes_io, **kw)\n",
      "/home/pdx01/.local/lib/python3.10/site-packages/IPython/core/pylabtools.py:151: UserWarning: Glyph 36153 (\\N{CJK UNIFIED IDEOGRAPH-8D39}) missing from current font.\n",
      "  fig.canvas.print_figure(bytes_io, **kw)\n",
      "/home/pdx01/.local/lib/python3.10/site-packages/IPython/core/pylabtools.py:151: UserWarning: Glyph 29575 (\\N{CJK UNIFIED IDEOGRAPH-7387}) missing from current font.\n",
      "  fig.canvas.print_figure(bytes_io, **kw)\n",
      "/home/pdx01/.local/lib/python3.10/site-packages/IPython/core/pylabtools.py:151: UserWarning: Glyph 26085 (\\N{CJK UNIFIED IDEOGRAPH-65E5}) missing from current font.\n",
      "  fig.canvas.print_figure(bytes_io, **kw)\n",
      "/home/pdx01/.local/lib/python3.10/site-packages/IPython/core/pylabtools.py:151: UserWarning: Glyph 24179 (\\N{CJK UNIFIED IDEOGRAPH-5E73}) missing from current font.\n",
      "  fig.canvas.print_figure(bytes_io, **kw)\n",
      "/home/pdx01/.local/lib/python3.10/site-packages/IPython/core/pylabtools.py:151: UserWarning: Glyph 22343 (\\N{CJK UNIFIED IDEOGRAPH-5747}) missing from current font.\n",
      "  fig.canvas.print_figure(bytes_io, **kw)\n",
      "/home/pdx01/.local/lib/python3.10/site-packages/IPython/core/pylabtools.py:151: UserWarning: Glyph 65288 (\\N{FULLWIDTH LEFT PARENTHESIS}) missing from current font.\n",
      "  fig.canvas.print_figure(bytes_io, **kw)\n",
      "/home/pdx01/.local/lib/python3.10/site-packages/IPython/core/pylabtools.py:151: UserWarning: Glyph 26609 (\\N{CJK UNIFIED IDEOGRAPH-67F1}) missing from current font.\n",
      "  fig.canvas.print_figure(bytes_io, **kw)\n",
      "/home/pdx01/.local/lib/python3.10/site-packages/IPython/core/pylabtools.py:151: UserWarning: Glyph 29366 (\\N{CJK UNIFIED IDEOGRAPH-72B6}) missing from current font.\n",
      "  fig.canvas.print_figure(bytes_io, **kw)\n",
      "/home/pdx01/.local/lib/python3.10/site-packages/IPython/core/pylabtools.py:151: UserWarning: Glyph 65289 (\\N{FULLWIDTH RIGHT PARENTHESIS}) missing from current font.\n",
      "  fig.canvas.print_figure(bytes_io, **kw)\n",
      "/home/pdx01/.local/lib/python3.10/site-packages/IPython/core/pylabtools.py:151: UserWarning: Glyph 23395 (\\N{CJK UNIFIED IDEOGRAPH-5B63}) missing from current font.\n",
      "  fig.canvas.print_figure(bytes_io, **kw)\n",
      "/home/pdx01/.local/lib/python3.10/site-packages/IPython/core/pylabtools.py:151: UserWarning: Glyph 24230 (\\N{CJK UNIFIED IDEOGRAPH-5EA6}) missing from current font.\n",
      "  fig.canvas.print_figure(bytes_io, **kw)\n",
      "/home/pdx01/.local/lib/python3.10/site-packages/IPython/core/pylabtools.py:151: UserWarning: Glyph 25240 (\\N{CJK UNIFIED IDEOGRAPH-6298}) missing from current font.\n",
      "  fig.canvas.print_figure(bytes_io, **kw)\n",
      "/home/pdx01/.local/lib/python3.10/site-packages/IPython/core/pylabtools.py:151: UserWarning: Glyph 32447 (\\N{CJK UNIFIED IDEOGRAPH-7EBF}) missing from current font.\n",
      "  fig.canvas.print_figure(bytes_io, **kw)\n",
      "findfont: Generic family 'sans-serif' not found because none of the following families were found: SimHei\n",
      "findfont: Generic family 'sans-serif' not found because none of the following families were found: SimHei\n",
      "findfont: Generic family 'sans-serif' not found because none of the following families were found: SimHei\n",
      "findfont: Generic family 'sans-serif' not found because none of the following families were found: SimHei\n",
      "findfont: Generic family 'sans-serif' not found because none of the following families were found: SimHei\n",
      "findfont: Generic family 'sans-serif' not found because none of the following families were found: SimHei\n",
      "findfont: Generic family 'sans-serif' not found because none of the following families were found: SimHei\n",
      "findfont: Generic family 'sans-serif' not found because none of the following families were found: SimHei\n",
      "findfont: Generic family 'sans-serif' not found because none of the following families were found: SimHei\n",
      "findfont: Generic family 'sans-serif' not found because none of the following families were found: SimHei\n",
      "findfont: Generic family 'sans-serif' not found because none of the following families were found: SimHei\n",
      "findfont: Generic family 'sans-serif' not found because none of the following families were found: SimHei\n",
      "findfont: Generic family 'sans-serif' not found because none of the following families were found: SimHei\n",
      "findfont: Generic family 'sans-serif' not found because none of the following families were found: SimHei\n",
      "findfont: Generic family 'sans-serif' not found because none of the following families were found: SimHei\n",
      "findfont: Generic family 'sans-serif' not found because none of the following families were found: SimHei\n",
      "findfont: Generic family 'sans-serif' not found because none of the following families were found: SimHei\n",
      "findfont: Generic family 'sans-serif' not found because none of the following families were found: SimHei\n",
      "findfont: Generic family 'sans-serif' not found because none of the following families were found: SimHei\n"
     ]
    },
    {
     "data": {
      "image/png": "[encoded data removed]",
      "text/plain": [
       "<Figure size 1600x800 with 1 Axes>"
      ]
     },
     "metadata": {},
     "output_type": "display_data"
    }
   ],
   "source": [
    "management_fee = fees[fees.NameOfFee == '管理费率']\n",
    "# TODO: minimal subscription written to management fee\n",
    "# management_fee[management_fee.ProportionOfFee.astype(float) == 1000]\n",
    "management_fee_ = management_fee[management_fee.ProportionOfFee.astype(float) != 1000]\n",
    "\n",
    "# smallest date interval\n",
    "management_fee__ = management_fee_.groupby('DeclareDate').apply(lambda one_date: one_date.ProportionOfFee.astype(float).mean())\n",
    "plt.figure(figsize=(16,8))\n",
    "management_fee__.plot()\n",
    "management_fee__.resample('1M').mean().plot()\n",
    "plt.title('「所有」基金管理费率日平均（柱状）/季度平均（折线）')\n",
    "# TODO: 国泰安数据不全，2006前数据缺失\n",
    "# TODO: 不一致"
   ]
  },
  {
   "cell_type": "code",
   "execution_count": 40,
   "metadata": {},
   "outputs": [
    {
     "data": {
      "text/plain": [
       "<matplotlib.legend.Legend at 0x7f39cb2e00d0>"
      ]
     },
     "execution_count": 40,
     "metadata": {},
     "output_type": "execute_result"
    },
    {
     "name": "stderr",
     "output_type": "stream",
     "text": [
      "findfont: Generic family 'sans-serif' not found because none of the following families were found: SimHei\n",
      "findfont: Generic family 'sans-serif' not found because none of the following families were found: SimHei\n",
      "findfont: Generic family 'sans-serif' not found because none of the following families were found: SimHei\n",
      "findfont: Generic family 'sans-serif' not found because none of the following families were found: SimHei\n",
      "findfont: Generic family 'sans-serif' not found because none of the following families were found: SimHei\n",
      "findfont: Generic family 'sans-serif' not found because none of the following families were found: SimHei\n",
      "findfont: Generic family 'sans-serif' not found because none of the following families were found: SimHei\n",
      "findfont: Generic family 'sans-serif' not found because none of the following families were found: SimHei\n",
      "findfont: Generic family 'sans-serif' not found because none of the following families were found: SimHei\n",
      "findfont: Generic family 'sans-serif' not found because none of the following families were found: SimHei\n",
      "findfont: Generic family 'sans-serif' not found because none of the following families were found: SimHei\n",
      "findfont: Generic family 'sans-serif' not found because none of the following families were found: SimHei\n",
      "findfont: Generic family 'sans-serif' not found because none of the following families were found: SimHei\n",
      "findfont: Generic family 'sans-serif' not found because none of the following families were found: SimHei\n",
      "findfont: Generic family 'sans-serif' not found because none of the following families were found: SimHei\n",
      "findfont: Generic family 'sans-serif' not found because none of the following families were found: SimHei\n",
      "findfont: Generic family 'sans-serif' not found because none of the following families were found: SimHei\n",
      "findfont: Generic family 'sans-serif' not found because none of the following families were found: SimHei\n",
      "findfont: Generic family 'sans-serif' not found because none of the following families were found: SimHei\n",
      "findfont: Generic family 'sans-serif' not found because none of the following families were found: SimHei\n",
      "findfont: Generic family 'sans-serif' not found because none of the following families were found: SimHei\n",
      "findfont: Generic family 'sans-serif' not found because none of the following families were found: SimHei\n",
      "findfont: Generic family 'sans-serif' not found because none of the following families were found: SimHei\n",
      "findfont: Generic family 'sans-serif' not found because none of the following families were found: SimHei\n",
      "findfont: Generic family 'sans-serif' not found because none of the following families were found: SimHei\n",
      "findfont: Generic family 'sans-serif' not found because none of the following families were found: SimHei\n",
      "findfont: Generic family 'sans-serif' not found because none of the following families were found: SimHei\n",
      "findfont: Generic family 'sans-serif' not found because none of the following families were found: SimHei\n",
      "findfont: Generic family 'sans-serif' not found because none of the following families were found: SimHei\n",
      "findfont: Generic family 'sans-serif' not found because none of the following families were found: SimHei\n",
      "findfont: Generic family 'sans-serif' not found because none of the following families were found: SimHei\n",
      "findfont: Generic family 'sans-serif' not found because none of the following families were found: SimHei\n",
      "findfont: Generic family 'sans-serif' not found because none of the following families were found: SimHei\n",
      "findfont: Generic family 'sans-serif' not found because none of the following families were found: SimHei\n",
      "findfont: Generic family 'sans-serif' not found because none of the following families were found: SimHei\n",
      "findfont: Generic family 'sans-serif' not found because none of the following families were found: SimHei\n",
      "findfont: Generic family 'sans-serif' not found because none of the following families were found: SimHei\n",
      "/home/pdx01/.local/lib/python3.10/site-packages/IPython/core/events.py:89: UserWarning: Glyph 32929 (\\N{CJK UNIFIED IDEOGRAPH-80A1}) missing from current font.\n",
      "  func(*args, **kwargs)\n",
      "/home/pdx01/.local/lib/python3.10/site-packages/IPython/core/events.py:89: UserWarning: Glyph 31080 (\\N{CJK UNIFIED IDEOGRAPH-7968}) missing from current font.\n",
      "  func(*args, **kwargs)\n",
      "/home/pdx01/.local/lib/python3.10/site-packages/IPython/core/events.py:89: UserWarning: Glyph 22411 (\\N{CJK UNIFIED IDEOGRAPH-578B}) missing from current font.\n",
      "  func(*args, **kwargs)\n",
      "/home/pdx01/.local/lib/python3.10/site-packages/IPython/core/events.py:89: UserWarning: Glyph 22522 (\\N{CJK UNIFIED IDEOGRAPH-57FA}) missing from current font.\n",
      "  func(*args, **kwargs)\n",
      "/home/pdx01/.local/lib/python3.10/site-packages/IPython/core/events.py:89: UserWarning: Glyph 37329 (\\N{CJK UNIFIED IDEOGRAPH-91D1}) missing from current font.\n",
      "  func(*args, **kwargs)\n",
      "/home/pdx01/.local/lib/python3.10/site-packages/IPython/core/events.py:89: UserWarning: Glyph 23395 (\\N{CJK UNIFIED IDEOGRAPH-5B63}) missing from current font.\n",
      "  func(*args, **kwargs)\n",
      "/home/pdx01/.local/lib/python3.10/site-packages/IPython/core/events.py:89: UserWarning: Glyph 24230 (\\N{CJK UNIFIED IDEOGRAPH-5EA6}) missing from current font.\n",
      "  func(*args, **kwargs)\n",
      "/home/pdx01/.local/lib/python3.10/site-packages/IPython/core/events.py:89: UserWarning: Glyph 24179 (\\N{CJK UNIFIED IDEOGRAPH-5E73}) missing from current font.\n",
      "  func(*args, **kwargs)\n",
      "/home/pdx01/.local/lib/python3.10/site-packages/IPython/core/events.py:89: UserWarning: Glyph 22343 (\\N{CJK UNIFIED IDEOGRAPH-5747}) missing from current font.\n",
      "  func(*args, **kwargs)\n",
      "/home/pdx01/.local/lib/python3.10/site-packages/IPython/core/events.py:89: UserWarning: Glyph 31649 (\\N{CJK UNIFIED IDEOGRAPH-7BA1}) missing from current font.\n",
      "  func(*args, **kwargs)\n",
      "/home/pdx01/.local/lib/python3.10/site-packages/IPython/core/events.py:89: UserWarning: Glyph 29702 (\\N{CJK UNIFIED IDEOGRAPH-7406}) missing from current font.\n",
      "  func(*args, **kwargs)\n",
      "/home/pdx01/.local/lib/python3.10/site-packages/IPython/core/events.py:89: UserWarning: Glyph 36153 (\\N{CJK UNIFIED IDEOGRAPH-8D39}) missing from current font.\n",
      "  func(*args, **kwargs)\n",
      "findfont: Generic family 'sans-serif' not found because none of the following families were found: SimHei\n",
      "findfont: Generic family 'sans-serif' not found because none of the following families were found: SimHei\n",
      "/home/pdx01/.local/lib/python3.10/site-packages/IPython/core/events.py:89: UserWarning: Glyph 28151 (\\N{CJK UNIFIED IDEOGRAPH-6DF7}) missing from current font.\n",
      "  func(*args, **kwargs)\n",
      "/home/pdx01/.local/lib/python3.10/site-packages/IPython/core/events.py:89: UserWarning: Glyph 21512 (\\N{CJK UNIFIED IDEOGRAPH-5408}) missing from current font.\n",
      "  func(*args, **kwargs)\n",
      "findfont: Generic family 'sans-serif' not found because none of the following families were found: SimHei\n",
      "findfont: Generic family 'sans-serif' not found because none of the following families were found: SimHei\n",
      "findfont: Generic family 'sans-serif' not found because none of the following families were found: SimHei\n",
      "findfont: Generic family 'sans-serif' not found because none of the following families were found: SimHei\n",
      "findfont: Generic family 'sans-serif' not found because none of the following families were found: SimHei\n",
      "findfont: Generic family 'sans-serif' not found because none of the following families were found: SimHei\n",
      "findfont: Generic family 'sans-serif' not found because none of the following families were found: SimHei\n",
      "findfont: Generic family 'sans-serif' not found because none of the following families were found: SimHei\n",
      "findfont: Generic family 'sans-serif' not found because none of the following families were found: SimHei\n",
      "findfont: Generic family 'sans-serif' not found because none of the following families were found: SimHei\n",
      "findfont: Generic family 'sans-serif' not found because none of the following families were found: SimHei\n",
      "findfont: Generic family 'sans-serif' not found because none of the following families were found: SimHei\n",
      "findfont: Generic family 'sans-serif' not found because none of the following families were found: SimHei\n",
      "findfont: Generic family 'sans-serif' not found because none of the following families were found: SimHei\n",
      "findfont: Generic family 'sans-serif' not found because none of the following families were found: SimHei\n",
      "findfont: Generic family 'sans-serif' not found because none of the following families were found: SimHei\n",
      "findfont: Generic family 'sans-serif' not found because none of the following families were found: SimHei\n",
      "findfont: Generic family 'sans-serif' not found because none of the following families were found: SimHei\n",
      "findfont: Generic family 'sans-serif' not found because none of the following families were found: SimHei\n",
      "findfont: Generic family 'sans-serif' not found because none of the following families were found: SimHei\n",
      "findfont: Generic family 'sans-serif' not found because none of the following families were found: SimHei\n",
      "findfont: Generic family 'sans-serif' not found because none of the following families were found: SimHei\n",
      "findfont: Generic family 'sans-serif' not found because none of the following families were found: SimHei\n",
      "findfont: Generic family 'sans-serif' not found because none of the following families were found: SimHei\n",
      "findfont: Generic family 'sans-serif' not found because none of the following families were found: SimHei\n",
      "findfont: Generic family 'sans-serif' not found because none of the following families were found: SimHei\n",
      "findfont: Generic family 'sans-serif' not found because none of the following families were found: SimHei\n",
      "findfont: Generic family 'sans-serif' not found because none of the following families were found: SimHei\n",
      "findfont: Generic family 'sans-serif' not found because none of the following families were found: SimHei\n",
      "findfont: Generic family 'sans-serif' not found because none of the following families were found: SimHei\n",
      "findfont: Generic family 'sans-serif' not found because none of the following families were found: SimHei\n",
      "findfont: Generic family 'sans-serif' not found because none of the following families were found: SimHei\n",
      "findfont: Generic family 'sans-serif' not found because none of the following families were found: SimHei\n",
      "findfont: Generic family 'sans-serif' not found because none of the following families were found: SimHei\n",
      "findfont: Generic family 'sans-serif' not found because none of the following families were found: SimHei\n",
      "findfont: Generic family 'sans-serif' not found because none of the following families were found: SimHei\n",
      "findfont: Generic family 'sans-serif' not found because none of the following families were found: SimHei\n",
      "findfont: Generic family 'sans-serif' not found because none of the following families were found: SimHei\n",
      "findfont: Generic family 'sans-serif' not found because none of the following families were found: SimHei\n",
      "findfont: Generic family 'sans-serif' not found because none of the following families were found: SimHei\n",
      "findfont: Generic family 'sans-serif' not found because none of the following families were found: SimHei\n",
      "findfont: Generic family 'sans-serif' not found because none of the following families were found: SimHei\n",
      "findfont: Generic family 'sans-serif' not found because none of the following families were found: SimHei\n",
      "findfont: Generic family 'sans-serif' not found because none of the following families were found: SimHei\n",
      "findfont: Generic family 'sans-serif' not found because none of the following families were found: SimHei\n",
      "findfont: Generic family 'sans-serif' not found because none of the following families were found: SimHei\n",
      "findfont: Generic family 'sans-serif' not found because none of the following families were found: SimHei\n",
      "findfont: Generic family 'sans-serif' not found because none of the following families were found: SimHei\n",
      "findfont: Generic family 'sans-serif' not found because none of the following families were found: SimHei\n",
      "findfont: Generic family 'sans-serif' not found because none of the following families were found: SimHei\n",
      "findfont: Generic family 'sans-serif' not found because none of the following families were found: SimHei\n",
      "findfont: Generic family 'sans-serif' not found because none of the following families were found: SimHei\n",
      "findfont: Generic family 'sans-serif' not found because none of the following families were found: SimHei\n",
      "findfont: Generic family 'sans-serif' not found because none of the following families were found: SimHei\n",
      "findfont: Generic family 'sans-serif' not found because none of the following families were found: SimHei\n",
      "findfont: Generic family 'sans-serif' not found because none of the following families were found: SimHei\n",
      "findfont: Generic family 'sans-serif' not found because none of the following families were found: SimHei\n",
      "findfont: Generic family 'sans-serif' not found because none of the following families were found: SimHei\n",
      "findfont: Generic family 'sans-serif' not found because none of the following families were found: SimHei\n",
      "findfont: Generic family 'sans-serif' not found because none of the following families were found: SimHei\n",
      "findfont: Generic family 'sans-serif' not found because none of the following families were found: SimHei\n",
      "findfont: Generic family 'sans-serif' not found because none of the following families were found: SimHei\n",
      "findfont: Generic family 'sans-serif' not found because none of the following families were found: SimHei\n",
      "/home/pdx01/.local/lib/python3.10/site-packages/IPython/core/pylabtools.py:151: UserWarning: Glyph 32929 (\\N{CJK UNIFIED IDEOGRAPH-80A1}) missing from current font.\n",
      "  fig.canvas.print_figure(bytes_io, **kw)\n",
      "/home/pdx01/.local/lib/python3.10/site-packages/IPython/core/pylabtools.py:151: UserWarning: Glyph 31080 (\\N{CJK UNIFIED IDEOGRAPH-7968}) missing from current font.\n",
      "  fig.canvas.print_figure(bytes_io, **kw)\n",
      "/home/pdx01/.local/lib/python3.10/site-packages/IPython/core/pylabtools.py:151: UserWarning: Glyph 22411 (\\N{CJK UNIFIED IDEOGRAPH-578B}) missing from current font.\n",
      "  fig.canvas.print_figure(bytes_io, **kw)\n",
      "/home/pdx01/.local/lib/python3.10/site-packages/IPython/core/pylabtools.py:151: UserWarning: Glyph 22522 (\\N{CJK UNIFIED IDEOGRAPH-57FA}) missing from current font.\n",
      "  fig.canvas.print_figure(bytes_io, **kw)\n",
      "/home/pdx01/.local/lib/python3.10/site-packages/IPython/core/pylabtools.py:151: UserWarning: Glyph 37329 (\\N{CJK UNIFIED IDEOGRAPH-91D1}) missing from current font.\n",
      "  fig.canvas.print_figure(bytes_io, **kw)\n",
      "/home/pdx01/.local/lib/python3.10/site-packages/IPython/core/pylabtools.py:151: UserWarning: Glyph 23395 (\\N{CJK UNIFIED IDEOGRAPH-5B63}) missing from current font.\n",
      "  fig.canvas.print_figure(bytes_io, **kw)\n",
      "/home/pdx01/.local/lib/python3.10/site-packages/IPython/core/pylabtools.py:151: UserWarning: Glyph 24230 (\\N{CJK UNIFIED IDEOGRAPH-5EA6}) missing from current font.\n",
      "  fig.canvas.print_figure(bytes_io, **kw)\n",
      "/home/pdx01/.local/lib/python3.10/site-packages/IPython/core/pylabtools.py:151: UserWarning: Glyph 24179 (\\N{CJK UNIFIED IDEOGRAPH-5E73}) missing from current font.\n",
      "  fig.canvas.print_figure(bytes_io, **kw)\n",
      "/home/pdx01/.local/lib/python3.10/site-packages/IPython/core/pylabtools.py:151: UserWarning: Glyph 22343 (\\N{CJK UNIFIED IDEOGRAPH-5747}) missing from current font.\n",
      "  fig.canvas.print_figure(bytes_io, **kw)\n",
      "/home/pdx01/.local/lib/python3.10/site-packages/IPython/core/pylabtools.py:151: UserWarning: Glyph 31649 (\\N{CJK UNIFIED IDEOGRAPH-7BA1}) missing from current font.\n",
      "  fig.canvas.print_figure(bytes_io, **kw)\n",
      "/home/pdx01/.local/lib/python3.10/site-packages/IPython/core/pylabtools.py:151: UserWarning: Glyph 29702 (\\N{CJK UNIFIED IDEOGRAPH-7406}) missing from current font.\n",
      "  fig.canvas.print_figure(bytes_io, **kw)\n",
      "/home/pdx01/.local/lib/python3.10/site-packages/IPython/core/pylabtools.py:151: UserWarning: Glyph 36153 (\\N{CJK UNIFIED IDEOGRAPH-8D39}) missing from current font.\n",
      "  fig.canvas.print_figure(bytes_io, **kw)\n",
      "findfont: Generic family 'sans-serif' not found because none of the following families were found: SimHei\n",
      "findfont: Generic family 'sans-serif' not found because none of the following families were found: SimHei\n",
      "/home/pdx01/.local/lib/python3.10/site-packages/IPython/core/pylabtools.py:151: UserWarning: Glyph 28151 (\\N{CJK UNIFIED IDEOGRAPH-6DF7}) missing from current font.\n",
      "  fig.canvas.print_figure(bytes_io, **kw)\n",
      "/home/pdx01/.local/lib/python3.10/site-packages/IPython/core/pylabtools.py:151: UserWarning: Glyph 21512 (\\N{CJK UNIFIED IDEOGRAPH-5408}) missing from current font.\n",
      "  fig.canvas.print_figure(bytes_io, **kw)\n",
      "findfont: Generic family 'sans-serif' not found because none of the following families were found: SimHei\n",
      "findfont: Generic family 'sans-serif' not found because none of the following families were found: SimHei\n",
      "findfont: Generic family 'sans-serif' not found because none of the following families were found: SimHei\n",
      "findfont: Generic family 'sans-serif' not found because none of the following families were found: SimHei\n",
      "findfont: Generic family 'sans-serif' not found because none of the following families were found: SimHei\n",
      "findfont: Generic family 'sans-serif' not found because none of the following families were found: SimHei\n",
      "findfont: Generic family 'sans-serif' not found because none of the following families were found: SimHei\n",
      "findfont: Generic family 'sans-serif' not found because none of the following families were found: SimHei\n",
      "findfont: Generic family 'sans-serif' not found because none of the following families were found: SimHei\n",
      "findfont: Generic family 'sans-serif' not found because none of the following families were found: SimHei\n"
     ]
    },
    {
     "data": {
      "image/png": "[encoded data removed]",
      "text/plain": [
       "<Figure size 1600x800 with 1 Axes>"
      ]
     },
     "metadata": {},
     "output_type": "display_data"
    }
   ],
   "source": [
    "management_fee_stock_fund = management_fee_.groupby('Symbol').apply(\\\n",
    "    lambda one_fund: one_fund if float(one_fund.Symbol.unique()[0]) in stock_fund else None)\n",
    "    \n",
    "management_fee_integrated_fund = management_fee_.groupby('Symbol').apply(\\\n",
    "    lambda one_fund: one_fund if float(one_fund.Symbol.unique()[0]) in integrated_fund else None)\n",
    "\n",
    "management_fee_stock_fund_ = management_fee_stock_fund.groupby('DeclareDate').apply(\\\n",
    "    lambda one_date: one_date.ProportionOfFee.astype(float).mean())\n",
    "management_fee_integrated_fund_ = management_fee_integrated_fund.groupby('DeclareDate').apply(\\\n",
    "    lambda one_date: one_date.ProportionOfFee.astype(float).mean())\n",
    "\n",
    "plt.figure(figsize=(16,8))\n",
    "management_fee_stock_fund_.resample('1M').mean().plot(label='股票型基金季度平均管理费')\n",
    "management_fee_integrated_fund_.resample('1M').mean().plot(label='混合型基金季度平均管理费')\n",
    "plt.legend()"
   ]
  },
  {
   "cell_type": "markdown",
   "metadata": {},
   "source": [
    "## II.Select\n",
    "\n",
    "月末等权重买入一种分类中所有基金\n",
    "\n",
    "持有一个月，按月滚动调整\n",
    "\n",
    "**?等金额权重/等份额权重**"
   ]
  },
  {
   "cell_type": "code",
   "execution_count": 56,
   "metadata": {},
   "outputs": [],
   "source": [
    "\n",
    "# ! S_DQ_ADJCLOSE\n",
    "stock_avg_change = full.pivot(index='TRADE_DT', columns='S_INFO_WINDCODE', values='S_DQ_CLOSE').pct_change()\\\n",
    "    .apply(lambda date: date.sum()/pd.notnull(date).sum() if date.sum() != 0 else None, axis=1)\\\n",
    "        .loc['2002-1-1':'2022-9-22']\n",
    "\n",
    "stock_return = (stock_avg_change + 1).cumprod()"
   ]
  },
  {
   "cell_type": "code",
   "execution_count": 57,
   "metadata": {},
   "outputs": [
    {
     "data": {
      "text/plain": [
       "<matplotlib.legend.Legend at 0x7f39c8fcb460>"
      ]
     },
     "execution_count": 57,
     "metadata": {},
     "output_type": "execute_result"
    },
    {
     "name": "stderr",
     "output_type": "stream",
     "text": [
      "findfont: Generic family 'sans-serif' not found because none of the following families were found: SimHei\n",
      "findfont: Generic family 'sans-serif' not found because none of the following families were found: SimHei\n",
      "findfont: Generic family 'sans-serif' not found because none of the following families were found: SimHei\n",
      "findfont: Generic family 'sans-serif' not found because none of the following families were found: SimHei\n",
      "findfont: Generic family 'sans-serif' not found because none of the following families were found: SimHei\n",
      "findfont: Generic family 'sans-serif' not found because none of the following families were found: SimHei\n",
      "findfont: Generic family 'sans-serif' not found because none of the following families were found: SimHei\n",
      "findfont: Generic family 'sans-serif' not found because none of the following families were found: SimHei\n",
      "findfont: Generic family 'sans-serif' not found because none of the following families were found: SimHei\n",
      "findfont: Generic family 'sans-serif' not found because none of the following families were found: SimHei\n",
      "findfont: Generic family 'sans-serif' not found because none of the following families were found: SimHei\n",
      "findfont: Generic family 'sans-serif' not found because none of the following families were found: SimHei\n",
      "findfont: Generic family 'sans-serif' not found because none of the following families were found: SimHei\n",
      "findfont: Generic family 'sans-serif' not found because none of the following families were found: SimHei\n",
      "findfont: Generic family 'sans-serif' not found because none of the following families were found: SimHei\n",
      "findfont: Generic family 'sans-serif' not found because none of the following families were found: SimHei\n",
      "findfont: Generic family 'sans-serif' not found because none of the following families were found: SimHei\n",
      "findfont: Generic family 'sans-serif' not found because none of the following families were found: SimHei\n",
      "findfont: Generic family 'sans-serif' not found because none of the following families were found: SimHei\n",
      "findfont: Generic family 'sans-serif' not found because none of the following families were found: SimHei\n",
      "findfont: Generic family 'sans-serif' not found because none of the following families were found: SimHei\n",
      "findfont: Generic family 'sans-serif' not found because none of the following families were found: SimHei\n",
      "findfont: Generic family 'sans-serif' not found because none of the following families were found: SimHei\n",
      "findfont: Generic family 'sans-serif' not found because none of the following families were found: SimHei\n",
      "findfont: Generic family 'sans-serif' not found because none of the following families were found: SimHei\n",
      "/home/pdx01/.local/lib/python3.10/site-packages/IPython/core/events.py:89: UserWarning: Glyph 32929 (\\N{CJK UNIFIED IDEOGRAPH-80A1}) missing from current font.\n",
      "  func(*args, **kwargs)\n",
      "/home/pdx01/.local/lib/python3.10/site-packages/IPython/core/events.py:89: UserWarning: Glyph 31080 (\\N{CJK UNIFIED IDEOGRAPH-7968}) missing from current font.\n",
      "  func(*args, **kwargs)\n",
      "/home/pdx01/.local/lib/python3.10/site-packages/IPython/core/events.py:89: UserWarning: Glyph 22411 (\\N{CJK UNIFIED IDEOGRAPH-578B}) missing from current font.\n",
      "  func(*args, **kwargs)\n",
      "/home/pdx01/.local/lib/python3.10/site-packages/IPython/core/events.py:89: UserWarning: Glyph 22522 (\\N{CJK UNIFIED IDEOGRAPH-57FA}) missing from current font.\n",
      "  func(*args, **kwargs)\n",
      "/home/pdx01/.local/lib/python3.10/site-packages/IPython/core/events.py:89: UserWarning: Glyph 37329 (\\N{CJK UNIFIED IDEOGRAPH-91D1}) missing from current font.\n",
      "  func(*args, **kwargs)\n",
      "findfont: Generic family 'sans-serif' not found because none of the following families were found: SimHei\n",
      "findfont: Generic family 'sans-serif' not found because none of the following families were found: SimHei\n",
      "/home/pdx01/.local/lib/python3.10/site-packages/IPython/core/events.py:89: UserWarning: Glyph 28151 (\\N{CJK UNIFIED IDEOGRAPH-6DF7}) missing from current font.\n",
      "  func(*args, **kwargs)\n",
      "/home/pdx01/.local/lib/python3.10/site-packages/IPython/core/events.py:89: UserWarning: Glyph 21512 (\\N{CJK UNIFIED IDEOGRAPH-5408}) missing from current font.\n",
      "  func(*args, **kwargs)\n",
      "findfont: Generic family 'sans-serif' not found because none of the following families were found: SimHei\n",
      "findfont: Generic family 'sans-serif' not found because none of the following families were found: SimHei\n",
      "/home/pdx01/.local/lib/python3.10/site-packages/IPython/core/events.py:89: UserWarning: Glyph 24066 (\\N{CJK UNIFIED IDEOGRAPH-5E02}) missing from current font.\n",
      "  func(*args, **kwargs)\n",
      "/home/pdx01/.local/lib/python3.10/site-packages/IPython/core/events.py:89: UserWarning: Glyph 22330 (\\N{CJK UNIFIED IDEOGRAPH-573A}) missing from current font.\n",
      "  func(*args, **kwargs)\n",
      "/home/pdx01/.local/lib/python3.10/site-packages/IPython/core/events.py:89: UserWarning: Glyph 32452 (\\N{CJK UNIFIED IDEOGRAPH-7EC4}) missing from current font.\n",
      "  func(*args, **kwargs)\n",
      "findfont: Generic family 'sans-serif' not found because none of the following families were found: SimHei\n",
      "findfont: Generic family 'sans-serif' not found because none of the following families were found: SimHei\n",
      "findfont: Generic family 'sans-serif' not found because none of the following families were found: SimHei\n",
      "findfont: Generic family 'sans-serif' not found because none of the following families were found: SimHei\n",
      "findfont: Generic family 'sans-serif' not found because none of the following families were found: SimHei\n",
      "findfont: Generic family 'sans-serif' not found because none of the following families were found: SimHei\n",
      "findfont: Generic family 'sans-serif' not found because none of the following families were found: SimHei\n",
      "findfont: Generic family 'sans-serif' not found because none of the following families were found: SimHei\n",
      "findfont: Generic family 'sans-serif' not found because none of the following families were found: SimHei\n",
      "findfont: Generic family 'sans-serif' not found because none of the following families were found: SimHei\n",
      "findfont: Generic family 'sans-serif' not found because none of the following families were found: SimHei\n",
      "findfont: Generic family 'sans-serif' not found because none of the following families were found: SimHei\n",
      "findfont: Generic family 'sans-serif' not found because none of the following families were found: SimHei\n",
      "findfont: Generic family 'sans-serif' not found because none of the following families were found: SimHei\n",
      "findfont: Generic family 'sans-serif' not found because none of the following families were found: SimHei\n",
      "findfont: Generic family 'sans-serif' not found because none of the following families were found: SimHei\n",
      "findfont: Generic family 'sans-serif' not found because none of the following families were found: SimHei\n",
      "findfont: Generic family 'sans-serif' not found because none of the following families were found: SimHei\n",
      "findfont: Generic family 'sans-serif' not found because none of the following families were found: SimHei\n",
      "findfont: Generic family 'sans-serif' not found because none of the following families were found: SimHei\n",
      "findfont: Generic family 'sans-serif' not found because none of the following families were found: SimHei\n",
      "findfont: Generic family 'sans-serif' not found because none of the following families were found: SimHei\n",
      "findfont: Generic family 'sans-serif' not found because none of the following families were found: SimHei\n",
      "findfont: Generic family 'sans-serif' not found because none of the following families were found: SimHei\n",
      "findfont: Generic family 'sans-serif' not found because none of the following families were found: SimHei\n",
      "findfont: Generic family 'sans-serif' not found because none of the following families were found: SimHei\n",
      "findfont: Generic family 'sans-serif' not found because none of the following families were found: SimHei\n",
      "findfont: Generic family 'sans-serif' not found because none of the following families were found: SimHei\n",
      "findfont: Generic family 'sans-serif' not found because none of the following families were found: SimHei\n",
      "findfont: Generic family 'sans-serif' not found because none of the following families were found: SimHei\n",
      "findfont: Generic family 'sans-serif' not found because none of the following families were found: SimHei\n",
      "findfont: Generic family 'sans-serif' not found because none of the following families were found: SimHei\n",
      "findfont: Generic family 'sans-serif' not found because none of the following families were found: SimHei\n",
      "findfont: Generic family 'sans-serif' not found because none of the following families were found: SimHei\n",
      "findfont: Generic family 'sans-serif' not found because none of the following families were found: SimHei\n",
      "findfont: Generic family 'sans-serif' not found because none of the following families were found: SimHei\n",
      "findfont: Generic family 'sans-serif' not found because none of the following families were found: SimHei\n",
      "findfont: Generic family 'sans-serif' not found because none of the following families were found: SimHei\n",
      "findfont: Generic family 'sans-serif' not found because none of the following families were found: SimHei\n",
      "findfont: Generic family 'sans-serif' not found because none of the following families were found: SimHei\n",
      "findfont: Generic family 'sans-serif' not found because none of the following families were found: SimHei\n",
      "findfont: Generic family 'sans-serif' not found because none of the following families were found: SimHei\n",
      "findfont: Generic family 'sans-serif' not found because none of the following families were found: SimHei\n",
      "findfont: Generic family 'sans-serif' not found because none of the following families were found: SimHei\n",
      "findfont: Generic family 'sans-serif' not found because none of the following families were found: SimHei\n",
      "findfont: Generic family 'sans-serif' not found because none of the following families were found: SimHei\n",
      "findfont: Generic family 'sans-serif' not found because none of the following families were found: SimHei\n",
      "findfont: Generic family 'sans-serif' not found because none of the following families were found: SimHei\n",
      "findfont: Generic family 'sans-serif' not found because none of the following families were found: SimHei\n",
      "findfont: Generic family 'sans-serif' not found because none of the following families were found: SimHei\n",
      "findfont: Generic family 'sans-serif' not found because none of the following families were found: SimHei\n",
      "findfont: Generic family 'sans-serif' not found because none of the following families were found: SimHei\n",
      "findfont: Generic family 'sans-serif' not found because none of the following families were found: SimHei\n",
      "findfont: Generic family 'sans-serif' not found because none of the following families were found: SimHei\n",
      "findfont: Generic family 'sans-serif' not found because none of the following families were found: SimHei\n",
      "findfont: Generic family 'sans-serif' not found because none of the following families were found: SimHei\n",
      "findfont: Generic family 'sans-serif' not found because none of the following families were found: SimHei\n",
      "findfont: Generic family 'sans-serif' not found because none of the following families were found: SimHei\n",
      "findfont: Generic family 'sans-serif' not found because none of the following families were found: SimHei\n",
      "findfont: Generic family 'sans-serif' not found because none of the following families were found: SimHei\n",
      "findfont: Generic family 'sans-serif' not found because none of the following families were found: SimHei\n",
      "findfont: Generic family 'sans-serif' not found because none of the following families were found: SimHei\n",
      "findfont: Generic family 'sans-serif' not found because none of the following families were found: SimHei\n",
      "findfont: Generic family 'sans-serif' not found because none of the following families were found: SimHei\n",
      "/home/pdx01/.local/lib/python3.10/site-packages/IPython/core/pylabtools.py:151: UserWarning: Glyph 32929 (\\N{CJK UNIFIED IDEOGRAPH-80A1}) missing from current font.\n",
      "  fig.canvas.print_figure(bytes_io, **kw)\n",
      "/home/pdx01/.local/lib/python3.10/site-packages/IPython/core/pylabtools.py:151: UserWarning: Glyph 31080 (\\N{CJK UNIFIED IDEOGRAPH-7968}) missing from current font.\n",
      "  fig.canvas.print_figure(bytes_io, **kw)\n",
      "/home/pdx01/.local/lib/python3.10/site-packages/IPython/core/pylabtools.py:151: UserWarning: Glyph 22411 (\\N{CJK UNIFIED IDEOGRAPH-578B}) missing from current font.\n",
      "  fig.canvas.print_figure(bytes_io, **kw)\n",
      "/home/pdx01/.local/lib/python3.10/site-packages/IPython/core/pylabtools.py:151: UserWarning: Glyph 22522 (\\N{CJK UNIFIED IDEOGRAPH-57FA}) missing from current font.\n",
      "  fig.canvas.print_figure(bytes_io, **kw)\n",
      "/home/pdx01/.local/lib/python3.10/site-packages/IPython/core/pylabtools.py:151: UserWarning: Glyph 37329 (\\N{CJK UNIFIED IDEOGRAPH-91D1}) missing from current font.\n",
      "  fig.canvas.print_figure(bytes_io, **kw)\n",
      "findfont: Generic family 'sans-serif' not found because none of the following families were found: SimHei\n",
      "findfont: Generic family 'sans-serif' not found because none of the following families were found: SimHei\n",
      "/home/pdx01/.local/lib/python3.10/site-packages/IPython/core/pylabtools.py:151: UserWarning: Glyph 28151 (\\N{CJK UNIFIED IDEOGRAPH-6DF7}) missing from current font.\n",
      "  fig.canvas.print_figure(bytes_io, **kw)\n",
      "/home/pdx01/.local/lib/python3.10/site-packages/IPython/core/pylabtools.py:151: UserWarning: Glyph 21512 (\\N{CJK UNIFIED IDEOGRAPH-5408}) missing from current font.\n",
      "  fig.canvas.print_figure(bytes_io, **kw)\n",
      "findfont: Generic family 'sans-serif' not found because none of the following families were found: SimHei\n",
      "findfont: Generic family 'sans-serif' not found because none of the following families were found: SimHei\n",
      "/home/pdx01/.local/lib/python3.10/site-packages/IPython/core/pylabtools.py:151: UserWarning: Glyph 24066 (\\N{CJK UNIFIED IDEOGRAPH-5E02}) missing from current font.\n",
      "  fig.canvas.print_figure(bytes_io, **kw)\n",
      "/home/pdx01/.local/lib/python3.10/site-packages/IPython/core/pylabtools.py:151: UserWarning: Glyph 22330 (\\N{CJK UNIFIED IDEOGRAPH-573A}) missing from current font.\n",
      "  fig.canvas.print_figure(bytes_io, **kw)\n",
      "/home/pdx01/.local/lib/python3.10/site-packages/IPython/core/pylabtools.py:151: UserWarning: Glyph 32452 (\\N{CJK UNIFIED IDEOGRAPH-7EC4}) missing from current font.\n",
      "  fig.canvas.print_figure(bytes_io, **kw)\n",
      "findfont: Generic family 'sans-serif' not found because none of the following families were found: SimHei\n",
      "findfont: Generic family 'sans-serif' not found because none of the following families were found: SimHei\n",
      "findfont: Generic family 'sans-serif' not found because none of the following families were found: SimHei\n",
      "findfont: Generic family 'sans-serif' not found because none of the following families were found: SimHei\n",
      "findfont: Generic family 'sans-serif' not found because none of the following families were found: SimHei\n",
      "findfont: Generic family 'sans-serif' not found because none of the following families were found: SimHei\n",
      "findfont: Generic family 'sans-serif' not found because none of the following families were found: SimHei\n",
      "findfont: Generic family 'sans-serif' not found because none of the following families were found: SimHei\n",
      "findfont: Generic family 'sans-serif' not found because none of the following families were found: SimHei\n",
      "findfont: Generic family 'sans-serif' not found because none of the following families were found: SimHei\n",
      "findfont: Generic family 'sans-serif' not found because none of the following families were found: SimHei\n",
      "findfont: Generic family 'sans-serif' not found because none of the following families were found: SimHei\n",
      "findfont: Generic family 'sans-serif' not found because none of the following families were found: SimHei\n",
      "findfont: Generic family 'sans-serif' not found because none of the following families were found: SimHei\n",
      "findfont: Generic family 'sans-serif' not found because none of the following families were found: SimHei\n"
     ]
    },
    {
     "data": {
      "image/png": "[encoded data removed]",
      "text/plain": [
       "<Figure size 2000x800 with 1 Axes>"
      ]
     },
     "metadata": {},
     "output_type": "display_data"
    }
   ],
   "source": [
    "# 等份额权重\n",
    "# remove all null month\n",
    "# TODO, probable cause: funds listed before 2022-04 did not meet other requirements\n",
    "\n",
    "plt.figure(figsize=(20,8))\n",
    "stock_r_t = r_t_real_[np.intersect1d(stock_fund, r_t_real_.columns)]\n",
    "stock_r_t_ = stock_r_t[~ pd.isnull(stock_r_t).all(axis=1)]\n",
    "stock_r_t_.apply(lambda one_month: one_month.sum()/pd.notnull(one_month).sum(), axis=1).cumprod().plot(label='股票型基金')\n",
    "mixed_r_t = r_t_real_[np.intersect1d(integrated_fund, r_t_real_.columns)]\n",
    "mixed_r_t_ = mixed_r_t[~ pd.isnull(mixed_r_t).all(axis=1)]\n",
    "mixed_r_t_.apply(lambda one_month: one_month.sum()/pd.notnull(one_month).sum(), axis=1).cumprod().plot(label='混合型基金')\n",
    "stock_return.plot(label='股票市场组合')\n",
    "plt.legend()"
   ]
  }
 ],
 "metadata": {
  "kernelspec": {
   "display_name": "Python 3.10.4 64-bit",
   "language": "python",
   "name": "python3"
  },
  "language_info": {
   "codemirror_mode": {
    "name": "ipython",
    "version": 3
   },
   "file_extension": ".py",
   "mimetype": "text/x-python",
   "name": "python",
   "nbconvert_exporter": "python",
   "pygments_lexer": "ipython3",
   "version": "3.10.4"
  },
  "orig_nbformat": 4,
  "vscode": {
   "interpreter": {
    "hash": "30f376259ad5d5354be6f280c6eaf9568078f04b7c7fbe2e366bcbeb41831e82"
   }
  }
 },
 "nbformat": 4,
 "nbformat_minor": 2
}
