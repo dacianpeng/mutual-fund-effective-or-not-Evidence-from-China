{
 "cells": [
  {
   "cell_type": "code",
   "execution_count": 7,
   "metadata": {},
   "outputs": [],
   "source": [
    "import math\n",
    "import pickle\n",
    "import time\n",
    "from functools import reduce\n",
    "from pandarallel import pandarallel\n",
    "\n",
    "import dask.dataframe as ddf\n",
    "import jqdatasdk as jq\n",
    "import matplotlib.pyplot as plt\n",
    "import numpy as np\n",
    "import pandas as pd\n",
    "import plotly.express as px\n",
    "import statsmodels.api as sm\n",
    "import plotly.graph_objects as go\n",
    "from csmarapi.CsmarService import CsmarService\n",
    "from plotly.subplots import make_subplots\n",
    "from scipy import stats\n",
    "from utils.my_cache import cache_wrapper\n",
    "from utils.functions import *\n",
    "\n",
    "from csmarapi.ReportUtil import ReportUtil\n"
   ]
  },
  {
   "cell_type": "code",
   "execution_count": 3,
   "metadata": {},
   "outputs": [
    {
     "name": "stdout",
     "output_type": "stream",
     "text": [
      "INFO: Pandarallel will run on 8 workers.\n",
      "INFO: Pandarallel will use standard multiprocessing data transfer (pipe) to transfer data between the main process and workers.\n",
      "\n",
      "WARNING: You are on Windows. If you detect any issue with pandarallel, be sure you checked out the Troubleshooting page:\n",
      "https://nalepae.github.io/pandarallel/troubleshooting/\n"
     ]
    },
    {
     "name": "stderr",
     "output_type": "stream",
     "text": [
      "Tue 18 Oct 2022 09:02:38 CsmarService.py INFO User login succeed\n"
     ]
    }
   ],
   "source": [
    "# plt.rcParams['font.sans-serif'] = ['SimHei']\n",
    "# plt.rcParams['axes.unicode_minus'] = False\n",
    "csmar = CsmarService()\n",
    "pandarallel.initialize()\n",
    "\n",
    "csmar.login('wuhh@pbcsf.tsinghua.edu.cn', 'whh8803582')"
   ]
  },
  {
   "cell_type": "markdown",
   "metadata": {},
   "source": [
    "## **I. Data**"
   ]
  },
  {
   "cell_type": "markdown",
   "metadata": {},
   "source": [
    "**Research**\n",
    "\n",
    "- Most Data (nav/dividend/split ratio/asset allocation) : `CSMAR`\n",
    "\n",
    "- Fund classification : `JoinQuant`\n",
    "\n",
    "- Fund start date: `JoinQuant`\n",
    "\n",
    "- SVC related: `previous research`\n",
    "\n",
    "**Validation**\n",
    "\n",
    "- `AMAC` : [2020 yearly report, page 15](https://www.amac.org.cn/researchstatistics/publication/zgzqtzjjynb/202104/t20210419_11390.html), for market statistic\n",
    "\n",
    "- `Win.d` : classification/share/nav, for market statistic; stock fund adjusted net asset value (2005/6-2019/6)\n",
    "\n",
    "<span style=\"color:blue\">Data is sound, carefully verified and available to fetch</span>"
   ]
  },
  {
   "cell_type": "markdown",
   "metadata": {},
   "source": [
    "AMAC"
   ]
  },
  {
   "cell_type": "code",
   "execution_count": 8,
   "metadata": {},
   "outputs": [],
   "source": [
    "from data.AMAC.amac_full_market_value import amac_full_market_value"
   ]
  },
  {
   "cell_type": "markdown",
   "metadata": {},
   "source": [
    "JoinQuant"
   ]
  },
  {
   "cell_type": "code",
   "execution_count": 9,
   "metadata": {},
   "outputs": [],
   "source": [
    "from data.JoinQuant.jq_all_fund_brief import *\n",
    "from data.JoinQuant.jq_all_fund_main_info import jq_all_fund_main_info\n",
    "from data.JoinQuant.jq_all_stocks_brief import jq_all_stocks_brief\n",
    "from data.JoinQuant.jq_stock_classification import jq_stock_classification"
   ]
  },
  {
   "cell_type": "markdown",
   "metadata": {},
   "source": [
    "Win.d"
   ]
  },
  {
   "cell_type": "code",
   "execution_count": 18,
   "metadata": {},
   "outputs": [],
   "source": [
    "from data.Wind.wind_validate_share_nav import *\n",
    "from data.Wind.wind_validate_stock_fund_adj_nav import wind_validate_stock_fund_adj_nav\n",
    "from data.Wind.wind_stock_classification import *"
   ]
  },
  {
   "cell_type": "markdown",
   "metadata": {},
   "source": [
    "CSMAR"
   ]
  },
  {
   "cell_type": "code",
   "execution_count": 11,
   "metadata": {},
   "outputs": [],
   "source": [
    "from data.CSMAR.TRD_Co import csmar_stock_classification\n",
    "from data.CSMAR.FUND_MainInfo import csmar_maininfo\n",
    "from data.CSMAR.FUND_FundCodeInfo import csmar_symbol_code_mapping\n",
    "from data.CSMAR.Fund_ShareChange import csmar_share_info\n",
    "from data.CSMAR.daily_nav import csmar_nav_daily\n",
    "from data.CSMAR.Fund_FundDividend import csmar_fund_dividend\n",
    "from data.CSMAR.Fund_Resolution import csmar_fund_resolution\n",
    "from data.CSMAR.Fund_Allocation import csmar_fund_allocation\n",
    "from data.CSMAR.invest_detail import csmar_invest_detail\n",
    "from data.CSMAR.TRD_Mnth import csmar_monthly_stock_mkt_value"
   ]
  },
  {
   "cell_type": "markdown",
   "metadata": {},
   "source": [
    "SVC"
   ]
  },
  {
   "cell_type": "code",
   "execution_count": 16,
   "metadata": {},
   "outputs": [],
   "source": [
    "from data.SVC.svc_source import svc_source"
   ]
  },
  {
   "cell_type": "markdown",
   "metadata": {},
   "source": [
    "TwoStep"
   ]
  },
  {
   "cell_type": "code",
   "execution_count": 17,
   "metadata": {},
   "outputs": [],
   "source": [
    "from data.TwoStepData.csmar_nav_monthly import csmar_nav_monthly"
   ]
  },
  {
   "cell_type": "markdown",
   "metadata": {},
   "source": [
    "## **II. Market Statistic**"
   ]
  },
  {
   "cell_type": "code",
   "execution_count": 1,
   "metadata": {},
   "outputs": [
    {
     "name": "stdout",
     "output_type": "stream",
     "text": [
      "auth success \n"
     ]
    }
   ],
   "source": [
    "import matplotlib.pyplot as plt\n",
    "import numpy as np\n",
    "import pandas as pd\n",
    "\n",
    "from data.CSMAR.Fund_ShareChange import csmar_share_info\n",
    "from data.JoinQuant.jq_all_fund_main_info import jq_all_fund_main_info\n",
    "from data.TwoStepData.csmar_nav_monthly import csmar_nav_monthly\n",
    "from data.Wind.wind_validate_share_nav import *\n",
    "from utils.functions import *"
   ]
  },
  {
   "cell_type": "markdown",
   "metadata": {},
   "source": [
    "split Win.d data\n",
    "\n",
    "|       | share            | nav            |\n",
    "| ----- | ---------------- | -------------- |\n",
    "| all | all fund share | all fund nav |\n",
    "| blend | blend fund share | blend fund nav |"
   ]
  },
  {
   "cell_type": "code",
   "execution_count": null,
   "metadata": {},
   "outputs": [],
   "source": [
    "wind_validate_share = wind_validate_share_nav.loc['基金份额', slice(None)]\n",
    "wind_validate_share.columns = wind_validate_share.columns.str.split('.').str[0]\n",
    "wind_validate_share = wind_validate_share[ ~ wind_validate_share.index.duplicated(keep='last')]"
   ]
  },
  {
   "cell_type": "code",
   "execution_count": 20,
   "metadata": {},
   "outputs": [],
   "source": [
    "wind_validate_nav = wind_validate_share_nav.loc['单位净值', slice(None)]\n",
    "wind_validate_nav.columns = wind_validate_nav.columns.str.split('.').str[0]\n",
    "wind_validate_nav = wind_validate_nav[ ~ wind_validate_nav.index.duplicated(keep='last')]"
   ]
  },
  {
   "cell_type": "code",
   "execution_count": null,
   "metadata": {},
   "outputs": [],
   "source": [
    "wind_stock_fund_share = wind_validate_share.T[(wind_fund_classification['投资类型(一级分类)'] == '股票型基金').values].T\n",
    "wind_blend_fund_share = wind_validate_share.T[(wind_fund_classification['投资类型(一级分类)'] == '混合型基金').values].T\n",
    "\n",
    "wind_stock_fund_nav = wind_validate_nav.T[(wind_fund_classification['投资类型(一级分类)'] == '股票型基金').values].T\n",
    "wind_blend_fund_nav = wind_validate_nav.T[(wind_fund_classification['投资类型(一级分类)'] == '混合型基金').values].T"
   ]
  },
  {
   "cell_type": "markdown",
   "metadata": {},
   "source": [
    "make Win.d data plottable"
   ]
  },
  {
   "cell_type": "code",
   "execution_count": 22,
   "metadata": {},
   "outputs": [],
   "source": [
    "wind_stock_fund_num = pd.notna(wind_stock_fund_nav).sum(axis=1)\n",
    "wind_stock_fund_num.index = wind_stock_fund_num.index.astype(np.datetime64) + pd.offsets.MonthEnd(0)\n",
    "\n",
    "wind_blend_fund_num = pd.notna(wind_blend_fund_nav).sum(axis=1)\n",
    "wind_blend_fund_num.index = wind_blend_fund_num.index.astype(np.datetime64) + pd.offsets.MonthEnd(0)\n",
    "\n",
    "wind_stock_fund_mkt_value = (wind_stock_fund_share * wind_stock_fund_nav).sum(axis=1)\n",
    "wind_stock_fund_mkt_value.index  = wind_stock_fund_mkt_value.index.astype(np.datetime64) + pd.offsets.MonthEnd(0)\n",
    "\n",
    "wind_blend_fund_mkt_value = (wind_blend_fund_share * wind_blend_fund_nav).sum(axis=1)\n",
    "wind_blend_fund_mkt_value.index  = wind_blend_fund_mkt_value.index.astype(np.datetime64) + pd.offsets.MonthEnd(0)"
   ]
  },
  {
   "cell_type": "markdown",
   "metadata": {},
   "source": [
    "align JoinQuant && CSMAR data"
   ]
  },
  {
   "cell_type": "code",
   "execution_count": 23,
   "metadata": {},
   "outputs": [],
   "source": [
    "csmar_share_info = csmar_share_info.drop_duplicates(subset=['Symbol', 'Date']).pivot(index='Date', columns='Symbol', values='EndDateShares')\n"
   ]
  },
  {
   "cell_type": "code",
   "execution_count": 24,
   "metadata": {},
   "outputs": [],
   "source": [
    "selected_month = 6\n",
    "\n",
    "csmar_share_info_6 = csmar_share_info[csmar_share_info.index.month == selected_month]\n",
    "csmar_nav_monthly_6 = csmar_nav_monthly[csmar_nav_monthly.index.month == selected_month]\n",
    "\n",
    "csmar_blend_code_6 = np.intersect1d(csmar_nav_monthly_6.columns, jq_all_fund_main_info[jq_all_fund_main_info.underlying_asset_type == '混合型'].main_code.values)\n",
    "csmar_blend_code_6 = np.intersect1d(csmar_blend_code_6, csmar_share_info_6.columns)\n",
    "\n",
    "csmar_stock_code_6 = np.intersect1d(csmar_nav_monthly_6.columns, jq_all_fund_main_info[jq_all_fund_main_info.underlying_asset_type == '股票型'].main_code.values)\n",
    "csmar_stock_code_6 = np.intersect1d(csmar_stock_code_6, csmar_share_info_6.columns)\n",
    "\n",
    "csmar_co_time_6 = np.intersect1d(csmar_share_info_6.index, csmar_nav_monthly_6.index)\n",
    "\n",
    "\n"
   ]
  },
  {
   "cell_type": "code",
   "execution_count": 25,
   "metadata": {},
   "outputs": [],
   "source": [
    "csmar_blend_mkt_value_jq_classify = (csmar_share_info_6.loc[csmar_co_time_6, csmar_blend_code_6] * csmar_nav_monthly_6.loc[csmar_co_time_6, csmar_blend_code_6]).sum(axis=1)\n",
    "csmar_stock_mkt_value_jq_classify = (csmar_share_info_6.loc[csmar_co_time_6, csmar_stock_code_6] * csmar_nav_monthly_6.loc[csmar_co_time_6, csmar_stock_code_6]).sum(axis=1)\n",
    "\n",
    "csmar_stock_mkt_value_jq_classify.index = csmar_stock_mkt_value_jq_classify.index.astype(np.datetime64) + pd.offsets.MonthEnd(0)\n",
    "csmar_blend_mkt_value_jq_classify.index = csmar_blend_mkt_value_jq_classify.index.astype(np.datetime64) + pd.offsets.MonthEnd(0)"
   ]
  },
  {
   "cell_type": "markdown",
   "metadata": {},
   "source": [
    "stock funds market value"
   ]
  },
  {
   "cell_type": "code",
   "execution_count": 26,
   "metadata": {},
   "outputs": [
    {
     "data": {
      "text/plain": [
       "<matplotlib.legend.Legend at 0x225ebf63160>"
      ]
     },
     "execution_count": 26,
     "metadata": {},
     "output_type": "execute_result"
    },
    {
     "data": {
      "image/png": "[encoded data removed]",
      "text/plain": [
       "<Figure size 1728x432 with 1 Axes>"
      ]
     },
     "metadata": {
      "needs_background": "light"
     },
     "output_type": "display_data"
    }
   ],
   "source": [
    "plt.figure(figsize=(24, 6))\n",
    "plt.bar(amac_full_market_value.股票基金.index - pd.Timedelta('10W'), amac_full_market_value.股票基金.values * 1e8, width=75, label='AMAC Source', alpha=.8)\n",
    "plt.bar(wind_stock_fund_mkt_value.index - pd.Timedelta('1W'), wind_stock_fund_mkt_value.values, width=75, label='Win.d Source', alpha=.8)\n",
    "plt.bar(csmar_stock_mkt_value_jq_classify.index + pd.Timedelta('8W'), csmar_stock_mkt_value_jq_classify.values, width=75, label='CSMAR Fund & JoinQuant Classification', alpha=.8)\n",
    "plt.grid()\n",
    "plt.ylabel('Total Market Value (Share × NAV)')\n",
    "plt.title('Sum of Stock Fund Market Value, Every 6th Month')\n",
    "plt.legend()"
   ]
  },
  {
   "cell_type": "markdown",
   "metadata": {},
   "source": [
    "blend funds market value"
   ]
  },
  {
   "cell_type": "code",
   "execution_count": 27,
   "metadata": {},
   "outputs": [
    {
     "data": {
      "text/plain": [
       "<matplotlib.legend.Legend at 0x22586ce2da0>"
      ]
     },
     "execution_count": 27,
     "metadata": {},
     "output_type": "execute_result"
    },
    {
     "data": {
      "image/png": "[encoded data removed]",
      "text/plain": [
       "<Figure size 1728x432 with 1 Axes>"
      ]
     },
     "metadata": {
      "needs_background": "light"
     },
     "output_type": "display_data"
    }
   ],
   "source": [
    "plt.figure(figsize=(24, 6))\n",
    "plt.bar(amac_full_market_value.混合基金.index - pd.Timedelta('10W'), amac_full_market_value.混合基金.values * 1e8, width=75, label='AMAC Source', alpha=.8)\n",
    "plt.bar(wind_blend_fund_mkt_value.index - pd.Timedelta('1W'), wind_blend_fund_mkt_value.values, width=75, label='Win.d Source', alpha=.8)\n",
    "plt.bar(csmar_blend_mkt_value_jq_classify.index + pd.Timedelta('8W'), csmar_blend_mkt_value_jq_classify.values, width=75, label='CSMAR Fund & JoinQuant Classification', alpha=.8)\n",
    "plt.grid()\n",
    "plt.ylabel('Total Market Value (Share × NAV)')\n",
    "plt.title('Sum of Blend Fund Market Value, End of Every 6th Month')\n",
    "plt.legend()"
   ]
  },
  {
   "cell_type": "markdown",
   "metadata": {},
   "source": [
    "(stock + blend) funds market value"
   ]
  },
  {
   "cell_type": "code",
   "execution_count": 28,
   "metadata": {},
   "outputs": [
    {
     "data": {
      "text/plain": [
       "<matplotlib.legend.Legend at 0x22586c08af0>"
      ]
     },
     "execution_count": 28,
     "metadata": {},
     "output_type": "execute_result"
    },
    {
     "data": {
      "image/png": "[encoded data removed]",
      "text/plain": [
       "<Figure size 1728x432 with 1 Axes>"
      ]
     },
     "metadata": {
      "needs_background": "light"
     },
     "output_type": "display_data"
    }
   ],
   "source": [
    "plt.figure(figsize=(24, 6))\n",
    "plt.bar(amac_full_market_value.混合基金.index - pd.Timedelta('10W'), (amac_full_market_value.混合基金.values + amac_full_market_value.股票基金.values) * 1e8, width=75, label='AMAC Source', alpha=.8)\n",
    "plt.bar(wind_blend_fund_mkt_value.index - pd.Timedelta('1W'), \\\n",
    "     wind_blend_fund_mkt_value.values + wind_stock_fund_mkt_value.values, width=75, label='Win.d Source', alpha=.8)\n",
    "plt.bar(csmar_blend_mkt_value_jq_classify.index + pd.Timedelta('8W'), \\\n",
    "     csmar_blend_mkt_value_jq_classify.values + csmar_stock_mkt_value_jq_classify.values, width=75, label='CSMAR Fund & JoinQuant Classification', alpha=.8)\n",
    "plt.grid()\n",
    "plt.ylabel('Total Market Value (Share × NAV)')\n",
    "plt.title('Sum of Stock Fund && Blend Fund Market Value, End of Every 6th month')\n",
    "plt.legend()"
   ]
  },
  {
   "cell_type": "markdown",
   "metadata": {},
   "source": [
    "fund counts"
   ]
  },
  {
   "cell_type": "code",
   "execution_count": 29,
   "metadata": {},
   "outputs": [],
   "source": [
    "csmar_stock_fund_count = csmar_nav_monthly.loc[:, csmar_stock_code_6].apply(lambda x: pd.notna(x).sum(), axis=1)\n",
    "csmar_stock_fund_count.index = csmar_stock_fund_count.index.astype(np.datetime64) + pd.offsets.MonthEnd(0)\n",
    "\n",
    "csmar_blend_fund_count = csmar_nav_monthly.loc[:, csmar_blend_code_6].apply(lambda x: pd.notna(x).sum(), axis=1)\n",
    "csmar_blend_fund_count.index = csmar_blend_fund_count.index.astype(np.datetime64) + pd.offsets.MonthEnd(0)"
   ]
  },
  {
   "cell_type": "markdown",
   "metadata": {},
   "source": [
    "integrated plot"
   ]
  },
  {
   "cell_type": "code",
   "execution_count": 30,
   "metadata": {},
   "outputs": [
    {
     "data": {
      "image/png": "[encoded data removed]",
      "text/plain": [
       "<Figure size 1728x576 with 2 Axes>"
      ]
     },
     "metadata": {
      "needs_background": "light"
     },
     "output_type": "display_data"
    }
   ],
   "source": [
    "fig, ax1 = plt.subplots()\n",
    "\n",
    "fig.set_figheight(8)\n",
    "fig.set_figwidth(24)\n",
    "\n",
    "csmar_nav_monthly_6.loc[:, csmar_blend_code_6].apply(lambda x: pd.notna(x).sum(), axis=1)\n",
    "\n",
    "csmar_stock_fund_count = csmar_nav_monthly.loc[:, csmar_stock_code_6].apply(lambda x: pd.notna(x).sum(), axis=1)\n",
    "csmar_stock_fund_count.index = csmar_stock_fund_count.index.astype(np.datetime64) + pd.offsets.MonthEnd(0)\n",
    "\n",
    "csmar_blend_fund_count = csmar_nav_monthly.loc[:, csmar_blend_code_6].apply(lambda x: pd.notna(x).sum(), axis=1)\n",
    "csmar_blend_fund_count.index = csmar_blend_fund_count.index.astype(np.datetime64) + pd.offsets.MonthEnd(0)\n",
    "\n",
    "\n",
    "ax1.plot(csmar_stock_fund_count, linewidth=3, label='Line, Stock Fund Count')\n",
    "ax1.plot(csmar_blend_fund_count, linewidth=3, label='Line, Blend Fund Count')\n",
    "\n",
    "ax1.set_yscale('log')\n",
    "ax1.set_yticks([1e0, 1e1, 1e2, 1e3, 1e4])\n",
    "ax1.grid()\n",
    "ax1.set_ylabel('Fund Number Count')\n",
    "\n",
    "ax2 = ax1.twinx()\n",
    "\n",
    "plt.bar(csmar_stock_mkt_value_jq_classify.index - pd.Timedelta('7W'), \\\n",
    "     csmar_stock_mkt_value_jq_classify.values, width=100, label='Bar, Stock Fund Market Value', alpha=.8)\n",
    "\n",
    "plt.bar(csmar_blend_mkt_value_jq_classify.index + pd.Timedelta('7W'), \\\n",
    "     csmar_blend_mkt_value_jq_classify.values, width=100, label='Bar, Blend Fund Market Value', alpha=.8)\n",
    "\n",
    "plt.title('Full Market, CSMAR Fund & JoinQuant Classification, Market Statistic, End of Every 6th month')\n",
    "\n",
    "ax2.grid(color='y', alpha=.7)\n",
    "plt.ylabel('Total Market Value (Share × NAV)')\n",
    "\n",
    "ax1.legend(loc='upper left')\n",
    "ax2.legend(loc='lower left')\n",
    "plt.show()\n"
   ]
  },
  {
   "cell_type": "markdown",
   "metadata": {},
   "source": [
    "## **III. Filters**"
   ]
  },
  {
   "cell_type": "code",
   "execution_count": null,
   "metadata": {},
   "outputs": [],
   "source": [
    "from functools import reduce\n",
    "\n",
    "import numpy as np\n",
    "import pandas as pd\n",
    "\n",
    "from data.CSMAR.daily_nav import csmar_nav_daily\n",
    "from data.CSMAR.Fund_Allocation import csmar_fund_allocation\n",
    "from data.CSMAR.FUND_FundCodeInfo import csmar_symbol_code_mapping\n",
    "from data.CSMAR.Fund_FundDividend import csmar_fund_dividend\n",
    "from data.CSMAR.FUND_MainInfo import csmar_maininfo\n",
    "from data.CSMAR.Fund_Resolution import csmar_fund_resolution\n",
    "from data.JoinQuant.jq_all_fund_main_info import jq_all_fund_main_info\n",
    "from data.TwoStepData.csmar_nav_monthly import csmar_nav_monthly"
   ]
  },
  {
   "cell_type": "markdown",
   "metadata": {},
   "source": [
    "### preview"
   ]
  },
  {
   "cell_type": "code",
   "execution_count": 39,
   "metadata": {},
   "outputs": [],
   "source": [
    "csmar_jq_co_fund = np.intersect1d(np.char.zfill(csmar_nav_daily.Symbol.unique().astype(str), 6), jq_all_fund_main_info.main_code)\n",
    "csmar_jq_co_fund = pd.Series(csmar_jq_co_fund, name='main_code')\n",
    "\n",
    "final_main_info = pd.merge(jq_all_fund_main_info, csmar_jq_co_fund, on='main_code')[['main_code', 'operate_mode', 'underlying_asset_type', 'start_date']]\n"
   ]
  },
  {
   "cell_type": "code",
   "execution_count": 40,
   "metadata": {},
   "outputs": [
    {
     "data": {
      "application/vnd.plotly.v1+json": {
       "config": {
        "plotlyServerURL": "https://plot.ly"
       },
       "data": [
        {
         "domain": {
          "x": [
           0,
           0.45
          ],
          "y": [
           0,
           1
          ]
         },
         "labels": [
          "混合型",
          "债券型",
          "股票型",
          "货币型",
          "基金型",
          "商品",
          "基础设施基金"
         ],
         "textinfo": "percent+label",
         "textposition": "inside",
         "type": "pie",
         "values": [
          7593,
          4748,
          2571,
          729,
          711,
          20,
          20
         ]
        },
        {
         "domain": {
          "x": [
           0.55,
           1
          ],
          "y": [
           0,
           1
          ]
         },
         "labels": [
          "开放式基金",
          "封闭式基金",
          "ETF",
          "FOF",
          "QDII",
          "LOF",
          "基础设施基金",
          "MOM"
         ],
         "textinfo": "percent+label",
         "textposition": "inside",
         "type": "pie",
         "values": [
          12488,
          1925,
          696,
          456,
          420,
          379,
          20,
          8
         ]
        }
       ],
       "layout": {
        "annotations": [
         {
          "font": {
           "size": 16
          },
          "showarrow": false,
          "text": "JoinQuant Asset Type",
          "x": 0.225,
          "xanchor": "center",
          "xref": "paper",
          "y": 1,
          "yanchor": "bottom",
          "yref": "paper"
         },
         {
          "font": {
           "size": 16
          },
          "showarrow": false,
          "text": "JoinQuant Operation Mode",
          "x": 0.775,
          "xanchor": "center",
          "xref": "paper",
          "y": 1,
          "yanchor": "bottom",
          "yref": "paper"
         }
        ],
        "height": 500,
        "showlegend": false,
        "template": {
         "data": {
          "bar": [
           {
            "error_x": {
             "color": "#2a3f5f"
            },
            "error_y": {
             "color": "#2a3f5f"
            },
            "marker": {
             "line": {
              "color": "#E5ECF6",
              "width": 0.5
             },
             "pattern": {
              "fillmode": "overlay",
              "size": 10,
              "solidity": 0.2
             }
            },
            "type": "bar"
           }
          ],
          "barpolar": [
           {
            "marker": {
             "line": {
              "color": "#E5ECF6",
              "width": 0.5
             },
             "pattern": {
              "fillmode": "overlay",
              "size": 10,
              "solidity": 0.2
             }
            },
            "type": "barpolar"
           }
          ],
          "carpet": [
           {
            "aaxis": {
             "endlinecolor": "#2a3f5f",
             "gridcolor": "white",
             "linecolor": "white",
             "minorgridcolor": "white",
             "startlinecolor": "#2a3f5f"
            },
            "baxis": {
             "endlinecolor": "#2a3f5f",
             "gridcolor": "white",
             "linecolor": "white",
             "minorgridcolor": "white",
             "startlinecolor": "#2a3f5f"
            },
            "type": "carpet"
           }
          ],
          "choropleth": [
           {
            "colorbar": {
             "outlinewidth": 0,
             "ticks": ""
            },
            "type": "choropleth"
           }
          ],
          "contour": [
           {
            "colorbar": {
             "outlinewidth": 0,
             "ticks": ""
            },
            "colorscale": [
             [
              0,
              "#0d0887"
             ],
             [
              0.1111111111111111,
              "#46039f"
             ],
             [
              0.2222222222222222,
              "#7201a8"
             ],
             [
              0.3333333333333333,
              "#9c179e"
             ],
             [
              0.4444444444444444,
              "#bd3786"
             ],
             [
              0.5555555555555556,
              "#d8576b"
             ],
             [
              0.6666666666666666,
              "#ed7953"
             ],
             [
              0.7777777777777778,
              "#fb9f3a"
             ],
             [
              0.8888888888888888,
              "#fdca26"
             ],
             [
              1,
              "#f0f921"
             ]
            ],
            "type": "contour"
           }
          ],
          "contourcarpet": [
           {
            "colorbar": {
             "outlinewidth": 0,
             "ticks": ""
            },
            "type": "contourcarpet"
           }
          ],
          "heatmap": [
           {
            "colorbar": {
             "outlinewidth": 0,
             "ticks": ""
            },
            "colorscale": [
             [
              0,
              "#0d0887"
             ],
             [
              0.1111111111111111,
              "#46039f"
             ],
             [
              0.2222222222222222,
              "#7201a8"
             ],
             [
              0.3333333333333333,
              "#9c179e"
             ],
             [
              0.4444444444444444,
              "#bd3786"
             ],
             [
              0.5555555555555556,
              "#d8576b"
             ],
             [
              0.6666666666666666,
              "#ed7953"
             ],
             [
              0.7777777777777778,
              "#fb9f3a"
             ],
             [
              0.8888888888888888,
              "#fdca26"
             ],
             [
              1,
              "#f0f921"
             ]
            ],
            "type": "heatmap"
           }
          ],
          "heatmapgl": [
           {
            "colorbar": {
             "outlinewidth": 0,
             "ticks": ""
            },
            "colorscale": [
             [
              0,
              "#0d0887"
             ],
             [
              0.1111111111111111,
              "#46039f"
             ],
             [
              0.2222222222222222,
              "#7201a8"
             ],
             [
              0.3333333333333333,
              "#9c179e"
             ],
             [
              0.4444444444444444,
              "#bd3786"
             ],
             [
              0.5555555555555556,
              "#d8576b"
             ],
             [
              0.6666666666666666,
              "#ed7953"
             ],
             [
              0.7777777777777778,
              "#fb9f3a"
             ],
             [
              0.8888888888888888,
              "#fdca26"
             ],
             [
              1,
              "#f0f921"
             ]
            ],
            "type": "heatmapgl"
           }
          ],
          "histogram": [
           {
            "marker": {
             "pattern": {
              "fillmode": "overlay",
              "size": 10,
              "solidity": 0.2
             }
            },
            "type": "histogram"
           }
          ],
          "histogram2d": [
           {
            "colorbar": {
             "outlinewidth": 0,
             "ticks": ""
            },
            "colorscale": [
             [
              0,
              "#0d0887"
             ],
             [
              0.1111111111111111,
              "#46039f"
             ],
             [
              0.2222222222222222,
              "#7201a8"
             ],
             [
              0.3333333333333333,
              "#9c179e"
             ],
             [
              0.4444444444444444,
              "#bd3786"
             ],
             [
              0.5555555555555556,
              "#d8576b"
             ],
             [
              0.6666666666666666,
              "#ed7953"
             ],
             [
              0.7777777777777778,
              "#fb9f3a"
             ],
             [
              0.8888888888888888,
              "#fdca26"
             ],
             [
              1,
              "#f0f921"
             ]
            ],
            "type": "histogram2d"
           }
          ],
          "histogram2dcontour": [
           {
            "colorbar": {
             "outlinewidth": 0,
             "ticks": ""
            },
            "colorscale": [
             [
              0,
              "#0d0887"
             ],
             [
              0.1111111111111111,
              "#46039f"
             ],
             [
              0.2222222222222222,
              "#7201a8"
             ],
             [
              0.3333333333333333,
              "#9c179e"
             ],
             [
              0.4444444444444444,
              "#bd3786"
             ],
             [
              0.5555555555555556,
              "#d8576b"
             ],
             [
              0.6666666666666666,
              "#ed7953"
             ],
             [
              0.7777777777777778,
              "#fb9f3a"
             ],
             [
              0.8888888888888888,
              "#fdca26"
             ],
             [
              1,
              "#f0f921"
             ]
            ],
            "type": "histogram2dcontour"
           }
          ],
          "mesh3d": [
           {
            "colorbar": {
             "outlinewidth": 0,
             "ticks": ""
            },
            "type": "mesh3d"
           }
          ],
          "parcoords": [
           {
            "line": {
             "colorbar": {
              "outlinewidth": 0,
              "ticks": ""
             }
            },
            "type": "parcoords"
           }
          ],
          "pie": [
           {
            "automargin": true,
            "type": "pie"
           }
          ],
          "scatter": [
           {
            "fillpattern": {
             "fillmode": "overlay",
             "size": 10,
             "solidity": 0.2
            },
            "type": "scatter"
           }
          ],
          "scatter3d": [
           {
            "line": {
             "colorbar": {
              "outlinewidth": 0,
              "ticks": ""
             }
            },
            "marker": {
             "colorbar": {
              "outlinewidth": 0,
              "ticks": ""
             }
            },
            "type": "scatter3d"
           }
          ],
          "scattercarpet": [
           {
            "marker": {
             "colorbar": {
              "outlinewidth": 0,
              "ticks": ""
             }
            },
            "type": "scattercarpet"
           }
          ],
          "scattergeo": [
           {
            "marker": {
             "colorbar": {
              "outlinewidth": 0,
              "ticks": ""
             }
            },
            "type": "scattergeo"
           }
          ],
          "scattergl": [
           {
            "marker": {
             "colorbar": {
              "outlinewidth": 0,
              "ticks": ""
             }
            },
            "type": "scattergl"
           }
          ],
          "scattermapbox": [
           {
            "marker": {
             "colorbar": {
              "outlinewidth": 0,
              "ticks": ""
             }
            },
            "type": "scattermapbox"
           }
          ],
          "scatterpolar": [
           {
            "marker": {
             "colorbar": {
              "outlinewidth": 0,
              "ticks": ""
             }
            },
            "type": "scatterpolar"
           }
          ],
          "scatterpolargl": [
           {
            "marker": {
             "colorbar": {
              "outlinewidth": 0,
              "ticks": ""
             }
            },
            "type": "scatterpolargl"
           }
          ],
          "scatterternary": [
           {
            "marker": {
             "colorbar": {
              "outlinewidth": 0,
              "ticks": ""
             }
            },
            "type": "scatterternary"
           }
          ],
          "surface": [
           {
            "colorbar": {
             "outlinewidth": 0,
             "ticks": ""
            },
            "colorscale": [
             [
              0,
              "#0d0887"
             ],
             [
              0.1111111111111111,
              "#46039f"
             ],
             [
              0.2222222222222222,
              "#7201a8"
             ],
             [
              0.3333333333333333,
              "#9c179e"
             ],
             [
              0.4444444444444444,
              "#bd3786"
             ],
             [
              0.5555555555555556,
              "#d8576b"
             ],
             [
              0.6666666666666666,
              "#ed7953"
             ],
             [
              0.7777777777777778,
              "#fb9f3a"
             ],
             [
              0.8888888888888888,
              "#fdca26"
             ],
             [
              1,
              "#f0f921"
             ]
            ],
            "type": "surface"
           }
          ],
          "table": [
           {
            "cells": {
             "fill": {
              "color": "#EBF0F8"
             },
             "line": {
              "color": "white"
             }
            },
            "header": {
             "fill": {
              "color": "#C8D4E3"
             },
             "line": {
              "color": "white"
             }
            },
            "type": "table"
           }
          ]
         },
         "layout": {
          "annotationdefaults": {
           "arrowcolor": "#2a3f5f",
           "arrowhead": 0,
           "arrowwidth": 1
          },
          "autotypenumbers": "strict",
          "coloraxis": {
           "colorbar": {
            "outlinewidth": 0,
            "ticks": ""
           }
          },
          "colorscale": {
           "diverging": [
            [
             0,
             "#8e0152"
            ],
            [
             0.1,
             "#c51b7d"
            ],
            [
             0.2,
             "#de77ae"
            ],
            [
             0.3,
             "#f1b6da"
            ],
            [
             0.4,
             "#fde0ef"
            ],
            [
             0.5,
             "#f7f7f7"
            ],
            [
             0.6,
             "#e6f5d0"
            ],
            [
             0.7,
             "#b8e186"
            ],
            [
             0.8,
             "#7fbc41"
            ],
            [
             0.9,
             "#4d9221"
            ],
            [
             1,
             "#276419"
            ]
           ],
           "sequential": [
            [
             0,
             "#0d0887"
            ],
            [
             0.1111111111111111,
             "#46039f"
            ],
            [
             0.2222222222222222,
             "#7201a8"
            ],
            [
             0.3333333333333333,
             "#9c179e"
            ],
            [
             0.4444444444444444,
             "#bd3786"
            ],
            [
             0.5555555555555556,
             "#d8576b"
            ],
            [
             0.6666666666666666,
             "#ed7953"
            ],
            [
             0.7777777777777778,
             "#fb9f3a"
            ],
            [
             0.8888888888888888,
             "#fdca26"
            ],
            [
             1,
             "#f0f921"
            ]
           ],
           "sequentialminus": [
            [
             0,
             "#0d0887"
            ],
            [
             0.1111111111111111,
             "#46039f"
            ],
            [
             0.2222222222222222,
             "#7201a8"
            ],
            [
             0.3333333333333333,
             "#9c179e"
            ],
            [
             0.4444444444444444,
             "#bd3786"
            ],
            [
             0.5555555555555556,
             "#d8576b"
            ],
            [
             0.6666666666666666,
             "#ed7953"
            ],
            [
             0.7777777777777778,
             "#fb9f3a"
            ],
            [
             0.8888888888888888,
             "#fdca26"
            ],
            [
             1,
             "#f0f921"
            ]
           ]
          },
          "colorway": [
           "#636efa",
           "#EF553B",
           "#00cc96",
           "#ab63fa",
           "#FFA15A",
           "#19d3f3",
           "#FF6692",
           "#B6E880",
           "#FF97FF",
           "#FECB52"
          ],
          "font": {
           "color": "#2a3f5f"
          },
          "geo": {
           "bgcolor": "white",
           "lakecolor": "white",
           "landcolor": "#E5ECF6",
           "showlakes": true,
           "showland": true,
           "subunitcolor": "white"
          },
          "hoverlabel": {
           "align": "left"
          },
          "hovermode": "closest",
          "mapbox": {
           "style": "light"
          },
          "paper_bgcolor": "white",
          "plot_bgcolor": "#E5ECF6",
          "polar": {
           "angularaxis": {
            "gridcolor": "white",
            "linecolor": "white",
            "ticks": ""
           },
           "bgcolor": "#E5ECF6",
           "radialaxis": {
            "gridcolor": "white",
            "linecolor": "white",
            "ticks": ""
           }
          },
          "scene": {
           "xaxis": {
            "backgroundcolor": "#E5ECF6",
            "gridcolor": "white",
            "gridwidth": 2,
            "linecolor": "white",
            "showbackground": true,
            "ticks": "",
            "zerolinecolor": "white"
           },
           "yaxis": {
            "backgroundcolor": "#E5ECF6",
            "gridcolor": "white",
            "gridwidth": 2,
            "linecolor": "white",
            "showbackground": true,
            "ticks": "",
            "zerolinecolor": "white"
           },
           "zaxis": {
            "backgroundcolor": "#E5ECF6",
            "gridcolor": "white",
            "gridwidth": 2,
            "linecolor": "white",
            "showbackground": true,
            "ticks": "",
            "zerolinecolor": "white"
           }
          },
          "shapedefaults": {
           "line": {
            "color": "#2a3f5f"
           }
          },
          "ternary": {
           "aaxis": {
            "gridcolor": "white",
            "linecolor": "white",
            "ticks": ""
           },
           "baxis": {
            "gridcolor": "white",
            "linecolor": "white",
            "ticks": ""
           },
           "bgcolor": "#E5ECF6",
           "caxis": {
            "gridcolor": "white",
            "linecolor": "white",
            "ticks": ""
           }
          },
          "title": {
           "x": 0.05
          },
          "xaxis": {
           "automargin": true,
           "gridcolor": "white",
           "linecolor": "white",
           "ticks": "",
           "title": {
            "standoff": 15
           },
           "zerolinecolor": "white",
           "zerolinewidth": 2
          },
          "yaxis": {
           "automargin": true,
           "gridcolor": "white",
           "linecolor": "white",
           "ticks": "",
           "title": {
            "standoff": 15
           },
           "zerolinecolor": "white",
           "zerolinewidth": 2
          }
         }
        },
        "width": 1200
       }
      }
     },
     "metadata": {},
     "output_type": "display_data"
    }
   ],
   "source": [
    "specs = [[{'type':'domain'}] * 2]\n",
    "fig = make_subplots(rows=1, cols=2, specs=specs, subplot_titles=['JoinQuant Asset Type', 'JoinQuant Operation Mode'])\n",
    "fig.add_trace(go.Pie(labels=final_main_info.underlying_asset_type.value_counts().index, values=final_main_info.underlying_asset_type.value_counts().values), 1, 1)\n",
    "fig.add_trace(go.Pie(labels=final_main_info.operate_mode.value_counts().index, values=final_main_info.operate_mode.value_counts().values), 1, 2)\n",
    "fig.update_traces(textposition='inside', textinfo='percent+label')\n",
    "fig.update(layout_showlegend=False)\n",
    "fig.update_layout(width=1200, height=500)"
   ]
  },
  {
   "cell_type": "markdown",
   "metadata": {},
   "source": [
    "### 1. static filtering"
   ]
  },
  {
   "cell_type": "markdown",
   "metadata": {},
   "source": [
    "（1）基金类别为“股票型基金”或“混合型基金”；\n"
   ]
  },
  {
   "cell_type": "markdown",
   "metadata": {},
   "source": [
    "（2）基金非 ETF 类基金、非 QDII 类基金\n",
    "\n",
    "<!-- （4）主动管理标识为 1 或者为空； -->"
   ]
  },
  {
   "cell_type": "code",
   "execution_count": 41,
   "metadata": {},
   "outputs": [
    {
     "data": {
      "text/html": [
       "<div>\n",
       "<style scoped>\n",
       "    .dataframe tbody tr th:only-of-type {\n",
       "        vertical-align: middle;\n",
       "    }\n",
       "\n",
       "    .dataframe tbody tr th {\n",
       "        vertical-align: top;\n",
       "    }\n",
       "\n",
       "    .dataframe thead th {\n",
       "        text-align: right;\n",
       "    }\n",
       "</style>\n",
       "<table border=\"1\" class=\"dataframe\">\n",
       "  <thead>\n",
       "    <tr style=\"text-align: right;\">\n",
       "      <th></th>\n",
       "      <th>main_code</th>\n",
       "      <th>operate_mode</th>\n",
       "      <th>underlying_asset_type</th>\n",
       "      <th>start_date</th>\n",
       "    </tr>\n",
       "  </thead>\n",
       "  <tbody>\n",
       "    <tr>\n",
       "      <th>0</th>\n",
       "      <td>000001</td>\n",
       "      <td>开放式基金</td>\n",
       "      <td>混合型</td>\n",
       "      <td>2001-12</td>\n",
       "    </tr>\n",
       "    <tr>\n",
       "      <th>1</th>\n",
       "      <td>000003</td>\n",
       "      <td>开放式基金</td>\n",
       "      <td>债券型</td>\n",
       "      <td>2013-03</td>\n",
       "    </tr>\n",
       "    <tr>\n",
       "      <th>2</th>\n",
       "      <td>000004</td>\n",
       "      <td>开放式基金</td>\n",
       "      <td>债券型</td>\n",
       "      <td>2013-03</td>\n",
       "    </tr>\n",
       "    <tr>\n",
       "      <th>3</th>\n",
       "      <td>000005</td>\n",
       "      <td>开放式基金</td>\n",
       "      <td>债券型</td>\n",
       "      <td>2013-03</td>\n",
       "    </tr>\n",
       "    <tr>\n",
       "      <th>4</th>\n",
       "      <td>000006</td>\n",
       "      <td>开放式基金</td>\n",
       "      <td>混合型</td>\n",
       "      <td>2019-03</td>\n",
       "    </tr>\n",
       "    <tr>\n",
       "      <th>...</th>\n",
       "      <td>...</td>\n",
       "      <td>...</td>\n",
       "      <td>...</td>\n",
       "      <td>...</td>\n",
       "    </tr>\n",
       "    <tr>\n",
       "      <th>16387</th>\n",
       "      <td>968083</td>\n",
       "      <td>开放式基金</td>\n",
       "      <td>债券型</td>\n",
       "      <td>2020-04</td>\n",
       "    </tr>\n",
       "    <tr>\n",
       "      <th>16388</th>\n",
       "      <td>968084</td>\n",
       "      <td>开放式基金</td>\n",
       "      <td>债券型</td>\n",
       "      <td>2020-04</td>\n",
       "    </tr>\n",
       "    <tr>\n",
       "      <th>16389</th>\n",
       "      <td>968085</td>\n",
       "      <td>开放式基金</td>\n",
       "      <td>债券型</td>\n",
       "      <td>2020-04</td>\n",
       "    </tr>\n",
       "    <tr>\n",
       "      <th>16390</th>\n",
       "      <td>968086</td>\n",
       "      <td>开放式基金</td>\n",
       "      <td>债券型</td>\n",
       "      <td>2020-04</td>\n",
       "    </tr>\n",
       "    <tr>\n",
       "      <th>16391</th>\n",
       "      <td>968087</td>\n",
       "      <td>开放式基金</td>\n",
       "      <td>债券型</td>\n",
       "      <td>2020-04</td>\n",
       "    </tr>\n",
       "  </tbody>\n",
       "</table>\n",
       "<p>16392 rows × 4 columns</p>\n",
       "</div>"
      ],
      "text/plain": [
       "      main_code operate_mode underlying_asset_type start_date\n",
       "0        000001        开放式基金                   混合型    2001-12\n",
       "1        000003        开放式基金                   债券型    2013-03\n",
       "2        000004        开放式基金                   债券型    2013-03\n",
       "3        000005        开放式基金                   债券型    2013-03\n",
       "4        000006        开放式基金                   混合型    2019-03\n",
       "...         ...          ...                   ...        ...\n",
       "16387    968083        开放式基金                   债券型    2020-04\n",
       "16388    968084        开放式基金                   债券型    2020-04\n",
       "16389    968085        开放式基金                   债券型    2020-04\n",
       "16390    968086        开放式基金                   债券型    2020-04\n",
       "16391    968087        开放式基金                   债券型    2020-04\n",
       "\n",
       "[16392 rows x 4 columns]"
      ]
     },
     "execution_count": 41,
     "metadata": {},
     "output_type": "execute_result"
    }
   ],
   "source": [
    "final_main_info"
   ]
  },
  {
   "cell_type": "code",
   "execution_count": 42,
   "metadata": {},
   "outputs": [
    {
     "data": {
      "text/plain": [
       "array([0.62005857, 0.93191801])"
      ]
     },
     "execution_count": 42,
     "metadata": {},
     "output_type": "execute_result"
    }
   ],
   "source": [
    "filter_1 = np.logical_or(final_main_info.underlying_asset_type == '股票型', final_main_info.underlying_asset_type == '混合型')\n",
    "filter_2 = np.logical_and(final_main_info.operate_mode != 'ETF', final_main_info.operate_mode != 'QDII')\n",
    "\n",
    "filters = [(1, filter_1), (2, filter_2)]\n",
    "np.array(list(map(lambda _: _[1].sum(), filters))) / len(final_main_info)\n",
    "\n",
    "# proportional data left"
   ]
  },
  {
   "cell_type": "code",
   "execution_count": 43,
   "metadata": {},
   "outputs": [
    {
     "name": "stdout",
     "output_type": "stream",
     "text": [
      "filter 1: 16392 to 10164\n",
      "filter 2: 10164 to 9253\n"
     ]
    }
   ],
   "source": [
    "\n",
    "def func(previous, now):\n",
    "    if type(previous) == tuple:\n",
    "        print(f'filter {previous[0]}: {len(final_main_info)} to {previous[1].sum()}')\n",
    "        temp = np.logical_and(previous[1], now[1])\n",
    "        print(f'filter {now[0]}: {previous[1].sum()} to {temp.sum()}')\n",
    "        return temp\n",
    "    else:\n",
    "        temp = np.logical_and(previous, now[1])\n",
    "        print(f'filter {now[0]}: {previous.sum()} to {temp.sum()}')\n",
    "        return temp\n",
    "\n",
    "\n",
    "filters_ = reduce(func, filters)"
   ]
  },
  {
   "cell_type": "code",
   "execution_count": 44,
   "metadata": {},
   "outputs": [
    {
     "data": {
      "text/html": [
       "<div>\n",
       "<style scoped>\n",
       "    .dataframe tbody tr th:only-of-type {\n",
       "        vertical-align: middle;\n",
       "    }\n",
       "\n",
       "    .dataframe tbody tr th {\n",
       "        vertical-align: top;\n",
       "    }\n",
       "\n",
       "    .dataframe thead th {\n",
       "        text-align: right;\n",
       "    }\n",
       "</style>\n",
       "<table border=\"1\" class=\"dataframe\">\n",
       "  <thead>\n",
       "    <tr style=\"text-align: right;\">\n",
       "      <th></th>\n",
       "      <th>operate_mode</th>\n",
       "      <th>underlying_asset_type</th>\n",
       "      <th>start_date</th>\n",
       "    </tr>\n",
       "    <tr>\n",
       "      <th>main_code</th>\n",
       "      <th></th>\n",
       "      <th></th>\n",
       "      <th></th>\n",
       "    </tr>\n",
       "  </thead>\n",
       "  <tbody>\n",
       "    <tr>\n",
       "      <th>000001</th>\n",
       "      <td>开放式基金</td>\n",
       "      <td>混合型</td>\n",
       "      <td>2001-12</td>\n",
       "    </tr>\n",
       "    <tr>\n",
       "      <th>000006</th>\n",
       "      <td>开放式基金</td>\n",
       "      <td>混合型</td>\n",
       "      <td>2019-03</td>\n",
       "    </tr>\n",
       "    <tr>\n",
       "      <th>000011</th>\n",
       "      <td>开放式基金</td>\n",
       "      <td>混合型</td>\n",
       "      <td>2004-08</td>\n",
       "    </tr>\n",
       "    <tr>\n",
       "      <th>000017</th>\n",
       "      <td>开放式基金</td>\n",
       "      <td>混合型</td>\n",
       "      <td>2013-03</td>\n",
       "    </tr>\n",
       "    <tr>\n",
       "      <th>000020</th>\n",
       "      <td>开放式基金</td>\n",
       "      <td>混合型</td>\n",
       "      <td>2013-03</td>\n",
       "    </tr>\n",
       "    <tr>\n",
       "      <th>...</th>\n",
       "      <td>...</td>\n",
       "      <td>...</td>\n",
       "      <td>...</td>\n",
       "    </tr>\n",
       "    <tr>\n",
       "      <th>968045</th>\n",
       "      <td>开放式基金</td>\n",
       "      <td>股票型</td>\n",
       "      <td>2019-03</td>\n",
       "    </tr>\n",
       "    <tr>\n",
       "      <th>968046</th>\n",
       "      <td>开放式基金</td>\n",
       "      <td>股票型</td>\n",
       "      <td>2019-03</td>\n",
       "    </tr>\n",
       "    <tr>\n",
       "      <th>968047</th>\n",
       "      <td>开放式基金</td>\n",
       "      <td>股票型</td>\n",
       "      <td>2019-03</td>\n",
       "    </tr>\n",
       "    <tr>\n",
       "      <th>968048</th>\n",
       "      <td>开放式基金</td>\n",
       "      <td>股票型</td>\n",
       "      <td>2019-03</td>\n",
       "    </tr>\n",
       "    <tr>\n",
       "      <th>968049</th>\n",
       "      <td>开放式基金</td>\n",
       "      <td>股票型</td>\n",
       "      <td>2019-03</td>\n",
       "    </tr>\n",
       "  </tbody>\n",
       "</table>\n",
       "<p>9253 rows × 3 columns</p>\n",
       "</div>"
      ],
      "text/plain": [
       "          operate_mode underlying_asset_type start_date\n",
       "main_code                                              \n",
       "000001           开放式基金                   混合型    2001-12\n",
       "000006           开放式基金                   混合型    2019-03\n",
       "000011           开放式基金                   混合型    2004-08\n",
       "000017           开放式基金                   混合型    2013-03\n",
       "000020           开放式基金                   混合型    2013-03\n",
       "...                ...                   ...        ...\n",
       "968045           开放式基金                   股票型    2019-03\n",
       "968046           开放式基金                   股票型    2019-03\n",
       "968047           开放式基金                   股票型    2019-03\n",
       "968048           开放式基金                   股票型    2019-03\n",
       "968049           开放式基金                   股票型    2019-03\n",
       "\n",
       "[9253 rows x 3 columns]"
      ]
     },
     "execution_count": 44,
     "metadata": {},
     "output_type": "execute_result"
    }
   ],
   "source": [
    "final_main_info = final_main_info[filters_]\n",
    "final_main_info.set_index('main_code').sort_index()"
   ]
  },
  {
   "cell_type": "markdown",
   "metadata": {},
   "source": [
    "### 2. big table\n",
    "\n",
    "from `code` indexed only to `code-month` multiIndex"
   ]
  },
  {
   "cell_type": "code",
   "execution_count": 45,
   "metadata": {},
   "outputs": [
    {
     "data": {
      "text/html": [
       "<div>\n",
       "<style scoped>\n",
       "    .dataframe tbody tr th:only-of-type {\n",
       "        vertical-align: middle;\n",
       "    }\n",
       "\n",
       "    .dataframe tbody tr th {\n",
       "        vertical-align: top;\n",
       "    }\n",
       "\n",
       "    .dataframe thead th {\n",
       "        text-align: right;\n",
       "    }\n",
       "</style>\n",
       "<table border=\"1\" class=\"dataframe\">\n",
       "  <thead>\n",
       "    <tr style=\"text-align: right;\">\n",
       "      <th></th>\n",
       "      <th></th>\n",
       "      <th>operate_mode</th>\n",
       "      <th>underlying_asset_type</th>\n",
       "      <th>start_date</th>\n",
       "    </tr>\n",
       "    <tr>\n",
       "      <th>Symbol</th>\n",
       "      <th>Date</th>\n",
       "      <th></th>\n",
       "      <th></th>\n",
       "      <th></th>\n",
       "    </tr>\n",
       "  </thead>\n",
       "  <tbody>\n",
       "    <tr>\n",
       "      <th rowspan=\"5\" valign=\"top\">000001</th>\n",
       "      <th>2001-12</th>\n",
       "      <td>开放式基金</td>\n",
       "      <td>混合型</td>\n",
       "      <td>2001-12</td>\n",
       "    </tr>\n",
       "    <tr>\n",
       "      <th>2002-01</th>\n",
       "      <td>开放式基金</td>\n",
       "      <td>混合型</td>\n",
       "      <td>2001-12</td>\n",
       "    </tr>\n",
       "    <tr>\n",
       "      <th>2002-02</th>\n",
       "      <td>开放式基金</td>\n",
       "      <td>混合型</td>\n",
       "      <td>2001-12</td>\n",
       "    </tr>\n",
       "    <tr>\n",
       "      <th>2002-03</th>\n",
       "      <td>开放式基金</td>\n",
       "      <td>混合型</td>\n",
       "      <td>2001-12</td>\n",
       "    </tr>\n",
       "    <tr>\n",
       "      <th>2002-04</th>\n",
       "      <td>开放式基金</td>\n",
       "      <td>混合型</td>\n",
       "      <td>2001-12</td>\n",
       "    </tr>\n",
       "    <tr>\n",
       "      <th>...</th>\n",
       "      <th>...</th>\n",
       "      <td>...</td>\n",
       "      <td>...</td>\n",
       "      <td>...</td>\n",
       "    </tr>\n",
       "    <tr>\n",
       "      <th rowspan=\"5\" valign=\"top\">968049</th>\n",
       "      <th>2022-05</th>\n",
       "      <td>开放式基金</td>\n",
       "      <td>股票型</td>\n",
       "      <td>2019-03</td>\n",
       "    </tr>\n",
       "    <tr>\n",
       "      <th>2022-06</th>\n",
       "      <td>开放式基金</td>\n",
       "      <td>股票型</td>\n",
       "      <td>2019-03</td>\n",
       "    </tr>\n",
       "    <tr>\n",
       "      <th>2022-07</th>\n",
       "      <td>开放式基金</td>\n",
       "      <td>股票型</td>\n",
       "      <td>2019-03</td>\n",
       "    </tr>\n",
       "    <tr>\n",
       "      <th>2022-08</th>\n",
       "      <td>开放式基金</td>\n",
       "      <td>股票型</td>\n",
       "      <td>2019-03</td>\n",
       "    </tr>\n",
       "    <tr>\n",
       "      <th>2022-09</th>\n",
       "      <td>开放式基金</td>\n",
       "      <td>股票型</td>\n",
       "      <td>2019-03</td>\n",
       "    </tr>\n",
       "  </tbody>\n",
       "</table>\n",
       "<p>418488 rows × 3 columns</p>\n",
       "</div>"
      ],
      "text/plain": [
       "               operate_mode underlying_asset_type start_date\n",
       "Symbol Date                                                 \n",
       "000001 2001-12        开放式基金                   混合型    2001-12\n",
       "       2002-01        开放式基金                   混合型    2001-12\n",
       "       2002-02        开放式基金                   混合型    2001-12\n",
       "       2002-03        开放式基金                   混合型    2001-12\n",
       "       2002-04        开放式基金                   混合型    2001-12\n",
       "...                     ...                   ...        ...\n",
       "968049 2022-05        开放式基金                   股票型    2019-03\n",
       "       2022-06        开放式基金                   股票型    2019-03\n",
       "       2022-07        开放式基金                   股票型    2019-03\n",
       "       2022-08        开放式基金                   股票型    2019-03\n",
       "       2022-09        开放式基金                   股票型    2019-03\n",
       "\n",
       "[418488 rows x 3 columns]"
      ]
     },
     "execution_count": 45,
     "metadata": {},
     "output_type": "execute_result"
    }
   ],
   "source": [
    "indexes = pd.MultiIndex.from_product([final_main_info.main_code.sort_values().values, pd.date_range('2000-1', '2022-10', freq='M')])\n",
    "temp_codes = indexes.get_level_values(0)\n",
    "temp_date = indexes.get_level_values(1)\n",
    "main_data = pd.DataFrame(index=indexes)\n",
    "main_data['main_code'] = temp_codes\n",
    "main_data['Date'] = temp_date.to_period('M')\n",
    "main_data = pd.merge(main_data, final_main_info, on='main_code')\n",
    "main_data = main_data.rename(columns={'main_code': 'Symbol'})\n",
    "main_data = main_data.set_index(['Symbol', 'Date'])\n",
    "main_data = main_data.loc[csmar_nav_monthly[final_main_info.main_code.sort_values().values].stack().index.swaplevel()].sort_index()\n",
    "main_data"
   ]
  },
  {
   "cell_type": "markdown",
   "metadata": {},
   "source": [
    "### 3. dynamic filtering"
   ]
  },
  {
   "cell_type": "markdown",
   "metadata": {},
   "source": [
    "（3）基金上市时间超过一年\n",
    "\n",
    "（4）最近一次**二季度报/年报/半年报**~~年报或半年报~~披露的中国市场股票持股比例超过总管理规模的30%"
   ]
  },
  {
   "cell_type": "code",
   "execution_count": 46,
   "metadata": {},
   "outputs": [
    {
     "data": {
      "text/plain": [
       "'in view of 2022, filter 3: 9253 to 7157'"
      ]
     },
     "execution_count": 46,
     "metadata": {},
     "output_type": "execute_result"
    }
   ],
   "source": [
    "main_data = main_data[main_data.index.get_level_values(1) >= main_data.start_date + pd.offsets.MonthEnd(12)]\n",
    "record_shape = len(main_data.index.get_level_values(0).unique())\n",
    "f'in view of 2022, filter 3: {len(final_main_info)} to {record_shape}'"
   ]
  },
  {
   "cell_type": "markdown",
   "metadata": {},
   "source": [
    "*problem*: annual report or semi-annual report not available before 2008\n",
    "\n",
    "*reason*: regulation rule changed\n",
    "\n",
    "*solve*: add second quarter report"
   ]
  },
  {
   "cell_type": "code",
   "execution_count": 47,
   "metadata": {},
   "outputs": [
    {
     "data": {
      "image/png": "[encoded data removed]",
      "text/plain": [
       "<Figure size 1152x288 with 1 Axes>"
      ]
     },
     "metadata": {
      "needs_background": "light"
     },
     "output_type": "display_data"
    }
   ],
   "source": [
    "csmar_fund_allocation['report_type_check'] = csmar_fund_allocation.Date.dt.year\n",
    "report_type_check = csmar_fund_allocation.groupby(['MasterFundCode', 'report_type_check']).apply(lambda temp : 5 in temp.ReportTypeID.values or 6 in temp.ReportTypeID.values)\n",
    "plt.figure(figsize=(16,4))\n",
    "report_type_check_ = report_type_check.groupby(level=1).apply(lambda temp: temp.sum() / len(temp))\n",
    "year_report_count = report_type_check.groupby(level=1).apply(lambda temp: temp.sum())\n",
    "total_report_count = report_type_check.groupby(level=1).apply(lambda temp: len(temp))\n",
    "plt.scatter(x=report_type_check_.index, y=report_type_check_.values, label='Proportion for Funds Who Have Annual/Semi-Annual Report')\n",
    "temp = year_report_count.cumsum() / total_report_count.cumsum()\n",
    "plt.plot(temp.index, temp.values, label='Full Market, Cumulative Sum of Proportion for Symbols Who Have Annual/Semi-Annual Report')\n",
    "plt.legend()\n",
    "pass"
   ]
  },
  {
   "cell_type": "markdown",
   "metadata": {},
   "source": [
    "<img src=\"image/README/2008_search.png\" alt=\"drawing\" width=\"500\"/> <img src=\"image/README/2009_search.png\" alt=\"drawing\" width=\"508\"/>\n",
    "\n",
    "[中国证券监督管理委员会公告〔2008〕第4号](http://www.gov.cn/zwgk/2008-02/21/content_896020.htm)\n"
   ]
  },
  {
   "cell_type": "markdown",
   "metadata": {},
   "source": [
    "使用存在二季度报/年报/半年报的数据"
   ]
  },
  {
   "cell_type": "code",
   "execution_count": 48,
   "metadata": {},
   "outputs": [],
   "source": [
    "csmar_fund_allocation = csmar_fund_allocation[csmar_fund_allocation.ReportTypeID.isin([2, 5, 6])]\n",
    "csmar_fund_allocation = pd.merge(csmar_fund_allocation, csmar_symbol_code_mapping, on='MasterFundCode', how='left')\n",
    "csmar_fund_allocation = csmar_fund_allocation[csmar_fund_allocation.Symbol.isin(main_data.index.get_level_values(0).unique())]\n",
    "main_data = main_data.loc[csmar_fund_allocation.Symbol.unique(), slice(None)]"
   ]
  },
  {
   "cell_type": "markdown",
   "metadata": {},
   "source": [
    "中国市场股票持股比例超过总管理规模30%"
   ]
  },
  {
   "cell_type": "code",
   "execution_count": 49,
   "metadata": {},
   "outputs": [
    {
     "data": {
      "text/html": [
       "<div>\n",
       "<style scoped>\n",
       "    .dataframe tbody tr th:only-of-type {\n",
       "        vertical-align: middle;\n",
       "    }\n",
       "\n",
       "    .dataframe tbody tr th {\n",
       "        vertical-align: top;\n",
       "    }\n",
       "\n",
       "    .dataframe thead th {\n",
       "        text-align: right;\n",
       "    }\n",
       "</style>\n",
       "<table border=\"1\" class=\"dataframe\">\n",
       "  <thead>\n",
       "    <tr style=\"text-align: right;\">\n",
       "      <th></th>\n",
       "      <th></th>\n",
       "      <th>operate_mode</th>\n",
       "      <th>underlying_asset_type</th>\n",
       "      <th>start_date</th>\n",
       "    </tr>\n",
       "    <tr>\n",
       "      <th>Symbol</th>\n",
       "      <th>Date</th>\n",
       "      <th></th>\n",
       "      <th></th>\n",
       "      <th></th>\n",
       "    </tr>\n",
       "  </thead>\n",
       "  <tbody>\n",
       "    <tr>\n",
       "      <th rowspan=\"5\" valign=\"top\">000001</th>\n",
       "      <th>2003-06</th>\n",
       "      <td>开放式基金</td>\n",
       "      <td>混合型</td>\n",
       "      <td>2001-12</td>\n",
       "    </tr>\n",
       "    <tr>\n",
       "      <th>2003-07</th>\n",
       "      <td>开放式基金</td>\n",
       "      <td>混合型</td>\n",
       "      <td>2001-12</td>\n",
       "    </tr>\n",
       "    <tr>\n",
       "      <th>2003-08</th>\n",
       "      <td>开放式基金</td>\n",
       "      <td>混合型</td>\n",
       "      <td>2001-12</td>\n",
       "    </tr>\n",
       "    <tr>\n",
       "      <th>2003-09</th>\n",
       "      <td>开放式基金</td>\n",
       "      <td>混合型</td>\n",
       "      <td>2001-12</td>\n",
       "    </tr>\n",
       "    <tr>\n",
       "      <th>2003-10</th>\n",
       "      <td>开放式基金</td>\n",
       "      <td>混合型</td>\n",
       "      <td>2001-12</td>\n",
       "    </tr>\n",
       "    <tr>\n",
       "      <th>...</th>\n",
       "      <th>...</th>\n",
       "      <td>...</td>\n",
       "      <td>...</td>\n",
       "      <td>...</td>\n",
       "    </tr>\n",
       "    <tr>\n",
       "      <th rowspan=\"5\" valign=\"top\">952009</th>\n",
       "      <th>2022-05</th>\n",
       "      <td>封闭式基金</td>\n",
       "      <td>混合型</td>\n",
       "      <td>2020-01</td>\n",
       "    </tr>\n",
       "    <tr>\n",
       "      <th>2022-06</th>\n",
       "      <td>封闭式基金</td>\n",
       "      <td>混合型</td>\n",
       "      <td>2020-01</td>\n",
       "    </tr>\n",
       "    <tr>\n",
       "      <th>2022-07</th>\n",
       "      <td>封闭式基金</td>\n",
       "      <td>混合型</td>\n",
       "      <td>2020-01</td>\n",
       "    </tr>\n",
       "    <tr>\n",
       "      <th>2022-08</th>\n",
       "      <td>封闭式基金</td>\n",
       "      <td>混合型</td>\n",
       "      <td>2020-01</td>\n",
       "    </tr>\n",
       "    <tr>\n",
       "      <th>2022-09</th>\n",
       "      <td>封闭式基金</td>\n",
       "      <td>混合型</td>\n",
       "      <td>2020-01</td>\n",
       "    </tr>\n",
       "  </tbody>\n",
       "</table>\n",
       "<p>235912 rows × 3 columns</p>\n",
       "</div>"
      ],
      "text/plain": [
       "               operate_mode underlying_asset_type start_date\n",
       "Symbol Date                                                 \n",
       "000001 2003-06        开放式基金                   混合型    2001-12\n",
       "       2003-07        开放式基金                   混合型    2001-12\n",
       "       2003-08        开放式基金                   混合型    2001-12\n",
       "       2003-09        开放式基金                   混合型    2001-12\n",
       "       2003-10        开放式基金                   混合型    2001-12\n",
       "...                     ...                   ...        ...\n",
       "952009 2022-05        封闭式基金                   混合型    2020-01\n",
       "       2022-06        封闭式基金                   混合型    2020-01\n",
       "       2022-07        封闭式基金                   混合型    2020-01\n",
       "       2022-08        封闭式基金                   混合型    2020-01\n",
       "       2022-09        封闭式基金                   混合型    2020-01\n",
       "\n",
       "[235912 rows x 3 columns]"
      ]
     },
     "execution_count": 49,
     "metadata": {},
     "output_type": "execute_result"
    }
   ],
   "source": [
    "filter_4 = csmar_fund_allocation[(csmar_fund_allocation.Equity / csmar_fund_allocation.TotalAsset) > .3]\n",
    "co_index = np.intersect1d(filter_4.set_index(['Symbol', 'Date']).index, main_data.index)\n",
    "main_data['filter_4'] = np.nan\n",
    "main_data.loc[main_data.index.get_level_values(1).month == 6, 'filter_4'] = False\n",
    "main_data.loc[co_index, 'filter_4'] = True\n",
    "main_data = main_data.groupby(level=0).fillna(method='ffill').fillna(False)\n",
    "main_data = main_data[main_data.filter_4].drop('filter_4', axis=1)\n",
    "main_data"
   ]
  },
  {
   "cell_type": "code",
   "execution_count": 50,
   "metadata": {},
   "outputs": [
    {
     "data": {
      "text/plain": [
       "'in view of all time span, filter 4: 7157 to 5291'"
      ]
     },
     "execution_count": 50,
     "metadata": {},
     "output_type": "execute_result"
    }
   ],
   "source": [
    "f'in view of all time span, filter 4: {record_shape} to {len(main_data.index.get_level_values(0).unique())}'"
   ]
  },
  {
   "cell_type": "markdown",
   "metadata": {},
   "source": [
    "### 4. full data"
   ]
  },
  {
   "cell_type": "markdown",
   "metadata": {},
   "source": [
    "reset nav"
   ]
  },
  {
   "cell_type": "code",
   "execution_count": 52,
   "metadata": {},
   "outputs": [],
   "source": [
    "csmar_nav_monthly = pd.Series(csmar_nav_monthly.stack().swaplevel(), name='NAV')\n",
    "csmar_nav_monthly = pd.DataFrame(csmar_nav_monthly).reset_index()"
   ]
  },
  {
   "cell_type": "markdown",
   "metadata": {},
   "source": [
    "merge data"
   ]
  },
  {
   "cell_type": "code",
   "execution_count": 53,
   "metadata": {},
   "outputs": [],
   "source": [
    "main_data = pd.merge(main_data, csmar_nav_monthly, on=['Symbol', 'Date'], how='left').set_index(['Symbol', 'Date'])\n",
    "main_data = pd.merge(main_data, csmar_fund_dividend, on=['Symbol', 'Date'], how='left').set_index(['Symbol', 'Date'])\n",
    "main_data = pd.merge(main_data, csmar_fund_resolution, on=['Symbol', 'Date'], how='left').set_index(['Symbol', 'Date'])"
   ]
  },
  {
   "cell_type": "markdown",
   "metadata": {},
   "source": [
    "handle NA"
   ]
  },
  {
   "cell_type": "code",
   "execution_count": 54,
   "metadata": {},
   "outputs": [],
   "source": [
    "main_data['NAV'] = main_data.groupby(level=0).apply(lambda x: x.NAV.fillna(method='ffill')).droplevel(0)\n",
    "main_data['DividendperShare'] = main_data.DividendperShare.fillna(0)\n",
    "main_data['SplitRatio'] = main_data.SplitRatio.fillna(1)"
   ]
  },
  {
   "cell_type": "markdown",
   "metadata": {},
   "source": [
    "combine csmar category"
   ]
  },
  {
   "cell_type": "code",
   "execution_count": 55,
   "metadata": {},
   "outputs": [
    {
     "data": {
      "text/html": [
       "<div>\n",
       "<style scoped>\n",
       "    .dataframe tbody tr th:only-of-type {\n",
       "        vertical-align: middle;\n",
       "    }\n",
       "\n",
       "    .dataframe tbody tr th {\n",
       "        vertical-align: top;\n",
       "    }\n",
       "\n",
       "    .dataframe thead th {\n",
       "        text-align: right;\n",
       "    }\n",
       "</style>\n",
       "<table border=\"1\" class=\"dataframe\">\n",
       "  <thead>\n",
       "    <tr style=\"text-align: right;\">\n",
       "      <th></th>\n",
       "      <th></th>\n",
       "      <th>operate_mode</th>\n",
       "      <th>underlying_asset_type</th>\n",
       "      <th>start_date</th>\n",
       "      <th>Category_x</th>\n",
       "      <th>NAV</th>\n",
       "      <th>DividendperShare</th>\n",
       "      <th>SplitRatio</th>\n",
       "      <th>Category_y</th>\n",
       "    </tr>\n",
       "    <tr>\n",
       "      <th>Symbol</th>\n",
       "      <th>Date</th>\n",
       "      <th></th>\n",
       "      <th></th>\n",
       "      <th></th>\n",
       "      <th></th>\n",
       "      <th></th>\n",
       "      <th></th>\n",
       "      <th></th>\n",
       "      <th></th>\n",
       "    </tr>\n",
       "  </thead>\n",
       "  <tbody>\n",
       "    <tr>\n",
       "      <th rowspan=\"5\" valign=\"top\">000001</th>\n",
       "      <th>2003-06</th>\n",
       "      <td>开放式基金</td>\n",
       "      <td>混合型</td>\n",
       "      <td>2001-12</td>\n",
       "      <td>混合型基金</td>\n",
       "      <td>0.9730</td>\n",
       "      <td>0.033</td>\n",
       "      <td>1.0</td>\n",
       "      <td>混合型基金</td>\n",
       "    </tr>\n",
       "    <tr>\n",
       "      <th>2003-07</th>\n",
       "      <td>开放式基金</td>\n",
       "      <td>混合型</td>\n",
       "      <td>2001-12</td>\n",
       "      <td>混合型基金</td>\n",
       "      <td>0.9860</td>\n",
       "      <td>0.000</td>\n",
       "      <td>1.0</td>\n",
       "      <td>混合型基金</td>\n",
       "    </tr>\n",
       "    <tr>\n",
       "      <th>2003-08</th>\n",
       "      <td>开放式基金</td>\n",
       "      <td>混合型</td>\n",
       "      <td>2001-12</td>\n",
       "      <td>混合型基金</td>\n",
       "      <td>0.9540</td>\n",
       "      <td>0.000</td>\n",
       "      <td>1.0</td>\n",
       "      <td>混合型基金</td>\n",
       "    </tr>\n",
       "    <tr>\n",
       "      <th>2003-09</th>\n",
       "      <td>开放式基金</td>\n",
       "      <td>混合型</td>\n",
       "      <td>2001-12</td>\n",
       "      <td>混合型基金</td>\n",
       "      <td>0.9200</td>\n",
       "      <td>0.000</td>\n",
       "      <td>1.0</td>\n",
       "      <td>混合型基金</td>\n",
       "    </tr>\n",
       "    <tr>\n",
       "      <th>2003-10</th>\n",
       "      <td>开放式基金</td>\n",
       "      <td>混合型</td>\n",
       "      <td>2001-12</td>\n",
       "      <td>混合型基金</td>\n",
       "      <td>0.9360</td>\n",
       "      <td>0.000</td>\n",
       "      <td>1.0</td>\n",
       "      <td>混合型基金</td>\n",
       "    </tr>\n",
       "    <tr>\n",
       "      <th>...</th>\n",
       "      <th>...</th>\n",
       "      <td>...</td>\n",
       "      <td>...</td>\n",
       "      <td>...</td>\n",
       "      <td>...</td>\n",
       "      <td>...</td>\n",
       "      <td>...</td>\n",
       "      <td>...</td>\n",
       "      <td>...</td>\n",
       "    </tr>\n",
       "    <tr>\n",
       "      <th rowspan=\"5\" valign=\"top\">952009</th>\n",
       "      <th>2022-05</th>\n",
       "      <td>封闭式基金</td>\n",
       "      <td>混合型</td>\n",
       "      <td>2020-01</td>\n",
       "      <td>混合型基金</td>\n",
       "      <td>1.7120</td>\n",
       "      <td>0.000</td>\n",
       "      <td>1.0</td>\n",
       "      <td>混合型基金</td>\n",
       "    </tr>\n",
       "    <tr>\n",
       "      <th>2022-06</th>\n",
       "      <td>封闭式基金</td>\n",
       "      <td>混合型</td>\n",
       "      <td>2020-01</td>\n",
       "      <td>混合型基金</td>\n",
       "      <td>1.8868</td>\n",
       "      <td>0.000</td>\n",
       "      <td>1.0</td>\n",
       "      <td>混合型基金</td>\n",
       "    </tr>\n",
       "    <tr>\n",
       "      <th>2022-07</th>\n",
       "      <td>封闭式基金</td>\n",
       "      <td>混合型</td>\n",
       "      <td>2020-01</td>\n",
       "      <td>混合型基金</td>\n",
       "      <td>1.7885</td>\n",
       "      <td>0.000</td>\n",
       "      <td>1.0</td>\n",
       "      <td>混合型基金</td>\n",
       "    </tr>\n",
       "    <tr>\n",
       "      <th>2022-08</th>\n",
       "      <td>封闭式基金</td>\n",
       "      <td>混合型</td>\n",
       "      <td>2020-01</td>\n",
       "      <td>混合型基金</td>\n",
       "      <td>1.7257</td>\n",
       "      <td>0.000</td>\n",
       "      <td>1.0</td>\n",
       "      <td>混合型基金</td>\n",
       "    </tr>\n",
       "    <tr>\n",
       "      <th>2022-09</th>\n",
       "      <td>封闭式基金</td>\n",
       "      <td>混合型</td>\n",
       "      <td>2020-01</td>\n",
       "      <td>混合型基金</td>\n",
       "      <td>1.7006</td>\n",
       "      <td>0.000</td>\n",
       "      <td>1.0</td>\n",
       "      <td>混合型基金</td>\n",
       "    </tr>\n",
       "  </tbody>\n",
       "</table>\n",
       "<p>235808 rows × 8 columns</p>\n",
       "</div>"
      ],
      "text/plain": [
       "               operate_mode underlying_asset_type  ... SplitRatio Category_y\n",
       "Symbol Date                                        ...                      \n",
       "000001 2003-06        开放式基金                   混合型  ...        1.0      混合型基金\n",
       "       2003-07        开放式基金                   混合型  ...        1.0      混合型基金\n",
       "       2003-08        开放式基金                   混合型  ...        1.0      混合型基金\n",
       "       2003-09        开放式基金                   混合型  ...        1.0      混合型基金\n",
       "       2003-10        开放式基金                   混合型  ...        1.0      混合型基金\n",
       "...                     ...                   ...  ...        ...        ...\n",
       "952009 2022-05        封闭式基金                   混合型  ...        1.0      混合型基金\n",
       "       2022-06        封闭式基金                   混合型  ...        1.0      混合型基金\n",
       "       2022-07        封闭式基金                   混合型  ...        1.0      混合型基金\n",
       "       2022-08        封闭式基金                   混合型  ...        1.0      混合型基金\n",
       "       2022-09        封闭式基金                   混合型  ...        1.0      混合型基金\n",
       "\n",
       "[235808 rows x 8 columns]"
      ]
     },
     "execution_count": 55,
     "metadata": {},
     "output_type": "execute_result"
    }
   ],
   "source": [
    "csmar_category_symbol_mapping = pd.merge(csmar_maininfo[['MasterFundCode', 'Category']].drop_duplicates(), \\\n",
    "    csmar_symbol_code_mapping, on='MasterFundCode', how='left')[['Category', 'Symbol']]\n",
    "csmar_category_symbol_mapping = csmar_category_symbol_mapping.drop_duplicates().reset_index(drop=True)\n",
    "csmar_category_symbol_mapping = csmar_category_symbol_mapping.groupby('Symbol').last()\n",
    "\n",
    "main_data = pd.merge(main_data.reset_index(), csmar_category_symbol_mapping, on='Symbol').set_index(['Symbol', 'Date'])\n",
    "main_data"
   ]
  },
  {
   "cell_type": "markdown",
   "metadata": {},
   "source": [
    "## **IV. Overall Performance**"
   ]
  },
  {
   "cell_type": "markdown",
   "metadata": {},
   "source": [
    "### Return\n",
    "\n",
    "$$\n",
    "R_t^{real}=\\frac{\\left(NAV_t+Div_t\\right)*SF_t}{NAV_{t-1}*SF_{t-1}}\\tag{1}\n",
    "$$\n",
    "\n",
    "$NAV_t$ 基金在 $t$ 月末的基金净值\n",
    "\n",
    "$Div_t$ 在 $t$ 月中发放的现金分红\n",
    "\n",
    "$SF_t$ 累计拆分因子\n",
    "\n",
    "当$t$月中发生比例为$s_t$的拆分时, $SF_t=s_tSF_{t-1}$"
   ]
  },
  {
   "cell_type": "markdown",
   "metadata": {},
   "source": [
    "公式等价于\n",
    "\n",
    "$$\n",
    "R_t^{real}=\\frac{\\left(NAV_t+Div_t\\right)*s_t}{NAV_{t-1}}\\tag{2}\n",
    "$$"
   ]
  },
  {
   "cell_type": "markdown",
   "metadata": {},
   "source": [
    "#### 1. prepare"
   ]
  },
  {
   "cell_type": "code",
   "execution_count": null,
   "metadata": {},
   "outputs": [],
   "source": [
    "from functools import reduce\n",
    "\n",
    "import numpy as np\n",
    "import pandas as pd\n",
    "\n",
    "from data.CSMAR.daily_nav import csmar_nav_daily\n",
    "from data.CSMAR.Fund_Allocation import csmar_fund_allocation\n",
    "from data.CSMAR.FUND_FundCodeInfo import csmar_symbol_code_mapping\n",
    "from data.CSMAR.Fund_FundDividend import csmar_fund_dividend\n",
    "from data.CSMAR.FUND_MainInfo import csmar_maininfo\n",
    "from data.CSMAR.Fund_Resolution import csmar_fund_resolution\n",
    "from data.JoinQuant.jq_all_fund_main_info import jq_all_fund_main_info\n",
    "from data.TwoStepData.csmar_nav_monthly import csmar_nav_monthly"
   ]
  },
  {
   "cell_type": "markdown",
   "metadata": {},
   "source": [
    "NAV_shift calculation"
   ]
  },
  {
   "cell_type": "code",
   "execution_count": 58,
   "metadata": {},
   "outputs": [],
   "source": [
    "main_data['NAV_shift'] = main_data.groupby(level=0).apply(lambda x: x.NAV.shift(1)).droplevel(0)"
   ]
  },
  {
   "cell_type": "markdown",
   "metadata": {},
   "source": [
    "split into stock fund and blend fund\n",
    "\n",
    "apply formula"
   ]
  },
  {
   "cell_type": "code",
   "execution_count": 59,
   "metadata": {},
   "outputs": [],
   "source": [
    "blend_data = main_data[main_data.underlying_asset_type == '混合型']\n",
    "stock_data = main_data[main_data.underlying_asset_type == '股票型']\n",
    "\n",
    "\n",
    "return_of_csmar_stock_fund = stock_data.groupby(level=0).apply(lambda x: ((x.NAV + x.DividendperShare) * x.SplitRatio) / x.NAV_shift).droplevel(0)\n",
    "return_of_csmar_blend_fund = blend_data.groupby(level=0).apply(lambda x: ((x.NAV + x.DividendperShare) * x.SplitRatio) / x.NAV_shift).droplevel(0)\n",
    "return_of_all_fund = main_data.groupby(level=0).apply(lambda x: ((x.NAV + x.DividendperShare) * x.SplitRatio) / x.NAV_shift).droplevel(0)\n"
   ]
  },
  {
   "cell_type": "markdown",
   "metadata": {},
   "source": [
    "market value weight generation"
   ]
  },
  {
   "cell_type": "code",
   "execution_count": 60,
   "metadata": {},
   "outputs": [
    {
     "name": "stdout",
     "output_type": "stream",
     "text": [
      "[] will not be used\n"
     ]
    }
   ],
   "source": [
    "MONTH_OF_YEAR = 6\n",
    "\n",
    "csmar_share_info = csmar_share_info.drop_duplicates(subset=['Symbol', 'Date']).pivot(index='Date', columns='Symbol', values='EndDateShares')\n",
    "\n",
    "csmar_share_info_yearly = csmar_share_info[csmar_share_info.index.month == MONTH_OF_YEAR]\n",
    "csmar_nav_yearly = csmar_nav_monthly[csmar_nav_monthly.index.month == MONTH_OF_YEAR]\n",
    "\n",
    "csmar_co_time_6 = np.intersect1d(csmar_share_info_yearly.index, csmar_nav_yearly.index)\n",
    "\n",
    "csmar_blend_code_6 = np.intersect1d(csmar_nav_yearly.columns, jq_all_fund_main_info[jq_all_fund_main_info.underlying_asset_type == '混合型'].main_code.values)\n",
    "csmar_blend_code_6 = np.intersect1d(csmar_blend_code_6, csmar_share_info_yearly.columns)\n",
    "\n",
    "csmar_stock_code_6 = np.intersect1d(csmar_nav_yearly.columns, jq_all_fund_main_info[jq_all_fund_main_info.underlying_asset_type == '股票型'].main_code.values)\n",
    "csmar_stock_code_6 = np.intersect1d(csmar_stock_code_6, csmar_share_info_yearly.columns)\n",
    "\n",
    "\n",
    "\n",
    "csmar_stock_fund_weight_yearly = (csmar_share_info_yearly.loc[csmar_co_time_6, csmar_stock_code_6] * csmar_nav_yearly.loc[csmar_co_time_6, csmar_stock_code_6])\n",
    "\n",
    "csmar_stock_fund_weight_yearly = pd.concat([csmar_stock_fund_weight_yearly, \\\n",
    "    pd.DataFrame([[np.nan] * csmar_stock_fund_weight_yearly.shape[1]], index=[pd.to_datetime('2023-06').to_period('M')], columns=csmar_stock_fund_weight_yearly.columns)])\n",
    "\n",
    "csmar_stock_fund_weight_yearly = csmar_stock_fund_weight_yearly.resample('M').ffill()\n",
    "\n",
    "stock_fund_dates = return_of_csmar_stock_fund.unstack(level=0).index\n",
    "stock_fund_funds = return_of_csmar_stock_fund.unstack(level=0).columns\n",
    "\n",
    "stock_fund_new = np.setdiff1d(stock_fund_funds, csmar_stock_fund_weight_yearly.columns)\n",
    "print(f'{stock_fund_new} will not be used')\n",
    "\n",
    "stock_fund_funds = np.intersect1d(stock_fund_funds, csmar_stock_fund_weight_yearly.columns)\n",
    "\n",
    "csmar_stock_fund_weight_yearly = csmar_stock_fund_weight_yearly.loc[stock_fund_dates, stock_fund_funds]\n",
    "csmar_stock_fund_weight_yearly = csmar_stock_fund_weight_yearly.div(csmar_stock_fund_weight_yearly.sum(axis=1), axis=0)"
   ]
  },
  {
   "cell_type": "code",
   "execution_count": 61,
   "metadata": {},
   "outputs": [
    {
     "name": "stdout",
     "output_type": "stream",
     "text": [
      "['960002' '960004'] will not be used\n"
     ]
    }
   ],
   "source": [
    "\n",
    "csmar_blend_fund_weight_yearly = (csmar_share_info_yearly.loc[csmar_co_time_6, csmar_blend_code_6] * csmar_nav_yearly.loc[csmar_co_time_6, csmar_blend_code_6])\n",
    "csmar_blend_fund_weight_yearly = pd.concat([csmar_blend_fund_weight_yearly, \\\n",
    "    pd.DataFrame([[np.nan] * csmar_blend_fund_weight_yearly.shape[1]], index=[pd.to_datetime('2023-06').to_period('M')], columns=csmar_blend_fund_weight_yearly.columns)])\n",
    "csmar_blend_fund_weight_yearly = csmar_blend_fund_weight_yearly.resample('M').ffill()\n",
    "\n",
    "blend_fund_dates = return_of_csmar_blend_fund.unstack(level=0).index\n",
    "blend_fund_funds = return_of_csmar_blend_fund.unstack(level=0).columns\n",
    "\n",
    "blend_fund_new = np.setdiff1d(blend_fund_funds, csmar_blend_fund_weight_yearly.columns)\n",
    "print(f'{blend_fund_new} will not be used')\n",
    "blend_fund_funds = np.intersect1d(blend_fund_funds, csmar_blend_fund_weight_yearly.columns)\n",
    "\n",
    "csmar_blend_fund_weight_yearly = csmar_blend_fund_weight_yearly.loc[blend_fund_dates, blend_fund_funds]\n",
    "csmar_blend_fund_weight_yearly = csmar_blend_fund_weight_yearly.div(csmar_blend_fund_weight_yearly.sum(axis=1), axis=0)\n"
   ]
  },
  {
   "cell_type": "markdown",
   "metadata": {},
   "source": [
    "#### 2. analysis"
   ]
  },
  {
   "cell_type": "code",
   "execution_count": 63,
   "metadata": {},
   "outputs": [],
   "source": [
    "import matplotlib.pyplot as plt\n",
    "import pandas as pd\n",
    "import statsmodels.api as sm\n",
    "from IPython.display import display\n",
    "\n",
    "from data.SVC.svc_source import svc_source\n",
    "from data.TwoStepData.csmar_blend_fund_weight_yearly import csmar_blend_fund_weight_yearly\n",
    "from data.TwoStepData.csmar_stock_fund_weight_yearly import csmar_stock_fund_weight_yearly\n",
    "from data.TwoStepData.return_of_csmar_blend_fund import return_of_csmar_blend_fund\n",
    "from data.TwoStepData.return_of_csmar_stock_fund import return_of_csmar_stock_fund\n",
    "from data.TwoStepData.regression_source import regression_source\n",
    "from utils.functions import *\n"
   ]
  },
  {
   "cell_type": "markdown",
   "metadata": {},
   "source": [
    "use data later than 2005-06"
   ]
  },
  {
   "cell_type": "code",
   "execution_count": 64,
   "metadata": {},
   "outputs": [
    {
     "data": {
      "image/png": "[encoded data removed]",
      "text/plain": [
       "<Figure size 1728x576 with 1 Axes>"
      ]
     },
     "metadata": {
      "needs_background": "light"
     },
     "output_type": "display_data"
    }
   ],
   "source": [
    "plt.figure(figsize=(24,8))\n",
    "\n",
    "(((return_of_csmar_stock_fund.unstack(level=0) - 1) * csmar_stock_fund_weight_yearly).sum(axis=1) + 1).loc['2005-6':].cumprod().plot(label='Stock Fund Cumulative Return')\n",
    "(((return_of_csmar_blend_fund.unstack(level=0) - 1) * csmar_blend_fund_weight_yearly).sum(axis=1) + 1).loc['2005-6':].cumprod().plot(label='Blend Fund Cumulative Return')\n",
    "((svc_source.loc['2005-6': ].mktrf + svc_source.loc['2005-6': ].rf) + 1).cumprod().plot(label='Market Portfolio Cumulative Return')\n",
    "\n",
    "plt.yscale('log', base=2)\n",
    "plt.title('Market Value Weighted Fund Portfolio')\n",
    "plt.grid()\n",
    "plt.legend()\n",
    "plt.show()\n"
   ]
  },
  {
   "cell_type": "code",
   "execution_count": 65,
   "metadata": {},
   "outputs": [
    {
     "data": {
      "text/plain": [
       "<matplotlib.legend.Legend at 0x2261e4905e0>"
      ]
     },
     "execution_count": 65,
     "metadata": {},
     "output_type": "execute_result"
    },
    {
     "data": {
      "image/png": "[encoded data removed]",
      "text/plain": [
       "<Figure size 1728x576 with 2 Axes>"
      ]
     },
     "metadata": {
      "needs_background": "light"
     },
     "output_type": "display_data"
    }
   ],
   "source": [
    "fig, ax1 = plt.subplots()\n",
    "fig.set_figheight(8)\n",
    "fig.set_figwidth(24)\n",
    "(return_of_csmar_stock_fund.unstack(0) - 1).T.describe().loc['min'].plot(ax=ax1, style='.', label='min return', color='y')\n",
    "ax1.legend()\n",
    "ax1.legend(loc='upper left')\n",
    "ax1.axhline(color='y', alpha=.7)\n",
    "ax2 = ax1.twinx()\n",
    "(return_of_csmar_stock_fund.unstack(0) - 1).T.describe().loc['count'].plot(ax=ax2, label='stock fund number count')\n",
    "ax2.grid()\n",
    "ax2.set_yscale('log')\n",
    "ax2.legend(loc='upper right')"
   ]
  },
  {
   "cell_type": "code",
   "execution_count": 50,
   "metadata": {},
   "outputs": [],
   "source": [
    "# plt.figure(figsize=(24,8))\n",
    "# return_of_stock_fund.groupby(level=1).mean().loc['2005-6':].cumprod().plot(label='Stock Fund Cumulative Return')\n",
    "# return_of_blend_fund.groupby(level=1).mean().loc['2005-6':].cumprod().plot(label='Blend Fund Cumulative Return')\n",
    "# plt.yscale('log', base=2)\n",
    "# plt.title('1/N Weighted Fund Portfolio')\n",
    "# plt.grid()\n",
    "# plt.legend()"
   ]
  },
  {
   "cell_type": "markdown",
   "metadata": {},
   "source": [
    "why use data later than 2005-06?"
   ]
  },
  {
   "cell_type": "code",
   "execution_count": 67,
   "metadata": {},
   "outputs": [],
   "source": [
    "co_time = np.intersect1d(csmar_share_info.index, csmar_nav_monthly.index)\n",
    "co_stocks = np.intersect1d(csmar_share_info.columns, csmar_nav_monthly.columns)\n",
    "compare_share_info = csmar_share_info.loc[co_time, co_stocks]\n",
    "compare_nav_monthly = csmar_nav_monthly.loc[co_time, co_stocks]"
   ]
  },
  {
   "cell_type": "code",
   "execution_count": 68,
   "metadata": {},
   "outputs": [
    {
     "data": {
      "text/plain": [
       "<matplotlib.lines.Line2D at 0x225f1dd6770>"
      ]
     },
     "execution_count": 68,
     "metadata": {},
     "output_type": "execute_result"
    },
    {
     "data": {
      "image/png": "[encoded data removed]",
      "text/plain": [
       "<Figure size 1728x576 with 2 Axes>"
      ]
     },
     "metadata": {
      "needs_background": "light"
     },
     "output_type": "display_data"
    }
   ],
   "source": [
    "filled_share_info = compare_share_info.fillna(method='ffill')\n",
    "fig, ax1 = plt.subplots()\n",
    "fig.set_figheight(8)\n",
    "fig.set_figwidth(24)\n",
    "def na_compare(row):\n",
    "    date = row.name\n",
    "    available_funds = row.dropna().index\n",
    "    selected_share_info = (row * filled_share_info.loc[date]).dropna()\n",
    "    available_share_funds = selected_share_info.index\n",
    "\n",
    "    return [len(available_share_funds), len(available_funds)]\n",
    "\n",
    "temp = np.array(list(compare_nav_monthly.apply(na_compare, axis=1).values))\n",
    "ax1.plot(compare_nav_monthly.index.astype(np.datetime64), temp[:, 0], label='Left Axis, Full Market, Share, non-NA Fund Number Count')\n",
    "ax1.plot(compare_nav_monthly.index.astype(np.datetime64), temp[:, 1], label='Left Axis, Full Market, NAV non-NA Fund Number Count')\n",
    "ax1.legend(loc='center left')\n",
    "ax1.grid(linewidth=.5)\n",
    "\n",
    "ax2 = ax1.twinx()\n",
    "\n",
    "pd.Series(temp[:, 0] / temp[:, 1] ,index=compare_nav_monthly.index.astype(np.datetime64)).plot(style='.', label='Right Axis, Full Market, Share, non-NA Fund Number Count, divide by NAV, non-NA Fund Number Count')\n",
    "plt.title('Full Market, Share NA value && NAV NA value')\n",
    "ax2.legend(loc='lower right')\n",
    "\n",
    "ax2.axhline(y=1, color='grey', alpha=.7)\n"
   ]
  },
  {
   "cell_type": "markdown",
   "metadata": {},
   "source": [
    "Size effect in fund?"
   ]
  },
  {
   "cell_type": "code",
   "execution_count": 69,
   "metadata": {},
   "outputs": [
    {
     "data": {
      "image/png": "[encoded data removed]",
      "text/plain": [
       "<Figure size 1728x576 with 1 Axes>"
      ]
     },
     "metadata": {
      "needs_background": "light"
     },
     "output_type": "display_data"
    }
   ],
   "source": [
    "stock_fund_weight_ = (csmar_share_info_yearly.loc[csmar_co_time_6, csmar_stock_code_6] * csmar_nav_yearly.loc[csmar_co_time_6, csmar_stock_code_6])\n",
    "stock_fund_weight_ = pd.concat([stock_fund_weight_, \\\n",
    "    pd.DataFrame([[np.nan] * stock_fund_weight_.shape[1]], index=[pd.to_datetime('2023-06').to_period('M')], columns=stock_fund_weight_.columns)])\n",
    "stock_fund_weight_ = stock_fund_weight_.resample('M').ffill()\n",
    "\n",
    "groups = 3\n",
    "ret_stock_fund = return_of_csmar_stock_fund.unstack(0) - 1\n",
    "stock_fund_groups = stock_fund_weight_.dropna(how='all').apply(lambda x: pd.qcut(x, groups, labels=np.arange(groups)) if not pd.isna(x).all() else x, axis=1)\n",
    "co_time = np.intersect1d(stock_fund_groups.index, ret_stock_fund.index)\n",
    "co_stocks = np.intersect1d(stock_fund_groups.columns, ret_stock_fund.columns)\n",
    "\n",
    "stock_fund_groups = stock_fund_groups.loc[co_time, co_stocks]\n",
    "ret_stock_fund = ret_stock_fund.loc[co_time, co_stocks]\n",
    "\n",
    "def func(x):\n",
    "    date = x.name\n",
    "    result = pd.DataFrame([x, stock_fund_groups.loc[date]], index=['return', 'rank']).T.groupby('rank').mean().iloc[:, 0]\n",
    "    if result.shape[0] < groups:\n",
    "        \n",
    "        return pd.Series([np.nan] * groups, name=date)\n",
    "    else:\n",
    "        return result\n",
    "\n",
    "stock_grouped_return = ret_stock_fund.apply(func, axis=1).dropna()\n",
    "plt.figure(figsize=(24, 8))\n",
    "plt.title(f'Cumulative Return in Long-Short Stock Funds, {groups} Groups')\n",
    "(stock_grouped_return.iloc[:, -1] - stock_grouped_return.iloc[:, 0] + 1).cumprod().plot()\n",
    "plt.grid()"
   ]
  },
  {
   "cell_type": "code",
   "execution_count": 70,
   "metadata": {},
   "outputs": [
    {
     "data": {
      "text/plain": [
       "Ttest_1sampResult(statistic=-0.4363630368132899, pvalue=0.6684848318998369)"
      ]
     },
     "execution_count": 70,
     "metadata": {},
     "output_type": "execute_result"
    }
   ],
   "source": [
    "stats.ttest_1samp((stock_grouped_return.iloc[:, -1] - stock_grouped_return.iloc[:, 0]).dropna(), 0, alternative ='greater')"
   ]
  },
  {
   "cell_type": "code",
   "execution_count": 71,
   "metadata": {},
   "outputs": [
    {
     "data": {
      "image/png": "[encoded data removed]",
      "text/plain": [
       "<Figure size 1728x576 with 1 Axes>"
      ]
     },
     "metadata": {
      "needs_background": "light"
     },
     "output_type": "display_data"
    }
   ],
   "source": [
    "blend_fund_weight_ = (csmar_share_info_yearly.loc[csmar_co_time_6, csmar_blend_code_6] * csmar_nav_yearly.loc[csmar_co_time_6, csmar_blend_code_6])\n",
    "blend_fund_weight_ = pd.concat([blend_fund_weight_, \\\n",
    "    pd.DataFrame([[np.nan] * blend_fund_weight_.shape[1]], index=[pd.to_datetime('2023-06').to_period('M')], columns=blend_fund_weight_.columns)])\n",
    "blend_fund_weight_ = blend_fund_weight_.resample('M').ffill()\n",
    "\n",
    "groups = 3\n",
    "ret_blend_fund = return_of_csmar_blend_fund.unstack(0) - 1\n",
    "blend_fund_groups = blend_fund_weight_.dropna(how='all').apply(lambda x: pd.qcut(x, groups, labels=np.arange(groups)) if not pd.isna(x).all() else x, axis=1)\n",
    "co_time = np.intersect1d(blend_fund_groups.index, ret_blend_fund.index)\n",
    "co_stocks = np.intersect1d(blend_fund_groups.columns, ret_blend_fund.columns)\n",
    "\n",
    "blend_fund_groups = blend_fund_groups.loc[co_time, co_stocks]\n",
    "ret_blend_fund = ret_blend_fund.loc[co_time, co_stocks]\n",
    "\n",
    "def func(x):\n",
    "    date = x.name\n",
    "    result = pd.DataFrame([x, blend_fund_groups.loc[date]], index=['return', 'rank']).T.groupby('rank').mean().iloc[:, 0]\n",
    "    if result.shape[0] < groups:\n",
    "        \n",
    "        return pd.Series([np.nan] * groups, name=date)\n",
    "    else:\n",
    "        return result\n",
    "plt.figure(figsize=(24, 8))\n",
    "plt.title(f'Cumulative Return in Long-Short Blend Funds, {groups} Groups')\n",
    "blend_grouped_return = ret_blend_fund.apply(func, axis=1).dropna()\n",
    "\n",
    "(blend_grouped_return.iloc[:, -1] - blend_grouped_return.iloc[:, 0] + 1).cumprod().plot()\n",
    "plt.grid()"
   ]
  },
  {
   "cell_type": "code",
   "execution_count": 72,
   "metadata": {},
   "outputs": [
    {
     "data": {
      "text/plain": [
       "Ttest_1sampResult(statistic=-1.0531885059552117, pvalue=0.85328973176576)"
      ]
     },
     "execution_count": 72,
     "metadata": {},
     "output_type": "execute_result"
    }
   ],
   "source": [
    "stats.ttest_1samp((blend_grouped_return.iloc[:, -1] - blend_grouped_return.iloc[:, 0]).dropna(), 0, alternative ='greater')"
   ]
  },
  {
   "cell_type": "markdown",
   "metadata": {},
   "source": [
    "### Regression"
   ]
  },
  {
   "cell_type": "code",
   "execution_count": null,
   "metadata": {},
   "outputs": [],
   "source": [
    "import pickle\n",
    "import pandas as pd\n",
    "\n",
    "from data.SVC.svc_source import svc_source\n",
    "from data.TwoStepData.csmar_blend_fund_weight_yearly import csmar_blend_fund_weight_yearly\n",
    "from data.TwoStepData.csmar_stock_fund_weight_yearly import csmar_stock_fund_weight_yearly\n",
    "from data.TwoStepData.return_of_csmar_blend_fund import return_of_csmar_blend_fund\n",
    "from data.TwoStepData.return_of_csmar_stock_fund import return_of_csmar_stock_fund"
   ]
  },
  {
   "cell_type": "markdown",
   "metadata": {},
   "source": [
    "regression table construction"
   ]
  },
  {
   "cell_type": "code",
   "execution_count": 76,
   "metadata": {},
   "outputs": [
    {
     "data": {
      "text/html": [
       "<div>\n",
       "<style scoped>\n",
       "    .dataframe tbody tr th:only-of-type {\n",
       "        vertical-align: middle;\n",
       "    }\n",
       "\n",
       "    .dataframe tbody tr th {\n",
       "        vertical-align: top;\n",
       "    }\n",
       "\n",
       "    .dataframe thead th {\n",
       "        text-align: right;\n",
       "    }\n",
       "</style>\n",
       "<table border=\"1\" class=\"dataframe\">\n",
       "  <thead>\n",
       "    <tr style=\"text-align: right;\">\n",
       "      <th></th>\n",
       "      <th>stock_fund</th>\n",
       "      <th>mktrf</th>\n",
       "      <th>rf</th>\n",
       "      <th>smb</th>\n",
       "      <th>vmg</th>\n",
       "      <th>blend_fund</th>\n",
       "      <th>α</th>\n",
       "    </tr>\n",
       "    <tr>\n",
       "      <th>Date</th>\n",
       "      <th></th>\n",
       "      <th></th>\n",
       "      <th></th>\n",
       "      <th></th>\n",
       "      <th></th>\n",
       "      <th></th>\n",
       "      <th></th>\n",
       "    </tr>\n",
       "  </thead>\n",
       "  <tbody>\n",
       "    <tr>\n",
       "      <th>2005-06</th>\n",
       "      <td>0.006722</td>\n",
       "      <td>0.011522</td>\n",
       "      <td>0.001856</td>\n",
       "      <td>0.000517</td>\n",
       "      <td>0.056121</td>\n",
       "      <td>0.006346</td>\n",
       "      <td>1</td>\n",
       "    </tr>\n",
       "    <tr>\n",
       "      <th>2005-07</th>\n",
       "      <td>0.026240</td>\n",
       "      <td>-0.019041</td>\n",
       "      <td>0.001856</td>\n",
       "      <td>-0.051082</td>\n",
       "      <td>0.071114</td>\n",
       "      <td>0.019213</td>\n",
       "      <td>1</td>\n",
       "    </tr>\n",
       "    <tr>\n",
       "      <th>2005-08</th>\n",
       "      <td>0.030586</td>\n",
       "      <td>0.071589</td>\n",
       "      <td>0.001856</td>\n",
       "      <td>0.094712</td>\n",
       "      <td>-0.049516</td>\n",
       "      <td>0.021038</td>\n",
       "      <td>1</td>\n",
       "    </tr>\n",
       "    <tr>\n",
       "      <th>2005-09</th>\n",
       "      <td>-0.016050</td>\n",
       "      <td>0.001288</td>\n",
       "      <td>0.001856</td>\n",
       "      <td>0.033242</td>\n",
       "      <td>0.045120</td>\n",
       "      <td>0.001627</td>\n",
       "      <td>1</td>\n",
       "    </tr>\n",
       "    <tr>\n",
       "      <th>2005-10</th>\n",
       "      <td>-0.034043</td>\n",
       "      <td>-0.054595</td>\n",
       "      <td>0.001856</td>\n",
       "      <td>-0.001480</td>\n",
       "      <td>0.024557</td>\n",
       "      <td>-0.023199</td>\n",
       "      <td>1</td>\n",
       "    </tr>\n",
       "    <tr>\n",
       "      <th>...</th>\n",
       "      <td>...</td>\n",
       "      <td>...</td>\n",
       "      <td>...</td>\n",
       "      <td>...</td>\n",
       "      <td>...</td>\n",
       "      <td>...</td>\n",
       "      <td>...</td>\n",
       "    </tr>\n",
       "    <tr>\n",
       "      <th>2022-05</th>\n",
       "      <td>0.045655</td>\n",
       "      <td>0.052554</td>\n",
       "      <td>0.001241</td>\n",
       "      <td>0.064625</td>\n",
       "      <td>-0.012790</td>\n",
       "      <td>0.038071</td>\n",
       "      <td>1</td>\n",
       "    </tr>\n",
       "    <tr>\n",
       "      <th>2022-06</th>\n",
       "      <td>0.101454</td>\n",
       "      <td>0.088114</td>\n",
       "      <td>0.001241</td>\n",
       "      <td>-0.020506</td>\n",
       "      <td>-0.028009</td>\n",
       "      <td>0.086118</td>\n",
       "      <td>1</td>\n",
       "    </tr>\n",
       "    <tr>\n",
       "      <th>2022-07</th>\n",
       "      <td>-0.046780</td>\n",
       "      <td>-0.030989</td>\n",
       "      <td>0.001241</td>\n",
       "      <td>0.071198</td>\n",
       "      <td>-0.005291</td>\n",
       "      <td>-0.037448</td>\n",
       "      <td>1</td>\n",
       "    </tr>\n",
       "    <tr>\n",
       "      <th>2022-08</th>\n",
       "      <td>-0.028674</td>\n",
       "      <td>-0.025324</td>\n",
       "      <td>0.001241</td>\n",
       "      <td>-0.012092</td>\n",
       "      <td>0.025149</td>\n",
       "      <td>-0.028359</td>\n",
       "      <td>1</td>\n",
       "    </tr>\n",
       "    <tr>\n",
       "      <th>2022-09</th>\n",
       "      <td>-0.052880</td>\n",
       "      <td>-0.034785</td>\n",
       "      <td>0.001241</td>\n",
       "      <td>0.003295</td>\n",
       "      <td>0.005758</td>\n",
       "      <td>-0.045850</td>\n",
       "      <td>1</td>\n",
       "    </tr>\n",
       "  </tbody>\n",
       "</table>\n",
       "<p>208 rows × 7 columns</p>\n",
       "</div>"
      ],
      "text/plain": [
       "         stock_fund     mktrf        rf       smb       vmg  blend_fund  α\n",
       "Date                                                                      \n",
       "2005-06    0.006722  0.011522  0.001856  0.000517  0.056121    0.006346  1\n",
       "2005-07    0.026240 -0.019041  0.001856 -0.051082  0.071114    0.019213  1\n",
       "2005-08    0.030586  0.071589  0.001856  0.094712 -0.049516    0.021038  1\n",
       "2005-09   -0.016050  0.001288  0.001856  0.033242  0.045120    0.001627  1\n",
       "2005-10   -0.034043 -0.054595  0.001856 -0.001480  0.024557   -0.023199  1\n",
       "...             ...       ...       ...       ...       ...         ... ..\n",
       "2022-05    0.045655  0.052554  0.001241  0.064625 -0.012790    0.038071  1\n",
       "2022-06    0.101454  0.088114  0.001241 -0.020506 -0.028009    0.086118  1\n",
       "2022-07   -0.046780 -0.030989  0.001241  0.071198 -0.005291   -0.037448  1\n",
       "2022-08   -0.028674 -0.025324  0.001241 -0.012092  0.025149   -0.028359  1\n",
       "2022-09   -0.052880 -0.034785  0.001241  0.003295  0.005758   -0.045850  1\n",
       "\n",
       "[208 rows x 7 columns]"
      ]
     },
     "execution_count": 76,
     "metadata": {},
     "output_type": "execute_result"
    }
   ],
   "source": [
    "stock_fund_regression = ((return_of_csmar_stock_fund.unstack(level=0) - 1) * csmar_stock_fund_weight_yearly).sum(axis=1)\n",
    "stock_fund_regression.name = 'stock_fund'\n",
    "\n",
    "blend_fund_regression = ((return_of_csmar_blend_fund.unstack(level=0) - 1) * csmar_blend_fund_weight_yearly).sum(axis=1)\n",
    "blend_fund_regression.name = 'blend_fund'\n",
    "\n",
    "\n",
    "regression_source = pd.merge(stock_fund_regression, svc_source[['mktrf', 'rf', 'smb', 'vmg']], on='Date')\n",
    "regression_source = pd.merge(regression_source, blend_fund_regression, on='Date')\n",
    "\n",
    "regression_source['α'] = 1\n",
    "\n",
    "regression_source = regression_source.loc['2005-6':]\n",
    "regression_source"
   ]
  },
  {
   "cell_type": "markdown",
   "metadata": {},
   "source": [
    "naïve regression"
   ]
  },
  {
   "cell_type": "code",
   "execution_count": 77,
   "metadata": {},
   "outputs": [],
   "source": [
    "stock_naïve = sm.OLS(regression_source.stock_fund, regression_source[['α']]).fit()\n",
    "blend_naïve = sm.OLS(regression_source.blend_fund, regression_source[['α']]).fit()\n",
    "stock_naïve_excess = sm.OLS(regression_source.stock_fund - regression_source.rf, regression_source[['α']]).fit()\n",
    "blend_naïve_excess = sm.OLS(regression_source.blend_fund - regression_source.rf, regression_source[['α']]).fit()\n"
   ]
  },
  {
   "cell_type": "code",
   "execution_count": 78,
   "metadata": {},
   "outputs": [
    {
     "data": {
      "text/html": [
       "<div>\n",
       "<style scoped>\n",
       "    .dataframe tbody tr th:only-of-type {\n",
       "        vertical-align: middle;\n",
       "    }\n",
       "\n",
       "    .dataframe tbody tr th {\n",
       "        vertical-align: top;\n",
       "    }\n",
       "\n",
       "    .dataframe thead th {\n",
       "        text-align: right;\n",
       "    }\n",
       "</style>\n",
       "<table border=\"1\" class=\"dataframe\">\n",
       "  <thead>\n",
       "    <tr style=\"text-align: right;\">\n",
       "      <th>2005/6-2022/9</th>\n",
       "      <th>α</th>\n",
       "      <th>t</th>\n",
       "      <th>p</th>\n",
       "      <th>annual α</th>\n",
       "    </tr>\n",
       "  </thead>\n",
       "  <tbody>\n",
       "    <tr>\n",
       "      <th>stock_naïve</th>\n",
       "      <td>1.091%</td>\n",
       "      <td>2.328</td>\n",
       "      <td>0.021</td>\n",
       "      <td>13.91%</td>\n",
       "    </tr>\n",
       "    <tr>\n",
       "      <th>blend_naïve</th>\n",
       "      <td>1.076%</td>\n",
       "      <td>2.930</td>\n",
       "      <td>0.004</td>\n",
       "      <td>13.71%</td>\n",
       "    </tr>\n",
       "    <tr>\n",
       "      <th>stock_naïve_excess</th>\n",
       "      <td>0.901%</td>\n",
       "      <td>1.921</td>\n",
       "      <td>0.056</td>\n",
       "      <td>11.36%</td>\n",
       "    </tr>\n",
       "    <tr>\n",
       "      <th>blend_naïve_excess</th>\n",
       "      <td>0.886%</td>\n",
       "      <td>2.410</td>\n",
       "      <td>0.017</td>\n",
       "      <td>11.17%</td>\n",
       "    </tr>\n",
       "  </tbody>\n",
       "</table>\n",
       "</div>"
      ],
      "text/plain": [
       "2005/6-2022/9            α      t      p annual α\n",
       "stock_naïve         1.091%  2.328  0.021   13.91%\n",
       "blend_naïve         1.076%  2.930  0.004   13.71%\n",
       "stock_naïve_excess  0.901%  1.921  0.056   11.36%\n",
       "blend_naïve_excess  0.886%  2.410  0.017   11.17%"
      ]
     },
     "execution_count": 78,
     "metadata": {},
     "output_type": "execute_result"
    }
   ],
   "source": [
    "pd.DataFrame(\n",
    "[\n",
    "[float_to_percent(stock_naïve.params[0]), stock_naïve.tvalues.iloc[0].round(3), stock_naïve.pvalues[0].round(3), yearly_return(stock_naïve)],\n",
    "[float_to_percent(blend_naïve.params[0]), blend_naïve.tvalues.iloc[0].round(3), blend_naïve.pvalues[0].round(3), yearly_return(blend_naïve)],\n",
    "[float_to_percent(stock_naïve_excess.params[0]), stock_naïve_excess.tvalues.iloc[0].round(3), stock_naïve_excess.pvalues[0].round(3), yearly_return(stock_naïve_excess)],\n",
    "[float_to_percent(blend_naïve_excess.params[0]), blend_naïve_excess.tvalues.iloc[0].round(3), blend_naïve_excess.pvalues[0].round(3), yearly_return(blend_naïve_excess)],\n",
    "],\n",
    "index=['stock_naïve', 'blend_naïve', 'stock_naïve_excess', 'blend_naïve_excess'], columns=pd.Series(['α', 't', 'p', 'annual α'],\\\n",
    "name=f'{regression_source.index[0].year}/{regression_source.index[0].month}-{regression_source.index[-1].year}/{regression_source.index[-1].month}'))"
   ]
  },
  {
   "cell_type": "markdown",
   "metadata": {},
   "source": [
    "CAPM regression"
   ]
  },
  {
   "cell_type": "code",
   "execution_count": 81,
   "metadata": {},
   "outputs": [],
   "source": [
    "stock_capm = sm.OLS(regression_source.stock_fund - regression_source.rf, regression_source[['α', 'mktrf']]).fit()\n",
    "blend_capm = sm.OLS(regression_source.blend_fund - regression_source.rf, regression_source[['α', 'mktrf']]).fit()"
   ]
  },
  {
   "cell_type": "code",
   "execution_count": 82,
   "metadata": {},
   "outputs": [
    {
     "data": {
      "text/html": [
       "<div>\n",
       "<style scoped>\n",
       "    .dataframe tbody tr th:only-of-type {\n",
       "        vertical-align: middle;\n",
       "    }\n",
       "\n",
       "    .dataframe tbody tr th {\n",
       "        vertical-align: top;\n",
       "    }\n",
       "\n",
       "    .dataframe thead th {\n",
       "        text-align: right;\n",
       "    }\n",
       "</style>\n",
       "<table border=\"1\" class=\"dataframe\">\n",
       "  <thead>\n",
       "    <tr style=\"text-align: right;\">\n",
       "      <th>2005/6-2022/9</th>\n",
       "      <th>stock_capm</th>\n",
       "      <th>blend_capm</th>\n",
       "    </tr>\n",
       "  </thead>\n",
       "  <tbody>\n",
       "    <tr>\n",
       "      <th>α</th>\n",
       "      <td>0.154% (1.052)</td>\n",
       "      <td>0.325% (2.128)</td>\n",
       "    </tr>\n",
       "    <tr>\n",
       "      <th>mktrf</th>\n",
       "      <td>0.826 (44.307)</td>\n",
       "      <td>0.62 (31.82)</td>\n",
       "    </tr>\n",
       "    <tr>\n",
       "      <th>r^2</th>\n",
       "      <td>0.905032</td>\n",
       "      <td>0.830937</td>\n",
       "    </tr>\n",
       "    <tr>\n",
       "      <th>annual α</th>\n",
       "      <td>1.86%</td>\n",
       "      <td>3.97%</td>\n",
       "    </tr>\n",
       "  </tbody>\n",
       "</table>\n",
       "</div>"
      ],
      "text/plain": [
       "2005/6-2022/9      stock_capm      blend_capm\n",
       "α              0.154% (1.052)  0.325% (2.128)\n",
       "mktrf          0.826 (44.307)    0.62 (31.82)\n",
       "r^2                  0.905032        0.830937\n",
       "annual α                1.86%           3.97%"
      ]
     },
     "execution_count": 82,
     "metadata": {},
     "output_type": "execute_result"
    }
   ],
   "source": [
    "pd.DataFrame(\n",
    "[\n",
    "[float_to_percent(stock_capm.params[0]) + ' (' + str(stock_capm.tvalues.iloc[0].round(3)) + ')', \\\n",
    "    str(stock_capm.params[1].round(3)) + ' (' + str(stock_capm.tvalues.iloc[1].round(3)) + ')',\\\n",
    "         stock_capm.rsquared, yearly_return(stock_capm)],\n",
    "[float_to_percent(blend_capm.params[0]) + ' (' + str(blend_capm.tvalues.iloc[0].round(3)) + ')', \\\n",
    "    str(blend_capm.params[1].round(3)) + ' (' + str(blend_capm.tvalues.iloc[1].round(3)) + ')', \\\n",
    "        blend_capm.rsquared, yearly_return(blend_capm)],\n",
    "],\n",
    "columns=['α', 'mktrf', 'r^2', 'annual α'], index=pd.Series(['stock_capm', 'blend_capm'], \\\n",
    "name=f'{regression_source.index[0].year}/{regression_source.index[0].month}-{regression_source.index[-1].year}/{regression_source.index[-1].month}')).T"
   ]
  },
  {
   "cell_type": "markdown",
   "metadata": {},
   "source": [
    "SVC regression"
   ]
  },
  {
   "cell_type": "code",
   "execution_count": 83,
   "metadata": {},
   "outputs": [],
   "source": [
    "stock_svc = sm.OLS(regression_source.stock_fund - regression_source.rf, regression_source[['α', 'mktrf', 'smb', 'vmg']]).fit()\n",
    "blend_svc = sm.OLS(regression_source.blend_fund - regression_source.rf, regression_source[['α', 'mktrf', 'smb', 'vmg']]).fit()"
   ]
  },
  {
   "cell_type": "code",
   "execution_count": 84,
   "metadata": {},
   "outputs": [
    {
     "data": {
      "text/html": [
       "<div>\n",
       "<style scoped>\n",
       "    .dataframe tbody tr th:only-of-type {\n",
       "        vertical-align: middle;\n",
       "    }\n",
       "\n",
       "    .dataframe tbody tr th {\n",
       "        vertical-align: top;\n",
       "    }\n",
       "\n",
       "    .dataframe thead th {\n",
       "        text-align: right;\n",
       "    }\n",
       "</style>\n",
       "<table border=\"1\" class=\"dataframe\">\n",
       "  <thead>\n",
       "    <tr style=\"text-align: right;\">\n",
       "      <th>2005/6-2022/9</th>\n",
       "      <th>stock_svc</th>\n",
       "      <th>blend_svc</th>\n",
       "    </tr>\n",
       "  </thead>\n",
       "  <tbody>\n",
       "    <tr>\n",
       "      <th>α</th>\n",
       "      <td>0.323% (2.165)</td>\n",
       "      <td>0.67% (4.294)</td>\n",
       "    </tr>\n",
       "    <tr>\n",
       "      <th>mktrf</th>\n",
       "      <td>0.838 (46.938)</td>\n",
       "      <td>0.592 (31.72)</td>\n",
       "    </tr>\n",
       "    <tr>\n",
       "      <th>smb</th>\n",
       "      <td>-0.179 (-5.55)</td>\n",
       "      <td>-0.063 (-1.867)</td>\n",
       "    </tr>\n",
       "    <tr>\n",
       "      <th>vmg</th>\n",
       "      <td>-0.024 (-0.569)</td>\n",
       "      <td>-0.263 (-5.967)</td>\n",
       "    </tr>\n",
       "    <tr>\n",
       "      <th>r^2</th>\n",
       "      <td>0.919562</td>\n",
       "      <td>0.856929</td>\n",
       "    </tr>\n",
       "    <tr>\n",
       "      <th>annual α</th>\n",
       "      <td>3.95%</td>\n",
       "      <td>8.35%</td>\n",
       "    </tr>\n",
       "  </tbody>\n",
       "</table>\n",
       "</div>"
      ],
      "text/plain": [
       "2005/6-2022/9        stock_svc        blend_svc\n",
       "α               0.323% (2.165)    0.67% (4.294)\n",
       "mktrf           0.838 (46.938)    0.592 (31.72)\n",
       "smb             -0.179 (-5.55)  -0.063 (-1.867)\n",
       "vmg            -0.024 (-0.569)  -0.263 (-5.967)\n",
       "r^2                   0.919562         0.856929\n",
       "annual α                 3.95%            8.35%"
      ]
     },
     "execution_count": 84,
     "metadata": {},
     "output_type": "execute_result"
    }
   ],
   "source": [
    "pd.DataFrame(\n",
    "[\n",
    "[float_to_percent(stock_svc.params[0]) + ' (' + str(stock_svc.tvalues.iloc[0].round(3)) + ')', \\\n",
    "    str(stock_svc.params[1].round(3)) + ' (' + str(stock_svc.tvalues.iloc[1].round(3)) + ')', \\\n",
    "        str(stock_svc.params[2].round(3)) + ' (' + str(stock_svc.tvalues.iloc[2].round(3)) + ')', \\\n",
    "            str(stock_svc.params[3].round(3)) + ' (' + str(stock_svc.tvalues.iloc[3].round(3)) + ')', \\\n",
    "                stock_svc.rsquared, yearly_return(stock_svc)],\n",
    "[float_to_percent(blend_svc.params[0]) + ' (' + str(blend_svc.tvalues.iloc[0].round(3)) + ')', \\\n",
    "    str(blend_svc.params[1].round(3)) + ' (' + str(blend_svc.tvalues.iloc[1].round(3)) + ')', \\\n",
    "        str(blend_svc.params[2].round(3)) + ' (' + str(blend_svc.tvalues.iloc[2].round(3)) + ')', \\\n",
    "            str(blend_svc.params[3].round(3)) + ' (' + str(blend_svc.tvalues.iloc[3].round(3)) + ')', \\\n",
    "                blend_svc.rsquared, yearly_return(blend_svc)],\n",
    "],\n",
    "\n",
    "columns=['α', 'mktrf', 'smb', 'vmg', 'r^2', 'annual α'], index=pd.Series(['stock_svc', 'blend_svc'], \\\n",
    "name=f'{regression_source.index[0].year}/{regression_source.index[0].month}-{regression_source.index[-1].year}/{regression_source.index[-1].month}')).T"
   ]
  },
  {
   "cell_type": "markdown",
   "metadata": {},
   "source": [
    "## **V. Fund Evaluation**"
   ]
  },
  {
   "cell_type": "markdown",
   "metadata": {},
   "source": [
    "### Method"
   ]
  },
  {
   "cell_type": "markdown",
   "metadata": {},
   "source": [
    "step1, α, 每支基金，2005-2022滚动回归，窗口期3年，得到α面板数据\n",
    "\n",
    "| date/fund | fund1 | fund2 | fund3 |\n",
    "| --------- | ----- | ----- | ----- |\n",
    "| date1     | 0.1   | 0.1   | 0.1   |\n",
    "| date2     | 0.1   | 0.1   | 0.1   |\n",
    "| date3     | 0.1   | 0.1   | 0.1   |"
   ]
  },
  {
   "cell_type": "markdown",
   "metadata": {},
   "source": [
    "step2, fund_list, 每个日期，对上述α面板数据分低中高3组。保留每个日期中，低中高3组α对应的3个基金组合\n",
    "\n",
    "| date/group | low                         | middle | high   |\n",
    "| ---------- | --------------------------- | ------ | ------ |\n",
    "| date1      | [ fund1, fund2, fund3, … ] | [ … ] | [ … ] |\n",
    "| date2      | [ … ]                      | [ … ] | [ … ] |\n",
    "| date3      | [ … ]                      | [ … ] | [ … ] |"
   ]
  },
  {
   "cell_type": "markdown",
   "metadata": {},
   "source": [
    "step3, return, 对上述基金列表面板数据，对每个日期、每组基金，乘以其市值加权权重（市值与权重成正比），得到加权收益率\n",
    "\n",
    "| date/group | low | middle | high |\n",
    "| ---------- | --- | ------ | ---- |\n",
    "| date1      | 0.1 | 0.1    | 0.1  |\n",
    "| date2      | 0.1 | 0.1    | 0.1  |\n",
    "| date3      | 0.1 | 0.1    | 0.1  |"
   ]
  },
  {
   "cell_type": "markdown",
   "metadata": {},
   "source": [
    "step4, summary, 对上述收益率面板数据，按基金组别，与既有模型回归\n",
    "\n",
    "| indicator/group | low | middle | high |\n",
    "| --------------- | --- | ------ | ---- |\n",
    "| α              | 0.1 | 0.1    | 0.1  |\n",
    "| t               | 1   | 1      | 1    |"
   ]
  },
  {
   "cell_type": "markdown",
   "metadata": {},
   "source": [
    "step5, summary, 整合多个模型统计结果\n",
    "\n",
    "|   model-indicator/group     | model-indicator/group | low | middle | high |\n",
    "| ------ | --------------------- | --- | ------ | ---- |\n",
    "| model1 | α                    | 0.1 | 0.1    | 0.1  |\n",
    "|        | t                     | 1   | 1      | 1    |\n",
    "| model2 | α                    | 0.1 | 0.1    | 0.1  |\n",
    "|        | t                     | 1   | 1      | 1    |\n",
    "| model3 | α                    | 0.1 | 0.1    | 0.1  |\n",
    "|        | t                     | 1   | 1      | 1    |"
   ]
  },
  {
   "cell_type": "markdown",
   "metadata": {},
   "source": [
    "### Utilities"
   ]
  },
  {
   "cell_type": "code",
   "execution_count": 85,
   "metadata": {},
   "outputs": [],
   "source": [
    "import numpy as np\n",
    "import pandas as pd\n",
    "\n",
    "import statsmodels.api as sm\n",
    "\n",
    "from utils.functions import *\n",
    "\n",
    "from data.TwoStepData.return_of_all_fund import return_of_all_fund\n",
    "from data.TwoStepData.all_fund_weight import all_fund_weight\n",
    "from data.TwoStepData.regression_source import regression_source"
   ]
  },
  {
   "cell_type": "code",
   "execution_count": 86,
   "metadata": {},
   "outputs": [],
   "source": [
    "all_fund_weight = csmar_share_info_yearly * csmar_nav_yearly\n",
    "all_fund_weight = pd.concat([all_fund_weight, \\\n",
    "    pd.DataFrame([[np.nan] * all_fund_weight.shape[1]], index=[pd.to_datetime('2023-06').to_period('M')], columns=all_fund_weight.columns)])\n",
    "all_fund_weight = all_fund_weight.resample('M').ffill()"
   ]
  },
  {
   "cell_type": "code",
   "execution_count": 87,
   "metadata": {},
   "outputs": [],
   "source": [
    "return_of_all_fund_ = (return_of_all_fund.unstack(0) - 1).loc['2005-6': '2019-6']"
   ]
  },
  {
   "cell_type": "code",
   "execution_count": 88,
   "metadata": {},
   "outputs": [],
   "source": [
    "\n",
    "def group_and_statistic(α_matrix, groups = 5):\n",
    "\n",
    "    grouped_all_fund_α_matrix = α_matrix.apply(lambda x: \\\n",
    "        pd.qcut(x, groups, labels=np.arange(groups)) if pd.notna(x).sum() >= groups else pd.Series([np.nan] * len(x), x.index), axis=1).dropna(how='all')\n",
    "\n",
    "    def func(x):\n",
    "        date = x.name\n",
    "        weight = all_fund_weight.loc[date]\n",
    "        return_look_forward = return_of_all_fund_.shift(-1)\n",
    "        ret = return_look_forward.loc[date]\n",
    "\n",
    "        result = pd.DataFrame([x, ret, weight], index=['rank', 'ret', 'weight']).T.dropna(subset='rank').sort_values(by='rank')\n",
    "        result['weight'] = result.groupby('rank').apply(lambda y: y.weight / y.weight.sum()).values\n",
    "        result = result.groupby('rank').apply(lambda y: (y.ret * y.weight).sum())\n",
    "        return result\n",
    "\n",
    "    grouped_all_fund_α_matrix_return = grouped_all_fund_α_matrix.apply(func, axis=1)\n",
    "\n",
    "\n",
    "    # RS denotes regression source\n",
    "    RS_α = pd.merge(grouped_all_fund_α_matrix_return, regression_source, on='Date')\n",
    "    RS_α[['stock_fund', 'mktrf', 'rf', 'smb', 'vmg', 'blend_fund']] = RS_α[['stock_fund', 'mktrf', 'rf', 'smb', 'vmg', 'blend_fund']].shift(-1)\n",
    "    RS_α = RS_α.iloc[:-1]\n",
    "\n",
    "    regressors = [\n",
    "        ['α'],\n",
    "        ['α', 'mktrf'],\n",
    "        ['α', 'mktrf', 'smb', 'vmg']\n",
    "        ]\n",
    "        \n",
    "    results = []\n",
    "\n",
    "    for regressor in regressors:\n",
    "\n",
    "        for group in range(groups):\n",
    "            temp = sm.OLS(RS_α[group] - RS_α.rf, RS_α[regressor]).fit()\n",
    "            results.append([float_to_percent(temp.params[0]), yearly_return(temp), temp.tvalues[0].round(3), temp.rsquared.round(3)])\n",
    "        # remove r_f\n",
    "        temp = sm.OLS(RS_α[groups - 1] - RS_α[0], RS_α[regressor]).fit()\n",
    "        results.append([float_to_percent(temp.params[0]), yearly_return(temp), temp.tvalues[0].round(3), temp.rsquared.round(3)])\n",
    "\n",
    "    excess_result, capm_α_result, svc_α_result = results[0: groups + 1], results[groups + 1: 2 * groups + 2], results[2 * groups + 2: 3 * groups + 3]\n",
    "\n",
    "    excess_result = pd.DataFrame(np.array(excess_result).T, \\\n",
    "        index=pd.MultiIndex.from_product([['excess'], ['α (monthly)', 'annual α', 't', 'R^2']]), columns=['group' + str(i) for i in range(groups)] + ['long-short'])\n",
    "    capm_α_result = pd.DataFrame(np.array(capm_α_result).T, \\\n",
    "        index=pd.MultiIndex.from_product([['capm α'], ['α (monthly)', 'annual α', 't', 'R^2']]), columns=['group' + str(i) for i in range(groups)] + ['long-short'])\n",
    "    svc_α_result = pd.DataFrame(np.array(svc_α_result).T, \\\n",
    "        index=pd.MultiIndex.from_product([['svc α'], ['α (monthly)', 'annual α', 't', 'R^2']]), columns=['group' + str(i) for i in range(groups)] + ['long-short'])\n",
    "\n",
    "    return pd.concat([excess_result, capm_α_result, svc_α_result])\n",
    "\n",
    "\n",
    "def fund_ended_check(α_operation):\n",
    "    def check_filter(x):\n",
    "        if pd.notna(x[-1]):\n",
    "            # if the fund is running now\n",
    "            return α_operation(x)\n",
    "        else:\n",
    "            # if the fund is shut down\n",
    "            return np.nan\n",
    "    return check_filter\n",
    "\n",
    "\n",
    "@fund_ended_check\n",
    "def α_na_ratio(x):\n",
    "\n",
    "    window_length = len(x)\n",
    "    x = x.dropna()  \n",
    "    return 1 - len(x) / window_length\n"
   ]
  },
  {
   "cell_type": "code",
   "execution_count": 89,
   "metadata": {},
   "outputs": [
    {
     "data": {
      "text/html": [
       "<div>\n",
       "<style scoped>\n",
       "    .dataframe tbody tr th:only-of-type {\n",
       "        vertical-align: middle;\n",
       "    }\n",
       "\n",
       "    .dataframe tbody tr th {\n",
       "        vertical-align: top;\n",
       "    }\n",
       "\n",
       "    .dataframe thead th {\n",
       "        text-align: right;\n",
       "    }\n",
       "</style>\n",
       "<table border=\"1\" class=\"dataframe\">\n",
       "  <thead>\n",
       "    <tr style=\"text-align: right;\">\n",
       "      <th>Symbol</th>\n",
       "      <th>000001</th>\n",
       "      <th>000006</th>\n",
       "      <th>000011</th>\n",
       "      <th>000017</th>\n",
       "      <th>000020</th>\n",
       "      <th>000021</th>\n",
       "      <th>000029</th>\n",
       "      <th>000030</th>\n",
       "      <th>000031</th>\n",
       "      <th>000039</th>\n",
       "      <th>000042</th>\n",
       "      <th>000056</th>\n",
       "      <th>000057</th>\n",
       "      <th>000058</th>\n",
       "      <th>000059</th>\n",
       "      <th>000061</th>\n",
       "      <th>000063</th>\n",
       "      <th>000065</th>\n",
       "      <th>000066</th>\n",
       "      <th>000073</th>\n",
       "      <th>000082</th>\n",
       "      <th>000083</th>\n",
       "      <th>000110</th>\n",
       "      <th>000117</th>\n",
       "      <th>000120</th>\n",
       "      <th>000124</th>\n",
       "      <th>000126</th>\n",
       "      <th>000127</th>\n",
       "      <th>000136</th>\n",
       "      <th>000165</th>\n",
       "      <th>000166</th>\n",
       "      <th>000167</th>\n",
       "      <th>000172</th>\n",
       "      <th>000173</th>\n",
       "      <th>000176</th>\n",
       "      <th>000190</th>\n",
       "      <th>000195</th>\n",
       "      <th>000196</th>\n",
       "      <th>000199</th>\n",
       "      <th>000209</th>\n",
       "      <th>...</th>\n",
       "      <th>730002</th>\n",
       "      <th>740001</th>\n",
       "      <th>740101</th>\n",
       "      <th>750001</th>\n",
       "      <th>750005</th>\n",
       "      <th>762001</th>\n",
       "      <th>770001</th>\n",
       "      <th>910004</th>\n",
       "      <th>910006</th>\n",
       "      <th>910007</th>\n",
       "      <th>910009</th>\n",
       "      <th>910011</th>\n",
       "      <th>910017</th>\n",
       "      <th>910021</th>\n",
       "      <th>910022</th>\n",
       "      <th>910024</th>\n",
       "      <th>910028</th>\n",
       "      <th>952009</th>\n",
       "      <th>960000</th>\n",
       "      <th>960001</th>\n",
       "      <th>960002</th>\n",
       "      <th>960003</th>\n",
       "      <th>960004</th>\n",
       "      <th>960005</th>\n",
       "      <th>960006</th>\n",
       "      <th>960007</th>\n",
       "      <th>960008</th>\n",
       "      <th>960010</th>\n",
       "      <th>960011</th>\n",
       "      <th>960012</th>\n",
       "      <th>960016</th>\n",
       "      <th>960018</th>\n",
       "      <th>960020</th>\n",
       "      <th>960021</th>\n",
       "      <th>960022</th>\n",
       "      <th>960023</th>\n",
       "      <th>960024</th>\n",
       "      <th>960026</th>\n",
       "      <th>960028</th>\n",
       "      <th>960033</th>\n",
       "    </tr>\n",
       "    <tr>\n",
       "      <th>Date</th>\n",
       "      <th></th>\n",
       "      <th></th>\n",
       "      <th></th>\n",
       "      <th></th>\n",
       "      <th></th>\n",
       "      <th></th>\n",
       "      <th></th>\n",
       "      <th></th>\n",
       "      <th></th>\n",
       "      <th></th>\n",
       "      <th></th>\n",
       "      <th></th>\n",
       "      <th></th>\n",
       "      <th></th>\n",
       "      <th></th>\n",
       "      <th></th>\n",
       "      <th></th>\n",
       "      <th></th>\n",
       "      <th></th>\n",
       "      <th></th>\n",
       "      <th></th>\n",
       "      <th></th>\n",
       "      <th></th>\n",
       "      <th></th>\n",
       "      <th></th>\n",
       "      <th></th>\n",
       "      <th></th>\n",
       "      <th></th>\n",
       "      <th></th>\n",
       "      <th></th>\n",
       "      <th></th>\n",
       "      <th></th>\n",
       "      <th></th>\n",
       "      <th></th>\n",
       "      <th></th>\n",
       "      <th></th>\n",
       "      <th></th>\n",
       "      <th></th>\n",
       "      <th></th>\n",
       "      <th></th>\n",
       "      <th></th>\n",
       "      <th></th>\n",
       "      <th></th>\n",
       "      <th></th>\n",
       "      <th></th>\n",
       "      <th></th>\n",
       "      <th></th>\n",
       "      <th></th>\n",
       "      <th></th>\n",
       "      <th></th>\n",
       "      <th></th>\n",
       "      <th></th>\n",
       "      <th></th>\n",
       "      <th></th>\n",
       "      <th></th>\n",
       "      <th></th>\n",
       "      <th></th>\n",
       "      <th></th>\n",
       "      <th></th>\n",
       "      <th></th>\n",
       "      <th></th>\n",
       "      <th></th>\n",
       "      <th></th>\n",
       "      <th></th>\n",
       "      <th></th>\n",
       "      <th></th>\n",
       "      <th></th>\n",
       "      <th></th>\n",
       "      <th></th>\n",
       "      <th></th>\n",
       "      <th></th>\n",
       "      <th></th>\n",
       "      <th></th>\n",
       "      <th></th>\n",
       "      <th></th>\n",
       "      <th></th>\n",
       "      <th></th>\n",
       "      <th></th>\n",
       "      <th></th>\n",
       "      <th></th>\n",
       "      <th></th>\n",
       "    </tr>\n",
       "  </thead>\n",
       "  <tbody>\n",
       "    <tr>\n",
       "      <th>2005-06</th>\n",
       "      <td>0.0</td>\n",
       "      <td>NaN</td>\n",
       "      <td>NaN</td>\n",
       "      <td>NaN</td>\n",
       "      <td>NaN</td>\n",
       "      <td>NaN</td>\n",
       "      <td>NaN</td>\n",
       "      <td>NaN</td>\n",
       "      <td>NaN</td>\n",
       "      <td>NaN</td>\n",
       "      <td>NaN</td>\n",
       "      <td>NaN</td>\n",
       "      <td>NaN</td>\n",
       "      <td>NaN</td>\n",
       "      <td>NaN</td>\n",
       "      <td>NaN</td>\n",
       "      <td>NaN</td>\n",
       "      <td>NaN</td>\n",
       "      <td>NaN</td>\n",
       "      <td>NaN</td>\n",
       "      <td>NaN</td>\n",
       "      <td>NaN</td>\n",
       "      <td>NaN</td>\n",
       "      <td>NaN</td>\n",
       "      <td>NaN</td>\n",
       "      <td>NaN</td>\n",
       "      <td>NaN</td>\n",
       "      <td>NaN</td>\n",
       "      <td>NaN</td>\n",
       "      <td>NaN</td>\n",
       "      <td>NaN</td>\n",
       "      <td>NaN</td>\n",
       "      <td>NaN</td>\n",
       "      <td>NaN</td>\n",
       "      <td>NaN</td>\n",
       "      <td>NaN</td>\n",
       "      <td>NaN</td>\n",
       "      <td>NaN</td>\n",
       "      <td>NaN</td>\n",
       "      <td>NaN</td>\n",
       "      <td>...</td>\n",
       "      <td>NaN</td>\n",
       "      <td>NaN</td>\n",
       "      <td>NaN</td>\n",
       "      <td>NaN</td>\n",
       "      <td>NaN</td>\n",
       "      <td>NaN</td>\n",
       "      <td>NaN</td>\n",
       "      <td>NaN</td>\n",
       "      <td>NaN</td>\n",
       "      <td>NaN</td>\n",
       "      <td>NaN</td>\n",
       "      <td>NaN</td>\n",
       "      <td>NaN</td>\n",
       "      <td>NaN</td>\n",
       "      <td>NaN</td>\n",
       "      <td>NaN</td>\n",
       "      <td>NaN</td>\n",
       "      <td>NaN</td>\n",
       "      <td>NaN</td>\n",
       "      <td>NaN</td>\n",
       "      <td>NaN</td>\n",
       "      <td>NaN</td>\n",
       "      <td>NaN</td>\n",
       "      <td>NaN</td>\n",
       "      <td>NaN</td>\n",
       "      <td>NaN</td>\n",
       "      <td>NaN</td>\n",
       "      <td>NaN</td>\n",
       "      <td>NaN</td>\n",
       "      <td>NaN</td>\n",
       "      <td>NaN</td>\n",
       "      <td>NaN</td>\n",
       "      <td>NaN</td>\n",
       "      <td>NaN</td>\n",
       "      <td>NaN</td>\n",
       "      <td>NaN</td>\n",
       "      <td>NaN</td>\n",
       "      <td>NaN</td>\n",
       "      <td>NaN</td>\n",
       "      <td>NaN</td>\n",
       "    </tr>\n",
       "    <tr>\n",
       "      <th>2005-07</th>\n",
       "      <td>0.0</td>\n",
       "      <td>NaN</td>\n",
       "      <td>NaN</td>\n",
       "      <td>NaN</td>\n",
       "      <td>NaN</td>\n",
       "      <td>NaN</td>\n",
       "      <td>NaN</td>\n",
       "      <td>NaN</td>\n",
       "      <td>NaN</td>\n",
       "      <td>NaN</td>\n",
       "      <td>NaN</td>\n",
       "      <td>NaN</td>\n",
       "      <td>NaN</td>\n",
       "      <td>NaN</td>\n",
       "      <td>NaN</td>\n",
       "      <td>NaN</td>\n",
       "      <td>NaN</td>\n",
       "      <td>NaN</td>\n",
       "      <td>NaN</td>\n",
       "      <td>NaN</td>\n",
       "      <td>NaN</td>\n",
       "      <td>NaN</td>\n",
       "      <td>NaN</td>\n",
       "      <td>NaN</td>\n",
       "      <td>NaN</td>\n",
       "      <td>NaN</td>\n",
       "      <td>NaN</td>\n",
       "      <td>NaN</td>\n",
       "      <td>NaN</td>\n",
       "      <td>NaN</td>\n",
       "      <td>NaN</td>\n",
       "      <td>NaN</td>\n",
       "      <td>NaN</td>\n",
       "      <td>NaN</td>\n",
       "      <td>NaN</td>\n",
       "      <td>NaN</td>\n",
       "      <td>NaN</td>\n",
       "      <td>NaN</td>\n",
       "      <td>NaN</td>\n",
       "      <td>NaN</td>\n",
       "      <td>...</td>\n",
       "      <td>NaN</td>\n",
       "      <td>NaN</td>\n",
       "      <td>NaN</td>\n",
       "      <td>NaN</td>\n",
       "      <td>NaN</td>\n",
       "      <td>NaN</td>\n",
       "      <td>NaN</td>\n",
       "      <td>NaN</td>\n",
       "      <td>NaN</td>\n",
       "      <td>NaN</td>\n",
       "      <td>NaN</td>\n",
       "      <td>NaN</td>\n",
       "      <td>NaN</td>\n",
       "      <td>NaN</td>\n",
       "      <td>NaN</td>\n",
       "      <td>NaN</td>\n",
       "      <td>NaN</td>\n",
       "      <td>NaN</td>\n",
       "      <td>NaN</td>\n",
       "      <td>NaN</td>\n",
       "      <td>NaN</td>\n",
       "      <td>NaN</td>\n",
       "      <td>NaN</td>\n",
       "      <td>NaN</td>\n",
       "      <td>NaN</td>\n",
       "      <td>NaN</td>\n",
       "      <td>NaN</td>\n",
       "      <td>NaN</td>\n",
       "      <td>NaN</td>\n",
       "      <td>NaN</td>\n",
       "      <td>NaN</td>\n",
       "      <td>NaN</td>\n",
       "      <td>NaN</td>\n",
       "      <td>NaN</td>\n",
       "      <td>NaN</td>\n",
       "      <td>NaN</td>\n",
       "      <td>NaN</td>\n",
       "      <td>NaN</td>\n",
       "      <td>NaN</td>\n",
       "      <td>NaN</td>\n",
       "    </tr>\n",
       "    <tr>\n",
       "      <th>2005-08</th>\n",
       "      <td>0.0</td>\n",
       "      <td>NaN</td>\n",
       "      <td>NaN</td>\n",
       "      <td>NaN</td>\n",
       "      <td>NaN</td>\n",
       "      <td>NaN</td>\n",
       "      <td>NaN</td>\n",
       "      <td>NaN</td>\n",
       "      <td>NaN</td>\n",
       "      <td>NaN</td>\n",
       "      <td>NaN</td>\n",
       "      <td>NaN</td>\n",
       "      <td>NaN</td>\n",
       "      <td>NaN</td>\n",
       "      <td>NaN</td>\n",
       "      <td>NaN</td>\n",
       "      <td>NaN</td>\n",
       "      <td>NaN</td>\n",
       "      <td>NaN</td>\n",
       "      <td>NaN</td>\n",
       "      <td>NaN</td>\n",
       "      <td>NaN</td>\n",
       "      <td>NaN</td>\n",
       "      <td>NaN</td>\n",
       "      <td>NaN</td>\n",
       "      <td>NaN</td>\n",
       "      <td>NaN</td>\n",
       "      <td>NaN</td>\n",
       "      <td>NaN</td>\n",
       "      <td>NaN</td>\n",
       "      <td>NaN</td>\n",
       "      <td>NaN</td>\n",
       "      <td>NaN</td>\n",
       "      <td>NaN</td>\n",
       "      <td>NaN</td>\n",
       "      <td>NaN</td>\n",
       "      <td>NaN</td>\n",
       "      <td>NaN</td>\n",
       "      <td>NaN</td>\n",
       "      <td>NaN</td>\n",
       "      <td>...</td>\n",
       "      <td>NaN</td>\n",
       "      <td>NaN</td>\n",
       "      <td>NaN</td>\n",
       "      <td>NaN</td>\n",
       "      <td>NaN</td>\n",
       "      <td>NaN</td>\n",
       "      <td>NaN</td>\n",
       "      <td>NaN</td>\n",
       "      <td>NaN</td>\n",
       "      <td>NaN</td>\n",
       "      <td>NaN</td>\n",
       "      <td>NaN</td>\n",
       "      <td>NaN</td>\n",
       "      <td>NaN</td>\n",
       "      <td>NaN</td>\n",
       "      <td>NaN</td>\n",
       "      <td>NaN</td>\n",
       "      <td>NaN</td>\n",
       "      <td>NaN</td>\n",
       "      <td>NaN</td>\n",
       "      <td>NaN</td>\n",
       "      <td>NaN</td>\n",
       "      <td>NaN</td>\n",
       "      <td>NaN</td>\n",
       "      <td>NaN</td>\n",
       "      <td>NaN</td>\n",
       "      <td>NaN</td>\n",
       "      <td>NaN</td>\n",
       "      <td>NaN</td>\n",
       "      <td>NaN</td>\n",
       "      <td>NaN</td>\n",
       "      <td>NaN</td>\n",
       "      <td>NaN</td>\n",
       "      <td>NaN</td>\n",
       "      <td>NaN</td>\n",
       "      <td>NaN</td>\n",
       "      <td>NaN</td>\n",
       "      <td>NaN</td>\n",
       "      <td>NaN</td>\n",
       "      <td>NaN</td>\n",
       "    </tr>\n",
       "    <tr>\n",
       "      <th>2005-09</th>\n",
       "      <td>0.0</td>\n",
       "      <td>NaN</td>\n",
       "      <td>NaN</td>\n",
       "      <td>NaN</td>\n",
       "      <td>NaN</td>\n",
       "      <td>NaN</td>\n",
       "      <td>NaN</td>\n",
       "      <td>NaN</td>\n",
       "      <td>NaN</td>\n",
       "      <td>NaN</td>\n",
       "      <td>NaN</td>\n",
       "      <td>NaN</td>\n",
       "      <td>NaN</td>\n",
       "      <td>NaN</td>\n",
       "      <td>NaN</td>\n",
       "      <td>NaN</td>\n",
       "      <td>NaN</td>\n",
       "      <td>NaN</td>\n",
       "      <td>NaN</td>\n",
       "      <td>NaN</td>\n",
       "      <td>NaN</td>\n",
       "      <td>NaN</td>\n",
       "      <td>NaN</td>\n",
       "      <td>NaN</td>\n",
       "      <td>NaN</td>\n",
       "      <td>NaN</td>\n",
       "      <td>NaN</td>\n",
       "      <td>NaN</td>\n",
       "      <td>NaN</td>\n",
       "      <td>NaN</td>\n",
       "      <td>NaN</td>\n",
       "      <td>NaN</td>\n",
       "      <td>NaN</td>\n",
       "      <td>NaN</td>\n",
       "      <td>NaN</td>\n",
       "      <td>NaN</td>\n",
       "      <td>NaN</td>\n",
       "      <td>NaN</td>\n",
       "      <td>NaN</td>\n",
       "      <td>NaN</td>\n",
       "      <td>...</td>\n",
       "      <td>NaN</td>\n",
       "      <td>NaN</td>\n",
       "      <td>NaN</td>\n",
       "      <td>NaN</td>\n",
       "      <td>NaN</td>\n",
       "      <td>NaN</td>\n",
       "      <td>NaN</td>\n",
       "      <td>NaN</td>\n",
       "      <td>NaN</td>\n",
       "      <td>NaN</td>\n",
       "      <td>NaN</td>\n",
       "      <td>NaN</td>\n",
       "      <td>NaN</td>\n",
       "      <td>NaN</td>\n",
       "      <td>NaN</td>\n",
       "      <td>NaN</td>\n",
       "      <td>NaN</td>\n",
       "      <td>NaN</td>\n",
       "      <td>NaN</td>\n",
       "      <td>NaN</td>\n",
       "      <td>NaN</td>\n",
       "      <td>NaN</td>\n",
       "      <td>NaN</td>\n",
       "      <td>NaN</td>\n",
       "      <td>NaN</td>\n",
       "      <td>NaN</td>\n",
       "      <td>NaN</td>\n",
       "      <td>NaN</td>\n",
       "      <td>NaN</td>\n",
       "      <td>NaN</td>\n",
       "      <td>NaN</td>\n",
       "      <td>NaN</td>\n",
       "      <td>NaN</td>\n",
       "      <td>NaN</td>\n",
       "      <td>NaN</td>\n",
       "      <td>NaN</td>\n",
       "      <td>NaN</td>\n",
       "      <td>NaN</td>\n",
       "      <td>NaN</td>\n",
       "      <td>NaN</td>\n",
       "    </tr>\n",
       "    <tr>\n",
       "      <th>2005-10</th>\n",
       "      <td>0.0</td>\n",
       "      <td>NaN</td>\n",
       "      <td>NaN</td>\n",
       "      <td>NaN</td>\n",
       "      <td>NaN</td>\n",
       "      <td>NaN</td>\n",
       "      <td>NaN</td>\n",
       "      <td>NaN</td>\n",
       "      <td>NaN</td>\n",
       "      <td>NaN</td>\n",
       "      <td>NaN</td>\n",
       "      <td>NaN</td>\n",
       "      <td>NaN</td>\n",
       "      <td>NaN</td>\n",
       "      <td>NaN</td>\n",
       "      <td>NaN</td>\n",
       "      <td>NaN</td>\n",
       "      <td>NaN</td>\n",
       "      <td>NaN</td>\n",
       "      <td>NaN</td>\n",
       "      <td>NaN</td>\n",
       "      <td>NaN</td>\n",
       "      <td>NaN</td>\n",
       "      <td>NaN</td>\n",
       "      <td>NaN</td>\n",
       "      <td>NaN</td>\n",
       "      <td>NaN</td>\n",
       "      <td>NaN</td>\n",
       "      <td>NaN</td>\n",
       "      <td>NaN</td>\n",
       "      <td>NaN</td>\n",
       "      <td>NaN</td>\n",
       "      <td>NaN</td>\n",
       "      <td>NaN</td>\n",
       "      <td>NaN</td>\n",
       "      <td>NaN</td>\n",
       "      <td>NaN</td>\n",
       "      <td>NaN</td>\n",
       "      <td>NaN</td>\n",
       "      <td>NaN</td>\n",
       "      <td>...</td>\n",
       "      <td>NaN</td>\n",
       "      <td>NaN</td>\n",
       "      <td>NaN</td>\n",
       "      <td>NaN</td>\n",
       "      <td>NaN</td>\n",
       "      <td>NaN</td>\n",
       "      <td>NaN</td>\n",
       "      <td>NaN</td>\n",
       "      <td>NaN</td>\n",
       "      <td>NaN</td>\n",
       "      <td>NaN</td>\n",
       "      <td>NaN</td>\n",
       "      <td>NaN</td>\n",
       "      <td>NaN</td>\n",
       "      <td>NaN</td>\n",
       "      <td>NaN</td>\n",
       "      <td>NaN</td>\n",
       "      <td>NaN</td>\n",
       "      <td>NaN</td>\n",
       "      <td>NaN</td>\n",
       "      <td>NaN</td>\n",
       "      <td>NaN</td>\n",
       "      <td>NaN</td>\n",
       "      <td>NaN</td>\n",
       "      <td>NaN</td>\n",
       "      <td>NaN</td>\n",
       "      <td>NaN</td>\n",
       "      <td>NaN</td>\n",
       "      <td>NaN</td>\n",
       "      <td>NaN</td>\n",
       "      <td>NaN</td>\n",
       "      <td>NaN</td>\n",
       "      <td>NaN</td>\n",
       "      <td>NaN</td>\n",
       "      <td>NaN</td>\n",
       "      <td>NaN</td>\n",
       "      <td>NaN</td>\n",
       "      <td>NaN</td>\n",
       "      <td>NaN</td>\n",
       "      <td>NaN</td>\n",
       "    </tr>\n",
       "    <tr>\n",
       "      <th>...</th>\n",
       "      <td>...</td>\n",
       "      <td>...</td>\n",
       "      <td>...</td>\n",
       "      <td>...</td>\n",
       "      <td>...</td>\n",
       "      <td>...</td>\n",
       "      <td>...</td>\n",
       "      <td>...</td>\n",
       "      <td>...</td>\n",
       "      <td>...</td>\n",
       "      <td>...</td>\n",
       "      <td>...</td>\n",
       "      <td>...</td>\n",
       "      <td>...</td>\n",
       "      <td>...</td>\n",
       "      <td>...</td>\n",
       "      <td>...</td>\n",
       "      <td>...</td>\n",
       "      <td>...</td>\n",
       "      <td>...</td>\n",
       "      <td>...</td>\n",
       "      <td>...</td>\n",
       "      <td>...</td>\n",
       "      <td>...</td>\n",
       "      <td>...</td>\n",
       "      <td>...</td>\n",
       "      <td>...</td>\n",
       "      <td>...</td>\n",
       "      <td>...</td>\n",
       "      <td>...</td>\n",
       "      <td>...</td>\n",
       "      <td>...</td>\n",
       "      <td>...</td>\n",
       "      <td>...</td>\n",
       "      <td>...</td>\n",
       "      <td>...</td>\n",
       "      <td>...</td>\n",
       "      <td>...</td>\n",
       "      <td>...</td>\n",
       "      <td>...</td>\n",
       "      <td>...</td>\n",
       "      <td>...</td>\n",
       "      <td>...</td>\n",
       "      <td>...</td>\n",
       "      <td>...</td>\n",
       "      <td>...</td>\n",
       "      <td>...</td>\n",
       "      <td>...</td>\n",
       "      <td>...</td>\n",
       "      <td>...</td>\n",
       "      <td>...</td>\n",
       "      <td>...</td>\n",
       "      <td>...</td>\n",
       "      <td>...</td>\n",
       "      <td>...</td>\n",
       "      <td>...</td>\n",
       "      <td>...</td>\n",
       "      <td>...</td>\n",
       "      <td>...</td>\n",
       "      <td>...</td>\n",
       "      <td>...</td>\n",
       "      <td>...</td>\n",
       "      <td>...</td>\n",
       "      <td>...</td>\n",
       "      <td>...</td>\n",
       "      <td>...</td>\n",
       "      <td>...</td>\n",
       "      <td>...</td>\n",
       "      <td>...</td>\n",
       "      <td>...</td>\n",
       "      <td>...</td>\n",
       "      <td>...</td>\n",
       "      <td>...</td>\n",
       "      <td>...</td>\n",
       "      <td>...</td>\n",
       "      <td>...</td>\n",
       "      <td>...</td>\n",
       "      <td>...</td>\n",
       "      <td>...</td>\n",
       "      <td>...</td>\n",
       "      <td>...</td>\n",
       "    </tr>\n",
       "    <tr>\n",
       "      <th>2019-02</th>\n",
       "      <td>0.0</td>\n",
       "      <td>NaN</td>\n",
       "      <td>0.0</td>\n",
       "      <td>0.0</td>\n",
       "      <td>0.0</td>\n",
       "      <td>0.0</td>\n",
       "      <td>NaN</td>\n",
       "      <td>NaN</td>\n",
       "      <td>0.0</td>\n",
       "      <td>0.0</td>\n",
       "      <td>0.0</td>\n",
       "      <td>0.0</td>\n",
       "      <td>0.0</td>\n",
       "      <td>NaN</td>\n",
       "      <td>0.0</td>\n",
       "      <td>0.0</td>\n",
       "      <td>0.0</td>\n",
       "      <td>NaN</td>\n",
       "      <td>NaN</td>\n",
       "      <td>0.0</td>\n",
       "      <td>0.0</td>\n",
       "      <td>0.0</td>\n",
       "      <td>NaN</td>\n",
       "      <td>0.0</td>\n",
       "      <td>0.0</td>\n",
       "      <td>0.0</td>\n",
       "      <td>NaN</td>\n",
       "      <td>0.0</td>\n",
       "      <td>0.0</td>\n",
       "      <td>0.0</td>\n",
       "      <td>0.777778</td>\n",
       "      <td>0.0</td>\n",
       "      <td>0.0</td>\n",
       "      <td>0.0</td>\n",
       "      <td>0.0</td>\n",
       "      <td>NaN</td>\n",
       "      <td>NaN</td>\n",
       "      <td>NaN</td>\n",
       "      <td>NaN</td>\n",
       "      <td>0.0</td>\n",
       "      <td>...</td>\n",
       "      <td>0.0</td>\n",
       "      <td>0.0</td>\n",
       "      <td>0.0</td>\n",
       "      <td>0.0</td>\n",
       "      <td>NaN</td>\n",
       "      <td>0.083333</td>\n",
       "      <td>0.333333</td>\n",
       "      <td>NaN</td>\n",
       "      <td>NaN</td>\n",
       "      <td>NaN</td>\n",
       "      <td>NaN</td>\n",
       "      <td>NaN</td>\n",
       "      <td>NaN</td>\n",
       "      <td>NaN</td>\n",
       "      <td>NaN</td>\n",
       "      <td>NaN</td>\n",
       "      <td>NaN</td>\n",
       "      <td>NaN</td>\n",
       "      <td>0.277778</td>\n",
       "      <td>0.277778</td>\n",
       "      <td>0.277778</td>\n",
       "      <td>0.444444</td>\n",
       "      <td>0.277778</td>\n",
       "      <td>0.277778</td>\n",
       "      <td>0.277778</td>\n",
       "      <td>0.277778</td>\n",
       "      <td>0.277778</td>\n",
       "      <td>NaN</td>\n",
       "      <td>0.277778</td>\n",
       "      <td>0.277778</td>\n",
       "      <td>0.277778</td>\n",
       "      <td>0.277778</td>\n",
       "      <td>0.277778</td>\n",
       "      <td>0.777778</td>\n",
       "      <td>NaN</td>\n",
       "      <td>NaN</td>\n",
       "      <td>0.444444</td>\n",
       "      <td>NaN</td>\n",
       "      <td>0.444444</td>\n",
       "      <td>0.777778</td>\n",
       "    </tr>\n",
       "    <tr>\n",
       "      <th>2019-03</th>\n",
       "      <td>0.0</td>\n",
       "      <td>NaN</td>\n",
       "      <td>0.0</td>\n",
       "      <td>0.0</td>\n",
       "      <td>0.0</td>\n",
       "      <td>0.0</td>\n",
       "      <td>NaN</td>\n",
       "      <td>NaN</td>\n",
       "      <td>0.0</td>\n",
       "      <td>0.0</td>\n",
       "      <td>0.0</td>\n",
       "      <td>0.0</td>\n",
       "      <td>0.0</td>\n",
       "      <td>NaN</td>\n",
       "      <td>0.0</td>\n",
       "      <td>0.0</td>\n",
       "      <td>0.0</td>\n",
       "      <td>NaN</td>\n",
       "      <td>NaN</td>\n",
       "      <td>0.0</td>\n",
       "      <td>0.0</td>\n",
       "      <td>0.0</td>\n",
       "      <td>NaN</td>\n",
       "      <td>0.0</td>\n",
       "      <td>0.0</td>\n",
       "      <td>0.0</td>\n",
       "      <td>NaN</td>\n",
       "      <td>0.0</td>\n",
       "      <td>0.0</td>\n",
       "      <td>0.0</td>\n",
       "      <td>0.750000</td>\n",
       "      <td>0.0</td>\n",
       "      <td>0.0</td>\n",
       "      <td>0.0</td>\n",
       "      <td>0.0</td>\n",
       "      <td>NaN</td>\n",
       "      <td>NaN</td>\n",
       "      <td>NaN</td>\n",
       "      <td>NaN</td>\n",
       "      <td>0.0</td>\n",
       "      <td>...</td>\n",
       "      <td>0.0</td>\n",
       "      <td>0.0</td>\n",
       "      <td>0.0</td>\n",
       "      <td>0.0</td>\n",
       "      <td>NaN</td>\n",
       "      <td>0.055556</td>\n",
       "      <td>0.333333</td>\n",
       "      <td>NaN</td>\n",
       "      <td>NaN</td>\n",
       "      <td>NaN</td>\n",
       "      <td>NaN</td>\n",
       "      <td>NaN</td>\n",
       "      <td>NaN</td>\n",
       "      <td>NaN</td>\n",
       "      <td>NaN</td>\n",
       "      <td>NaN</td>\n",
       "      <td>NaN</td>\n",
       "      <td>NaN</td>\n",
       "      <td>0.250000</td>\n",
       "      <td>0.250000</td>\n",
       "      <td>0.250000</td>\n",
       "      <td>0.416667</td>\n",
       "      <td>0.250000</td>\n",
       "      <td>0.250000</td>\n",
       "      <td>0.250000</td>\n",
       "      <td>0.250000</td>\n",
       "      <td>0.250000</td>\n",
       "      <td>NaN</td>\n",
       "      <td>0.250000</td>\n",
       "      <td>0.250000</td>\n",
       "      <td>0.250000</td>\n",
       "      <td>0.250000</td>\n",
       "      <td>0.250000</td>\n",
       "      <td>0.750000</td>\n",
       "      <td>NaN</td>\n",
       "      <td>NaN</td>\n",
       "      <td>0.416667</td>\n",
       "      <td>NaN</td>\n",
       "      <td>0.416667</td>\n",
       "      <td>0.750000</td>\n",
       "    </tr>\n",
       "    <tr>\n",
       "      <th>2019-04</th>\n",
       "      <td>0.0</td>\n",
       "      <td>NaN</td>\n",
       "      <td>0.0</td>\n",
       "      <td>0.0</td>\n",
       "      <td>0.0</td>\n",
       "      <td>0.0</td>\n",
       "      <td>NaN</td>\n",
       "      <td>NaN</td>\n",
       "      <td>0.0</td>\n",
       "      <td>0.0</td>\n",
       "      <td>0.0</td>\n",
       "      <td>0.0</td>\n",
       "      <td>0.0</td>\n",
       "      <td>NaN</td>\n",
       "      <td>0.0</td>\n",
       "      <td>0.0</td>\n",
       "      <td>0.0</td>\n",
       "      <td>NaN</td>\n",
       "      <td>NaN</td>\n",
       "      <td>0.0</td>\n",
       "      <td>0.0</td>\n",
       "      <td>0.0</td>\n",
       "      <td>NaN</td>\n",
       "      <td>0.0</td>\n",
       "      <td>0.0</td>\n",
       "      <td>0.0</td>\n",
       "      <td>NaN</td>\n",
       "      <td>0.0</td>\n",
       "      <td>0.0</td>\n",
       "      <td>0.0</td>\n",
       "      <td>0.722222</td>\n",
       "      <td>0.0</td>\n",
       "      <td>0.0</td>\n",
       "      <td>0.0</td>\n",
       "      <td>0.0</td>\n",
       "      <td>NaN</td>\n",
       "      <td>NaN</td>\n",
       "      <td>NaN</td>\n",
       "      <td>NaN</td>\n",
       "      <td>0.0</td>\n",
       "      <td>...</td>\n",
       "      <td>0.0</td>\n",
       "      <td>0.0</td>\n",
       "      <td>0.0</td>\n",
       "      <td>0.0</td>\n",
       "      <td>NaN</td>\n",
       "      <td>0.027778</td>\n",
       "      <td>0.333333</td>\n",
       "      <td>NaN</td>\n",
       "      <td>NaN</td>\n",
       "      <td>NaN</td>\n",
       "      <td>NaN</td>\n",
       "      <td>NaN</td>\n",
       "      <td>NaN</td>\n",
       "      <td>NaN</td>\n",
       "      <td>NaN</td>\n",
       "      <td>NaN</td>\n",
       "      <td>NaN</td>\n",
       "      <td>NaN</td>\n",
       "      <td>0.222222</td>\n",
       "      <td>0.222222</td>\n",
       "      <td>0.222222</td>\n",
       "      <td>0.388889</td>\n",
       "      <td>0.222222</td>\n",
       "      <td>0.222222</td>\n",
       "      <td>0.222222</td>\n",
       "      <td>0.222222</td>\n",
       "      <td>0.222222</td>\n",
       "      <td>NaN</td>\n",
       "      <td>0.222222</td>\n",
       "      <td>0.222222</td>\n",
       "      <td>0.222222</td>\n",
       "      <td>0.222222</td>\n",
       "      <td>0.222222</td>\n",
       "      <td>0.722222</td>\n",
       "      <td>NaN</td>\n",
       "      <td>NaN</td>\n",
       "      <td>0.388889</td>\n",
       "      <td>NaN</td>\n",
       "      <td>0.388889</td>\n",
       "      <td>0.722222</td>\n",
       "    </tr>\n",
       "    <tr>\n",
       "      <th>2019-05</th>\n",
       "      <td>0.0</td>\n",
       "      <td>NaN</td>\n",
       "      <td>0.0</td>\n",
       "      <td>0.0</td>\n",
       "      <td>0.0</td>\n",
       "      <td>0.0</td>\n",
       "      <td>NaN</td>\n",
       "      <td>NaN</td>\n",
       "      <td>0.0</td>\n",
       "      <td>0.0</td>\n",
       "      <td>0.0</td>\n",
       "      <td>0.0</td>\n",
       "      <td>0.0</td>\n",
       "      <td>NaN</td>\n",
       "      <td>0.0</td>\n",
       "      <td>0.0</td>\n",
       "      <td>0.0</td>\n",
       "      <td>NaN</td>\n",
       "      <td>NaN</td>\n",
       "      <td>0.0</td>\n",
       "      <td>0.0</td>\n",
       "      <td>0.0</td>\n",
       "      <td>NaN</td>\n",
       "      <td>0.0</td>\n",
       "      <td>0.0</td>\n",
       "      <td>0.0</td>\n",
       "      <td>NaN</td>\n",
       "      <td>0.0</td>\n",
       "      <td>0.0</td>\n",
       "      <td>0.0</td>\n",
       "      <td>0.694444</td>\n",
       "      <td>0.0</td>\n",
       "      <td>0.0</td>\n",
       "      <td>0.0</td>\n",
       "      <td>0.0</td>\n",
       "      <td>NaN</td>\n",
       "      <td>NaN</td>\n",
       "      <td>NaN</td>\n",
       "      <td>NaN</td>\n",
       "      <td>0.0</td>\n",
       "      <td>...</td>\n",
       "      <td>0.0</td>\n",
       "      <td>0.0</td>\n",
       "      <td>0.0</td>\n",
       "      <td>0.0</td>\n",
       "      <td>NaN</td>\n",
       "      <td>0.000000</td>\n",
       "      <td>0.333333</td>\n",
       "      <td>NaN</td>\n",
       "      <td>NaN</td>\n",
       "      <td>NaN</td>\n",
       "      <td>NaN</td>\n",
       "      <td>NaN</td>\n",
       "      <td>NaN</td>\n",
       "      <td>NaN</td>\n",
       "      <td>NaN</td>\n",
       "      <td>NaN</td>\n",
       "      <td>NaN</td>\n",
       "      <td>NaN</td>\n",
       "      <td>0.194444</td>\n",
       "      <td>0.194444</td>\n",
       "      <td>0.194444</td>\n",
       "      <td>0.361111</td>\n",
       "      <td>0.194444</td>\n",
       "      <td>0.194444</td>\n",
       "      <td>0.194444</td>\n",
       "      <td>0.194444</td>\n",
       "      <td>0.194444</td>\n",
       "      <td>NaN</td>\n",
       "      <td>0.194444</td>\n",
       "      <td>0.194444</td>\n",
       "      <td>0.194444</td>\n",
       "      <td>0.194444</td>\n",
       "      <td>0.194444</td>\n",
       "      <td>0.694444</td>\n",
       "      <td>NaN</td>\n",
       "      <td>NaN</td>\n",
       "      <td>0.361111</td>\n",
       "      <td>NaN</td>\n",
       "      <td>0.361111</td>\n",
       "      <td>0.694444</td>\n",
       "    </tr>\n",
       "    <tr>\n",
       "      <th>2019-06</th>\n",
       "      <td>0.0</td>\n",
       "      <td>NaN</td>\n",
       "      <td>0.0</td>\n",
       "      <td>0.0</td>\n",
       "      <td>0.0</td>\n",
       "      <td>0.0</td>\n",
       "      <td>0.333333</td>\n",
       "      <td>NaN</td>\n",
       "      <td>0.0</td>\n",
       "      <td>0.0</td>\n",
       "      <td>0.0</td>\n",
       "      <td>0.0</td>\n",
       "      <td>0.0</td>\n",
       "      <td>NaN</td>\n",
       "      <td>0.0</td>\n",
       "      <td>0.0</td>\n",
       "      <td>0.0</td>\n",
       "      <td>NaN</td>\n",
       "      <td>NaN</td>\n",
       "      <td>0.0</td>\n",
       "      <td>0.0</td>\n",
       "      <td>0.0</td>\n",
       "      <td>NaN</td>\n",
       "      <td>0.0</td>\n",
       "      <td>0.0</td>\n",
       "      <td>0.0</td>\n",
       "      <td>NaN</td>\n",
       "      <td>0.0</td>\n",
       "      <td>0.0</td>\n",
       "      <td>0.0</td>\n",
       "      <td>0.666667</td>\n",
       "      <td>0.0</td>\n",
       "      <td>0.0</td>\n",
       "      <td>0.0</td>\n",
       "      <td>0.0</td>\n",
       "      <td>NaN</td>\n",
       "      <td>NaN</td>\n",
       "      <td>NaN</td>\n",
       "      <td>NaN</td>\n",
       "      <td>0.0</td>\n",
       "      <td>...</td>\n",
       "      <td>0.0</td>\n",
       "      <td>0.0</td>\n",
       "      <td>0.0</td>\n",
       "      <td>0.0</td>\n",
       "      <td>NaN</td>\n",
       "      <td>0.000000</td>\n",
       "      <td>0.305556</td>\n",
       "      <td>NaN</td>\n",
       "      <td>NaN</td>\n",
       "      <td>NaN</td>\n",
       "      <td>NaN</td>\n",
       "      <td>NaN</td>\n",
       "      <td>NaN</td>\n",
       "      <td>NaN</td>\n",
       "      <td>NaN</td>\n",
       "      <td>NaN</td>\n",
       "      <td>NaN</td>\n",
       "      <td>NaN</td>\n",
       "      <td>0.166667</td>\n",
       "      <td>0.166667</td>\n",
       "      <td>0.166667</td>\n",
       "      <td>0.333333</td>\n",
       "      <td>0.166667</td>\n",
       "      <td>0.166667</td>\n",
       "      <td>0.166667</td>\n",
       "      <td>0.166667</td>\n",
       "      <td>0.166667</td>\n",
       "      <td>NaN</td>\n",
       "      <td>0.166667</td>\n",
       "      <td>0.166667</td>\n",
       "      <td>0.166667</td>\n",
       "      <td>0.166667</td>\n",
       "      <td>0.166667</td>\n",
       "      <td>0.666667</td>\n",
       "      <td>NaN</td>\n",
       "      <td>NaN</td>\n",
       "      <td>0.333333</td>\n",
       "      <td>NaN</td>\n",
       "      <td>0.333333</td>\n",
       "      <td>0.666667</td>\n",
       "    </tr>\n",
       "  </tbody>\n",
       "</table>\n",
       "<p>169 rows × 5286 columns</p>\n",
       "</div>"
      ],
      "text/plain": [
       "Symbol   000001  000006  000011  000017  ...    960024  960026    960028    960033\n",
       "Date                                     ...                                      \n",
       "2005-06     0.0     NaN     NaN     NaN  ...       NaN     NaN       NaN       NaN\n",
       "2005-07     0.0     NaN     NaN     NaN  ...       NaN     NaN       NaN       NaN\n",
       "2005-08     0.0     NaN     NaN     NaN  ...       NaN     NaN       NaN       NaN\n",
       "2005-09     0.0     NaN     NaN     NaN  ...       NaN     NaN       NaN       NaN\n",
       "2005-10     0.0     NaN     NaN     NaN  ...       NaN     NaN       NaN       NaN\n",
       "...         ...     ...     ...     ...  ...       ...     ...       ...       ...\n",
       "2019-02     0.0     NaN     0.0     0.0  ...  0.444444     NaN  0.444444  0.777778\n",
       "2019-03     0.0     NaN     0.0     0.0  ...  0.416667     NaN  0.416667  0.750000\n",
       "2019-04     0.0     NaN     0.0     0.0  ...  0.388889     NaN  0.388889  0.722222\n",
       "2019-05     0.0     NaN     0.0     0.0  ...  0.361111     NaN  0.361111  0.694444\n",
       "2019-06     0.0     NaN     0.0     0.0  ...  0.333333     NaN  0.333333  0.666667\n",
       "\n",
       "[169 rows x 5286 columns]"
      ]
     },
     "execution_count": 89,
     "metadata": {},
     "output_type": "execute_result"
    }
   ],
   "source": [
    "MAX_NA_NUM = 35\n",
    "\n",
    "return_of_all_fund_na_ratio = return_of_all_fund_.rolling(window = 36, min_periods = 36 - MAX_NA_NUM).apply(α_na_ratio)\n",
    "return_of_all_fund_na_ratio"
   ]
  },
  {
   "cell_type": "markdown",
   "metadata": {},
   "source": [
    "### last 3 years' excess return on CAPM"
   ]
  },
  {
   "cell_type": "code",
   "execution_count": 90,
   "metadata": {},
   "outputs": [],
   "source": [
    "from factors import *\n",
    "from IPython.display import display"
   ]
  },
  {
   "cell_type": "code",
   "execution_count": 91,
   "metadata": {},
   "outputs": [
    {
     "data": {
      "text/html": [
       "<div>\n",
       "<style scoped>\n",
       "    .dataframe tbody tr th:only-of-type {\n",
       "        vertical-align: middle;\n",
       "    }\n",
       "\n",
       "    .dataframe tbody tr th {\n",
       "        vertical-align: top;\n",
       "    }\n",
       "\n",
       "    .dataframe thead th {\n",
       "        text-align: right;\n",
       "    }\n",
       "</style>\n",
       "<table border=\"1\" class=\"dataframe\">\n",
       "  <thead>\n",
       "    <tr style=\"text-align: right;\">\n",
       "      <th></th>\n",
       "      <th></th>\n",
       "      <th>group0</th>\n",
       "      <th>group1</th>\n",
       "      <th>group2</th>\n",
       "      <th>group3</th>\n",
       "      <th>group4</th>\n",
       "      <th>long-short</th>\n",
       "    </tr>\n",
       "  </thead>\n",
       "  <tbody>\n",
       "    <tr>\n",
       "      <th rowspan=\"4\" valign=\"top\">excess</th>\n",
       "      <th>α (monthly)</th>\n",
       "      <td>0.942%</td>\n",
       "      <td>1.07%</td>\n",
       "      <td>1.08%</td>\n",
       "      <td>1.257%</td>\n",
       "      <td>1.205%</td>\n",
       "      <td>0.263%</td>\n",
       "    </tr>\n",
       "    <tr>\n",
       "      <th>annual α</th>\n",
       "      <td>11.91%</td>\n",
       "      <td>13.63%</td>\n",
       "      <td>13.76%</td>\n",
       "      <td>16.17%</td>\n",
       "      <td>15.45%</td>\n",
       "      <td>3.2%</td>\n",
       "    </tr>\n",
       "    <tr>\n",
       "      <th>t</th>\n",
       "      <td>1.686</td>\n",
       "      <td>1.907</td>\n",
       "      <td>1.933</td>\n",
       "      <td>2.232</td>\n",
       "      <td>2.075</td>\n",
       "      <td>1.482</td>\n",
       "    </tr>\n",
       "    <tr>\n",
       "      <th>R^2</th>\n",
       "      <td>-0.0</td>\n",
       "      <td>0.0</td>\n",
       "      <td>-0.0</td>\n",
       "      <td>0.0</td>\n",
       "      <td>-0.0</td>\n",
       "      <td>-0.0</td>\n",
       "    </tr>\n",
       "    <tr>\n",
       "      <th rowspan=\"4\" valign=\"top\">capm α</th>\n",
       "      <th>α (monthly)</th>\n",
       "      <td>0.091%</td>\n",
       "      <td>0.222%</td>\n",
       "      <td>0.243%</td>\n",
       "      <td>0.471%</td>\n",
       "      <td>0.377%</td>\n",
       "      <td>0.286%</td>\n",
       "    </tr>\n",
       "    <tr>\n",
       "      <th>annual α</th>\n",
       "      <td>1.1%</td>\n",
       "      <td>2.69%</td>\n",
       "      <td>2.95%</td>\n",
       "      <td>5.8%</td>\n",
       "      <td>4.62%</td>\n",
       "      <td>3.49%</td>\n",
       "    </tr>\n",
       "    <tr>\n",
       "      <th>t</th>\n",
       "      <td>0.646</td>\n",
       "      <td>1.416</td>\n",
       "      <td>1.41</td>\n",
       "      <td>1.791</td>\n",
       "      <td>1.52</td>\n",
       "      <td>1.605</td>\n",
       "    </tr>\n",
       "    <tr>\n",
       "      <th>R^2</th>\n",
       "      <td>0.938</td>\n",
       "      <td>0.924</td>\n",
       "      <td>0.907</td>\n",
       "      <td>0.787</td>\n",
       "      <td>0.821</td>\n",
       "      <td>0.007</td>\n",
       "    </tr>\n",
       "    <tr>\n",
       "      <th rowspan=\"4\" valign=\"top\">svc α</th>\n",
       "      <th>α (monthly)</th>\n",
       "      <td>0.159%</td>\n",
       "      <td>0.323%</td>\n",
       "      <td>0.405%</td>\n",
       "      <td>0.524%</td>\n",
       "      <td>0.645%</td>\n",
       "      <td>0.486%</td>\n",
       "    </tr>\n",
       "    <tr>\n",
       "      <th>annual α</th>\n",
       "      <td>1.92%</td>\n",
       "      <td>3.94%</td>\n",
       "      <td>4.97%</td>\n",
       "      <td>6.47%</td>\n",
       "      <td>8.02%</td>\n",
       "      <td>5.99%</td>\n",
       "    </tr>\n",
       "    <tr>\n",
       "      <th>t</th>\n",
       "      <td>0.996</td>\n",
       "      <td>1.812</td>\n",
       "      <td>2.092</td>\n",
       "      <td>1.713</td>\n",
       "      <td>2.346</td>\n",
       "      <td>2.41</td>\n",
       "    </tr>\n",
       "    <tr>\n",
       "      <th>R^2</th>\n",
       "      <td>0.942</td>\n",
       "      <td>0.928</td>\n",
       "      <td>0.914</td>\n",
       "      <td>0.788</td>\n",
       "      <td>0.839</td>\n",
       "      <td>0.07</td>\n",
       "    </tr>\n",
       "  </tbody>\n",
       "</table>\n",
       "</div>"
      ],
      "text/plain": [
       "                    group0  group1  group2  group3  group4 long-short\n",
       "excess α (monthly)  0.942%   1.07%   1.08%  1.257%  1.205%     0.263%\n",
       "       annual α     11.91%  13.63%  13.76%  16.17%  15.45%       3.2%\n",
       "       t             1.686   1.907   1.933   2.232   2.075      1.482\n",
       "       R^2            -0.0     0.0    -0.0     0.0    -0.0       -0.0\n",
       "capm α α (monthly)  0.091%  0.222%  0.243%  0.471%  0.377%     0.286%\n",
       "       annual α       1.1%   2.69%   2.95%    5.8%   4.62%      3.49%\n",
       "       t             0.646   1.416    1.41   1.791    1.52      1.605\n",
       "       R^2           0.938   0.924   0.907   0.787   0.821      0.007\n",
       "svc α  α (monthly)  0.159%  0.323%  0.405%  0.524%  0.645%     0.486%\n",
       "       annual α      1.92%   3.94%   4.97%   6.47%   8.02%      5.99%\n",
       "       t             0.996   1.812   2.092   1.713   2.346       2.41\n",
       "       R^2           0.942   0.928   0.914   0.788   0.839       0.07"
      ]
     },
     "metadata": {},
     "output_type": "display_data"
    }
   ],
   "source": [
    "@fund_ended_check\n",
    "def capm_α_generation(x):\n",
    "    x = x.dropna()  \n",
    "    temp_dates = x.index\n",
    "    temp_regression = regression_source.loc[temp_dates]\n",
    "    α = sm.OLS(x - temp_regression.rf, temp_regression[['α', 'mktrf']]).fit().params[0]\n",
    "    return α\n",
    "\n",
    "all_fund_capm_α = return_of_all_fund_.rolling(window = 36, min_periods = 36 - MAX_NA_NUM).apply(capm_α_generation)\n",
    "\n",
    "display(group_and_statistic(all_fund_capm_α))"
   ]
  },
  {
   "cell_type": "markdown",
   "metadata": {},
   "source": [
    "### last 3 years' excess return on SVC"
   ]
  },
  {
   "cell_type": "code",
   "execution_count": 1,
   "metadata": {},
   "outputs": [],
   "source": [
    "from factors import *\n",
    "from IPython.display import display"
   ]
  },
  {
   "cell_type": "code",
   "execution_count": 3,
   "metadata": {},
   "outputs": [
    {
     "data": {
      "text/html": [
       "<div>\n",
       "<style scoped>\n",
       "    .dataframe tbody tr th:only-of-type {\n",
       "        vertical-align: middle;\n",
       "    }\n",
       "\n",
       "    .dataframe tbody tr th {\n",
       "        vertical-align: top;\n",
       "    }\n",
       "\n",
       "    .dataframe thead th {\n",
       "        text-align: right;\n",
       "    }\n",
       "</style>\n",
       "<table border=\"1\" class=\"dataframe\">\n",
       "  <thead>\n",
       "    <tr style=\"text-align: right;\">\n",
       "      <th></th>\n",
       "      <th></th>\n",
       "      <th>group0</th>\n",
       "      <th>group1</th>\n",
       "      <th>group2</th>\n",
       "      <th>group3</th>\n",
       "      <th>group4</th>\n",
       "      <th>long-short</th>\n",
       "    </tr>\n",
       "  </thead>\n",
       "  <tbody>\n",
       "    <tr>\n",
       "      <th rowspan=\"4\" valign=\"top\">excess</th>\n",
       "      <th>α (monthly)</th>\n",
       "      <td>0.889%</td>\n",
       "      <td>1.017%</td>\n",
       "      <td>1.065%</td>\n",
       "      <td>1.287%</td>\n",
       "      <td>1.165%</td>\n",
       "      <td>0.276%</td>\n",
       "    </tr>\n",
       "    <tr>\n",
       "      <th>annual α</th>\n",
       "      <td>11.2%</td>\n",
       "      <td>12.92%</td>\n",
       "      <td>13.56%</td>\n",
       "      <td>16.58%</td>\n",
       "      <td>14.91%</td>\n",
       "      <td>3.36%</td>\n",
       "    </tr>\n",
       "    <tr>\n",
       "      <th>t</th>\n",
       "      <td>1.843</td>\n",
       "      <td>2.171</td>\n",
       "      <td>2.257</td>\n",
       "      <td>2.577</td>\n",
       "      <td>2.323</td>\n",
       "      <td>1.694</td>\n",
       "    </tr>\n",
       "    <tr>\n",
       "      <th>R^2</th>\n",
       "      <td>0.0</td>\n",
       "      <td>-0.0</td>\n",
       "      <td>0.0</td>\n",
       "      <td>0.0</td>\n",
       "      <td>0.0</td>\n",
       "      <td>-0.0</td>\n",
       "    </tr>\n",
       "    <tr>\n",
       "      <th rowspan=\"4\" valign=\"top\">capm α</th>\n",
       "      <th>α (monthly)</th>\n",
       "      <td>0.114%</td>\n",
       "      <td>0.269%</td>\n",
       "      <td>0.32%</td>\n",
       "      <td>0.562%</td>\n",
       "      <td>0.414%</td>\n",
       "      <td>0.3%</td>\n",
       "    </tr>\n",
       "    <tr>\n",
       "      <th>annual α</th>\n",
       "      <td>1.37%</td>\n",
       "      <td>3.28%</td>\n",
       "      <td>3.91%</td>\n",
       "      <td>6.96%</td>\n",
       "      <td>5.08%</td>\n",
       "      <td>3.66%</td>\n",
       "    </tr>\n",
       "    <tr>\n",
       "      <th>t</th>\n",
       "      <td>0.899</td>\n",
       "      <td>2.01</td>\n",
       "      <td>2.116</td>\n",
       "      <td>2.274</td>\n",
       "      <td>1.874</td>\n",
       "      <td>1.833</td>\n",
       "    </tr>\n",
       "    <tr>\n",
       "      <th>R^2</th>\n",
       "      <td>0.932</td>\n",
       "      <td>0.92</td>\n",
       "      <td>0.899</td>\n",
       "      <td>0.759</td>\n",
       "      <td>0.809</td>\n",
       "      <td>0.008</td>\n",
       "    </tr>\n",
       "    <tr>\n",
       "      <th rowspan=\"4\" valign=\"top\">svc α</th>\n",
       "      <th>α (monthly)</th>\n",
       "      <td>0.2%</td>\n",
       "      <td>0.462%</td>\n",
       "      <td>0.627%</td>\n",
       "      <td>0.9%</td>\n",
       "      <td>0.985%</td>\n",
       "      <td>0.785%</td>\n",
       "    </tr>\n",
       "    <tr>\n",
       "      <th>annual α</th>\n",
       "      <td>2.42%</td>\n",
       "      <td>5.68%</td>\n",
       "      <td>7.79%</td>\n",
       "      <td>11.35%</td>\n",
       "      <td>12.48%</td>\n",
       "      <td>9.84%</td>\n",
       "    </tr>\n",
       "    <tr>\n",
       "      <th>t</th>\n",
       "      <td>1.43</td>\n",
       "      <td>3.187</td>\n",
       "      <td>3.985</td>\n",
       "      <td>3.357</td>\n",
       "      <td>4.53</td>\n",
       "      <td>5.231</td>\n",
       "    </tr>\n",
       "    <tr>\n",
       "      <th>R^2</th>\n",
       "      <td>0.933</td>\n",
       "      <td>0.924</td>\n",
       "      <td>0.911</td>\n",
       "      <td>0.77</td>\n",
       "      <td>0.85</td>\n",
       "      <td>0.324</td>\n",
       "    </tr>\n",
       "  </tbody>\n",
       "</table>\n",
       "</div>"
      ],
      "text/plain": [
       "                    group0  group1  group2  group3  group4 long-short\n",
       "excess α (monthly)  0.889%  1.017%  1.065%  1.287%  1.165%     0.276%\n",
       "       annual α      11.2%  12.92%  13.56%  16.58%  14.91%      3.36%\n",
       "       t             1.843   2.171   2.257   2.577   2.323      1.694\n",
       "       R^2             0.0    -0.0     0.0     0.0     0.0       -0.0\n",
       "capm α α (monthly)  0.114%  0.269%   0.32%  0.562%  0.414%       0.3%\n",
       "       annual α      1.37%   3.28%   3.91%   6.96%   5.08%      3.66%\n",
       "       t             0.899    2.01   2.116   2.274   1.874      1.833\n",
       "       R^2           0.932    0.92   0.899   0.759   0.809      0.008\n",
       "svc α  α (monthly)    0.2%  0.462%  0.627%    0.9%  0.985%     0.785%\n",
       "       annual α      2.42%   5.68%   7.79%  11.35%  12.48%      9.84%\n",
       "       t              1.43   3.187   3.985   3.357    4.53      5.231\n",
       "       R^2           0.933   0.924   0.911    0.77    0.85      0.324"
      ]
     },
     "metadata": {},
     "output_type": "display_data"
    }
   ],
   "source": [
    "@fund_ended_check\n",
    "def svc_α_generation(x):\n",
    "    x = x.dropna()  \n",
    "    temp_dates = x.index\n",
    "    temp_regression = regression_source.loc[temp_dates]\n",
    "    α = sm.OLS(x - temp_regression.rf, temp_regression[['α', 'mktrf', 'smb', 'vmg']]).fit().params[0]\n",
    "    return α\n",
    "\n",
    "all_fund_svc_α = return_of_all_fund_.loc['2005-6':].rolling(window = 36, min_periods = 36 - MAX_NA_NUM).apply(svc_α_generation)\n",
    "\n",
    "display(group_and_statistic(all_fund_svc_α))"
   ]
  },
  {
   "cell_type": "code",
   "execution_count": 7,
   "metadata": {},
   "outputs": [
    {
     "data": {
      "text/plain": [
       "Symbol\n",
       "008998   -0.045966\n",
       "008997   -0.045623\n",
       "008293   -0.043450\n",
       "009017   -0.040831\n",
       "009277   -0.039284\n",
       "            ...   \n",
       "006977    0.052186\n",
       "007690    0.053853\n",
       "007689    0.054203\n",
       "006736    0.057086\n",
       "519969    0.228923\n",
       "Name: 2021-12, Length: 3503, dtype: float64"
      ]
     },
     "execution_count": 7,
     "metadata": {},
     "output_type": "execute_result"
    }
   ],
   "source": [
    "all_fund_svc_α.loc['2021-12'].sort_values().dropna()"
   ]
  },
  {
   "cell_type": "code",
   "execution_count": 33,
   "metadata": {},
   "outputs": [],
   "source": [
    "from data.TwoStepData.return_of_all_fund import return_of_all_fund\n",
    "from data.SVC.svc_source import svc_source"
   ]
  },
  {
   "cell_type": "code",
   "execution_count": 34,
   "metadata": {},
   "outputs": [
    {
     "data": {
      "image/png": "[encoded data removed]",
      "text/plain": [
       "<Figure size 1152x576 with 1 Axes>"
      ]
     },
     "metadata": {
      "needs_background": "light"
     },
     "output_type": "display_data"
    }
   ],
   "source": [
    "plt.figure(figsize=(16, 8))\n",
    "(svc_source.loc['2022-1':, 'mktrf'] + 1).cumprod().plot()\n",
    "return_of_all_fund.unstack().loc['006977', '2022-1':].cumprod().plot()\n",
    "return_of_all_fund.unstack().loc['007690', '2022-1':].cumprod().plot()\n",
    "return_of_all_fund.unstack().loc['007689', '2022-1':].cumprod().plot()\n",
    "return_of_all_fund.unstack().loc['006736', '2022-1':].cumprod().plot()\n",
    "return_of_all_fund.unstack().loc['519969', '2022-1':].cumprod().plot()\n",
    "plt.legend()\n",
    "plt.grid()"
   ]
  },
  {
   "cell_type": "code",
   "execution_count": 35,
   "metadata": {},
   "outputs": [
    {
     "data": {
      "image/png": "[encoded data removed]",
      "text/plain": [
       "<Figure size 1152x576 with 1 Axes>"
      ]
     },
     "metadata": {
      "needs_background": "light"
     },
     "output_type": "display_data"
    }
   ],
   "source": [
    "plt.figure(figsize=(16, 8))\n",
    "(svc_source.loc['2022-1':, 'mktrf'] + 1).cumprod().plot()\n",
    "return_of_all_fund.unstack().loc['008998', '2022-1':].cumprod().plot()\n",
    "return_of_all_fund.unstack().loc['008997', '2022-1':].cumprod().plot()\n",
    "return_of_all_fund.unstack().loc['008293', '2022-1':].cumprod().plot()\n",
    "return_of_all_fund.unstack().loc['009017', '2022-1':].cumprod().plot()\n",
    "return_of_all_fund.unstack().loc['009277', '2022-1':].cumprod().plot()\n",
    "plt.legend()\n",
    "plt.grid()"
   ]
  },
  {
   "cell_type": "markdown",
   "metadata": {},
   "source": [
    "### industry concentration"
   ]
  },
  {
   "cell_type": "code",
   "execution_count": 122,
   "metadata": {},
   "outputs": [],
   "source": [
    "from data.CSMAR.invest_detail import invest_detail\n",
    "from data.JoinQuant.jq_stock_classification import jq_stock_classification\n",
    "from data.CSMAR.TRD_Mnth import csmar_monthly_stock_mkt_value\n",
    "from data.TwoStepData.return_of_all_fund import return_of_all_fund"
   ]
  },
  {
   "cell_type": "code",
   "execution_count": 123,
   "metadata": {},
   "outputs": [],
   "source": [
    "return_of_all_fund_ = (return_of_all_fund.unstack(0) - 1).loc['2005-6': '2019-6']\n",
    "\n",
    "invest_detail_ = pd.merge(invest_detail, jq_stock_classification[['Stkcd', 'Indnme']], on='Stkcd', validate='m:1')\n",
    "invest_detail_ = invest_detail_.rename(columns={'EndDate': 'Date'})\n",
    "invest_detail_['Date'] = pd.to_datetime(invest_detail_.Date).dt.to_period('M')\n",
    "\n",
    "month_mkt_value_ = pd.merge(csmar_monthly_stock_mkt_value, jq_stock_classification, on='Stkcd', validate='m:1')\n",
    "month_mkt_value_ = month_mkt_value_.groupby(['Trdmnt', 'Indnme']).apply(lambda x: x.Msmvttl.sum())\n",
    "month_mkt_value_ = month_mkt_value_.unstack().div(month_mkt_value_.unstack().sum(axis=1), axis=0).fillna(0)\n",
    "month_mkt_value_.index = pd.to_datetime(month_mkt_value_.index).to_period('M')\n",
    "month_mkt_value_.index.name = 'Date'\n"
   ]
  },
  {
   "cell_type": "code",
   "execution_count": 101,
   "metadata": {},
   "outputs": [],
   "source": [
    "\n",
    "invest_industry_sum = invest_detail_.groupby(['Symbol', 'Date', 'Indnme']).apply(lambda x: x.Proportion.sum())\n",
    "\n",
    "invest_industry_proportion = invest_industry_sum / invest_industry_sum.groupby(level=[0, 1]).sum()\n",
    "invest_industry_proportion = invest_industry_proportion.unstack(level=[0, 2]).resample('M').ffill().fillna(method='ffill')\n",
    "invest_industry_proportion = invest_industry_proportion.stack(0).swaplevel().sort_index().fillna(0)\n",
    "\n",
    "month_mkt_value_ = pd.merge(invest_industry_proportion.reset_index()[['Symbol', 'Date']], month_mkt_value_, on='Date')\\\n",
    "    .set_index(['Symbol', 'Date']).sort_index()"
   ]
  },
  {
   "cell_type": "code",
   "execution_count": 105,
   "metadata": {},
   "outputs": [],
   "source": [
    "industry_concentration = ((invest_industry_proportion - month_mkt_value_) ** 2).sum(axis=1)\n",
    "industry_concentration = industry_concentration.unstack().T.loc['2005-6': '2019-6']\n",
    "\n",
    "co_funds = np.intersect1d(industry_concentration.columns, return_of_all_fund_.columns)\n",
    "industry_concentration = industry_concentration[co_funds]"
   ]
  },
  {
   "cell_type": "code",
   "execution_count": 106,
   "metadata": {},
   "outputs": [
    {
     "data": {
      "text/html": [
       "<div>\n",
       "<style scoped>\n",
       "    .dataframe tbody tr th:only-of-type {\n",
       "        vertical-align: middle;\n",
       "    }\n",
       "\n",
       "    .dataframe tbody tr th {\n",
       "        vertical-align: top;\n",
       "    }\n",
       "\n",
       "    .dataframe thead th {\n",
       "        text-align: right;\n",
       "    }\n",
       "</style>\n",
       "<table border=\"1\" class=\"dataframe\">\n",
       "  <thead>\n",
       "    <tr style=\"text-align: right;\">\n",
       "      <th></th>\n",
       "      <th></th>\n",
       "      <th>group0</th>\n",
       "      <th>group1</th>\n",
       "      <th>group2</th>\n",
       "      <th>group3</th>\n",
       "      <th>group4</th>\n",
       "      <th>long-short</th>\n",
       "    </tr>\n",
       "  </thead>\n",
       "  <tbody>\n",
       "    <tr>\n",
       "      <th rowspan=\"4\" valign=\"top\">excess</th>\n",
       "      <th>α (monthly)</th>\n",
       "      <td>0.94%</td>\n",
       "      <td>0.921%</td>\n",
       "      <td>1.021%</td>\n",
       "      <td>0.91%</td>\n",
       "      <td>0.768%</td>\n",
       "      <td>-0.172%</td>\n",
       "    </tr>\n",
       "    <tr>\n",
       "      <th>annual α</th>\n",
       "      <td>11.88%</td>\n",
       "      <td>11.63%</td>\n",
       "      <td>12.97%</td>\n",
       "      <td>11.49%</td>\n",
       "      <td>9.61%</td>\n",
       "      <td>-2.05%</td>\n",
       "    </tr>\n",
       "    <tr>\n",
       "      <th>t</th>\n",
       "      <td>2.034</td>\n",
       "      <td>1.999</td>\n",
       "      <td>2.161</td>\n",
       "      <td>1.973</td>\n",
       "      <td>1.802</td>\n",
       "      <td>-1.21</td>\n",
       "    </tr>\n",
       "    <tr>\n",
       "      <th>R^2</th>\n",
       "      <td>0.0</td>\n",
       "      <td>-0.0</td>\n",
       "      <td>0.0</td>\n",
       "      <td>0.0</td>\n",
       "      <td>-0.0</td>\n",
       "      <td>-0.0</td>\n",
       "    </tr>\n",
       "    <tr>\n",
       "      <th rowspan=\"4\" valign=\"top\">capm α</th>\n",
       "      <th>α (monthly)</th>\n",
       "      <td>0.262%</td>\n",
       "      <td>0.253%</td>\n",
       "      <td>0.367%</td>\n",
       "      <td>0.241%</td>\n",
       "      <td>0.165%</td>\n",
       "      <td>-0.097%</td>\n",
       "    </tr>\n",
       "    <tr>\n",
       "      <th>annual α</th>\n",
       "      <td>3.19%</td>\n",
       "      <td>3.08%</td>\n",
       "      <td>4.5%</td>\n",
       "      <td>2.93%</td>\n",
       "      <td>2.0%</td>\n",
       "      <td>-1.16%</td>\n",
       "    </tr>\n",
       "    <tr>\n",
       "      <th>t</th>\n",
       "      <td>1.555</td>\n",
       "      <td>1.401</td>\n",
       "      <td>1.617</td>\n",
       "      <td>1.332</td>\n",
       "      <td>0.875</td>\n",
       "      <td>-0.715</td>\n",
       "    </tr>\n",
       "    <tr>\n",
       "      <th>R^2</th>\n",
       "      <td>0.87</td>\n",
       "      <td>0.85</td>\n",
       "      <td>0.774</td>\n",
       "      <td>0.849</td>\n",
       "      <td>0.808</td>\n",
       "      <td>0.113</td>\n",
       "    </tr>\n",
       "    <tr>\n",
       "      <th rowspan=\"4\" valign=\"top\">svc α</th>\n",
       "      <th>α (monthly)</th>\n",
       "      <td>0.37%</td>\n",
       "      <td>0.516%</td>\n",
       "      <td>0.49%</td>\n",
       "      <td>0.529%</td>\n",
       "      <td>0.456%</td>\n",
       "      <td>0.086%</td>\n",
       "    </tr>\n",
       "    <tr>\n",
       "      <th>annual α</th>\n",
       "      <td>4.54%</td>\n",
       "      <td>6.37%</td>\n",
       "      <td>6.04%</td>\n",
       "      <td>6.53%</td>\n",
       "      <td>5.61%</td>\n",
       "      <td>1.03%</td>\n",
       "    </tr>\n",
       "    <tr>\n",
       "      <th>t</th>\n",
       "      <td>1.916</td>\n",
       "      <td>2.55</td>\n",
       "      <td>1.882</td>\n",
       "      <td>2.692</td>\n",
       "      <td>2.186</td>\n",
       "      <td>0.555</td>\n",
       "    </tr>\n",
       "    <tr>\n",
       "      <th>R^2</th>\n",
       "      <td>0.874</td>\n",
       "      <td>0.862</td>\n",
       "      <td>0.782</td>\n",
       "      <td>0.87</td>\n",
       "      <td>0.828</td>\n",
       "      <td>0.158</td>\n",
       "    </tr>\n",
       "  </tbody>\n",
       "</table>\n",
       "</div>"
      ],
      "text/plain": [
       "                    group0  group1  group2  group3  group4 long-short\n",
       "excess α (monthly)   0.94%  0.921%  1.021%   0.91%  0.768%    -0.172%\n",
       "       annual α     11.88%  11.63%  12.97%  11.49%   9.61%     -2.05%\n",
       "       t             2.034   1.999   2.161   1.973   1.802      -1.21\n",
       "       R^2             0.0    -0.0     0.0     0.0    -0.0       -0.0\n",
       "capm α α (monthly)  0.262%  0.253%  0.367%  0.241%  0.165%    -0.097%\n",
       "       annual α      3.19%   3.08%    4.5%   2.93%    2.0%     -1.16%\n",
       "       t             1.555   1.401   1.617   1.332   0.875     -0.715\n",
       "       R^2            0.87    0.85   0.774   0.849   0.808      0.113\n",
       "svc α  α (monthly)   0.37%  0.516%   0.49%  0.529%  0.456%     0.086%\n",
       "       annual α      4.54%   6.37%   6.04%   6.53%   5.61%      1.03%\n",
       "       t             1.916    2.55   1.882   2.692   2.186      0.555\n",
       "       R^2           0.874   0.862   0.782    0.87   0.828      0.158"
      ]
     },
     "execution_count": 106,
     "metadata": {},
     "output_type": "execute_result"
    }
   ],
   "source": [
    "# joinquant, sw_l1\n",
    "group_and_statistic(industry_concentration, groups=5)"
   ]
  },
  {
   "cell_type": "markdown",
   "metadata": {},
   "source": [
    "### active share"
   ]
  },
  {
   "cell_type": "code",
   "execution_count": 17,
   "metadata": {},
   "outputs": [],
   "source": [
    "import numpy as np\n",
    "\n",
    "from IPython.display import display\n",
    "from factors import *\n",
    "from data.CSMAR.index_weight import *\n",
    "from data.CSMAR.invest_detail import invest_detail\n",
    "from data.TwoStepData.return_of_all_fund import return_of_all_fund\n",
    "from data.JoinQuant.jq_stock_classification import jq_stock_classification"
   ]
  },
  {
   "cell_type": "code",
   "execution_count": 2,
   "metadata": {},
   "outputs": [],
   "source": [
    "return_of_all_fund_ = (return_of_all_fund.unstack(0) - 1).loc['2005-6': '2019-6']\n",
    "\n",
    "invest_detail_ = pd.merge(invest_detail, jq_stock_classification[['Stkcd', 'Indnme']], on='Stkcd', validate='m:1')\n",
    "invest_detail_ = invest_detail_.rename(columns={'EndDate': 'Date'})\n",
    "invest_detail_['Date'] = pd.to_datetime(invest_detail_.Date).dt.to_period('M')"
   ]
  },
  {
   "cell_type": "code",
   "execution_count": 3,
   "metadata": {},
   "outputs": [],
   "source": [
    "invest_detail_ = invest_detail_.drop_duplicates(['Symbol', 'Date', 'Stkcd'])\n",
    "invest_detail_ = invest_detail_[invest_detail_.Date >= '2005-6']\n",
    "invest_detail_ = invest_detail_.pivot(index=['Symbol', 'Date'], columns='Stkcd', values='Proportion')\n",
    "invest_detail_ = invest_detail_.div(invest_detail_.sum(axis=1), axis=0) * 100\n"
   ]
  },
  {
   "cell_type": "code",
   "execution_count": 4,
   "metadata": {},
   "outputs": [],
   "source": [
    "hs300_weight_in_csmar_form = pd.DataFrame(columns=csmar_hs300_weight.columns, index=invest_detail_.index, \\\n",
    "    data=pd.merge(csmar_hs300_weight, pd.Series(invest_detail_.index.get_level_values(1).values, name='Enddt'), on='Enddt', how='right').iloc[:, 1:].values)\n",
    "\n",
    "hs300_co_stocks = np.intersect1d(invest_detail_.columns, hs300_weight_in_csmar_form.columns)\n",
    "hs300_AS = (np.abs(hs300_weight_in_csmar_form[hs300_co_stocks] - invest_detail_[hs300_co_stocks])).sum(axis=1) / 2\n",
    "\n",
    "sz50_weight_in_csmar_form = pd.DataFrame(columns=csmar_sz50_weight.columns, index=invest_detail_.index, \\\n",
    "    data=pd.merge(csmar_sz50_weight, pd.Series(invest_detail_.index.get_level_values(1).values, name='Enddt'), on='Enddt', how='right').iloc[:, 1:].values)\n",
    "\n",
    "sz50_co_stocks = np.intersect1d(invest_detail_.columns, csmar_sz50_weight.columns)\n",
    "sz50_AS = (np.abs(sz50_weight_in_csmar_form[sz50_co_stocks] - invest_detail_[sz50_co_stocks])).sum(axis=1) / 2\n",
    "\n",
    "zz500_weight_in_csmar_form = pd.DataFrame(columns=csmar_zz500_weight.columns, index=invest_detail_.index, \\\n",
    "    data=pd.merge(csmar_zz500_weight, pd.Series(invest_detail_.index.get_level_values(1).values, name='Enddt'), on='Enddt', how='right').iloc[:, 1:].values)\n",
    "\n",
    "zz500_co_stocks = np.intersect1d(invest_detail_.columns, csmar_zz500_weight.columns)\n",
    "zz500_AS = (np.abs(zz500_weight_in_csmar_form[zz500_co_stocks] - invest_detail_[zz500_co_stocks])).sum(axis=1) / 2"
   ]
  },
  {
   "cell_type": "code",
   "execution_count": 76,
   "metadata": {},
   "outputs": [],
   "source": [
    "active_share = pd.concat([hs300_AS, zz500_AS, sz50_AS], axis=1).replace(0, np.inf).min(axis=1).unstack(0)\n",
    "co_funds = np.intersect1d(active_share.columns, return_of_all_fund_.columns)\n",
    "active_share = active_share[co_funds].replace(np.inf, np.nan).loc['2005-6' : '2019-6']"
   ]
  },
  {
   "cell_type": "code",
   "execution_count": 66,
   "metadata": {},
   "outputs": [
    {
     "data": {
      "text/html": [
       "<div>\n",
       "<style scoped>\n",
       "    .dataframe tbody tr th:only-of-type {\n",
       "        vertical-align: middle;\n",
       "    }\n",
       "\n",
       "    .dataframe tbody tr th {\n",
       "        vertical-align: top;\n",
       "    }\n",
       "\n",
       "    .dataframe thead th {\n",
       "        text-align: right;\n",
       "    }\n",
       "</style>\n",
       "<table border=\"1\" class=\"dataframe\">\n",
       "  <thead>\n",
       "    <tr style=\"text-align: right;\">\n",
       "      <th></th>\n",
       "      <th></th>\n",
       "      <th>group0</th>\n",
       "      <th>group1</th>\n",
       "      <th>group2</th>\n",
       "      <th>group3</th>\n",
       "      <th>group4</th>\n",
       "      <th>long-short</th>\n",
       "    </tr>\n",
       "  </thead>\n",
       "  <tbody>\n",
       "    <tr>\n",
       "      <th rowspan=\"4\" valign=\"top\">excess</th>\n",
       "      <th>α (monthly)</th>\n",
       "      <td>0.988%</td>\n",
       "      <td>0.948%</td>\n",
       "      <td>1.154%</td>\n",
       "      <td>0.965%</td>\n",
       "      <td>1.006%</td>\n",
       "      <td>0.018%</td>\n",
       "    </tr>\n",
       "    <tr>\n",
       "      <th>annual α</th>\n",
       "      <td>12.52%</td>\n",
       "      <td>11.99%</td>\n",
       "      <td>14.76%</td>\n",
       "      <td>12.21%</td>\n",
       "      <td>12.76%</td>\n",
       "      <td>0.22%</td>\n",
       "    </tr>\n",
       "    <tr>\n",
       "      <th>t</th>\n",
       "      <td>1.801</td>\n",
       "      <td>1.698</td>\n",
       "      <td>1.917</td>\n",
       "      <td>1.833</td>\n",
       "      <td>1.872</td>\n",
       "      <td>0.167</td>\n",
       "    </tr>\n",
       "    <tr>\n",
       "      <th>R^2</th>\n",
       "      <td>0.0</td>\n",
       "      <td>-0.0</td>\n",
       "      <td>0.0</td>\n",
       "      <td>0.0</td>\n",
       "      <td>0.0</td>\n",
       "      <td>0.0</td>\n",
       "    </tr>\n",
       "    <tr>\n",
       "      <th rowspan=\"4\" valign=\"top\">capm α</th>\n",
       "      <th>α (monthly)</th>\n",
       "      <td>0.552%</td>\n",
       "      <td>0.511%</td>\n",
       "      <td>0.732%</td>\n",
       "      <td>0.553%</td>\n",
       "      <td>0.56%</td>\n",
       "      <td>0.008%</td>\n",
       "    </tr>\n",
       "    <tr>\n",
       "      <th>annual α</th>\n",
       "      <td>6.83%</td>\n",
       "      <td>6.31%</td>\n",
       "      <td>9.15%</td>\n",
       "      <td>6.84%</td>\n",
       "      <td>6.93%</td>\n",
       "      <td>0.09%</td>\n",
       "    </tr>\n",
       "    <tr>\n",
       "      <th>t</th>\n",
       "      <td>1.302</td>\n",
       "      <td>1.172</td>\n",
       "      <td>1.461</td>\n",
       "      <td>1.344</td>\n",
       "      <td>1.393</td>\n",
       "      <td>0.07</td>\n",
       "    </tr>\n",
       "    <tr>\n",
       "      <th>R^2</th>\n",
       "      <td>0.415</td>\n",
       "      <td>0.403</td>\n",
       "      <td>0.323</td>\n",
       "      <td>0.404</td>\n",
       "      <td>0.454</td>\n",
       "      <td>0.006</td>\n",
       "    </tr>\n",
       "    <tr>\n",
       "      <th rowspan=\"4\" valign=\"top\">svc α</th>\n",
       "      <th>α (monthly)</th>\n",
       "      <td>0.587%</td>\n",
       "      <td>0.514%</td>\n",
       "      <td>0.49%</td>\n",
       "      <td>0.542%</td>\n",
       "      <td>0.526%</td>\n",
       "      <td>-0.061%</td>\n",
       "    </tr>\n",
       "    <tr>\n",
       "      <th>annual α</th>\n",
       "      <td>7.27%</td>\n",
       "      <td>6.35%</td>\n",
       "      <td>6.04%</td>\n",
       "      <td>6.71%</td>\n",
       "      <td>6.49%</td>\n",
       "      <td>-0.73%</td>\n",
       "    </tr>\n",
       "    <tr>\n",
       "      <th>t</th>\n",
       "      <td>1.168</td>\n",
       "      <td>1.0</td>\n",
       "      <td>0.828</td>\n",
       "      <td>1.122</td>\n",
       "      <td>1.101</td>\n",
       "      <td>-0.474</td>\n",
       "    </tr>\n",
       "    <tr>\n",
       "      <th>R^2</th>\n",
       "      <td>0.421</td>\n",
       "      <td>0.413</td>\n",
       "      <td>0.333</td>\n",
       "      <td>0.418</td>\n",
       "      <td>0.455</td>\n",
       "      <td>0.054</td>\n",
       "    </tr>\n",
       "  </tbody>\n",
       "</table>\n",
       "</div>"
      ],
      "text/plain": [
       "                    group0  group1  group2  group3  group4 long-short\n",
       "excess α (monthly)  0.988%  0.948%  1.154%  0.965%  1.006%     0.018%\n",
       "       annual α     12.52%  11.99%  14.76%  12.21%  12.76%      0.22%\n",
       "       t             1.801   1.698   1.917   1.833   1.872      0.167\n",
       "       R^2             0.0    -0.0     0.0     0.0     0.0        0.0\n",
       "capm α α (monthly)  0.552%  0.511%  0.732%  0.553%   0.56%     0.008%\n",
       "       annual α      6.83%   6.31%   9.15%   6.84%   6.93%      0.09%\n",
       "       t             1.302   1.172   1.461   1.344   1.393       0.07\n",
       "       R^2           0.415   0.403   0.323   0.404   0.454      0.006\n",
       "svc α  α (monthly)  0.587%  0.514%   0.49%  0.542%  0.526%    -0.061%\n",
       "       annual α      7.27%   6.35%   6.04%   6.71%   6.49%     -0.73%\n",
       "       t             1.168     1.0   0.828   1.122   1.101     -0.474\n",
       "       R^2           0.421   0.413   0.333   0.418   0.455      0.054"
      ]
     },
     "execution_count": 66,
     "metadata": {},
     "output_type": "execute_result"
    }
   ],
   "source": [
    "group_and_statistic(active_share.ffill())\n"
   ]
  },
  {
   "cell_type": "markdown",
   "metadata": {},
   "source": []
  },
  {
   "cell_type": "code",
   "execution_count": 82,
   "metadata": {},
   "outputs": [
    {
     "data": {
      "text/html": [
       "<div>\n",
       "<style scoped>\n",
       "    .dataframe tbody tr th:only-of-type {\n",
       "        vertical-align: middle;\n",
       "    }\n",
       "\n",
       "    .dataframe tbody tr th {\n",
       "        vertical-align: top;\n",
       "    }\n",
       "\n",
       "    .dataframe thead th {\n",
       "        text-align: right;\n",
       "    }\n",
       "</style>\n",
       "<table border=\"1\" class=\"dataframe\">\n",
       "  <thead>\n",
       "    <tr style=\"text-align: right;\">\n",
       "      <th></th>\n",
       "      <th>S_INFO_WINDCODE</th>\n",
       "      <th>TRADE_DT</th>\n",
       "      <th>idvc12</th>\n",
       "      <th>idvc6</th>\n",
       "      <th>idvc1</th>\n",
       "      <th>idvff12</th>\n",
       "      <th>idvff6</th>\n",
       "      <th>idvff1</th>\n",
       "    </tr>\n",
       "  </thead>\n",
       "  <tbody>\n",
       "    <tr>\n",
       "      <th>0</th>\n",
       "      <td>000001.SZ</td>\n",
       "      <td>2018-01-02</td>\n",
       "      <td>0.231366</td>\n",
       "      <td>0.305013</td>\n",
       "      <td>0.218050</td>\n",
       "      <td>0.204603</td>\n",
       "      <td>0.264671</td>\n",
       "      <td>0.173231</td>\n",
       "    </tr>\n",
       "    <tr>\n",
       "      <th>3483278</th>\n",
       "      <td>600853.SH</td>\n",
       "      <td>2018-01-02</td>\n",
       "      <td>0.314176</td>\n",
       "      <td>0.166222</td>\n",
       "      <td>0.157621</td>\n",
       "      <td>0.305469</td>\n",
       "      <td>0.129216</td>\n",
       "      <td>0.085547</td>\n",
       "    </tr>\n",
       "    <tr>\n",
       "      <th>3484436</th>\n",
       "      <td>600854.SH</td>\n",
       "      <td>2018-01-02</td>\n",
       "      <td>0.368951</td>\n",
       "      <td>0.308652</td>\n",
       "      <td>0.293492</td>\n",
       "      <td>0.356570</td>\n",
       "      <td>0.290831</td>\n",
       "      <td>0.218192</td>\n",
       "    </tr>\n",
       "    <tr>\n",
       "      <th>574360</th>\n",
       "      <td>002033.SZ</td>\n",
       "      <td>2018-01-02</td>\n",
       "      <td>0.161756</td>\n",
       "      <td>0.166672</td>\n",
       "      <td>NaN</td>\n",
       "      <td>0.144637</td>\n",
       "      <td>0.146351</td>\n",
       "      <td>NaN</td>\n",
       "    </tr>\n",
       "    <tr>\n",
       "      <th>3485594</th>\n",
       "      <td>600855.SH</td>\n",
       "      <td>2018-01-02</td>\n",
       "      <td>NaN</td>\n",
       "      <td>0.330433</td>\n",
       "      <td>0.263233</td>\n",
       "      <td>NaN</td>\n",
       "      <td>0.295450</td>\n",
       "      <td>0.237559</td>\n",
       "    </tr>\n",
       "    <tr>\n",
       "      <th>...</th>\n",
       "      <td>...</td>\n",
       "      <td>...</td>\n",
       "      <td>...</td>\n",
       "      <td>...</td>\n",
       "      <td>...</td>\n",
       "      <td>...</td>\n",
       "      <td>...</td>\n",
       "      <td>...</td>\n",
       "    </tr>\n",
       "    <tr>\n",
       "      <th>3047362</th>\n",
       "      <td>600397.SH</td>\n",
       "      <td>2022-10-12</td>\n",
       "      <td>0.558695</td>\n",
       "      <td>0.585877</td>\n",
       "      <td>0.679879</td>\n",
       "      <td>0.492252</td>\n",
       "      <td>0.544325</td>\n",
       "      <td>0.551549</td>\n",
       "    </tr>\n",
       "    <tr>\n",
       "      <th>2546380</th>\n",
       "      <td>300826.SZ</td>\n",
       "      <td>2022-10-12</td>\n",
       "      <td>0.347865</td>\n",
       "      <td>0.301766</td>\n",
       "      <td>0.231053</td>\n",
       "      <td>0.284100</td>\n",
       "      <td>0.237220</td>\n",
       "      <td>0.164411</td>\n",
       "    </tr>\n",
       "    <tr>\n",
       "      <th>3721242</th>\n",
       "      <td>601600.SH</td>\n",
       "      <td>2022-10-12</td>\n",
       "      <td>0.399890</td>\n",
       "      <td>0.292488</td>\n",
       "      <td>0.350421</td>\n",
       "      <td>0.356064</td>\n",
       "      <td>0.275439</td>\n",
       "      <td>0.297902</td>\n",
       "    </tr>\n",
       "    <tr>\n",
       "      <th>4418484</th>\n",
       "      <td>605228.SH</td>\n",
       "      <td>2022-10-12</td>\n",
       "      <td>0.342264</td>\n",
       "      <td>0.386390</td>\n",
       "      <td>0.429119</td>\n",
       "      <td>0.313796</td>\n",
       "      <td>0.347199</td>\n",
       "      <td>0.375263</td>\n",
       "    </tr>\n",
       "    <tr>\n",
       "      <th>4624475</th>\n",
       "      <td>688981.SH</td>\n",
       "      <td>2022-10-12</td>\n",
       "      <td>0.210797</td>\n",
       "      <td>0.218599</td>\n",
       "      <td>0.167790</td>\n",
       "      <td>0.210032</td>\n",
       "      <td>0.216172</td>\n",
       "      <td>0.154435</td>\n",
       "    </tr>\n",
       "  </tbody>\n",
       "</table>\n",
       "<p>4624476 rows × 8 columns</p>\n",
       "</div>"
      ],
      "text/plain": [
       "        S_INFO_WINDCODE   TRADE_DT    idvc12     idvc6     idvc1   idvff12  \\\n",
       "0             000001.SZ 2018-01-02  0.231366  0.305013  0.218050  0.204603   \n",
       "3483278       600853.SH 2018-01-02  0.314176  0.166222  0.157621  0.305469   \n",
       "3484436       600854.SH 2018-01-02  0.368951  0.308652  0.293492  0.356570   \n",
       "574360        002033.SZ 2018-01-02  0.161756  0.166672       NaN  0.144637   \n",
       "3485594       600855.SH 2018-01-02       NaN  0.330433  0.263233       NaN   \n",
       "...                 ...        ...       ...       ...       ...       ...   \n",
       "3047362       600397.SH 2022-10-12  0.558695  0.585877  0.679879  0.492252   \n",
       "2546380       300826.SZ 2022-10-12  0.347865  0.301766  0.231053  0.284100   \n",
       "3721242       601600.SH 2022-10-12  0.399890  0.292488  0.350421  0.356064   \n",
       "4418484       605228.SH 2022-10-12  0.342264  0.386390  0.429119  0.313796   \n",
       "4624475       688981.SH 2022-10-12  0.210797  0.218599  0.167790  0.210032   \n",
       "\n",
       "           idvff6    idvff1  \n",
       "0        0.264671  0.173231  \n",
       "3483278  0.129216  0.085547  \n",
       "3484436  0.290831  0.218192  \n",
       "574360   0.146351       NaN  \n",
       "3485594  0.295450  0.237559  \n",
       "...           ...       ...  \n",
       "3047362  0.544325  0.551549  \n",
       "2546380  0.237220  0.164411  \n",
       "3721242  0.275439  0.297902  \n",
       "4418484  0.347199  0.375263  \n",
       "4624475  0.216172  0.154435  \n",
       "\n",
       "[4624476 rows x 8 columns]"
      ]
     },
     "execution_count": 82,
     "metadata": {},
     "output_type": "execute_result"
    }
   ],
   "source": [
    "pickle.load(open('data/IDV/IDV.pkl', 'rb')).sort_values('TRADE_DT')"
   ]
  }
 ],
 "metadata": {
  "kernelspec": {
   "display_name": "Python 3.10.7 64-bit",
   "language": "python",
   "name": "python3"
  },
  "language_info": {
   "codemirror_mode": {
    "name": "ipython",
    "version": 3
   },
   "file_extension": ".py",
   "mimetype": "text/x-python",
   "name": "python",
   "nbconvert_exporter": "python",
   "pygments_lexer": "ipython3",
   "version": "3.10.7"
  },
  "orig_nbformat": 4,
  "vscode": {
   "interpreter": {
    "hash": "30f376259ad5d5354be6f280c6eaf9568078f04b7c7fbe2e366bcbeb41831e82"
   }
  }
 },
 "nbformat": 4,
 "nbformat_minor": 2
}
