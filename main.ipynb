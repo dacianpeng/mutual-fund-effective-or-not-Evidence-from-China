{
 "cells": [
  {
   "cell_type": "markdown",
   "metadata": {},
   "source": [
    "from csmarapi.CsmarService import CsmarService\n",
    "csmar = CsmarService()\n",
    "from csmarapi.ReportUtil import ReportUtil"
   ]
  },
  {
   "cell_type": "markdown",
   "metadata": {},
   "source": [
    "csmar.login()"
   ]
  },
  {
   "cell_type": "code",
   "execution_count": 1,
   "metadata": {},
   "outputs": [],
   "source": [
    "import re\n",
    "from functools import reduce\n",
    "import pickle\n",
    "import pandas as pd\n",
    "import numpy as np\n",
    "import matplotlib.pyplot as plt\n",
    "import plotly.express as px\n",
    "import plotly.graph_objects as go\n",
    "from plotly.subplots import make_subplots\n",
    "from dask import dataframe as ddf\n",
    "\n",
    "# plt.rcParams['font.sans-serif'] = ['SimHei']\n",
    "plt.rcParams['axes.unicode_minus'] = False"
   ]
  },
  {
   "cell_type": "code",
   "execution_count": 2,
   "metadata": {},
   "outputs": [],
   "source": [
    "def round_(data : float):\n",
    "    return str(round(data, 4)*100) + '%'"
   ]
  },
  {
   "cell_type": "code",
   "execution_count": 3,
   "metadata": {},
   "outputs": [
    {
     "name": "stdout",
     "output_type": "stream",
     "text": [
      "CPU times: total: 2.14 s\n",
      "Wall time: 2.36 s\n"
     ]
    }
   ],
   "source": [
    "%%time\n",
    "\n",
    "maininfo = pd.read_csv('data/FUND_MainInfo.csv', parse_dates=['InceptionDate'])\n",
    "maininfo['InceptionDate'] = maininfo.InceptionDate.dt.to_period('M')\n",
    "\n",
    "\n",
    "unitclassinfo = pd.read_csv('data/FUND_UnitClassInfo.csv', parse_dates=['ListingDate', 'InceptionDate'])\n",
    "unitclassinfo['InceptionDate'] = unitclassinfo.InceptionDate.dt.to_period('M')\n",
    "unitclassinfo['MasterFundCode'] = unitclassinfo.MasterFundCode.astype('Int64')\n",
    "\n",
    "\n",
    "allocation = pd.read_csv('data/Fund_Allocation.csv', parse_dates=['Startdate', 'EndDate'])\n",
    "allocation['Startdate'] = allocation.Startdate.dt.to_period('M')\n",
    "allocation['EndDate'] = allocation.EndDate.dt.to_period('M')\n",
    "\n",
    "\n",
    "fees = ddf.read_csv('data/管理费率/*', dtype={'Symbol': 'object', 'ProportionOfFee': 'object'}, parse_dates=['DeclareDate']).compute()\n",
    "fees['DeclareDate'] = fees.DeclareDate.dt.to_period('M')\n",
    "fees['Symbol'] = fees.Symbol.astype(int)\n",
    "\n",
    "\n",
    "fund_dividend = pd.read_csv('data/Fund_FundDividend.csv', parse_dates=['PrimaryExDividendDate', 'SecondaryExDividendDate'])\n",
    "fund_dividend['PrimaryExDividendDate'] = fund_dividend.PrimaryExDividendDate.dt.to_period('M')\n",
    "\n",
    "\n",
    "nav_month = pd.read_csv('data/Fund_NAV_Month.csv', parse_dates=['TradingDate'])\n",
    "nav_month['TradingDate'] = nav_month.TradingDate.dt.to_period('M')\n",
    "\n",
    "\n",
    "resolution = pd.read_csv('data/Fund_Resolution.csv', parse_dates=['DeclareDate'])\n",
    "resolution['DeclareDate'] = resolution.DeclareDate.dt.to_period('M')\n",
    "\n",
    "\n",
    "mkt_month = pd.read_csv('data/Fund_MKT_QuotationMonth.csv', parse_dates=['TradingDate'])\n",
    "mkt_month['TradingDate'] = mkt_month.TradingDate.dt.to_period('M')\n",
    "\n",
    "\n",
    "share_info = pd.read_csv('data/Fund_ShareChange.csv', parse_dates=['EndDate'])\n",
    "share_info['EndDate'] = share_info.EndDate.dt.to_period('M')\n"
   ]
  },
  {
   "cell_type": "markdown",
   "metadata": {},
   "source": [
    "### #data-insight/EDA\n",
    "\n",
    " #**1. `Symbol`, `MasterFundCode`, `FundID`?**\n",
    "\n",
    "`Symbol` is queryable in Win.d\n",
    "\n",
    "`Symbol` translates as  `前端代码(Win.d)/基金代码(CSMAR)/前端代码(CSMAR)`\n",
    "\n",
    "`Symbol == 11228` means `011228.OF`\n",
    "\n",
    "`Symbol` is not available in `FUND_MainInfo 基金概况 — 基金主体信息表`, `Fund_Allocation 基金投组 — 资产配置文件`\n",
    "\n",
    "`Symbol` may map more than one fund name, only the latest one is ongoing, **use the latest one** (checked `Win.d`)\n",
    "\n",
    "`MasterFundCode` is the first `Symbol` in ***a collection of funds***\n",
    "\n",
    "***a collection of funds, e.g.***\n",
    "\n",
    "*西部利得量化成长A, 000006.OF, 2019-03-19*\n",
    "\n",
    "*西部利得量化成长C, 011228.OF, 2021-01-13*\n",
    "\n",
    "*or*\n",
    "\n",
    "*中海可转债A, 000003.OF, 2013-03-20*\n",
    "\n",
    "*中海可转债C, 000004.OF, 2013-03-20*\n",
    "\n",
    "|            |                    | A      | C       |                          |\n",
    "| ---------- | ------------------ | ------ | ------- | ------------------------ |\n",
    "| 运作方式   | operation          | same   | same    |                          |\n",
    "| 管理费     | management fee     | same   | same    |                          |\n",
    "| 认购费     | purchase fee       | √     |         |                          |\n",
    "| 销售服务费 | sales service fees |        | √      | charge from net value |\n",
    "| 赎回费     | redemption fee    | bigger | smaller |                          |\n",
    "\n",
    "*≈60%* `MasterFundCode` has multiple symbols\n",
    "\n",
    "`MasterFundCode` can be inferred from `Symbol`\n",
    "\n",
    "`FundID` is in bijection with `MasterFundCode`\n",
    "\n",
    "`FundID` is not queryable in Win.d --> *`FundID` used by CSMAR only?*\n",
    "\n",
    "`Symbol` is not available in `FUND_MainInfo 基金概况 — 基金主体信息表`, `Fund_Allocation 基金投组 — 资产配置文件`\n",
    "\n",
    "**use `Symbol`**"
   ]
  },
  {
   "cell_type": "markdown",
   "metadata": {},
   "source": [
    " #**2. `InceptionDate`, `ListingDate`?**\n",
    " \n",
    "`InceptionDate`: 成立日期\n",
    "\n",
    "`ListingDate`: 上市日期\n",
    "\n",
    "*<10%* `ListingDate` is available\n",
    "\n",
    "*=100%* `InceptionDate` is available\n",
    "\n",
    "*≈85%* collection of funds has the same `InceptionDate`\n",
    "\n",
    "**use `InceptionDate`**"
   ]
  },
  {
   "cell_type": "markdown",
   "metadata": {},
   "source": [
    " #**3. `Equity`, `StockAmount`? `allocation` data quality**\n",
    "\n",
    "`Equity` is ≈60% the same as `StockAmount`\n",
    "\n",
    "when `StockAmount` is not available, ≈100% `Equity` is available\n",
    "\n",
    "when `Equity` is not available, ≈0% `StockAmount` is available\n",
    "\n",
    "**use `Equity`**\n",
    "\n",
    "but, ≈30% `Equity` is not available while `TotalAsset` is available\n",
    "\n",
    "固定收益类投资\n",
    "\n",
    "in the last report period, ≈30% `Equity` is not available while `TotalAsset` is available"
   ]
  },
  {
   "cell_type": "markdown",
   "metadata": {},
   "source": [
    " #**4. `unitclassinfo`, `nav_month`**\n",
    "\n",
    "检查0\n",
    "\n",
    "wrong data, in `nav_month`, ≈1.5% values are 0\n",
    "\n",
    "**`nav_month`, `unitclassinfo` both have unique symbols in itself**"
   ]
  },
  {
   "cell_type": "markdown",
   "metadata": {},
   "source": [
    " #**5. `Fund_Resolution`, `Fund_FundDividend`**\n",
    "\n",
    "≈1% fund have multiple dividend payouts in one month, `sum` them\n",
    "\n",
    "≈1% fund have multiple divisions in one month, `cumulative product` them"
   ]
  },
  {
   "cell_type": "markdown",
   "metadata": {},
   "source": [
    " #**6. `Fund_FeesChange`**\n",
    "\n",
    "≈0.01% data are duplicated\n",
    "\n",
    "compared with `Win.d`, **we should keep the first one**"
   ]
  },
  {
   "cell_type": "markdown",
   "metadata": {},
   "source": [
    "## I. Data Preprocessing"
   ]
  },
  {
   "cell_type": "markdown",
   "metadata": {},
   "source": [
    "### 1. align MasterFundCode, Symbol"
   ]
  },
  {
   "cell_type": "markdown",
   "metadata": {},
   "source": [
    "#### i. check: FUND_MainInfo\n",
    "\n",
    "基金概况 — 基金主体信息表"
   ]
  },
  {
   "cell_type": "markdown",
   "metadata": {},
   "source": [
    "<span style=\"color: red\">`Symbol`/`FrontendCode` not available</span> "
   ]
  },
  {
   "cell_type": "code",
   "execution_count": 4,
   "metadata": {},
   "outputs": [
    {
     "data": {
      "application/vnd.plotly.v1+json": {
       "config": {
        "plotlyServerURL": "https://plot.ly"
       },
       "data": [
        {
         "domain": {
          "x": [
           0,
           0.45
          ],
          "y": [
           0.575,
           1
          ]
         },
         "labels": [
          "混合型基金",
          "债券型基金",
          "股票型基金",
          "货币型基金",
          "FOF",
          "REITs",
          "商品期货型基金"
         ],
         "type": "pie",
         "values": [
          4891,
          3570,
          2381,
          391,
          371,
          18,
          7
         ]
        },
        {
         "domain": {
          "x": [
           0.55,
           1
          ],
          "y": [
           0.575,
           1
          ]
         },
         "labels": [
          "非ETF",
          "ETF"
         ],
         "type": "pie",
         "values": [
          10833,
          796
         ]
        },
        {
         "domain": {
          "x": [
           0,
           0.45
          ],
          "y": [
           0,
           0.425
          ]
         },
         "labels": [
          "非QDII",
          "QDII"
         ],
         "type": "pie",
         "values": [
          11376,
          253
         ]
        },
        {
         "domain": {
          "x": [
           0.55,
           1
          ],
          "y": [
           0,
           0.425
          ]
         },
         "labels": [
          "1主动",
          "空",
          "2被动"
         ],
         "type": "pie",
         "values": [
          5793,
          3773,
          2063
         ]
        }
       ],
       "layout": {
        "height": 800,
        "template": {
         "data": {
          "bar": [
           {
            "error_x": {
             "color": "#2a3f5f"
            },
            "error_y": {
             "color": "#2a3f5f"
            },
            "marker": {
             "line": {
              "color": "#E5ECF6",
              "width": 0.5
             },
             "pattern": {
              "fillmode": "overlay",
              "size": 10,
              "solidity": 0.2
             }
            },
            "type": "bar"
           }
          ],
          "barpolar": [
           {
            "marker": {
             "line": {
              "color": "#E5ECF6",
              "width": 0.5
             },
             "pattern": {
              "fillmode": "overlay",
              "size": 10,
              "solidity": 0.2
             }
            },
            "type": "barpolar"
           }
          ],
          "carpet": [
           {
            "aaxis": {
             "endlinecolor": "#2a3f5f",
             "gridcolor": "white",
             "linecolor": "white",
             "minorgridcolor": "white",
             "startlinecolor": "#2a3f5f"
            },
            "baxis": {
             "endlinecolor": "#2a3f5f",
             "gridcolor": "white",
             "linecolor": "white",
             "minorgridcolor": "white",
             "startlinecolor": "#2a3f5f"
            },
            "type": "carpet"
           }
          ],
          "choropleth": [
           {
            "colorbar": {
             "outlinewidth": 0,
             "ticks": ""
            },
            "type": "choropleth"
           }
          ],
          "contour": [
           {
            "colorbar": {
             "outlinewidth": 0,
             "ticks": ""
            },
            "colorscale": [
             [
              0,
              "#0d0887"
             ],
             [
              0.1111111111111111,
              "#46039f"
             ],
             [
              0.2222222222222222,
              "#7201a8"
             ],
             [
              0.3333333333333333,
              "#9c179e"
             ],
             [
              0.4444444444444444,
              "#bd3786"
             ],
             [
              0.5555555555555556,
              "#d8576b"
             ],
             [
              0.6666666666666666,
              "#ed7953"
             ],
             [
              0.7777777777777778,
              "#fb9f3a"
             ],
             [
              0.8888888888888888,
              "#fdca26"
             ],
             [
              1,
              "#f0f921"
             ]
            ],
            "type": "contour"
           }
          ],
          "contourcarpet": [
           {
            "colorbar": {
             "outlinewidth": 0,
             "ticks": ""
            },
            "type": "contourcarpet"
           }
          ],
          "heatmap": [
           {
            "colorbar": {
             "outlinewidth": 0,
             "ticks": ""
            },
            "colorscale": [
             [
              0,
              "#0d0887"
             ],
             [
              0.1111111111111111,
              "#46039f"
             ],
             [
              0.2222222222222222,
              "#7201a8"
             ],
             [
              0.3333333333333333,
              "#9c179e"
             ],
             [
              0.4444444444444444,
              "#bd3786"
             ],
             [
              0.5555555555555556,
              "#d8576b"
             ],
             [
              0.6666666666666666,
              "#ed7953"
             ],
             [
              0.7777777777777778,
              "#fb9f3a"
             ],
             [
              0.8888888888888888,
              "#fdca26"
             ],
             [
              1,
              "#f0f921"
             ]
            ],
            "type": "heatmap"
           }
          ],
          "heatmapgl": [
           {
            "colorbar": {
             "outlinewidth": 0,
             "ticks": ""
            },
            "colorscale": [
             [
              0,
              "#0d0887"
             ],
             [
              0.1111111111111111,
              "#46039f"
             ],
             [
              0.2222222222222222,
              "#7201a8"
             ],
             [
              0.3333333333333333,
              "#9c179e"
             ],
             [
              0.4444444444444444,
              "#bd3786"
             ],
             [
              0.5555555555555556,
              "#d8576b"
             ],
             [
              0.6666666666666666,
              "#ed7953"
             ],
             [
              0.7777777777777778,
              "#fb9f3a"
             ],
             [
              0.8888888888888888,
              "#fdca26"
             ],
             [
              1,
              "#f0f921"
             ]
            ],
            "type": "heatmapgl"
           }
          ],
          "histogram": [
           {
            "marker": {
             "pattern": {
              "fillmode": "overlay",
              "size": 10,
              "solidity": 0.2
             }
            },
            "type": "histogram"
           }
          ],
          "histogram2d": [
           {
            "colorbar": {
             "outlinewidth": 0,
             "ticks": ""
            },
            "colorscale": [
             [
              0,
              "#0d0887"
             ],
             [
              0.1111111111111111,
              "#46039f"
             ],
             [
              0.2222222222222222,
              "#7201a8"
             ],
             [
              0.3333333333333333,
              "#9c179e"
             ],
             [
              0.4444444444444444,
              "#bd3786"
             ],
             [
              0.5555555555555556,
              "#d8576b"
             ],
             [
              0.6666666666666666,
              "#ed7953"
             ],
             [
              0.7777777777777778,
              "#fb9f3a"
             ],
             [
              0.8888888888888888,
              "#fdca26"
             ],
             [
              1,
              "#f0f921"
             ]
            ],
            "type": "histogram2d"
           }
          ],
          "histogram2dcontour": [
           {
            "colorbar": {
             "outlinewidth": 0,
             "ticks": ""
            },
            "colorscale": [
             [
              0,
              "#0d0887"
             ],
             [
              0.1111111111111111,
              "#46039f"
             ],
             [
              0.2222222222222222,
              "#7201a8"
             ],
             [
              0.3333333333333333,
              "#9c179e"
             ],
             [
              0.4444444444444444,
              "#bd3786"
             ],
             [
              0.5555555555555556,
              "#d8576b"
             ],
             [
              0.6666666666666666,
              "#ed7953"
             ],
             [
              0.7777777777777778,
              "#fb9f3a"
             ],
             [
              0.8888888888888888,
              "#fdca26"
             ],
             [
              1,
              "#f0f921"
             ]
            ],
            "type": "histogram2dcontour"
           }
          ],
          "mesh3d": [
           {
            "colorbar": {
             "outlinewidth": 0,
             "ticks": ""
            },
            "type": "mesh3d"
           }
          ],
          "parcoords": [
           {
            "line": {
             "colorbar": {
              "outlinewidth": 0,
              "ticks": ""
             }
            },
            "type": "parcoords"
           }
          ],
          "pie": [
           {
            "automargin": true,
            "type": "pie"
           }
          ],
          "scatter": [
           {
            "fillpattern": {
             "fillmode": "overlay",
             "size": 10,
             "solidity": 0.2
            },
            "type": "scatter"
           }
          ],
          "scatter3d": [
           {
            "line": {
             "colorbar": {
              "outlinewidth": 0,
              "ticks": ""
             }
            },
            "marker": {
             "colorbar": {
              "outlinewidth": 0,
              "ticks": ""
             }
            },
            "type": "scatter3d"
           }
          ],
          "scattercarpet": [
           {
            "marker": {
             "colorbar": {
              "outlinewidth": 0,
              "ticks": ""
             }
            },
            "type": "scattercarpet"
           }
          ],
          "scattergeo": [
           {
            "marker": {
             "colorbar": {
              "outlinewidth": 0,
              "ticks": ""
             }
            },
            "type": "scattergeo"
           }
          ],
          "scattergl": [
           {
            "marker": {
             "colorbar": {
              "outlinewidth": 0,
              "ticks": ""
             }
            },
            "type": "scattergl"
           }
          ],
          "scattermapbox": [
           {
            "marker": {
             "colorbar": {
              "outlinewidth": 0,
              "ticks": ""
             }
            },
            "type": "scattermapbox"
           }
          ],
          "scatterpolar": [
           {
            "marker": {
             "colorbar": {
              "outlinewidth": 0,
              "ticks": ""
             }
            },
            "type": "scatterpolar"
           }
          ],
          "scatterpolargl": [
           {
            "marker": {
             "colorbar": {
              "outlinewidth": 0,
              "ticks": ""
             }
            },
            "type": "scatterpolargl"
           }
          ],
          "scatterternary": [
           {
            "marker": {
             "colorbar": {
              "outlinewidth": 0,
              "ticks": ""
             }
            },
            "type": "scatterternary"
           }
          ],
          "surface": [
           {
            "colorbar": {
             "outlinewidth": 0,
             "ticks": ""
            },
            "colorscale": [
             [
              0,
              "#0d0887"
             ],
             [
              0.1111111111111111,
              "#46039f"
             ],
             [
              0.2222222222222222,
              "#7201a8"
             ],
             [
              0.3333333333333333,
              "#9c179e"
             ],
             [
              0.4444444444444444,
              "#bd3786"
             ],
             [
              0.5555555555555556,
              "#d8576b"
             ],
             [
              0.6666666666666666,
              "#ed7953"
             ],
             [
              0.7777777777777778,
              "#fb9f3a"
             ],
             [
              0.8888888888888888,
              "#fdca26"
             ],
             [
              1,
              "#f0f921"
             ]
            ],
            "type": "surface"
           }
          ],
          "table": [
           {
            "cells": {
             "fill": {
              "color": "#EBF0F8"
             },
             "line": {
              "color": "white"
             }
            },
            "header": {
             "fill": {
              "color": "#C8D4E3"
             },
             "line": {
              "color": "white"
             }
            },
            "type": "table"
           }
          ]
         },
         "layout": {
          "annotationdefaults": {
           "arrowcolor": "#2a3f5f",
           "arrowhead": 0,
           "arrowwidth": 1
          },
          "autotypenumbers": "strict",
          "coloraxis": {
           "colorbar": {
            "outlinewidth": 0,
            "ticks": ""
           }
          },
          "colorscale": {
           "diverging": [
            [
             0,
             "#8e0152"
            ],
            [
             0.1,
             "#c51b7d"
            ],
            [
             0.2,
             "#de77ae"
            ],
            [
             0.3,
             "#f1b6da"
            ],
            [
             0.4,
             "#fde0ef"
            ],
            [
             0.5,
             "#f7f7f7"
            ],
            [
             0.6,
             "#e6f5d0"
            ],
            [
             0.7,
             "#b8e186"
            ],
            [
             0.8,
             "#7fbc41"
            ],
            [
             0.9,
             "#4d9221"
            ],
            [
             1,
             "#276419"
            ]
           ],
           "sequential": [
            [
             0,
             "#0d0887"
            ],
            [
             0.1111111111111111,
             "#46039f"
            ],
            [
             0.2222222222222222,
             "#7201a8"
            ],
            [
             0.3333333333333333,
             "#9c179e"
            ],
            [
             0.4444444444444444,
             "#bd3786"
            ],
            [
             0.5555555555555556,
             "#d8576b"
            ],
            [
             0.6666666666666666,
             "#ed7953"
            ],
            [
             0.7777777777777778,
             "#fb9f3a"
            ],
            [
             0.8888888888888888,
             "#fdca26"
            ],
            [
             1,
             "#f0f921"
            ]
           ],
           "sequentialminus": [
            [
             0,
             "#0d0887"
            ],
            [
             0.1111111111111111,
             "#46039f"
            ],
            [
             0.2222222222222222,
             "#7201a8"
            ],
            [
             0.3333333333333333,
             "#9c179e"
            ],
            [
             0.4444444444444444,
             "#bd3786"
            ],
            [
             0.5555555555555556,
             "#d8576b"
            ],
            [
             0.6666666666666666,
             "#ed7953"
            ],
            [
             0.7777777777777778,
             "#fb9f3a"
            ],
            [
             0.8888888888888888,
             "#fdca26"
            ],
            [
             1,
             "#f0f921"
            ]
           ]
          },
          "colorway": [
           "#636efa",
           "#EF553B",
           "#00cc96",
           "#ab63fa",
           "#FFA15A",
           "#19d3f3",
           "#FF6692",
           "#B6E880",
           "#FF97FF",
           "#FECB52"
          ],
          "font": {
           "color": "#2a3f5f"
          },
          "geo": {
           "bgcolor": "white",
           "lakecolor": "white",
           "landcolor": "#E5ECF6",
           "showlakes": true,
           "showland": true,
           "subunitcolor": "white"
          },
          "hoverlabel": {
           "align": "left"
          },
          "hovermode": "closest",
          "mapbox": {
           "style": "light"
          },
          "paper_bgcolor": "white",
          "plot_bgcolor": "#E5ECF6",
          "polar": {
           "angularaxis": {
            "gridcolor": "white",
            "linecolor": "white",
            "ticks": ""
           },
           "bgcolor": "#E5ECF6",
           "radialaxis": {
            "gridcolor": "white",
            "linecolor": "white",
            "ticks": ""
           }
          },
          "scene": {
           "xaxis": {
            "backgroundcolor": "#E5ECF6",
            "gridcolor": "white",
            "gridwidth": 2,
            "linecolor": "white",
            "showbackground": true,
            "ticks": "",
            "zerolinecolor": "white"
           },
           "yaxis": {
            "backgroundcolor": "#E5ECF6",
            "gridcolor": "white",
            "gridwidth": 2,
            "linecolor": "white",
            "showbackground": true,
            "ticks": "",
            "zerolinecolor": "white"
           },
           "zaxis": {
            "backgroundcolor": "#E5ECF6",
            "gridcolor": "white",
            "gridwidth": 2,
            "linecolor": "white",
            "showbackground": true,
            "ticks": "",
            "zerolinecolor": "white"
           }
          },
          "shapedefaults": {
           "line": {
            "color": "#2a3f5f"
           }
          },
          "ternary": {
           "aaxis": {
            "gridcolor": "white",
            "linecolor": "white",
            "ticks": ""
           },
           "baxis": {
            "gridcolor": "white",
            "linecolor": "white",
            "ticks": ""
           },
           "bgcolor": "#E5ECF6",
           "caxis": {
            "gridcolor": "white",
            "linecolor": "white",
            "ticks": ""
           }
          },
          "title": {
           "x": 0.05
          },
          "xaxis": {
           "automargin": true,
           "gridcolor": "white",
           "linecolor": "white",
           "ticks": "",
           "title": {
            "standoff": 15
           },
           "zerolinecolor": "white",
           "zerolinewidth": 2
          },
          "yaxis": {
           "automargin": true,
           "gridcolor": "white",
           "linecolor": "white",
           "ticks": "",
           "title": {
            "standoff": 15
           },
           "zerolinecolor": "white",
           "zerolinewidth": 2
          }
         }
        },
        "width": 800
       }
      }
     },
     "metadata": {},
     "output_type": "display_data"
    }
   ],
   "source": [
    "specs = [[{'type':'domain'}, {'type':'domain'}], [{'type':'domain'}, {'type':'domain'}]]\n",
    "fig = make_subplots(rows=2, cols=2, specs=specs)\n",
    "fig.add_trace(go.Pie(labels=maininfo.Category.value_counts().index, values=maininfo.Category.value_counts().values), 1, 1)\n",
    "\n",
    "# IsETF [是否ETF] - 1=是；2=否\n",
    "fig.add_trace(go.Pie(labels=maininfo.replace([1, 2], ['ETF', '非ETF'])\\\n",
    "    .IsETF.value_counts().index, values=maininfo.IsETF.value_counts().values), 1, 2)\n",
    "\n",
    "# IsQDII [是否QDII] - 1=是；2=否\n",
    "fig.add_trace(go.Pie(labels=maininfo.replace([1, 2], ['QDII', '非QDII'])\\\n",
    "    .IsQDII.value_counts().index, values=maininfo.IsQDII.value_counts().values), 2, 1)\n",
    "    \n",
    "# IsActiveOrPassive [主动标识] - 1=主动；2=被动\n",
    "fig.add_trace(go.Pie(labels=maininfo.replace([1, 2, np.nan], ['1主动', '2被动', '空'])\\\n",
    "    .IsActiveOrPassive.value_counts().index, values=maininfo.replace([1, 2, np.nan], ['1主动', '2被动', '空']).IsActiveOrPassive.value_counts().values), 2, 2)\n",
    "fig.update_layout(width=800, height=800)\n"
   ]
  },
  {
   "cell_type": "code",
   "execution_count": 5,
   "metadata": {},
   "outputs": [
    {
     "data": {
      "text/plain": [
       "False"
      ]
     },
     "execution_count": 5,
     "metadata": {},
     "output_type": "execute_result"
    }
   ],
   "source": [
    "(maininfo.groupby('MasterFundCode').apply(lambda per_MasterFundCode: len(per_MasterFundCode.FundID.unique())) != 1).any()"
   ]
  },
  {
   "cell_type": "code",
   "execution_count": 6,
   "metadata": {},
   "outputs": [
    {
     "data": {
      "text/plain": [
       "False"
      ]
     },
     "execution_count": 6,
     "metadata": {},
     "output_type": "execute_result"
    }
   ],
   "source": [
    "(maininfo.groupby('FundID').apply(lambda per_FundID: len(per_FundID.MasterFundCode.unique())) != 1).any()"
   ]
  },
  {
   "cell_type": "markdown",
   "metadata": {},
   "source": [
    "`FundID` is in bijection with `MasterFundCode`, they make no difference in later research\n",
    "\n",
    "Use `MasterFundCode` instead of `FundID`, because `MasterFundCode` is covered in most tables\n"
   ]
  },
  {
   "cell_type": "markdown",
   "metadata": {},
   "source": [
    "#### ii. check: FUND_UnitClassInfo\n",
    "\n",
    "基金概况 — 基金份额类别信息表"
   ]
  },
  {
   "cell_type": "markdown",
   "metadata": {},
   "source": [
    "**erratum**\n",
    "\n",
    "*problem*: use `Symbol` to merge `maininfo`, found ≈3% duplicated `Symbol`\n",
    "\n",
    "*reason*: fund changed its name\n",
    "\n",
    "*solve*: keep the latest `Symbol`"
   ]
  },
  {
   "cell_type": "code",
   "execution_count": 124,
   "metadata": {},
   "outputs": [
    {
     "data": {
      "text/html": [
       "<div>\n",
       "<style scoped>\n",
       "    .dataframe tbody tr th:only-of-type {\n",
       "        vertical-align: middle;\n",
       "    }\n",
       "\n",
       "    .dataframe tbody tr th {\n",
       "        vertical-align: top;\n",
       "    }\n",
       "\n",
       "    .dataframe thead th {\n",
       "        text-align: right;\n",
       "    }\n",
       "</style>\n",
       "<table border=\"1\" class=\"dataframe\">\n",
       "  <thead>\n",
       "    <tr style=\"text-align: right;\">\n",
       "      <th></th>\n",
       "      <th>TradingDate</th>\n",
       "      <th>TradingMonth</th>\n",
       "      <th>Symbol</th>\n",
       "      <th>NAV</th>\n",
       "    </tr>\n",
       "  </thead>\n",
       "  <tbody>\n",
       "    <tr>\n",
       "      <th>0</th>\n",
       "      <td>2002-01</td>\n",
       "      <td>2002-01</td>\n",
       "      <td>1</td>\n",
       "      <td>1.0020</td>\n",
       "    </tr>\n",
       "    <tr>\n",
       "      <th>1</th>\n",
       "      <td>2002-02</td>\n",
       "      <td>2002-02</td>\n",
       "      <td>1</td>\n",
       "      <td>1.0130</td>\n",
       "    </tr>\n",
       "    <tr>\n",
       "      <th>2</th>\n",
       "      <td>2002-03</td>\n",
       "      <td>2002-03</td>\n",
       "      <td>1</td>\n",
       "      <td>1.0230</td>\n",
       "    </tr>\n",
       "    <tr>\n",
       "      <th>3</th>\n",
       "      <td>2002-04</td>\n",
       "      <td>2002-04</td>\n",
       "      <td>1</td>\n",
       "      <td>1.0460</td>\n",
       "    </tr>\n",
       "    <tr>\n",
       "      <th>4</th>\n",
       "      <td>2002-05</td>\n",
       "      <td>2002-05</td>\n",
       "      <td>1</td>\n",
       "      <td>1.0270</td>\n",
       "    </tr>\n",
       "    <tr>\n",
       "      <th>...</th>\n",
       "      <td>...</td>\n",
       "      <td>...</td>\n",
       "      <td>...</td>\n",
       "      <td>...</td>\n",
       "    </tr>\n",
       "    <tr>\n",
       "      <th>868704</th>\n",
       "      <td>2022-04</td>\n",
       "      <td>2022-04</td>\n",
       "      <td>980003</td>\n",
       "      <td>1.5306</td>\n",
       "    </tr>\n",
       "    <tr>\n",
       "      <th>868705</th>\n",
       "      <td>2022-05</td>\n",
       "      <td>2022-05</td>\n",
       "      <td>980003</td>\n",
       "      <td>1.5365</td>\n",
       "    </tr>\n",
       "    <tr>\n",
       "      <th>868706</th>\n",
       "      <td>2022-06</td>\n",
       "      <td>2022-06</td>\n",
       "      <td>980003</td>\n",
       "      <td>1.5393</td>\n",
       "    </tr>\n",
       "    <tr>\n",
       "      <th>868707</th>\n",
       "      <td>2022-07</td>\n",
       "      <td>2022-07</td>\n",
       "      <td>980003</td>\n",
       "      <td>1.5449</td>\n",
       "    </tr>\n",
       "    <tr>\n",
       "      <th>868708</th>\n",
       "      <td>2022-08</td>\n",
       "      <td>2022-08</td>\n",
       "      <td>980003</td>\n",
       "      <td>1.5492</td>\n",
       "    </tr>\n",
       "  </tbody>\n",
       "</table>\n",
       "<p>868709 rows × 4 columns</p>\n",
       "</div>"
      ],
      "text/plain": [
       "       TradingDate TradingMonth  Symbol     NAV\n",
       "0          2002-01      2002-01       1  1.0020\n",
       "1          2002-02      2002-02       1  1.0130\n",
       "2          2002-03      2002-03       1  1.0230\n",
       "3          2002-04      2002-04       1  1.0460\n",
       "4          2002-05      2002-05       1  1.0270\n",
       "...            ...          ...     ...     ...\n",
       "868704     2022-04      2022-04  980003  1.5306\n",
       "868705     2022-05      2022-05  980003  1.5365\n",
       "868706     2022-06      2022-06  980003  1.5393\n",
       "868707     2022-07      2022-07  980003  1.5449\n",
       "868708     2022-08      2022-08  980003  1.5492\n",
       "\n",
       "[868709 rows x 4 columns]"
      ]
     },
     "execution_count": 124,
     "metadata": {},
     "output_type": "execute_result"
    }
   ],
   "source": [
    "nav_month"
   ]
  },
  {
   "cell_type": "code",
   "execution_count": 7,
   "metadata": {},
   "outputs": [
    {
     "data": {
      "text/html": [
       "<div>\n",
       "<style scoped>\n",
       "    .dataframe tbody tr th:only-of-type {\n",
       "        vertical-align: middle;\n",
       "    }\n",
       "\n",
       "    .dataframe tbody tr th {\n",
       "        vertical-align: top;\n",
       "    }\n",
       "\n",
       "    .dataframe thead th {\n",
       "        text-align: right;\n",
       "    }\n",
       "</style>\n",
       "<table border=\"1\" class=\"dataframe\">\n",
       "  <thead>\n",
       "    <tr style=\"text-align: right;\">\n",
       "      <th></th>\n",
       "      <th>MasterFundCode</th>\n",
       "      <th>Symbol</th>\n",
       "      <th>ShortName</th>\n",
       "      <th>InceptionDate</th>\n",
       "      <th>ListingDate</th>\n",
       "    </tr>\n",
       "  </thead>\n",
       "  <tbody>\n",
       "    <tr>\n",
       "      <th>28</th>\n",
       "      <td>37</td>\n",
       "      <td>37</td>\n",
       "      <td>广发理财7天债券A</td>\n",
       "      <td>2013-06</td>\n",
       "      <td>NaT</td>\n",
       "    </tr>\n",
       "    <tr>\n",
       "      <th>29</th>\n",
       "      <td>37</td>\n",
       "      <td>37</td>\n",
       "      <td>广发景宁纯债A</td>\n",
       "      <td>2020-04</td>\n",
       "      <td>NaT</td>\n",
       "    </tr>\n",
       "    <tr>\n",
       "      <th>85</th>\n",
       "      <td>104</td>\n",
       "      <td>104</td>\n",
       "      <td>华宸未来信用增利</td>\n",
       "      <td>2013-08</td>\n",
       "      <td>NaT</td>\n",
       "    </tr>\n",
       "    <tr>\n",
       "      <th>86</th>\n",
       "      <td>104</td>\n",
       "      <td>104</td>\n",
       "      <td>华宸未来稳健添利债券A</td>\n",
       "      <td>2018-08</td>\n",
       "      <td>NaT</td>\n",
       "    </tr>\n",
       "    <tr>\n",
       "      <th>114</th>\n",
       "      <td>134</td>\n",
       "      <td>134</td>\n",
       "      <td>理财28日盈A</td>\n",
       "      <td>2017-05</td>\n",
       "      <td>NaT</td>\n",
       "    </tr>\n",
       "    <tr>\n",
       "      <th>...</th>\n",
       "      <td>...</td>\n",
       "      <td>...</td>\n",
       "      <td>...</td>\n",
       "      <td>...</td>\n",
       "      <td>...</td>\n",
       "    </tr>\n",
       "    <tr>\n",
       "      <th>18661</th>\n",
       "      <td>660016</td>\n",
       "      <td>660016</td>\n",
       "      <td>农银汇理金聚高等级债券</td>\n",
       "      <td>2020-06</td>\n",
       "      <td>NaT</td>\n",
       "    </tr>\n",
       "    <tr>\n",
       "      <th>18680</th>\n",
       "      <td>673100</td>\n",
       "      <td>673100</td>\n",
       "      <td>西部利得久安回报混合</td>\n",
       "      <td>2017-03</td>\n",
       "      <td>NaT</td>\n",
       "    </tr>\n",
       "    <tr>\n",
       "      <th>18681</th>\n",
       "      <td>673100</td>\n",
       "      <td>673100</td>\n",
       "      <td>西部利得沪深300指数增强A</td>\n",
       "      <td>2018-12</td>\n",
       "      <td>NaT</td>\n",
       "    </tr>\n",
       "    <tr>\n",
       "      <th>18729</th>\n",
       "      <td>690012</td>\n",
       "      <td>690012</td>\n",
       "      <td>民生加银家盈理财7天债券A</td>\n",
       "      <td>2013-02</td>\n",
       "      <td>NaT</td>\n",
       "    </tr>\n",
       "    <tr>\n",
       "      <th>18730</th>\n",
       "      <td>690012</td>\n",
       "      <td>690012</td>\n",
       "      <td>民生加银丰鑫债券</td>\n",
       "      <td>2020-03</td>\n",
       "      <td>NaT</td>\n",
       "    </tr>\n",
       "  </tbody>\n",
       "</table>\n",
       "<p>483 rows × 5 columns</p>\n",
       "</div>"
      ],
      "text/plain": [
       "       MasterFundCode  Symbol       ShortName InceptionDate ListingDate\n",
       "28                 37      37       广发理财7天债券A       2013-06         NaT\n",
       "29                 37      37         广发景宁纯债A       2020-04         NaT\n",
       "85                104     104        华宸未来信用增利       2013-08         NaT\n",
       "86                104     104     华宸未来稳健添利债券A       2018-08         NaT\n",
       "114               134     134         理财28日盈A       2017-05         NaT\n",
       "...               ...     ...             ...           ...         ...\n",
       "18661          660016  660016     农银汇理金聚高等级债券       2020-06         NaT\n",
       "18680          673100  673100      西部利得久安回报混合       2017-03         NaT\n",
       "18681          673100  673100  西部利得沪深300指数增强A       2018-12         NaT\n",
       "18729          690012  690012   民生加银家盈理财7天债券A       2013-02         NaT\n",
       "18730          690012  690012        民生加银丰鑫债券       2020-03         NaT\n",
       "\n",
       "[483 rows x 5 columns]"
      ]
     },
     "execution_count": 7,
     "metadata": {},
     "output_type": "execute_result"
    }
   ],
   "source": [
    "unitclassinfo[unitclassinfo.Symbol.duplicated(keep=False)]"
   ]
  },
  {
   "cell_type": "markdown",
   "metadata": {},
   "source": [
    "<img src=\"attachment/37_.png\" alt=\"drawing\" width=\"200\"/> <img src=\"attachment/37.jpg\" alt=\"drawing\" width=\"800\"/>\n",
    "<img src=\"attachment/104_.png\" alt=\"drawing\" width=\"200\"/> <img src=\"attachment/104.png\" alt=\"drawing\" width=\"800\"/>"
   ]
  },
  {
   "cell_type": "code",
   "execution_count": 8,
   "metadata": {},
   "outputs": [
    {
     "data": {
      "text/plain": [
       "'2.5100000000000002% funds changed name'"
      ]
     },
     "execution_count": 8,
     "metadata": {},
     "output_type": "execute_result"
    }
   ],
   "source": [
    "round_(len(unitclassinfo[unitclassinfo.Symbol.duplicated(keep=False)]) / len(unitclassinfo)) + ' funds changed name'"
   ]
  },
  {
   "cell_type": "code",
   "execution_count": 9,
   "metadata": {},
   "outputs": [],
   "source": [
    "unitclassinfo_ = unitclassinfo.drop_duplicates(subset=['Symbol'], keep='last')"
   ]
  },
  {
   "cell_type": "markdown",
   "metadata": {},
   "source": [
    "**erratum**\n",
    "\n",
    "*problem*: ≈0.5% *NA* `MasterFundCode`\n",
    "\n",
    "*reason*: wrong data\n",
    "\n",
    "*method*: delete all *NA* `MasterFundCode`"
   ]
  },
  {
   "cell_type": "code",
   "execution_count": 10,
   "metadata": {},
   "outputs": [
    {
     "data": {
      "text/html": [
       "<div>\n",
       "<style scoped>\n",
       "    .dataframe tbody tr th:only-of-type {\n",
       "        vertical-align: middle;\n",
       "    }\n",
       "\n",
       "    .dataframe tbody tr th {\n",
       "        vertical-align: top;\n",
       "    }\n",
       "\n",
       "    .dataframe thead th {\n",
       "        text-align: right;\n",
       "    }\n",
       "</style>\n",
       "<table border=\"1\" class=\"dataframe\">\n",
       "  <thead>\n",
       "    <tr style=\"text-align: right;\">\n",
       "      <th></th>\n",
       "      <th>MasterFundCode</th>\n",
       "      <th>Symbol</th>\n",
       "      <th>ShortName</th>\n",
       "      <th>InceptionDate</th>\n",
       "      <th>ListingDate</th>\n",
       "    </tr>\n",
       "  </thead>\n",
       "  <tbody>\n",
       "    <tr>\n",
       "      <th>927</th>\n",
       "      <td>&lt;NA&gt;</td>\n",
       "      <td>1041</td>\n",
       "      <td>南方理财60天债券E</td>\n",
       "      <td>2015-03</td>\n",
       "      <td>NaT</td>\n",
       "    </tr>\n",
       "    <tr>\n",
       "      <th>1715</th>\n",
       "      <td>&lt;NA&gt;</td>\n",
       "      <td>1888</td>\n",
       "      <td>中欧盛世成长混合(LOF)E</td>\n",
       "      <td>2015-10</td>\n",
       "      <td>NaT</td>\n",
       "    </tr>\n",
       "    <tr>\n",
       "      <th>2104</th>\n",
       "      <td>&lt;NA&gt;</td>\n",
       "      <td>2294</td>\n",
       "      <td>博时新机遇混合C</td>\n",
       "      <td>2016-01</td>\n",
       "      <td>NaT</td>\n",
       "    </tr>\n",
       "    <tr>\n",
       "      <th>2221</th>\n",
       "      <td>&lt;NA&gt;</td>\n",
       "      <td>2418</td>\n",
       "      <td>汇添富优选回报混合C</td>\n",
       "      <td>2016-02</td>\n",
       "      <td>NaT</td>\n",
       "    </tr>\n",
       "    <tr>\n",
       "      <th>2387</th>\n",
       "      <td>&lt;NA&gt;</td>\n",
       "      <td>2591</td>\n",
       "      <td>中欧信用增利债券E</td>\n",
       "      <td>2016-04</td>\n",
       "      <td>NaT</td>\n",
       "    </tr>\n",
       "    <tr>\n",
       "      <th>...</th>\n",
       "      <td>...</td>\n",
       "      <td>...</td>\n",
       "      <td>...</td>\n",
       "      <td>...</td>\n",
       "      <td>...</td>\n",
       "    </tr>\n",
       "    <tr>\n",
       "      <th>16589</th>\n",
       "      <td>&lt;NA&gt;</td>\n",
       "      <td>163008</td>\n",
       "      <td>长信利鑫债券(LOF)A</td>\n",
       "      <td>2017-01</td>\n",
       "      <td>NaT</td>\n",
       "    </tr>\n",
       "    <tr>\n",
       "      <th>16705</th>\n",
       "      <td>&lt;NA&gt;</td>\n",
       "      <td>164822</td>\n",
       "      <td>工银政府债纯债债券C</td>\n",
       "      <td>2017-01</td>\n",
       "      <td>NaT</td>\n",
       "    </tr>\n",
       "    <tr>\n",
       "      <th>16828</th>\n",
       "      <td>&lt;NA&gt;</td>\n",
       "      <td>167502</td>\n",
       "      <td>宝利A</td>\n",
       "      <td>2013-07</td>\n",
       "      <td>NaT</td>\n",
       "    </tr>\n",
       "    <tr>\n",
       "      <th>16966</th>\n",
       "      <td>&lt;NA&gt;</td>\n",
       "      <td>202308</td>\n",
       "      <td>南方收益宝货币B</td>\n",
       "      <td>2015-07</td>\n",
       "      <td>NaT</td>\n",
       "    </tr>\n",
       "    <tr>\n",
       "      <th>17723</th>\n",
       "      <td>&lt;NA&gt;</td>\n",
       "      <td>511980</td>\n",
       "      <td>汇添富添富通货币E</td>\n",
       "      <td>2015-10</td>\n",
       "      <td>2015-11-02</td>\n",
       "    </tr>\n",
       "  </tbody>\n",
       "</table>\n",
       "<p>102 rows × 5 columns</p>\n",
       "</div>"
      ],
      "text/plain": [
       "       MasterFundCode  Symbol       ShortName InceptionDate ListingDate\n",
       "927              <NA>    1041      南方理财60天债券E       2015-03         NaT\n",
       "1715             <NA>    1888  中欧盛世成长混合(LOF)E       2015-10         NaT\n",
       "2104             <NA>    2294        博时新机遇混合C       2016-01         NaT\n",
       "2221             <NA>    2418      汇添富优选回报混合C       2016-02         NaT\n",
       "2387             <NA>    2591       中欧信用增利债券E       2016-04         NaT\n",
       "...               ...     ...             ...           ...         ...\n",
       "16589            <NA>  163008    长信利鑫债券(LOF)A       2017-01         NaT\n",
       "16705            <NA>  164822      工银政府债纯债债券C       2017-01         NaT\n",
       "16828            <NA>  167502             宝利A       2013-07         NaT\n",
       "16966            <NA>  202308        南方收益宝货币B       2015-07         NaT\n",
       "17723            <NA>  511980       汇添富添富通货币E       2015-10  2015-11-02\n",
       "\n",
       "[102 rows x 5 columns]"
      ]
     },
     "execution_count": 10,
     "metadata": {},
     "output_type": "execute_result"
    }
   ],
   "source": [
    "unitclassinfo_[pd.isnull(unitclassinfo_.MasterFundCode)]\n",
    "# `unitclassinfo_.MasterFundCode` is `Int64`, display <NA> instead of NaN"
   ]
  },
  {
   "cell_type": "markdown",
   "metadata": {},
   "source": [
    "<img src=\"attachment/1041.png\" alt=\"drawing\" width=\"400\"/> <img src=\"attachment/1041_.png\" alt=\"drawing\" width=\"400\"/>\n",
    "\n",
    "<img src=\"attachment/1888.png\" alt=\"drawing\" width=\"400\"/> <img src=\"attachment/1888_.png\" alt=\"drawing\" width=\"400\"/>"
   ]
  },
  {
   "cell_type": "code",
   "execution_count": 11,
   "metadata": {},
   "outputs": [
    {
     "data": {
      "text/html": [
       "<div>\n",
       "<style scoped>\n",
       "    .dataframe tbody tr th:only-of-type {\n",
       "        vertical-align: middle;\n",
       "    }\n",
       "\n",
       "    .dataframe tbody tr th {\n",
       "        vertical-align: top;\n",
       "    }\n",
       "\n",
       "    .dataframe thead th {\n",
       "        text-align: right;\n",
       "    }\n",
       "</style>\n",
       "<table border=\"1\" class=\"dataframe\">\n",
       "  <thead>\n",
       "    <tr style=\"text-align: right;\">\n",
       "      <th></th>\n",
       "      <th>MasterFundCode</th>\n",
       "      <th>Symbol</th>\n",
       "      <th>ShortName</th>\n",
       "      <th>InceptionDate</th>\n",
       "      <th>ListingDate</th>\n",
       "    </tr>\n",
       "  </thead>\n",
       "  <tbody>\n",
       "    <tr>\n",
       "      <th>927</th>\n",
       "      <td>&lt;NA&gt;</td>\n",
       "      <td>1041</td>\n",
       "      <td>南方理财60天债券E</td>\n",
       "      <td>2015-03</td>\n",
       "      <td>NaT</td>\n",
       "    </tr>\n",
       "  </tbody>\n",
       "</table>\n",
       "</div>"
      ],
      "text/plain": [
       "     MasterFundCode  Symbol   ShortName InceptionDate ListingDate\n",
       "927            <NA>    1041  南方理财60天债券E       2015-03         NaT"
      ]
     },
     "execution_count": 11,
     "metadata": {},
     "output_type": "execute_result"
    }
   ],
   "source": [
    "unitclassinfo_[unitclassinfo_.Symbol == 1041]"
   ]
  },
  {
   "cell_type": "code",
   "execution_count": 12,
   "metadata": {},
   "outputs": [
    {
     "data": {
      "text/html": [
       "<div>\n",
       "<style scoped>\n",
       "    .dataframe tbody tr th:only-of-type {\n",
       "        vertical-align: middle;\n",
       "    }\n",
       "\n",
       "    .dataframe tbody tr th {\n",
       "        vertical-align: top;\n",
       "    }\n",
       "\n",
       "    .dataframe thead th {\n",
       "        text-align: right;\n",
       "    }\n",
       "</style>\n",
       "<table border=\"1\" class=\"dataframe\">\n",
       "  <thead>\n",
       "    <tr style=\"text-align: right;\">\n",
       "      <th></th>\n",
       "      <th>MasterFundCode</th>\n",
       "      <th>Symbol</th>\n",
       "      <th>ShortName</th>\n",
       "      <th>InceptionDate</th>\n",
       "      <th>ListingDate</th>\n",
       "    </tr>\n",
       "  </thead>\n",
       "  <tbody>\n",
       "    <tr>\n",
       "      <th>1715</th>\n",
       "      <td>&lt;NA&gt;</td>\n",
       "      <td>1888</td>\n",
       "      <td>中欧盛世成长混合(LOF)E</td>\n",
       "      <td>2015-10</td>\n",
       "      <td>NaT</td>\n",
       "    </tr>\n",
       "  </tbody>\n",
       "</table>\n",
       "</div>"
      ],
      "text/plain": [
       "      MasterFundCode  Symbol       ShortName InceptionDate ListingDate\n",
       "1715            <NA>    1888  中欧盛世成长混合(LOF)E       2015-10         NaT"
      ]
     },
     "execution_count": 12,
     "metadata": {},
     "output_type": "execute_result"
    }
   ],
   "source": [
    "unitclassinfo_[unitclassinfo_.Symbol == 1888]"
   ]
  },
  {
   "cell_type": "code",
   "execution_count": 13,
   "metadata": {},
   "outputs": [
    {
     "data": {
      "text/plain": [
       "'0.53% error'"
      ]
     },
     "execution_count": 13,
     "metadata": {},
     "output_type": "execute_result"
    }
   ],
   "source": [
    "round_(pd.isnull(unitclassinfo_.MasterFundCode).sum() / len(unitclassinfo)) + ' error'"
   ]
  },
  {
   "cell_type": "code",
   "execution_count": 14,
   "metadata": {},
   "outputs": [
    {
     "data": {
      "text/html": [
       "<div>\n",
       "<style scoped>\n",
       "    .dataframe tbody tr th:only-of-type {\n",
       "        vertical-align: middle;\n",
       "    }\n",
       "\n",
       "    .dataframe tbody tr th {\n",
       "        vertical-align: top;\n",
       "    }\n",
       "\n",
       "    .dataframe thead th {\n",
       "        text-align: right;\n",
       "    }\n",
       "</style>\n",
       "<table border=\"1\" class=\"dataframe\">\n",
       "  <thead>\n",
       "    <tr style=\"text-align: right;\">\n",
       "      <th></th>\n",
       "      <th></th>\n",
       "      <th>ShortName</th>\n",
       "      <th>InceptionDate</th>\n",
       "      <th>ListingDate</th>\n",
       "    </tr>\n",
       "    <tr>\n",
       "      <th>MasterFundCode</th>\n",
       "      <th>Symbol</th>\n",
       "      <th></th>\n",
       "      <th></th>\n",
       "      <th></th>\n",
       "    </tr>\n",
       "  </thead>\n",
       "  <tbody>\n",
       "    <tr>\n",
       "      <th rowspan=\"2\" valign=\"top\">3</th>\n",
       "      <th>3</th>\n",
       "      <td>中海可转债A</td>\n",
       "      <td>2013-03</td>\n",
       "      <td>NaT</td>\n",
       "    </tr>\n",
       "    <tr>\n",
       "      <th>4</th>\n",
       "      <td>中海可转债C</td>\n",
       "      <td>2013-03</td>\n",
       "      <td>NaT</td>\n",
       "    </tr>\n",
       "    <tr>\n",
       "      <th>5</th>\n",
       "      <th>5</th>\n",
       "      <td>嘉实增强信用定期债券</td>\n",
       "      <td>2013-03</td>\n",
       "      <td>NaT</td>\n",
       "    </tr>\n",
       "    <tr>\n",
       "      <th>6</th>\n",
       "      <th>6</th>\n",
       "      <td>西部利得量化成长混合A</td>\n",
       "      <td>2019-03</td>\n",
       "      <td>NaT</td>\n",
       "    </tr>\n",
       "    <tr>\n",
       "      <th>7</th>\n",
       "      <th>7</th>\n",
       "      <td>鹏华国企债债券</td>\n",
       "      <td>2013-03</td>\n",
       "      <td>NaT</td>\n",
       "    </tr>\n",
       "    <tr>\n",
       "      <th>...</th>\n",
       "      <th>...</th>\n",
       "      <td>...</td>\n",
       "      <td>...</td>\n",
       "      <td>...</td>\n",
       "    </tr>\n",
       "    <tr>\n",
       "      <th>970191</th>\n",
       "      <th>970191</th>\n",
       "      <td>申万宏源天天增货币</td>\n",
       "      <td>2022-08</td>\n",
       "      <td>NaT</td>\n",
       "    </tr>\n",
       "    <tr>\n",
       "      <th>920187</th>\n",
       "      <th>970193</th>\n",
       "      <td>中金丰裕稳健一年持有混合型C</td>\n",
       "      <td>2022-07</td>\n",
       "      <td>NaT</td>\n",
       "    </tr>\n",
       "    <tr>\n",
       "      <th rowspan=\"2\" valign=\"top\">970194</th>\n",
       "      <th>970194</th>\n",
       "      <td>兴证资管金麒麟3个月(FOF)A</td>\n",
       "      <td>2022-09</td>\n",
       "      <td>NaT</td>\n",
       "    </tr>\n",
       "    <tr>\n",
       "      <th>970195</th>\n",
       "      <td>兴证资管金麒麟3个月(FOF)C</td>\n",
       "      <td>2022-09</td>\n",
       "      <td>NaT</td>\n",
       "    </tr>\n",
       "    <tr>\n",
       "      <th>980003</th>\n",
       "      <th>980003</th>\n",
       "      <td>太平洋证券六个月滚动持有债券</td>\n",
       "      <td>2020-04</td>\n",
       "      <td>NaT</td>\n",
       "    </tr>\n",
       "  </tbody>\n",
       "</table>\n",
       "<p>18915 rows × 3 columns</p>\n",
       "</div>"
      ],
      "text/plain": [
       "                              ShortName InceptionDate ListingDate\n",
       "MasterFundCode Symbol                                            \n",
       "3              3                 中海可转债A       2013-03         NaT\n",
       "               4                 中海可转债C       2013-03         NaT\n",
       "5              5             嘉实增强信用定期债券       2013-03         NaT\n",
       "6              6            西部利得量化成长混合A       2019-03         NaT\n",
       "7              7                鹏华国企债债券       2013-03         NaT\n",
       "...                                 ...           ...         ...\n",
       "970191         970191         申万宏源天天增货币       2022-08         NaT\n",
       "920187         970193    中金丰裕稳健一年持有混合型C       2022-07         NaT\n",
       "970194         970194  兴证资管金麒麟3个月(FOF)A       2022-09         NaT\n",
       "               970195  兴证资管金麒麟3个月(FOF)C       2022-09         NaT\n",
       "980003         980003    太平洋证券六个月滚动持有债券       2020-04         NaT\n",
       "\n",
       "[18915 rows x 3 columns]"
      ]
     },
     "execution_count": 14,
     "metadata": {},
     "output_type": "execute_result"
    }
   ],
   "source": [
    "unitclassinfo_ = unitclassinfo_[pd.notnull(unitclassinfo_.MasterFundCode)]\n",
    "unitclassinfo__ = unitclassinfo_.set_index(['MasterFundCode', 'Symbol'])\n",
    "unitclassinfo__"
   ]
  },
  {
   "cell_type": "code",
   "execution_count": 15,
   "metadata": {},
   "outputs": [
    {
     "data": {
      "text/plain": [
       "'8.61% of `ListingDate` available'"
      ]
     },
     "execution_count": 15,
     "metadata": {},
     "output_type": "execute_result"
    }
   ],
   "source": [
    "f'{round_(pd.notnull(unitclassinfo__.ListingDate).sum() / len(unitclassinfo__))} of `ListingDate` available'"
   ]
  },
  {
   "cell_type": "code",
   "execution_count": 16,
   "metadata": {},
   "outputs": [
    {
     "data": {
      "text/plain": [
       "'100.0% of `InceptionDate` available'"
      ]
     },
     "execution_count": 16,
     "metadata": {},
     "output_type": "execute_result"
    }
   ],
   "source": [
    "f'{round_(pd.notnull(unitclassinfo__.InceptionDate).sum() / len(unitclassinfo__))} of `InceptionDate` available'"
   ]
  },
  {
   "cell_type": "code",
   "execution_count": 17,
   "metadata": {},
   "outputs": [
    {
     "data": {
      "text/plain": [
       "'60.150000000000006% `MasterFundCode` have multiple symbols'"
      ]
     },
     "execution_count": 17,
     "metadata": {},
     "output_type": "execute_result"
    }
   ],
   "source": [
    "f'{round_(len(unitclassinfo__.index.levels[0]) / len(unitclassinfo__.index.levels[1]))} `MasterFundCode` have multiple symbols'"
   ]
  },
  {
   "cell_type": "code",
   "execution_count": 18,
   "metadata": {},
   "outputs": [
    {
     "data": {
      "text/plain": [
       "'85.39999999999999% `MasterFundCode` which have multiple symbols, have identical `InceptionDate`'"
      ]
     },
     "execution_count": 18,
     "metadata": {},
     "output_type": "execute_result"
    }
   ],
   "source": [
    "symbol_date_identical = unitclassinfo__.groupby(level=0).apply(lambda _: True if len(_.InceptionDate.unique()) == 1 else False)\n",
    "f'{round_(symbol_date_identical.sum() / len(symbol_date_identical))} `MasterFundCode` which have multiple symbols, have identical `InceptionDate`'"
   ]
  },
  {
   "cell_type": "markdown",
   "metadata": {},
   "source": [
    "**erratum**\n",
    "\n",
    "*problem*: ≈0.22% `unitclassinfo` has less unique `MasterFundCode`, while `maininfo` has all `MasterFundCode`\n",
    "\n",
    "*reason*:\n",
    "\n",
    "- fund changed its name\n",
    "\n",
    "- lack of data\n",
    "\n",
    "*method*: use `MasterFundCode` & `Symbol` in `unitclassinfo`"
   ]
  },
  {
   "cell_type": "code",
   "execution_count": 19,
   "metadata": {},
   "outputs": [
    {
     "data": {
      "text/plain": [
       "array([], dtype=int32)"
      ]
     },
     "execution_count": 19,
     "metadata": {},
     "output_type": "execute_result"
    }
   ],
   "source": [
    "np.setdiff1d(unitclassinfo_.MasterFundCode, maininfo.MasterFundCode.unique())"
   ]
  },
  {
   "cell_type": "code",
   "execution_count": 20,
   "metadata": {},
   "outputs": [
    {
     "data": {
      "text/plain": [
       "array([   500,    622,    791,    813,    909,  10656,  12570,  13363,\n",
       "        15393,  15514,  15838,  15948,  16005,  16250,  16396,  16454,\n",
       "        16513,  16517,  16566,  16596,  16609, 180102, 240021, 550017,\n",
       "       970186], dtype=int64)"
      ]
     },
     "execution_count": 20,
     "metadata": {},
     "output_type": "execute_result"
    }
   ],
   "source": [
    "np.setdiff1d(maininfo.MasterFundCode.unique(), unitclassinfo_.MasterFundCode)"
   ]
  },
  {
   "cell_type": "code",
   "execution_count": 42,
   "metadata": {},
   "outputs": [
    {
     "data": {
      "text/html": [
       "<div>\n",
       "<style scoped>\n",
       "    .dataframe tbody tr th:only-of-type {\n",
       "        vertical-align: middle;\n",
       "    }\n",
       "\n",
       "    .dataframe tbody tr th {\n",
       "        vertical-align: top;\n",
       "    }\n",
       "\n",
       "    .dataframe thead th {\n",
       "        text-align: right;\n",
       "    }\n",
       "</style>\n",
       "<table border=\"1\" class=\"dataframe\">\n",
       "  <thead>\n",
       "    <tr style=\"text-align: right;\">\n",
       "      <th></th>\n",
       "      <th>FundID</th>\n",
       "      <th>MasterFundCode</th>\n",
       "      <th>FullName</th>\n",
       "      <th>InceptionDate</th>\n",
       "      <th>Category</th>\n",
       "      <th>IsETF</th>\n",
       "      <th>IsQDII</th>\n",
       "      <th>IsActiveOrPassive</th>\n",
       "    </tr>\n",
       "  </thead>\n",
       "  <tbody>\n",
       "    <tr>\n",
       "      <th>293</th>\n",
       "      <td>10131316</td>\n",
       "      <td>500</td>\n",
       "      <td>华富恒富分级债券型证券投资基金</td>\n",
       "      <td>2014-03</td>\n",
       "      <td>债券型基金</td>\n",
       "      <td>2</td>\n",
       "      <td>2</td>\n",
       "      <td>NaN</td>\n",
       "    </tr>\n",
       "  </tbody>\n",
       "</table>\n",
       "</div>"
      ],
      "text/plain": [
       "       FundID  MasterFundCode         FullName InceptionDate Category  IsETF  \\\n",
       "293  10131316             500  华富恒富分级债券型证券投资基金       2014-03    债券型基金      2   \n",
       "\n",
       "     IsQDII  IsActiveOrPassive  \n",
       "293       2                NaN  "
      ]
     },
     "execution_count": 42,
     "metadata": {},
     "output_type": "execute_result"
    }
   ],
   "source": [
    "# e.g. fund changed its name\n",
    "maininfo[maininfo.MasterFundCode == 500]"
   ]
  },
  {
   "cell_type": "code",
   "execution_count": 25,
   "metadata": {},
   "outputs": [
    {
     "data": {
      "text/html": [
       "<div>\n",
       "<style scoped>\n",
       "    .dataframe tbody tr th:only-of-type {\n",
       "        vertical-align: middle;\n",
       "    }\n",
       "\n",
       "    .dataframe tbody tr th {\n",
       "        vertical-align: top;\n",
       "    }\n",
       "\n",
       "    .dataframe thead th {\n",
       "        text-align: right;\n",
       "    }\n",
       "</style>\n",
       "<table border=\"1\" class=\"dataframe\">\n",
       "  <thead>\n",
       "    <tr style=\"text-align: right;\">\n",
       "      <th></th>\n",
       "      <th>MasterFundCode</th>\n",
       "      <th>Symbol</th>\n",
       "      <th>ShortName</th>\n",
       "      <th>InceptionDate</th>\n",
       "      <th>ListingDate</th>\n",
       "    </tr>\n",
       "  </thead>\n",
       "  <tbody>\n",
       "    <tr>\n",
       "      <th>425</th>\n",
       "      <td>500</td>\n",
       "      <td>501</td>\n",
       "      <td>华富恒富分级债券A</td>\n",
       "      <td>2014-03</td>\n",
       "      <td>NaT</td>\n",
       "    </tr>\n",
       "    <tr>\n",
       "      <th>427</th>\n",
       "      <td>500</td>\n",
       "      <td>502</td>\n",
       "      <td>华富恒富分级债券B</td>\n",
       "      <td>2014-03</td>\n",
       "      <td>NaT</td>\n",
       "    </tr>\n",
       "  </tbody>\n",
       "</table>\n",
       "</div>"
      ],
      "text/plain": [
       "     MasterFundCode  Symbol  ShortName InceptionDate ListingDate\n",
       "425             500     501  华富恒富分级债券A       2014-03         NaT\n",
       "427             500     502  华富恒富分级债券B       2014-03         NaT"
      ]
     },
     "execution_count": 25,
     "metadata": {},
     "output_type": "execute_result"
    }
   ],
   "source": [
    "# e.g. fund changed its name\n",
    "# locate `MasterFundCode == 500`, find `Symbol == 501` or `Symbol == 502`\n",
    "unitclassinfo[unitclassinfo.MasterFundCode == 500]"
   ]
  },
  {
   "cell_type": "code",
   "execution_count": 31,
   "metadata": {},
   "outputs": [
    {
     "data": {
      "text/html": [
       "<div>\n",
       "<style scoped>\n",
       "    .dataframe tbody tr th:only-of-type {\n",
       "        vertical-align: middle;\n",
       "    }\n",
       "\n",
       "    .dataframe tbody tr th {\n",
       "        vertical-align: top;\n",
       "    }\n",
       "\n",
       "    .dataframe thead th {\n",
       "        text-align: right;\n",
       "    }\n",
       "</style>\n",
       "<table border=\"1\" class=\"dataframe\">\n",
       "  <thead>\n",
       "    <tr style=\"text-align: right;\">\n",
       "      <th></th>\n",
       "      <th>MasterFundCode</th>\n",
       "      <th>Symbol</th>\n",
       "      <th>ShortName</th>\n",
       "      <th>InceptionDate</th>\n",
       "      <th>ListingDate</th>\n",
       "    </tr>\n",
       "  </thead>\n",
       "  <tbody>\n",
       "    <tr>\n",
       "      <th>425</th>\n",
       "      <td>500</td>\n",
       "      <td>501</td>\n",
       "      <td>华富恒富分级债券A</td>\n",
       "      <td>2014-03</td>\n",
       "      <td>NaT</td>\n",
       "    </tr>\n",
       "    <tr>\n",
       "      <th>426</th>\n",
       "      <td>502</td>\n",
       "      <td>501</td>\n",
       "      <td>华富恒富18个月定开债C</td>\n",
       "      <td>2017-11</td>\n",
       "      <td>NaT</td>\n",
       "    </tr>\n",
       "  </tbody>\n",
       "</table>\n",
       "</div>"
      ],
      "text/plain": [
       "     MasterFundCode  Symbol     ShortName InceptionDate ListingDate\n",
       "425             500     501     华富恒富分级债券A       2014-03         NaT\n",
       "426             502     501  华富恒富18个月定开债C       2017-11         NaT"
      ]
     },
     "execution_count": 31,
     "metadata": {},
     "output_type": "execute_result"
    }
   ],
   "source": [
    "# e.g. fund changed its name\n",
    "# `Symbol == 501` or `Symbol == 502` in original data\n",
    "# the latest `MasterFundCode` change to 502, instead of 500\n",
    "# but they have same `Symbol`\n",
    "unitclassinfo[unitclassinfo.Symbol == 501]"
   ]
  },
  {
   "cell_type": "code",
   "execution_count": 36,
   "metadata": {},
   "outputs": [
    {
     "data": {
      "text/html": [
       "<div>\n",
       "<style scoped>\n",
       "    .dataframe tbody tr th:only-of-type {\n",
       "        vertical-align: middle;\n",
       "    }\n",
       "\n",
       "    .dataframe tbody tr th {\n",
       "        vertical-align: top;\n",
       "    }\n",
       "\n",
       "    .dataframe thead th {\n",
       "        text-align: right;\n",
       "    }\n",
       "</style>\n",
       "<table border=\"1\" class=\"dataframe\">\n",
       "  <thead>\n",
       "    <tr style=\"text-align: right;\">\n",
       "      <th></th>\n",
       "      <th>MasterFundCode</th>\n",
       "      <th>Symbol</th>\n",
       "      <th>ShortName</th>\n",
       "      <th>InceptionDate</th>\n",
       "      <th>ListingDate</th>\n",
       "    </tr>\n",
       "  </thead>\n",
       "  <tbody>\n",
       "    <tr>\n",
       "      <th>426</th>\n",
       "      <td>502</td>\n",
       "      <td>501</td>\n",
       "      <td>华富恒富18个月定开债C</td>\n",
       "      <td>2017-11</td>\n",
       "      <td>NaT</td>\n",
       "    </tr>\n",
       "  </tbody>\n",
       "</table>\n",
       "</div>"
      ],
      "text/plain": [
       "     MasterFundCode  Symbol     ShortName InceptionDate ListingDate\n",
       "426             502     501  华富恒富18个月定开债C       2017-11         NaT"
      ]
     },
     "execution_count": 36,
     "metadata": {},
     "output_type": "execute_result"
    }
   ],
   "source": [
    "# e.g. fund changed its name\n",
    "unitclassinfo_[unitclassinfo_.Symbol == 501]"
   ]
  },
  {
   "cell_type": "code",
   "execution_count": 37,
   "metadata": {},
   "outputs": [
    {
     "data": {
      "text/html": [
       "<div>\n",
       "<style scoped>\n",
       "    .dataframe tbody tr th:only-of-type {\n",
       "        vertical-align: middle;\n",
       "    }\n",
       "\n",
       "    .dataframe tbody tr th {\n",
       "        vertical-align: top;\n",
       "    }\n",
       "\n",
       "    .dataframe thead th {\n",
       "        text-align: right;\n",
       "    }\n",
       "</style>\n",
       "<table border=\"1\" class=\"dataframe\">\n",
       "  <thead>\n",
       "    <tr style=\"text-align: right;\">\n",
       "      <th></th>\n",
       "      <th>MasterFundCode</th>\n",
       "      <th>Symbol</th>\n",
       "      <th>ShortName</th>\n",
       "      <th>InceptionDate</th>\n",
       "      <th>ListingDate</th>\n",
       "    </tr>\n",
       "  </thead>\n",
       "  <tbody>\n",
       "    <tr>\n",
       "      <th>427</th>\n",
       "      <td>500</td>\n",
       "      <td>502</td>\n",
       "      <td>华富恒富分级债券B</td>\n",
       "      <td>2014-03</td>\n",
       "      <td>NaT</td>\n",
       "    </tr>\n",
       "    <tr>\n",
       "      <th>428</th>\n",
       "      <td>502</td>\n",
       "      <td>502</td>\n",
       "      <td>华富恒富18个月定开债A</td>\n",
       "      <td>2017-11</td>\n",
       "      <td>NaT</td>\n",
       "    </tr>\n",
       "  </tbody>\n",
       "</table>\n",
       "</div>"
      ],
      "text/plain": [
       "     MasterFundCode  Symbol     ShortName InceptionDate ListingDate\n",
       "427             500     502     华富恒富分级债券B       2014-03         NaT\n",
       "428             502     502  华富恒富18个月定开债A       2017-11         NaT"
      ]
     },
     "execution_count": 37,
     "metadata": {},
     "output_type": "execute_result"
    }
   ],
   "source": [
    "# e.g. fund changed its name\n",
    "unitclassinfo[unitclassinfo.Symbol == 502]"
   ]
  },
  {
   "cell_type": "code",
   "execution_count": 40,
   "metadata": {},
   "outputs": [
    {
     "data": {
      "text/html": [
       "<div>\n",
       "<style scoped>\n",
       "    .dataframe tbody tr th:only-of-type {\n",
       "        vertical-align: middle;\n",
       "    }\n",
       "\n",
       "    .dataframe tbody tr th {\n",
       "        vertical-align: top;\n",
       "    }\n",
       "\n",
       "    .dataframe thead th {\n",
       "        text-align: right;\n",
       "    }\n",
       "</style>\n",
       "<table border=\"1\" class=\"dataframe\">\n",
       "  <thead>\n",
       "    <tr style=\"text-align: right;\">\n",
       "      <th></th>\n",
       "      <th>MasterFundCode</th>\n",
       "      <th>Symbol</th>\n",
       "      <th>ShortName</th>\n",
       "      <th>InceptionDate</th>\n",
       "      <th>ListingDate</th>\n",
       "    </tr>\n",
       "  </thead>\n",
       "  <tbody>\n",
       "    <tr>\n",
       "      <th>428</th>\n",
       "      <td>502</td>\n",
       "      <td>502</td>\n",
       "      <td>华富恒富18个月定开债A</td>\n",
       "      <td>2017-11</td>\n",
       "      <td>NaT</td>\n",
       "    </tr>\n",
       "  </tbody>\n",
       "</table>\n",
       "</div>"
      ],
      "text/plain": [
       "     MasterFundCode  Symbol     ShortName InceptionDate ListingDate\n",
       "428             502     502  华富恒富18个月定开债A       2017-11         NaT"
      ]
     },
     "execution_count": 40,
     "metadata": {},
     "output_type": "execute_result"
    }
   ],
   "source": [
    "# e.g. fund changed its name\n",
    "unitclassinfo_[unitclassinfo_.Symbol == 502]"
   ]
  },
  {
   "cell_type": "code",
   "execution_count": 38,
   "metadata": {},
   "outputs": [
    {
     "data": {
      "text/html": [
       "<div>\n",
       "<style scoped>\n",
       "    .dataframe tbody tr th:only-of-type {\n",
       "        vertical-align: middle;\n",
       "    }\n",
       "\n",
       "    .dataframe tbody tr th {\n",
       "        vertical-align: top;\n",
       "    }\n",
       "\n",
       "    .dataframe thead th {\n",
       "        text-align: right;\n",
       "    }\n",
       "</style>\n",
       "<table border=\"1\" class=\"dataframe\">\n",
       "  <thead>\n",
       "    <tr style=\"text-align: right;\">\n",
       "      <th></th>\n",
       "      <th>MasterFundCode</th>\n",
       "      <th>Symbol</th>\n",
       "      <th>ShortName</th>\n",
       "      <th>InceptionDate</th>\n",
       "      <th>ListingDate</th>\n",
       "    </tr>\n",
       "  </thead>\n",
       "  <tbody>\n",
       "  </tbody>\n",
       "</table>\n",
       "</div>"
      ],
      "text/plain": [
       "Empty DataFrame\n",
       "Columns: [MasterFundCode, Symbol, ShortName, InceptionDate, ListingDate]\n",
       "Index: []"
      ]
     },
     "execution_count": 38,
     "metadata": {},
     "output_type": "execute_result"
    }
   ],
   "source": [
    "# e.g. fund changed its name\n",
    "unitclassinfo_[unitclassinfo_.MasterFundCode == 500]"
   ]
  },
  {
   "cell_type": "code",
   "execution_count": 51,
   "metadata": {},
   "outputs": [
    {
     "data": {
      "text/html": [
       "<div>\n",
       "<style scoped>\n",
       "    .dataframe tbody tr th:only-of-type {\n",
       "        vertical-align: middle;\n",
       "    }\n",
       "\n",
       "    .dataframe tbody tr th {\n",
       "        vertical-align: top;\n",
       "    }\n",
       "\n",
       "    .dataframe thead th {\n",
       "        text-align: right;\n",
       "    }\n",
       "</style>\n",
       "<table border=\"1\" class=\"dataframe\">\n",
       "  <thead>\n",
       "    <tr style=\"text-align: right;\">\n",
       "      <th></th>\n",
       "      <th>MasterFundCode</th>\n",
       "      <th>Symbol</th>\n",
       "      <th>ShortName</th>\n",
       "      <th>InceptionDate</th>\n",
       "      <th>ListingDate</th>\n",
       "    </tr>\n",
       "  </thead>\n",
       "  <tbody>\n",
       "  </tbody>\n",
       "</table>\n",
       "</div>"
      ],
      "text/plain": [
       "Empty DataFrame\n",
       "Columns: [MasterFundCode, Symbol, ShortName, InceptionDate, ListingDate]\n",
       "Index: []"
      ]
     },
     "execution_count": 51,
     "metadata": {},
     "output_type": "execute_result"
    }
   ],
   "source": [
    "# 500, 622, 791, 813, 909 are due to renaming\n",
    "\n",
    "# e.g. lack of data\n",
    "unitclassinfo[unitclassinfo.MasterFundCode == 10656]"
   ]
  },
  {
   "cell_type": "code",
   "execution_count": 52,
   "metadata": {},
   "outputs": [
    {
     "data": {
      "text/plain": [
       "'0.22% MasterFundCode will be dropped'"
      ]
     },
     "execution_count": 52,
     "metadata": {},
     "output_type": "execute_result"
    }
   ],
   "source": [
    "# `MasterFundCode` included in `maininfo` but not in `unitclassinfo`\n",
    "# some born NA, some changed name\n",
    "\n",
    "f'{round_(len(np.setdiff1d(maininfo.MasterFundCode.unique(), unitclassinfo_.MasterFundCode)) / len(maininfo.MasterFundCode.unique()))} \\\n",
    "MasterFundCode will be dropped'"
   ]
  },
  {
   "cell_type": "markdown",
   "metadata": {},
   "source": [
    "#### iii. concatenate"
   ]
  },
  {
   "cell_type": "markdown",
   "metadata": {},
   "source": [
    "**Q**: We use `Symbol`, and `Symbol` is duplicated, why drop `MasterFundCode` here?\n",
    "\n",
    "**A**: `MasterFundCode` is the proper `key` both table have in common. If we drop with `key` of `Symbol`, program does not know what to do with `maininfo`"
   ]
  },
  {
   "cell_type": "code",
   "execution_count": 53,
   "metadata": {},
   "outputs": [
    {
     "data": {
      "text/html": [
       "<div>\n",
       "<style scoped>\n",
       "    .dataframe tbody tr th:only-of-type {\n",
       "        vertical-align: middle;\n",
       "    }\n",
       "\n",
       "    .dataframe tbody tr th {\n",
       "        vertical-align: top;\n",
       "    }\n",
       "\n",
       "    .dataframe thead th {\n",
       "        text-align: right;\n",
       "    }\n",
       "</style>\n",
       "<table border=\"1\" class=\"dataframe\">\n",
       "  <thead>\n",
       "    <tr style=\"text-align: right;\">\n",
       "      <th></th>\n",
       "      <th>FundID</th>\n",
       "      <th>MasterFundCode</th>\n",
       "      <th>FullName</th>\n",
       "      <th>Symbol</th>\n",
       "      <th>InceptionDate_y</th>\n",
       "      <th>Category</th>\n",
       "      <th>IsETF</th>\n",
       "      <th>IsQDII</th>\n",
       "      <th>IsActiveOrPassive</th>\n",
       "    </tr>\n",
       "  </thead>\n",
       "  <tbody>\n",
       "    <tr>\n",
       "      <th>0</th>\n",
       "      <td>10110606</td>\n",
       "      <td>3</td>\n",
       "      <td>中海可转换债券债券型证券投资基金</td>\n",
       "      <td>3</td>\n",
       "      <td>2013-03</td>\n",
       "      <td>债券型基金</td>\n",
       "      <td>2</td>\n",
       "      <td>2</td>\n",
       "      <td>NaN</td>\n",
       "    </tr>\n",
       "    <tr>\n",
       "      <th>1</th>\n",
       "      <td>10110606</td>\n",
       "      <td>3</td>\n",
       "      <td>中海可转换债券债券型证券投资基金</td>\n",
       "      <td>4</td>\n",
       "      <td>2013-03</td>\n",
       "      <td>债券型基金</td>\n",
       "      <td>2</td>\n",
       "      <td>2</td>\n",
       "      <td>NaN</td>\n",
       "    </tr>\n",
       "    <tr>\n",
       "      <th>2</th>\n",
       "      <td>10110338</td>\n",
       "      <td>5</td>\n",
       "      <td>嘉实增强信用定期开放债券型证券投资基金</td>\n",
       "      <td>5</td>\n",
       "      <td>2013-03</td>\n",
       "      <td>债券型基金</td>\n",
       "      <td>2</td>\n",
       "      <td>2</td>\n",
       "      <td>NaN</td>\n",
       "    </tr>\n",
       "    <tr>\n",
       "      <th>3</th>\n",
       "      <td>10445836</td>\n",
       "      <td>6</td>\n",
       "      <td>西部利得量化成长混合型发起式证券投资基金</td>\n",
       "      <td>6</td>\n",
       "      <td>2019-03</td>\n",
       "      <td>混合型基金</td>\n",
       "      <td>2</td>\n",
       "      <td>2</td>\n",
       "      <td>1.0</td>\n",
       "    </tr>\n",
       "    <tr>\n",
       "      <th>4</th>\n",
       "      <td>10445836</td>\n",
       "      <td>6</td>\n",
       "      <td>西部利得量化成长混合型发起式证券投资基金</td>\n",
       "      <td>11228</td>\n",
       "      <td>2021-01</td>\n",
       "      <td>混合型基金</td>\n",
       "      <td>2</td>\n",
       "      <td>2</td>\n",
       "      <td>1.0</td>\n",
       "    </tr>\n",
       "    <tr>\n",
       "      <th>...</th>\n",
       "      <td>...</td>\n",
       "      <td>...</td>\n",
       "      <td>...</td>\n",
       "      <td>...</td>\n",
       "      <td>...</td>\n",
       "      <td>...</td>\n",
       "      <td>...</td>\n",
       "      <td>...</td>\n",
       "      <td>...</td>\n",
       "    </tr>\n",
       "    <tr>\n",
       "      <th>18910</th>\n",
       "      <td>10596615</td>\n",
       "      <td>970187</td>\n",
       "      <td>申万宏源天添利货币型集合资产管理计划</td>\n",
       "      <td>970187</td>\n",
       "      <td>2022-08</td>\n",
       "      <td>货币型基金</td>\n",
       "      <td>2</td>\n",
       "      <td>2</td>\n",
       "      <td>NaN</td>\n",
       "    </tr>\n",
       "    <tr>\n",
       "      <th>18911</th>\n",
       "      <td>10596605</td>\n",
       "      <td>970191</td>\n",
       "      <td>申万宏源天天增货币型集合资产管理计划</td>\n",
       "      <td>970191</td>\n",
       "      <td>2022-08</td>\n",
       "      <td>货币型基金</td>\n",
       "      <td>2</td>\n",
       "      <td>2</td>\n",
       "      <td>NaN</td>\n",
       "    </tr>\n",
       "    <tr>\n",
       "      <th>18912</th>\n",
       "      <td>10598181</td>\n",
       "      <td>970194</td>\n",
       "      <td>兴证资管金麒麟3个月持有期混合型基金中基金(FOF)集合资产管理计划</td>\n",
       "      <td>970194</td>\n",
       "      <td>2022-09</td>\n",
       "      <td>FOF</td>\n",
       "      <td>2</td>\n",
       "      <td>2</td>\n",
       "      <td>1.0</td>\n",
       "    </tr>\n",
       "    <tr>\n",
       "      <th>18913</th>\n",
       "      <td>10598181</td>\n",
       "      <td>970194</td>\n",
       "      <td>兴证资管金麒麟3个月持有期混合型基金中基金(FOF)集合资产管理计划</td>\n",
       "      <td>970195</td>\n",
       "      <td>2022-09</td>\n",
       "      <td>FOF</td>\n",
       "      <td>2</td>\n",
       "      <td>2</td>\n",
       "      <td>1.0</td>\n",
       "    </tr>\n",
       "    <tr>\n",
       "      <th>18914</th>\n",
       "      <td>10496016</td>\n",
       "      <td>980003</td>\n",
       "      <td>太平洋证券六个月滚动持有债券型集合资产管理计划</td>\n",
       "      <td>980003</td>\n",
       "      <td>2020-04</td>\n",
       "      <td>债券型基金</td>\n",
       "      <td>2</td>\n",
       "      <td>2</td>\n",
       "      <td>NaN</td>\n",
       "    </tr>\n",
       "  </tbody>\n",
       "</table>\n",
       "<p>18915 rows × 9 columns</p>\n",
       "</div>"
      ],
      "text/plain": [
       "         FundID  MasterFundCode                            FullName  Symbol  \\\n",
       "0      10110606               3                    中海可转换债券债券型证券投资基金       3   \n",
       "1      10110606               3                    中海可转换债券债券型证券投资基金       4   \n",
       "2      10110338               5                 嘉实增强信用定期开放债券型证券投资基金       5   \n",
       "3      10445836               6                西部利得量化成长混合型发起式证券投资基金       6   \n",
       "4      10445836               6                西部利得量化成长混合型发起式证券投资基金   11228   \n",
       "...         ...             ...                                 ...     ...   \n",
       "18910  10596615          970187                  申万宏源天添利货币型集合资产管理计划  970187   \n",
       "18911  10596605          970191                  申万宏源天天增货币型集合资产管理计划  970191   \n",
       "18912  10598181          970194  兴证资管金麒麟3个月持有期混合型基金中基金(FOF)集合资产管理计划  970194   \n",
       "18913  10598181          970194  兴证资管金麒麟3个月持有期混合型基金中基金(FOF)集合资产管理计划  970195   \n",
       "18914  10496016          980003             太平洋证券六个月滚动持有债券型集合资产管理计划  980003   \n",
       "\n",
       "      InceptionDate_y Category  IsETF  IsQDII  IsActiveOrPassive  \n",
       "0             2013-03    债券型基金      2       2                NaN  \n",
       "1             2013-03    债券型基金      2       2                NaN  \n",
       "2             2013-03    债券型基金      2       2                NaN  \n",
       "3             2019-03    混合型基金      2       2                1.0  \n",
       "4             2021-01    混合型基金      2       2                1.0  \n",
       "...               ...      ...    ...     ...                ...  \n",
       "18910         2022-08    货币型基金      2       2                NaN  \n",
       "18911         2022-08    货币型基金      2       2                NaN  \n",
       "18912         2022-09      FOF      2       2                1.0  \n",
       "18913         2022-09      FOF      2       2                1.0  \n",
       "18914         2020-04    债券型基金      2       2                NaN  \n",
       "\n",
       "[18915 rows x 9 columns]"
      ]
     },
     "execution_count": 53,
     "metadata": {},
     "output_type": "execute_result"
    }
   ],
   "source": [
    "selected_columns = ['FundID', 'MasterFundCode', 'FullName', 'Symbol', 'InceptionDate_y', 'Category', 'IsETF', 'IsQDII', 'IsActiveOrPassive']\n",
    "maininfo_ = pd.merge(maininfo, unitclassinfo_, how='inner' ,on='MasterFundCode')[selected_columns].drop_duplicates(subset='Symbol').reset_index(drop=True)\n",
    "maininfo_"
   ]
  },
  {
   "cell_type": "markdown",
   "metadata": {},
   "source": [
    "### 2. filter data"
   ]
  },
  {
   "cell_type": "markdown",
   "metadata": {},
   "source": [
    "#### i. first 4 : static filtering"
   ]
  },
  {
   "cell_type": "markdown",
   "metadata": {},
   "source": [
    "（1）基金类别必须为“股票型基金”或“混合型基金”；\n",
    "\n",
    "（2）非 ETF 类基金；\n",
    "\n",
    "（3）非 QDII 类基金；\n",
    "\n",
    "（4）主动管理标识为 1 或者为空；"
   ]
  },
  {
   "cell_type": "code",
   "execution_count": 54,
   "metadata": {},
   "outputs": [
    {
     "data": {
      "text/plain": [
       "array([0.61908538, 0.9554322 , 0.97383029, 0.83246101])"
      ]
     },
     "execution_count": 54,
     "metadata": {},
     "output_type": "execute_result"
    }
   ],
   "source": [
    "filter_1 = np.logical_or(maininfo_.Category == '股票型基金', maininfo_.Category == '混合型基金')\n",
    "filter_2 = maininfo_.IsETF == 2\n",
    "filter_3 = maininfo_.IsQDII == 2\n",
    "filter_4 = maininfo_.IsActiveOrPassive != 2\n",
    "\n",
    "filters = [(1, filter_1), (2, filter_2), (3, filter_3), (4, filter_4)]\n",
    "np.array(list(map(lambda _: _[1].sum(), filters))) / len(maininfo_)\n",
    "\n",
    "# proportional data left"
   ]
  },
  {
   "cell_type": "code",
   "execution_count": 55,
   "metadata": {},
   "outputs": [
    {
     "name": "stdout",
     "output_type": "stream",
     "text": [
      "filter 1: 18915 to 11710, 38.09% symbols dropped\n",
      "filter 2: 11710 to 10969, 6.329999999999999% symbols dropped\n",
      "filter 3: 10969 to 10654, 2.87% symbols dropped\n",
      "filter 4: 10654 to 8786, 17.53% symbols dropped\n"
     ]
    }
   ],
   "source": [
    "def func(previous, now):\n",
    "    if type(previous) == tuple:\n",
    "        print(f'filter {previous[0]}: {len(maininfo_)} to {previous[1].sum()}, ' + round_(1 - previous[1].sum() / len(maininfo_)) + ' symbols dropped')\n",
    "        temp = np.logical_and(previous[1], now[1])\n",
    "        print(f'filter {now[0]}: {previous[1].sum()} to {temp.sum()}, ' + round_(1 - temp.sum() / previous[1].sum()) + ' symbols dropped')\n",
    "        return temp\n",
    "    else:\n",
    "        temp = np.logical_and(previous, now[1])\n",
    "        print(f'filter {now[0]}: {previous.sum()} to {temp.sum()}, ' + round_(1 - temp.sum() / previous.sum()) + ' symbols dropped')\n",
    "        return temp\n",
    "\n",
    "\n",
    "filters_ = reduce(func, filters)"
   ]
  },
  {
   "cell_type": "code",
   "execution_count": 89,
   "metadata": {},
   "outputs": [
    {
     "data": {
      "text/html": [
       "<div>\n",
       "<style scoped>\n",
       "    .dataframe tbody tr th:only-of-type {\n",
       "        vertical-align: middle;\n",
       "    }\n",
       "\n",
       "    .dataframe tbody tr th {\n",
       "        vertical-align: top;\n",
       "    }\n",
       "\n",
       "    .dataframe thead th {\n",
       "        text-align: right;\n",
       "    }\n",
       "</style>\n",
       "<table border=\"1\" class=\"dataframe\">\n",
       "  <thead>\n",
       "    <tr style=\"text-align: right;\">\n",
       "      <th></th>\n",
       "      <th>FundID</th>\n",
       "      <th>MasterFundCode</th>\n",
       "      <th>FullName</th>\n",
       "      <th>InceptionDate_y</th>\n",
       "      <th>Category</th>\n",
       "      <th>IsETF</th>\n",
       "      <th>IsQDII</th>\n",
       "      <th>IsActiveOrPassive</th>\n",
       "    </tr>\n",
       "    <tr>\n",
       "      <th>Symbol</th>\n",
       "      <th></th>\n",
       "      <th></th>\n",
       "      <th></th>\n",
       "      <th></th>\n",
       "      <th></th>\n",
       "      <th></th>\n",
       "      <th></th>\n",
       "      <th></th>\n",
       "    </tr>\n",
       "  </thead>\n",
       "  <tbody>\n",
       "    <tr>\n",
       "      <th>6</th>\n",
       "      <td>10445836</td>\n",
       "      <td>6</td>\n",
       "      <td>西部利得量化成长混合型发起式证券投资基金</td>\n",
       "      <td>2019-03</td>\n",
       "      <td>混合型基金</td>\n",
       "      <td>2</td>\n",
       "      <td>2</td>\n",
       "      <td>1.0</td>\n",
       "    </tr>\n",
       "    <tr>\n",
       "      <th>11</th>\n",
       "      <td>107794</td>\n",
       "      <td>11</td>\n",
       "      <td>华夏大盘精选证券投资基金</td>\n",
       "      <td>2004-08</td>\n",
       "      <td>混合型基金</td>\n",
       "      <td>2</td>\n",
       "      <td>2</td>\n",
       "      <td>1.0</td>\n",
       "    </tr>\n",
       "    <tr>\n",
       "      <th>17</th>\n",
       "      <td>10110640</td>\n",
       "      <td>17</td>\n",
       "      <td>财通可持续发展主题混合型证券投资基金</td>\n",
       "      <td>2013-03</td>\n",
       "      <td>混合型基金</td>\n",
       "      <td>2</td>\n",
       "      <td>2</td>\n",
       "      <td>1.0</td>\n",
       "    </tr>\n",
       "    <tr>\n",
       "      <th>20</th>\n",
       "      <td>10110534</td>\n",
       "      <td>20</td>\n",
       "      <td>景顺长城品质投资混合型证券投资基金</td>\n",
       "      <td>2013-03</td>\n",
       "      <td>混合型基金</td>\n",
       "      <td>2</td>\n",
       "      <td>2</td>\n",
       "      <td>1.0</td>\n",
       "    </tr>\n",
       "    <tr>\n",
       "      <th>21</th>\n",
       "      <td>10102822</td>\n",
       "      <td>21</td>\n",
       "      <td>华夏优势增长混合型证券投资基金</td>\n",
       "      <td>2006-11</td>\n",
       "      <td>混合型基金</td>\n",
       "      <td>2</td>\n",
       "      <td>2</td>\n",
       "      <td>1.0</td>\n",
       "    </tr>\n",
       "    <tr>\n",
       "      <th>...</th>\n",
       "      <td>...</td>\n",
       "      <td>...</td>\n",
       "      <td>...</td>\n",
       "      <td>...</td>\n",
       "      <td>...</td>\n",
       "      <td>...</td>\n",
       "      <td>...</td>\n",
       "      <td>...</td>\n",
       "    </tr>\n",
       "    <tr>\n",
       "      <th>970120</th>\n",
       "      <td>10578152</td>\n",
       "      <td>970120</td>\n",
       "      <td>兴证资管金麒麟恒睿致远一年持有期混合型集合资产管理计划</td>\n",
       "      <td>2021-12</td>\n",
       "      <td>混合型基金</td>\n",
       "      <td>2</td>\n",
       "      <td>2</td>\n",
       "      <td>1.0</td>\n",
       "    </tr>\n",
       "    <tr>\n",
       "      <th>970121</th>\n",
       "      <td>10578152</td>\n",
       "      <td>970120</td>\n",
       "      <td>兴证资管金麒麟恒睿致远一年持有期混合型集合资产管理计划</td>\n",
       "      <td>2021-12</td>\n",
       "      <td>混合型基金</td>\n",
       "      <td>2</td>\n",
       "      <td>2</td>\n",
       "      <td>1.0</td>\n",
       "    </tr>\n",
       "    <tr>\n",
       "      <th>970184</th>\n",
       "      <td>10596614</td>\n",
       "      <td>880006</td>\n",
       "      <td>招商资管核心优势混合型集合资产管理计划</td>\n",
       "      <td>2022-08</td>\n",
       "      <td>混合型基金</td>\n",
       "      <td>2</td>\n",
       "      <td>2</td>\n",
       "      <td>1.0</td>\n",
       "    </tr>\n",
       "    <tr>\n",
       "      <th>970185</th>\n",
       "      <td>10596614</td>\n",
       "      <td>880006</td>\n",
       "      <td>招商资管核心优势混合型集合资产管理计划</td>\n",
       "      <td>2022-08</td>\n",
       "      <td>混合型基金</td>\n",
       "      <td>2</td>\n",
       "      <td>2</td>\n",
       "      <td>1.0</td>\n",
       "    </tr>\n",
       "    <tr>\n",
       "      <th>970193</th>\n",
       "      <td>10596222</td>\n",
       "      <td>920187</td>\n",
       "      <td>中金丰裕稳健一年持有混合型集合资产管理计划</td>\n",
       "      <td>2022-07</td>\n",
       "      <td>混合型基金</td>\n",
       "      <td>2</td>\n",
       "      <td>2</td>\n",
       "      <td>1.0</td>\n",
       "    </tr>\n",
       "  </tbody>\n",
       "</table>\n",
       "<p>8786 rows × 8 columns</p>\n",
       "</div>"
      ],
      "text/plain": [
       "          FundID  MasterFundCode                     FullName InceptionDate_y  \\\n",
       "Symbol                                                                          \n",
       "6       10445836               6         西部利得量化成长混合型发起式证券投资基金         2019-03   \n",
       "11        107794              11                 华夏大盘精选证券投资基金         2004-08   \n",
       "17      10110640              17           财通可持续发展主题混合型证券投资基金         2013-03   \n",
       "20      10110534              20            景顺长城品质投资混合型证券投资基金         2013-03   \n",
       "21      10102822              21              华夏优势增长混合型证券投资基金         2006-11   \n",
       "...          ...             ...                          ...             ...   \n",
       "970120  10578152          970120  兴证资管金麒麟恒睿致远一年持有期混合型集合资产管理计划         2021-12   \n",
       "970121  10578152          970120  兴证资管金麒麟恒睿致远一年持有期混合型集合资产管理计划         2021-12   \n",
       "970184  10596614          880006          招商资管核心优势混合型集合资产管理计划         2022-08   \n",
       "970185  10596614          880006          招商资管核心优势混合型集合资产管理计划         2022-08   \n",
       "970193  10596222          920187        中金丰裕稳健一年持有混合型集合资产管理计划         2022-07   \n",
       "\n",
       "       Category  IsETF  IsQDII  IsActiveOrPassive  \n",
       "Symbol                                             \n",
       "6         混合型基金      2       2                1.0  \n",
       "11        混合型基金      2       2                1.0  \n",
       "17        混合型基金      2       2                1.0  \n",
       "20        混合型基金      2       2                1.0  \n",
       "21        混合型基金      2       2                1.0  \n",
       "...         ...    ...     ...                ...  \n",
       "970120    混合型基金      2       2                1.0  \n",
       "970121    混合型基金      2       2                1.0  \n",
       "970184    混合型基金      2       2                1.0  \n",
       "970185    混合型基金      2       2                1.0  \n",
       "970193    混合型基金      2       2                1.0  \n",
       "\n",
       "[8786 rows x 8 columns]"
      ]
     },
     "execution_count": 89,
     "metadata": {},
     "output_type": "execute_result"
    }
   ],
   "source": [
    "maininfo__ = maininfo_[filters_]\n",
    "maininfo__.set_index('Symbol').sort_index()"
   ]
  },
  {
   "cell_type": "markdown",
   "metadata": {},
   "source": [
    "#### ii. use filtered data (first 4) to create big table\n",
    "\n",
    "big table: from `Symbol` indexed only to `Symbol-Month` multiIndex"
   ]
  },
  {
   "cell_type": "code",
   "execution_count": 125,
   "metadata": {},
   "outputs": [
    {
     "data": {
      "text/html": [
       "<div>\n",
       "<style scoped>\n",
       "    .dataframe tbody tr th:only-of-type {\n",
       "        vertical-align: middle;\n",
       "    }\n",
       "\n",
       "    .dataframe tbody tr th {\n",
       "        vertical-align: top;\n",
       "    }\n",
       "\n",
       "    .dataframe thead th {\n",
       "        text-align: right;\n",
       "    }\n",
       "</style>\n",
       "<table border=\"1\" class=\"dataframe\">\n",
       "  <thead>\n",
       "    <tr style=\"text-align: right;\">\n",
       "      <th></th>\n",
       "      <th></th>\n",
       "      <th>InceptionDate_y</th>\n",
       "      <th>MasterFundCode</th>\n",
       "      <th>Category</th>\n",
       "    </tr>\n",
       "    <tr>\n",
       "      <th>Symbol</th>\n",
       "      <th>EndDate</th>\n",
       "      <th></th>\n",
       "      <th></th>\n",
       "      <th></th>\n",
       "    </tr>\n",
       "  </thead>\n",
       "  <tbody>\n",
       "    <tr>\n",
       "      <th rowspan=\"5\" valign=\"top\">6</th>\n",
       "      <th>2019-03</th>\n",
       "      <td>2019-03</td>\n",
       "      <td>6</td>\n",
       "      <td>混合型基金</td>\n",
       "    </tr>\n",
       "    <tr>\n",
       "      <th>2019-06</th>\n",
       "      <td>2019-03</td>\n",
       "      <td>6</td>\n",
       "      <td>混合型基金</td>\n",
       "    </tr>\n",
       "    <tr>\n",
       "      <th>2019-09</th>\n",
       "      <td>2019-03</td>\n",
       "      <td>6</td>\n",
       "      <td>混合型基金</td>\n",
       "    </tr>\n",
       "    <tr>\n",
       "      <th>2019-12</th>\n",
       "      <td>2019-03</td>\n",
       "      <td>6</td>\n",
       "      <td>混合型基金</td>\n",
       "    </tr>\n",
       "    <tr>\n",
       "      <th>2020-03</th>\n",
       "      <td>2019-03</td>\n",
       "      <td>6</td>\n",
       "      <td>混合型基金</td>\n",
       "    </tr>\n",
       "    <tr>\n",
       "      <th>...</th>\n",
       "      <th>...</th>\n",
       "      <td>...</td>\n",
       "      <td>...</td>\n",
       "      <td>...</td>\n",
       "    </tr>\n",
       "    <tr>\n",
       "      <th rowspan=\"2\" valign=\"top\">970121</th>\n",
       "      <th>2022-06</th>\n",
       "      <td>2021-12</td>\n",
       "      <td>970120</td>\n",
       "      <td>混合型基金</td>\n",
       "    </tr>\n",
       "    <tr>\n",
       "      <th>2022-09</th>\n",
       "      <td>2021-12</td>\n",
       "      <td>970120</td>\n",
       "      <td>混合型基金</td>\n",
       "    </tr>\n",
       "    <tr>\n",
       "      <th>970184</th>\n",
       "      <th>2022-09</th>\n",
       "      <td>2022-08</td>\n",
       "      <td>880006</td>\n",
       "      <td>混合型基金</td>\n",
       "    </tr>\n",
       "    <tr>\n",
       "      <th>970185</th>\n",
       "      <th>2022-09</th>\n",
       "      <td>2022-08</td>\n",
       "      <td>880006</td>\n",
       "      <td>混合型基金</td>\n",
       "    </tr>\n",
       "    <tr>\n",
       "      <th>970193</th>\n",
       "      <th>2022-09</th>\n",
       "      <td>2022-07</td>\n",
       "      <td>920187</td>\n",
       "      <td>混合型基金</td>\n",
       "    </tr>\n",
       "  </tbody>\n",
       "</table>\n",
       "<p>144418 rows × 3 columns</p>\n",
       "</div>"
      ],
      "text/plain": [
       "               InceptionDate_y  MasterFundCode Category\n",
       "Symbol EndDate                                         \n",
       "6      2019-03         2019-03               6    混合型基金\n",
       "       2019-06         2019-03               6    混合型基金\n",
       "       2019-09         2019-03               6    混合型基金\n",
       "       2019-12         2019-03               6    混合型基金\n",
       "       2020-03         2019-03               6    混合型基金\n",
       "...                        ...             ...      ...\n",
       "970121 2022-06         2021-12          970120    混合型基金\n",
       "       2022-09         2021-12          970120    混合型基金\n",
       "970184 2022-09         2022-08          880006    混合型基金\n",
       "970185 2022-09         2022-08          880006    混合型基金\n",
       "970193 2022-09         2022-07          920187    混合型基金\n",
       "\n",
       "[144418 rows x 3 columns]"
      ]
     },
     "execution_count": 125,
     "metadata": {},
     "output_type": "execute_result"
    }
   ],
   "source": [
    "indexes = pd.MultiIndex.from_product([maininfo__.Symbol.sort_values().values, pd.date_range('2002-1', '2022-10', freq='Q')])\n",
    "temp_symbols = indexes.get_level_values(0)\n",
    "temp_EndDate = indexes.get_level_values(1)\n",
    "main_data = pd.DataFrame(index=indexes)\n",
    "main_data['Symbol'] = temp_symbols\n",
    "main_data['EndDate'] = temp_EndDate.to_period('M')\n",
    "main_data = pd.merge(main_data, maininfo__[['Symbol', 'InceptionDate_y', 'MasterFundCode', 'Category']], on='Symbol')\n",
    "main_data = main_data[main_data.EndDate >= main_data.InceptionDate_y].reset_index(drop=True)\n",
    "main_data.set_index(['Symbol', 'EndDate'])\n",
    "# 总市值/月份额 两个方法"
   ]
  },
  {
   "cell_type": "code",
   "execution_count": 117,
   "metadata": {},
   "outputs": [
    {
     "data": {
      "text/plain": [
       "'8786 Symbols to 144418 Symbol-Month multiIndex'"
      ]
     },
     "execution_count": 117,
     "metadata": {},
     "output_type": "execute_result"
    }
   ],
   "source": [
    "f'{len(main_data.Symbol.unique())} Symbols to {len(main_data)} Symbol-Month multiIndex'"
   ]
  },
  {
   "cell_type": "markdown",
   "metadata": {},
   "source": [
    "#### iii. last 2 : dynamic filtering"
   ]
  },
  {
   "cell_type": "markdown",
   "metadata": {},
   "source": [
    "（5）基金上市时间超过一年"
   ]
  },
  {
   "cell_type": "code",
   "execution_count": 118,
   "metadata": {},
   "outputs": [
    {
     "data": {
      "text/plain": [
       "'filter 5: 144418 to 111230, 22.98% Symbol-Month dropped'"
      ]
     },
     "execution_count": 118,
     "metadata": {},
     "output_type": "execute_result"
    }
   ],
   "source": [
    "filter_5 = main_data.EndDate >= main_data.InceptionDate_y + pd.offsets.MonthEnd(12)\n",
    "\n",
    "f'filter 5: {len(main_data)} to {filter_5.sum()}, {round_(1 - filter_5.sum() / len(main_data))} Symbol-Month dropped'\n",
    "# Symbol statistic"
   ]
  },
  {
   "cell_type": "code",
   "execution_count": 119,
   "metadata": {},
   "outputs": [
    {
     "data": {
      "text/html": [
       "<div>\n",
       "<style scoped>\n",
       "    .dataframe tbody tr th:only-of-type {\n",
       "        vertical-align: middle;\n",
       "    }\n",
       "\n",
       "    .dataframe tbody tr th {\n",
       "        vertical-align: top;\n",
       "    }\n",
       "\n",
       "    .dataframe thead th {\n",
       "        text-align: right;\n",
       "    }\n",
       "</style>\n",
       "<table border=\"1\" class=\"dataframe\">\n",
       "  <thead>\n",
       "    <tr style=\"text-align: right;\">\n",
       "      <th></th>\n",
       "      <th>Symbol</th>\n",
       "      <th>EndDate</th>\n",
       "      <th>InceptionDate_y</th>\n",
       "      <th>MasterFundCode</th>\n",
       "      <th>Category</th>\n",
       "    </tr>\n",
       "  </thead>\n",
       "  <tbody>\n",
       "    <tr>\n",
       "      <th>0</th>\n",
       "      <td>6</td>\n",
       "      <td>2020-03</td>\n",
       "      <td>2019-03</td>\n",
       "      <td>6</td>\n",
       "      <td>混合型基金</td>\n",
       "    </tr>\n",
       "    <tr>\n",
       "      <th>1</th>\n",
       "      <td>6</td>\n",
       "      <td>2020-06</td>\n",
       "      <td>2019-03</td>\n",
       "      <td>6</td>\n",
       "      <td>混合型基金</td>\n",
       "    </tr>\n",
       "    <tr>\n",
       "      <th>2</th>\n",
       "      <td>6</td>\n",
       "      <td>2020-09</td>\n",
       "      <td>2019-03</td>\n",
       "      <td>6</td>\n",
       "      <td>混合型基金</td>\n",
       "    </tr>\n",
       "    <tr>\n",
       "      <th>3</th>\n",
       "      <td>6</td>\n",
       "      <td>2020-12</td>\n",
       "      <td>2019-03</td>\n",
       "      <td>6</td>\n",
       "      <td>混合型基金</td>\n",
       "    </tr>\n",
       "    <tr>\n",
       "      <th>4</th>\n",
       "      <td>6</td>\n",
       "      <td>2021-03</td>\n",
       "      <td>2019-03</td>\n",
       "      <td>6</td>\n",
       "      <td>混合型基金</td>\n",
       "    </tr>\n",
       "    <tr>\n",
       "      <th>...</th>\n",
       "      <td>...</td>\n",
       "      <td>...</td>\n",
       "      <td>...</td>\n",
       "      <td>...</td>\n",
       "      <td>...</td>\n",
       "    </tr>\n",
       "    <tr>\n",
       "      <th>111225</th>\n",
       "      <td>970048</td>\n",
       "      <td>2022-09</td>\n",
       "      <td>2021-07</td>\n",
       "      <td>970048</td>\n",
       "      <td>混合型基金</td>\n",
       "    </tr>\n",
       "    <tr>\n",
       "      <th>111226</th>\n",
       "      <td>970051</td>\n",
       "      <td>2022-09</td>\n",
       "      <td>2021-09</td>\n",
       "      <td>970051</td>\n",
       "      <td>混合型基金</td>\n",
       "    </tr>\n",
       "    <tr>\n",
       "      <th>111227</th>\n",
       "      <td>970067</td>\n",
       "      <td>2022-09</td>\n",
       "      <td>2021-08</td>\n",
       "      <td>970068</td>\n",
       "      <td>混合型基金</td>\n",
       "    </tr>\n",
       "    <tr>\n",
       "      <th>111228</th>\n",
       "      <td>970068</td>\n",
       "      <td>2022-09</td>\n",
       "      <td>2021-08</td>\n",
       "      <td>970068</td>\n",
       "      <td>混合型基金</td>\n",
       "    </tr>\n",
       "    <tr>\n",
       "      <th>111229</th>\n",
       "      <td>970069</td>\n",
       "      <td>2022-09</td>\n",
       "      <td>2021-08</td>\n",
       "      <td>970068</td>\n",
       "      <td>混合型基金</td>\n",
       "    </tr>\n",
       "  </tbody>\n",
       "</table>\n",
       "<p>111230 rows × 5 columns</p>\n",
       "</div>"
      ],
      "text/plain": [
       "        Symbol  EndDate InceptionDate_y  MasterFundCode Category\n",
       "0            6  2020-03         2019-03               6    混合型基金\n",
       "1            6  2020-06         2019-03               6    混合型基金\n",
       "2            6  2020-09         2019-03               6    混合型基金\n",
       "3            6  2020-12         2019-03               6    混合型基金\n",
       "4            6  2021-03         2019-03               6    混合型基金\n",
       "...        ...      ...             ...             ...      ...\n",
       "111225  970048  2022-09         2021-07          970048    混合型基金\n",
       "111226  970051  2022-09         2021-09          970051    混合型基金\n",
       "111227  970067  2022-09         2021-08          970068    混合型基金\n",
       "111228  970068  2022-09         2021-08          970068    混合型基金\n",
       "111229  970069  2022-09         2021-08          970068    混合型基金\n",
       "\n",
       "[111230 rows x 5 columns]"
      ]
     },
     "execution_count": 119,
     "metadata": {},
     "output_type": "execute_result"
    }
   ],
   "source": [
    "main_data_ = main_data[main_data.EndDate >= main_data.InceptionDate_y + pd.offsets.MonthEnd(12)].reset_index(drop=True)\n",
    "main_data_"
   ]
  },
  {
   "cell_type": "markdown",
   "metadata": {},
   "source": [
    "#### Fund_Allocation\n",
    "\n",
    "基金投组 — 资产配置文件\n",
    "\n",
    "ReportTypeID [定期报告类别编码] - 1－第一季度；2－第二季度；3－第三季度；4－第四季度；5－半年度；6－年度；7－其他周期\n",
    "\n",
    "CrossCode [横表编码] - 1-账面金额；2-占基金总资产比例；3-占基金资产净值比例\n",
    "\n",
    "<span style=\"color: red\">`Symbol`/`FrontendCode` not available</span> "
   ]
  },
  {
   "cell_type": "code",
   "execution_count": 126,
   "metadata": {},
   "outputs": [
    {
     "data": {
      "text/html": [
       "<div>\n",
       "<style scoped>\n",
       "    .dataframe tbody tr th:only-of-type {\n",
       "        vertical-align: middle;\n",
       "    }\n",
       "\n",
       "    .dataframe tbody tr th {\n",
       "        vertical-align: top;\n",
       "    }\n",
       "\n",
       "    .dataframe thead th {\n",
       "        text-align: right;\n",
       "    }\n",
       "</style>\n",
       "<table border=\"1\" class=\"dataframe\">\n",
       "  <thead>\n",
       "    <tr style=\"text-align: right;\">\n",
       "      <th></th>\n",
       "      <th>FundID</th>\n",
       "      <th>MasterFundCode</th>\n",
       "      <th>ReportTypeID</th>\n",
       "      <th>Startdate</th>\n",
       "      <th>EndDate</th>\n",
       "      <th>CrossCode</th>\n",
       "      <th>CrossName</th>\n",
       "      <th>Equity</th>\n",
       "      <th>StockAmount</th>\n",
       "      <th>TotalAsset</th>\n",
       "    </tr>\n",
       "  </thead>\n",
       "  <tbody>\n",
       "    <tr>\n",
       "      <th>0</th>\n",
       "      <td>108426</td>\n",
       "      <td>1</td>\n",
       "      <td>1</td>\n",
       "      <td>2002-01-01</td>\n",
       "      <td>2002-03-31</td>\n",
       "      <td>1</td>\n",
       "      <td>账面金额</td>\n",
       "      <td>1.051096e+09</td>\n",
       "      <td>1.051096e+09</td>\n",
       "      <td>3.254342e+09</td>\n",
       "    </tr>\n",
       "    <tr>\n",
       "      <th>1</th>\n",
       "      <td>108426</td>\n",
       "      <td>1</td>\n",
       "      <td>1</td>\n",
       "      <td>2002-01-01</td>\n",
       "      <td>2002-03-31</td>\n",
       "      <td>2</td>\n",
       "      <td>占基金总资产比例</td>\n",
       "      <td>3.230000e+01</td>\n",
       "      <td>3.230000e+01</td>\n",
       "      <td>1.000000e+02</td>\n",
       "    </tr>\n",
       "    <tr>\n",
       "      <th>2</th>\n",
       "      <td>108426</td>\n",
       "      <td>1</td>\n",
       "      <td>2</td>\n",
       "      <td>2002-04-01</td>\n",
       "      <td>2002-06-30</td>\n",
       "      <td>1</td>\n",
       "      <td>账面金额</td>\n",
       "      <td>1.650510e+09</td>\n",
       "      <td>1.650510e+09</td>\n",
       "      <td>3.738304e+09</td>\n",
       "    </tr>\n",
       "    <tr>\n",
       "      <th>3</th>\n",
       "      <td>108426</td>\n",
       "      <td>1</td>\n",
       "      <td>2</td>\n",
       "      <td>2002-04-01</td>\n",
       "      <td>2002-06-30</td>\n",
       "      <td>2</td>\n",
       "      <td>占基金总资产比例</td>\n",
       "      <td>4.415000e+01</td>\n",
       "      <td>4.415000e+01</td>\n",
       "      <td>1.000000e+02</td>\n",
       "    </tr>\n",
       "    <tr>\n",
       "      <th>4</th>\n",
       "      <td>108426</td>\n",
       "      <td>1</td>\n",
       "      <td>3</td>\n",
       "      <td>2002-07-01</td>\n",
       "      <td>2002-09-30</td>\n",
       "      <td>1</td>\n",
       "      <td>账面金额</td>\n",
       "      <td>1.975451e+09</td>\n",
       "      <td>1.975451e+09</td>\n",
       "      <td>4.269985e+09</td>\n",
       "    </tr>\n",
       "    <tr>\n",
       "      <th>...</th>\n",
       "      <td>...</td>\n",
       "      <td>...</td>\n",
       "      <td>...</td>\n",
       "      <td>...</td>\n",
       "      <td>...</td>\n",
       "      <td>...</td>\n",
       "      <td>...</td>\n",
       "      <td>...</td>\n",
       "      <td>...</td>\n",
       "      <td>...</td>\n",
       "    </tr>\n",
       "    <tr>\n",
       "      <th>646977</th>\n",
       "      <td>10496016</td>\n",
       "      <td>980003</td>\n",
       "      <td>1</td>\n",
       "      <td>2022-01-01</td>\n",
       "      <td>2022-03-31</td>\n",
       "      <td>2</td>\n",
       "      <td>占基金总资产比例</td>\n",
       "      <td>NaN</td>\n",
       "      <td>NaN</td>\n",
       "      <td>1.000000e+02</td>\n",
       "    </tr>\n",
       "    <tr>\n",
       "      <th>646978</th>\n",
       "      <td>10496016</td>\n",
       "      <td>980003</td>\n",
       "      <td>2</td>\n",
       "      <td>2022-04-01</td>\n",
       "      <td>2022-06-30</td>\n",
       "      <td>1</td>\n",
       "      <td>账面金额</td>\n",
       "      <td>NaN</td>\n",
       "      <td>NaN</td>\n",
       "      <td>3.945168e+09</td>\n",
       "    </tr>\n",
       "    <tr>\n",
       "      <th>646979</th>\n",
       "      <td>10496016</td>\n",
       "      <td>980003</td>\n",
       "      <td>2</td>\n",
       "      <td>2022-04-01</td>\n",
       "      <td>2022-06-30</td>\n",
       "      <td>2</td>\n",
       "      <td>占基金总资产比例</td>\n",
       "      <td>NaN</td>\n",
       "      <td>NaN</td>\n",
       "      <td>1.000000e+02</td>\n",
       "    </tr>\n",
       "    <tr>\n",
       "      <th>646980</th>\n",
       "      <td>10496016</td>\n",
       "      <td>980003</td>\n",
       "      <td>5</td>\n",
       "      <td>2022-01-01</td>\n",
       "      <td>2022-06-30</td>\n",
       "      <td>1</td>\n",
       "      <td>账面金额</td>\n",
       "      <td>NaN</td>\n",
       "      <td>NaN</td>\n",
       "      <td>3.945168e+09</td>\n",
       "    </tr>\n",
       "    <tr>\n",
       "      <th>646981</th>\n",
       "      <td>10496016</td>\n",
       "      <td>980003</td>\n",
       "      <td>5</td>\n",
       "      <td>2022-01-01</td>\n",
       "      <td>2022-06-30</td>\n",
       "      <td>2</td>\n",
       "      <td>占基金总资产比例</td>\n",
       "      <td>NaN</td>\n",
       "      <td>NaN</td>\n",
       "      <td>1.000000e+02</td>\n",
       "    </tr>\n",
       "  </tbody>\n",
       "</table>\n",
       "<p>646982 rows × 10 columns</p>\n",
       "</div>"
      ],
      "text/plain": [
       "          FundID  MasterFundCode  ReportTypeID  Startdate    EndDate  \\\n",
       "0         108426               1             1 2002-01-01 2002-03-31   \n",
       "1         108426               1             1 2002-01-01 2002-03-31   \n",
       "2         108426               1             2 2002-04-01 2002-06-30   \n",
       "3         108426               1             2 2002-04-01 2002-06-30   \n",
       "4         108426               1             3 2002-07-01 2002-09-30   \n",
       "...          ...             ...           ...        ...        ...   \n",
       "646977  10496016          980003             1 2022-01-01 2022-03-31   \n",
       "646978  10496016          980003             2 2022-04-01 2022-06-30   \n",
       "646979  10496016          980003             2 2022-04-01 2022-06-30   \n",
       "646980  10496016          980003             5 2022-01-01 2022-06-30   \n",
       "646981  10496016          980003             5 2022-01-01 2022-06-30   \n",
       "\n",
       "        CrossCode CrossName        Equity   StockAmount    TotalAsset  \n",
       "0               1      账面金额  1.051096e+09  1.051096e+09  3.254342e+09  \n",
       "1               2  占基金总资产比例  3.230000e+01  3.230000e+01  1.000000e+02  \n",
       "2               1      账面金额  1.650510e+09  1.650510e+09  3.738304e+09  \n",
       "3               2  占基金总资产比例  4.415000e+01  4.415000e+01  1.000000e+02  \n",
       "4               1      账面金额  1.975451e+09  1.975451e+09  4.269985e+09  \n",
       "...           ...       ...           ...           ...           ...  \n",
       "646977          2  占基金总资产比例           NaN           NaN  1.000000e+02  \n",
       "646978          1      账面金额           NaN           NaN  3.945168e+09  \n",
       "646979          2  占基金总资产比例           NaN           NaN  1.000000e+02  \n",
       "646980          1      账面金额           NaN           NaN  3.945168e+09  \n",
       "646981          2  占基金总资产比例           NaN           NaN  1.000000e+02  \n",
       "\n",
       "[646982 rows x 10 columns]"
      ]
     },
     "execution_count": 126,
     "metadata": {},
     "output_type": "execute_result"
    }
   ],
   "source": [
    "allocation"
   ]
  },
  {
   "cell_type": "code",
   "execution_count": 130,
   "metadata": {},
   "outputs": [
    {
     "data": {
      "text/html": [
       "<div>\n",
       "<style scoped>\n",
       "    .dataframe tbody tr th:only-of-type {\n",
       "        vertical-align: middle;\n",
       "    }\n",
       "\n",
       "    .dataframe tbody tr th {\n",
       "        vertical-align: top;\n",
       "    }\n",
       "\n",
       "    .dataframe thead th {\n",
       "        text-align: right;\n",
       "    }\n",
       "</style>\n",
       "<table border=\"1\" class=\"dataframe\">\n",
       "  <thead>\n",
       "    <tr style=\"text-align: right;\">\n",
       "      <th></th>\n",
       "      <th>FundID</th>\n",
       "      <th>MasterFundCode</th>\n",
       "      <th>ReportTypeID</th>\n",
       "      <th>Startdate</th>\n",
       "      <th>EndDate</th>\n",
       "      <th>CrossCode</th>\n",
       "      <th>CrossName</th>\n",
       "      <th>Equity</th>\n",
       "      <th>StockAmount</th>\n",
       "      <th>TotalAsset</th>\n",
       "    </tr>\n",
       "  </thead>\n",
       "  <tbody>\n",
       "    <tr>\n",
       "      <th>0</th>\n",
       "      <td>108426</td>\n",
       "      <td>1</td>\n",
       "      <td>1</td>\n",
       "      <td>2002-01-01</td>\n",
       "      <td>2002-03-31</td>\n",
       "      <td>1</td>\n",
       "      <td>账面金额</td>\n",
       "      <td>1.051096e+09</td>\n",
       "      <td>1.051096e+09</td>\n",
       "      <td>3.254342e+09</td>\n",
       "    </tr>\n",
       "    <tr>\n",
       "      <th>1</th>\n",
       "      <td>108426</td>\n",
       "      <td>1</td>\n",
       "      <td>1</td>\n",
       "      <td>2002-01-01</td>\n",
       "      <td>2002-03-31</td>\n",
       "      <td>2</td>\n",
       "      <td>占基金总资产比例</td>\n",
       "      <td>3.230000e+01</td>\n",
       "      <td>3.230000e+01</td>\n",
       "      <td>1.000000e+02</td>\n",
       "    </tr>\n",
       "    <tr>\n",
       "      <th>2</th>\n",
       "      <td>108426</td>\n",
       "      <td>1</td>\n",
       "      <td>2</td>\n",
       "      <td>2002-04-01</td>\n",
       "      <td>2002-06-30</td>\n",
       "      <td>1</td>\n",
       "      <td>账面金额</td>\n",
       "      <td>1.650510e+09</td>\n",
       "      <td>1.650510e+09</td>\n",
       "      <td>3.738304e+09</td>\n",
       "    </tr>\n",
       "    <tr>\n",
       "      <th>3</th>\n",
       "      <td>108426</td>\n",
       "      <td>1</td>\n",
       "      <td>2</td>\n",
       "      <td>2002-04-01</td>\n",
       "      <td>2002-06-30</td>\n",
       "      <td>2</td>\n",
       "      <td>占基金总资产比例</td>\n",
       "      <td>4.415000e+01</td>\n",
       "      <td>4.415000e+01</td>\n",
       "      <td>1.000000e+02</td>\n",
       "    </tr>\n",
       "    <tr>\n",
       "      <th>4</th>\n",
       "      <td>108426</td>\n",
       "      <td>1</td>\n",
       "      <td>3</td>\n",
       "      <td>2002-07-01</td>\n",
       "      <td>2002-09-30</td>\n",
       "      <td>1</td>\n",
       "      <td>账面金额</td>\n",
       "      <td>1.975451e+09</td>\n",
       "      <td>1.975451e+09</td>\n",
       "      <td>4.269985e+09</td>\n",
       "    </tr>\n",
       "    <tr>\n",
       "      <th>...</th>\n",
       "      <td>...</td>\n",
       "      <td>...</td>\n",
       "      <td>...</td>\n",
       "      <td>...</td>\n",
       "      <td>...</td>\n",
       "      <td>...</td>\n",
       "      <td>...</td>\n",
       "      <td>...</td>\n",
       "      <td>...</td>\n",
       "      <td>...</td>\n",
       "    </tr>\n",
       "    <tr>\n",
       "      <th>646977</th>\n",
       "      <td>10496016</td>\n",
       "      <td>980003</td>\n",
       "      <td>1</td>\n",
       "      <td>2022-01-01</td>\n",
       "      <td>2022-03-31</td>\n",
       "      <td>2</td>\n",
       "      <td>占基金总资产比例</td>\n",
       "      <td>NaN</td>\n",
       "      <td>NaN</td>\n",
       "      <td>1.000000e+02</td>\n",
       "    </tr>\n",
       "    <tr>\n",
       "      <th>646978</th>\n",
       "      <td>10496016</td>\n",
       "      <td>980003</td>\n",
       "      <td>2</td>\n",
       "      <td>2022-04-01</td>\n",
       "      <td>2022-06-30</td>\n",
       "      <td>1</td>\n",
       "      <td>账面金额</td>\n",
       "      <td>NaN</td>\n",
       "      <td>NaN</td>\n",
       "      <td>3.945168e+09</td>\n",
       "    </tr>\n",
       "    <tr>\n",
       "      <th>646979</th>\n",
       "      <td>10496016</td>\n",
       "      <td>980003</td>\n",
       "      <td>2</td>\n",
       "      <td>2022-04-01</td>\n",
       "      <td>2022-06-30</td>\n",
       "      <td>2</td>\n",
       "      <td>占基金总资产比例</td>\n",
       "      <td>NaN</td>\n",
       "      <td>NaN</td>\n",
       "      <td>1.000000e+02</td>\n",
       "    </tr>\n",
       "    <tr>\n",
       "      <th>646980</th>\n",
       "      <td>10496016</td>\n",
       "      <td>980003</td>\n",
       "      <td>5</td>\n",
       "      <td>2022-01-01</td>\n",
       "      <td>2022-06-30</td>\n",
       "      <td>1</td>\n",
       "      <td>账面金额</td>\n",
       "      <td>NaN</td>\n",
       "      <td>NaN</td>\n",
       "      <td>3.945168e+09</td>\n",
       "    </tr>\n",
       "    <tr>\n",
       "      <th>646981</th>\n",
       "      <td>10496016</td>\n",
       "      <td>980003</td>\n",
       "      <td>5</td>\n",
       "      <td>2022-01-01</td>\n",
       "      <td>2022-06-30</td>\n",
       "      <td>2</td>\n",
       "      <td>占基金总资产比例</td>\n",
       "      <td>NaN</td>\n",
       "      <td>NaN</td>\n",
       "      <td>1.000000e+02</td>\n",
       "    </tr>\n",
       "  </tbody>\n",
       "</table>\n",
       "<p>646982 rows × 10 columns</p>\n",
       "</div>"
      ],
      "text/plain": [
       "          FundID  MasterFundCode  ReportTypeID  Startdate    EndDate  \\\n",
       "0         108426               1             1 2002-01-01 2002-03-31   \n",
       "1         108426               1             1 2002-01-01 2002-03-31   \n",
       "2         108426               1             2 2002-04-01 2002-06-30   \n",
       "3         108426               1             2 2002-04-01 2002-06-30   \n",
       "4         108426               1             3 2002-07-01 2002-09-30   \n",
       "...          ...             ...           ...        ...        ...   \n",
       "646977  10496016          980003             1 2022-01-01 2022-03-31   \n",
       "646978  10496016          980003             2 2022-04-01 2022-06-30   \n",
       "646979  10496016          980003             2 2022-04-01 2022-06-30   \n",
       "646980  10496016          980003             5 2022-01-01 2022-06-30   \n",
       "646981  10496016          980003             5 2022-01-01 2022-06-30   \n",
       "\n",
       "        CrossCode CrossName        Equity   StockAmount    TotalAsset  \n",
       "0               1      账面金额  1.051096e+09  1.051096e+09  3.254342e+09  \n",
       "1               2  占基金总资产比例  3.230000e+01  3.230000e+01  1.000000e+02  \n",
       "2               1      账面金额  1.650510e+09  1.650510e+09  3.738304e+09  \n",
       "3               2  占基金总资产比例  4.415000e+01  4.415000e+01  1.000000e+02  \n",
       "4               1      账面金额  1.975451e+09  1.975451e+09  4.269985e+09  \n",
       "...           ...       ...           ...           ...           ...  \n",
       "646977          2  占基金总资产比例           NaN           NaN  1.000000e+02  \n",
       "646978          1      账面金额           NaN           NaN  3.945168e+09  \n",
       "646979          2  占基金总资产比例           NaN           NaN  1.000000e+02  \n",
       "646980          1      账面金额           NaN           NaN  3.945168e+09  \n",
       "646981          2  占基金总资产比例           NaN           NaN  1.000000e+02  \n",
       "\n",
       "[646982 rows x 10 columns]"
      ]
     },
     "execution_count": 130,
     "metadata": {},
     "output_type": "execute_result"
    }
   ],
   "source": [
    "allocation"
   ]
  },
  {
   "cell_type": "code",
   "execution_count": 127,
   "metadata": {},
   "outputs": [
    {
     "data": {
      "text/plain": [
       "<AxesSubplot:>"
      ]
     },
     "execution_count": 127,
     "metadata": {},
     "output_type": "execute_result"
    },
    {
     "data": {
      "image/png": "[encoded data removed]",
      "text/plain": [
       "<Figure size 432x288 with 1 Axes>"
      ]
     },
     "metadata": {
      "needs_background": "light"
     },
     "output_type": "display_data"
    }
   ],
   "source": [
    "allocation = pd.read_csv('data/Fund_Allocation.csv', parse_dates=['Startdate', 'EndDate'])\n",
    "# ? should use all kinds of report\n",
    "allocation[allocation.Equity / allocation.TotalAsset > .3].EndDate.sort_values().hist()"
   ]
  },
  {
   "cell_type": "code",
   "execution_count": 134,
   "metadata": {},
   "outputs": [],
   "source": [
    "allocation['proportion'] = allocation.Equity / allocation.TotalAsset"
   ]
  },
  {
   "cell_type": "code",
   "execution_count": 139,
   "metadata": {},
   "outputs": [
    {
     "data": {
      "text/html": [
       "<div>\n",
       "<style scoped>\n",
       "    .dataframe tbody tr th:only-of-type {\n",
       "        vertical-align: middle;\n",
       "    }\n",
       "\n",
       "    .dataframe tbody tr th {\n",
       "        vertical-align: top;\n",
       "    }\n",
       "\n",
       "    .dataframe thead th {\n",
       "        text-align: right;\n",
       "    }\n",
       "</style>\n",
       "<table border=\"1\" class=\"dataframe\">\n",
       "  <thead>\n",
       "    <tr style=\"text-align: right;\">\n",
       "      <th></th>\n",
       "      <th>FundID</th>\n",
       "      <th>MasterFundCode</th>\n",
       "      <th>ReportTypeID</th>\n",
       "      <th>Startdate</th>\n",
       "      <th>EndDate</th>\n",
       "      <th>CrossCode</th>\n",
       "      <th>CrossName</th>\n",
       "      <th>Equity</th>\n",
       "      <th>StockAmount</th>\n",
       "      <th>TotalAsset</th>\n",
       "      <th>proportion</th>\n",
       "    </tr>\n",
       "  </thead>\n",
       "  <tbody>\n",
       "    <tr>\n",
       "      <th>0</th>\n",
       "      <td>108426</td>\n",
       "      <td>1</td>\n",
       "      <td>1</td>\n",
       "      <td>2002-01-01</td>\n",
       "      <td>2002-03-31</td>\n",
       "      <td>1</td>\n",
       "      <td>账面金额</td>\n",
       "      <td>1.051096e+09</td>\n",
       "      <td>1.051096e+09</td>\n",
       "      <td>3.254342e+09</td>\n",
       "      <td>0.322983</td>\n",
       "    </tr>\n",
       "    <tr>\n",
       "      <th>1</th>\n",
       "      <td>108426</td>\n",
       "      <td>1</td>\n",
       "      <td>1</td>\n",
       "      <td>2002-01-01</td>\n",
       "      <td>2002-03-31</td>\n",
       "      <td>2</td>\n",
       "      <td>占基金总资产比例</td>\n",
       "      <td>3.230000e+01</td>\n",
       "      <td>3.230000e+01</td>\n",
       "      <td>1.000000e+02</td>\n",
       "      <td>0.323000</td>\n",
       "    </tr>\n",
       "    <tr>\n",
       "      <th>2</th>\n",
       "      <td>108426</td>\n",
       "      <td>1</td>\n",
       "      <td>2</td>\n",
       "      <td>2002-04-01</td>\n",
       "      <td>2002-06-30</td>\n",
       "      <td>1</td>\n",
       "      <td>账面金额</td>\n",
       "      <td>1.650510e+09</td>\n",
       "      <td>1.650510e+09</td>\n",
       "      <td>3.738304e+09</td>\n",
       "      <td>0.441513</td>\n",
       "    </tr>\n",
       "    <tr>\n",
       "      <th>3</th>\n",
       "      <td>108426</td>\n",
       "      <td>1</td>\n",
       "      <td>2</td>\n",
       "      <td>2002-04-01</td>\n",
       "      <td>2002-06-30</td>\n",
       "      <td>2</td>\n",
       "      <td>占基金总资产比例</td>\n",
       "      <td>4.415000e+01</td>\n",
       "      <td>4.415000e+01</td>\n",
       "      <td>1.000000e+02</td>\n",
       "      <td>0.441500</td>\n",
       "    </tr>\n",
       "    <tr>\n",
       "      <th>4</th>\n",
       "      <td>108426</td>\n",
       "      <td>1</td>\n",
       "      <td>3</td>\n",
       "      <td>2002-07-01</td>\n",
       "      <td>2002-09-30</td>\n",
       "      <td>1</td>\n",
       "      <td>账面金额</td>\n",
       "      <td>1.975451e+09</td>\n",
       "      <td>1.975451e+09</td>\n",
       "      <td>4.269985e+09</td>\n",
       "      <td>0.462637</td>\n",
       "    </tr>\n",
       "    <tr>\n",
       "      <th>5</th>\n",
       "      <td>108426</td>\n",
       "      <td>1</td>\n",
       "      <td>3</td>\n",
       "      <td>2002-07-01</td>\n",
       "      <td>2002-09-30</td>\n",
       "      <td>2</td>\n",
       "      <td>占基金总资产比例</td>\n",
       "      <td>4.626000e+01</td>\n",
       "      <td>4.626000e+01</td>\n",
       "      <td>1.000000e+02</td>\n",
       "      <td>0.462600</td>\n",
       "    </tr>\n",
       "    <tr>\n",
       "      <th>6</th>\n",
       "      <td>108426</td>\n",
       "      <td>1</td>\n",
       "      <td>4</td>\n",
       "      <td>2002-10-01</td>\n",
       "      <td>2002-12-31</td>\n",
       "      <td>1</td>\n",
       "      <td>账面金额</td>\n",
       "      <td>1.885997e+09</td>\n",
       "      <td>1.885997e+09</td>\n",
       "      <td>3.933701e+09</td>\n",
       "      <td>0.479446</td>\n",
       "    </tr>\n",
       "    <tr>\n",
       "      <th>7</th>\n",
       "      <td>108426</td>\n",
       "      <td>1</td>\n",
       "      <td>4</td>\n",
       "      <td>2002-10-01</td>\n",
       "      <td>2002-12-31</td>\n",
       "      <td>2</td>\n",
       "      <td>占基金总资产比例</td>\n",
       "      <td>4.794000e+01</td>\n",
       "      <td>4.794000e+01</td>\n",
       "      <td>1.000000e+02</td>\n",
       "      <td>0.479400</td>\n",
       "    </tr>\n",
       "    <tr>\n",
       "      <th>8</th>\n",
       "      <td>108426</td>\n",
       "      <td>1</td>\n",
       "      <td>1</td>\n",
       "      <td>2003-01-01</td>\n",
       "      <td>2003-03-31</td>\n",
       "      <td>1</td>\n",
       "      <td>账面金额</td>\n",
       "      <td>2.103610e+09</td>\n",
       "      <td>2.103610e+09</td>\n",
       "      <td>4.130111e+09</td>\n",
       "      <td>0.509335</td>\n",
       "    </tr>\n",
       "    <tr>\n",
       "      <th>9</th>\n",
       "      <td>108426</td>\n",
       "      <td>1</td>\n",
       "      <td>1</td>\n",
       "      <td>2003-01-01</td>\n",
       "      <td>2003-03-31</td>\n",
       "      <td>2</td>\n",
       "      <td>占基金总资产比例</td>\n",
       "      <td>5.093000e+01</td>\n",
       "      <td>5.093000e+01</td>\n",
       "      <td>1.000000e+02</td>\n",
       "      <td>0.509300</td>\n",
       "    </tr>\n",
       "    <tr>\n",
       "      <th>10</th>\n",
       "      <td>108426</td>\n",
       "      <td>1</td>\n",
       "      <td>2</td>\n",
       "      <td>2003-04-01</td>\n",
       "      <td>2003-06-30</td>\n",
       "      <td>1</td>\n",
       "      <td>账面金额</td>\n",
       "      <td>2.220516e+09</td>\n",
       "      <td>2.220516e+09</td>\n",
       "      <td>3.460316e+09</td>\n",
       "      <td>0.641709</td>\n",
       "    </tr>\n",
       "    <tr>\n",
       "      <th>11</th>\n",
       "      <td>108426</td>\n",
       "      <td>1</td>\n",
       "      <td>2</td>\n",
       "      <td>2003-04-01</td>\n",
       "      <td>2003-06-30</td>\n",
       "      <td>2</td>\n",
       "      <td>占基金总资产比例</td>\n",
       "      <td>6.417000e+01</td>\n",
       "      <td>6.417000e+01</td>\n",
       "      <td>1.000000e+02</td>\n",
       "      <td>0.641700</td>\n",
       "    </tr>\n",
       "    <tr>\n",
       "      <th>12</th>\n",
       "      <td>108426</td>\n",
       "      <td>1</td>\n",
       "      <td>3</td>\n",
       "      <td>2003-07-01</td>\n",
       "      <td>2003-09-30</td>\n",
       "      <td>1</td>\n",
       "      <td>账面金额</td>\n",
       "      <td>2.248545e+09</td>\n",
       "      <td>2.248545e+09</td>\n",
       "      <td>3.201709e+09</td>\n",
       "      <td>0.702295</td>\n",
       "    </tr>\n",
       "    <tr>\n",
       "      <th>13</th>\n",
       "      <td>108426</td>\n",
       "      <td>1</td>\n",
       "      <td>3</td>\n",
       "      <td>2003-07-01</td>\n",
       "      <td>2003-09-30</td>\n",
       "      <td>2</td>\n",
       "      <td>占基金总资产比例</td>\n",
       "      <td>7.023000e+01</td>\n",
       "      <td>7.023000e+01</td>\n",
       "      <td>1.000000e+02</td>\n",
       "      <td>0.702300</td>\n",
       "    </tr>\n",
       "  </tbody>\n",
       "</table>\n",
       "</div>"
      ],
      "text/plain": [
       "    FundID  MasterFundCode  ReportTypeID  Startdate    EndDate  CrossCode  \\\n",
       "0   108426               1             1 2002-01-01 2002-03-31          1   \n",
       "1   108426               1             1 2002-01-01 2002-03-31          2   \n",
       "2   108426               1             2 2002-04-01 2002-06-30          1   \n",
       "3   108426               1             2 2002-04-01 2002-06-30          2   \n",
       "4   108426               1             3 2002-07-01 2002-09-30          1   \n",
       "5   108426               1             3 2002-07-01 2002-09-30          2   \n",
       "6   108426               1             4 2002-10-01 2002-12-31          1   \n",
       "7   108426               1             4 2002-10-01 2002-12-31          2   \n",
       "8   108426               1             1 2003-01-01 2003-03-31          1   \n",
       "9   108426               1             1 2003-01-01 2003-03-31          2   \n",
       "10  108426               1             2 2003-04-01 2003-06-30          1   \n",
       "11  108426               1             2 2003-04-01 2003-06-30          2   \n",
       "12  108426               1             3 2003-07-01 2003-09-30          1   \n",
       "13  108426               1             3 2003-07-01 2003-09-30          2   \n",
       "\n",
       "   CrossName        Equity   StockAmount    TotalAsset  proportion  \n",
       "0       账面金额  1.051096e+09  1.051096e+09  3.254342e+09    0.322983  \n",
       "1   占基金总资产比例  3.230000e+01  3.230000e+01  1.000000e+02    0.323000  \n",
       "2       账面金额  1.650510e+09  1.650510e+09  3.738304e+09    0.441513  \n",
       "3   占基金总资产比例  4.415000e+01  4.415000e+01  1.000000e+02    0.441500  \n",
       "4       账面金额  1.975451e+09  1.975451e+09  4.269985e+09    0.462637  \n",
       "5   占基金总资产比例  4.626000e+01  4.626000e+01  1.000000e+02    0.462600  \n",
       "6       账面金额  1.885997e+09  1.885997e+09  3.933701e+09    0.479446  \n",
       "7   占基金总资产比例  4.794000e+01  4.794000e+01  1.000000e+02    0.479400  \n",
       "8       账面金额  2.103610e+09  2.103610e+09  4.130111e+09    0.509335  \n",
       "9   占基金总资产比例  5.093000e+01  5.093000e+01  1.000000e+02    0.509300  \n",
       "10      账面金额  2.220516e+09  2.220516e+09  3.460316e+09    0.641709  \n",
       "11  占基金总资产比例  6.417000e+01  6.417000e+01  1.000000e+02    0.641700  \n",
       "12      账面金额  2.248545e+09  2.248545e+09  3.201709e+09    0.702295  \n",
       "13  占基金总资产比例  7.023000e+01  7.023000e+01  1.000000e+02    0.702300  "
      ]
     },
     "execution_count": 139,
     "metadata": {},
     "output_type": "execute_result"
    }
   ],
   "source": [
    "allocation[allocation.MasterFundCode == 1][allocation[allocation.MasterFundCode == 1].EndDate < pd.to_datetime('2003-12')]"
   ]
  },
  {
   "cell_type": "code",
   "execution_count": 131,
   "metadata": {},
   "outputs": [
    {
     "data": {
      "text/plain": [
       "<AxesSubplot:>"
      ]
     },
     "execution_count": 131,
     "metadata": {},
     "output_type": "execute_result"
    },
    {
     "data": {
      "image/png": "[encoded data removed]",
      "text/plain": [
       "<Figure size 432x288 with 1 Axes>"
      ]
     },
     "metadata": {
      "needs_background": "light"
     },
     "output_type": "display_data"
    }
   ],
   "source": [
    "temp = allocation[allocation.ReportTypeID == 2]\n",
    "temp[temp.Equity / temp.TotalAsset > .3].EndDate.sort_values().hist()"
   ]
  },
  {
   "cell_type": "code",
   "execution_count": 332,
   "metadata": {},
   "outputs": [
    {
     "data": {
      "text/plain": [
       "'67.17999999999999% of lines, Equity == StockAmount'"
      ]
     },
     "execution_count": 332,
     "metadata": {},
     "output_type": "execute_result"
    }
   ],
   "source": [
    "# allocation_ = allocation[np.logical_or(allocation.ReportTypeID == 5, allocation.ReportTypeID == 6)]\n",
    "allocation_ = allocation.copy()\n",
    "f'{round_((allocation_.Equity == allocation_.StockAmount).sum() / len(allocation_))} of lines, Equity == StockAmount'"
   ]
  },
  {
   "cell_type": "code",
   "execution_count": 333,
   "metadata": {},
   "outputs": [
    {
     "data": {
      "text/plain": [
       "'in lines where `Equity` is not equal to `StockAmount`, 0.01% lines satisfies both `StockAmount != NA` and `Equity == NA`'"
      ]
     },
     "execution_count": 333,
     "metadata": {},
     "output_type": "execute_result"
    }
   ],
   "source": [
    "not_equal = allocation[allocation.Equity != allocation.StockAmount]\n",
    "temp = not_equal[['Equity', 'StockAmount']].dropna(how='all')\n",
    "f'in lines where `Equity` is not equal to `StockAmount`, {round_(pd.isnull(temp).Equity.sum() / len(temp))} lines satisfies both `StockAmount != NA` and `Equity == NA`'"
   ]
  },
  {
   "cell_type": "code",
   "execution_count": 334,
   "metadata": {},
   "outputs": [
    {
     "data": {
      "text/plain": [
       "'30.270000000000003% `Equity` is not available while `TotalAsset` is available'"
      ]
     },
     "execution_count": 334,
     "metadata": {},
     "output_type": "execute_result"
    }
   ],
   "source": [
    "temp = allocation_.apply(lambda row: True if pd.isna(row.Equity) and pd.notna(row.TotalAsset) else False, axis=1)\n",
    "f'{round_(temp.sum() / len(temp))} `Equity` is not available while `TotalAsset` is available'"
   ]
  },
  {
   "cell_type": "markdown",
   "metadata": {},
   "source": [
    "（6）最近一次年报或半年报披露的中国市场股票持股比例超过总管理规模的 30%"
   ]
  },
  {
   "cell_type": "code",
   "execution_count": 335,
   "metadata": {},
   "outputs": [
    {
     "data": {
      "text/html": [
       "<div>\n",
       "<style scoped>\n",
       "    .dataframe tbody tr th:only-of-type {\n",
       "        vertical-align: middle;\n",
       "    }\n",
       "\n",
       "    .dataframe tbody tr th {\n",
       "        vertical-align: top;\n",
       "    }\n",
       "\n",
       "    .dataframe thead th {\n",
       "        text-align: right;\n",
       "    }\n",
       "</style>\n",
       "<table border=\"1\" class=\"dataframe\">\n",
       "  <thead>\n",
       "    <tr style=\"text-align: right;\">\n",
       "      <th></th>\n",
       "      <th>FundID</th>\n",
       "      <th>MasterFundCode</th>\n",
       "      <th>ReportTypeID</th>\n",
       "      <th>Startdate</th>\n",
       "      <th>EndDate</th>\n",
       "      <th>CrossCode</th>\n",
       "      <th>CrossName</th>\n",
       "      <th>Equity</th>\n",
       "      <th>StockAmount</th>\n",
       "      <th>TotalAsset</th>\n",
       "      <th>criteria</th>\n",
       "    </tr>\n",
       "  </thead>\n",
       "  <tbody>\n",
       "    <tr>\n",
       "      <th>0</th>\n",
       "      <td>108426</td>\n",
       "      <td>1</td>\n",
       "      <td>1</td>\n",
       "      <td>2002-01-01</td>\n",
       "      <td>2002-03-31</td>\n",
       "      <td>1</td>\n",
       "      <td>账面金额</td>\n",
       "      <td>1.051096e+09</td>\n",
       "      <td>1.051096e+09</td>\n",
       "      <td>3.254342e+09</td>\n",
       "      <td>True</td>\n",
       "    </tr>\n",
       "    <tr>\n",
       "      <th>1</th>\n",
       "      <td>108426</td>\n",
       "      <td>1</td>\n",
       "      <td>1</td>\n",
       "      <td>2002-01-01</td>\n",
       "      <td>2002-03-31</td>\n",
       "      <td>2</td>\n",
       "      <td>占基金总资产比例</td>\n",
       "      <td>3.230000e+01</td>\n",
       "      <td>3.230000e+01</td>\n",
       "      <td>1.000000e+02</td>\n",
       "      <td>True</td>\n",
       "    </tr>\n",
       "    <tr>\n",
       "      <th>2</th>\n",
       "      <td>108426</td>\n",
       "      <td>1</td>\n",
       "      <td>2</td>\n",
       "      <td>2002-04-01</td>\n",
       "      <td>2002-06-30</td>\n",
       "      <td>1</td>\n",
       "      <td>账面金额</td>\n",
       "      <td>1.650510e+09</td>\n",
       "      <td>1.650510e+09</td>\n",
       "      <td>3.738304e+09</td>\n",
       "      <td>True</td>\n",
       "    </tr>\n",
       "    <tr>\n",
       "      <th>3</th>\n",
       "      <td>108426</td>\n",
       "      <td>1</td>\n",
       "      <td>2</td>\n",
       "      <td>2002-04-01</td>\n",
       "      <td>2002-06-30</td>\n",
       "      <td>2</td>\n",
       "      <td>占基金总资产比例</td>\n",
       "      <td>4.415000e+01</td>\n",
       "      <td>4.415000e+01</td>\n",
       "      <td>1.000000e+02</td>\n",
       "      <td>True</td>\n",
       "    </tr>\n",
       "    <tr>\n",
       "      <th>4</th>\n",
       "      <td>108426</td>\n",
       "      <td>1</td>\n",
       "      <td>3</td>\n",
       "      <td>2002-07-01</td>\n",
       "      <td>2002-09-30</td>\n",
       "      <td>1</td>\n",
       "      <td>账面金额</td>\n",
       "      <td>1.975451e+09</td>\n",
       "      <td>1.975451e+09</td>\n",
       "      <td>4.269985e+09</td>\n",
       "      <td>True</td>\n",
       "    </tr>\n",
       "    <tr>\n",
       "      <th>...</th>\n",
       "      <td>...</td>\n",
       "      <td>...</td>\n",
       "      <td>...</td>\n",
       "      <td>...</td>\n",
       "      <td>...</td>\n",
       "      <td>...</td>\n",
       "      <td>...</td>\n",
       "      <td>...</td>\n",
       "      <td>...</td>\n",
       "      <td>...</td>\n",
       "      <td>...</td>\n",
       "    </tr>\n",
       "    <tr>\n",
       "      <th>646977</th>\n",
       "      <td>10496016</td>\n",
       "      <td>980003</td>\n",
       "      <td>1</td>\n",
       "      <td>2022-01-01</td>\n",
       "      <td>2022-03-31</td>\n",
       "      <td>2</td>\n",
       "      <td>占基金总资产比例</td>\n",
       "      <td>NaN</td>\n",
       "      <td>NaN</td>\n",
       "      <td>1.000000e+02</td>\n",
       "      <td>False</td>\n",
       "    </tr>\n",
       "    <tr>\n",
       "      <th>646978</th>\n",
       "      <td>10496016</td>\n",
       "      <td>980003</td>\n",
       "      <td>2</td>\n",
       "      <td>2022-04-01</td>\n",
       "      <td>2022-06-30</td>\n",
       "      <td>1</td>\n",
       "      <td>账面金额</td>\n",
       "      <td>NaN</td>\n",
       "      <td>NaN</td>\n",
       "      <td>3.945168e+09</td>\n",
       "      <td>False</td>\n",
       "    </tr>\n",
       "    <tr>\n",
       "      <th>646979</th>\n",
       "      <td>10496016</td>\n",
       "      <td>980003</td>\n",
       "      <td>2</td>\n",
       "      <td>2022-04-01</td>\n",
       "      <td>2022-06-30</td>\n",
       "      <td>2</td>\n",
       "      <td>占基金总资产比例</td>\n",
       "      <td>NaN</td>\n",
       "      <td>NaN</td>\n",
       "      <td>1.000000e+02</td>\n",
       "      <td>False</td>\n",
       "    </tr>\n",
       "    <tr>\n",
       "      <th>646980</th>\n",
       "      <td>10496016</td>\n",
       "      <td>980003</td>\n",
       "      <td>5</td>\n",
       "      <td>2022-01-01</td>\n",
       "      <td>2022-06-30</td>\n",
       "      <td>1</td>\n",
       "      <td>账面金额</td>\n",
       "      <td>NaN</td>\n",
       "      <td>NaN</td>\n",
       "      <td>3.945168e+09</td>\n",
       "      <td>False</td>\n",
       "    </tr>\n",
       "    <tr>\n",
       "      <th>646981</th>\n",
       "      <td>10496016</td>\n",
       "      <td>980003</td>\n",
       "      <td>5</td>\n",
       "      <td>2022-01-01</td>\n",
       "      <td>2022-06-30</td>\n",
       "      <td>2</td>\n",
       "      <td>占基金总资产比例</td>\n",
       "      <td>NaN</td>\n",
       "      <td>NaN</td>\n",
       "      <td>1.000000e+02</td>\n",
       "      <td>False</td>\n",
       "    </tr>\n",
       "  </tbody>\n",
       "</table>\n",
       "<p>646982 rows × 11 columns</p>\n",
       "</div>"
      ],
      "text/plain": [
       "          FundID  MasterFundCode  ReportTypeID  Startdate    EndDate  \\\n",
       "0         108426               1             1 2002-01-01 2002-03-31   \n",
       "1         108426               1             1 2002-01-01 2002-03-31   \n",
       "2         108426               1             2 2002-04-01 2002-06-30   \n",
       "3         108426               1             2 2002-04-01 2002-06-30   \n",
       "4         108426               1             3 2002-07-01 2002-09-30   \n",
       "...          ...             ...           ...        ...        ...   \n",
       "646977  10496016          980003             1 2022-01-01 2022-03-31   \n",
       "646978  10496016          980003             2 2022-04-01 2022-06-30   \n",
       "646979  10496016          980003             2 2022-04-01 2022-06-30   \n",
       "646980  10496016          980003             5 2022-01-01 2022-06-30   \n",
       "646981  10496016          980003             5 2022-01-01 2022-06-30   \n",
       "\n",
       "        CrossCode CrossName        Equity   StockAmount    TotalAsset  \\\n",
       "0               1      账面金额  1.051096e+09  1.051096e+09  3.254342e+09   \n",
       "1               2  占基金总资产比例  3.230000e+01  3.230000e+01  1.000000e+02   \n",
       "2               1      账面金额  1.650510e+09  1.650510e+09  3.738304e+09   \n",
       "3               2  占基金总资产比例  4.415000e+01  4.415000e+01  1.000000e+02   \n",
       "4               1      账面金额  1.975451e+09  1.975451e+09  4.269985e+09   \n",
       "...           ...       ...           ...           ...           ...   \n",
       "646977          2  占基金总资产比例           NaN           NaN  1.000000e+02   \n",
       "646978          1      账面金额           NaN           NaN  3.945168e+09   \n",
       "646979          2  占基金总资产比例           NaN           NaN  1.000000e+02   \n",
       "646980          1      账面金额           NaN           NaN  3.945168e+09   \n",
       "646981          2  占基金总资产比例           NaN           NaN  1.000000e+02   \n",
       "\n",
       "        criteria  \n",
       "0           True  \n",
       "1           True  \n",
       "2           True  \n",
       "3           True  \n",
       "4           True  \n",
       "...          ...  \n",
       "646977     False  \n",
       "646978     False  \n",
       "646979     False  \n",
       "646980     False  \n",
       "646981     False  \n",
       "\n",
       "[646982 rows x 11 columns]"
      ]
     },
     "execution_count": 335,
     "metadata": {},
     "output_type": "execute_result"
    }
   ],
   "source": [
    "allocation_['criteria'] = allocation_.Equity / allocation_.TotalAsset > .3\n",
    "allocation_"
   ]
  },
  {
   "cell_type": "code",
   "execution_count": 336,
   "metadata": {},
   "outputs": [],
   "source": [
    "# merge CrossCode\n",
    "def func(temp):\n",
    "    if temp.criteria.any():\n",
    "        return temp[temp.criteria].iloc[0]\n",
    "\n",
    "allocation__ = allocation_.groupby(['MasterFundCode', 'EndDate']).apply(func)"
   ]
  },
  {
   "cell_type": "code",
   "execution_count": 337,
   "metadata": {},
   "outputs": [
    {
     "data": {
      "text/html": [
       "<div>\n",
       "<style scoped>\n",
       "    .dataframe tbody tr th:only-of-type {\n",
       "        vertical-align: middle;\n",
       "    }\n",
       "\n",
       "    .dataframe tbody tr th {\n",
       "        vertical-align: top;\n",
       "    }\n",
       "\n",
       "    .dataframe thead th {\n",
       "        text-align: right;\n",
       "    }\n",
       "</style>\n",
       "<table border=\"1\" class=\"dataframe\">\n",
       "  <thead>\n",
       "    <tr style=\"text-align: right;\">\n",
       "      <th></th>\n",
       "      <th></th>\n",
       "      <th>FundID</th>\n",
       "      <th>ReportTypeID</th>\n",
       "      <th>Startdate</th>\n",
       "      <th>CrossCode</th>\n",
       "      <th>CrossName</th>\n",
       "      <th>Equity</th>\n",
       "      <th>StockAmount</th>\n",
       "      <th>TotalAsset</th>\n",
       "      <th>criteria</th>\n",
       "    </tr>\n",
       "    <tr>\n",
       "      <th>MasterFundCode</th>\n",
       "      <th>EndDate</th>\n",
       "      <th></th>\n",
       "      <th></th>\n",
       "      <th></th>\n",
       "      <th></th>\n",
       "      <th></th>\n",
       "      <th></th>\n",
       "      <th></th>\n",
       "      <th></th>\n",
       "      <th></th>\n",
       "    </tr>\n",
       "  </thead>\n",
       "  <tbody>\n",
       "    <tr>\n",
       "      <th rowspan=\"5\" valign=\"top\">1</th>\n",
       "      <th>2002-03-31</th>\n",
       "      <td>108426.0</td>\n",
       "      <td>1.0</td>\n",
       "      <td>2002-01-01</td>\n",
       "      <td>1.0</td>\n",
       "      <td>账面金额</td>\n",
       "      <td>1.051096e+09</td>\n",
       "      <td>1.051096e+09</td>\n",
       "      <td>3.254342e+09</td>\n",
       "      <td>True</td>\n",
       "    </tr>\n",
       "    <tr>\n",
       "      <th>2002-06-30</th>\n",
       "      <td>108426.0</td>\n",
       "      <td>2.0</td>\n",
       "      <td>2002-04-01</td>\n",
       "      <td>1.0</td>\n",
       "      <td>账面金额</td>\n",
       "      <td>1.650510e+09</td>\n",
       "      <td>1.650510e+09</td>\n",
       "      <td>3.738304e+09</td>\n",
       "      <td>True</td>\n",
       "    </tr>\n",
       "    <tr>\n",
       "      <th>2002-09-30</th>\n",
       "      <td>108426.0</td>\n",
       "      <td>3.0</td>\n",
       "      <td>2002-07-01</td>\n",
       "      <td>1.0</td>\n",
       "      <td>账面金额</td>\n",
       "      <td>1.975451e+09</td>\n",
       "      <td>1.975451e+09</td>\n",
       "      <td>4.269985e+09</td>\n",
       "      <td>True</td>\n",
       "    </tr>\n",
       "    <tr>\n",
       "      <th>2002-12-31</th>\n",
       "      <td>108426.0</td>\n",
       "      <td>4.0</td>\n",
       "      <td>2002-10-01</td>\n",
       "      <td>1.0</td>\n",
       "      <td>账面金额</td>\n",
       "      <td>1.885997e+09</td>\n",
       "      <td>1.885997e+09</td>\n",
       "      <td>3.933701e+09</td>\n",
       "      <td>True</td>\n",
       "    </tr>\n",
       "    <tr>\n",
       "      <th>2003-03-31</th>\n",
       "      <td>108426.0</td>\n",
       "      <td>1.0</td>\n",
       "      <td>2003-01-01</td>\n",
       "      <td>1.0</td>\n",
       "      <td>账面金额</td>\n",
       "      <td>2.103610e+09</td>\n",
       "      <td>2.103610e+09</td>\n",
       "      <td>4.130111e+09</td>\n",
       "      <td>True</td>\n",
       "    </tr>\n",
       "    <tr>\n",
       "      <th>...</th>\n",
       "      <th>...</th>\n",
       "      <td>...</td>\n",
       "      <td>...</td>\n",
       "      <td>...</td>\n",
       "      <td>...</td>\n",
       "      <td>...</td>\n",
       "      <td>...</td>\n",
       "      <td>...</td>\n",
       "      <td>...</td>\n",
       "      <td>...</td>\n",
       "    </tr>\n",
       "    <tr>\n",
       "      <th rowspan=\"2\" valign=\"top\">970101</th>\n",
       "      <th>2022-03-31</th>\n",
       "      <td>10574039.0</td>\n",
       "      <td>1.0</td>\n",
       "      <td>2022-01-01</td>\n",
       "      <td>1.0</td>\n",
       "      <td>账面金额</td>\n",
       "      <td>3.489100e+07</td>\n",
       "      <td>3.489100e+07</td>\n",
       "      <td>4.877115e+07</td>\n",
       "      <td>True</td>\n",
       "    </tr>\n",
       "    <tr>\n",
       "      <th>2022-06-30</th>\n",
       "      <td>10574039.0</td>\n",
       "      <td>2.0</td>\n",
       "      <td>2022-04-01</td>\n",
       "      <td>1.0</td>\n",
       "      <td>账面金额</td>\n",
       "      <td>5.069073e+07</td>\n",
       "      <td>5.069073e+07</td>\n",
       "      <td>5.736842e+07</td>\n",
       "      <td>True</td>\n",
       "    </tr>\n",
       "    <tr>\n",
       "      <th rowspan=\"2\" valign=\"top\">970113</th>\n",
       "      <th>2022-03-31</th>\n",
       "      <td>10574516.0</td>\n",
       "      <td>1.0</td>\n",
       "      <td>2022-01-01</td>\n",
       "      <td>1.0</td>\n",
       "      <td>账面金额</td>\n",
       "      <td>5.851077e+07</td>\n",
       "      <td>5.851077e+07</td>\n",
       "      <td>7.921394e+07</td>\n",
       "      <td>True</td>\n",
       "    </tr>\n",
       "    <tr>\n",
       "      <th>2022-06-30</th>\n",
       "      <td>10574516.0</td>\n",
       "      <td>2.0</td>\n",
       "      <td>2022-04-01</td>\n",
       "      <td>1.0</td>\n",
       "      <td>账面金额</td>\n",
       "      <td>7.445751e+07</td>\n",
       "      <td>7.445751e+07</td>\n",
       "      <td>8.415443e+07</td>\n",
       "      <td>True</td>\n",
       "    </tr>\n",
       "    <tr>\n",
       "      <th>970120</th>\n",
       "      <th>2022-06-30</th>\n",
       "      <td>10578152.0</td>\n",
       "      <td>2.0</td>\n",
       "      <td>2022-04-01</td>\n",
       "      <td>1.0</td>\n",
       "      <td>账面金额</td>\n",
       "      <td>1.884672e+07</td>\n",
       "      <td>1.884672e+07</td>\n",
       "      <td>6.000083e+07</td>\n",
       "      <td>True</td>\n",
       "    </tr>\n",
       "  </tbody>\n",
       "</table>\n",
       "<p>97073 rows × 9 columns</p>\n",
       "</div>"
      ],
      "text/plain": [
       "                               FundID  ReportTypeID  Startdate  CrossCode  \\\n",
       "MasterFundCode EndDate                                                      \n",
       "1              2002-03-31    108426.0           1.0 2002-01-01        1.0   \n",
       "               2002-06-30    108426.0           2.0 2002-04-01        1.0   \n",
       "               2002-09-30    108426.0           3.0 2002-07-01        1.0   \n",
       "               2002-12-31    108426.0           4.0 2002-10-01        1.0   \n",
       "               2003-03-31    108426.0           1.0 2003-01-01        1.0   \n",
       "...                               ...           ...        ...        ...   \n",
       "970101         2022-03-31  10574039.0           1.0 2022-01-01        1.0   \n",
       "               2022-06-30  10574039.0           2.0 2022-04-01        1.0   \n",
       "970113         2022-03-31  10574516.0           1.0 2022-01-01        1.0   \n",
       "               2022-06-30  10574516.0           2.0 2022-04-01        1.0   \n",
       "970120         2022-06-30  10578152.0           2.0 2022-04-01        1.0   \n",
       "\n",
       "                          CrossName        Equity   StockAmount    TotalAsset  \\\n",
       "MasterFundCode EndDate                                                          \n",
       "1              2002-03-31      账面金额  1.051096e+09  1.051096e+09  3.254342e+09   \n",
       "               2002-06-30      账面金额  1.650510e+09  1.650510e+09  3.738304e+09   \n",
       "               2002-09-30      账面金额  1.975451e+09  1.975451e+09  4.269985e+09   \n",
       "               2002-12-31      账面金额  1.885997e+09  1.885997e+09  3.933701e+09   \n",
       "               2003-03-31      账面金额  2.103610e+09  2.103610e+09  4.130111e+09   \n",
       "...                             ...           ...           ...           ...   \n",
       "970101         2022-03-31      账面金额  3.489100e+07  3.489100e+07  4.877115e+07   \n",
       "               2022-06-30      账面金额  5.069073e+07  5.069073e+07  5.736842e+07   \n",
       "970113         2022-03-31      账面金额  5.851077e+07  5.851077e+07  7.921394e+07   \n",
       "               2022-06-30      账面金额  7.445751e+07  7.445751e+07  8.415443e+07   \n",
       "970120         2022-06-30      账面金额  1.884672e+07  1.884672e+07  6.000083e+07   \n",
       "\n",
       "                          criteria  \n",
       "MasterFundCode EndDate              \n",
       "1              2002-03-31     True  \n",
       "               2002-06-30     True  \n",
       "               2002-09-30     True  \n",
       "               2002-12-31     True  \n",
       "               2003-03-31     True  \n",
       "...                            ...  \n",
       "970101         2022-03-31     True  \n",
       "               2022-06-30     True  \n",
       "970113         2022-03-31     True  \n",
       "               2022-06-30     True  \n",
       "970120         2022-06-30     True  \n",
       "\n",
       "[97073 rows x 9 columns]"
      ]
     },
     "execution_count": 337,
     "metadata": {},
     "output_type": "execute_result"
    }
   ],
   "source": [
    "allocation__.dropna(how='all').drop(['MasterFundCode', 'EndDate'], axis=1)"
   ]
  },
  {
   "cell_type": "code",
   "execution_count": 338,
   "metadata": {},
   "outputs": [],
   "source": [
    "main_data_ = pd.merge(main_data, allocation__.dropna(how='all').drop(['MasterFundCode', 'EndDate'], axis=1), on=['MasterFundCode', 'EndDate'])\\\n",
    "    .set_index(['Symbol', 'EndDate'])[['InceptionDate_y', 'MasterFundCode', 'Category']]"
   ]
  },
  {
   "cell_type": "code",
   "execution_count": 344,
   "metadata": {},
   "outputs": [
    {
     "data": {
      "text/plain": [
       "<AxesSubplot:xlabel='EndDate'>"
      ]
     },
     "execution_count": 344,
     "metadata": {},
     "output_type": "execute_result"
    },
    {
     "data": {
      "image/png": "[encoded data removed]",
      "text/plain": [
       "<Figure size 432x288 with 1 Axes>"
      ]
     },
     "metadata": {
      "needs_background": "light"
     },
     "output_type": "display_data"
    }
   ],
   "source": [
    "main_data_.groupby(level=1).apply(lambda x: (x.Category == '股票型基金').sum()).plot()\n",
    "main_data_.groupby(level=1).apply(lambda x: (x.Category == '混合型基金').sum()).plot()"
   ]
  },
  {
   "cell_type": "code",
   "execution_count": 345,
   "metadata": {},
   "outputs": [],
   "source": [
    "mkt_month['TradingDate'] = mkt_month.TradingDate + pd.offsets.MonthEnd(0)\n",
    "mkt_month['EndDate'] = mkt_month['TradingDate']\n",
    "main_data__ = pd.merge(main_data_, mkt_month, on=['Symbol', 'EndDate'])"
   ]
  },
  {
   "cell_type": "code",
   "execution_count": 346,
   "metadata": {},
   "outputs": [
    {
     "data": {
      "text/plain": [
       "<AxesSubplot:xlabel='EndDate'>"
      ]
     },
     "execution_count": 346,
     "metadata": {},
     "output_type": "execute_result"
    },
    {
     "data": {
      "image/png": "[encoded data removed]",
      "text/plain": [
       "<Figure size 432x288 with 1 Axes>"
      ]
     },
     "metadata": {
      "needs_background": "light"
     },
     "output_type": "display_data"
    }
   ],
   "source": [
    "main_data__.groupby('EndDate').apply(lambda x: x[x.Category == '股票型基金'].MarketValue.sum()).plot()\n",
    "main_data__.groupby('EndDate').apply(lambda x: x[x.Category == '混合型基金'].MarketValue.sum()).plot()"
   ]
  },
  {
   "cell_type": "markdown",
   "metadata": {},
   "source": [
    "**erratum**\n",
    "\n",
    "`MasterFundCode`"
   ]
  },
  {
   "cell_type": "code",
   "execution_count": 201,
   "metadata": {},
   "outputs": [
    {
     "data": {
      "text/plain": [
       "'-2227.75% MasterFundCode error'"
      ]
     },
     "execution_count": 201,
     "metadata": {},
     "output_type": "execute_result"
    }
   ],
   "source": [
    "temp_info = pd.merge(allocation_, maininfo__, how='inner', on='MasterFundCode')\n",
    "f'{round_(1 - len(temp_info) / len(maininfo__))} MasterFundCode error'"
   ]
  },
  {
   "cell_type": "code",
   "execution_count": 114,
   "metadata": {},
   "outputs": [
    {
     "name": "stdout",
     "output_type": "stream",
     "text": [
      "filter 6: 7199 to 5239, 27.229999999999997% symbols dropped\n"
     ]
    }
   ],
   "source": [
    "filter_6 = (temp_info.Equity / temp_info.TotalAsset > .3)\n",
    "main_data = temp_info[filter_6]\n",
    "print(f'filter 6: {len(temp_info)} to {len(main_data)}, {round_(1 - len(main_data) / len(temp_info))} symbols dropped')"
   ]
  },
  {
   "cell_type": "code",
   "execution_count": 112,
   "metadata": {},
   "outputs": [
    {
     "data": {
      "text/html": [
       "<div>\n",
       "<style scoped>\n",
       "    .dataframe tbody tr th:only-of-type {\n",
       "        vertical-align: middle;\n",
       "    }\n",
       "\n",
       "    .dataframe tbody tr th {\n",
       "        vertical-align: top;\n",
       "    }\n",
       "\n",
       "    .dataframe thead th {\n",
       "        text-align: right;\n",
       "    }\n",
       "</style>\n",
       "<table border=\"1\" class=\"dataframe\">\n",
       "  <thead>\n",
       "    <tr style=\"text-align: right;\">\n",
       "      <th></th>\n",
       "      <th>MasterFundCode</th>\n",
       "      <th>FullName</th>\n",
       "      <th>Symbol</th>\n",
       "    </tr>\n",
       "  </thead>\n",
       "  <tbody>\n",
       "    <tr>\n",
       "      <th>0</th>\n",
       "      <td>6</td>\n",
       "      <td>西部利得量化成长混合型发起式证券投资基金</td>\n",
       "      <td>6</td>\n",
       "    </tr>\n",
       "    <tr>\n",
       "      <th>1</th>\n",
       "      <td>6</td>\n",
       "      <td>西部利得量化成长混合型发起式证券投资基金</td>\n",
       "      <td>11228</td>\n",
       "    </tr>\n",
       "    <tr>\n",
       "      <th>2</th>\n",
       "      <td>11</td>\n",
       "      <td>华夏大盘精选证券投资基金</td>\n",
       "      <td>11</td>\n",
       "    </tr>\n",
       "    <tr>\n",
       "      <th>3</th>\n",
       "      <td>11</td>\n",
       "      <td>华夏大盘精选证券投资基金</td>\n",
       "      <td>12628</td>\n",
       "    </tr>\n",
       "    <tr>\n",
       "      <th>4</th>\n",
       "      <td>17</td>\n",
       "      <td>财通可持续发展主题混合型证券投资基金</td>\n",
       "      <td>17</td>\n",
       "    </tr>\n",
       "    <tr>\n",
       "      <th>...</th>\n",
       "      <td>...</td>\n",
       "      <td>...</td>\n",
       "      <td>...</td>\n",
       "    </tr>\n",
       "    <tr>\n",
       "      <th>7194</th>\n",
       "      <td>970043</td>\n",
       "      <td>东吴裕盈一年持有期灵活配置混合型集合资产管理计划</td>\n",
       "      <td>970045</td>\n",
       "    </tr>\n",
       "    <tr>\n",
       "      <th>7195</th>\n",
       "      <td>970048</td>\n",
       "      <td>东海证券海睿致远灵活配置混合型集合资产管理计划</td>\n",
       "      <td>970048</td>\n",
       "    </tr>\n",
       "    <tr>\n",
       "      <th>7196</th>\n",
       "      <td>970068</td>\n",
       "      <td>兴证资管金麒麟消费升级混合型集合资产管理计划</td>\n",
       "      <td>970067</td>\n",
       "    </tr>\n",
       "    <tr>\n",
       "      <th>7197</th>\n",
       "      <td>970068</td>\n",
       "      <td>兴证资管金麒麟消费升级混合型集合资产管理计划</td>\n",
       "      <td>970068</td>\n",
       "    </tr>\n",
       "    <tr>\n",
       "      <th>7198</th>\n",
       "      <td>970068</td>\n",
       "      <td>兴证资管金麒麟消费升级混合型集合资产管理计划</td>\n",
       "      <td>970069</td>\n",
       "    </tr>\n",
       "  </tbody>\n",
       "</table>\n",
       "<p>5239 rows × 3 columns</p>\n",
       "</div>"
      ],
      "text/plain": [
       "      MasterFundCode                  FullName  Symbol\n",
       "0                  6      西部利得量化成长混合型发起式证券投资基金       6\n",
       "1                  6      西部利得量化成长混合型发起式证券投资基金   11228\n",
       "2                 11              华夏大盘精选证券投资基金      11\n",
       "3                 11              华夏大盘精选证券投资基金   12628\n",
       "4                 17        财通可持续发展主题混合型证券投资基金      17\n",
       "...              ...                       ...     ...\n",
       "7194          970043  东吴裕盈一年持有期灵活配置混合型集合资产管理计划  970045\n",
       "7195          970048   东海证券海睿致远灵活配置混合型集合资产管理计划  970048\n",
       "7196          970068    兴证资管金麒麟消费升级混合型集合资产管理计划  970067\n",
       "7197          970068    兴证资管金麒麟消费升级混合型集合资产管理计划  970068\n",
       "7198          970068    兴证资管金麒麟消费升级混合型集合资产管理计划  970069\n",
       "\n",
       "[5239 rows x 3 columns]"
      ]
     },
     "execution_count": 112,
     "metadata": {},
     "output_type": "execute_result"
    }
   ],
   "source": [
    "main_data = main_data.sort_index()[['MasterFundCode', 'FullName', 'Symbol']]\n",
    "main_data"
   ]
  },
  {
   "cell_type": "markdown",
   "metadata": {},
   "source": [
    "## II. Market Statistic"
   ]
  },
  {
   "cell_type": "markdown",
   "metadata": {},
   "source": [
    "#### Fund_NAV_Month\n",
    "\n",
    "基金表现 — 基金月净值文件"
   ]
  },
  {
   "cell_type": "code",
   "execution_count": 135,
   "metadata": {},
   "outputs": [
    {
     "data": {
      "text/html": [
       "<div>\n",
       "<style scoped>\n",
       "    .dataframe tbody tr th:only-of-type {\n",
       "        vertical-align: middle;\n",
       "    }\n",
       "\n",
       "    .dataframe tbody tr th {\n",
       "        vertical-align: top;\n",
       "    }\n",
       "\n",
       "    .dataframe thead th {\n",
       "        text-align: right;\n",
       "    }\n",
       "</style>\n",
       "<table border=\"1\" class=\"dataframe\">\n",
       "  <thead>\n",
       "    <tr style=\"text-align: right;\">\n",
       "      <th>Symbol</th>\n",
       "      <th>1</th>\n",
       "      <th>3</th>\n",
       "      <th>4</th>\n",
       "      <th>5</th>\n",
       "      <th>6</th>\n",
       "      <th>7</th>\n",
       "      <th>8</th>\n",
       "      <th>9</th>\n",
       "      <th>10</th>\n",
       "      <th>11</th>\n",
       "      <th>...</th>\n",
       "      <th>970177</th>\n",
       "      <th>970178</th>\n",
       "      <th>970180</th>\n",
       "      <th>970182</th>\n",
       "      <th>970184</th>\n",
       "      <th>970185</th>\n",
       "      <th>970187</th>\n",
       "      <th>970191</th>\n",
       "      <th>970193</th>\n",
       "      <th>980003</th>\n",
       "    </tr>\n",
       "    <tr>\n",
       "      <th>TradingMonth</th>\n",
       "      <th></th>\n",
       "      <th></th>\n",
       "      <th></th>\n",
       "      <th></th>\n",
       "      <th></th>\n",
       "      <th></th>\n",
       "      <th></th>\n",
       "      <th></th>\n",
       "      <th></th>\n",
       "      <th></th>\n",
       "      <th></th>\n",
       "      <th></th>\n",
       "      <th></th>\n",
       "      <th></th>\n",
       "      <th></th>\n",
       "      <th></th>\n",
       "      <th></th>\n",
       "      <th></th>\n",
       "      <th></th>\n",
       "      <th></th>\n",
       "      <th></th>\n",
       "    </tr>\n",
       "  </thead>\n",
       "  <tbody>\n",
       "    <tr>\n",
       "      <th>2002-01</th>\n",
       "      <td>1.002</td>\n",
       "      <td>NaN</td>\n",
       "      <td>NaN</td>\n",
       "      <td>NaN</td>\n",
       "      <td>NaN</td>\n",
       "      <td>NaN</td>\n",
       "      <td>NaN</td>\n",
       "      <td>NaN</td>\n",
       "      <td>NaN</td>\n",
       "      <td>NaN</td>\n",
       "      <td>...</td>\n",
       "      <td>NaN</td>\n",
       "      <td>NaN</td>\n",
       "      <td>NaN</td>\n",
       "      <td>NaN</td>\n",
       "      <td>NaN</td>\n",
       "      <td>NaN</td>\n",
       "      <td>NaN</td>\n",
       "      <td>NaN</td>\n",
       "      <td>NaN</td>\n",
       "      <td>NaN</td>\n",
       "    </tr>\n",
       "    <tr>\n",
       "      <th>2002-02</th>\n",
       "      <td>1.013</td>\n",
       "      <td>NaN</td>\n",
       "      <td>NaN</td>\n",
       "      <td>NaN</td>\n",
       "      <td>NaN</td>\n",
       "      <td>NaN</td>\n",
       "      <td>NaN</td>\n",
       "      <td>NaN</td>\n",
       "      <td>NaN</td>\n",
       "      <td>NaN</td>\n",
       "      <td>...</td>\n",
       "      <td>NaN</td>\n",
       "      <td>NaN</td>\n",
       "      <td>NaN</td>\n",
       "      <td>NaN</td>\n",
       "      <td>NaN</td>\n",
       "      <td>NaN</td>\n",
       "      <td>NaN</td>\n",
       "      <td>NaN</td>\n",
       "      <td>NaN</td>\n",
       "      <td>NaN</td>\n",
       "    </tr>\n",
       "    <tr>\n",
       "      <th>2002-03</th>\n",
       "      <td>1.023</td>\n",
       "      <td>NaN</td>\n",
       "      <td>NaN</td>\n",
       "      <td>NaN</td>\n",
       "      <td>NaN</td>\n",
       "      <td>NaN</td>\n",
       "      <td>NaN</td>\n",
       "      <td>NaN</td>\n",
       "      <td>NaN</td>\n",
       "      <td>NaN</td>\n",
       "      <td>...</td>\n",
       "      <td>NaN</td>\n",
       "      <td>NaN</td>\n",
       "      <td>NaN</td>\n",
       "      <td>NaN</td>\n",
       "      <td>NaN</td>\n",
       "      <td>NaN</td>\n",
       "      <td>NaN</td>\n",
       "      <td>NaN</td>\n",
       "      <td>NaN</td>\n",
       "      <td>NaN</td>\n",
       "    </tr>\n",
       "    <tr>\n",
       "      <th>2002-04</th>\n",
       "      <td>1.046</td>\n",
       "      <td>NaN</td>\n",
       "      <td>NaN</td>\n",
       "      <td>NaN</td>\n",
       "      <td>NaN</td>\n",
       "      <td>NaN</td>\n",
       "      <td>NaN</td>\n",
       "      <td>NaN</td>\n",
       "      <td>NaN</td>\n",
       "      <td>NaN</td>\n",
       "      <td>...</td>\n",
       "      <td>NaN</td>\n",
       "      <td>NaN</td>\n",
       "      <td>NaN</td>\n",
       "      <td>NaN</td>\n",
       "      <td>NaN</td>\n",
       "      <td>NaN</td>\n",
       "      <td>NaN</td>\n",
       "      <td>NaN</td>\n",
       "      <td>NaN</td>\n",
       "      <td>NaN</td>\n",
       "    </tr>\n",
       "    <tr>\n",
       "      <th>2002-05</th>\n",
       "      <td>1.027</td>\n",
       "      <td>NaN</td>\n",
       "      <td>NaN</td>\n",
       "      <td>NaN</td>\n",
       "      <td>NaN</td>\n",
       "      <td>NaN</td>\n",
       "      <td>NaN</td>\n",
       "      <td>NaN</td>\n",
       "      <td>NaN</td>\n",
       "      <td>NaN</td>\n",
       "      <td>...</td>\n",
       "      <td>NaN</td>\n",
       "      <td>NaN</td>\n",
       "      <td>NaN</td>\n",
       "      <td>NaN</td>\n",
       "      <td>NaN</td>\n",
       "      <td>NaN</td>\n",
       "      <td>NaN</td>\n",
       "      <td>NaN</td>\n",
       "      <td>NaN</td>\n",
       "      <td>NaN</td>\n",
       "    </tr>\n",
       "    <tr>\n",
       "      <th>...</th>\n",
       "      <td>...</td>\n",
       "      <td>...</td>\n",
       "      <td>...</td>\n",
       "      <td>...</td>\n",
       "      <td>...</td>\n",
       "      <td>...</td>\n",
       "      <td>...</td>\n",
       "      <td>...</td>\n",
       "      <td>...</td>\n",
       "      <td>...</td>\n",
       "      <td>...</td>\n",
       "      <td>...</td>\n",
       "      <td>...</td>\n",
       "      <td>...</td>\n",
       "      <td>...</td>\n",
       "      <td>...</td>\n",
       "      <td>...</td>\n",
       "      <td>...</td>\n",
       "      <td>...</td>\n",
       "      <td>...</td>\n",
       "      <td>...</td>\n",
       "    </tr>\n",
       "    <tr>\n",
       "      <th>2022-04</th>\n",
       "      <td>0.936</td>\n",
       "      <td>0.807</td>\n",
       "      <td>0.800</td>\n",
       "      <td>1.0272</td>\n",
       "      <td>1.7115</td>\n",
       "      <td>NaN</td>\n",
       "      <td>1.5681</td>\n",
       "      <td>0.0</td>\n",
       "      <td>0.0</td>\n",
       "      <td>15.588</td>\n",
       "      <td>...</td>\n",
       "      <td>NaN</td>\n",
       "      <td>NaN</td>\n",
       "      <td>NaN</td>\n",
       "      <td>NaN</td>\n",
       "      <td>NaN</td>\n",
       "      <td>NaN</td>\n",
       "      <td>NaN</td>\n",
       "      <td>NaN</td>\n",
       "      <td>NaN</td>\n",
       "      <td>1.5306</td>\n",
       "    </tr>\n",
       "    <tr>\n",
       "      <th>2022-05</th>\n",
       "      <td>0.982</td>\n",
       "      <td>0.828</td>\n",
       "      <td>0.820</td>\n",
       "      <td>1.0336</td>\n",
       "      <td>1.8559</td>\n",
       "      <td>NaN</td>\n",
       "      <td>1.6798</td>\n",
       "      <td>0.0</td>\n",
       "      <td>0.0</td>\n",
       "      <td>16.868</td>\n",
       "      <td>...</td>\n",
       "      <td>NaN</td>\n",
       "      <td>NaN</td>\n",
       "      <td>NaN</td>\n",
       "      <td>NaN</td>\n",
       "      <td>NaN</td>\n",
       "      <td>NaN</td>\n",
       "      <td>NaN</td>\n",
       "      <td>NaN</td>\n",
       "      <td>NaN</td>\n",
       "      <td>1.5365</td>\n",
       "    </tr>\n",
       "    <tr>\n",
       "      <th>2022-06</th>\n",
       "      <td>1.073</td>\n",
       "      <td>0.880</td>\n",
       "      <td>0.871</td>\n",
       "      <td>1.0306</td>\n",
       "      <td>2.0785</td>\n",
       "      <td>NaN</td>\n",
       "      <td>1.8062</td>\n",
       "      <td>0.0</td>\n",
       "      <td>0.0</td>\n",
       "      <td>18.869</td>\n",
       "      <td>...</td>\n",
       "      <td>NaN</td>\n",
       "      <td>NaN</td>\n",
       "      <td>NaN</td>\n",
       "      <td>NaN</td>\n",
       "      <td>NaN</td>\n",
       "      <td>NaN</td>\n",
       "      <td>NaN</td>\n",
       "      <td>NaN</td>\n",
       "      <td>NaN</td>\n",
       "      <td>1.5393</td>\n",
       "    </tr>\n",
       "    <tr>\n",
       "      <th>2022-07</th>\n",
       "      <td>1.065</td>\n",
       "      <td>0.883</td>\n",
       "      <td>0.874</td>\n",
       "      <td>1.0380</td>\n",
       "      <td>2.1458</td>\n",
       "      <td>NaN</td>\n",
       "      <td>1.7717</td>\n",
       "      <td>0.0</td>\n",
       "      <td>0.0</td>\n",
       "      <td>17.880</td>\n",
       "      <td>...</td>\n",
       "      <td>0.0</td>\n",
       "      <td>0.0</td>\n",
       "      <td>0.0</td>\n",
       "      <td>1.0000</td>\n",
       "      <td>NaN</td>\n",
       "      <td>NaN</td>\n",
       "      <td>NaN</td>\n",
       "      <td>NaN</td>\n",
       "      <td>1.2051</td>\n",
       "      <td>1.5449</td>\n",
       "    </tr>\n",
       "    <tr>\n",
       "      <th>2022-08</th>\n",
       "      <td>1.046</td>\n",
       "      <td>0.865</td>\n",
       "      <td>0.856</td>\n",
       "      <td>1.0407</td>\n",
       "      <td>2.0240</td>\n",
       "      <td>NaN</td>\n",
       "      <td>1.7371</td>\n",
       "      <td>0.0</td>\n",
       "      <td>0.0</td>\n",
       "      <td>16.982</td>\n",
       "      <td>...</td>\n",
       "      <td>0.0</td>\n",
       "      <td>0.0</td>\n",
       "      <td>0.0</td>\n",
       "      <td>1.0012</td>\n",
       "      <td>1.0714</td>\n",
       "      <td>1.0234</td>\n",
       "      <td>0.0</td>\n",
       "      <td>0.0</td>\n",
       "      <td>1.1928</td>\n",
       "      <td>1.5492</td>\n",
       "    </tr>\n",
       "  </tbody>\n",
       "</table>\n",
       "<p>248 rows × 18917 columns</p>\n",
       "</div>"
      ],
      "text/plain": [
       "Symbol        1       3       4       5       6       7       8       9       \\\n",
       "TradingMonth                                                                   \n",
       "2002-01        1.002     NaN     NaN     NaN     NaN     NaN     NaN     NaN   \n",
       "2002-02        1.013     NaN     NaN     NaN     NaN     NaN     NaN     NaN   \n",
       "2002-03        1.023     NaN     NaN     NaN     NaN     NaN     NaN     NaN   \n",
       "2002-04        1.046     NaN     NaN     NaN     NaN     NaN     NaN     NaN   \n",
       "2002-05        1.027     NaN     NaN     NaN     NaN     NaN     NaN     NaN   \n",
       "...              ...     ...     ...     ...     ...     ...     ...     ...   \n",
       "2022-04        0.936   0.807   0.800  1.0272  1.7115     NaN  1.5681     0.0   \n",
       "2022-05        0.982   0.828   0.820  1.0336  1.8559     NaN  1.6798     0.0   \n",
       "2022-06        1.073   0.880   0.871  1.0306  2.0785     NaN  1.8062     0.0   \n",
       "2022-07        1.065   0.883   0.874  1.0380  2.1458     NaN  1.7717     0.0   \n",
       "2022-08        1.046   0.865   0.856  1.0407  2.0240     NaN  1.7371     0.0   \n",
       "\n",
       "Symbol        10      11      ...  970177  970178  970180  970182  970184  \\\n",
       "TradingMonth                  ...                                           \n",
       "2002-01          NaN     NaN  ...     NaN     NaN     NaN     NaN     NaN   \n",
       "2002-02          NaN     NaN  ...     NaN     NaN     NaN     NaN     NaN   \n",
       "2002-03          NaN     NaN  ...     NaN     NaN     NaN     NaN     NaN   \n",
       "2002-04          NaN     NaN  ...     NaN     NaN     NaN     NaN     NaN   \n",
       "2002-05          NaN     NaN  ...     NaN     NaN     NaN     NaN     NaN   \n",
       "...              ...     ...  ...     ...     ...     ...     ...     ...   \n",
       "2022-04          0.0  15.588  ...     NaN     NaN     NaN     NaN     NaN   \n",
       "2022-05          0.0  16.868  ...     NaN     NaN     NaN     NaN     NaN   \n",
       "2022-06          0.0  18.869  ...     NaN     NaN     NaN     NaN     NaN   \n",
       "2022-07          0.0  17.880  ...     0.0     0.0     0.0  1.0000     NaN   \n",
       "2022-08          0.0  16.982  ...     0.0     0.0     0.0  1.0012  1.0714   \n",
       "\n",
       "Symbol        970185  970187  970191  970193  980003  \n",
       "TradingMonth                                          \n",
       "2002-01          NaN     NaN     NaN     NaN     NaN  \n",
       "2002-02          NaN     NaN     NaN     NaN     NaN  \n",
       "2002-03          NaN     NaN     NaN     NaN     NaN  \n",
       "2002-04          NaN     NaN     NaN     NaN     NaN  \n",
       "2002-05          NaN     NaN     NaN     NaN     NaN  \n",
       "...              ...     ...     ...     ...     ...  \n",
       "2022-04          NaN     NaN     NaN     NaN  1.5306  \n",
       "2022-05          NaN     NaN     NaN     NaN  1.5365  \n",
       "2022-06          NaN     NaN     NaN     NaN  1.5393  \n",
       "2022-07          NaN     NaN     NaN  1.2051  1.5449  \n",
       "2022-08       1.0234     0.0     0.0  1.1928  1.5492  \n",
       "\n",
       "[248 rows x 18917 columns]"
      ]
     },
     "execution_count": 135,
     "metadata": {},
     "output_type": "execute_result"
    }
   ],
   "source": [
    "nav_month_ = nav_month.pivot(index='TradingMonth', columns='Symbol', values='NAV')\n",
    "nav_month_"
   ]
  },
  {
   "cell_type": "code",
   "execution_count": 29,
   "metadata": {},
   "outputs": [
    {
     "data": {
      "text/plain": [
       "'1.5599999999999998% values is 0'"
      ]
     },
     "execution_count": 29,
     "metadata": {},
     "output_type": "execute_result"
    }
   ],
   "source": [
    "f'{round_((nav_month_ == 0).sum().sum() / (nav_month_.shape[0] * nav_month_.shape[1]))} values is 0'"
   ]
  },
  {
   "cell_type": "code",
   "execution_count": 136,
   "metadata": {},
   "outputs": [
    {
     "data": {
      "text/html": [
       "<div>\n",
       "<style scoped>\n",
       "    .dataframe tbody tr th:only-of-type {\n",
       "        vertical-align: middle;\n",
       "    }\n",
       "\n",
       "    .dataframe tbody tr th {\n",
       "        vertical-align: top;\n",
       "    }\n",
       "\n",
       "    .dataframe thead th {\n",
       "        text-align: right;\n",
       "    }\n",
       "</style>\n",
       "<table border=\"1\" class=\"dataframe\">\n",
       "  <thead>\n",
       "    <tr style=\"text-align: right;\">\n",
       "      <th>Symbol</th>\n",
       "      <th>1</th>\n",
       "      <th>3</th>\n",
       "      <th>4</th>\n",
       "      <th>5</th>\n",
       "      <th>6</th>\n",
       "      <th>7</th>\n",
       "      <th>8</th>\n",
       "      <th>9</th>\n",
       "      <th>10</th>\n",
       "      <th>11</th>\n",
       "      <th>...</th>\n",
       "      <th>970177</th>\n",
       "      <th>970178</th>\n",
       "      <th>970180</th>\n",
       "      <th>970182</th>\n",
       "      <th>970184</th>\n",
       "      <th>970185</th>\n",
       "      <th>970187</th>\n",
       "      <th>970191</th>\n",
       "      <th>970193</th>\n",
       "      <th>980003</th>\n",
       "    </tr>\n",
       "    <tr>\n",
       "      <th>TradingMonth</th>\n",
       "      <th></th>\n",
       "      <th></th>\n",
       "      <th></th>\n",
       "      <th></th>\n",
       "      <th></th>\n",
       "      <th></th>\n",
       "      <th></th>\n",
       "      <th></th>\n",
       "      <th></th>\n",
       "      <th></th>\n",
       "      <th></th>\n",
       "      <th></th>\n",
       "      <th></th>\n",
       "      <th></th>\n",
       "      <th></th>\n",
       "      <th></th>\n",
       "      <th></th>\n",
       "      <th></th>\n",
       "      <th></th>\n",
       "      <th></th>\n",
       "      <th></th>\n",
       "    </tr>\n",
       "  </thead>\n",
       "  <tbody>\n",
       "    <tr>\n",
       "      <th>2002-01</th>\n",
       "      <td>1.002</td>\n",
       "      <td>NaN</td>\n",
       "      <td>NaN</td>\n",
       "      <td>NaN</td>\n",
       "      <td>NaN</td>\n",
       "      <td>NaN</td>\n",
       "      <td>NaN</td>\n",
       "      <td>NaN</td>\n",
       "      <td>NaN</td>\n",
       "      <td>NaN</td>\n",
       "      <td>...</td>\n",
       "      <td>NaN</td>\n",
       "      <td>NaN</td>\n",
       "      <td>NaN</td>\n",
       "      <td>NaN</td>\n",
       "      <td>NaN</td>\n",
       "      <td>NaN</td>\n",
       "      <td>NaN</td>\n",
       "      <td>NaN</td>\n",
       "      <td>NaN</td>\n",
       "      <td>NaN</td>\n",
       "    </tr>\n",
       "    <tr>\n",
       "      <th>2002-02</th>\n",
       "      <td>1.013</td>\n",
       "      <td>NaN</td>\n",
       "      <td>NaN</td>\n",
       "      <td>NaN</td>\n",
       "      <td>NaN</td>\n",
       "      <td>NaN</td>\n",
       "      <td>NaN</td>\n",
       "      <td>NaN</td>\n",
       "      <td>NaN</td>\n",
       "      <td>NaN</td>\n",
       "      <td>...</td>\n",
       "      <td>NaN</td>\n",
       "      <td>NaN</td>\n",
       "      <td>NaN</td>\n",
       "      <td>NaN</td>\n",
       "      <td>NaN</td>\n",
       "      <td>NaN</td>\n",
       "      <td>NaN</td>\n",
       "      <td>NaN</td>\n",
       "      <td>NaN</td>\n",
       "      <td>NaN</td>\n",
       "    </tr>\n",
       "    <tr>\n",
       "      <th>2002-03</th>\n",
       "      <td>1.023</td>\n",
       "      <td>NaN</td>\n",
       "      <td>NaN</td>\n",
       "      <td>NaN</td>\n",
       "      <td>NaN</td>\n",
       "      <td>NaN</td>\n",
       "      <td>NaN</td>\n",
       "      <td>NaN</td>\n",
       "      <td>NaN</td>\n",
       "      <td>NaN</td>\n",
       "      <td>...</td>\n",
       "      <td>NaN</td>\n",
       "      <td>NaN</td>\n",
       "      <td>NaN</td>\n",
       "      <td>NaN</td>\n",
       "      <td>NaN</td>\n",
       "      <td>NaN</td>\n",
       "      <td>NaN</td>\n",
       "      <td>NaN</td>\n",
       "      <td>NaN</td>\n",
       "      <td>NaN</td>\n",
       "    </tr>\n",
       "    <tr>\n",
       "      <th>2002-04</th>\n",
       "      <td>1.046</td>\n",
       "      <td>NaN</td>\n",
       "      <td>NaN</td>\n",
       "      <td>NaN</td>\n",
       "      <td>NaN</td>\n",
       "      <td>NaN</td>\n",
       "      <td>NaN</td>\n",
       "      <td>NaN</td>\n",
       "      <td>NaN</td>\n",
       "      <td>NaN</td>\n",
       "      <td>...</td>\n",
       "      <td>NaN</td>\n",
       "      <td>NaN</td>\n",
       "      <td>NaN</td>\n",
       "      <td>NaN</td>\n",
       "      <td>NaN</td>\n",
       "      <td>NaN</td>\n",
       "      <td>NaN</td>\n",
       "      <td>NaN</td>\n",
       "      <td>NaN</td>\n",
       "      <td>NaN</td>\n",
       "    </tr>\n",
       "    <tr>\n",
       "      <th>2002-05</th>\n",
       "      <td>1.027</td>\n",
       "      <td>NaN</td>\n",
       "      <td>NaN</td>\n",
       "      <td>NaN</td>\n",
       "      <td>NaN</td>\n",
       "      <td>NaN</td>\n",
       "      <td>NaN</td>\n",
       "      <td>NaN</td>\n",
       "      <td>NaN</td>\n",
       "      <td>NaN</td>\n",
       "      <td>...</td>\n",
       "      <td>NaN</td>\n",
       "      <td>NaN</td>\n",
       "      <td>NaN</td>\n",
       "      <td>NaN</td>\n",
       "      <td>NaN</td>\n",
       "      <td>NaN</td>\n",
       "      <td>NaN</td>\n",
       "      <td>NaN</td>\n",
       "      <td>NaN</td>\n",
       "      <td>NaN</td>\n",
       "    </tr>\n",
       "    <tr>\n",
       "      <th>...</th>\n",
       "      <td>...</td>\n",
       "      <td>...</td>\n",
       "      <td>...</td>\n",
       "      <td>...</td>\n",
       "      <td>...</td>\n",
       "      <td>...</td>\n",
       "      <td>...</td>\n",
       "      <td>...</td>\n",
       "      <td>...</td>\n",
       "      <td>...</td>\n",
       "      <td>...</td>\n",
       "      <td>...</td>\n",
       "      <td>...</td>\n",
       "      <td>...</td>\n",
       "      <td>...</td>\n",
       "      <td>...</td>\n",
       "      <td>...</td>\n",
       "      <td>...</td>\n",
       "      <td>...</td>\n",
       "      <td>...</td>\n",
       "      <td>...</td>\n",
       "    </tr>\n",
       "    <tr>\n",
       "      <th>2022-04</th>\n",
       "      <td>0.936</td>\n",
       "      <td>0.807</td>\n",
       "      <td>0.800</td>\n",
       "      <td>1.0272</td>\n",
       "      <td>1.7115</td>\n",
       "      <td>NaN</td>\n",
       "      <td>1.5681</td>\n",
       "      <td>NaN</td>\n",
       "      <td>NaN</td>\n",
       "      <td>15.588</td>\n",
       "      <td>...</td>\n",
       "      <td>NaN</td>\n",
       "      <td>NaN</td>\n",
       "      <td>NaN</td>\n",
       "      <td>NaN</td>\n",
       "      <td>NaN</td>\n",
       "      <td>NaN</td>\n",
       "      <td>NaN</td>\n",
       "      <td>NaN</td>\n",
       "      <td>NaN</td>\n",
       "      <td>1.5306</td>\n",
       "    </tr>\n",
       "    <tr>\n",
       "      <th>2022-05</th>\n",
       "      <td>0.982</td>\n",
       "      <td>0.828</td>\n",
       "      <td>0.820</td>\n",
       "      <td>1.0336</td>\n",
       "      <td>1.8559</td>\n",
       "      <td>NaN</td>\n",
       "      <td>1.6798</td>\n",
       "      <td>NaN</td>\n",
       "      <td>NaN</td>\n",
       "      <td>16.868</td>\n",
       "      <td>...</td>\n",
       "      <td>NaN</td>\n",
       "      <td>NaN</td>\n",
       "      <td>NaN</td>\n",
       "      <td>NaN</td>\n",
       "      <td>NaN</td>\n",
       "      <td>NaN</td>\n",
       "      <td>NaN</td>\n",
       "      <td>NaN</td>\n",
       "      <td>NaN</td>\n",
       "      <td>1.5365</td>\n",
       "    </tr>\n",
       "    <tr>\n",
       "      <th>2022-06</th>\n",
       "      <td>1.073</td>\n",
       "      <td>0.880</td>\n",
       "      <td>0.871</td>\n",
       "      <td>1.0306</td>\n",
       "      <td>2.0785</td>\n",
       "      <td>NaN</td>\n",
       "      <td>1.8062</td>\n",
       "      <td>NaN</td>\n",
       "      <td>NaN</td>\n",
       "      <td>18.869</td>\n",
       "      <td>...</td>\n",
       "      <td>NaN</td>\n",
       "      <td>NaN</td>\n",
       "      <td>NaN</td>\n",
       "      <td>NaN</td>\n",
       "      <td>NaN</td>\n",
       "      <td>NaN</td>\n",
       "      <td>NaN</td>\n",
       "      <td>NaN</td>\n",
       "      <td>NaN</td>\n",
       "      <td>1.5393</td>\n",
       "    </tr>\n",
       "    <tr>\n",
       "      <th>2022-07</th>\n",
       "      <td>1.065</td>\n",
       "      <td>0.883</td>\n",
       "      <td>0.874</td>\n",
       "      <td>1.0380</td>\n",
       "      <td>2.1458</td>\n",
       "      <td>NaN</td>\n",
       "      <td>1.7717</td>\n",
       "      <td>NaN</td>\n",
       "      <td>NaN</td>\n",
       "      <td>17.880</td>\n",
       "      <td>...</td>\n",
       "      <td>NaN</td>\n",
       "      <td>NaN</td>\n",
       "      <td>NaN</td>\n",
       "      <td>1.0000</td>\n",
       "      <td>NaN</td>\n",
       "      <td>NaN</td>\n",
       "      <td>NaN</td>\n",
       "      <td>NaN</td>\n",
       "      <td>1.2051</td>\n",
       "      <td>1.5449</td>\n",
       "    </tr>\n",
       "    <tr>\n",
       "      <th>2022-08</th>\n",
       "      <td>1.046</td>\n",
       "      <td>0.865</td>\n",
       "      <td>0.856</td>\n",
       "      <td>1.0407</td>\n",
       "      <td>2.0240</td>\n",
       "      <td>NaN</td>\n",
       "      <td>1.7371</td>\n",
       "      <td>NaN</td>\n",
       "      <td>NaN</td>\n",
       "      <td>16.982</td>\n",
       "      <td>...</td>\n",
       "      <td>NaN</td>\n",
       "      <td>NaN</td>\n",
       "      <td>NaN</td>\n",
       "      <td>1.0012</td>\n",
       "      <td>1.0714</td>\n",
       "      <td>1.0234</td>\n",
       "      <td>NaN</td>\n",
       "      <td>NaN</td>\n",
       "      <td>1.1928</td>\n",
       "      <td>1.5492</td>\n",
       "    </tr>\n",
       "  </tbody>\n",
       "</table>\n",
       "<p>248 rows × 18917 columns</p>\n",
       "</div>"
      ],
      "text/plain": [
       "Symbol        1       3       4       5       6       7       8       9       \\\n",
       "TradingMonth                                                                   \n",
       "2002-01        1.002     NaN     NaN     NaN     NaN     NaN     NaN     NaN   \n",
       "2002-02        1.013     NaN     NaN     NaN     NaN     NaN     NaN     NaN   \n",
       "2002-03        1.023     NaN     NaN     NaN     NaN     NaN     NaN     NaN   \n",
       "2002-04        1.046     NaN     NaN     NaN     NaN     NaN     NaN     NaN   \n",
       "2002-05        1.027     NaN     NaN     NaN     NaN     NaN     NaN     NaN   \n",
       "...              ...     ...     ...     ...     ...     ...     ...     ...   \n",
       "2022-04        0.936   0.807   0.800  1.0272  1.7115     NaN  1.5681     NaN   \n",
       "2022-05        0.982   0.828   0.820  1.0336  1.8559     NaN  1.6798     NaN   \n",
       "2022-06        1.073   0.880   0.871  1.0306  2.0785     NaN  1.8062     NaN   \n",
       "2022-07        1.065   0.883   0.874  1.0380  2.1458     NaN  1.7717     NaN   \n",
       "2022-08        1.046   0.865   0.856  1.0407  2.0240     NaN  1.7371     NaN   \n",
       "\n",
       "Symbol        10      11      ...  970177  970178  970180  970182  970184  \\\n",
       "TradingMonth                  ...                                           \n",
       "2002-01          NaN     NaN  ...     NaN     NaN     NaN     NaN     NaN   \n",
       "2002-02          NaN     NaN  ...     NaN     NaN     NaN     NaN     NaN   \n",
       "2002-03          NaN     NaN  ...     NaN     NaN     NaN     NaN     NaN   \n",
       "2002-04          NaN     NaN  ...     NaN     NaN     NaN     NaN     NaN   \n",
       "2002-05          NaN     NaN  ...     NaN     NaN     NaN     NaN     NaN   \n",
       "...              ...     ...  ...     ...     ...     ...     ...     ...   \n",
       "2022-04          NaN  15.588  ...     NaN     NaN     NaN     NaN     NaN   \n",
       "2022-05          NaN  16.868  ...     NaN     NaN     NaN     NaN     NaN   \n",
       "2022-06          NaN  18.869  ...     NaN     NaN     NaN     NaN     NaN   \n",
       "2022-07          NaN  17.880  ...     NaN     NaN     NaN  1.0000     NaN   \n",
       "2022-08          NaN  16.982  ...     NaN     NaN     NaN  1.0012  1.0714   \n",
       "\n",
       "Symbol        970185  970187  970191  970193  980003  \n",
       "TradingMonth                                          \n",
       "2002-01          NaN     NaN     NaN     NaN     NaN  \n",
       "2002-02          NaN     NaN     NaN     NaN     NaN  \n",
       "2002-03          NaN     NaN     NaN     NaN     NaN  \n",
       "2002-04          NaN     NaN     NaN     NaN     NaN  \n",
       "2002-05          NaN     NaN     NaN     NaN     NaN  \n",
       "...              ...     ...     ...     ...     ...  \n",
       "2022-04          NaN     NaN     NaN     NaN  1.5306  \n",
       "2022-05          NaN     NaN     NaN     NaN  1.5365  \n",
       "2022-06          NaN     NaN     NaN     NaN  1.5393  \n",
       "2022-07          NaN     NaN     NaN  1.2051  1.5449  \n",
       "2022-08       1.0234     NaN     NaN  1.1928  1.5492  \n",
       "\n",
       "[248 rows x 18917 columns]"
      ]
     },
     "execution_count": 136,
     "metadata": {},
     "output_type": "execute_result"
    }
   ],
   "source": [
    "nav_month__ = nav_month_.replace(0, np.nan)\n",
    "nav_month__"
   ]
  },
  {
   "cell_type": "markdown",
   "metadata": {},
   "source": [
    "erratum\n",
    "\n",
    "base research `Symbol` on `unitclassinfo`"
   ]
  },
  {
   "cell_type": "code",
   "execution_count": 137,
   "metadata": {},
   "outputs": [
    {
     "data": {
      "text/plain": [
       "(14947, 18917, 19155)"
      ]
     },
     "execution_count": 137,
     "metadata": {},
     "output_type": "execute_result"
    }
   ],
   "source": [
    "len(np.intersect1d(nav_month__.columns, unitclassinfo_.index)), len(nav_month__.columns), len(unitclassinfo_.index)"
   ]
  },
  {
   "cell_type": "code",
   "execution_count": 138,
   "metadata": {},
   "outputs": [
    {
     "data": {
      "text/plain": [
       "array([   927,   1710,   1715, ..., 970191, 970193, 980003], dtype=int64)"
      ]
     },
     "execution_count": 138,
     "metadata": {},
     "output_type": "execute_result"
    }
   ],
   "source": [
    "np.setdiff1d(nav_month__.columns, unitclassinfo_.index)"
   ]
  },
  {
   "cell_type": "code",
   "execution_count": 139,
   "metadata": {},
   "outputs": [
    {
     "data": {
      "text/plain": [
       "array([    0,     2,    12, ..., 19257, 19258, 19259], dtype=int64)"
      ]
     },
     "execution_count": 139,
     "metadata": {},
     "output_type": "execute_result"
    }
   ],
   "source": [
    "np.setdiff1d(unitclassinfo_.index, nav_month__.columns)"
   ]
  },
  {
   "cell_type": "markdown",
   "metadata": {},
   "source": [
    "#### Fund_Resolution, Fund_FundDividend\n",
    "\n",
    "收益分配与拆分 — 基金分配文件\n",
    "\n",
    "收益分配与拆分 — 基金拆分信息文件\n"
   ]
  },
  {
   "cell_type": "code",
   "execution_count": 140,
   "metadata": {},
   "outputs": [
    {
     "data": {
      "text/plain": [
       "'0.13% `SplitRatio` is not available'"
      ]
     },
     "execution_count": 140,
     "metadata": {},
     "output_type": "execute_result"
    }
   ],
   "source": [
    "f'{round_(pd.isnull(resolution.SplitRatio).sum() / len(resolution))} `SplitRatio` is not available'"
   ]
  },
  {
   "cell_type": "code",
   "execution_count": 141,
   "metadata": {},
   "outputs": [
    {
     "data": {
      "text/plain": [
       "'1.28% `PrimaryExDividendDate` is not available'"
      ]
     },
     "execution_count": 141,
     "metadata": {},
     "output_type": "execute_result"
    }
   ],
   "source": [
    "f'{round_(pd.isnull(fund_dividend.PrimaryExDividendDate).sum() / len(fund_dividend))} `PrimaryExDividendDate` is not available'"
   ]
  },
  {
   "cell_type": "code",
   "execution_count": 142,
   "metadata": {},
   "outputs": [
    {
     "data": {
      "text/plain": [
       "'92.64% `SecondaryExDividendDate` is not available'"
      ]
     },
     "execution_count": 142,
     "metadata": {},
     "output_type": "execute_result"
    }
   ],
   "source": [
    "f'{round_(pd.isnull(fund_dividend.SecondaryExDividendDate).sum() / len(fund_dividend))} `SecondaryExDividendDate` is not available'"
   ]
  },
  {
   "cell_type": "code",
   "execution_count": 143,
   "metadata": {},
   "outputs": [
    {
     "data": {
      "text/plain": [
       "'when `PrimaryExDividendDate` is not available, there stands 1.28% chance `SecondaryExDividendDate` is available'"
      ]
     },
     "execution_count": 143,
     "metadata": {},
     "output_type": "execute_result"
    }
   ],
   "source": [
    "temp = fund_dividend.apply(lambda row: True if pd.notnull(row.SecondaryExDividendDate) and pd.isna(row.PrimaryExDividendDate) else False, axis=1).sum() / len(fund_dividend)\n",
    "f'when `PrimaryExDividendDate` is not available, there stands {round_(temp)} chance `SecondaryExDividendDate` is available'\n"
   ]
  },
  {
   "cell_type": "code",
   "execution_count": 144,
   "metadata": {},
   "outputs": [],
   "source": [
    "ExDividendMonth = fund_dividend.PrimaryExDividendDate.dt.strftime('%Y-%m').copy()\n",
    "ExDividendMonth.name = 'ExDividendMonth'\n",
    "ExDividendMonth[ExDividendMonth.isnull()] = fund_dividend.SecondaryExDividendDate[ExDividendMonth.isnull()].dt.strftime('%Y-%m').copy()\n",
    "fund_dividend['ExDividendMonth'] = ExDividendMonth\n"
   ]
  },
  {
   "cell_type": "code",
   "execution_count": 145,
   "metadata": {},
   "outputs": [
    {
     "data": {
      "text/plain": [
       "'1.28% funds have multiple dividend payouts in one month'"
      ]
     },
     "execution_count": 145,
     "metadata": {},
     "output_type": "execute_result"
    }
   ],
   "source": [
    "temp = fund_dividend.groupby(['Symbol', 'ExDividendMonth']).apply(lambda one_month: len(one_month))\n",
    "f'{round_(len(temp[temp != 1]) / len(temp))} funds have multiple dividend payouts in one month'"
   ]
  },
  {
   "cell_type": "code",
   "execution_count": 146,
   "metadata": {},
   "outputs": [
    {
     "data": {
      "text/plain": [
       "'1.0699999999999998% funds have multiple divisions in one month'"
      ]
     },
     "execution_count": 146,
     "metadata": {},
     "output_type": "execute_result"
    }
   ],
   "source": [
    "split = resolution.set_index(['Symbol', resolution.DeclareDate.dt.strftime('%Y-%m')]).copy().SplitRatio\n",
    "f'{round_(len(split[split.index.duplicated(keep=False)]) / len(split))} funds have multiple divisions in one month'"
   ]
  },
  {
   "cell_type": "markdown",
   "metadata": {},
   "source": [
    "#### Fund_FeesChange\n",
    "\n",
    "基金概况 — 费率变动文件\n",
    "\n",
    "erratum"
   ]
  },
  {
   "cell_type": "code",
   "execution_count": 147,
   "metadata": {},
   "outputs": [],
   "source": [
    "duplicated_fees = fees[fees.NameOfFee == '管理费率'][fees[fees.NameOfFee == '管理费率'][['Symbol', 'DeclareDate']].duplicated(keep=False)]"
   ]
  },
  {
   "cell_type": "code",
   "execution_count": 148,
   "metadata": {},
   "outputs": [
    {
     "data": {
      "text/plain": [
       "'0.01% data are duplicated as below'"
      ]
     },
     "execution_count": 148,
     "metadata": {},
     "output_type": "execute_result"
    }
   ],
   "source": [
    "f'{round_(len(duplicated_fees) / len(fees))} data are duplicated as below'"
   ]
  },
  {
   "cell_type": "code",
   "execution_count": 149,
   "metadata": {},
   "outputs": [
    {
     "data": {
      "text/html": [
       "<style type=\"text/css\">\n",
       "#T_1c72b_row0_col0, #T_1c72b_row0_col1, #T_1c72b_row0_col2, #T_1c72b_row0_col3, #T_1c72b_row0_col4, #T_1c72b_row2_col0, #T_1c72b_row2_col1, #T_1c72b_row2_col2, #T_1c72b_row2_col3, #T_1c72b_row2_col4, #T_1c72b_row4_col0, #T_1c72b_row4_col1, #T_1c72b_row4_col2, #T_1c72b_row4_col3, #T_1c72b_row4_col4, #T_1c72b_row6_col0, #T_1c72b_row6_col1, #T_1c72b_row6_col2, #T_1c72b_row6_col3, #T_1c72b_row6_col4, #T_1c72b_row8_col0, #T_1c72b_row8_col1, #T_1c72b_row8_col2, #T_1c72b_row8_col3, #T_1c72b_row8_col4 {\n",
       "  background-color: yellow;\n",
       "}\n",
       "</style>\n",
       "<table id=\"T_1c72b\">\n",
       "  <thead>\n",
       "    <tr>\n",
       "      <th class=\"blank level0\" >&nbsp;</th>\n",
       "      <th id=\"T_1c72b_level0_col0\" class=\"col_heading level0 col0\" >Symbol</th>\n",
       "      <th id=\"T_1c72b_level0_col1\" class=\"col_heading level0 col1\" >DeclareDate</th>\n",
       "      <th id=\"T_1c72b_level0_col2\" class=\"col_heading level0 col2\" >TypeOfFee</th>\n",
       "      <th id=\"T_1c72b_level0_col3\" class=\"col_heading level0 col3\" >NameOfFee</th>\n",
       "      <th id=\"T_1c72b_level0_col4\" class=\"col_heading level0 col4\" >ProportionOfFee</th>\n",
       "    </tr>\n",
       "  </thead>\n",
       "  <tbody>\n",
       "    <tr>\n",
       "      <th id=\"T_1c72b_level0_row0\" class=\"row_heading level0 row0\" >86751</th>\n",
       "      <td id=\"T_1c72b_row0_col0\" class=\"data row0 col0\" >000613</td>\n",
       "      <td id=\"T_1c72b_row0_col1\" class=\"data row0 col1\" >2015-01-16 00:00:00</td>\n",
       "      <td id=\"T_1c72b_row0_col2\" class=\"data row0 col2\" >B1804</td>\n",
       "      <td id=\"T_1c72b_row0_col3\" class=\"data row0 col3\" >管理费率</td>\n",
       "      <td id=\"T_1c72b_row0_col4\" class=\"data row0 col4\" >0.5</td>\n",
       "    </tr>\n",
       "    <tr>\n",
       "      <th id=\"T_1c72b_level0_row1\" class=\"row_heading level0 row1\" >86753</th>\n",
       "      <td id=\"T_1c72b_row1_col0\" class=\"data row1 col0\" >000613</td>\n",
       "      <td id=\"T_1c72b_row1_col1\" class=\"data row1 col1\" >2015-01-16 00:00:00</td>\n",
       "      <td id=\"T_1c72b_row1_col2\" class=\"data row1 col2\" >B1804</td>\n",
       "      <td id=\"T_1c72b_row1_col3\" class=\"data row1 col3\" >管理费率</td>\n",
       "      <td id=\"T_1c72b_row1_col4\" class=\"data row1 col4\" >0.8</td>\n",
       "    </tr>\n",
       "    <tr>\n",
       "      <th id=\"T_1c72b_level0_row2\" class=\"row_heading level0 row2\" >86763</th>\n",
       "      <td id=\"T_1c72b_row2_col0\" class=\"data row2 col0\" >000613</td>\n",
       "      <td id=\"T_1c72b_row2_col1\" class=\"data row2 col1\" >2015-07-20 00:00:00</td>\n",
       "      <td id=\"T_1c72b_row2_col2\" class=\"data row2 col2\" >B1804</td>\n",
       "      <td id=\"T_1c72b_row2_col3\" class=\"data row2 col3\" >管理费率</td>\n",
       "      <td id=\"T_1c72b_row2_col4\" class=\"data row2 col4\" >0.5</td>\n",
       "    </tr>\n",
       "    <tr>\n",
       "      <th id=\"T_1c72b_level0_row3\" class=\"row_heading level0 row3\" >86765</th>\n",
       "      <td id=\"T_1c72b_row3_col0\" class=\"data row3 col0\" >000613</td>\n",
       "      <td id=\"T_1c72b_row3_col1\" class=\"data row3 col1\" >2015-07-20 00:00:00</td>\n",
       "      <td id=\"T_1c72b_row3_col2\" class=\"data row3 col2\" >B1804</td>\n",
       "      <td id=\"T_1c72b_row3_col3\" class=\"data row3 col3\" >管理费率</td>\n",
       "      <td id=\"T_1c72b_row3_col4\" class=\"data row3 col4\" >0.8</td>\n",
       "    </tr>\n",
       "    <tr>\n",
       "      <th id=\"T_1c72b_level0_row4\" class=\"row_heading level0 row4\" >86775</th>\n",
       "      <td id=\"T_1c72b_row4_col0\" class=\"data row4 col0\" >000613</td>\n",
       "      <td id=\"T_1c72b_row4_col1\" class=\"data row4 col1\" >2016-01-18 00:00:00</td>\n",
       "      <td id=\"T_1c72b_row4_col2\" class=\"data row4 col2\" >B1804</td>\n",
       "      <td id=\"T_1c72b_row4_col3\" class=\"data row4 col3\" >管理费率</td>\n",
       "      <td id=\"T_1c72b_row4_col4\" class=\"data row4 col4\" >0.5</td>\n",
       "    </tr>\n",
       "    <tr>\n",
       "      <th id=\"T_1c72b_level0_row5\" class=\"row_heading level0 row5\" >86777</th>\n",
       "      <td id=\"T_1c72b_row5_col0\" class=\"data row5 col0\" >000613</td>\n",
       "      <td id=\"T_1c72b_row5_col1\" class=\"data row5 col1\" >2016-01-18 00:00:00</td>\n",
       "      <td id=\"T_1c72b_row5_col2\" class=\"data row5 col2\" >B1804</td>\n",
       "      <td id=\"T_1c72b_row5_col3\" class=\"data row5 col3\" >管理费率</td>\n",
       "      <td id=\"T_1c72b_row5_col4\" class=\"data row5 col4\" >0.8</td>\n",
       "    </tr>\n",
       "    <tr>\n",
       "      <th id=\"T_1c72b_level0_row6\" class=\"row_heading level0 row6\" >87636</th>\n",
       "      <td id=\"T_1c72b_row6_col0\" class=\"data row6 col0\" >000619</td>\n",
       "      <td id=\"T_1c72b_row6_col1\" class=\"data row6 col1\" >2016-01-15 00:00:00</td>\n",
       "      <td id=\"T_1c72b_row6_col2\" class=\"data row6 col2\" >B1804</td>\n",
       "      <td id=\"T_1c72b_row6_col3\" class=\"data row6 col3\" >管理费率</td>\n",
       "      <td id=\"T_1c72b_row6_col4\" class=\"data row6 col4\" >2.5</td>\n",
       "    </tr>\n",
       "    <tr>\n",
       "      <th id=\"T_1c72b_level0_row7\" class=\"row_heading level0 row7\" >87648</th>\n",
       "      <td id=\"T_1c72b_row7_col0\" class=\"data row7 col0\" >000619</td>\n",
       "      <td id=\"T_1c72b_row7_col1\" class=\"data row7 col1\" >2016-01-15 00:00:00</td>\n",
       "      <td id=\"T_1c72b_row7_col2\" class=\"data row7 col2\" >B1804</td>\n",
       "      <td id=\"T_1c72b_row7_col3\" class=\"data row7 col3\" >管理费率</td>\n",
       "      <td id=\"T_1c72b_row7_col4\" class=\"data row7 col4\" >1.5</td>\n",
       "    </tr>\n",
       "    <tr>\n",
       "      <th id=\"T_1c72b_level0_row8\" class=\"row_heading level0 row8\" >98290</th>\n",
       "      <td id=\"T_1c72b_row8_col0\" class=\"data row8 col0\" >000708</td>\n",
       "      <td id=\"T_1c72b_row8_col1\" class=\"data row8 col1\" >2016-03-08 00:00:00</td>\n",
       "      <td id=\"T_1c72b_row8_col2\" class=\"data row8 col2\" >B1804</td>\n",
       "      <td id=\"T_1c72b_row8_col3\" class=\"data row8 col3\" >管理费率</td>\n",
       "      <td id=\"T_1c72b_row8_col4\" class=\"data row8 col4\" >0.7</td>\n",
       "    </tr>\n",
       "    <tr>\n",
       "      <th id=\"T_1c72b_level0_row9\" class=\"row_heading level0 row9\" >98302</th>\n",
       "      <td id=\"T_1c72b_row9_col0\" class=\"data row9 col0\" >000708</td>\n",
       "      <td id=\"T_1c72b_row9_col1\" class=\"data row9 col1\" >2016-03-08 00:00:00</td>\n",
       "      <td id=\"T_1c72b_row9_col2\" class=\"data row9 col2\" >B1804</td>\n",
       "      <td id=\"T_1c72b_row9_col3\" class=\"data row9 col3\" >管理费率</td>\n",
       "      <td id=\"T_1c72b_row9_col4\" class=\"data row9 col4\" >1.5</td>\n",
       "    </tr>\n",
       "  </tbody>\n",
       "</table>\n"
      ],
      "text/plain": [
       "<pandas.io.formats.style.Styler at 0x16fd29b3250>"
      ]
     },
     "execution_count": 149,
     "metadata": {},
     "output_type": "execute_result"
    }
   ],
   "source": [
    "duplicated_fees.head(10).style.apply(\\\n",
    "    lambda x : ['background-color: yellow' if x.name in [86751, 86763, 86775, 87636, 98290] else '' for _ in x], axis=1)"
   ]
  },
  {
   "cell_type": "markdown",
   "metadata": {},
   "source": [
    "![](attachment/fees.png)"
   ]
  },
  {
   "cell_type": "code",
   "execution_count": 151,
   "metadata": {},
   "outputs": [],
   "source": [
    "fees_ = fees[fees.NameOfFee == '管理费率'][~ fees[fees.NameOfFee == '管理费率'][['Symbol', 'DeclareDate']].duplicated()]\n",
    "fees_['Symbol'] = fees_.Symbol.astype(int)\n",
    "fees_['ProportionOfFee'] = fees_.ProportionOfFee.astype(float)"
   ]
  },
  {
   "cell_type": "code",
   "execution_count": 152,
   "metadata": {},
   "outputs": [
    {
     "data": {
      "text/html": [
       "<div>\n",
       "<style scoped>\n",
       "    .dataframe tbody tr th:only-of-type {\n",
       "        vertical-align: middle;\n",
       "    }\n",
       "\n",
       "    .dataframe tbody tr th {\n",
       "        vertical-align: top;\n",
       "    }\n",
       "\n",
       "    .dataframe thead th {\n",
       "        text-align: right;\n",
       "    }\n",
       "</style>\n",
       "<table border=\"1\" class=\"dataframe\">\n",
       "  <thead>\n",
       "    <tr style=\"text-align: right;\">\n",
       "      <th>Symbol</th>\n",
       "      <th>1</th>\n",
       "      <th>3</th>\n",
       "      <th>4</th>\n",
       "      <th>5</th>\n",
       "      <th>6</th>\n",
       "      <th>7</th>\n",
       "      <th>8</th>\n",
       "      <th>9</th>\n",
       "      <th>10</th>\n",
       "      <th>11</th>\n",
       "      <th>...</th>\n",
       "      <th>970180</th>\n",
       "      <th>970182</th>\n",
       "      <th>970184</th>\n",
       "      <th>970185</th>\n",
       "      <th>970187</th>\n",
       "      <th>970191</th>\n",
       "      <th>970193</th>\n",
       "      <th>970194</th>\n",
       "      <th>970195</th>\n",
       "      <th>980003</th>\n",
       "    </tr>\n",
       "    <tr>\n",
       "      <th>DeclareDate</th>\n",
       "      <th></th>\n",
       "      <th></th>\n",
       "      <th></th>\n",
       "      <th></th>\n",
       "      <th></th>\n",
       "      <th></th>\n",
       "      <th></th>\n",
       "      <th></th>\n",
       "      <th></th>\n",
       "      <th></th>\n",
       "      <th></th>\n",
       "      <th></th>\n",
       "      <th></th>\n",
       "      <th></th>\n",
       "      <th></th>\n",
       "      <th></th>\n",
       "      <th></th>\n",
       "      <th></th>\n",
       "      <th></th>\n",
       "      <th></th>\n",
       "      <th></th>\n",
       "    </tr>\n",
       "  </thead>\n",
       "  <tbody>\n",
       "    <tr>\n",
       "      <th>2003-05-21</th>\n",
       "      <td>NaN</td>\n",
       "      <td>NaN</td>\n",
       "      <td>NaN</td>\n",
       "      <td>NaN</td>\n",
       "      <td>NaN</td>\n",
       "      <td>NaN</td>\n",
       "      <td>NaN</td>\n",
       "      <td>NaN</td>\n",
       "      <td>NaN</td>\n",
       "      <td>NaN</td>\n",
       "      <td>...</td>\n",
       "      <td>NaN</td>\n",
       "      <td>NaN</td>\n",
       "      <td>NaN</td>\n",
       "      <td>NaN</td>\n",
       "      <td>NaN</td>\n",
       "      <td>NaN</td>\n",
       "      <td>NaN</td>\n",
       "      <td>NaN</td>\n",
       "      <td>NaN</td>\n",
       "      <td>NaN</td>\n",
       "    </tr>\n",
       "    <tr>\n",
       "      <th>2004-12-17</th>\n",
       "      <td>NaN</td>\n",
       "      <td>NaN</td>\n",
       "      <td>NaN</td>\n",
       "      <td>NaN</td>\n",
       "      <td>NaN</td>\n",
       "      <td>NaN</td>\n",
       "      <td>NaN</td>\n",
       "      <td>NaN</td>\n",
       "      <td>NaN</td>\n",
       "      <td>NaN</td>\n",
       "      <td>...</td>\n",
       "      <td>NaN</td>\n",
       "      <td>NaN</td>\n",
       "      <td>NaN</td>\n",
       "      <td>NaN</td>\n",
       "      <td>NaN</td>\n",
       "      <td>NaN</td>\n",
       "      <td>NaN</td>\n",
       "      <td>NaN</td>\n",
       "      <td>NaN</td>\n",
       "      <td>NaN</td>\n",
       "    </tr>\n",
       "    <tr>\n",
       "      <th>2004-12-31</th>\n",
       "      <td>NaN</td>\n",
       "      <td>NaN</td>\n",
       "      <td>NaN</td>\n",
       "      <td>NaN</td>\n",
       "      <td>NaN</td>\n",
       "      <td>NaN</td>\n",
       "      <td>NaN</td>\n",
       "      <td>NaN</td>\n",
       "      <td>NaN</td>\n",
       "      <td>NaN</td>\n",
       "      <td>...</td>\n",
       "      <td>NaN</td>\n",
       "      <td>NaN</td>\n",
       "      <td>NaN</td>\n",
       "      <td>NaN</td>\n",
       "      <td>NaN</td>\n",
       "      <td>NaN</td>\n",
       "      <td>NaN</td>\n",
       "      <td>NaN</td>\n",
       "      <td>NaN</td>\n",
       "      <td>NaN</td>\n",
       "    </tr>\n",
       "    <tr>\n",
       "      <th>2005-06-07</th>\n",
       "      <td>NaN</td>\n",
       "      <td>NaN</td>\n",
       "      <td>NaN</td>\n",
       "      <td>NaN</td>\n",
       "      <td>NaN</td>\n",
       "      <td>NaN</td>\n",
       "      <td>NaN</td>\n",
       "      <td>NaN</td>\n",
       "      <td>NaN</td>\n",
       "      <td>NaN</td>\n",
       "      <td>...</td>\n",
       "      <td>NaN</td>\n",
       "      <td>NaN</td>\n",
       "      <td>NaN</td>\n",
       "      <td>NaN</td>\n",
       "      <td>NaN</td>\n",
       "      <td>NaN</td>\n",
       "      <td>NaN</td>\n",
       "      <td>NaN</td>\n",
       "      <td>NaN</td>\n",
       "      <td>NaN</td>\n",
       "    </tr>\n",
       "    <tr>\n",
       "      <th>2005-07-14</th>\n",
       "      <td>NaN</td>\n",
       "      <td>NaN</td>\n",
       "      <td>NaN</td>\n",
       "      <td>NaN</td>\n",
       "      <td>NaN</td>\n",
       "      <td>NaN</td>\n",
       "      <td>NaN</td>\n",
       "      <td>NaN</td>\n",
       "      <td>NaN</td>\n",
       "      <td>NaN</td>\n",
       "      <td>...</td>\n",
       "      <td>NaN</td>\n",
       "      <td>NaN</td>\n",
       "      <td>NaN</td>\n",
       "      <td>NaN</td>\n",
       "      <td>NaN</td>\n",
       "      <td>NaN</td>\n",
       "      <td>NaN</td>\n",
       "      <td>NaN</td>\n",
       "      <td>NaN</td>\n",
       "      <td>NaN</td>\n",
       "    </tr>\n",
       "    <tr>\n",
       "      <th>...</th>\n",
       "      <td>...</td>\n",
       "      <td>...</td>\n",
       "      <td>...</td>\n",
       "      <td>...</td>\n",
       "      <td>...</td>\n",
       "      <td>...</td>\n",
       "      <td>...</td>\n",
       "      <td>...</td>\n",
       "      <td>...</td>\n",
       "      <td>...</td>\n",
       "      <td>...</td>\n",
       "      <td>...</td>\n",
       "      <td>...</td>\n",
       "      <td>...</td>\n",
       "      <td>...</td>\n",
       "      <td>...</td>\n",
       "      <td>...</td>\n",
       "      <td>...</td>\n",
       "      <td>...</td>\n",
       "      <td>...</td>\n",
       "      <td>...</td>\n",
       "    </tr>\n",
       "    <tr>\n",
       "      <th>2022-09-15</th>\n",
       "      <td>NaN</td>\n",
       "      <td>NaN</td>\n",
       "      <td>NaN</td>\n",
       "      <td>NaN</td>\n",
       "      <td>NaN</td>\n",
       "      <td>NaN</td>\n",
       "      <td>NaN</td>\n",
       "      <td>NaN</td>\n",
       "      <td>NaN</td>\n",
       "      <td>NaN</td>\n",
       "      <td>...</td>\n",
       "      <td>NaN</td>\n",
       "      <td>NaN</td>\n",
       "      <td>NaN</td>\n",
       "      <td>NaN</td>\n",
       "      <td>NaN</td>\n",
       "      <td>NaN</td>\n",
       "      <td>NaN</td>\n",
       "      <td>NaN</td>\n",
       "      <td>NaN</td>\n",
       "      <td>NaN</td>\n",
       "    </tr>\n",
       "    <tr>\n",
       "      <th>2022-09-16</th>\n",
       "      <td>NaN</td>\n",
       "      <td>NaN</td>\n",
       "      <td>NaN</td>\n",
       "      <td>NaN</td>\n",
       "      <td>NaN</td>\n",
       "      <td>NaN</td>\n",
       "      <td>NaN</td>\n",
       "      <td>NaN</td>\n",
       "      <td>NaN</td>\n",
       "      <td>NaN</td>\n",
       "      <td>...</td>\n",
       "      <td>NaN</td>\n",
       "      <td>NaN</td>\n",
       "      <td>NaN</td>\n",
       "      <td>NaN</td>\n",
       "      <td>NaN</td>\n",
       "      <td>NaN</td>\n",
       "      <td>NaN</td>\n",
       "      <td>NaN</td>\n",
       "      <td>NaN</td>\n",
       "      <td>NaN</td>\n",
       "    </tr>\n",
       "    <tr>\n",
       "      <th>2022-09-17</th>\n",
       "      <td>NaN</td>\n",
       "      <td>NaN</td>\n",
       "      <td>NaN</td>\n",
       "      <td>NaN</td>\n",
       "      <td>NaN</td>\n",
       "      <td>NaN</td>\n",
       "      <td>NaN</td>\n",
       "      <td>NaN</td>\n",
       "      <td>NaN</td>\n",
       "      <td>NaN</td>\n",
       "      <td>...</td>\n",
       "      <td>NaN</td>\n",
       "      <td>NaN</td>\n",
       "      <td>NaN</td>\n",
       "      <td>NaN</td>\n",
       "      <td>NaN</td>\n",
       "      <td>NaN</td>\n",
       "      <td>NaN</td>\n",
       "      <td>NaN</td>\n",
       "      <td>NaN</td>\n",
       "      <td>NaN</td>\n",
       "    </tr>\n",
       "    <tr>\n",
       "      <th>2022-09-19</th>\n",
       "      <td>NaN</td>\n",
       "      <td>NaN</td>\n",
       "      <td>NaN</td>\n",
       "      <td>NaN</td>\n",
       "      <td>NaN</td>\n",
       "      <td>NaN</td>\n",
       "      <td>NaN</td>\n",
       "      <td>NaN</td>\n",
       "      <td>NaN</td>\n",
       "      <td>NaN</td>\n",
       "      <td>...</td>\n",
       "      <td>NaN</td>\n",
       "      <td>NaN</td>\n",
       "      <td>NaN</td>\n",
       "      <td>NaN</td>\n",
       "      <td>NaN</td>\n",
       "      <td>NaN</td>\n",
       "      <td>NaN</td>\n",
       "      <td>NaN</td>\n",
       "      <td>NaN</td>\n",
       "      <td>NaN</td>\n",
       "    </tr>\n",
       "    <tr>\n",
       "      <th>2022-09-20</th>\n",
       "      <td>NaN</td>\n",
       "      <td>NaN</td>\n",
       "      <td>NaN</td>\n",
       "      <td>NaN</td>\n",
       "      <td>NaN</td>\n",
       "      <td>NaN</td>\n",
       "      <td>NaN</td>\n",
       "      <td>NaN</td>\n",
       "      <td>NaN</td>\n",
       "      <td>NaN</td>\n",
       "      <td>...</td>\n",
       "      <td>NaN</td>\n",
       "      <td>NaN</td>\n",
       "      <td>NaN</td>\n",
       "      <td>NaN</td>\n",
       "      <td>NaN</td>\n",
       "      <td>NaN</td>\n",
       "      <td>NaN</td>\n",
       "      <td>NaN</td>\n",
       "      <td>NaN</td>\n",
       "      <td>NaN</td>\n",
       "    </tr>\n",
       "  </tbody>\n",
       "</table>\n",
       "<p>4626 rows × 19484 columns</p>\n",
       "</div>"
      ],
      "text/plain": [
       "Symbol       1       3       4       5       6       7       8       9       \\\n",
       "DeclareDate                                                                   \n",
       "2003-05-21      NaN     NaN     NaN     NaN     NaN     NaN     NaN     NaN   \n",
       "2004-12-17      NaN     NaN     NaN     NaN     NaN     NaN     NaN     NaN   \n",
       "2004-12-31      NaN     NaN     NaN     NaN     NaN     NaN     NaN     NaN   \n",
       "2005-06-07      NaN     NaN     NaN     NaN     NaN     NaN     NaN     NaN   \n",
       "2005-07-14      NaN     NaN     NaN     NaN     NaN     NaN     NaN     NaN   \n",
       "...             ...     ...     ...     ...     ...     ...     ...     ...   \n",
       "2022-09-15      NaN     NaN     NaN     NaN     NaN     NaN     NaN     NaN   \n",
       "2022-09-16      NaN     NaN     NaN     NaN     NaN     NaN     NaN     NaN   \n",
       "2022-09-17      NaN     NaN     NaN     NaN     NaN     NaN     NaN     NaN   \n",
       "2022-09-19      NaN     NaN     NaN     NaN     NaN     NaN     NaN     NaN   \n",
       "2022-09-20      NaN     NaN     NaN     NaN     NaN     NaN     NaN     NaN   \n",
       "\n",
       "Symbol       10      11      ...  970180  970182  970184  970185  970187  \\\n",
       "DeclareDate                  ...                                           \n",
       "2003-05-21      NaN     NaN  ...     NaN     NaN     NaN     NaN     NaN   \n",
       "2004-12-17      NaN     NaN  ...     NaN     NaN     NaN     NaN     NaN   \n",
       "2004-12-31      NaN     NaN  ...     NaN     NaN     NaN     NaN     NaN   \n",
       "2005-06-07      NaN     NaN  ...     NaN     NaN     NaN     NaN     NaN   \n",
       "2005-07-14      NaN     NaN  ...     NaN     NaN     NaN     NaN     NaN   \n",
       "...             ...     ...  ...     ...     ...     ...     ...     ...   \n",
       "2022-09-15      NaN     NaN  ...     NaN     NaN     NaN     NaN     NaN   \n",
       "2022-09-16      NaN     NaN  ...     NaN     NaN     NaN     NaN     NaN   \n",
       "2022-09-17      NaN     NaN  ...     NaN     NaN     NaN     NaN     NaN   \n",
       "2022-09-19      NaN     NaN  ...     NaN     NaN     NaN     NaN     NaN   \n",
       "2022-09-20      NaN     NaN  ...     NaN     NaN     NaN     NaN     NaN   \n",
       "\n",
       "Symbol       970191  970193  970194  970195  980003  \n",
       "DeclareDate                                          \n",
       "2003-05-21      NaN     NaN     NaN     NaN     NaN  \n",
       "2004-12-17      NaN     NaN     NaN     NaN     NaN  \n",
       "2004-12-31      NaN     NaN     NaN     NaN     NaN  \n",
       "2005-06-07      NaN     NaN     NaN     NaN     NaN  \n",
       "2005-07-14      NaN     NaN     NaN     NaN     NaN  \n",
       "...             ...     ...     ...     ...     ...  \n",
       "2022-09-15      NaN     NaN     NaN     NaN     NaN  \n",
       "2022-09-16      NaN     NaN     NaN     NaN     NaN  \n",
       "2022-09-17      NaN     NaN     NaN     NaN     NaN  \n",
       "2022-09-19      NaN     NaN     NaN     NaN     NaN  \n",
       "2022-09-20      NaN     NaN     NaN     NaN     NaN  \n",
       "\n",
       "[4626 rows x 19484 columns]"
      ]
     },
     "execution_count": 152,
     "metadata": {},
     "output_type": "execute_result"
    }
   ],
   "source": [
    "fees_.pivot(index='DeclareDate', columns='Symbol', values='ProportionOfFee')"
   ]
  },
  {
   "cell_type": "markdown",
   "metadata": {},
   "source": [
    "#### Fund_MKT_QuotationMonth\n",
    "\n",
    "基金行情 — 基金月行情信息表"
   ]
  },
  {
   "cell_type": "code",
   "execution_count": 153,
   "metadata": {},
   "outputs": [
    {
     "data": {
      "text/html": [
       "<div>\n",
       "<style scoped>\n",
       "    .dataframe tbody tr th:only-of-type {\n",
       "        vertical-align: middle;\n",
       "    }\n",
       "\n",
       "    .dataframe tbody tr th {\n",
       "        vertical-align: top;\n",
       "    }\n",
       "\n",
       "    .dataframe thead th {\n",
       "        text-align: right;\n",
       "    }\n",
       "</style>\n",
       "<table border=\"1\" class=\"dataframe\">\n",
       "  <thead>\n",
       "    <tr style=\"text-align: right;\">\n",
       "      <th>Symbol</th>\n",
       "      <th>150001</th>\n",
       "      <th>150002</th>\n",
       "      <th>150003</th>\n",
       "      <th>150006</th>\n",
       "      <th>150007</th>\n",
       "      <th>150008</th>\n",
       "      <th>150009</th>\n",
       "      <th>150010</th>\n",
       "      <th>150011</th>\n",
       "      <th>150012</th>\n",
       "      <th>...</th>\n",
       "      <th>588180</th>\n",
       "      <th>588260</th>\n",
       "      <th>588280</th>\n",
       "      <th>588300</th>\n",
       "      <th>588310</th>\n",
       "      <th>588330</th>\n",
       "      <th>588360</th>\n",
       "      <th>588380</th>\n",
       "      <th>588390</th>\n",
       "      <th>588400</th>\n",
       "    </tr>\n",
       "    <tr>\n",
       "      <th>TradingDate</th>\n",
       "      <th></th>\n",
       "      <th></th>\n",
       "      <th></th>\n",
       "      <th></th>\n",
       "      <th></th>\n",
       "      <th></th>\n",
       "      <th></th>\n",
       "      <th></th>\n",
       "      <th></th>\n",
       "      <th></th>\n",
       "      <th></th>\n",
       "      <th></th>\n",
       "      <th></th>\n",
       "      <th></th>\n",
       "      <th></th>\n",
       "      <th></th>\n",
       "      <th></th>\n",
       "      <th></th>\n",
       "      <th></th>\n",
       "      <th></th>\n",
       "      <th></th>\n",
       "    </tr>\n",
       "  </thead>\n",
       "  <tbody>\n",
       "    <tr>\n",
       "      <th>2002-01-31</th>\n",
       "      <td>NaN</td>\n",
       "      <td>NaN</td>\n",
       "      <td>NaN</td>\n",
       "      <td>NaN</td>\n",
       "      <td>NaN</td>\n",
       "      <td>NaN</td>\n",
       "      <td>NaN</td>\n",
       "      <td>NaN</td>\n",
       "      <td>NaN</td>\n",
       "      <td>NaN</td>\n",
       "      <td>...</td>\n",
       "      <td>NaN</td>\n",
       "      <td>NaN</td>\n",
       "      <td>NaN</td>\n",
       "      <td>NaN</td>\n",
       "      <td>NaN</td>\n",
       "      <td>NaN</td>\n",
       "      <td>NaN</td>\n",
       "      <td>NaN</td>\n",
       "      <td>NaN</td>\n",
       "      <td>NaN</td>\n",
       "    </tr>\n",
       "    <tr>\n",
       "      <th>2002-02-28</th>\n",
       "      <td>NaN</td>\n",
       "      <td>NaN</td>\n",
       "      <td>NaN</td>\n",
       "      <td>NaN</td>\n",
       "      <td>NaN</td>\n",
       "      <td>NaN</td>\n",
       "      <td>NaN</td>\n",
       "      <td>NaN</td>\n",
       "      <td>NaN</td>\n",
       "      <td>NaN</td>\n",
       "      <td>...</td>\n",
       "      <td>NaN</td>\n",
       "      <td>NaN</td>\n",
       "      <td>NaN</td>\n",
       "      <td>NaN</td>\n",
       "      <td>NaN</td>\n",
       "      <td>NaN</td>\n",
       "      <td>NaN</td>\n",
       "      <td>NaN</td>\n",
       "      <td>NaN</td>\n",
       "      <td>NaN</td>\n",
       "    </tr>\n",
       "    <tr>\n",
       "      <th>2002-03-31</th>\n",
       "      <td>NaN</td>\n",
       "      <td>NaN</td>\n",
       "      <td>NaN</td>\n",
       "      <td>NaN</td>\n",
       "      <td>NaN</td>\n",
       "      <td>NaN</td>\n",
       "      <td>NaN</td>\n",
       "      <td>NaN</td>\n",
       "      <td>NaN</td>\n",
       "      <td>NaN</td>\n",
       "      <td>...</td>\n",
       "      <td>NaN</td>\n",
       "      <td>NaN</td>\n",
       "      <td>NaN</td>\n",
       "      <td>NaN</td>\n",
       "      <td>NaN</td>\n",
       "      <td>NaN</td>\n",
       "      <td>NaN</td>\n",
       "      <td>NaN</td>\n",
       "      <td>NaN</td>\n",
       "      <td>NaN</td>\n",
       "    </tr>\n",
       "    <tr>\n",
       "      <th>2002-04-30</th>\n",
       "      <td>NaN</td>\n",
       "      <td>NaN</td>\n",
       "      <td>NaN</td>\n",
       "      <td>NaN</td>\n",
       "      <td>NaN</td>\n",
       "      <td>NaN</td>\n",
       "      <td>NaN</td>\n",
       "      <td>NaN</td>\n",
       "      <td>NaN</td>\n",
       "      <td>NaN</td>\n",
       "      <td>...</td>\n",
       "      <td>NaN</td>\n",
       "      <td>NaN</td>\n",
       "      <td>NaN</td>\n",
       "      <td>NaN</td>\n",
       "      <td>NaN</td>\n",
       "      <td>NaN</td>\n",
       "      <td>NaN</td>\n",
       "      <td>NaN</td>\n",
       "      <td>NaN</td>\n",
       "      <td>NaN</td>\n",
       "    </tr>\n",
       "    <tr>\n",
       "      <th>2002-05-31</th>\n",
       "      <td>NaN</td>\n",
       "      <td>NaN</td>\n",
       "      <td>NaN</td>\n",
       "      <td>NaN</td>\n",
       "      <td>NaN</td>\n",
       "      <td>NaN</td>\n",
       "      <td>NaN</td>\n",
       "      <td>NaN</td>\n",
       "      <td>NaN</td>\n",
       "      <td>NaN</td>\n",
       "      <td>...</td>\n",
       "      <td>NaN</td>\n",
       "      <td>NaN</td>\n",
       "      <td>NaN</td>\n",
       "      <td>NaN</td>\n",
       "      <td>NaN</td>\n",
       "      <td>NaN</td>\n",
       "      <td>NaN</td>\n",
       "      <td>NaN</td>\n",
       "      <td>NaN</td>\n",
       "      <td>NaN</td>\n",
       "    </tr>\n",
       "    <tr>\n",
       "      <th>...</th>\n",
       "      <td>...</td>\n",
       "      <td>...</td>\n",
       "      <td>...</td>\n",
       "      <td>...</td>\n",
       "      <td>...</td>\n",
       "      <td>...</td>\n",
       "      <td>...</td>\n",
       "      <td>...</td>\n",
       "      <td>...</td>\n",
       "      <td>...</td>\n",
       "      <td>...</td>\n",
       "      <td>...</td>\n",
       "      <td>...</td>\n",
       "      <td>...</td>\n",
       "      <td>...</td>\n",
       "      <td>...</td>\n",
       "      <td>...</td>\n",
       "      <td>...</td>\n",
       "      <td>...</td>\n",
       "      <td>...</td>\n",
       "      <td>...</td>\n",
       "    </tr>\n",
       "    <tr>\n",
       "      <th>2022-05-31</th>\n",
       "      <td>NaN</td>\n",
       "      <td>NaN</td>\n",
       "      <td>NaN</td>\n",
       "      <td>NaN</td>\n",
       "      <td>NaN</td>\n",
       "      <td>NaN</td>\n",
       "      <td>NaN</td>\n",
       "      <td>NaN</td>\n",
       "      <td>NaN</td>\n",
       "      <td>NaN</td>\n",
       "      <td>...</td>\n",
       "      <td>1.415023e+09</td>\n",
       "      <td>612517158.0</td>\n",
       "      <td>169435476.0</td>\n",
       "      <td>1.537111e+09</td>\n",
       "      <td>69715874.31</td>\n",
       "      <td>1.108638e+09</td>\n",
       "      <td>529903033.8</td>\n",
       "      <td>1.760455e+09</td>\n",
       "      <td>3.396345e+08</td>\n",
       "      <td>1.741277e+09</td>\n",
       "    </tr>\n",
       "    <tr>\n",
       "      <th>2022-06-30</th>\n",
       "      <td>NaN</td>\n",
       "      <td>NaN</td>\n",
       "      <td>NaN</td>\n",
       "      <td>NaN</td>\n",
       "      <td>NaN</td>\n",
       "      <td>NaN</td>\n",
       "      <td>NaN</td>\n",
       "      <td>NaN</td>\n",
       "      <td>NaN</td>\n",
       "      <td>NaN</td>\n",
       "      <td>...</td>\n",
       "      <td>1.593988e+09</td>\n",
       "      <td>628683300.0</td>\n",
       "      <td>171393768.0</td>\n",
       "      <td>1.628788e+09</td>\n",
       "      <td>68074061.73</td>\n",
       "      <td>1.187620e+09</td>\n",
       "      <td>568109623.2</td>\n",
       "      <td>1.945783e+09</td>\n",
       "      <td>3.501681e+08</td>\n",
       "      <td>1.931127e+09</td>\n",
       "    </tr>\n",
       "    <tr>\n",
       "      <th>2022-07-31</th>\n",
       "      <td>NaN</td>\n",
       "      <td>NaN</td>\n",
       "      <td>NaN</td>\n",
       "      <td>NaN</td>\n",
       "      <td>NaN</td>\n",
       "      <td>NaN</td>\n",
       "      <td>NaN</td>\n",
       "      <td>NaN</td>\n",
       "      <td>NaN</td>\n",
       "      <td>NaN</td>\n",
       "      <td>...</td>\n",
       "      <td>1.573924e+09</td>\n",
       "      <td>594554778.0</td>\n",
       "      <td>169272558.0</td>\n",
       "      <td>1.573103e+09</td>\n",
       "      <td>65878124.25</td>\n",
       "      <td>1.144777e+09</td>\n",
       "      <td>547707896.4</td>\n",
       "      <td>1.870945e+09</td>\n",
       "      <td>3.377768e+08</td>\n",
       "      <td>1.869998e+09</td>\n",
       "    </tr>\n",
       "    <tr>\n",
       "      <th>2022-08-31</th>\n",
       "      <td>NaN</td>\n",
       "      <td>NaN</td>\n",
       "      <td>NaN</td>\n",
       "      <td>NaN</td>\n",
       "      <td>NaN</td>\n",
       "      <td>NaN</td>\n",
       "      <td>NaN</td>\n",
       "      <td>NaN</td>\n",
       "      <td>NaN</td>\n",
       "      <td>NaN</td>\n",
       "      <td>...</td>\n",
       "      <td>1.486979e+09</td>\n",
       "      <td>583777350.0</td>\n",
       "      <td>159939234.0</td>\n",
       "      <td>1.501176e+09</td>\n",
       "      <td>62891649.28</td>\n",
       "      <td>1.096792e+09</td>\n",
       "      <td>523382760.6</td>\n",
       "      <td>1.796107e+09</td>\n",
       "      <td>3.221730e+08</td>\n",
       "      <td>1.786640e+09</td>\n",
       "    </tr>\n",
       "    <tr>\n",
       "      <th>2022-09-30</th>\n",
       "      <td>NaN</td>\n",
       "      <td>NaN</td>\n",
       "      <td>NaN</td>\n",
       "      <td>NaN</td>\n",
       "      <td>NaN</td>\n",
       "      <td>NaN</td>\n",
       "      <td>NaN</td>\n",
       "      <td>NaN</td>\n",
       "      <td>NaN</td>\n",
       "      <td>NaN</td>\n",
       "      <td>...</td>\n",
       "      <td>1.408952e+09</td>\n",
       "      <td>562222494.0</td>\n",
       "      <td>151242273.0</td>\n",
       "      <td>1.396767e+09</td>\n",
       "      <td>58675449.33</td>\n",
       "      <td>1.021388e+09</td>\n",
       "      <td>487287397.8</td>\n",
       "      <td>1.668606e+09</td>\n",
       "      <td>2.996851e+08</td>\n",
       "      <td>1.661603e+09</td>\n",
       "    </tr>\n",
       "  </tbody>\n",
       "</table>\n",
       "<p>249 rows × 1687 columns</p>\n",
       "</div>"
      ],
      "text/plain": [
       "Symbol       150001  150002  150003  150006  150007  150008  150009  150010  \\\n",
       "TradingDate                                                                   \n",
       "2002-01-31      NaN     NaN     NaN     NaN     NaN     NaN     NaN     NaN   \n",
       "2002-02-28      NaN     NaN     NaN     NaN     NaN     NaN     NaN     NaN   \n",
       "2002-03-31      NaN     NaN     NaN     NaN     NaN     NaN     NaN     NaN   \n",
       "2002-04-30      NaN     NaN     NaN     NaN     NaN     NaN     NaN     NaN   \n",
       "2002-05-31      NaN     NaN     NaN     NaN     NaN     NaN     NaN     NaN   \n",
       "...             ...     ...     ...     ...     ...     ...     ...     ...   \n",
       "2022-05-31      NaN     NaN     NaN     NaN     NaN     NaN     NaN     NaN   \n",
       "2022-06-30      NaN     NaN     NaN     NaN     NaN     NaN     NaN     NaN   \n",
       "2022-07-31      NaN     NaN     NaN     NaN     NaN     NaN     NaN     NaN   \n",
       "2022-08-31      NaN     NaN     NaN     NaN     NaN     NaN     NaN     NaN   \n",
       "2022-09-30      NaN     NaN     NaN     NaN     NaN     NaN     NaN     NaN   \n",
       "\n",
       "Symbol       150011  150012  ...        588180       588260       588280  \\\n",
       "TradingDate                  ...                                           \n",
       "2002-01-31      NaN     NaN  ...           NaN          NaN          NaN   \n",
       "2002-02-28      NaN     NaN  ...           NaN          NaN          NaN   \n",
       "2002-03-31      NaN     NaN  ...           NaN          NaN          NaN   \n",
       "2002-04-30      NaN     NaN  ...           NaN          NaN          NaN   \n",
       "2002-05-31      NaN     NaN  ...           NaN          NaN          NaN   \n",
       "...             ...     ...  ...           ...          ...          ...   \n",
       "2022-05-31      NaN     NaN  ...  1.415023e+09  612517158.0  169435476.0   \n",
       "2022-06-30      NaN     NaN  ...  1.593988e+09  628683300.0  171393768.0   \n",
       "2022-07-31      NaN     NaN  ...  1.573924e+09  594554778.0  169272558.0   \n",
       "2022-08-31      NaN     NaN  ...  1.486979e+09  583777350.0  159939234.0   \n",
       "2022-09-30      NaN     NaN  ...  1.408952e+09  562222494.0  151242273.0   \n",
       "\n",
       "Symbol             588300       588310        588330       588360  \\\n",
       "TradingDate                                                         \n",
       "2002-01-31            NaN          NaN           NaN          NaN   \n",
       "2002-02-28            NaN          NaN           NaN          NaN   \n",
       "2002-03-31            NaN          NaN           NaN          NaN   \n",
       "2002-04-30            NaN          NaN           NaN          NaN   \n",
       "2002-05-31            NaN          NaN           NaN          NaN   \n",
       "...                   ...          ...           ...          ...   \n",
       "2022-05-31   1.537111e+09  69715874.31  1.108638e+09  529903033.8   \n",
       "2022-06-30   1.628788e+09  68074061.73  1.187620e+09  568109623.2   \n",
       "2022-07-31   1.573103e+09  65878124.25  1.144777e+09  547707896.4   \n",
       "2022-08-31   1.501176e+09  62891649.28  1.096792e+09  523382760.6   \n",
       "2022-09-30   1.396767e+09  58675449.33  1.021388e+09  487287397.8   \n",
       "\n",
       "Symbol             588380        588390        588400  \n",
       "TradingDate                                            \n",
       "2002-01-31            NaN           NaN           NaN  \n",
       "2002-02-28            NaN           NaN           NaN  \n",
       "2002-03-31            NaN           NaN           NaN  \n",
       "2002-04-30            NaN           NaN           NaN  \n",
       "2002-05-31            NaN           NaN           NaN  \n",
       "...                   ...           ...           ...  \n",
       "2022-05-31   1.760455e+09  3.396345e+08  1.741277e+09  \n",
       "2022-06-30   1.945783e+09  3.501681e+08  1.931127e+09  \n",
       "2022-07-31   1.870945e+09  3.377768e+08  1.869998e+09  \n",
       "2022-08-31   1.796107e+09  3.221730e+08  1.786640e+09  \n",
       "2022-09-30   1.668606e+09  2.996851e+08  1.661603e+09  \n",
       "\n",
       "[249 rows x 1687 columns]"
      ]
     },
     "execution_count": 153,
     "metadata": {},
     "output_type": "execute_result"
    }
   ],
   "source": [
    "mkt_month_ = mkt_month.pivot(index='TradingDate', columns='Symbol', values='MarketValue').resample('1M').last()\n",
    "mkt_month_"
   ]
  },
  {
   "cell_type": "markdown",
   "metadata": {},
   "source": [
    "## I. Filter data"
   ]
  },
  {
   "cell_type": "markdown",
   "metadata": {},
   "source": [
    "（1）基金类别必须为“股票型基金”或“混合型基金”；\n",
    "\n",
    "（2）非 ETF 类基金；\n",
    "\n",
    "（3）非 QDII 类基金；\n",
    "\n",
    "（4）主动管理标识为 1 或者为空；"
   ]
  },
  {
   "cell_type": "markdown",
   "metadata": {},
   "source": [
    "### erratum"
   ]
  },
  {
   "cell_type": "code",
   "execution_count": 3,
   "metadata": {},
   "outputs": [
    {
     "name": "stdout",
     "output_type": "stream",
     "text": [
      "CPU times: user 12.3 s, sys: 503 ms, total: 12.8 s\n",
      "Wall time: 12.9 s\n"
     ]
    },
    {
     "data": {
      "text/plain": [
       "(7122, 10589, 11136, 9452, 10025, 6877)"
      ]
     },
     "execution_count": 3,
     "metadata": {},
     "output_type": "execute_result"
    }
   ],
   "source": [
    "%%time\n",
    "\n",
    "# (1)\n",
    "# Category [基金类别] - 股票型基金；债券型基金；货币型基金；混合型基金；FOF；股指期货型基金；其他\n",
    "# TODO: why duplicated?\n",
    "# ? duplicated MasterFundCode with different actual name\n",
    "# check with `maininfo.loc[condition_1[condition_1.duplicated(keep=False)].index]`\n",
    "condition_1 = maininfo[np.logical_or(maininfo.Category == '股票型基金', maininfo.Category == '混合型基金')].MasterFundCode.unique()\n",
    "\n",
    "# (2)\n",
    "# IsETF [是否ETF] - 1=是；2=否\n",
    "condition_2 = maininfo[maininfo.IsETF == 2].MasterFundCode.unique()\n",
    "\n",
    "# (3)\n",
    "# IsQDII [是否QDII] - 1=是；2=否\n",
    "condition_3 = maininfo[maininfo.IsQDII == 2].MasterFundCode.unique()\n",
    "\n",
    "# (4)\n",
    "# IsActiveOrPassive [主动标识] - 1=主动；2=被动\n",
    "condition_4 = maininfo[maininfo.IsActiveOrPassive != 2].MasterFundCode.unique()\n",
    "\n",
    "# (5)\n",
    "# TODO: `上市日期` or `发行日期`\n",
    "# TODO: 3 steps\n",
    "\n",
    "# * `上市日期` 超过1年\n",
    "# note, `MasterFundCode` in `unitclassinfo` is `Symbol` column\n",
    "condition_5_ = unitclassinfo[(pd.Timestamp.now() - unitclassinfo.ListingDate).apply(lambda timedelta: timedelta.days>365)].Symbol.unique()\n",
    "# len(condition_5_) -> 703\n",
    "\n",
    "# * `发行日期` 超过1年\n",
    "condition_5__ = maininfo[(pd.Timestamp.now() - maininfo.InceptionDate).apply(lambda timedelta: timedelta.days>365)].MasterFundCode.unique()\n",
    "# len(condition_5__) -> 2782\n",
    "\n",
    "# * `上市日期` 或 `发行日期` 超过1年\n",
    "condition_5 = np.array(list(set(np.concatenate([condition_5_, condition_5__]))))\n",
    "# len(condition_5) -> 3122\n",
    "\n",
    "\n",
    "# (6)\n",
    "# ! CSMAR do not have `mainland && stock in portfolio proportion` data, we have to calculate it manually\n",
    "# ! the most similar data is `areaclass`, but only cover 170 funds\n",
    "# areaclass = pd.read_csv('data/FUND_AREACLASS.csv')\n",
    "# print(len(areaclass.groupby('MasterFundCode').apply(lambda x: 0)))\n",
    "\n",
    "# ReportTypeID [定期报告类别编码] - 1－第一季度；2－第二季度；3－第三季度；4－第四季度；5－半年度；6－年度；7－其他周期\n",
    "# Startdate [开始日期] - \n",
    "# EndDate [截止日期] - \n",
    "# InvestmentType [投资类型分类] - 1=积极投资； 2=指数投资；3=综合；4=新股型。\n",
    "# Rank [排名]\n",
    "# Symbol [股票代码]\n",
    "# StockName [股票名称]\n",
    "# Proportion [占净值比例(%)]\n",
    "\n",
    "# TODO: Symbol v.s. MasterFundCode\n",
    "# TODO: how many mutual funds total?\n",
    "# TODO: why `len(condition_6)` so small?\n",
    "# filter the last report period\n",
    "last_report_period_portfolio_stock = portfolio_stock.groupby('MasterFundCode')\\\n",
    "    .apply(lambda one_code: one_code[one_code.EndDate == one_code.EndDate.iloc[-1]])\\\n",
    "        .set_index('MasterFundCode')\n",
    "\n",
    "portfolio_stock_ = last_report_period_portfolio_stock\n",
    "\n",
    "\n",
    "# filter China mainland stock\n",
    "mainland_code = '6\\d{5}|9\\d{5}|0\\d{5}|2\\d{5}|3\\d{5}|8\\d{5}|4\\d{5}'\n",
    "last_report_period_portfolio_mainland_stock = portfolio_stock_[\\\n",
    "    portfolio_stock_.Symbol.apply(lambda code: True if re.match(mainland_code, code) else False)]\n",
    "\n",
    "portfolio_stock__ = last_report_period_portfolio_mainland_stock\n",
    "\n",
    "# ! 576 annual report only\n",
    "# code_series = portfolio_stock__.groupby(level=0)\\\n",
    "#     .apply(lambda one_code: True if one_code[one_code.ReportTypeID == 6].Proportion.sum() > .3 else False)\n",
    "\n",
    "# sum annual report proportion and compare with 30%\n",
    "code_series = portfolio_stock__.groupby(level=0)\\\n",
    "    .apply(lambda one_code: True if one_code[\\\n",
    "        np.logical_or(one_code.ReportTypeID == 6, one_code.ReportTypeID == 5)]\\\n",
    "            .Proportion.sum() > .3 else False)\n",
    "\n",
    "condition_6 = code_series[code_series].index.values\n",
    "\n",
    "len(condition_1), len(condition_2), len(condition_3), len(condition_4), len(condition_5), len(condition_6)"
   ]
  },
  {
   "cell_type": "code",
   "execution_count": 4,
   "metadata": {},
   "outputs": [
    {
     "data": {
      "text/plain": [
       "(array([     6,     11,     17, ..., 970043, 970048, 970068]), 4411)"
      ]
     },
     "execution_count": 4,
     "metadata": {},
     "output_type": "execute_result"
    }
   ],
   "source": [
    "fund_codes = reduce(np.intersect1d, [condition_1, condition_2, condition_3, condition_4, condition_5, condition_6])\n",
    "fund_codes, len(fund_codes)"
   ]
  },
  {
   "cell_type": "markdown",
   "metadata": {},
   "source": [
    "$$\n",
    "R_t^{real}=\\frac{\\left(NAV_t+Div_t\\right)*SF_t}{NAV_{t-1}*SF_{t-1}}\n",
    "$$\n",
    "\n",
    "$NAV_t$ 基金在 $t$ 月末的基金净值\n",
    "\n",
    "$Div_t$ 在 $t$ 月中发放的现金分红\n",
    "\n",
    "$SF_t$ 累计拆分因子"
   ]
  },
  {
   "cell_type": "code",
   "execution_count": 155,
   "metadata": {},
   "outputs": [
    {
     "name": "stdout",
     "output_type": "stream",
     "text": [
      "(248, 18917)\n"
     ]
    },
    {
     "ename": "NameError",
     "evalue": "name 'fund_codes' is not defined",
     "output_type": "error",
     "traceback": [
      "\u001b[1;31m---------------------------------------------------------------------------\u001b[0m",
      "\u001b[1;31mNameError\u001b[0m                                 Traceback (most recent call last)",
      "File \u001b[1;32m<timed exec>:59\u001b[0m, in \u001b[0;36m<module>\u001b[1;34m\u001b[0m\n",
      "\u001b[1;31mNameError\u001b[0m: name 'fund_codes' is not defined"
     ]
    }
   ],
   "source": [
    "%%time\n",
    "\n",
    "# TODO: 872018, 872020 not in `fund_dividend` but in `fund_codes`\n",
    "# maininfo[maininfo.MasterFundCode == 872020]\n",
    "# fund_dividend[fund_dividend.Symbol == 872020]\n",
    "\n",
    "# * ------------ NAV_t+Div_t start ------------\n",
    "\n",
    "ExDividendDate = fund_dividend.PrimaryExDividendDate.dt.strftime('%Y-%m').copy()\n",
    "ExDividendDate.name = 'ExDividendMonth'\n",
    "ExDividendDate[ExDividendDate.isnull()] = fund_dividend.SecondaryExDividendDate[ExDividendDate.isnull()].dt.strftime('%Y-%m').copy()\n",
    "\n",
    "# * dividend paid multiple times in one month\n",
    "# check with\n",
    "# `fund_dividend.groupby(['Symbol', ExDividendDate]).apply(lambda one_month: print(one_month) if len(one_month) != 1 else one_month.DividendperShare.sum())`\n",
    "dividend = fund_dividend.groupby(['Symbol', ExDividendDate]).apply(lambda one_month: one_month.DividendperShare.sum())\n",
    "\n",
    "nav = nav_month.copy().set_index(['Symbol', 'TradingMonth']).NAV\n",
    "co_time = np.intersect1d(dividend.index, nav.index)\n",
    "\n",
    "dividend_adj_nav = nav.copy()\n",
    "dividend_adj_nav.loc[co_time] += dividend.loc[co_time] / 10\n",
    "\n",
    "# * ------------ NAV_t+Div_t end ------------\n",
    "\n",
    "\n",
    "\n",
    "# * ------------ (NAV_t+Div_t)*SF_t start ------------\n",
    "\n",
    "split = resolution.set_index(['Symbol', resolution.DeclareDate.dt.strftime('%Y-%m')]).copy().SplitRatio\n",
    "\n",
    "# * split multiple times in one month\n",
    "# check with `split[split.index.duplicated(keep=False)]`\n",
    "split = split.groupby(level=[0, 1]).apply(sum)\n",
    "\n",
    "# ? after the end of net value record, split may happens\n",
    "# check with\n",
    "# np.setdiff1d(split.index, dividend_adj_nav.index)\n",
    "# dividend_adj_nav.unstack(0)[162109].plot()\n",
    "# dividend_adj_nav.unstack(0)[184689].plot()\n",
    "# ...\n",
    "split = split.drop(np.setdiff1d(split.index, dividend_adj_nav.index))\n",
    "\n",
    "dividend_adj_nav.loc[split.index] *= split\n",
    "\n",
    "# * ------------ (NAV_t+Div_t)*SF_t end ------------\n",
    "\n",
    "\n",
    "\n",
    "# * ------------ R_t^{real} ------------\n",
    "\n",
    "nav.loc[split.index] *= split\n",
    "\n",
    "r_t_real = dividend_adj_nav.unstack(0) / nav.unstack(0).shift(1)\n",
    "print(r_t_real.shape)\n",
    "\n",
    "# specify funds we use\n",
    "# ! in case: 872018, 872020 not in `fund_dividend` but in `fund_codes`\n",
    "# r_t_real = r_t_real[fund_codes]\n",
    "\n",
    "r_t_real = r_t_real[np.intersect1d(r_t_real.columns, fund_codes)]\n",
    "r_t_real.index = pd.to_datetime(r_t_real.index)\n",
    "print(r_t_real.shape)\n",
    "\n",
    "# * ------------ R_t^{real} ------------"
   ]
  },
  {
   "cell_type": "markdown",
   "metadata": {},
   "source": [
    "Additional\n",
    "\n",
    "(7) Check"
   ]
  },
  {
   "cell_type": "code",
   "execution_count": 156,
   "metadata": {},
   "outputs": [
    {
     "data": {
      "image/png": "[encoded data removed]",
      "text/plain": [
       "<Figure size 1440x432 with 1 Axes>"
      ]
     },
     "metadata": {
      "needs_background": "light"
     },
     "output_type": "display_data"
    }
   ],
   "source": [
    "\n",
    "# TODO: why 1.4?\n",
    "possible_errors = r_t_real.columns[(np.abs(r_t_real) > 1.4).any()]\n",
    "\n",
    "plt.figure(figsize=(20,6))\n",
    "this_code_nav = nav[nav.index.get_level_values(0) == possible_errors[0]]\n",
    "plt.scatter(this_code_nav.index.get_level_values(1), this_code_nav.values)\n",
    "plt.xticks(this_code_nav.index.get_level_values(1)[::15])\n",
    "pass"
   ]
  },
  {
   "cell_type": "code",
   "execution_count": 36,
   "metadata": {},
   "outputs": [],
   "source": [
    "r_t_real_ = r_t_real.drop(possible_errors, axis=1)\n",
    "pass"
   ]
  },
  {
   "cell_type": "code",
   "execution_count": 37,
   "metadata": {},
   "outputs": [],
   "source": [
    "stock_fund = np.intersect1d(maininfo[maininfo.Category == '股票型基金'].MasterFundCode.unique(), fund_codes)\n",
    "integrated_fund = np.intersect1d(maininfo[maininfo.Category == '混合型基金'].MasterFundCode.unique(), fund_codes)\n",
    "\n",
    "# TODO: in case use full range funds\n",
    "# stock_fund = maininfo[maininfo.Category == '股票型基金'].MasterFundCode.unique()\n",
    "# integrated_fund = maininfo[maininfo.Category == '混合型基金'].MasterFundCode.unique()"
   ]
  },
  {
   "cell_type": "code",
   "execution_count": 157,
   "metadata": {},
   "outputs": [
    {
     "ename": "AttributeError",
     "evalue": "'DataFrame' object has no attribute 'CategoryID'",
     "output_type": "error",
     "traceback": [
      "\u001b[1;31m---------------------------------------------------------------------------\u001b[0m",
      "\u001b[1;31mAttributeError\u001b[0m                            Traceback (most recent call last)",
      "\u001b[1;32mc:\\Users\\11633\\OneDrive\\Desktop\\Research\\公募基金管理是否有效\\main.ipynb Cell 82\u001b[0m in \u001b[0;36m<cell line: 7>\u001b[1;34m()\u001b[0m\n\u001b[0;32m      <a href='vscode-notebook-cell:/c%3A/Users/11633/OneDrive/Desktop/Research/%E5%85%AC%E5%8B%9F%E5%9F%BA%E9%87%91%E7%AE%A1%E7%90%86%E6%98%AF%E5%90%A6%E6%9C%89%E6%95%88/main.ipynb#Y125sZmlsZQ%3D%3D?line=0'>1</a>\u001b[0m \u001b[39m# SgnMonth [统计月份] - null\u001b[39;00m\n\u001b[0;32m      <a href='vscode-notebook-cell:/c%3A/Users/11633/OneDrive/Desktop/Research/%E5%85%AC%E5%8B%9F%E5%9F%BA%E9%87%91%E7%AE%A1%E7%90%86%E6%98%AF%E5%90%A6%E6%9C%89%E6%95%88/main.ipynb#Y125sZmlsZQ%3D%3D?line=1'>2</a>\u001b[0m \u001b[39m# CategoryID [基金类型编号] - 0:全部基金;1:股票型基金;2:债券型基金;3:货币型基金;4:混合型基金;5:FOF;6:商品期货型基金;7:REITs;8:其他;21:封闭式基金;22:开放式基金;31:场内基金;32:场外基金;40:ETF基金;50:LOF基金\u001b[39;00m\n\u001b[0;32m      <a href='vscode-notebook-cell:/c%3A/Users/11633/OneDrive/Desktop/Research/%E5%85%AC%E5%8B%9F%E5%9F%BA%E9%87%91%E7%AE%A1%E7%90%86%E6%98%AF%E5%90%A6%E6%9C%89%E6%95%88/main.ipynb#Y125sZmlsZQ%3D%3D?line=2'>3</a>\u001b[0m \u001b[39m# TotalFundNAV [基金总资产净值] - 对应类型的所有基金的总资产净值\u001b[39;00m\n\u001b[0;32m      <a href='vscode-notebook-cell:/c%3A/Users/11633/OneDrive/Desktop/Research/%E5%85%AC%E5%8B%9F%E5%9F%BA%E9%87%91%E7%AE%A1%E7%90%86%E6%98%AF%E5%90%A6%E6%9C%89%E6%95%88/main.ipynb#Y125sZmlsZQ%3D%3D?line=3'>4</a>\u001b[0m \n\u001b[0;32m      <a href='vscode-notebook-cell:/c%3A/Users/11633/OneDrive/Desktop/Research/%E5%85%AC%E5%8B%9F%E5%9F%BA%E9%87%91%E7%AE%A1%E7%90%86%E6%98%AF%E5%90%A6%E6%9C%89%E6%95%88/main.ipynb#Y125sZmlsZQ%3D%3D?line=4'>5</a>\u001b[0m \u001b[39m# TODO: 不一致\u001b[39;00m\n\u001b[1;32m----> <a href='vscode-notebook-cell:/c%3A/Users/11633/OneDrive/Desktop/Research/%E5%85%AC%E5%8B%9F%E5%9F%BA%E9%87%91%E7%AE%A1%E7%90%86%E6%98%AF%E5%90%A6%E6%9C%89%E6%95%88/main.ipynb#Y125sZmlsZQ%3D%3D?line=6'>7</a>\u001b[0m stock_mkt_month \u001b[39m=\u001b[39m mkt_month[mkt_month\u001b[39m.\u001b[39;49mCategoryID \u001b[39m==\u001b[39m \u001b[39m1\u001b[39m]\u001b[39m.\u001b[39mresample(\u001b[39m'\u001b[39m\u001b[39m12M\u001b[39m\u001b[39m'\u001b[39m)\u001b[39m.\u001b[39mmean()\n\u001b[0;32m      <a href='vscode-notebook-cell:/c%3A/Users/11633/OneDrive/Desktop/Research/%E5%85%AC%E5%8B%9F%E5%9F%BA%E9%87%91%E7%AE%A1%E7%90%86%E6%98%AF%E5%90%A6%E6%9C%89%E6%95%88/main.ipynb#Y125sZmlsZQ%3D%3D?line=7'>8</a>\u001b[0m mixed_mkt_month \u001b[39m=\u001b[39m mkt_month[mkt_month\u001b[39m.\u001b[39mCategoryID \u001b[39m==\u001b[39m \u001b[39m4\u001b[39m]\u001b[39m.\u001b[39mresample(\u001b[39m'\u001b[39m\u001b[39m12M\u001b[39m\u001b[39m'\u001b[39m)\u001b[39m.\u001b[39mmean()\n\u001b[0;32m      <a href='vscode-notebook-cell:/c%3A/Users/11633/OneDrive/Desktop/Research/%E5%85%AC%E5%8B%9F%E5%9F%BA%E9%87%91%E7%AE%A1%E7%90%86%E6%98%AF%E5%90%A6%E6%9C%89%E6%95%88/main.ipynb#Y125sZmlsZQ%3D%3D?line=8'>9</a>\u001b[0m fig, ax1 \u001b[39m=\u001b[39m plt\u001b[39m.\u001b[39msubplots()\n",
      "File \u001b[1;32mc:\\Users\\11633\\AppData\\Local\\Programs\\Python\\Python310\\lib\\site-packages\\pandas\\core\\generic.py:5575\u001b[0m, in \u001b[0;36mNDFrame.__getattr__\u001b[1;34m(self, name)\u001b[0m\n\u001b[0;32m   5568\u001b[0m \u001b[39mif\u001b[39;00m (\n\u001b[0;32m   5569\u001b[0m     name \u001b[39mnot\u001b[39;00m \u001b[39min\u001b[39;00m \u001b[39mself\u001b[39m\u001b[39m.\u001b[39m_internal_names_set\n\u001b[0;32m   5570\u001b[0m     \u001b[39mand\u001b[39;00m name \u001b[39mnot\u001b[39;00m \u001b[39min\u001b[39;00m \u001b[39mself\u001b[39m\u001b[39m.\u001b[39m_metadata\n\u001b[0;32m   5571\u001b[0m     \u001b[39mand\u001b[39;00m name \u001b[39mnot\u001b[39;00m \u001b[39min\u001b[39;00m \u001b[39mself\u001b[39m\u001b[39m.\u001b[39m_accessors\n\u001b[0;32m   5572\u001b[0m     \u001b[39mand\u001b[39;00m \u001b[39mself\u001b[39m\u001b[39m.\u001b[39m_info_axis\u001b[39m.\u001b[39m_can_hold_identifiers_and_holds_name(name)\n\u001b[0;32m   5573\u001b[0m ):\n\u001b[0;32m   5574\u001b[0m     \u001b[39mreturn\u001b[39;00m \u001b[39mself\u001b[39m[name]\n\u001b[1;32m-> 5575\u001b[0m \u001b[39mreturn\u001b[39;00m \u001b[39mobject\u001b[39;49m\u001b[39m.\u001b[39;49m\u001b[39m__getattribute__\u001b[39;49m(\u001b[39mself\u001b[39;49m, name)\n",
      "\u001b[1;31mAttributeError\u001b[0m: 'DataFrame' object has no attribute 'CategoryID'"
     ]
    }
   ],
   "source": [
    "# SgnMonth [统计月份] - null\n",
    "# CategoryID [基金类型编号] - 0:全部基金;1:股票型基金;2:债券型基金;3:货币型基金;4:混合型基金;5:FOF;6:商品期货型基金;7:REITs;8:其他;21:封闭式基金;22:开放式基金;31:场内基金;32:场外基金;40:ETF基金;50:LOF基金\n",
    "# TotalFundNAV [基金总资产净值] - 对应类型的所有基金的总资产净值\n",
    "\n",
    "# TODO: 不一致\n",
    "\n",
    "stock_mkt_month = mkt_month[mkt_month.CategoryID == 1].resample('12M').mean()\n",
    "mixed_mkt_month = mkt_month[mkt_month.CategoryID == 4].resample('12M').mean()\n",
    "fig, ax1 = plt.subplots()\n",
    "fig.set_figheight(8)\n",
    "fig.set_figwidth(16)\n",
    "ax1.plot(stock_mkt_month.FundNum, linewidth=5, label='股票型基金总数量（折线）')\n",
    "ax1.plot(mixed_mkt_month.FundNum, linewidth=5, label='混合型基金总数量（折线）')\n",
    "ax1.set_yscale('log')\n",
    "ax1.set_yticks([100, 1000, 10000])\n",
    "\n",
    "ax2 = ax1.twinx()\n",
    "ax2.bar(stock_mkt_month.index - pd.Timedelta('7W'), stock_mkt_month.TotalFundNAV.values, width=100 ,label='股票型基金总市值（柱状）', alpha=.8)\n",
    "ax2.bar(mixed_mkt_month.index + pd.Timedelta('7W'), mixed_mkt_month.TotalFundNAV.values, width=100 ,label='混合型基金总市值（柱状）', alpha=.8)\n",
    "\n",
    "ax1.legend(loc='upper left')\n",
    "ax2.legend(loc='upper right')"
   ]
  },
  {
   "cell_type": "code",
   "execution_count": 39,
   "metadata": {},
   "outputs": [
    {
     "data": {
      "text/plain": [
       "Text(0.5, 1.0, '「所有」基金管理费率日平均（柱状）/季度平均（折线）')"
      ]
     },
     "execution_count": 39,
     "metadata": {},
     "output_type": "execute_result"
    },
    {
     "name": "stderr",
     "output_type": "stream",
     "text": [
      "findfont: Generic family 'sans-serif' not found because none of the following families were found: SimHei\n",
      "findfont: Generic family 'sans-serif' not found because none of the following families were found: SimHei\n",
      "findfont: Generic family 'sans-serif' not found because none of the following families were found: SimHei\n",
      "findfont: Generic family 'sans-serif' not found because none of the following families were found: SimHei\n",
      "findfont: Generic family 'sans-serif' not found because none of the following families were found: SimHei\n",
      "findfont: Generic family 'sans-serif' not found because none of the following families were found: SimHei\n",
      "findfont: Generic family 'sans-serif' not found because none of the following families were found: SimHei\n",
      "findfont: Generic family 'sans-serif' not found because none of the following families were found: SimHei\n",
      "findfont: Generic family 'sans-serif' not found because none of the following families were found: SimHei\n",
      "/home/pdx01/.local/lib/python3.10/site-packages/IPython/core/events.py:89: UserWarning: Glyph 12300 (\\N{LEFT CORNER BRACKET}) missing from current font.\n",
      "  func(*args, **kwargs)\n",
      "/home/pdx01/.local/lib/python3.10/site-packages/IPython/core/events.py:89: UserWarning: Glyph 25152 (\\N{CJK UNIFIED IDEOGRAPH-6240}) missing from current font.\n",
      "  func(*args, **kwargs)\n",
      "/home/pdx01/.local/lib/python3.10/site-packages/IPython/core/events.py:89: UserWarning: Glyph 26377 (\\N{CJK UNIFIED IDEOGRAPH-6709}) missing from current font.\n",
      "  func(*args, **kwargs)\n",
      "/home/pdx01/.local/lib/python3.10/site-packages/IPython/core/events.py:89: UserWarning: Glyph 12301 (\\N{RIGHT CORNER BRACKET}) missing from current font.\n",
      "  func(*args, **kwargs)\n",
      "/home/pdx01/.local/lib/python3.10/site-packages/IPython/core/events.py:89: UserWarning: Glyph 22522 (\\N{CJK UNIFIED IDEOGRAPH-57FA}) missing from current font.\n",
      "  func(*args, **kwargs)\n",
      "/home/pdx01/.local/lib/python3.10/site-packages/IPython/core/events.py:89: UserWarning: Glyph 37329 (\\N{CJK UNIFIED IDEOGRAPH-91D1}) missing from current font.\n",
      "  func(*args, **kwargs)\n",
      "/home/pdx01/.local/lib/python3.10/site-packages/IPython/core/events.py:89: UserWarning: Glyph 31649 (\\N{CJK UNIFIED IDEOGRAPH-7BA1}) missing from current font.\n",
      "  func(*args, **kwargs)\n",
      "/home/pdx01/.local/lib/python3.10/site-packages/IPython/core/events.py:89: UserWarning: Glyph 29702 (\\N{CJK UNIFIED IDEOGRAPH-7406}) missing from current font.\n",
      "  func(*args, **kwargs)\n",
      "/home/pdx01/.local/lib/python3.10/site-packages/IPython/core/events.py:89: UserWarning: Glyph 36153 (\\N{CJK UNIFIED IDEOGRAPH-8D39}) missing from current font.\n",
      "  func(*args, **kwargs)\n",
      "/home/pdx01/.local/lib/python3.10/site-packages/IPython/core/events.py:89: UserWarning: Glyph 29575 (\\N{CJK UNIFIED IDEOGRAPH-7387}) missing from current font.\n",
      "  func(*args, **kwargs)\n",
      "/home/pdx01/.local/lib/python3.10/site-packages/IPython/core/events.py:89: UserWarning: Glyph 26085 (\\N{CJK UNIFIED IDEOGRAPH-65E5}) missing from current font.\n",
      "  func(*args, **kwargs)\n",
      "/home/pdx01/.local/lib/python3.10/site-packages/IPython/core/events.py:89: UserWarning: Glyph 24179 (\\N{CJK UNIFIED IDEOGRAPH-5E73}) missing from current font.\n",
      "  func(*args, **kwargs)\n",
      "/home/pdx01/.local/lib/python3.10/site-packages/IPython/core/events.py:89: UserWarning: Glyph 22343 (\\N{CJK UNIFIED IDEOGRAPH-5747}) missing from current font.\n",
      "  func(*args, **kwargs)\n",
      "/home/pdx01/.local/lib/python3.10/site-packages/IPython/core/events.py:89: UserWarning: Glyph 65288 (\\N{FULLWIDTH LEFT PARENTHESIS}) missing from current font.\n",
      "  func(*args, **kwargs)\n",
      "/home/pdx01/.local/lib/python3.10/site-packages/IPython/core/events.py:89: UserWarning: Glyph 26609 (\\N{CJK UNIFIED IDEOGRAPH-67F1}) missing from current font.\n",
      "  func(*args, **kwargs)\n",
      "/home/pdx01/.local/lib/python3.10/site-packages/IPython/core/events.py:89: UserWarning: Glyph 29366 (\\N{CJK UNIFIED IDEOGRAPH-72B6}) missing from current font.\n",
      "  func(*args, **kwargs)\n",
      "/home/pdx01/.local/lib/python3.10/site-packages/IPython/core/events.py:89: UserWarning: Glyph 65289 (\\N{FULLWIDTH RIGHT PARENTHESIS}) missing from current font.\n",
      "  func(*args, **kwargs)\n",
      "/home/pdx01/.local/lib/python3.10/site-packages/IPython/core/events.py:89: UserWarning: Glyph 23395 (\\N{CJK UNIFIED IDEOGRAPH-5B63}) missing from current font.\n",
      "  func(*args, **kwargs)\n",
      "/home/pdx01/.local/lib/python3.10/site-packages/IPython/core/events.py:89: UserWarning: Glyph 24230 (\\N{CJK UNIFIED IDEOGRAPH-5EA6}) missing from current font.\n",
      "  func(*args, **kwargs)\n",
      "/home/pdx01/.local/lib/python3.10/site-packages/IPython/core/events.py:89: UserWarning: Glyph 25240 (\\N{CJK UNIFIED IDEOGRAPH-6298}) missing from current font.\n",
      "  func(*args, **kwargs)\n",
      "/home/pdx01/.local/lib/python3.10/site-packages/IPython/core/events.py:89: UserWarning: Glyph 32447 (\\N{CJK UNIFIED IDEOGRAPH-7EBF}) missing from current font.\n",
      "  func(*args, **kwargs)\n",
      "findfont: Generic family 'sans-serif' not found because none of the following families were found: SimHei\n",
      "findfont: Generic family 'sans-serif' not found because none of the following families were found: SimHei\n",
      "findfont: Generic family 'sans-serif' not found because none of the following families were found: SimHei\n",
      "findfont: Generic family 'sans-serif' not found because none of the following families were found: SimHei\n",
      "findfont: Generic family 'sans-serif' not found because none of the following families were found: SimHei\n",
      "findfont: Generic family 'sans-serif' not found because none of the following families were found: SimHei\n",
      "findfont: Generic family 'sans-serif' not found because none of the following families were found: SimHei\n",
      "findfont: Generic family 'sans-serif' not found because none of the following families were found: SimHei\n",
      "findfont: Generic family 'sans-serif' not found because none of the following families were found: SimHei\n",
      "findfont: Generic family 'sans-serif' not found because none of the following families were found: SimHei\n",
      "findfont: Generic family 'sans-serif' not found because none of the following families were found: SimHei\n",
      "findfont: Generic family 'sans-serif' not found because none of the following families were found: SimHei\n",
      "findfont: Generic family 'sans-serif' not found because none of the following families were found: SimHei\n",
      "findfont: Generic family 'sans-serif' not found because none of the following families were found: SimHei\n",
      "findfont: Generic family 'sans-serif' not found because none of the following families were found: SimHei\n",
      "findfont: Generic family 'sans-serif' not found because none of the following families were found: SimHei\n",
      "findfont: Generic family 'sans-serif' not found because none of the following families were found: SimHei\n",
      "findfont: Generic family 'sans-serif' not found because none of the following families were found: SimHei\n",
      "findfont: Generic family 'sans-serif' not found because none of the following families were found: SimHei\n",
      "findfont: Generic family 'sans-serif' not found because none of the following families were found: SimHei\n",
      "findfont: Generic family 'sans-serif' not found because none of the following families were found: SimHei\n",
      "findfont: Generic family 'sans-serif' not found because none of the following families were found: SimHei\n",
      "findfont: Generic family 'sans-serif' not found because none of the following families were found: SimHei\n",
      "findfont: Generic family 'sans-serif' not found because none of the following families were found: SimHei\n",
      "findfont: Generic family 'sans-serif' not found because none of the following families were found: SimHei\n",
      "findfont: Generic family 'sans-serif' not found because none of the following families were found: SimHei\n",
      "findfont: Generic family 'sans-serif' not found because none of the following families were found: SimHei\n",
      "findfont: Generic family 'sans-serif' not found because none of the following families were found: SimHei\n",
      "/home/pdx01/.local/lib/python3.10/site-packages/IPython/core/pylabtools.py:151: UserWarning: Glyph 12300 (\\N{LEFT CORNER BRACKET}) missing from current font.\n",
      "  fig.canvas.print_figure(bytes_io, **kw)\n",
      "/home/pdx01/.local/lib/python3.10/site-packages/IPython/core/pylabtools.py:151: UserWarning: Glyph 25152 (\\N{CJK UNIFIED IDEOGRAPH-6240}) missing from current font.\n",
      "  fig.canvas.print_figure(bytes_io, **kw)\n",
      "/home/pdx01/.local/lib/python3.10/site-packages/IPython/core/pylabtools.py:151: UserWarning: Glyph 26377 (\\N{CJK UNIFIED IDEOGRAPH-6709}) missing from current font.\n",
      "  fig.canvas.print_figure(bytes_io, **kw)\n",
      "/home/pdx01/.local/lib/python3.10/site-packages/IPython/core/pylabtools.py:151: UserWarning: Glyph 12301 (\\N{RIGHT CORNER BRACKET}) missing from current font.\n",
      "  fig.canvas.print_figure(bytes_io, **kw)\n",
      "/home/pdx01/.local/lib/python3.10/site-packages/IPython/core/pylabtools.py:151: UserWarning: Glyph 22522 (\\N{CJK UNIFIED IDEOGRAPH-57FA}) missing from current font.\n",
      "  fig.canvas.print_figure(bytes_io, **kw)\n",
      "/home/pdx01/.local/lib/python3.10/site-packages/IPython/core/pylabtools.py:151: UserWarning: Glyph 37329 (\\N{CJK UNIFIED IDEOGRAPH-91D1}) missing from current font.\n",
      "  fig.canvas.print_figure(bytes_io, **kw)\n",
      "/home/pdx01/.local/lib/python3.10/site-packages/IPython/core/pylabtools.py:151: UserWarning: Glyph 31649 (\\N{CJK UNIFIED IDEOGRAPH-7BA1}) missing from current font.\n",
      "  fig.canvas.print_figure(bytes_io, **kw)\n",
      "/home/pdx01/.local/lib/python3.10/site-packages/IPython/core/pylabtools.py:151: UserWarning: Glyph 29702 (\\N{CJK UNIFIED IDEOGRAPH-7406}) missing from current font.\n",
      "  fig.canvas.print_figure(bytes_io, **kw)\n",
      "/home/pdx01/.local/lib/python3.10/site-packages/IPython/core/pylabtools.py:151: UserWarning: Glyph 36153 (\\N{CJK UNIFIED IDEOGRAPH-8D39}) missing from current font.\n",
      "  fig.canvas.print_figure(bytes_io, **kw)\n",
      "/home/pdx01/.local/lib/python3.10/site-packages/IPython/core/pylabtools.py:151: UserWarning: Glyph 29575 (\\N{CJK UNIFIED IDEOGRAPH-7387}) missing from current font.\n",
      "  fig.canvas.print_figure(bytes_io, **kw)\n",
      "/home/pdx01/.local/lib/python3.10/site-packages/IPython/core/pylabtools.py:151: UserWarning: Glyph 26085 (\\N{CJK UNIFIED IDEOGRAPH-65E5}) missing from current font.\n",
      "  fig.canvas.print_figure(bytes_io, **kw)\n",
      "/home/pdx01/.local/lib/python3.10/site-packages/IPython/core/pylabtools.py:151: UserWarning: Glyph 24179 (\\N{CJK UNIFIED IDEOGRAPH-5E73}) missing from current font.\n",
      "  fig.canvas.print_figure(bytes_io, **kw)\n",
      "/home/pdx01/.local/lib/python3.10/site-packages/IPython/core/pylabtools.py:151: UserWarning: Glyph 22343 (\\N{CJK UNIFIED IDEOGRAPH-5747}) missing from current font.\n",
      "  fig.canvas.print_figure(bytes_io, **kw)\n",
      "/home/pdx01/.local/lib/python3.10/site-packages/IPython/core/pylabtools.py:151: UserWarning: Glyph 65288 (\\N{FULLWIDTH LEFT PARENTHESIS}) missing from current font.\n",
      "  fig.canvas.print_figure(bytes_io, **kw)\n",
      "/home/pdx01/.local/lib/python3.10/site-packages/IPython/core/pylabtools.py:151: UserWarning: Glyph 26609 (\\N{CJK UNIFIED IDEOGRAPH-67F1}) missing from current font.\n",
      "  fig.canvas.print_figure(bytes_io, **kw)\n",
      "/home/pdx01/.local/lib/python3.10/site-packages/IPython/core/pylabtools.py:151: UserWarning: Glyph 29366 (\\N{CJK UNIFIED IDEOGRAPH-72B6}) missing from current font.\n",
      "  fig.canvas.print_figure(bytes_io, **kw)\n",
      "/home/pdx01/.local/lib/python3.10/site-packages/IPython/core/pylabtools.py:151: UserWarning: Glyph 65289 (\\N{FULLWIDTH RIGHT PARENTHESIS}) missing from current font.\n",
      "  fig.canvas.print_figure(bytes_io, **kw)\n",
      "/home/pdx01/.local/lib/python3.10/site-packages/IPython/core/pylabtools.py:151: UserWarning: Glyph 23395 (\\N{CJK UNIFIED IDEOGRAPH-5B63}) missing from current font.\n",
      "  fig.canvas.print_figure(bytes_io, **kw)\n",
      "/home/pdx01/.local/lib/python3.10/site-packages/IPython/core/pylabtools.py:151: UserWarning: Glyph 24230 (\\N{CJK UNIFIED IDEOGRAPH-5EA6}) missing from current font.\n",
      "  fig.canvas.print_figure(bytes_io, **kw)\n",
      "/home/pdx01/.local/lib/python3.10/site-packages/IPython/core/pylabtools.py:151: UserWarning: Glyph 25240 (\\N{CJK UNIFIED IDEOGRAPH-6298}) missing from current font.\n",
      "  fig.canvas.print_figure(bytes_io, **kw)\n",
      "/home/pdx01/.local/lib/python3.10/site-packages/IPython/core/pylabtools.py:151: UserWarning: Glyph 32447 (\\N{CJK UNIFIED IDEOGRAPH-7EBF}) missing from current font.\n",
      "  fig.canvas.print_figure(bytes_io, **kw)\n",
      "findfont: Generic family 'sans-serif' not found because none of the following families were found: SimHei\n",
      "findfont: Generic family 'sans-serif' not found because none of the following families were found: SimHei\n",
      "findfont: Generic family 'sans-serif' not found because none of the following families were found: SimHei\n",
      "findfont: Generic family 'sans-serif' not found because none of the following families were found: SimHei\n",
      "findfont: Generic family 'sans-serif' not found because none of the following families were found: SimHei\n",
      "findfont: Generic family 'sans-serif' not found because none of the following families were found: SimHei\n",
      "findfont: Generic family 'sans-serif' not found because none of the following families were found: SimHei\n",
      "findfont: Generic family 'sans-serif' not found because none of the following families were found: SimHei\n",
      "findfont: Generic family 'sans-serif' not found because none of the following families were found: SimHei\n",
      "findfont: Generic family 'sans-serif' not found because none of the following families were found: SimHei\n",
      "findfont: Generic family 'sans-serif' not found because none of the following families were found: SimHei\n",
      "findfont: Generic family 'sans-serif' not found because none of the following families were found: SimHei\n",
      "findfont: Generic family 'sans-serif' not found because none of the following families were found: SimHei\n",
      "findfont: Generic family 'sans-serif' not found because none of the following families were found: SimHei\n",
      "findfont: Generic family 'sans-serif' not found because none of the following families were found: SimHei\n",
      "findfont: Generic family 'sans-serif' not found because none of the following families were found: SimHei\n",
      "findfont: Generic family 'sans-serif' not found because none of the following families were found: SimHei\n",
      "findfont: Generic family 'sans-serif' not found because none of the following families were found: SimHei\n",
      "findfont: Generic family 'sans-serif' not found because none of the following families were found: SimHei\n"
     ]
    },
    {
     "data": {
      "image/png": "[encoded data removed]",
      "text/plain": [
       "<Figure size 1600x800 with 1 Axes>"
      ]
     },
     "metadata": {},
     "output_type": "display_data"
    }
   ],
   "source": [
    "management_fee = fees[fees.NameOfFee == '管理费率']\n",
    "# TODO: minimal subscription written to management fee\n",
    "# management_fee[management_fee.ProportionOfFee.astype(float) == 1000]\n",
    "management_fee_ = management_fee[management_fee.ProportionOfFee.astype(float) != 1000]\n",
    "\n",
    "# smallest date interval\n",
    "management_fee__ = management_fee_.groupby('DeclareDate').apply(lambda one_date: one_date.ProportionOfFee.astype(float).mean())\n",
    "plt.figure(figsize=(16,8))\n",
    "management_fee__.plot()\n",
    "management_fee__.resample('1M').mean().plot()\n",
    "plt.title('「所有」基金管理费率日平均（柱状）/季度平均（折线）')\n",
    "# TODO: 国泰安数据不全，2006前数据缺失\n",
    "# TODO: 不一致"
   ]
  },
  {
   "cell_type": "code",
   "execution_count": 40,
   "metadata": {},
   "outputs": [
    {
     "data": {
      "text/plain": [
       "<matplotlib.legend.Legend at 0x7f39cb2e00d0>"
      ]
     },
     "execution_count": 40,
     "metadata": {},
     "output_type": "execute_result"
    },
    {
     "name": "stderr",
     "output_type": "stream",
     "text": [
      "findfont: Generic family 'sans-serif' not found because none of the following families were found: SimHei\n",
      "findfont: Generic family 'sans-serif' not found because none of the following families were found: SimHei\n",
      "findfont: Generic family 'sans-serif' not found because none of the following families were found: SimHei\n",
      "findfont: Generic family 'sans-serif' not found because none of the following families were found: SimHei\n",
      "findfont: Generic family 'sans-serif' not found because none of the following families were found: SimHei\n",
      "findfont: Generic family 'sans-serif' not found because none of the following families were found: SimHei\n",
      "findfont: Generic family 'sans-serif' not found because none of the following families were found: SimHei\n",
      "findfont: Generic family 'sans-serif' not found because none of the following families were found: SimHei\n",
      "findfont: Generic family 'sans-serif' not found because none of the following families were found: SimHei\n",
      "findfont: Generic family 'sans-serif' not found because none of the following families were found: SimHei\n",
      "findfont: Generic family 'sans-serif' not found because none of the following families were found: SimHei\n",
      "findfont: Generic family 'sans-serif' not found because none of the following families were found: SimHei\n",
      "findfont: Generic family 'sans-serif' not found because none of the following families were found: SimHei\n",
      "findfont: Generic family 'sans-serif' not found because none of the following families were found: SimHei\n",
      "findfont: Generic family 'sans-serif' not found because none of the following families were found: SimHei\n",
      "findfont: Generic family 'sans-serif' not found because none of the following families were found: SimHei\n",
      "findfont: Generic family 'sans-serif' not found because none of the following families were found: SimHei\n",
      "findfont: Generic family 'sans-serif' not found because none of the following families were found: SimHei\n",
      "findfont: Generic family 'sans-serif' not found because none of the following families were found: SimHei\n",
      "findfont: Generic family 'sans-serif' not found because none of the following families were found: SimHei\n",
      "findfont: Generic family 'sans-serif' not found because none of the following families were found: SimHei\n",
      "findfont: Generic family 'sans-serif' not found because none of the following families were found: SimHei\n",
      "findfont: Generic family 'sans-serif' not found because none of the following families were found: SimHei\n",
      "findfont: Generic family 'sans-serif' not found because none of the following families were found: SimHei\n",
      "findfont: Generic family 'sans-serif' not found because none of the following families were found: SimHei\n",
      "findfont: Generic family 'sans-serif' not found because none of the following families were found: SimHei\n",
      "findfont: Generic family 'sans-serif' not found because none of the following families were found: SimHei\n",
      "findfont: Generic family 'sans-serif' not found because none of the following families were found: SimHei\n",
      "findfont: Generic family 'sans-serif' not found because none of the following families were found: SimHei\n",
      "findfont: Generic family 'sans-serif' not found because none of the following families were found: SimHei\n",
      "findfont: Generic family 'sans-serif' not found because none of the following families were found: SimHei\n",
      "findfont: Generic family 'sans-serif' not found because none of the following families were found: SimHei\n",
      "findfont: Generic family 'sans-serif' not found because none of the following families were found: SimHei\n",
      "findfont: Generic family 'sans-serif' not found because none of the following families were found: SimHei\n",
      "findfont: Generic family 'sans-serif' not found because none of the following families were found: SimHei\n",
      "findfont: Generic family 'sans-serif' not found because none of the following families were found: SimHei\n",
      "findfont: Generic family 'sans-serif' not found because none of the following families were found: SimHei\n",
      "/home/pdx01/.local/lib/python3.10/site-packages/IPython/core/events.py:89: UserWarning: Glyph 32929 (\\N{CJK UNIFIED IDEOGRAPH-80A1}) missing from current font.\n",
      "  func(*args, **kwargs)\n",
      "/home/pdx01/.local/lib/python3.10/site-packages/IPython/core/events.py:89: UserWarning: Glyph 31080 (\\N{CJK UNIFIED IDEOGRAPH-7968}) missing from current font.\n",
      "  func(*args, **kwargs)\n",
      "/home/pdx01/.local/lib/python3.10/site-packages/IPython/core/events.py:89: UserWarning: Glyph 22411 (\\N{CJK UNIFIED IDEOGRAPH-578B}) missing from current font.\n",
      "  func(*args, **kwargs)\n",
      "/home/pdx01/.local/lib/python3.10/site-packages/IPython/core/events.py:89: UserWarning: Glyph 22522 (\\N{CJK UNIFIED IDEOGRAPH-57FA}) missing from current font.\n",
      "  func(*args, **kwargs)\n",
      "/home/pdx01/.local/lib/python3.10/site-packages/IPython/core/events.py:89: UserWarning: Glyph 37329 (\\N{CJK UNIFIED IDEOGRAPH-91D1}) missing from current font.\n",
      "  func(*args, **kwargs)\n",
      "/home/pdx01/.local/lib/python3.10/site-packages/IPython/core/events.py:89: UserWarning: Glyph 23395 (\\N{CJK UNIFIED IDEOGRAPH-5B63}) missing from current font.\n",
      "  func(*args, **kwargs)\n",
      "/home/pdx01/.local/lib/python3.10/site-packages/IPython/core/events.py:89: UserWarning: Glyph 24230 (\\N{CJK UNIFIED IDEOGRAPH-5EA6}) missing from current font.\n",
      "  func(*args, **kwargs)\n",
      "/home/pdx01/.local/lib/python3.10/site-packages/IPython/core/events.py:89: UserWarning: Glyph 24179 (\\N{CJK UNIFIED IDEOGRAPH-5E73}) missing from current font.\n",
      "  func(*args, **kwargs)\n",
      "/home/pdx01/.local/lib/python3.10/site-packages/IPython/core/events.py:89: UserWarning: Glyph 22343 (\\N{CJK UNIFIED IDEOGRAPH-5747}) missing from current font.\n",
      "  func(*args, **kwargs)\n",
      "/home/pdx01/.local/lib/python3.10/site-packages/IPython/core/events.py:89: UserWarning: Glyph 31649 (\\N{CJK UNIFIED IDEOGRAPH-7BA1}) missing from current font.\n",
      "  func(*args, **kwargs)\n",
      "/home/pdx01/.local/lib/python3.10/site-packages/IPython/core/events.py:89: UserWarning: Glyph 29702 (\\N{CJK UNIFIED IDEOGRAPH-7406}) missing from current font.\n",
      "  func(*args, **kwargs)\n",
      "/home/pdx01/.local/lib/python3.10/site-packages/IPython/core/events.py:89: UserWarning: Glyph 36153 (\\N{CJK UNIFIED IDEOGRAPH-8D39}) missing from current font.\n",
      "  func(*args, **kwargs)\n",
      "findfont: Generic family 'sans-serif' not found because none of the following families were found: SimHei\n",
      "findfont: Generic family 'sans-serif' not found because none of the following families were found: SimHei\n",
      "/home/pdx01/.local/lib/python3.10/site-packages/IPython/core/events.py:89: UserWarning: Glyph 28151 (\\N{CJK UNIFIED IDEOGRAPH-6DF7}) missing from current font.\n",
      "  func(*args, **kwargs)\n",
      "/home/pdx01/.local/lib/python3.10/site-packages/IPython/core/events.py:89: UserWarning: Glyph 21512 (\\N{CJK UNIFIED IDEOGRAPH-5408}) missing from current font.\n",
      "  func(*args, **kwargs)\n",
      "findfont: Generic family 'sans-serif' not found because none of the following families were found: SimHei\n",
      "findfont: Generic family 'sans-serif' not found because none of the following families were found: SimHei\n",
      "findfont: Generic family 'sans-serif' not found because none of the following families were found: SimHei\n",
      "findfont: Generic family 'sans-serif' not found because none of the following families were found: SimHei\n",
      "findfont: Generic family 'sans-serif' not found because none of the following families were found: SimHei\n",
      "findfont: Generic family 'sans-serif' not found because none of the following families were found: SimHei\n",
      "findfont: Generic family 'sans-serif' not found because none of the following families were found: SimHei\n",
      "findfont: Generic family 'sans-serif' not found because none of the following families were found: SimHei\n",
      "findfont: Generic family 'sans-serif' not found because none of the following families were found: SimHei\n",
      "findfont: Generic family 'sans-serif' not found because none of the following families were found: SimHei\n",
      "findfont: Generic family 'sans-serif' not found because none of the following families were found: SimHei\n",
      "findfont: Generic family 'sans-serif' not found because none of the following families were found: SimHei\n",
      "findfont: Generic family 'sans-serif' not found because none of the following families were found: SimHei\n",
      "findfont: Generic family 'sans-serif' not found because none of the following families were found: SimHei\n",
      "findfont: Generic family 'sans-serif' not found because none of the following families were found: SimHei\n",
      "findfont: Generic family 'sans-serif' not found because none of the following families were found: SimHei\n",
      "findfont: Generic family 'sans-serif' not found because none of the following families were found: SimHei\n",
      "findfont: Generic family 'sans-serif' not found because none of the following families were found: SimHei\n",
      "findfont: Generic family 'sans-serif' not found because none of the following families were found: SimHei\n",
      "findfont: Generic family 'sans-serif' not found because none of the following families were found: SimHei\n",
      "findfont: Generic family 'sans-serif' not found because none of the following families were found: SimHei\n",
      "findfont: Generic family 'sans-serif' not found because none of the following families were found: SimHei\n",
      "findfont: Generic family 'sans-serif' not found because none of the following families were found: SimHei\n",
      "findfont: Generic family 'sans-serif' not found because none of the following families were found: SimHei\n",
      "findfont: Generic family 'sans-serif' not found because none of the following families were found: SimHei\n",
      "findfont: Generic family 'sans-serif' not found because none of the following families were found: SimHei\n",
      "findfont: Generic family 'sans-serif' not found because none of the following families were found: SimHei\n",
      "findfont: Generic family 'sans-serif' not found because none of the following families were found: SimHei\n",
      "findfont: Generic family 'sans-serif' not found because none of the following families were found: SimHei\n",
      "findfont: Generic family 'sans-serif' not found because none of the following families were found: SimHei\n",
      "findfont: Generic family 'sans-serif' not found because none of the following families were found: SimHei\n",
      "findfont: Generic family 'sans-serif' not found because none of the following families were found: SimHei\n",
      "findfont: Generic family 'sans-serif' not found because none of the following families were found: SimHei\n",
      "findfont: Generic family 'sans-serif' not found because none of the following families were found: SimHei\n",
      "findfont: Generic family 'sans-serif' not found because none of the following families were found: SimHei\n",
      "findfont: Generic family 'sans-serif' not found because none of the following families were found: SimHei\n",
      "findfont: Generic family 'sans-serif' not found because none of the following families were found: SimHei\n",
      "findfont: Generic family 'sans-serif' not found because none of the following families were found: SimHei\n",
      "findfont: Generic family 'sans-serif' not found because none of the following families were found: SimHei\n",
      "findfont: Generic family 'sans-serif' not found because none of the following families were found: SimHei\n",
      "findfont: Generic family 'sans-serif' not found because none of the following families were found: SimHei\n",
      "findfont: Generic family 'sans-serif' not found because none of the following families were found: SimHei\n",
      "findfont: Generic family 'sans-serif' not found because none of the following families were found: SimHei\n",
      "findfont: Generic family 'sans-serif' not found because none of the following families were found: SimHei\n",
      "findfont: Generic family 'sans-serif' not found because none of the following families were found: SimHei\n",
      "findfont: Generic family 'sans-serif' not found because none of the following families were found: SimHei\n",
      "findfont: Generic family 'sans-serif' not found because none of the following families were found: SimHei\n",
      "findfont: Generic family 'sans-serif' not found because none of the following families were found: SimHei\n",
      "findfont: Generic family 'sans-serif' not found because none of the following families were found: SimHei\n",
      "findfont: Generic family 'sans-serif' not found because none of the following families were found: SimHei\n",
      "findfont: Generic family 'sans-serif' not found because none of the following families were found: SimHei\n",
      "findfont: Generic family 'sans-serif' not found because none of the following families were found: SimHei\n",
      "findfont: Generic family 'sans-serif' not found because none of the following families were found: SimHei\n",
      "findfont: Generic family 'sans-serif' not found because none of the following families were found: SimHei\n",
      "findfont: Generic family 'sans-serif' not found because none of the following families were found: SimHei\n",
      "findfont: Generic family 'sans-serif' not found because none of the following families were found: SimHei\n",
      "findfont: Generic family 'sans-serif' not found because none of the following families were found: SimHei\n",
      "findfont: Generic family 'sans-serif' not found because none of the following families were found: SimHei\n",
      "findfont: Generic family 'sans-serif' not found because none of the following families were found: SimHei\n",
      "findfont: Generic family 'sans-serif' not found because none of the following families were found: SimHei\n",
      "findfont: Generic family 'sans-serif' not found because none of the following families were found: SimHei\n",
      "findfont: Generic family 'sans-serif' not found because none of the following families were found: SimHei\n",
      "findfont: Generic family 'sans-serif' not found because none of the following families were found: SimHei\n",
      "/home/pdx01/.local/lib/python3.10/site-packages/IPython/core/pylabtools.py:151: UserWarning: Glyph 32929 (\\N{CJK UNIFIED IDEOGRAPH-80A1}) missing from current font.\n",
      "  fig.canvas.print_figure(bytes_io, **kw)\n",
      "/home/pdx01/.local/lib/python3.10/site-packages/IPython/core/pylabtools.py:151: UserWarning: Glyph 31080 (\\N{CJK UNIFIED IDEOGRAPH-7968}) missing from current font.\n",
      "  fig.canvas.print_figure(bytes_io, **kw)\n",
      "/home/pdx01/.local/lib/python3.10/site-packages/IPython/core/pylabtools.py:151: UserWarning: Glyph 22411 (\\N{CJK UNIFIED IDEOGRAPH-578B}) missing from current font.\n",
      "  fig.canvas.print_figure(bytes_io, **kw)\n",
      "/home/pdx01/.local/lib/python3.10/site-packages/IPython/core/pylabtools.py:151: UserWarning: Glyph 22522 (\\N{CJK UNIFIED IDEOGRAPH-57FA}) missing from current font.\n",
      "  fig.canvas.print_figure(bytes_io, **kw)\n",
      "/home/pdx01/.local/lib/python3.10/site-packages/IPython/core/pylabtools.py:151: UserWarning: Glyph 37329 (\\N{CJK UNIFIED IDEOGRAPH-91D1}) missing from current font.\n",
      "  fig.canvas.print_figure(bytes_io, **kw)\n",
      "/home/pdx01/.local/lib/python3.10/site-packages/IPython/core/pylabtools.py:151: UserWarning: Glyph 23395 (\\N{CJK UNIFIED IDEOGRAPH-5B63}) missing from current font.\n",
      "  fig.canvas.print_figure(bytes_io, **kw)\n",
      "/home/pdx01/.local/lib/python3.10/site-packages/IPython/core/pylabtools.py:151: UserWarning: Glyph 24230 (\\N{CJK UNIFIED IDEOGRAPH-5EA6}) missing from current font.\n",
      "  fig.canvas.print_figure(bytes_io, **kw)\n",
      "/home/pdx01/.local/lib/python3.10/site-packages/IPython/core/pylabtools.py:151: UserWarning: Glyph 24179 (\\N{CJK UNIFIED IDEOGRAPH-5E73}) missing from current font.\n",
      "  fig.canvas.print_figure(bytes_io, **kw)\n",
      "/home/pdx01/.local/lib/python3.10/site-packages/IPython/core/pylabtools.py:151: UserWarning: Glyph 22343 (\\N{CJK UNIFIED IDEOGRAPH-5747}) missing from current font.\n",
      "  fig.canvas.print_figure(bytes_io, **kw)\n",
      "/home/pdx01/.local/lib/python3.10/site-packages/IPython/core/pylabtools.py:151: UserWarning: Glyph 31649 (\\N{CJK UNIFIED IDEOGRAPH-7BA1}) missing from current font.\n",
      "  fig.canvas.print_figure(bytes_io, **kw)\n",
      "/home/pdx01/.local/lib/python3.10/site-packages/IPython/core/pylabtools.py:151: UserWarning: Glyph 29702 (\\N{CJK UNIFIED IDEOGRAPH-7406}) missing from current font.\n",
      "  fig.canvas.print_figure(bytes_io, **kw)\n",
      "/home/pdx01/.local/lib/python3.10/site-packages/IPython/core/pylabtools.py:151: UserWarning: Glyph 36153 (\\N{CJK UNIFIED IDEOGRAPH-8D39}) missing from current font.\n",
      "  fig.canvas.print_figure(bytes_io, **kw)\n",
      "findfont: Generic family 'sans-serif' not found because none of the following families were found: SimHei\n",
      "findfont: Generic family 'sans-serif' not found because none of the following families were found: SimHei\n",
      "/home/pdx01/.local/lib/python3.10/site-packages/IPython/core/pylabtools.py:151: UserWarning: Glyph 28151 (\\N{CJK UNIFIED IDEOGRAPH-6DF7}) missing from current font.\n",
      "  fig.canvas.print_figure(bytes_io, **kw)\n",
      "/home/pdx01/.local/lib/python3.10/site-packages/IPython/core/pylabtools.py:151: UserWarning: Glyph 21512 (\\N{CJK UNIFIED IDEOGRAPH-5408}) missing from current font.\n",
      "  fig.canvas.print_figure(bytes_io, **kw)\n",
      "findfont: Generic family 'sans-serif' not found because none of the following families were found: SimHei\n",
      "findfont: Generic family 'sans-serif' not found because none of the following families were found: SimHei\n",
      "findfont: Generic family 'sans-serif' not found because none of the following families were found: SimHei\n",
      "findfont: Generic family 'sans-serif' not found because none of the following families were found: SimHei\n",
      "findfont: Generic family 'sans-serif' not found because none of the following families were found: SimHei\n",
      "findfont: Generic family 'sans-serif' not found because none of the following families were found: SimHei\n",
      "findfont: Generic family 'sans-serif' not found because none of the following families were found: SimHei\n",
      "findfont: Generic family 'sans-serif' not found because none of the following families were found: SimHei\n",
      "findfont: Generic family 'sans-serif' not found because none of the following families were found: SimHei\n",
      "findfont: Generic family 'sans-serif' not found because none of the following families were found: SimHei\n"
     ]
    },
    {
     "data": {
      "image/png": "[encoded data removed]",
      "text/plain": [
       "<Figure size 1600x800 with 1 Axes>"
      ]
     },
     "metadata": {},
     "output_type": "display_data"
    }
   ],
   "source": [
    "management_fee_stock_fund = management_fee_.groupby('Symbol').apply(\\\n",
    "    lambda one_fund: one_fund if float(one_fund.Symbol.unique()[0]) in stock_fund else None)\n",
    "    \n",
    "management_fee_integrated_fund = management_fee_.groupby('Symbol').apply(\\\n",
    "    lambda one_fund: one_fund if float(one_fund.Symbol.unique()[0]) in integrated_fund else None)\n",
    "\n",
    "management_fee_stock_fund_ = management_fee_stock_fund.groupby('DeclareDate').apply(\\\n",
    "    lambda one_date: one_date.ProportionOfFee.astype(float).mean())\n",
    "management_fee_integrated_fund_ = management_fee_integrated_fund.groupby('DeclareDate').apply(\\\n",
    "    lambda one_date: one_date.ProportionOfFee.astype(float).mean())\n",
    "\n",
    "plt.figure(figsize=(16,8))\n",
    "management_fee_stock_fund_.resample('1M').mean().plot(label='股票型基金季度平均管理费')\n",
    "management_fee_integrated_fund_.resample('1M').mean().plot(label='混合型基金季度平均管理费')\n",
    "plt.legend()"
   ]
  },
  {
   "cell_type": "markdown",
   "metadata": {},
   "source": [
    "## II.Select\n",
    "\n",
    "月末等权重买入一种分类中所有基金\n",
    "\n",
    "持有一个月，按月滚动调整\n",
    "\n",
    "**?等金额权重/等份额权重**"
   ]
  },
  {
   "cell_type": "code",
   "execution_count": 56,
   "metadata": {},
   "outputs": [],
   "source": [
    "\n",
    "# ! S_DQ_ADJCLOSE\n",
    "stock_avg_change = full.pivot(index='TRADE_DT', columns='S_INFO_WINDCODE', values='S_DQ_CLOSE').pct_change()\\\n",
    "    .apply(lambda date: date.sum()/pd.notnull(date).sum() if date.sum() != 0 else None, axis=1)\\\n",
    "        .loc['2002-1-1':'2022-9-22']\n",
    "\n",
    "stock_return = (stock_avg_change + 1).cumprod()"
   ]
  },
  {
   "cell_type": "code",
   "execution_count": 57,
   "metadata": {},
   "outputs": [
    {
     "data": {
      "text/plain": [
       "<matplotlib.legend.Legend at 0x7f39c8fcb460>"
      ]
     },
     "execution_count": 57,
     "metadata": {},
     "output_type": "execute_result"
    },
    {
     "name": "stderr",
     "output_type": "stream",
     "text": [
      "findfont: Generic family 'sans-serif' not found because none of the following families were found: SimHei\n",
      "findfont: Generic family 'sans-serif' not found because none of the following families were found: SimHei\n",
      "findfont: Generic family 'sans-serif' not found because none of the following families were found: SimHei\n",
      "findfont: Generic family 'sans-serif' not found because none of the following families were found: SimHei\n",
      "findfont: Generic family 'sans-serif' not found because none of the following families were found: SimHei\n",
      "findfont: Generic family 'sans-serif' not found because none of the following families were found: SimHei\n",
      "findfont: Generic family 'sans-serif' not found because none of the following families were found: SimHei\n",
      "findfont: Generic family 'sans-serif' not found because none of the following families were found: SimHei\n",
      "findfont: Generic family 'sans-serif' not found because none of the following families were found: SimHei\n",
      "findfont: Generic family 'sans-serif' not found because none of the following families were found: SimHei\n",
      "findfont: Generic family 'sans-serif' not found because none of the following families were found: SimHei\n",
      "findfont: Generic family 'sans-serif' not found because none of the following families were found: SimHei\n",
      "findfont: Generic family 'sans-serif' not found because none of the following families were found: SimHei\n",
      "findfont: Generic family 'sans-serif' not found because none of the following families were found: SimHei\n",
      "findfont: Generic family 'sans-serif' not found because none of the following families were found: SimHei\n",
      "findfont: Generic family 'sans-serif' not found because none of the following families were found: SimHei\n",
      "findfont: Generic family 'sans-serif' not found because none of the following families were found: SimHei\n",
      "findfont: Generic family 'sans-serif' not found because none of the following families were found: SimHei\n",
      "findfont: Generic family 'sans-serif' not found because none of the following families were found: SimHei\n",
      "findfont: Generic family 'sans-serif' not found because none of the following families were found: SimHei\n",
      "findfont: Generic family 'sans-serif' not found because none of the following families were found: SimHei\n",
      "findfont: Generic family 'sans-serif' not found because none of the following families were found: SimHei\n",
      "findfont: Generic family 'sans-serif' not found because none of the following families were found: SimHei\n",
      "findfont: Generic family 'sans-serif' not found because none of the following families were found: SimHei\n",
      "findfont: Generic family 'sans-serif' not found because none of the following families were found: SimHei\n",
      "/home/pdx01/.local/lib/python3.10/site-packages/IPython/core/events.py:89: UserWarning: Glyph 32929 (\\N{CJK UNIFIED IDEOGRAPH-80A1}) missing from current font.\n",
      "  func(*args, **kwargs)\n",
      "/home/pdx01/.local/lib/python3.10/site-packages/IPython/core/events.py:89: UserWarning: Glyph 31080 (\\N{CJK UNIFIED IDEOGRAPH-7968}) missing from current font.\n",
      "  func(*args, **kwargs)\n",
      "/home/pdx01/.local/lib/python3.10/site-packages/IPython/core/events.py:89: UserWarning: Glyph 22411 (\\N{CJK UNIFIED IDEOGRAPH-578B}) missing from current font.\n",
      "  func(*args, **kwargs)\n",
      "/home/pdx01/.local/lib/python3.10/site-packages/IPython/core/events.py:89: UserWarning: Glyph 22522 (\\N{CJK UNIFIED IDEOGRAPH-57FA}) missing from current font.\n",
      "  func(*args, **kwargs)\n",
      "/home/pdx01/.local/lib/python3.10/site-packages/IPython/core/events.py:89: UserWarning: Glyph 37329 (\\N{CJK UNIFIED IDEOGRAPH-91D1}) missing from current font.\n",
      "  func(*args, **kwargs)\n",
      "findfont: Generic family 'sans-serif' not found because none of the following families were found: SimHei\n",
      "findfont: Generic family 'sans-serif' not found because none of the following families were found: SimHei\n",
      "/home/pdx01/.local/lib/python3.10/site-packages/IPython/core/events.py:89: UserWarning: Glyph 28151 (\\N{CJK UNIFIED IDEOGRAPH-6DF7}) missing from current font.\n",
      "  func(*args, **kwargs)\n",
      "/home/pdx01/.local/lib/python3.10/site-packages/IPython/core/events.py:89: UserWarning: Glyph 21512 (\\N{CJK UNIFIED IDEOGRAPH-5408}) missing from current font.\n",
      "  func(*args, **kwargs)\n",
      "findfont: Generic family 'sans-serif' not found because none of the following families were found: SimHei\n",
      "findfont: Generic family 'sans-serif' not found because none of the following families were found: SimHei\n",
      "/home/pdx01/.local/lib/python3.10/site-packages/IPython/core/events.py:89: UserWarning: Glyph 24066 (\\N{CJK UNIFIED IDEOGRAPH-5E02}) missing from current font.\n",
      "  func(*args, **kwargs)\n",
      "/home/pdx01/.local/lib/python3.10/site-packages/IPython/core/events.py:89: UserWarning: Glyph 22330 (\\N{CJK UNIFIED IDEOGRAPH-573A}) missing from current font.\n",
      "  func(*args, **kwargs)\n",
      "/home/pdx01/.local/lib/python3.10/site-packages/IPython/core/events.py:89: UserWarning: Glyph 32452 (\\N{CJK UNIFIED IDEOGRAPH-7EC4}) missing from current font.\n",
      "  func(*args, **kwargs)\n",
      "findfont: Generic family 'sans-serif' not found because none of the following families were found: SimHei\n",
      "findfont: Generic family 'sans-serif' not found because none of the following families were found: SimHei\n",
      "findfont: Generic family 'sans-serif' not found because none of the following families were found: SimHei\n",
      "findfont: Generic family 'sans-serif' not found because none of the following families were found: SimHei\n",
      "findfont: Generic family 'sans-serif' not found because none of the following families were found: SimHei\n",
      "findfont: Generic family 'sans-serif' not found because none of the following families were found: SimHei\n",
      "findfont: Generic family 'sans-serif' not found because none of the following families were found: SimHei\n",
      "findfont: Generic family 'sans-serif' not found because none of the following families were found: SimHei\n",
      "findfont: Generic family 'sans-serif' not found because none of the following families were found: SimHei\n",
      "findfont: Generic family 'sans-serif' not found because none of the following families were found: SimHei\n",
      "findfont: Generic family 'sans-serif' not found because none of the following families were found: SimHei\n",
      "findfont: Generic family 'sans-serif' not found because none of the following families were found: SimHei\n",
      "findfont: Generic family 'sans-serif' not found because none of the following families were found: SimHei\n",
      "findfont: Generic family 'sans-serif' not found because none of the following families were found: SimHei\n",
      "findfont: Generic family 'sans-serif' not found because none of the following families were found: SimHei\n",
      "findfont: Generic family 'sans-serif' not found because none of the following families were found: SimHei\n",
      "findfont: Generic family 'sans-serif' not found because none of the following families were found: SimHei\n",
      "findfont: Generic family 'sans-serif' not found because none of the following families were found: SimHei\n",
      "findfont: Generic family 'sans-serif' not found because none of the following families were found: SimHei\n",
      "findfont: Generic family 'sans-serif' not found because none of the following families were found: SimHei\n",
      "findfont: Generic family 'sans-serif' not found because none of the following families were found: SimHei\n",
      "findfont: Generic family 'sans-serif' not found because none of the following families were found: SimHei\n",
      "findfont: Generic family 'sans-serif' not found because none of the following families were found: SimHei\n",
      "findfont: Generic family 'sans-serif' not found because none of the following families were found: SimHei\n",
      "findfont: Generic family 'sans-serif' not found because none of the following families were found: SimHei\n",
      "findfont: Generic family 'sans-serif' not found because none of the following families were found: SimHei\n",
      "findfont: Generic family 'sans-serif' not found because none of the following families were found: SimHei\n",
      "findfont: Generic family 'sans-serif' not found because none of the following families were found: SimHei\n",
      "findfont: Generic family 'sans-serif' not found because none of the following families were found: SimHei\n",
      "findfont: Generic family 'sans-serif' not found because none of the following families were found: SimHei\n",
      "findfont: Generic family 'sans-serif' not found because none of the following families were found: SimHei\n",
      "findfont: Generic family 'sans-serif' not found because none of the following families were found: SimHei\n",
      "findfont: Generic family 'sans-serif' not found because none of the following families were found: SimHei\n",
      "findfont: Generic family 'sans-serif' not found because none of the following families were found: SimHei\n",
      "findfont: Generic family 'sans-serif' not found because none of the following families were found: SimHei\n",
      "findfont: Generic family 'sans-serif' not found because none of the following families were found: SimHei\n",
      "findfont: Generic family 'sans-serif' not found because none of the following families were found: SimHei\n",
      "findfont: Generic family 'sans-serif' not found because none of the following families were found: SimHei\n",
      "findfont: Generic family 'sans-serif' not found because none of the following families were found: SimHei\n",
      "findfont: Generic family 'sans-serif' not found because none of the following families were found: SimHei\n",
      "findfont: Generic family 'sans-serif' not found because none of the following families were found: SimHei\n",
      "findfont: Generic family 'sans-serif' not found because none of the following families were found: SimHei\n",
      "findfont: Generic family 'sans-serif' not found because none of the following families were found: SimHei\n",
      "findfont: Generic family 'sans-serif' not found because none of the following families were found: SimHei\n",
      "findfont: Generic family 'sans-serif' not found because none of the following families were found: SimHei\n",
      "findfont: Generic family 'sans-serif' not found because none of the following families were found: SimHei\n",
      "findfont: Generic family 'sans-serif' not found because none of the following families were found: SimHei\n",
      "findfont: Generic family 'sans-serif' not found because none of the following families were found: SimHei\n",
      "findfont: Generic family 'sans-serif' not found because none of the following families were found: SimHei\n",
      "findfont: Generic family 'sans-serif' not found because none of the following families were found: SimHei\n",
      "findfont: Generic family 'sans-serif' not found because none of the following families were found: SimHei\n",
      "findfont: Generic family 'sans-serif' not found because none of the following families were found: SimHei\n",
      "findfont: Generic family 'sans-serif' not found because none of the following families were found: SimHei\n",
      "findfont: Generic family 'sans-serif' not found because none of the following families were found: SimHei\n",
      "findfont: Generic family 'sans-serif' not found because none of the following families were found: SimHei\n",
      "findfont: Generic family 'sans-serif' not found because none of the following families were found: SimHei\n",
      "findfont: Generic family 'sans-serif' not found because none of the following families were found: SimHei\n",
      "findfont: Generic family 'sans-serif' not found because none of the following families were found: SimHei\n",
      "findfont: Generic family 'sans-serif' not found because none of the following families were found: SimHei\n",
      "findfont: Generic family 'sans-serif' not found because none of the following families were found: SimHei\n",
      "findfont: Generic family 'sans-serif' not found because none of the following families were found: SimHei\n",
      "findfont: Generic family 'sans-serif' not found because none of the following families were found: SimHei\n",
      "findfont: Generic family 'sans-serif' not found because none of the following families were found: SimHei\n",
      "findfont: Generic family 'sans-serif' not found because none of the following families were found: SimHei\n",
      "/home/pdx01/.local/lib/python3.10/site-packages/IPython/core/pylabtools.py:151: UserWarning: Glyph 32929 (\\N{CJK UNIFIED IDEOGRAPH-80A1}) missing from current font.\n",
      "  fig.canvas.print_figure(bytes_io, **kw)\n",
      "/home/pdx01/.local/lib/python3.10/site-packages/IPython/core/pylabtools.py:151: UserWarning: Glyph 31080 (\\N{CJK UNIFIED IDEOGRAPH-7968}) missing from current font.\n",
      "  fig.canvas.print_figure(bytes_io, **kw)\n",
      "/home/pdx01/.local/lib/python3.10/site-packages/IPython/core/pylabtools.py:151: UserWarning: Glyph 22411 (\\N{CJK UNIFIED IDEOGRAPH-578B}) missing from current font.\n",
      "  fig.canvas.print_figure(bytes_io, **kw)\n",
      "/home/pdx01/.local/lib/python3.10/site-packages/IPython/core/pylabtools.py:151: UserWarning: Glyph 22522 (\\N{CJK UNIFIED IDEOGRAPH-57FA}) missing from current font.\n",
      "  fig.canvas.print_figure(bytes_io, **kw)\n",
      "/home/pdx01/.local/lib/python3.10/site-packages/IPython/core/pylabtools.py:151: UserWarning: Glyph 37329 (\\N{CJK UNIFIED IDEOGRAPH-91D1}) missing from current font.\n",
      "  fig.canvas.print_figure(bytes_io, **kw)\n",
      "findfont: Generic family 'sans-serif' not found because none of the following families were found: SimHei\n",
      "findfont: Generic family 'sans-serif' not found because none of the following families were found: SimHei\n",
      "/home/pdx01/.local/lib/python3.10/site-packages/IPython/core/pylabtools.py:151: UserWarning: Glyph 28151 (\\N{CJK UNIFIED IDEOGRAPH-6DF7}) missing from current font.\n",
      "  fig.canvas.print_figure(bytes_io, **kw)\n",
      "/home/pdx01/.local/lib/python3.10/site-packages/IPython/core/pylabtools.py:151: UserWarning: Glyph 21512 (\\N{CJK UNIFIED IDEOGRAPH-5408}) missing from current font.\n",
      "  fig.canvas.print_figure(bytes_io, **kw)\n",
      "findfont: Generic family 'sans-serif' not found because none of the following families were found: SimHei\n",
      "findfont: Generic family 'sans-serif' not found because none of the following families were found: SimHei\n",
      "/home/pdx01/.local/lib/python3.10/site-packages/IPython/core/pylabtools.py:151: UserWarning: Glyph 24066 (\\N{CJK UNIFIED IDEOGRAPH-5E02}) missing from current font.\n",
      "  fig.canvas.print_figure(bytes_io, **kw)\n",
      "/home/pdx01/.local/lib/python3.10/site-packages/IPython/core/pylabtools.py:151: UserWarning: Glyph 22330 (\\N{CJK UNIFIED IDEOGRAPH-573A}) missing from current font.\n",
      "  fig.canvas.print_figure(bytes_io, **kw)\n",
      "/home/pdx01/.local/lib/python3.10/site-packages/IPython/core/pylabtools.py:151: UserWarning: Glyph 32452 (\\N{CJK UNIFIED IDEOGRAPH-7EC4}) missing from current font.\n",
      "  fig.canvas.print_figure(bytes_io, **kw)\n",
      "findfont: Generic family 'sans-serif' not found because none of the following families were found: SimHei\n",
      "findfont: Generic family 'sans-serif' not found because none of the following families were found: SimHei\n",
      "findfont: Generic family 'sans-serif' not found because none of the following families were found: SimHei\n",
      "findfont: Generic family 'sans-serif' not found because none of the following families were found: SimHei\n",
      "findfont: Generic family 'sans-serif' not found because none of the following families were found: SimHei\n",
      "findfont: Generic family 'sans-serif' not found because none of the following families were found: SimHei\n",
      "findfont: Generic family 'sans-serif' not found because none of the following families were found: SimHei\n",
      "findfont: Generic family 'sans-serif' not found because none of the following families were found: SimHei\n",
      "findfont: Generic family 'sans-serif' not found because none of the following families were found: SimHei\n",
      "findfont: Generic family 'sans-serif' not found because none of the following families were found: SimHei\n",
      "findfont: Generic family 'sans-serif' not found because none of the following families were found: SimHei\n",
      "findfont: Generic family 'sans-serif' not found because none of the following families were found: SimHei\n",
      "findfont: Generic family 'sans-serif' not found because none of the following families were found: SimHei\n",
      "findfont: Generic family 'sans-serif' not found because none of the following families were found: SimHei\n",
      "findfont: Generic family 'sans-serif' not found because none of the following families were found: SimHei\n"
     ]
    },
    {
     "data": {
      "image/png": "[encoded data removed]",
      "text/plain": [
       "<Figure size 2000x800 with 1 Axes>"
      ]
     },
     "metadata": {},
     "output_type": "display_data"
    }
   ],
   "source": [
    "# 等份额权重\n",
    "# remove all null month\n",
    "# TODO, probable cause: funds listed before 2022-04 did not meet other requirements\n",
    "\n",
    "plt.figure(figsize=(20,8))\n",
    "stock_r_t = r_t_real_[np.intersect1d(stock_fund, r_t_real_.columns)]\n",
    "stock_r_t_ = stock_r_t[~ pd.isnull(stock_r_t).all(axis=1)]\n",
    "stock_r_t_.apply(lambda one_month: one_month.sum()/pd.notnull(one_month).sum(), axis=1).cumprod().plot(label='股票型基金')\n",
    "mixed_r_t = r_t_real_[np.intersect1d(integrated_fund, r_t_real_.columns)]\n",
    "mixed_r_t_ = mixed_r_t[~ pd.isnull(mixed_r_t).all(axis=1)]\n",
    "mixed_r_t_.apply(lambda one_month: one_month.sum()/pd.notnull(one_month).sum(), axis=1).cumprod().plot(label='混合型基金')\n",
    "stock_return.plot(label='股票市场组合')\n",
    "plt.legend()"
   ]
  }
 ],
 "metadata": {
  "kernelspec": {
   "display_name": "Python 3.10.4 64-bit",
   "language": "python",
   "name": "python3"
  },
  "language_info": {
   "codemirror_mode": {
    "name": "ipython",
    "version": 3
   },
   "file_extension": ".py",
   "mimetype": "text/x-python",
   "name": "python",
   "nbconvert_exporter": "python",
   "pygments_lexer": "ipython3",
   "version": "3.10.4"
  },
  "orig_nbformat": 4,
  "vscode": {
   "interpreter": {
    "hash": "30f376259ad5d5354be6f280c6eaf9568078f04b7c7fbe2e366bcbeb41831e82"
   }
  }
 },
 "nbformat": 4,
 "nbformat_minor": 2
}
