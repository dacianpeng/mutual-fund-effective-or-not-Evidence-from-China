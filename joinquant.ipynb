{
 "cells": [
  {
   "cell_type": "code",
   "execution_count": 1,
   "metadata": {},
   "outputs": [
    {
     "name": "stdout",
     "output_type": "stream",
     "text": [
      "auth success \n"
     ]
    }
   ],
   "source": [
    "import jqdatasdk as jq\n",
    "import time\n",
    "from utils.my_cache import cache_wrapper\n",
    "import pandas as pd\n",
    "import math\n",
    "from functools import reduce\n",
    "import numpy as np\n",
    "import plotly.express as px\n",
    "import plotly.graph_objects as go\n",
    "from plotly.subplots import make_subplots\n",
    "jq.auth('13764432461', 'Swisschina6')\n"
   ]
  },
  {
   "cell_type": "markdown",
   "metadata": {},
   "source": [
    "## **I. Data Source Comparison**\n",
    "\n",
    "most data come from `JoinQuant`\n",
    "\n",
    "active or passive classification comes from `Win.d`"
   ]
  },
  {
   "cell_type": "code",
   "execution_count": 2,
   "metadata": {},
   "outputs": [],
   "source": [
    "@cache_wrapper(expire = 60 * 60 * 24 * 7)\n",
    "def brief_of_funds(frequency : str = time.strftime('%W')) -> pd.DataFrame:\n",
    "    return jq.get_all_securities(['fund', 'open_fund'], time.strftime('%Y%m%d'))\n",
    "\n",
    "\n",
    "@cache_wrapper(expire = 60 * 60 * 24 * 7)\n",
    "def main_info(fund_codes, frequency : str = time.strftime('%W')) -> pd.DataFrame:\n",
    "    '''\n",
    "    modify function should be done with deleting cache\n",
    "    '''\n",
    "    limit = jq.DBTable.RESULT_ROWS_LIMIT\n",
    "    fund_code_cuts = np.array_split(fund_codes, math.ceil(len(fund_codes) / limit))\n",
    "    full_table_cuts = []\n",
    "    for code_cut in fund_code_cuts:\n",
    "        # NOTE `in` is not applicable in filter, use `in_()` defined by joinquant\n",
    "        table_cut = jq.finance.run_query(jq.query(jq.finance.FUND_MAIN_INFO).filter(jq.finance.FUND_MAIN_INFO.main_code.in_(code_cut)))\n",
    "        full_table_cuts.append(table_cut)\n",
    "    full_table = pd.concat(full_table_cuts).reset_index(drop=True)\n",
    "    full_table['start_date'] = full_table.start_date.astype(np.datetime64).dt.to_period('M')\n",
    "    return full_table\n",
    "\n",
    "@cache_wrapper(expire = 60 * 60 * 24 * 7)\n",
    "def portfolio_info(fund_codes, frequency : str = time.strftime('%W')) -> pd.DataFrame:\n",
    "    limit = jq.DBTable.RESULT_ROWS_LIMIT\n",
    "    fund_code_cuts = np.array_split(fund_codes, math.ceil(len(fund_codes) * 6 / limit))\n",
    "    full_table_cuts = []\n",
    "    for code_cut in fund_code_cuts:\n",
    "        # NOTE `in` is not applicable in filter, use `in_()` defined by joinquant\n",
    "        table_cut = jq.finance.run_query(jq.query(jq.finance.FUND_PORTFOLIO).filter(jq.finance.FUND_PORTFOLIO.code.in_(code_cut)))\n",
    "        full_table_cuts.append(table_cut)\n",
    "    full_table = pd.concat(full_table_cuts).reset_index(drop=True)\n",
    "    return full_table\n",
    "\n"
   ]
  },
  {
   "cell_type": "code",
   "execution_count": 8,
   "metadata": {},
   "outputs": [],
   "source": [
    "brief = brief_of_funds()\n",
    "fund_codes = brief.index.str.split('.').str[0]\n",
    "fund_main_info = main_info(fund_codes)\n",
    "fund_portfolio_info = portfolio_info(fund_codes)"
   ]
  },
  {
   "cell_type": "code",
   "execution_count": 9,
   "metadata": {},
   "outputs": [],
   "source": [
    "def round_(data : float):\n",
    "    return str(round(data, 4)*100) + '%'\n",
    "\n",
    "maininfo = pd.read_csv('data/FUND_MainInfo.csv', parse_dates=['InceptionDate'])\n",
    "maininfo['InceptionDate'] = maininfo.InceptionDate.dt.to_period('M')\n",
    "\n",
    "\n",
    "unitclassinfo = pd.read_csv('data/FUND_UnitClassInfo.csv', parse_dates=['ListingDate', 'InceptionDate'])\n",
    "unitclassinfo['InceptionDate'] = unitclassinfo.InceptionDate.dt.to_period('M')\n",
    "unitclassinfo['MasterFundCode'] = unitclassinfo.MasterFundCode\n",
    "\n",
    "unitclassinfo_ = unitclassinfo.drop_duplicates(subset=['Symbol'], keep='last')\n",
    "unitclassinfo_ = unitclassinfo_[pd.notnull(unitclassinfo_.MasterFundCode)]\n",
    "unitclassinfo__ = unitclassinfo_.set_index(['MasterFundCode', 'Symbol'])\n",
    "unitclassinfo__\n",
    "\n",
    "selected_columns = ['FundID', 'MasterFundCode', 'FullName', 'Symbol', 'InceptionDate_y', 'Category', 'IsETF', 'IsQDII', 'IsActiveOrPassive']\n",
    "maininfo_ = pd.merge(maininfo, unitclassinfo_, how='inner' ,on='MasterFundCode')[selected_columns].drop_duplicates(subset='Symbol').reset_index(drop=True)\n",
    "maininfo_['InceptionDate'] = maininfo_.InceptionDate_y\n",
    "maininfo_ = maininfo_.drop('InceptionDate_y', axis=1)"
   ]
  },
  {
   "cell_type": "code",
   "execution_count": 10,
   "metadata": {},
   "outputs": [],
   "source": [
    "maininfo_['Symbol'] = maininfo_.Symbol.astype(str).str.zfill(6)\n",
    "maininfo_['Category'] = maininfo_['Category'].str.replace('基金', '')\n",
    "maininfo_ = maininfo_.rename(columns={'Symbol': 'main_code', 'Category': 'csmar_category', 'IsETF': 'csmar_IsETF', 'IsQDII': 'csmar_IsQDII', 'IsActiveOrPassive': 'csmar_IsActiveOrPassive'})"
   ]
  },
  {
   "cell_type": "code",
   "execution_count": 11,
   "metadata": {},
   "outputs": [],
   "source": [
    "wind_category = pd.read_excel('wind_category.xlsx')\n",
    "wind_category['证券代码'] = wind_category.证券代码.astype(str).str.split('.').str[0].str.zfill(6)\n",
    "wind_category = wind_category.rename(columns={'证券代码': 'main_code'})\n",
    "wind_category['投资类型(一级分类)'] = wind_category['投资类型(一级分类)'].str.replace('基金', '').str.replace('货币市场型', '货币型')\n",
    "wind_category['投资类型(二级分类)'] = wind_category['投资类型(二级分类)'].apply(lambda style: 2 if '被动' in style else 1)\n",
    "\n",
    "wind_category = wind_category.rename(columns={'投资类型(一级分类)': 'wind_category', '投资类型(二级分类)': 'wind_active_or_passive'})\n"
   ]
  },
  {
   "cell_type": "code",
   "execution_count": 12,
   "metadata": {},
   "outputs": [
    {
     "data": {
      "text/html": [
       "<div>\n",
       "<style scoped>\n",
       "    .dataframe tbody tr th:only-of-type {\n",
       "        vertical-align: middle;\n",
       "    }\n",
       "\n",
       "    .dataframe tbody tr th {\n",
       "        vertical-align: top;\n",
       "    }\n",
       "\n",
       "    .dataframe thead th {\n",
       "        text-align: right;\n",
       "    }\n",
       "</style>\n",
       "<table border=\"1\" class=\"dataframe\">\n",
       "  <thead>\n",
       "    <tr style=\"text-align: right;\">\n",
       "      <th></th>\n",
       "      <th>name</th>\n",
       "      <th>main_code</th>\n",
       "      <th>underlying_asset_type</th>\n",
       "      <th>csmar_category</th>\n",
       "      <th>wind_category</th>\n",
       "      <th>csmar_IsETF</th>\n",
       "      <th>csmar_IsQDII</th>\n",
       "      <th>operate_mode</th>\n",
       "      <th>wind_active_or_passive</th>\n",
       "      <th>csmar_IsActiveOrPassive</th>\n",
       "    </tr>\n",
       "  </thead>\n",
       "  <tbody>\n",
       "    <tr>\n",
       "      <th>0</th>\n",
       "      <td>中海可转债债券</td>\n",
       "      <td>000003</td>\n",
       "      <td>债券型</td>\n",
       "      <td>债券型</td>\n",
       "      <td>债券型</td>\n",
       "      <td>2</td>\n",
       "      <td>2</td>\n",
       "      <td>开放式基金</td>\n",
       "      <td>1</td>\n",
       "      <td>NaN</td>\n",
       "    </tr>\n",
       "    <tr>\n",
       "      <th>1</th>\n",
       "      <td>中海可转债C</td>\n",
       "      <td>000004</td>\n",
       "      <td>债券型</td>\n",
       "      <td>债券型</td>\n",
       "      <td>债券型</td>\n",
       "      <td>2</td>\n",
       "      <td>2</td>\n",
       "      <td>开放式基金</td>\n",
       "      <td>1</td>\n",
       "      <td>NaN</td>\n",
       "    </tr>\n",
       "    <tr>\n",
       "      <th>2</th>\n",
       "      <td>嘉实增强信用</td>\n",
       "      <td>000005</td>\n",
       "      <td>债券型</td>\n",
       "      <td>债券型</td>\n",
       "      <td>债券型</td>\n",
       "      <td>2</td>\n",
       "      <td>2</td>\n",
       "      <td>开放式基金</td>\n",
       "      <td>1</td>\n",
       "      <td>NaN</td>\n",
       "    </tr>\n",
       "    <tr>\n",
       "      <th>3</th>\n",
       "      <td>西部利得量化成长混合</td>\n",
       "      <td>000006</td>\n",
       "      <td>混合型</td>\n",
       "      <td>混合型</td>\n",
       "      <td>混合型</td>\n",
       "      <td>2</td>\n",
       "      <td>2</td>\n",
       "      <td>开放式基金</td>\n",
       "      <td>1</td>\n",
       "      <td>1.0</td>\n",
       "    </tr>\n",
       "    <tr>\n",
       "      <th>4</th>\n",
       "      <td>嘉实中证500ETF联接</td>\n",
       "      <td>000008</td>\n",
       "      <td>基金型</td>\n",
       "      <td>股票型</td>\n",
       "      <td>股票型</td>\n",
       "      <td>2</td>\n",
       "      <td>2</td>\n",
       "      <td>开放式基金</td>\n",
       "      <td>2</td>\n",
       "      <td>2.0</td>\n",
       "    </tr>\n",
       "    <tr>\n",
       "      <th>...</th>\n",
       "      <td>...</td>\n",
       "      <td>...</td>\n",
       "      <td>...</td>\n",
       "      <td>...</td>\n",
       "      <td>...</td>\n",
       "      <td>...</td>\n",
       "      <td>...</td>\n",
       "      <td>...</td>\n",
       "      <td>...</td>\n",
       "      <td>...</td>\n",
       "    </tr>\n",
       "    <tr>\n",
       "      <th>16074</th>\n",
       "      <td>博时特许R</td>\n",
       "      <td>960026</td>\n",
       "      <td>混合型</td>\n",
       "      <td>混合型</td>\n",
       "      <td>混合型</td>\n",
       "      <td>2</td>\n",
       "      <td>2</td>\n",
       "      <td>开放式基金</td>\n",
       "      <td>1</td>\n",
       "      <td>1.0</td>\n",
       "    </tr>\n",
       "    <tr>\n",
       "      <th>16075</th>\n",
       "      <td>博时信用R</td>\n",
       "      <td>960027</td>\n",
       "      <td>债券型</td>\n",
       "      <td>债券型</td>\n",
       "      <td>债券型</td>\n",
       "      <td>2</td>\n",
       "      <td>2</td>\n",
       "      <td>开放式基金</td>\n",
       "      <td>1</td>\n",
       "      <td>NaN</td>\n",
       "    </tr>\n",
       "    <tr>\n",
       "      <th>16076</th>\n",
       "      <td>建信优选H</td>\n",
       "      <td>960028</td>\n",
       "      <td>混合型</td>\n",
       "      <td>混合型</td>\n",
       "      <td>混合型</td>\n",
       "      <td>2</td>\n",
       "      <td>2</td>\n",
       "      <td>开放式基金</td>\n",
       "      <td>1</td>\n",
       "      <td>1.0</td>\n",
       "    </tr>\n",
       "    <tr>\n",
       "      <th>16077</th>\n",
       "      <td>建信双息H</td>\n",
       "      <td>960029</td>\n",
       "      <td>债券型</td>\n",
       "      <td>债券型</td>\n",
       "      <td>债券型</td>\n",
       "      <td>2</td>\n",
       "      <td>2</td>\n",
       "      <td>开放式基金</td>\n",
       "      <td>1</td>\n",
       "      <td>NaN</td>\n",
       "    </tr>\n",
       "    <tr>\n",
       "      <th>16078</th>\n",
       "      <td>农银消费H</td>\n",
       "      <td>960033</td>\n",
       "      <td>混合型</td>\n",
       "      <td>混合型</td>\n",
       "      <td>混合型</td>\n",
       "      <td>2</td>\n",
       "      <td>2</td>\n",
       "      <td>开放式基金</td>\n",
       "      <td>1</td>\n",
       "      <td>1.0</td>\n",
       "    </tr>\n",
       "  </tbody>\n",
       "</table>\n",
       "<p>16079 rows × 10 columns</p>\n",
       "</div>"
      ],
      "text/plain": [
       "               name main_code underlying_asset_type csmar_category  \\\n",
       "0           中海可转债债券    000003                   债券型            债券型   \n",
       "1            中海可转债C    000004                   债券型            债券型   \n",
       "2            嘉实增强信用    000005                   债券型            债券型   \n",
       "3        西部利得量化成长混合    000006                   混合型            混合型   \n",
       "4      嘉实中证500ETF联接    000008                   基金型            股票型   \n",
       "...             ...       ...                   ...            ...   \n",
       "16074         博时特许R    960026                   混合型            混合型   \n",
       "16075         博时信用R    960027                   债券型            债券型   \n",
       "16076         建信优选H    960028                   混合型            混合型   \n",
       "16077         建信双息H    960029                   债券型            债券型   \n",
       "16078         农银消费H    960033                   混合型            混合型   \n",
       "\n",
       "      wind_category  csmar_IsETF  csmar_IsQDII operate_mode  \\\n",
       "0               债券型            2             2        开放式基金   \n",
       "1               债券型            2             2        开放式基金   \n",
       "2               债券型            2             2        开放式基金   \n",
       "3               混合型            2             2        开放式基金   \n",
       "4               股票型            2             2        开放式基金   \n",
       "...             ...          ...           ...          ...   \n",
       "16074           混合型            2             2        开放式基金   \n",
       "16075           债券型            2             2        开放式基金   \n",
       "16076           混合型            2             2        开放式基金   \n",
       "16077           债券型            2             2        开放式基金   \n",
       "16078           混合型            2             2        开放式基金   \n",
       "\n",
       "       wind_active_or_passive  csmar_IsActiveOrPassive  \n",
       "0                           1                      NaN  \n",
       "1                           1                      NaN  \n",
       "2                           1                      NaN  \n",
       "3                           1                      1.0  \n",
       "4                           2                      2.0  \n",
       "...                       ...                      ...  \n",
       "16074                       1                      1.0  \n",
       "16075                       1                      NaN  \n",
       "16076                       1                      1.0  \n",
       "16077                       1                      NaN  \n",
       "16078                       1                      1.0  \n",
       "\n",
       "[16079 rows x 10 columns]"
      ]
     },
     "execution_count": 12,
     "metadata": {},
     "output_type": "execute_result"
    }
   ],
   "source": [
    "temp_merge = pd.merge(fund_main_info, maininfo_, on='main_code')\\\n",
    "    [['name', 'main_code', 'underlying_asset_type', 'csmar_category', 'csmar_IsETF', 'csmar_IsQDII', 'operate_mode', 'csmar_IsActiveOrPassive']]\n",
    "full_merge = pd.merge(temp_merge, wind_category, on='main_code')\\\n",
    "    [['name', 'main_code', 'underlying_asset_type', 'csmar_category', 'wind_category', 'csmar_IsETF', 'csmar_IsQDII', 'operate_mode', 'wind_active_or_passive', 'csmar_IsActiveOrPassive']]\n",
    "full_merge"
   ]
  },
  {
   "cell_type": "code",
   "execution_count": 13,
   "metadata": {},
   "outputs": [
    {
     "data": {
      "text/html": [
       "<div>\n",
       "<style scoped>\n",
       "    .dataframe tbody tr th:only-of-type {\n",
       "        vertical-align: middle;\n",
       "    }\n",
       "\n",
       "    .dataframe tbody tr th {\n",
       "        vertical-align: top;\n",
       "    }\n",
       "\n",
       "    .dataframe thead th {\n",
       "        text-align: right;\n",
       "    }\n",
       "</style>\n",
       "<table border=\"1\" class=\"dataframe\">\n",
       "  <thead>\n",
       "    <tr style=\"text-align: right;\">\n",
       "      <th></th>\n",
       "      <th>name</th>\n",
       "      <th>main_code</th>\n",
       "      <th>underlying_asset_type</th>\n",
       "      <th>csmar_category</th>\n",
       "      <th>wind_category</th>\n",
       "      <th>csmar_IsETF</th>\n",
       "      <th>csmar_IsQDII</th>\n",
       "      <th>operate_mode</th>\n",
       "      <th>wind_active_or_passive</th>\n",
       "      <th>csmar_IsActiveOrPassive</th>\n",
       "    </tr>\n",
       "  </thead>\n",
       "  <tbody>\n",
       "    <tr>\n",
       "      <th>4</th>\n",
       "      <td>嘉实中证500ETF联接</td>\n",
       "      <td>000008</td>\n",
       "      <td>基金型</td>\n",
       "      <td>股票型</td>\n",
       "      <td>股票型</td>\n",
       "      <td>2</td>\n",
       "      <td>2</td>\n",
       "      <td>开放式基金</td>\n",
       "      <td>2</td>\n",
       "      <td>2.0</td>\n",
       "    </tr>\n",
       "    <tr>\n",
       "      <th>25</th>\n",
       "      <td>华夏全球</td>\n",
       "      <td>000041</td>\n",
       "      <td>股票型</td>\n",
       "      <td>股票型</td>\n",
       "      <td>国际(QDII)</td>\n",
       "      <td>2</td>\n",
       "      <td>1</td>\n",
       "      <td>QDII</td>\n",
       "      <td>1</td>\n",
       "      <td>1.0</td>\n",
       "    </tr>\n",
       "    <tr>\n",
       "      <th>27</th>\n",
       "      <td>嘉实美国成长股票（QDII）</td>\n",
       "      <td>000043</td>\n",
       "      <td>股票型</td>\n",
       "      <td>股票型</td>\n",
       "      <td>国际(QDII)</td>\n",
       "      <td>2</td>\n",
       "      <td>1</td>\n",
       "      <td>QDII</td>\n",
       "      <td>1</td>\n",
       "      <td>1.0</td>\n",
       "    </tr>\n",
       "    <tr>\n",
       "      <th>28</th>\n",
       "      <td>嘉实美股(美元现汇)</td>\n",
       "      <td>000044</td>\n",
       "      <td>股票型</td>\n",
       "      <td>股票型</td>\n",
       "      <td>国际(QDII)</td>\n",
       "      <td>2</td>\n",
       "      <td>1</td>\n",
       "      <td>QDII</td>\n",
       "      <td>1</td>\n",
       "      <td>1.0</td>\n",
       "    </tr>\n",
       "    <tr>\n",
       "      <th>33</th>\n",
       "      <td>中银标普全球资源等权重指数（QDII）</td>\n",
       "      <td>000049</td>\n",
       "      <td>股票型</td>\n",
       "      <td>股票型</td>\n",
       "      <td>国际(QDII)</td>\n",
       "      <td>2</td>\n",
       "      <td>1</td>\n",
       "      <td>QDII</td>\n",
       "      <td>1</td>\n",
       "      <td>2.0</td>\n",
       "    </tr>\n",
       "    <tr>\n",
       "      <th>34</th>\n",
       "      <td>华夏沪深300ETF联接</td>\n",
       "      <td>000051</td>\n",
       "      <td>基金型</td>\n",
       "      <td>股票型</td>\n",
       "      <td>股票型</td>\n",
       "      <td>2</td>\n",
       "      <td>2</td>\n",
       "      <td>开放式基金</td>\n",
       "      <td>2</td>\n",
       "      <td>2.0</td>\n",
       "    </tr>\n",
       "    <tr>\n",
       "      <th>37</th>\n",
       "      <td>广发纳指100ETF联接美元(QDII)A</td>\n",
       "      <td>000055</td>\n",
       "      <td>基金型</td>\n",
       "      <td>股票型</td>\n",
       "      <td>国际(QDII)</td>\n",
       "      <td>2</td>\n",
       "      <td>1</td>\n",
       "      <td>QDII</td>\n",
       "      <td>1</td>\n",
       "      <td>2.0</td>\n",
       "    </tr>\n",
       "    <tr>\n",
       "      <th>51</th>\n",
       "      <td>华夏恒生ETF联接</td>\n",
       "      <td>000071</td>\n",
       "      <td>基金型</td>\n",
       "      <td>股票型</td>\n",
       "      <td>国际(QDII)</td>\n",
       "      <td>2</td>\n",
       "      <td>2</td>\n",
       "      <td>QDII</td>\n",
       "      <td>1</td>\n",
       "      <td>2.0</td>\n",
       "    </tr>\n",
       "    <tr>\n",
       "      <th>55</th>\n",
       "      <td>华夏恒生ETF联接A(美元现汇)</td>\n",
       "      <td>000075</td>\n",
       "      <td>基金型</td>\n",
       "      <td>股票型</td>\n",
       "      <td>国际(QDII)</td>\n",
       "      <td>2</td>\n",
       "      <td>2</td>\n",
       "      <td>QDII</td>\n",
       "      <td>1</td>\n",
       "      <td>2.0</td>\n",
       "    </tr>\n",
       "    <tr>\n",
       "      <th>56</th>\n",
       "      <td>华夏恒生ETF联接A(美元现钞)</td>\n",
       "      <td>000076</td>\n",
       "      <td>基金型</td>\n",
       "      <td>股票型</td>\n",
       "      <td>国际(QDII)</td>\n",
       "      <td>2</td>\n",
       "      <td>2</td>\n",
       "      <td>QDII</td>\n",
       "      <td>1</td>\n",
       "      <td>2.0</td>\n",
       "    </tr>\n",
       "    <tr>\n",
       "      <th>69</th>\n",
       "      <td>国泰高收益债</td>\n",
       "      <td>000103</td>\n",
       "      <td>债券型</td>\n",
       "      <td>债券型</td>\n",
       "      <td>国际(QDII)</td>\n",
       "      <td>2</td>\n",
       "      <td>1</td>\n",
       "      <td>QDII</td>\n",
       "      <td>1</td>\n",
       "      <td>NaN</td>\n",
       "    </tr>\n",
       "    <tr>\n",
       "      <th>117</th>\n",
       "      <td>广发美国房地产指数（QDII）</td>\n",
       "      <td>000179</td>\n",
       "      <td>股票型</td>\n",
       "      <td>股票型</td>\n",
       "      <td>国际(QDII)</td>\n",
       "      <td>2</td>\n",
       "      <td>1</td>\n",
       "      <td>QDII</td>\n",
       "      <td>1</td>\n",
       "      <td>2.0</td>\n",
       "    </tr>\n",
       "    <tr>\n",
       "      <th>118</th>\n",
       "      <td>广发美国房地产指数美元(QDII)A</td>\n",
       "      <td>000180</td>\n",
       "      <td>股票型</td>\n",
       "      <td>股票型</td>\n",
       "      <td>国际(QDII)</td>\n",
       "      <td>2</td>\n",
       "      <td>1</td>\n",
       "      <td>QDII</td>\n",
       "      <td>1</td>\n",
       "      <td>2.0</td>\n",
       "    </tr>\n",
       "    <tr>\n",
       "      <th>152</th>\n",
       "      <td>华安黄金易ETF联接A</td>\n",
       "      <td>000216</td>\n",
       "      <td>基金型</td>\n",
       "      <td>混合型</td>\n",
       "      <td>另类投资</td>\n",
       "      <td>2</td>\n",
       "      <td>2</td>\n",
       "      <td>开放式基金</td>\n",
       "      <td>1</td>\n",
       "      <td>NaN</td>\n",
       "    </tr>\n",
       "    <tr>\n",
       "      <th>153</th>\n",
       "      <td>华安黄金易ETF联接C</td>\n",
       "      <td>000217</td>\n",
       "      <td>基金型</td>\n",
       "      <td>混合型</td>\n",
       "      <td>另类投资</td>\n",
       "      <td>2</td>\n",
       "      <td>2</td>\n",
       "      <td>开放式基金</td>\n",
       "      <td>1</td>\n",
       "      <td>NaN</td>\n",
       "    </tr>\n",
       "    <tr>\n",
       "      <th>154</th>\n",
       "      <td>国泰黄金ETF联接A</td>\n",
       "      <td>000218</td>\n",
       "      <td>基金型</td>\n",
       "      <td>FOF</td>\n",
       "      <td>另类投资</td>\n",
       "      <td>2</td>\n",
       "      <td>2</td>\n",
       "      <td>开放式基金</td>\n",
       "      <td>1</td>\n",
       "      <td>2.0</td>\n",
       "    </tr>\n",
       "    <tr>\n",
       "      <th>168</th>\n",
       "      <td>汇添富消费联接A</td>\n",
       "      <td>000248</td>\n",
       "      <td>基金型</td>\n",
       "      <td>股票型</td>\n",
       "      <td>股票型</td>\n",
       "      <td>2</td>\n",
       "      <td>2</td>\n",
       "      <td>开放式基金</td>\n",
       "      <td>2</td>\n",
       "      <td>2.0</td>\n",
       "    </tr>\n",
       "    <tr>\n",
       "      <th>185</th>\n",
       "      <td>广发亚太债A人民币</td>\n",
       "      <td>000274</td>\n",
       "      <td>债券型</td>\n",
       "      <td>债券型</td>\n",
       "      <td>国际(QDII)</td>\n",
       "      <td>2</td>\n",
       "      <td>1</td>\n",
       "      <td>QDII</td>\n",
       "      <td>1</td>\n",
       "      <td>NaN</td>\n",
       "    </tr>\n",
       "    <tr>\n",
       "      <th>186</th>\n",
       "      <td>广发亚太债A美元</td>\n",
       "      <td>000275</td>\n",
       "      <td>债券型</td>\n",
       "      <td>债券型</td>\n",
       "      <td>国际(QDII)</td>\n",
       "      <td>2</td>\n",
       "      <td>1</td>\n",
       "      <td>QDII</td>\n",
       "      <td>1</td>\n",
       "      <td>NaN</td>\n",
       "    </tr>\n",
       "    <tr>\n",
       "      <th>191</th>\n",
       "      <td>鹏华全球</td>\n",
       "      <td>000290</td>\n",
       "      <td>债券型</td>\n",
       "      <td>债券型</td>\n",
       "      <td>国际(QDII)</td>\n",
       "      <td>2</td>\n",
       "      <td>1</td>\n",
       "      <td>QDII</td>\n",
       "      <td>1</td>\n",
       "      <td>NaN</td>\n",
       "    </tr>\n",
       "  </tbody>\n",
       "</table>\n",
       "</div>"
      ],
      "text/plain": [
       "                      name main_code underlying_asset_type csmar_category  \\\n",
       "4             嘉实中证500ETF联接    000008                   基金型            股票型   \n",
       "25                    华夏全球    000041                   股票型            股票型   \n",
       "27          嘉实美国成长股票（QDII）    000043                   股票型            股票型   \n",
       "28              嘉实美股(美元现汇)    000044                   股票型            股票型   \n",
       "33     中银标普全球资源等权重指数（QDII）    000049                   股票型            股票型   \n",
       "34            华夏沪深300ETF联接    000051                   基金型            股票型   \n",
       "37   广发纳指100ETF联接美元(QDII)A    000055                   基金型            股票型   \n",
       "51               华夏恒生ETF联接    000071                   基金型            股票型   \n",
       "55        华夏恒生ETF联接A(美元现汇)    000075                   基金型            股票型   \n",
       "56        华夏恒生ETF联接A(美元现钞)    000076                   基金型            股票型   \n",
       "69                  国泰高收益债    000103                   债券型            债券型   \n",
       "117        广发美国房地产指数（QDII）    000179                   股票型            股票型   \n",
       "118     广发美国房地产指数美元(QDII)A    000180                   股票型            股票型   \n",
       "152            华安黄金易ETF联接A    000216                   基金型            混合型   \n",
       "153            华安黄金易ETF联接C    000217                   基金型            混合型   \n",
       "154             国泰黄金ETF联接A    000218                   基金型            FOF   \n",
       "168               汇添富消费联接A    000248                   基金型            股票型   \n",
       "185              广发亚太债A人民币    000274                   债券型            债券型   \n",
       "186               广发亚太债A美元    000275                   债券型            债券型   \n",
       "191                   鹏华全球    000290                   债券型            债券型   \n",
       "\n",
       "    wind_category  csmar_IsETF  csmar_IsQDII operate_mode  \\\n",
       "4             股票型            2             2        开放式基金   \n",
       "25       国际(QDII)            2             1         QDII   \n",
       "27       国际(QDII)            2             1         QDII   \n",
       "28       国际(QDII)            2             1         QDII   \n",
       "33       国际(QDII)            2             1         QDII   \n",
       "34            股票型            2             2        开放式基金   \n",
       "37       国际(QDII)            2             1         QDII   \n",
       "51       国际(QDII)            2             2         QDII   \n",
       "55       国际(QDII)            2             2         QDII   \n",
       "56       国际(QDII)            2             2         QDII   \n",
       "69       国际(QDII)            2             1         QDII   \n",
       "117      国际(QDII)            2             1         QDII   \n",
       "118      国际(QDII)            2             1         QDII   \n",
       "152          另类投资            2             2        开放式基金   \n",
       "153          另类投资            2             2        开放式基金   \n",
       "154          另类投资            2             2        开放式基金   \n",
       "168           股票型            2             2        开放式基金   \n",
       "185      国际(QDII)            2             1         QDII   \n",
       "186      国际(QDII)            2             1         QDII   \n",
       "191      国际(QDII)            2             1         QDII   \n",
       "\n",
       "     wind_active_or_passive  csmar_IsActiveOrPassive  \n",
       "4                         2                      2.0  \n",
       "25                        1                      1.0  \n",
       "27                        1                      1.0  \n",
       "28                        1                      1.0  \n",
       "33                        1                      2.0  \n",
       "34                        2                      2.0  \n",
       "37                        1                      2.0  \n",
       "51                        1                      2.0  \n",
       "55                        1                      2.0  \n",
       "56                        1                      2.0  \n",
       "69                        1                      NaN  \n",
       "117                       1                      2.0  \n",
       "118                       1                      2.0  \n",
       "152                       1                      NaN  \n",
       "153                       1                      NaN  \n",
       "154                       1                      2.0  \n",
       "168                       2                      2.0  \n",
       "185                       1                      NaN  \n",
       "186                       1                      NaN  \n",
       "191                       1                      NaN  "
      ]
     },
     "execution_count": 13,
     "metadata": {},
     "output_type": "execute_result"
    }
   ],
   "source": [
    "# NOTE improve: random sample to verify\n",
    "full_merge[full_merge[['underlying_asset_type', 'csmar_category', 'wind_category']].T.nunique() != 1].head(20)"
   ]
  },
  {
   "cell_type": "markdown",
   "metadata": {},
   "source": [
    "<img src=\"attachment\\000008.jpg\" width=1200> <img src=\"attachment\\000051.jpg\" width=1200> <img src=\"attachment\\000248.jpg\" width=1200> <img src=\"attachment\\000071.jpg\" width=1200> <img src=\"attachment\\000055.jpg\" width=600>\n"
   ]
  },
  {
   "cell_type": "code",
   "execution_count": 14,
   "metadata": {},
   "outputs": [
    {
     "data": {
      "text/plain": [
       "array(['001620', '001683', '001769', '001772', '001773'], dtype=object)"
      ]
     },
     "execution_count": 14,
     "metadata": {},
     "output_type": "execute_result"
    }
   ],
   "source": [
    "np.setdiff1d(fund_main_info.main_code, wind_category.main_code)[:5]"
   ]
  },
  {
   "cell_type": "code",
   "execution_count": 15,
   "metadata": {},
   "outputs": [
    {
     "data": {
      "text/html": [
       "<div>\n",
       "<style scoped>\n",
       "    .dataframe tbody tr th:only-of-type {\n",
       "        vertical-align: middle;\n",
       "    }\n",
       "\n",
       "    .dataframe tbody tr th {\n",
       "        vertical-align: top;\n",
       "    }\n",
       "\n",
       "    .dataframe thead th {\n",
       "        text-align: right;\n",
       "    }\n",
       "</style>\n",
       "<table border=\"1\" class=\"dataframe\">\n",
       "  <thead>\n",
       "    <tr style=\"text-align: right;\">\n",
       "      <th></th>\n",
       "      <th>id</th>\n",
       "      <th>main_code</th>\n",
       "      <th>statistics_main_code</th>\n",
       "      <th>name</th>\n",
       "      <th>advisor</th>\n",
       "      <th>trustee</th>\n",
       "      <th>operate_mode_id</th>\n",
       "      <th>operate_mode</th>\n",
       "      <th>underlying_asset_type_id</th>\n",
       "      <th>underlying_asset_type</th>\n",
       "      <th>invest_style_id</th>\n",
       "      <th>invest_style</th>\n",
       "      <th>start_date</th>\n",
       "      <th>end_date</th>\n",
       "    </tr>\n",
       "  </thead>\n",
       "  <tbody>\n",
       "    <tr>\n",
       "      <th>1178</th>\n",
       "      <td>1049</td>\n",
       "      <td>001620</td>\n",
       "      <td>None</td>\n",
       "      <td>嘉实新机遇</td>\n",
       "      <td>嘉实基金管理有限公司</td>\n",
       "      <td>中国工商银行股份有限公司</td>\n",
       "      <td>401001</td>\n",
       "      <td>开放式基金</td>\n",
       "      <td>402004</td>\n",
       "      <td>混合型</td>\n",
       "      <td>005005</td>\n",
       "      <td>偏股混合型</td>\n",
       "      <td>2015-07</td>\n",
       "      <td>None</td>\n",
       "    </tr>\n",
       "  </tbody>\n",
       "</table>\n",
       "</div>"
      ],
      "text/plain": [
       "        id main_code statistics_main_code   name     advisor       trustee  \\\n",
       "1178  1049    001620                 None  嘉实新机遇  嘉实基金管理有限公司  中国工商银行股份有限公司   \n",
       "\n",
       "      operate_mode_id operate_mode  underlying_asset_type_id  \\\n",
       "1178           401001        开放式基金                    402004   \n",
       "\n",
       "     underlying_asset_type invest_style_id invest_style start_date end_date  \n",
       "1178                   混合型          005005        偏股混合型    2015-07     None  "
      ]
     },
     "execution_count": 15,
     "metadata": {},
     "output_type": "execute_result"
    }
   ],
   "source": [
    "fund_main_info[fund_main_info.main_code == '001620']"
   ]
  },
  {
   "cell_type": "markdown",
   "metadata": {},
   "source": [
    "<img src=\"attachment/001620.jpg\" width=500> <img src=\"attachment/001620_.jpg\" width=700> <img src=\"attachment/001620__.jpg\" width=700>"
   ]
  },
  {
   "cell_type": "code",
   "execution_count": 16,
   "metadata": {},
   "outputs": [
    {
     "data": {
      "text/html": [
       "<div>\n",
       "<style scoped>\n",
       "    .dataframe tbody tr th:only-of-type {\n",
       "        vertical-align: middle;\n",
       "    }\n",
       "\n",
       "    .dataframe tbody tr th {\n",
       "        vertical-align: top;\n",
       "    }\n",
       "\n",
       "    .dataframe thead th {\n",
       "        text-align: right;\n",
       "    }\n",
       "</style>\n",
       "<table border=\"1\" class=\"dataframe\">\n",
       "  <thead>\n",
       "    <tr style=\"text-align: right;\">\n",
       "      <th></th>\n",
       "      <th>main_code</th>\n",
       "      <th>name</th>\n",
       "      <th>operate_mode</th>\n",
       "      <th>underlying_asset_type</th>\n",
       "      <th>wind_active_or_passive</th>\n",
       "      <th>start_date</th>\n",
       "    </tr>\n",
       "  </thead>\n",
       "  <tbody>\n",
       "    <tr>\n",
       "      <th>0</th>\n",
       "      <td>000001</td>\n",
       "      <td>华夏成长</td>\n",
       "      <td>开放式基金</td>\n",
       "      <td>混合型</td>\n",
       "      <td>1</td>\n",
       "      <td>2001-12</td>\n",
       "    </tr>\n",
       "    <tr>\n",
       "      <th>1</th>\n",
       "      <td>000003</td>\n",
       "      <td>中海可转债债券</td>\n",
       "      <td>开放式基金</td>\n",
       "      <td>债券型</td>\n",
       "      <td>1</td>\n",
       "      <td>2013-03</td>\n",
       "    </tr>\n",
       "    <tr>\n",
       "      <th>2</th>\n",
       "      <td>000004</td>\n",
       "      <td>中海可转债C</td>\n",
       "      <td>开放式基金</td>\n",
       "      <td>债券型</td>\n",
       "      <td>1</td>\n",
       "      <td>2013-03</td>\n",
       "    </tr>\n",
       "    <tr>\n",
       "      <th>3</th>\n",
       "      <td>000005</td>\n",
       "      <td>嘉实增强信用</td>\n",
       "      <td>开放式基金</td>\n",
       "      <td>债券型</td>\n",
       "      <td>1</td>\n",
       "      <td>2013-03</td>\n",
       "    </tr>\n",
       "    <tr>\n",
       "      <th>4</th>\n",
       "      <td>000006</td>\n",
       "      <td>西部利得量化成长混合</td>\n",
       "      <td>开放式基金</td>\n",
       "      <td>混合型</td>\n",
       "      <td>1</td>\n",
       "      <td>2019-03</td>\n",
       "    </tr>\n",
       "    <tr>\n",
       "      <th>...</th>\n",
       "      <td>...</td>\n",
       "      <td>...</td>\n",
       "      <td>...</td>\n",
       "      <td>...</td>\n",
       "      <td>...</td>\n",
       "      <td>...</td>\n",
       "    </tr>\n",
       "    <tr>\n",
       "      <th>16291</th>\n",
       "      <td>960026</td>\n",
       "      <td>博时特许R</td>\n",
       "      <td>开放式基金</td>\n",
       "      <td>混合型</td>\n",
       "      <td>1</td>\n",
       "      <td>2016-01</td>\n",
       "    </tr>\n",
       "    <tr>\n",
       "      <th>16292</th>\n",
       "      <td>960027</td>\n",
       "      <td>博时信用R</td>\n",
       "      <td>开放式基金</td>\n",
       "      <td>债券型</td>\n",
       "      <td>1</td>\n",
       "      <td>2016-01</td>\n",
       "    </tr>\n",
       "    <tr>\n",
       "      <th>16293</th>\n",
       "      <td>960028</td>\n",
       "      <td>建信优选H</td>\n",
       "      <td>开放式基金</td>\n",
       "      <td>混合型</td>\n",
       "      <td>1</td>\n",
       "      <td>2016-04</td>\n",
       "    </tr>\n",
       "    <tr>\n",
       "      <th>16294</th>\n",
       "      <td>960029</td>\n",
       "      <td>建信双息H</td>\n",
       "      <td>开放式基金</td>\n",
       "      <td>债券型</td>\n",
       "      <td>1</td>\n",
       "      <td>2016-04</td>\n",
       "    </tr>\n",
       "    <tr>\n",
       "      <th>16295</th>\n",
       "      <td>960033</td>\n",
       "      <td>农银消费H</td>\n",
       "      <td>开放式基金</td>\n",
       "      <td>混合型</td>\n",
       "      <td>1</td>\n",
       "      <td>2016-07</td>\n",
       "    </tr>\n",
       "  </tbody>\n",
       "</table>\n",
       "<p>16296 rows × 6 columns</p>\n",
       "</div>"
      ],
      "text/plain": [
       "      main_code        name operate_mode underlying_asset_type  \\\n",
       "0        000001        华夏成长        开放式基金                   混合型   \n",
       "1        000003     中海可转债债券        开放式基金                   债券型   \n",
       "2        000004      中海可转债C        开放式基金                   债券型   \n",
       "3        000005      嘉实增强信用        开放式基金                   债券型   \n",
       "4        000006  西部利得量化成长混合        开放式基金                   混合型   \n",
       "...         ...         ...          ...                   ...   \n",
       "16291    960026       博时特许R        开放式基金                   混合型   \n",
       "16292    960027       博时信用R        开放式基金                   债券型   \n",
       "16293    960028       建信优选H        开放式基金                   混合型   \n",
       "16294    960029       建信双息H        开放式基金                   债券型   \n",
       "16295    960033       农银消费H        开放式基金                   混合型   \n",
       "\n",
       "       wind_active_or_passive start_date  \n",
       "0                           1    2001-12  \n",
       "1                           1    2013-03  \n",
       "2                           1    2013-03  \n",
       "3                           1    2013-03  \n",
       "4                           1    2019-03  \n",
       "...                       ...        ...  \n",
       "16291                       1    2016-01  \n",
       "16292                       1    2016-01  \n",
       "16293                       1    2016-04  \n",
       "16294                       1    2016-04  \n",
       "16295                       1    2016-07  \n",
       "\n",
       "[16296 rows x 6 columns]"
      ]
     },
     "execution_count": 16,
     "metadata": {},
     "output_type": "execute_result"
    }
   ],
   "source": [
    "final_main_info = pd.merge(fund_main_info, wind_category, on='main_code')[['main_code', 'name', 'operate_mode', 'underlying_asset_type', 'wind_active_or_passive', 'start_date']]\n",
    "final_main_info"
   ]
  },
  {
   "cell_type": "markdown",
   "metadata": {},
   "source": [
    "## **II. Preprocessing**"
   ]
  },
  {
   "cell_type": "code",
   "execution_count": 17,
   "metadata": {},
   "outputs": [
    {
     "data": {
      "application/vnd.plotly.v1+json": {
       "config": {
        "plotlyServerURL": "https://plot.ly"
       },
       "data": [
        {
         "domain": {
          "x": [
           0,
           0.2888888888888889
          ],
          "y": [
           0,
           1
          ]
         },
         "labels": [
          "混合型",
          "债券型",
          "股票型",
          "货币型",
          "基金型",
          "商品"
         ],
         "type": "pie",
         "values": [
          7573,
          4727,
          2538,
          728,
          710,
          20
         ]
        },
        {
         "domain": {
          "x": [
           0.35555555555555557,
           0.6444444444444445
          ],
          "y": [
           0,
           1
          ]
         },
         "labels": [
          "开放式基金",
          "封闭式基金",
          "ETF",
          "FOF",
          "QDII",
          "LOF",
          "MOM"
         ],
         "type": "pie",
         "values": [
          12434,
          1909,
          693,
          456,
          421,
          375,
          8
         ]
        },
        {
         "domain": {
          "x": [
           0.7111111111111111,
           1
          ],
          "y": [
           0,
           1
          ]
         },
         "labels": [
          "1非被动",
          "2被动"
         ],
         "type": "pie",
         "values": [
          14208,
          2088
         ]
        }
       ],
       "layout": {
        "height": 500,
        "template": {
         "data": {
          "bar": [
           {
            "error_x": {
             "color": "#2a3f5f"
            },
            "error_y": {
             "color": "#2a3f5f"
            },
            "marker": {
             "line": {
              "color": "#E5ECF6",
              "width": 0.5
             },
             "pattern": {
              "fillmode": "overlay",
              "size": 10,
              "solidity": 0.2
             }
            },
            "type": "bar"
           }
          ],
          "barpolar": [
           {
            "marker": {
             "line": {
              "color": "#E5ECF6",
              "width": 0.5
             },
             "pattern": {
              "fillmode": "overlay",
              "size": 10,
              "solidity": 0.2
             }
            },
            "type": "barpolar"
           }
          ],
          "carpet": [
           {
            "aaxis": {
             "endlinecolor": "#2a3f5f",
             "gridcolor": "white",
             "linecolor": "white",
             "minorgridcolor": "white",
             "startlinecolor": "#2a3f5f"
            },
            "baxis": {
             "endlinecolor": "#2a3f5f",
             "gridcolor": "white",
             "linecolor": "white",
             "minorgridcolor": "white",
             "startlinecolor": "#2a3f5f"
            },
            "type": "carpet"
           }
          ],
          "choropleth": [
           {
            "colorbar": {
             "outlinewidth": 0,
             "ticks": ""
            },
            "type": "choropleth"
           }
          ],
          "contour": [
           {
            "colorbar": {
             "outlinewidth": 0,
             "ticks": ""
            },
            "colorscale": [
             [
              0,
              "#0d0887"
             ],
             [
              0.1111111111111111,
              "#46039f"
             ],
             [
              0.2222222222222222,
              "#7201a8"
             ],
             [
              0.3333333333333333,
              "#9c179e"
             ],
             [
              0.4444444444444444,
              "#bd3786"
             ],
             [
              0.5555555555555556,
              "#d8576b"
             ],
             [
              0.6666666666666666,
              "#ed7953"
             ],
             [
              0.7777777777777778,
              "#fb9f3a"
             ],
             [
              0.8888888888888888,
              "#fdca26"
             ],
             [
              1,
              "#f0f921"
             ]
            ],
            "type": "contour"
           }
          ],
          "contourcarpet": [
           {
            "colorbar": {
             "outlinewidth": 0,
             "ticks": ""
            },
            "type": "contourcarpet"
           }
          ],
          "heatmap": [
           {
            "colorbar": {
             "outlinewidth": 0,
             "ticks": ""
            },
            "colorscale": [
             [
              0,
              "#0d0887"
             ],
             [
              0.1111111111111111,
              "#46039f"
             ],
             [
              0.2222222222222222,
              "#7201a8"
             ],
             [
              0.3333333333333333,
              "#9c179e"
             ],
             [
              0.4444444444444444,
              "#bd3786"
             ],
             [
              0.5555555555555556,
              "#d8576b"
             ],
             [
              0.6666666666666666,
              "#ed7953"
             ],
             [
              0.7777777777777778,
              "#fb9f3a"
             ],
             [
              0.8888888888888888,
              "#fdca26"
             ],
             [
              1,
              "#f0f921"
             ]
            ],
            "type": "heatmap"
           }
          ],
          "heatmapgl": [
           {
            "colorbar": {
             "outlinewidth": 0,
             "ticks": ""
            },
            "colorscale": [
             [
              0,
              "#0d0887"
             ],
             [
              0.1111111111111111,
              "#46039f"
             ],
             [
              0.2222222222222222,
              "#7201a8"
             ],
             [
              0.3333333333333333,
              "#9c179e"
             ],
             [
              0.4444444444444444,
              "#bd3786"
             ],
             [
              0.5555555555555556,
              "#d8576b"
             ],
             [
              0.6666666666666666,
              "#ed7953"
             ],
             [
              0.7777777777777778,
              "#fb9f3a"
             ],
             [
              0.8888888888888888,
              "#fdca26"
             ],
             [
              1,
              "#f0f921"
             ]
            ],
            "type": "heatmapgl"
           }
          ],
          "histogram": [
           {
            "marker": {
             "pattern": {
              "fillmode": "overlay",
              "size": 10,
              "solidity": 0.2
             }
            },
            "type": "histogram"
           }
          ],
          "histogram2d": [
           {
            "colorbar": {
             "outlinewidth": 0,
             "ticks": ""
            },
            "colorscale": [
             [
              0,
              "#0d0887"
             ],
             [
              0.1111111111111111,
              "#46039f"
             ],
             [
              0.2222222222222222,
              "#7201a8"
             ],
             [
              0.3333333333333333,
              "#9c179e"
             ],
             [
              0.4444444444444444,
              "#bd3786"
             ],
             [
              0.5555555555555556,
              "#d8576b"
             ],
             [
              0.6666666666666666,
              "#ed7953"
             ],
             [
              0.7777777777777778,
              "#fb9f3a"
             ],
             [
              0.8888888888888888,
              "#fdca26"
             ],
             [
              1,
              "#f0f921"
             ]
            ],
            "type": "histogram2d"
           }
          ],
          "histogram2dcontour": [
           {
            "colorbar": {
             "outlinewidth": 0,
             "ticks": ""
            },
            "colorscale": [
             [
              0,
              "#0d0887"
             ],
             [
              0.1111111111111111,
              "#46039f"
             ],
             [
              0.2222222222222222,
              "#7201a8"
             ],
             [
              0.3333333333333333,
              "#9c179e"
             ],
             [
              0.4444444444444444,
              "#bd3786"
             ],
             [
              0.5555555555555556,
              "#d8576b"
             ],
             [
              0.6666666666666666,
              "#ed7953"
             ],
             [
              0.7777777777777778,
              "#fb9f3a"
             ],
             [
              0.8888888888888888,
              "#fdca26"
             ],
             [
              1,
              "#f0f921"
             ]
            ],
            "type": "histogram2dcontour"
           }
          ],
          "mesh3d": [
           {
            "colorbar": {
             "outlinewidth": 0,
             "ticks": ""
            },
            "type": "mesh3d"
           }
          ],
          "parcoords": [
           {
            "line": {
             "colorbar": {
              "outlinewidth": 0,
              "ticks": ""
             }
            },
            "type": "parcoords"
           }
          ],
          "pie": [
           {
            "automargin": true,
            "type": "pie"
           }
          ],
          "scatter": [
           {
            "fillpattern": {
             "fillmode": "overlay",
             "size": 10,
             "solidity": 0.2
            },
            "type": "scatter"
           }
          ],
          "scatter3d": [
           {
            "line": {
             "colorbar": {
              "outlinewidth": 0,
              "ticks": ""
             }
            },
            "marker": {
             "colorbar": {
              "outlinewidth": 0,
              "ticks": ""
             }
            },
            "type": "scatter3d"
           }
          ],
          "scattercarpet": [
           {
            "marker": {
             "colorbar": {
              "outlinewidth": 0,
              "ticks": ""
             }
            },
            "type": "scattercarpet"
           }
          ],
          "scattergeo": [
           {
            "marker": {
             "colorbar": {
              "outlinewidth": 0,
              "ticks": ""
             }
            },
            "type": "scattergeo"
           }
          ],
          "scattergl": [
           {
            "marker": {
             "colorbar": {
              "outlinewidth": 0,
              "ticks": ""
             }
            },
            "type": "scattergl"
           }
          ],
          "scattermapbox": [
           {
            "marker": {
             "colorbar": {
              "outlinewidth": 0,
              "ticks": ""
             }
            },
            "type": "scattermapbox"
           }
          ],
          "scatterpolar": [
           {
            "marker": {
             "colorbar": {
              "outlinewidth": 0,
              "ticks": ""
             }
            },
            "type": "scatterpolar"
           }
          ],
          "scatterpolargl": [
           {
            "marker": {
             "colorbar": {
              "outlinewidth": 0,
              "ticks": ""
             }
            },
            "type": "scatterpolargl"
           }
          ],
          "scatterternary": [
           {
            "marker": {
             "colorbar": {
              "outlinewidth": 0,
              "ticks": ""
             }
            },
            "type": "scatterternary"
           }
          ],
          "surface": [
           {
            "colorbar": {
             "outlinewidth": 0,
             "ticks": ""
            },
            "colorscale": [
             [
              0,
              "#0d0887"
             ],
             [
              0.1111111111111111,
              "#46039f"
             ],
             [
              0.2222222222222222,
              "#7201a8"
             ],
             [
              0.3333333333333333,
              "#9c179e"
             ],
             [
              0.4444444444444444,
              "#bd3786"
             ],
             [
              0.5555555555555556,
              "#d8576b"
             ],
             [
              0.6666666666666666,
              "#ed7953"
             ],
             [
              0.7777777777777778,
              "#fb9f3a"
             ],
             [
              0.8888888888888888,
              "#fdca26"
             ],
             [
              1,
              "#f0f921"
             ]
            ],
            "type": "surface"
           }
          ],
          "table": [
           {
            "cells": {
             "fill": {
              "color": "#EBF0F8"
             },
             "line": {
              "color": "white"
             }
            },
            "header": {
             "fill": {
              "color": "#C8D4E3"
             },
             "line": {
              "color": "white"
             }
            },
            "type": "table"
           }
          ]
         },
         "layout": {
          "annotationdefaults": {
           "arrowcolor": "#2a3f5f",
           "arrowhead": 0,
           "arrowwidth": 1
          },
          "autotypenumbers": "strict",
          "coloraxis": {
           "colorbar": {
            "outlinewidth": 0,
            "ticks": ""
           }
          },
          "colorscale": {
           "diverging": [
            [
             0,
             "#8e0152"
            ],
            [
             0.1,
             "#c51b7d"
            ],
            [
             0.2,
             "#de77ae"
            ],
            [
             0.3,
             "#f1b6da"
            ],
            [
             0.4,
             "#fde0ef"
            ],
            [
             0.5,
             "#f7f7f7"
            ],
            [
             0.6,
             "#e6f5d0"
            ],
            [
             0.7,
             "#b8e186"
            ],
            [
             0.8,
             "#7fbc41"
            ],
            [
             0.9,
             "#4d9221"
            ],
            [
             1,
             "#276419"
            ]
           ],
           "sequential": [
            [
             0,
             "#0d0887"
            ],
            [
             0.1111111111111111,
             "#46039f"
            ],
            [
             0.2222222222222222,
             "#7201a8"
            ],
            [
             0.3333333333333333,
             "#9c179e"
            ],
            [
             0.4444444444444444,
             "#bd3786"
            ],
            [
             0.5555555555555556,
             "#d8576b"
            ],
            [
             0.6666666666666666,
             "#ed7953"
            ],
            [
             0.7777777777777778,
             "#fb9f3a"
            ],
            [
             0.8888888888888888,
             "#fdca26"
            ],
            [
             1,
             "#f0f921"
            ]
           ],
           "sequentialminus": [
            [
             0,
             "#0d0887"
            ],
            [
             0.1111111111111111,
             "#46039f"
            ],
            [
             0.2222222222222222,
             "#7201a8"
            ],
            [
             0.3333333333333333,
             "#9c179e"
            ],
            [
             0.4444444444444444,
             "#bd3786"
            ],
            [
             0.5555555555555556,
             "#d8576b"
            ],
            [
             0.6666666666666666,
             "#ed7953"
            ],
            [
             0.7777777777777778,
             "#fb9f3a"
            ],
            [
             0.8888888888888888,
             "#fdca26"
            ],
            [
             1,
             "#f0f921"
            ]
           ]
          },
          "colorway": [
           "#636efa",
           "#EF553B",
           "#00cc96",
           "#ab63fa",
           "#FFA15A",
           "#19d3f3",
           "#FF6692",
           "#B6E880",
           "#FF97FF",
           "#FECB52"
          ],
          "font": {
           "color": "#2a3f5f"
          },
          "geo": {
           "bgcolor": "white",
           "lakecolor": "white",
           "landcolor": "#E5ECF6",
           "showlakes": true,
           "showland": true,
           "subunitcolor": "white"
          },
          "hoverlabel": {
           "align": "left"
          },
          "hovermode": "closest",
          "mapbox": {
           "style": "light"
          },
          "paper_bgcolor": "white",
          "plot_bgcolor": "#E5ECF6",
          "polar": {
           "angularaxis": {
            "gridcolor": "white",
            "linecolor": "white",
            "ticks": ""
           },
           "bgcolor": "#E5ECF6",
           "radialaxis": {
            "gridcolor": "white",
            "linecolor": "white",
            "ticks": ""
           }
          },
          "scene": {
           "xaxis": {
            "backgroundcolor": "#E5ECF6",
            "gridcolor": "white",
            "gridwidth": 2,
            "linecolor": "white",
            "showbackground": true,
            "ticks": "",
            "zerolinecolor": "white"
           },
           "yaxis": {
            "backgroundcolor": "#E5ECF6",
            "gridcolor": "white",
            "gridwidth": 2,
            "linecolor": "white",
            "showbackground": true,
            "ticks": "",
            "zerolinecolor": "white"
           },
           "zaxis": {
            "backgroundcolor": "#E5ECF6",
            "gridcolor": "white",
            "gridwidth": 2,
            "linecolor": "white",
            "showbackground": true,
            "ticks": "",
            "zerolinecolor": "white"
           }
          },
          "shapedefaults": {
           "line": {
            "color": "#2a3f5f"
           }
          },
          "ternary": {
           "aaxis": {
            "gridcolor": "white",
            "linecolor": "white",
            "ticks": ""
           },
           "baxis": {
            "gridcolor": "white",
            "linecolor": "white",
            "ticks": ""
           },
           "bgcolor": "#E5ECF6",
           "caxis": {
            "gridcolor": "white",
            "linecolor": "white",
            "ticks": ""
           }
          },
          "title": {
           "x": 0.05
          },
          "xaxis": {
           "automargin": true,
           "gridcolor": "white",
           "linecolor": "white",
           "ticks": "",
           "title": {
            "standoff": 15
           },
           "zerolinecolor": "white",
           "zerolinewidth": 2
          },
          "yaxis": {
           "automargin": true,
           "gridcolor": "white",
           "linecolor": "white",
           "ticks": "",
           "title": {
            "standoff": 15
           },
           "zerolinecolor": "white",
           "zerolinewidth": 2
          }
         }
        },
        "width": 1200
       }
      }
     },
     "metadata": {},
     "output_type": "display_data"
    }
   ],
   "source": [
    "specs = [[{'type':'domain'}] * 3]\n",
    "\n",
    "fig = make_subplots(rows=1, cols=3, specs=specs)\n",
    "\n",
    "fig.add_trace(go.Pie(labels=final_main_info.underlying_asset_type.value_counts().index, values=final_main_info.underlying_asset_type.value_counts().values), 1, 1)\n",
    "fig.add_trace(go.Pie(labels=final_main_info.operate_mode.value_counts().index, values=final_main_info.operate_mode.value_counts().values), 1, 2)\n",
    "fig.add_trace(go.Pie(labels=final_main_info.wind_active_or_passive.replace([1, 2], ['1非被动', '2被动']).value_counts().index, values=final_main_info.wind_active_or_passive.value_counts().values), 1, 3)\n",
    "\n",
    "fig.update_layout(width=1200, height=500)"
   ]
  },
  {
   "cell_type": "markdown",
   "metadata": {},
   "source": [
    "### 1. first 4 : static filtering"
   ]
  },
  {
   "cell_type": "markdown",
   "metadata": {},
   "source": [
    "（1）基金类别必须为“股票型基金”或“混合型基金”；\n",
    "\n",
    "（2）非 ETF 类基金；\n",
    "\n",
    "（3）非 QDII 类基金；\n",
    "\n",
    "（4）主动管理标识为 1 或者为空；"
   ]
  },
  {
   "cell_type": "code",
   "execution_count": 18,
   "metadata": {},
   "outputs": [
    {
     "data": {
      "text/plain": [
       "array([0.62045901, 0.95747423, 0.97416544, 0.8718704 ])"
      ]
     },
     "execution_count": 18,
     "metadata": {},
     "output_type": "execute_result"
    }
   ],
   "source": [
    "filter_1 = np.logical_or(final_main_info.underlying_asset_type == '股票型', final_main_info.underlying_asset_type == '混合型')\n",
    "filter_2 = final_main_info.operate_mode != 'ETF'\n",
    "filter_3 = final_main_info.operate_mode != 'QDII'\n",
    "filter_4 = final_main_info.wind_active_or_passive != 2\n",
    "\n",
    "filters = [(1, filter_1), (2, filter_2), (3, filter_3), (4, filter_4)]\n",
    "np.array(list(map(lambda _: _[1].sum(), filters))) / len(final_main_info)\n",
    "\n",
    "# proportional data left"
   ]
  },
  {
   "cell_type": "code",
   "execution_count": 19,
   "metadata": {},
   "outputs": [
    {
     "name": "stdout",
     "output_type": "stream",
     "text": [
      "filter 1: 16296 to 10111, 37.95% funds dropped\n",
      "filter 2: 10111 to 9482, 6.22% funds dropped\n",
      "filter 3: 9482 to 9202, 2.9499999999999997% funds dropped\n",
      "filter 4: 9202 to 8643, 6.069999999999999% funds dropped\n"
     ]
    }
   ],
   "source": [
    "def func(previous, now):\n",
    "    if type(previous) == tuple:\n",
    "        print(f'filter {previous[0]}: {len(final_main_info)} to {previous[1].sum()}, ' + round_(1 - previous[1].sum() / len(final_main_info)) + ' funds dropped')\n",
    "        temp = np.logical_and(previous[1], now[1])\n",
    "        print(f'filter {now[0]}: {previous[1].sum()} to {temp.sum()}, ' + round_(1 - temp.sum() / previous[1].sum()) + ' funds dropped')\n",
    "        return temp\n",
    "    else:\n",
    "        temp = np.logical_and(previous, now[1])\n",
    "        print(f'filter {now[0]}: {previous.sum()} to {temp.sum()}, ' + round_(1 - temp.sum() / previous.sum()) + ' funds dropped')\n",
    "        return temp\n",
    "\n",
    "\n",
    "filters_ = reduce(func, filters)"
   ]
  },
  {
   "cell_type": "code",
   "execution_count": 20,
   "metadata": {},
   "outputs": [
    {
     "data": {
      "text/html": [
       "<div>\n",
       "<style scoped>\n",
       "    .dataframe tbody tr th:only-of-type {\n",
       "        vertical-align: middle;\n",
       "    }\n",
       "\n",
       "    .dataframe tbody tr th {\n",
       "        vertical-align: top;\n",
       "    }\n",
       "\n",
       "    .dataframe thead th {\n",
       "        text-align: right;\n",
       "    }\n",
       "</style>\n",
       "<table border=\"1\" class=\"dataframe\">\n",
       "  <thead>\n",
       "    <tr style=\"text-align: right;\">\n",
       "      <th></th>\n",
       "      <th>name</th>\n",
       "      <th>operate_mode</th>\n",
       "      <th>underlying_asset_type</th>\n",
       "      <th>wind_active_or_passive</th>\n",
       "      <th>start_date</th>\n",
       "    </tr>\n",
       "    <tr>\n",
       "      <th>main_code</th>\n",
       "      <th></th>\n",
       "      <th></th>\n",
       "      <th></th>\n",
       "      <th></th>\n",
       "      <th></th>\n",
       "    </tr>\n",
       "  </thead>\n",
       "  <tbody>\n",
       "    <tr>\n",
       "      <th>000001</th>\n",
       "      <td>华夏成长</td>\n",
       "      <td>开放式基金</td>\n",
       "      <td>混合型</td>\n",
       "      <td>1</td>\n",
       "      <td>2001-12</td>\n",
       "    </tr>\n",
       "    <tr>\n",
       "      <th>000006</th>\n",
       "      <td>西部利得量化成长混合</td>\n",
       "      <td>开放式基金</td>\n",
       "      <td>混合型</td>\n",
       "      <td>1</td>\n",
       "      <td>2019-03</td>\n",
       "    </tr>\n",
       "    <tr>\n",
       "      <th>000011</th>\n",
       "      <td>华夏大盘</td>\n",
       "      <td>开放式基金</td>\n",
       "      <td>混合型</td>\n",
       "      <td>1</td>\n",
       "      <td>2004-08</td>\n",
       "    </tr>\n",
       "    <tr>\n",
       "      <th>000017</th>\n",
       "      <td>财通可持续混合</td>\n",
       "      <td>开放式基金</td>\n",
       "      <td>混合型</td>\n",
       "      <td>1</td>\n",
       "      <td>2013-03</td>\n",
       "    </tr>\n",
       "    <tr>\n",
       "      <th>000020</th>\n",
       "      <td>景顺品质</td>\n",
       "      <td>开放式基金</td>\n",
       "      <td>混合型</td>\n",
       "      <td>1</td>\n",
       "      <td>2013-03</td>\n",
       "    </tr>\n",
       "    <tr>\n",
       "      <th>...</th>\n",
       "      <td>...</td>\n",
       "      <td>...</td>\n",
       "      <td>...</td>\n",
       "      <td>...</td>\n",
       "      <td>...</td>\n",
       "    </tr>\n",
       "    <tr>\n",
       "      <th>960023</th>\n",
       "      <td>工银稳健成长混合H</td>\n",
       "      <td>开放式基金</td>\n",
       "      <td>混合型</td>\n",
       "      <td>1</td>\n",
       "      <td>2015-08</td>\n",
       "    </tr>\n",
       "    <tr>\n",
       "      <th>960024</th>\n",
       "      <td>嘉实成长H</td>\n",
       "      <td>开放式基金</td>\n",
       "      <td>混合型</td>\n",
       "      <td>1</td>\n",
       "      <td>2016-01</td>\n",
       "    </tr>\n",
       "    <tr>\n",
       "      <th>960026</th>\n",
       "      <td>博时特许R</td>\n",
       "      <td>开放式基金</td>\n",
       "      <td>混合型</td>\n",
       "      <td>1</td>\n",
       "      <td>2016-01</td>\n",
       "    </tr>\n",
       "    <tr>\n",
       "      <th>960028</th>\n",
       "      <td>建信优选H</td>\n",
       "      <td>开放式基金</td>\n",
       "      <td>混合型</td>\n",
       "      <td>1</td>\n",
       "      <td>2016-04</td>\n",
       "    </tr>\n",
       "    <tr>\n",
       "      <th>960033</th>\n",
       "      <td>农银消费H</td>\n",
       "      <td>开放式基金</td>\n",
       "      <td>混合型</td>\n",
       "      <td>1</td>\n",
       "      <td>2016-07</td>\n",
       "    </tr>\n",
       "  </tbody>\n",
       "</table>\n",
       "<p>8643 rows × 5 columns</p>\n",
       "</div>"
      ],
      "text/plain": [
       "                 name operate_mode underlying_asset_type  \\\n",
       "main_code                                                  \n",
       "000001           华夏成长        开放式基金                   混合型   \n",
       "000006     西部利得量化成长混合        开放式基金                   混合型   \n",
       "000011           华夏大盘        开放式基金                   混合型   \n",
       "000017        财通可持续混合        开放式基金                   混合型   \n",
       "000020           景顺品质        开放式基金                   混合型   \n",
       "...               ...          ...                   ...   \n",
       "960023      工银稳健成长混合H        开放式基金                   混合型   \n",
       "960024          嘉实成长H        开放式基金                   混合型   \n",
       "960026          博时特许R        开放式基金                   混合型   \n",
       "960028          建信优选H        开放式基金                   混合型   \n",
       "960033          农银消费H        开放式基金                   混合型   \n",
       "\n",
       "           wind_active_or_passive start_date  \n",
       "main_code                                     \n",
       "000001                          1    2001-12  \n",
       "000006                          1    2019-03  \n",
       "000011                          1    2004-08  \n",
       "000017                          1    2013-03  \n",
       "000020                          1    2013-03  \n",
       "...                           ...        ...  \n",
       "960023                          1    2015-08  \n",
       "960024                          1    2016-01  \n",
       "960026                          1    2016-01  \n",
       "960028                          1    2016-04  \n",
       "960033                          1    2016-07  \n",
       "\n",
       "[8643 rows x 5 columns]"
      ]
     },
     "execution_count": 20,
     "metadata": {},
     "output_type": "execute_result"
    }
   ],
   "source": [
    "final_main_info_ = final_main_info[filters_]\n",
    "final_main_info_.set_index('main_code').sort_index()"
   ]
  },
  {
   "cell_type": "markdown",
   "metadata": {},
   "source": [
    "### ii. use filtered data (first 4) to create big table\n",
    "\n",
    "big table: from `fund code` indexed only to `fund code-month` multiIndex"
   ]
  },
  {
   "cell_type": "code",
   "execution_count": 21,
   "metadata": {},
   "outputs": [
    {
     "data": {
      "text/html": [
       "<div>\n",
       "<style scoped>\n",
       "    .dataframe tbody tr th:only-of-type {\n",
       "        vertical-align: middle;\n",
       "    }\n",
       "\n",
       "    .dataframe tbody tr th {\n",
       "        vertical-align: top;\n",
       "    }\n",
       "\n",
       "    .dataframe thead th {\n",
       "        text-align: right;\n",
       "    }\n",
       "</style>\n",
       "<table border=\"1\" class=\"dataframe\">\n",
       "  <thead>\n",
       "    <tr style=\"text-align: right;\">\n",
       "      <th></th>\n",
       "      <th></th>\n",
       "      <th>name</th>\n",
       "      <th>operate_mode</th>\n",
       "      <th>underlying_asset_type</th>\n",
       "      <th>wind_active_or_passive</th>\n",
       "      <th>start_date</th>\n",
       "    </tr>\n",
       "    <tr>\n",
       "      <th>main_code</th>\n",
       "      <th>date</th>\n",
       "      <th></th>\n",
       "      <th></th>\n",
       "      <th></th>\n",
       "      <th></th>\n",
       "      <th></th>\n",
       "    </tr>\n",
       "  </thead>\n",
       "  <tbody>\n",
       "    <tr>\n",
       "      <th rowspan=\"5\" valign=\"top\">000001</th>\n",
       "      <th>2002-01</th>\n",
       "      <td>华夏成长</td>\n",
       "      <td>开放式基金</td>\n",
       "      <td>混合型</td>\n",
       "      <td>1</td>\n",
       "      <td>2001-12</td>\n",
       "    </tr>\n",
       "    <tr>\n",
       "      <th>2002-02</th>\n",
       "      <td>华夏成长</td>\n",
       "      <td>开放式基金</td>\n",
       "      <td>混合型</td>\n",
       "      <td>1</td>\n",
       "      <td>2001-12</td>\n",
       "    </tr>\n",
       "    <tr>\n",
       "      <th>2002-03</th>\n",
       "      <td>华夏成长</td>\n",
       "      <td>开放式基金</td>\n",
       "      <td>混合型</td>\n",
       "      <td>1</td>\n",
       "      <td>2001-12</td>\n",
       "    </tr>\n",
       "    <tr>\n",
       "      <th>2002-04</th>\n",
       "      <td>华夏成长</td>\n",
       "      <td>开放式基金</td>\n",
       "      <td>混合型</td>\n",
       "      <td>1</td>\n",
       "      <td>2001-12</td>\n",
       "    </tr>\n",
       "    <tr>\n",
       "      <th>2002-05</th>\n",
       "      <td>华夏成长</td>\n",
       "      <td>开放式基金</td>\n",
       "      <td>混合型</td>\n",
       "      <td>1</td>\n",
       "      <td>2001-12</td>\n",
       "    </tr>\n",
       "    <tr>\n",
       "      <th>...</th>\n",
       "      <th>...</th>\n",
       "      <td>...</td>\n",
       "      <td>...</td>\n",
       "      <td>...</td>\n",
       "      <td>...</td>\n",
       "      <td>...</td>\n",
       "    </tr>\n",
       "    <tr>\n",
       "      <th rowspan=\"5\" valign=\"top\">960033</th>\n",
       "      <th>2022-05</th>\n",
       "      <td>农银消费H</td>\n",
       "      <td>开放式基金</td>\n",
       "      <td>混合型</td>\n",
       "      <td>1</td>\n",
       "      <td>2016-07</td>\n",
       "    </tr>\n",
       "    <tr>\n",
       "      <th>2022-06</th>\n",
       "      <td>农银消费H</td>\n",
       "      <td>开放式基金</td>\n",
       "      <td>混合型</td>\n",
       "      <td>1</td>\n",
       "      <td>2016-07</td>\n",
       "    </tr>\n",
       "    <tr>\n",
       "      <th>2022-07</th>\n",
       "      <td>农银消费H</td>\n",
       "      <td>开放式基金</td>\n",
       "      <td>混合型</td>\n",
       "      <td>1</td>\n",
       "      <td>2016-07</td>\n",
       "    </tr>\n",
       "    <tr>\n",
       "      <th>2022-08</th>\n",
       "      <td>农银消费H</td>\n",
       "      <td>开放式基金</td>\n",
       "      <td>混合型</td>\n",
       "      <td>1</td>\n",
       "      <td>2016-07</td>\n",
       "    </tr>\n",
       "    <tr>\n",
       "      <th>2022-09</th>\n",
       "      <td>农银消费H</td>\n",
       "      <td>开放式基金</td>\n",
       "      <td>混合型</td>\n",
       "      <td>1</td>\n",
       "      <td>2016-07</td>\n",
       "    </tr>\n",
       "  </tbody>\n",
       "</table>\n",
       "<p>382854 rows × 5 columns</p>\n",
       "</div>"
      ],
      "text/plain": [
       "                    name operate_mode underlying_asset_type  \\\n",
       "main_code date                                                \n",
       "000001    2002-01   华夏成长        开放式基金                   混合型   \n",
       "          2002-02   华夏成长        开放式基金                   混合型   \n",
       "          2002-03   华夏成长        开放式基金                   混合型   \n",
       "          2002-04   华夏成长        开放式基金                   混合型   \n",
       "          2002-05   华夏成长        开放式基金                   混合型   \n",
       "...                  ...          ...                   ...   \n",
       "960033    2022-05  农银消费H        开放式基金                   混合型   \n",
       "          2022-06  农银消费H        开放式基金                   混合型   \n",
       "          2022-07  农银消费H        开放式基金                   混合型   \n",
       "          2022-08  农银消费H        开放式基金                   混合型   \n",
       "          2022-09  农银消费H        开放式基金                   混合型   \n",
       "\n",
       "                   wind_active_or_passive start_date  \n",
       "main_code date                                        \n",
       "000001    2002-01                       1    2001-12  \n",
       "          2002-02                       1    2001-12  \n",
       "          2002-03                       1    2001-12  \n",
       "          2002-04                       1    2001-12  \n",
       "          2002-05                       1    2001-12  \n",
       "...                                   ...        ...  \n",
       "960033    2022-05                       1    2016-07  \n",
       "          2022-06                       1    2016-07  \n",
       "          2022-07                       1    2016-07  \n",
       "          2022-08                       1    2016-07  \n",
       "          2022-09                       1    2016-07  \n",
       "\n",
       "[382854 rows x 5 columns]"
      ]
     },
     "execution_count": 21,
     "metadata": {},
     "output_type": "execute_result"
    }
   ],
   "source": [
    "indexes = pd.MultiIndex.from_product([final_main_info_.main_code.sort_values().values, pd.date_range('2002-1', '2022-10', freq='M')])\n",
    "temp_codes = indexes.get_level_values(0)\n",
    "temp_date = indexes.get_level_values(1)\n",
    "main_data = pd.DataFrame(index=indexes)\n",
    "main_data['main_code'] = temp_codes\n",
    "main_data['date'] = temp_date.to_period('M')\n",
    "main_data = pd.merge(main_data, final_main_info_, on='main_code')\n",
    "main_data = main_data[main_data.date >= main_data.start_date].reset_index(drop=True)\n",
    "main_data.set_index(['main_code', 'date'])"
   ]
  },
  {
   "cell_type": "code",
   "execution_count": 23,
   "metadata": {},
   "outputs": [
    {
     "data": {
      "text/html": [
       "<div>\n",
       "<style scoped>\n",
       "    .dataframe tbody tr th:only-of-type {\n",
       "        vertical-align: middle;\n",
       "    }\n",
       "\n",
       "    .dataframe tbody tr th {\n",
       "        vertical-align: top;\n",
       "    }\n",
       "\n",
       "    .dataframe thead th {\n",
       "        text-align: right;\n",
       "    }\n",
       "</style>\n",
       "<table border=\"1\" class=\"dataframe\">\n",
       "  <thead>\n",
       "    <tr style=\"text-align: right;\">\n",
       "      <th></th>\n",
       "      <th>main_code</th>\n",
       "      <th>date</th>\n",
       "      <th>name</th>\n",
       "      <th>operate_mode</th>\n",
       "      <th>underlying_asset_type</th>\n",
       "      <th>wind_active_or_passive</th>\n",
       "      <th>start_date</th>\n",
       "    </tr>\n",
       "  </thead>\n",
       "  <tbody>\n",
       "    <tr>\n",
       "      <th>0</th>\n",
       "      <td>000001</td>\n",
       "      <td>2002-01</td>\n",
       "      <td>华夏成长</td>\n",
       "      <td>开放式基金</td>\n",
       "      <td>混合型</td>\n",
       "      <td>1</td>\n",
       "      <td>2001-12</td>\n",
       "    </tr>\n",
       "    <tr>\n",
       "      <th>1</th>\n",
       "      <td>000001</td>\n",
       "      <td>2002-02</td>\n",
       "      <td>华夏成长</td>\n",
       "      <td>开放式基金</td>\n",
       "      <td>混合型</td>\n",
       "      <td>1</td>\n",
       "      <td>2001-12</td>\n",
       "    </tr>\n",
       "    <tr>\n",
       "      <th>2</th>\n",
       "      <td>000001</td>\n",
       "      <td>2002-03</td>\n",
       "      <td>华夏成长</td>\n",
       "      <td>开放式基金</td>\n",
       "      <td>混合型</td>\n",
       "      <td>1</td>\n",
       "      <td>2001-12</td>\n",
       "    </tr>\n",
       "    <tr>\n",
       "      <th>3</th>\n",
       "      <td>000001</td>\n",
       "      <td>2002-04</td>\n",
       "      <td>华夏成长</td>\n",
       "      <td>开放式基金</td>\n",
       "      <td>混合型</td>\n",
       "      <td>1</td>\n",
       "      <td>2001-12</td>\n",
       "    </tr>\n",
       "    <tr>\n",
       "      <th>4</th>\n",
       "      <td>000001</td>\n",
       "      <td>2002-05</td>\n",
       "      <td>华夏成长</td>\n",
       "      <td>开放式基金</td>\n",
       "      <td>混合型</td>\n",
       "      <td>1</td>\n",
       "      <td>2001-12</td>\n",
       "    </tr>\n",
       "    <tr>\n",
       "      <th>...</th>\n",
       "      <td>...</td>\n",
       "      <td>...</td>\n",
       "      <td>...</td>\n",
       "      <td>...</td>\n",
       "      <td>...</td>\n",
       "      <td>...</td>\n",
       "      <td>...</td>\n",
       "    </tr>\n",
       "    <tr>\n",
       "      <th>382849</th>\n",
       "      <td>960033</td>\n",
       "      <td>2022-05</td>\n",
       "      <td>农银消费H</td>\n",
       "      <td>开放式基金</td>\n",
       "      <td>混合型</td>\n",
       "      <td>1</td>\n",
       "      <td>2016-07</td>\n",
       "    </tr>\n",
       "    <tr>\n",
       "      <th>382850</th>\n",
       "      <td>960033</td>\n",
       "      <td>2022-06</td>\n",
       "      <td>农银消费H</td>\n",
       "      <td>开放式基金</td>\n",
       "      <td>混合型</td>\n",
       "      <td>1</td>\n",
       "      <td>2016-07</td>\n",
       "    </tr>\n",
       "    <tr>\n",
       "      <th>382851</th>\n",
       "      <td>960033</td>\n",
       "      <td>2022-07</td>\n",
       "      <td>农银消费H</td>\n",
       "      <td>开放式基金</td>\n",
       "      <td>混合型</td>\n",
       "      <td>1</td>\n",
       "      <td>2016-07</td>\n",
       "    </tr>\n",
       "    <tr>\n",
       "      <th>382852</th>\n",
       "      <td>960033</td>\n",
       "      <td>2022-08</td>\n",
       "      <td>农银消费H</td>\n",
       "      <td>开放式基金</td>\n",
       "      <td>混合型</td>\n",
       "      <td>1</td>\n",
       "      <td>2016-07</td>\n",
       "    </tr>\n",
       "    <tr>\n",
       "      <th>382853</th>\n",
       "      <td>960033</td>\n",
       "      <td>2022-09</td>\n",
       "      <td>农银消费H</td>\n",
       "      <td>开放式基金</td>\n",
       "      <td>混合型</td>\n",
       "      <td>1</td>\n",
       "      <td>2016-07</td>\n",
       "    </tr>\n",
       "  </tbody>\n",
       "</table>\n",
       "<p>382854 rows × 7 columns</p>\n",
       "</div>"
      ],
      "text/plain": [
       "       main_code     date   name operate_mode underlying_asset_type  \\\n",
       "0         000001  2002-01   华夏成长        开放式基金                   混合型   \n",
       "1         000001  2002-02   华夏成长        开放式基金                   混合型   \n",
       "2         000001  2002-03   华夏成长        开放式基金                   混合型   \n",
       "3         000001  2002-04   华夏成长        开放式基金                   混合型   \n",
       "4         000001  2002-05   华夏成长        开放式基金                   混合型   \n",
       "...          ...      ...    ...          ...                   ...   \n",
       "382849    960033  2022-05  农银消费H        开放式基金                   混合型   \n",
       "382850    960033  2022-06  农银消费H        开放式基金                   混合型   \n",
       "382851    960033  2022-07  农银消费H        开放式基金                   混合型   \n",
       "382852    960033  2022-08  农银消费H        开放式基金                   混合型   \n",
       "382853    960033  2022-09  农银消费H        开放式基金                   混合型   \n",
       "\n",
       "        wind_active_or_passive start_date  \n",
       "0                            1    2001-12  \n",
       "1                            1    2001-12  \n",
       "2                            1    2001-12  \n",
       "3                            1    2001-12  \n",
       "4                            1    2001-12  \n",
       "...                        ...        ...  \n",
       "382849                       1    2016-07  \n",
       "382850                       1    2016-07  \n",
       "382851                       1    2016-07  \n",
       "382852                       1    2016-07  \n",
       "382853                       1    2016-07  \n",
       "\n",
       "[382854 rows x 7 columns]"
      ]
     },
     "execution_count": 23,
     "metadata": {},
     "output_type": "execute_result"
    }
   ],
   "source": [
    "main_data"
   ]
  },
  {
   "cell_type": "code",
   "execution_count": 24,
   "metadata": {},
   "outputs": [
    {
     "data": {
      "text/html": [
       "<div>\n",
       "<style scoped>\n",
       "    .dataframe tbody tr th:only-of-type {\n",
       "        vertical-align: middle;\n",
       "    }\n",
       "\n",
       "    .dataframe tbody tr th {\n",
       "        vertical-align: top;\n",
       "    }\n",
       "\n",
       "    .dataframe thead th {\n",
       "        text-align: right;\n",
       "    }\n",
       "</style>\n",
       "<table border=\"1\" class=\"dataframe\">\n",
       "  <thead>\n",
       "    <tr style=\"text-align: right;\">\n",
       "      <th></th>\n",
       "      <th>main_code</th>\n",
       "      <th>name</th>\n",
       "      <th>operate_mode</th>\n",
       "      <th>underlying_asset_type</th>\n",
       "      <th>wind_active_or_passive</th>\n",
       "      <th>start_date</th>\n",
       "    </tr>\n",
       "  </thead>\n",
       "  <tbody>\n",
       "    <tr>\n",
       "      <th>0</th>\n",
       "      <td>000001</td>\n",
       "      <td>华夏成长</td>\n",
       "      <td>开放式基金</td>\n",
       "      <td>混合型</td>\n",
       "      <td>1</td>\n",
       "      <td>2001-12</td>\n",
       "    </tr>\n",
       "    <tr>\n",
       "      <th>4</th>\n",
       "      <td>000006</td>\n",
       "      <td>西部利得量化成长混合</td>\n",
       "      <td>开放式基金</td>\n",
       "      <td>混合型</td>\n",
       "      <td>1</td>\n",
       "      <td>2019-03</td>\n",
       "    </tr>\n",
       "    <tr>\n",
       "      <th>8</th>\n",
       "      <td>000011</td>\n",
       "      <td>华夏大盘</td>\n",
       "      <td>开放式基金</td>\n",
       "      <td>混合型</td>\n",
       "      <td>1</td>\n",
       "      <td>2004-08</td>\n",
       "    </tr>\n",
       "    <tr>\n",
       "      <th>13</th>\n",
       "      <td>000017</td>\n",
       "      <td>财通可持续混合</td>\n",
       "      <td>开放式基金</td>\n",
       "      <td>混合型</td>\n",
       "      <td>1</td>\n",
       "      <td>2013-03</td>\n",
       "    </tr>\n",
       "    <tr>\n",
       "      <th>14</th>\n",
       "      <td>000020</td>\n",
       "      <td>景顺品质</td>\n",
       "      <td>开放式基金</td>\n",
       "      <td>混合型</td>\n",
       "      <td>1</td>\n",
       "      <td>2013-03</td>\n",
       "    </tr>\n",
       "    <tr>\n",
       "      <th>...</th>\n",
       "      <td>...</td>\n",
       "      <td>...</td>\n",
       "      <td>...</td>\n",
       "      <td>...</td>\n",
       "      <td>...</td>\n",
       "      <td>...</td>\n",
       "    </tr>\n",
       "    <tr>\n",
       "      <th>16289</th>\n",
       "      <td>960023</td>\n",
       "      <td>工银稳健成长混合H</td>\n",
       "      <td>开放式基金</td>\n",
       "      <td>混合型</td>\n",
       "      <td>1</td>\n",
       "      <td>2015-08</td>\n",
       "    </tr>\n",
       "    <tr>\n",
       "      <th>16290</th>\n",
       "      <td>960024</td>\n",
       "      <td>嘉实成长H</td>\n",
       "      <td>开放式基金</td>\n",
       "      <td>混合型</td>\n",
       "      <td>1</td>\n",
       "      <td>2016-01</td>\n",
       "    </tr>\n",
       "    <tr>\n",
       "      <th>16291</th>\n",
       "      <td>960026</td>\n",
       "      <td>博时特许R</td>\n",
       "      <td>开放式基金</td>\n",
       "      <td>混合型</td>\n",
       "      <td>1</td>\n",
       "      <td>2016-01</td>\n",
       "    </tr>\n",
       "    <tr>\n",
       "      <th>16293</th>\n",
       "      <td>960028</td>\n",
       "      <td>建信优选H</td>\n",
       "      <td>开放式基金</td>\n",
       "      <td>混合型</td>\n",
       "      <td>1</td>\n",
       "      <td>2016-04</td>\n",
       "    </tr>\n",
       "    <tr>\n",
       "      <th>16295</th>\n",
       "      <td>960033</td>\n",
       "      <td>农银消费H</td>\n",
       "      <td>开放式基金</td>\n",
       "      <td>混合型</td>\n",
       "      <td>1</td>\n",
       "      <td>2016-07</td>\n",
       "    </tr>\n",
       "  </tbody>\n",
       "</table>\n",
       "<p>8643 rows × 6 columns</p>\n",
       "</div>"
      ],
      "text/plain": [
       "      main_code        name operate_mode underlying_asset_type  \\\n",
       "0        000001        华夏成长        开放式基金                   混合型   \n",
       "4        000006  西部利得量化成长混合        开放式基金                   混合型   \n",
       "8        000011        华夏大盘        开放式基金                   混合型   \n",
       "13       000017     财通可持续混合        开放式基金                   混合型   \n",
       "14       000020        景顺品质        开放式基金                   混合型   \n",
       "...         ...         ...          ...                   ...   \n",
       "16289    960023   工银稳健成长混合H        开放式基金                   混合型   \n",
       "16290    960024       嘉实成长H        开放式基金                   混合型   \n",
       "16291    960026       博时特许R        开放式基金                   混合型   \n",
       "16293    960028       建信优选H        开放式基金                   混合型   \n",
       "16295    960033       农银消费H        开放式基金                   混合型   \n",
       "\n",
       "       wind_active_or_passive start_date  \n",
       "0                           1    2001-12  \n",
       "4                           1    2019-03  \n",
       "8                           1    2004-08  \n",
       "13                          1    2013-03  \n",
       "14                          1    2013-03  \n",
       "...                       ...        ...  \n",
       "16289                       1    2015-08  \n",
       "16290                       1    2016-01  \n",
       "16291                       1    2016-01  \n",
       "16293                       1    2016-04  \n",
       "16295                       1    2016-07  \n",
       "\n",
       "[8643 rows x 6 columns]"
      ]
     },
     "execution_count": 24,
     "metadata": {},
     "output_type": "execute_result"
    }
   ],
   "source": [
    "final_main_info_"
   ]
  }
 ],
 "metadata": {
  "kernelspec": {
   "display_name": "Python 3.10.7 64-bit",
   "language": "python",
   "name": "python3"
  },
  "language_info": {
   "codemirror_mode": {
    "name": "ipython",
    "version": 3
   },
   "file_extension": ".py",
   "mimetype": "text/x-python",
   "name": "python",
   "nbconvert_exporter": "python",
   "pygments_lexer": "ipython3",
   "version": "3.10.7"
  },
  "orig_nbformat": 4,
  "vscode": {
   "interpreter": {
    "hash": "30f376259ad5d5354be6f280c6eaf9568078f04b7c7fbe2e366bcbeb41831e82"
   }
  }
 },
 "nbformat": 4,
 "nbformat_minor": 2
}
