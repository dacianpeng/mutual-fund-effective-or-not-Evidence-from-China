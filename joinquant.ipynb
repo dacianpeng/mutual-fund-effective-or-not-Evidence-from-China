{
 "cells": [
  {
   "cell_type": "code",
   "execution_count": 142,
   "metadata": {},
   "outputs": [
    {
     "name": "stderr",
     "output_type": "stream",
     "text": [
      "Fri 07 Oct 2022 09:43:59 CsmarService.py INFO User login succeed\n"
     ]
    }
   ],
   "source": [
    "import math\n",
    "import pickle\n",
    "import time\n",
    "from functools import reduce\n",
    "\n",
    "import dask.dataframe as ddf\n",
    "import jqdatasdk as jq\n",
    "import matplotlib.pyplot as plt\n",
    "import numpy as np\n",
    "import pandas as pd\n",
    "import plotly.express as px\n",
    "import plotly.graph_objects as go\n",
    "from csmarapi.CsmarService import CsmarService\n",
    "from plotly.subplots import make_subplots\n",
    "from scipy import stats\n",
    "\n",
    "from utils.my_cache import cache_wrapper\n",
    "\n",
    "csmar = CsmarService()\n",
    "from csmarapi.ReportUtil import ReportUtil\n",
    "\n",
    "jq.auth('13764432461', 'Swisschina6')\n",
    "csmar.login('wuhh@pbcsf.tsinghua.edu.cn', 'whh8803582')"
   ]
  },
  {
   "cell_type": "markdown",
   "metadata": {},
   "source": [
    "## **I. Data**"
   ]
  },
  {
   "cell_type": "markdown",
   "metadata": {},
   "source": [
    "Source:\n",
    "\n",
    "**Data for Research**\n",
    "\n",
    "- Most Data : `CSMAR`\n",
    "\n",
    "    - nav\n",
    "\n",
    "    - dividend\n",
    "\n",
    "    - split ratio\n",
    "\n",
    "    - money allocation   \n",
    "\n",
    "- Fund classification : `JoinQuant`\n",
    "\n",
    "- Fund start date: `JoinQuant`\n",
    "\n",
    "**Data for Validation**\n",
    "\n",
    "- `AMAC` : [page 15](https://www.amac.org.cn/researchstatistics/publication/zgzqtzjjynb/202104/t20210419_11390.html), for market statistic\n",
    "\n",
    "- `Win.d` : classification/share/nav, for market statistic\n",
    "\n",
    "*Split ratio is exclusively available in CSMAR!*\n",
    "\n",
    "<span style=\"color:blue\">Data is true, reliable and available to fetch</span>"
   ]
  },
  {
   "cell_type": "markdown",
   "metadata": {},
   "source": [
    "AMAC"
   ]
  },
  {
   "cell_type": "code",
   "execution_count": 143,
   "metadata": {},
   "outputs": [],
   "source": [
    "amac = pd.read_csv('data/AMAC/amac.csv', sep='\\t', index_col=0).astype(float)\n",
    "amac.index = pd.to_datetime(amac.index.astype(str)) + pd.Timedelta('180 days')"
   ]
  },
  {
   "cell_type": "markdown",
   "metadata": {},
   "source": [
    "JoinQuant"
   ]
  },
  {
   "cell_type": "code",
   "execution_count": 144,
   "metadata": {},
   "outputs": [],
   "source": [
    "@cache_wrapper(expire = 60 * 60 * 24 * 7)\n",
    "# cache to avoid unnecessary traffic\n",
    "def brief_of_funds(frequency : str = time.strftime('%W')) -> pd.DataFrame:\n",
    "    return jq.get_all_securities(['fund', 'open_fund'], time.strftime('%Y%m%d'))\n",
    "\n",
    "\n",
    "@cache_wrapper(expire = 60 * 60 * 24 * 7)\n",
    "def main_info(fund_codes, frequency : str = time.strftime('%W')) -> pd.DataFrame:\n",
    "    '''\n",
    "    if you want to modify this function, delete cache and go on\n",
    "    '''\n",
    "    limit = jq.DBTable.RESULT_ROWS_LIMIT\n",
    "    fund_code_cuts = np.array_split(fund_codes, math.ceil(len(fund_codes) / limit))\n",
    "    full_table_cuts = []\n",
    "    for code_cut in fund_code_cuts:\n",
    "        # NOTE `in` is not applicable in filter, use `in_()` defined by joinquant\n",
    "        table_cut = jq.finance.run_query(jq.query(jq.finance.FUND_MAIN_INFO).filter(jq.finance.FUND_MAIN_INFO.main_code.in_(code_cut)))\n",
    "        full_table_cuts.append(table_cut)\n",
    "    full_table = pd.concat(full_table_cuts).reset_index(drop=True)\n",
    "    full_table['start_date'] = full_table.start_date.astype(np.datetime64).dt.to_period('M')\n",
    "    return full_table\n"
   ]
  },
  {
   "cell_type": "code",
   "execution_count": 145,
   "metadata": {},
   "outputs": [],
   "source": [
    "brief = brief_of_funds()\n",
    "fund_codes = brief.index.str.split('.').str[0]\n",
    "fund_main_info = main_info(fund_codes)\n",
    "\n",
    "fund_main_info_ = fund_main_info[['main_code', 'underlying_asset_type']]"
   ]
  },
  {
   "cell_type": "markdown",
   "metadata": {},
   "source": [
    "Win.d"
   ]
  },
  {
   "cell_type": "code",
   "execution_count": 146,
   "metadata": {},
   "outputs": [],
   "source": [
    "wind_share_nav = pd.read_excel('data/Win.d/wind_share_nav.xlsx', sheet_name='Sheet1')\n",
    "wind_classification = wind_share_nav[['证券代码', '投资类型(一级分类)']]\n",
    "wind_share_nav = pd.DataFrame(data=wind_share_nav.iloc[:, 3:].values, index=wind_share_nav.证券代码.values, \\\n",
    "    columns = pd.MultiIndex.from_tuples(list(map(lambda x: (x[:4], pd.to_datetime(x[12:22])), wind_share_nav.columns[3:])))).T.sort_index()\n",
    "wind_share_nav.index = wind_share_nav.index.set_levels(wind_share_nav.index.levels[1].to_period('M'), level=1)"
   ]
  },
  {
   "cell_type": "markdown",
   "metadata": {},
   "source": [
    "CSMAR"
   ]
  },
  {
   "cell_type": "code",
   "execution_count": 147,
   "metadata": {},
   "outputs": [],
   "source": [
    "maininfo = pd.read_csv('data/CSMAR/FUND_MainInfo.csv', parse_dates=['InceptionDate'])\n",
    "maininfo['InceptionDate'] = maininfo.InceptionDate.dt.to_period('M')\n",
    "\n",
    "symbol_code_mapping = pd.read_csv('data/CSMAR/FUND_FundCodeInfo.csv')\n",
    "symbol_code_mapping = symbol_code_mapping[['MasterFundCode', 'Symbol']].drop_duplicates()\n",
    "symbol_code_mapping['Symbol'] = symbol_code_mapping.Symbol.astype(str).str.zfill(6)\n",
    "\n",
    "share_info = pd.read_csv('data/CSMAR/Fund_ShareChange.csv', parse_dates=['EndDate'])\n",
    "share_info = share_info.rename(columns={'EndDate': 'Date'})\n",
    "share_info['Date'] = share_info.Date.dt.to_period('M')\n",
    "share_info['Symbol'] = share_info.Symbol.astype(str).str.zfill(6)\n",
    "# share_info = share_info.set_index('Date').sort_index()\n",
    "\n",
    "nav_daily = ddf.read_csv('data/CSMAR/daily_nav/*').compute()\n",
    "nav_daily = nav_daily.rename(columns={'TradingDate': 'Date'})\n",
    "# * heavy time complexity\n",
    "# * if change Symbol to String now, program will be much slower\n",
    "# nav_daily['Symbol'] = nav_daily.Symbol.astype(str).str.zfill(6)\n",
    "nav_daily['Date'] = pd.to_datetime(nav_daily.Date)\n",
    "# nav_daily = nav_daily.set_index('Date')[['Symbol', 'NAV']].sort_index()\n",
    "\n",
    "fund_dividend = pd.read_csv('data/CSMAR/Fund_FundDividend.csv', parse_dates=['PrimaryExDividendDate', 'SecondaryExDividendDate'])\n",
    "fund_dividend['Symbol'] = fund_dividend.Symbol.astype(str).str.zfill(6)\n",
    "ExDividendMonth = fund_dividend.PrimaryExDividendDate.copy()\n",
    "ExDividendMonth.name = 'ExDividendMonth'\n",
    "ExDividendMonth[ExDividendMonth.isnull()] = fund_dividend.SecondaryExDividendDate[ExDividendMonth.isnull()].copy()\n",
    "fund_dividend['ExDividendMonth'] = ExDividendMonth\n",
    "fund_dividend = fund_dividend[['Symbol', 'ExDividendMonth', 'DividendperShare']]\n",
    "fund_dividend = fund_dividend.rename(columns={'ExDividendMonth': 'Date'})\n",
    "fund_dividend['DividendperShare'] = fund_dividend.DividendperShare.fillna(0)\n",
    "fund_dividend['Date'] = fund_dividend.Date.dt.to_period('M')\n",
    "fund_dividend = pd.DataFrame(fund_dividend.groupby(['Symbol', 'Date']).sum().to_records())\n",
    "# fund_dividend = fund_dividend.set_index('Date').sort_index()\n",
    "\n",
    "resolution = pd.read_csv('data/CSMAR/Fund_Resolution.csv', parse_dates=['DeclareDate'])\n",
    "resolution['Symbol'] = resolution.Symbol.astype(str).str.zfill(6)\n",
    "resolution = resolution.rename(columns={'DeclareDate': 'Date'})\n",
    "resolution['SplitRatio'] = resolution.SplitRatio.fillna(1)\n",
    "resolution['Date'] = resolution.Date.dt.to_period('M')\n",
    "resolution = pd.DataFrame(resolution.groupby(['Symbol', 'Date']).prod().to_records())\n",
    "# resolution = resolution.set_index('Date').sort_index()\n",
    "\n",
    "allocation = pd.read_csv('data/CSMAR/Fund_Allocation.csv', parse_dates=['EndDate'])\n",
    "allocation = allocation.rename(columns={'EndDate': 'Date'})\n",
    "allocation['Date'] = allocation.Date.dt.to_period('M')\n",
    "# allocation = allocation.set_index('Date').sort_index()\n"
   ]
  },
  {
   "cell_type": "markdown",
   "metadata": {},
   "source": [
    "## **II. Market Statistic**"
   ]
  },
  {
   "cell_type": "markdown",
   "metadata": {},
   "source": [
    "split Win.d data\n",
    "\n",
    "|       | share            | nav            |\n",
    "| ----- | ---------------- | -------------- |\n",
    "| stock | stock fund share | stock fund nav |\n",
    "| mixed | mixed fund share | mixed fund nav |"
   ]
  },
  {
   "cell_type": "code",
   "execution_count": 148,
   "metadata": {},
   "outputs": [],
   "source": [
    "wind_share = wind_share_nav.loc['基金份额', slice(None)]\n",
    "wind_share.columns = wind_share.columns.str.split('.').str[0]\n",
    "wind_share = wind_share[ ~ wind_share.index.duplicated(keep='last')]"
   ]
  },
  {
   "cell_type": "code",
   "execution_count": 149,
   "metadata": {},
   "outputs": [],
   "source": [
    "wind_nav = wind_share_nav.loc['单位净值', slice(None)]\n",
    "wind_nav.columns = wind_nav.columns.str.split('.').str[0]\n",
    "wind_nav = wind_nav[ ~ wind_nav.index.duplicated(keep='last')]"
   ]
  },
  {
   "cell_type": "code",
   "execution_count": 150,
   "metadata": {},
   "outputs": [],
   "source": [
    "wind_stock_fund_share = wind_share.T[(wind_classification['投资类型(一级分类)'] == '股票型基金').values].T\n",
    "wind_mixed_fund_share = wind_share.T[(wind_classification['投资类型(一级分类)'] == '混合型基金').values].T\n",
    "\n",
    "wind_stock_fund_nav = wind_nav.T[(wind_classification['投资类型(一级分类)'] == '股票型基金').values].T\n",
    "wind_mixed_fund_nav = wind_nav.T[(wind_classification['投资类型(一级分类)'] == '混合型基金').values].T"
   ]
  },
  {
   "cell_type": "markdown",
   "metadata": {},
   "source": [
    "make Win.d data plottable"
   ]
  },
  {
   "cell_type": "code",
   "execution_count": 151,
   "metadata": {},
   "outputs": [],
   "source": [
    "wind_stock_fund_num = pd.notna(wind_stock_fund_nav).sum(axis=1)\n",
    "wind_stock_fund_num.index = wind_stock_fund_num.index.astype(np.datetime64) + pd.offsets.MonthEnd(0)\n",
    "\n",
    "wind_mixed_fund_num = pd.notna(wind_mixed_fund_nav).sum(axis=1)\n",
    "wind_mixed_fund_num.index = wind_mixed_fund_num.index.astype(np.datetime64) + pd.offsets.MonthEnd(0)\n",
    "\n",
    "wind_stock_fund_mkt_value = (wind_stock_fund_share * wind_stock_fund_nav).sum(axis=1)\n",
    "wind_stock_fund_mkt_value.index  = wind_stock_fund_mkt_value.index.astype(np.datetime64) + pd.offsets.MonthEnd(0)\n",
    "\n",
    "wind_mixed_fund_mkt_value = (wind_mixed_fund_share * wind_mixed_fund_nav).sum(axis=1)\n",
    "wind_mixed_fund_mkt_value.index  = wind_mixed_fund_mkt_value.index.astype(np.datetime64) + pd.offsets.MonthEnd(0)\n"
   ]
  },
  {
   "cell_type": "markdown",
   "metadata": {},
   "source": [
    "align JoinQuant && CSMAR data"
   ]
  },
  {
   "cell_type": "code",
   "execution_count": 152,
   "metadata": {},
   "outputs": [],
   "source": [
    "# may cache this cell to speed up\n",
    "nav_monthly = nav_daily.groupby('Symbol').apply(lambda x: x.set_index('Date').resample('M').last()).NAV\n",
    "nav_monthly = nav_monthly.unstack(level=0)\n",
    "nav_monthly.index = nav_monthly.index.to_period('M')\n",
    "nav_monthly.columns = nav_monthly.columns.astype(str).str.zfill(6)"
   ]
  },
  {
   "cell_type": "code",
   "execution_count": 153,
   "metadata": {},
   "outputs": [],
   "source": [
    "share_info_ = share_info.drop_duplicates(subset=['Symbol', 'Date']).pivot(index='Date', columns='Symbol', values='EndDateShares')"
   ]
  },
  {
   "cell_type": "code",
   "execution_count": 154,
   "metadata": {},
   "outputs": [],
   "source": [
    "selected_month = 6\n",
    "\n",
    "share_info_6 = share_info_[share_info_.index.month == selected_month]\n",
    "nav_monthly_6 = nav_monthly[nav_monthly.index.month == selected_month]\n",
    "\n",
    "csmar_mixed_code_6 = np.intersect1d(nav_monthly_6.columns, fund_main_info_[fund_main_info_.underlying_asset_type == '混合型'].main_code.values)\n",
    "csmar_mixed_code_6 = np.intersect1d(csmar_mixed_code_6, share_info_6.columns)\n",
    "\n",
    "csmar_stock_code_6 = np.intersect1d(nav_monthly_6.columns, fund_main_info_[fund_main_info_.underlying_asset_type == '股票型'].main_code.values)\n",
    "csmar_stock_code_6 = np.intersect1d(csmar_stock_code_6, share_info_6.columns)\n",
    "\n",
    "csmar_co_time_6 = np.intersect1d(share_info_6.index, nav_monthly_6.index)"
   ]
  },
  {
   "cell_type": "code",
   "execution_count": 155,
   "metadata": {},
   "outputs": [],
   "source": [
    "csmar_mixed_mkt_value_jq_classify = (share_info_6.loc[csmar_co_time_6, csmar_mixed_code_6] * nav_monthly_6.loc[csmar_co_time_6, csmar_mixed_code_6]).sum(axis=1)\n",
    "csmar_stock_mkt_value_jq_classify = (share_info_6.loc[csmar_co_time_6, csmar_stock_code_6] * nav_monthly_6.loc[csmar_co_time_6, csmar_stock_code_6]).sum(axis=1)\n",
    "\n",
    "csmar_stock_mkt_value_jq_classify.index = csmar_stock_mkt_value_jq_classify.index.astype(np.datetime64) + pd.offsets.MonthEnd(0)\n",
    "csmar_mixed_mkt_value_jq_classify.index = csmar_mixed_mkt_value_jq_classify.index.astype(np.datetime64) + pd.offsets.MonthEnd(0)"
   ]
  },
  {
   "cell_type": "markdown",
   "metadata": {},
   "source": [
    "stock funds market value"
   ]
  },
  {
   "cell_type": "code",
   "execution_count": 156,
   "metadata": {},
   "outputs": [
    {
     "data": {
      "text/plain": [
       "<matplotlib.legend.Legend at 0x2c88a32be80>"
      ]
     },
     "execution_count": 156,
     "metadata": {},
     "output_type": "execute_result"
    },
    {
     "data": {
      "image/png": "[encoded data removed]",
      "text/plain": [
       "<Figure size 1728x432 with 1 Axes>"
      ]
     },
     "metadata": {
      "needs_background": "light"
     },
     "output_type": "display_data"
    }
   ],
   "source": [
    "plt.figure(figsize=(24, 6))\n",
    "plt.bar(amac.股票基金.index - pd.Timedelta('10W'), amac.股票基金.values * 1e8, width=75, label='amac source', alpha=.8)\n",
    "plt.bar(wind_stock_fund_mkt_value.index - pd.Timedelta('1W'), wind_stock_fund_mkt_value.values, width=75, label='wind source', alpha=.8)\n",
    "plt.bar(csmar_stock_mkt_value_jq_classify.index + pd.Timedelta('8W'), csmar_stock_mkt_value_jq_classify.values, width=75, label='csmar fund & joinquant classification', alpha=.8)\n",
    "plt.grid()\n",
    "plt.legend()"
   ]
  },
  {
   "cell_type": "markdown",
   "metadata": {},
   "source": [
    "mixed funds market value"
   ]
  },
  {
   "cell_type": "code",
   "execution_count": 157,
   "metadata": {},
   "outputs": [
    {
     "data": {
      "text/plain": [
       "<matplotlib.legend.Legend at 0x2c8914514b0>"
      ]
     },
     "execution_count": 157,
     "metadata": {},
     "output_type": "execute_result"
    },
    {
     "data": {
      "image/png": "[encoded data removed]",
      "text/plain": [
       "<Figure size 1728x432 with 1 Axes>"
      ]
     },
     "metadata": {
      "needs_background": "light"
     },
     "output_type": "display_data"
    }
   ],
   "source": [
    "plt.figure(figsize=(24, 6))\n",
    "plt.bar(amac.混合基金.index - pd.Timedelta('10W'), amac.混合基金.values * 1e8, width=75, label='amac source', alpha=.8)\n",
    "plt.bar(wind_mixed_fund_mkt_value.index - pd.Timedelta('1W'), wind_mixed_fund_mkt_value.values, width=75, label='wind source', alpha=.8)\n",
    "plt.bar(csmar_mixed_mkt_value_jq_classify.index + pd.Timedelta('8W'), csmar_mixed_mkt_value_jq_classify.values, width=75, label='csmar fund & joinquant classification', alpha=.8)\n",
    "plt.grid()\n",
    "plt.legend()"
   ]
  },
  {
   "cell_type": "markdown",
   "metadata": {},
   "source": [
    "(stock + mixed) funds market value"
   ]
  },
  {
   "cell_type": "code",
   "execution_count": 158,
   "metadata": {},
   "outputs": [
    {
     "data": {
      "text/plain": [
       "<matplotlib.legend.Legend at 0x2c89c0aed40>"
      ]
     },
     "execution_count": 158,
     "metadata": {},
     "output_type": "execute_result"
    },
    {
     "data": {
      "image/png": "[encoded data removed]",
      "text/plain": [
       "<Figure size 1728x432 with 1 Axes>"
      ]
     },
     "metadata": {
      "needs_background": "light"
     },
     "output_type": "display_data"
    }
   ],
   "source": [
    "plt.figure(figsize=(24, 6))\n",
    "plt.bar(amac.混合基金.index - pd.Timedelta('10W'), (amac.混合基金.values + amac.股票基金.values) * 1e8, width=75, label='amac source', alpha=.8)\n",
    "plt.bar(wind_mixed_fund_mkt_value.index - pd.Timedelta('1W'), \\\n",
    "     wind_mixed_fund_mkt_value.values + wind_stock_fund_mkt_value.values, width=75, label='wind source', alpha=.8)\n",
    "plt.bar(csmar_mixed_mkt_value_jq_classify.index + pd.Timedelta('8W'), \\\n",
    "     csmar_mixed_mkt_value_jq_classify.values + csmar_stock_mkt_value_jq_classify.values, width=75, label='csmar fund & joinquant classification', alpha=.8)\n",
    "plt.grid()\n",
    "plt.legend()"
   ]
  },
  {
   "cell_type": "markdown",
   "metadata": {},
   "source": [
    "fund counts"
   ]
  },
  {
   "cell_type": "code",
   "execution_count": 159,
   "metadata": {},
   "outputs": [],
   "source": [
    "csmar_stock_fund_count = nav_monthly.loc[:, csmar_stock_code_6].apply(lambda x: pd.notna(x).sum(), axis=1)\n",
    "csmar_stock_fund_count.index = csmar_stock_fund_count.index.astype(np.datetime64) + pd.offsets.MonthEnd(0)\n",
    "\n",
    "csmar_mixed_fund_count = nav_monthly.loc[:, csmar_mixed_code_6].apply(lambda x: pd.notna(x).sum(), axis=1)\n",
    "csmar_mixed_fund_count.index = csmar_mixed_fund_count.index.astype(np.datetime64) + pd.offsets.MonthEnd(0)"
   ]
  },
  {
   "cell_type": "markdown",
   "metadata": {},
   "source": [
    "integrated plot"
   ]
  },
  {
   "cell_type": "code",
   "execution_count": 160,
   "metadata": {},
   "outputs": [
    {
     "data": {
      "image/png": "[encoded data removed]",
      "text/plain": [
       "<Figure size 1728x576 with 2 Axes>"
      ]
     },
     "metadata": {
      "needs_background": "light"
     },
     "output_type": "display_data"
    }
   ],
   "source": [
    "fig, ax1 = plt.subplots()\n",
    "\n",
    "fig.set_figheight(8)\n",
    "fig.set_figwidth(24)\n",
    "\n",
    "nav_monthly_6.loc[:, csmar_mixed_code_6].apply(lambda x: pd.notna(x).sum(), axis=1)\n",
    "\n",
    "ax1.plot(csmar_stock_fund_count, linewidth=3, label='line, stock fund count')\n",
    "ax1.plot(csmar_mixed_fund_count, linewidth=3, label='line, mixed fund count')\n",
    "\n",
    "ax1.set_yscale('log')\n",
    "ax1.set_yticks([1e0, 1e1, 1e2, 1e3, 1e4])\n",
    "ax1.grid()\n",
    "\n",
    "ax2 = ax1.twinx()\n",
    "\n",
    "plt.bar(csmar_stock_mkt_value_jq_classify.index - pd.Timedelta('7W'), \\\n",
    "     csmar_stock_mkt_value_jq_classify.values, width=100, label='bar, stock fund market value', alpha=.8)\n",
    "\n",
    "plt.bar(csmar_mixed_mkt_value_jq_classify.index + pd.Timedelta('7W'), \\\n",
    "     csmar_mixed_mkt_value_jq_classify.values, width=100, label='bar, mixed fund market value', alpha=.8)\n",
    "\n",
    "plt.title('csmar fund & joinquant classification, market statistic', fontsize=15)\n",
    "\n",
    "ax2.grid(color='y', alpha=.5)\n",
    "ax2.set_xticks(ax2.get_xticks()[::1])\n",
    "\n",
    "ax1.legend(loc='upper left', fontsize=12)\n",
    "ax2.legend(loc='lower left', fontsize=12)\n",
    "\n",
    "pass"
   ]
  },
  {
   "cell_type": "markdown",
   "metadata": {},
   "source": [
    "## **III. Filters**"
   ]
  },
  {
   "cell_type": "markdown",
   "metadata": {},
   "source": [
    "### preview"
   ]
  },
  {
   "cell_type": "code",
   "execution_count": 161,
   "metadata": {},
   "outputs": [],
   "source": [
    "csmar_jq_co_fund = np.intersect1d(np.char.zfill(nav_daily.Symbol.unique().astype(str), 6), fund_main_info.main_code)\n",
    "csmar_jq_co_fund = pd.Series(csmar_jq_co_fund, name='main_code')\n",
    "\n",
    "final_main_info = pd.merge(fund_main_info, csmar_jq_co_fund, on='main_code')[['main_code', 'name', 'operate_mode', 'underlying_asset_type', 'invest_style', 'start_date']]"
   ]
  },
  {
   "cell_type": "code",
   "execution_count": 162,
   "metadata": {},
   "outputs": [
    {
     "data": {
      "application/vnd.plotly.v1+json": {
       "config": {
        "plotlyServerURL": "https://plot.ly"
       },
       "data": [
        {
         "domain": {
          "x": [
           0,
           0.45
          ],
          "y": [
           0,
           1
          ]
         },
         "labels": [
          "混合型",
          "债券型",
          "股票型",
          "货币型",
          "基金型",
          "商品",
          "基础设施基金"
         ],
         "type": "pie",
         "values": [
          7597,
          4750,
          2574,
          729,
          710,
          20,
          17
         ]
        },
        {
         "domain": {
          "x": [
           0.55,
           1
          ],
          "y": [
           0,
           1
          ]
         },
         "labels": [
          "开放式基金",
          "封闭式基金",
          "ETF",
          "FOF",
          "QDII",
          "LOF",
          "基础设施基金",
          "MOM"
         ],
         "type": "pie",
         "values": [
          12496,
          1925,
          696,
          456,
          420,
          379,
          17,
          8
         ]
        }
       ],
       "layout": {
        "height": 500,
        "template": {
         "data": {
          "bar": [
           {
            "error_x": {
             "color": "#2a3f5f"
            },
            "error_y": {
             "color": "#2a3f5f"
            },
            "marker": {
             "line": {
              "color": "#E5ECF6",
              "width": 0.5
             },
             "pattern": {
              "fillmode": "overlay",
              "size": 10,
              "solidity": 0.2
             }
            },
            "type": "bar"
           }
          ],
          "barpolar": [
           {
            "marker": {
             "line": {
              "color": "#E5ECF6",
              "width": 0.5
             },
             "pattern": {
              "fillmode": "overlay",
              "size": 10,
              "solidity": 0.2
             }
            },
            "type": "barpolar"
           }
          ],
          "carpet": [
           {
            "aaxis": {
             "endlinecolor": "#2a3f5f",
             "gridcolor": "white",
             "linecolor": "white",
             "minorgridcolor": "white",
             "startlinecolor": "#2a3f5f"
            },
            "baxis": {
             "endlinecolor": "#2a3f5f",
             "gridcolor": "white",
             "linecolor": "white",
             "minorgridcolor": "white",
             "startlinecolor": "#2a3f5f"
            },
            "type": "carpet"
           }
          ],
          "choropleth": [
           {
            "colorbar": {
             "outlinewidth": 0,
             "ticks": ""
            },
            "type": "choropleth"
           }
          ],
          "contour": [
           {
            "colorbar": {
             "outlinewidth": 0,
             "ticks": ""
            },
            "colorscale": [
             [
              0,
              "#0d0887"
             ],
             [
              0.1111111111111111,
              "#46039f"
             ],
             [
              0.2222222222222222,
              "#7201a8"
             ],
             [
              0.3333333333333333,
              "#9c179e"
             ],
             [
              0.4444444444444444,
              "#bd3786"
             ],
             [
              0.5555555555555556,
              "#d8576b"
             ],
             [
              0.6666666666666666,
              "#ed7953"
             ],
             [
              0.7777777777777778,
              "#fb9f3a"
             ],
             [
              0.8888888888888888,
              "#fdca26"
             ],
             [
              1,
              "#f0f921"
             ]
            ],
            "type": "contour"
           }
          ],
          "contourcarpet": [
           {
            "colorbar": {
             "outlinewidth": 0,
             "ticks": ""
            },
            "type": "contourcarpet"
           }
          ],
          "heatmap": [
           {
            "colorbar": {
             "outlinewidth": 0,
             "ticks": ""
            },
            "colorscale": [
             [
              0,
              "#0d0887"
             ],
             [
              0.1111111111111111,
              "#46039f"
             ],
             [
              0.2222222222222222,
              "#7201a8"
             ],
             [
              0.3333333333333333,
              "#9c179e"
             ],
             [
              0.4444444444444444,
              "#bd3786"
             ],
             [
              0.5555555555555556,
              "#d8576b"
             ],
             [
              0.6666666666666666,
              "#ed7953"
             ],
             [
              0.7777777777777778,
              "#fb9f3a"
             ],
             [
              0.8888888888888888,
              "#fdca26"
             ],
             [
              1,
              "#f0f921"
             ]
            ],
            "type": "heatmap"
           }
          ],
          "heatmapgl": [
           {
            "colorbar": {
             "outlinewidth": 0,
             "ticks": ""
            },
            "colorscale": [
             [
              0,
              "#0d0887"
             ],
             [
              0.1111111111111111,
              "#46039f"
             ],
             [
              0.2222222222222222,
              "#7201a8"
             ],
             [
              0.3333333333333333,
              "#9c179e"
             ],
             [
              0.4444444444444444,
              "#bd3786"
             ],
             [
              0.5555555555555556,
              "#d8576b"
             ],
             [
              0.6666666666666666,
              "#ed7953"
             ],
             [
              0.7777777777777778,
              "#fb9f3a"
             ],
             [
              0.8888888888888888,
              "#fdca26"
             ],
             [
              1,
              "#f0f921"
             ]
            ],
            "type": "heatmapgl"
           }
          ],
          "histogram": [
           {
            "marker": {
             "pattern": {
              "fillmode": "overlay",
              "size": 10,
              "solidity": 0.2
             }
            },
            "type": "histogram"
           }
          ],
          "histogram2d": [
           {
            "colorbar": {
             "outlinewidth": 0,
             "ticks": ""
            },
            "colorscale": [
             [
              0,
              "#0d0887"
             ],
             [
              0.1111111111111111,
              "#46039f"
             ],
             [
              0.2222222222222222,
              "#7201a8"
             ],
             [
              0.3333333333333333,
              "#9c179e"
             ],
             [
              0.4444444444444444,
              "#bd3786"
             ],
             [
              0.5555555555555556,
              "#d8576b"
             ],
             [
              0.6666666666666666,
              "#ed7953"
             ],
             [
              0.7777777777777778,
              "#fb9f3a"
             ],
             [
              0.8888888888888888,
              "#fdca26"
             ],
             [
              1,
              "#f0f921"
             ]
            ],
            "type": "histogram2d"
           }
          ],
          "histogram2dcontour": [
           {
            "colorbar": {
             "outlinewidth": 0,
             "ticks": ""
            },
            "colorscale": [
             [
              0,
              "#0d0887"
             ],
             [
              0.1111111111111111,
              "#46039f"
             ],
             [
              0.2222222222222222,
              "#7201a8"
             ],
             [
              0.3333333333333333,
              "#9c179e"
             ],
             [
              0.4444444444444444,
              "#bd3786"
             ],
             [
              0.5555555555555556,
              "#d8576b"
             ],
             [
              0.6666666666666666,
              "#ed7953"
             ],
             [
              0.7777777777777778,
              "#fb9f3a"
             ],
             [
              0.8888888888888888,
              "#fdca26"
             ],
             [
              1,
              "#f0f921"
             ]
            ],
            "type": "histogram2dcontour"
           }
          ],
          "mesh3d": [
           {
            "colorbar": {
             "outlinewidth": 0,
             "ticks": ""
            },
            "type": "mesh3d"
           }
          ],
          "parcoords": [
           {
            "line": {
             "colorbar": {
              "outlinewidth": 0,
              "ticks": ""
             }
            },
            "type": "parcoords"
           }
          ],
          "pie": [
           {
            "automargin": true,
            "type": "pie"
           }
          ],
          "scatter": [
           {
            "fillpattern": {
             "fillmode": "overlay",
             "size": 10,
             "solidity": 0.2
            },
            "type": "scatter"
           }
          ],
          "scatter3d": [
           {
            "line": {
             "colorbar": {
              "outlinewidth": 0,
              "ticks": ""
             }
            },
            "marker": {
             "colorbar": {
              "outlinewidth": 0,
              "ticks": ""
             }
            },
            "type": "scatter3d"
           }
          ],
          "scattercarpet": [
           {
            "marker": {
             "colorbar": {
              "outlinewidth": 0,
              "ticks": ""
             }
            },
            "type": "scattercarpet"
           }
          ],
          "scattergeo": [
           {
            "marker": {
             "colorbar": {
              "outlinewidth": 0,
              "ticks": ""
             }
            },
            "type": "scattergeo"
           }
          ],
          "scattergl": [
           {
            "marker": {
             "colorbar": {
              "outlinewidth": 0,
              "ticks": ""
             }
            },
            "type": "scattergl"
           }
          ],
          "scattermapbox": [
           {
            "marker": {
             "colorbar": {
              "outlinewidth": 0,
              "ticks": ""
             }
            },
            "type": "scattermapbox"
           }
          ],
          "scatterpolar": [
           {
            "marker": {
             "colorbar": {
              "outlinewidth": 0,
              "ticks": ""
             }
            },
            "type": "scatterpolar"
           }
          ],
          "scatterpolargl": [
           {
            "marker": {
             "colorbar": {
              "outlinewidth": 0,
              "ticks": ""
             }
            },
            "type": "scatterpolargl"
           }
          ],
          "scatterternary": [
           {
            "marker": {
             "colorbar": {
              "outlinewidth": 0,
              "ticks": ""
             }
            },
            "type": "scatterternary"
           }
          ],
          "surface": [
           {
            "colorbar": {
             "outlinewidth": 0,
             "ticks": ""
            },
            "colorscale": [
             [
              0,
              "#0d0887"
             ],
             [
              0.1111111111111111,
              "#46039f"
             ],
             [
              0.2222222222222222,
              "#7201a8"
             ],
             [
              0.3333333333333333,
              "#9c179e"
             ],
             [
              0.4444444444444444,
              "#bd3786"
             ],
             [
              0.5555555555555556,
              "#d8576b"
             ],
             [
              0.6666666666666666,
              "#ed7953"
             ],
             [
              0.7777777777777778,
              "#fb9f3a"
             ],
             [
              0.8888888888888888,
              "#fdca26"
             ],
             [
              1,
              "#f0f921"
             ]
            ],
            "type": "surface"
           }
          ],
          "table": [
           {
            "cells": {
             "fill": {
              "color": "#EBF0F8"
             },
             "line": {
              "color": "white"
             }
            },
            "header": {
             "fill": {
              "color": "#C8D4E3"
             },
             "line": {
              "color": "white"
             }
            },
            "type": "table"
           }
          ]
         },
         "layout": {
          "annotationdefaults": {
           "arrowcolor": "#2a3f5f",
           "arrowhead": 0,
           "arrowwidth": 1
          },
          "autotypenumbers": "strict",
          "coloraxis": {
           "colorbar": {
            "outlinewidth": 0,
            "ticks": ""
           }
          },
          "colorscale": {
           "diverging": [
            [
             0,
             "#8e0152"
            ],
            [
             0.1,
             "#c51b7d"
            ],
            [
             0.2,
             "#de77ae"
            ],
            [
             0.3,
             "#f1b6da"
            ],
            [
             0.4,
             "#fde0ef"
            ],
            [
             0.5,
             "#f7f7f7"
            ],
            [
             0.6,
             "#e6f5d0"
            ],
            [
             0.7,
             "#b8e186"
            ],
            [
             0.8,
             "#7fbc41"
            ],
            [
             0.9,
             "#4d9221"
            ],
            [
             1,
             "#276419"
            ]
           ],
           "sequential": [
            [
             0,
             "#0d0887"
            ],
            [
             0.1111111111111111,
             "#46039f"
            ],
            [
             0.2222222222222222,
             "#7201a8"
            ],
            [
             0.3333333333333333,
             "#9c179e"
            ],
            [
             0.4444444444444444,
             "#bd3786"
            ],
            [
             0.5555555555555556,
             "#d8576b"
            ],
            [
             0.6666666666666666,
             "#ed7953"
            ],
            [
             0.7777777777777778,
             "#fb9f3a"
            ],
            [
             0.8888888888888888,
             "#fdca26"
            ],
            [
             1,
             "#f0f921"
            ]
           ],
           "sequentialminus": [
            [
             0,
             "#0d0887"
            ],
            [
             0.1111111111111111,
             "#46039f"
            ],
            [
             0.2222222222222222,
             "#7201a8"
            ],
            [
             0.3333333333333333,
             "#9c179e"
            ],
            [
             0.4444444444444444,
             "#bd3786"
            ],
            [
             0.5555555555555556,
             "#d8576b"
            ],
            [
             0.6666666666666666,
             "#ed7953"
            ],
            [
             0.7777777777777778,
             "#fb9f3a"
            ],
            [
             0.8888888888888888,
             "#fdca26"
            ],
            [
             1,
             "#f0f921"
            ]
           ]
          },
          "colorway": [
           "#636efa",
           "#EF553B",
           "#00cc96",
           "#ab63fa",
           "#FFA15A",
           "#19d3f3",
           "#FF6692",
           "#B6E880",
           "#FF97FF",
           "#FECB52"
          ],
          "font": {
           "color": "#2a3f5f"
          },
          "geo": {
           "bgcolor": "white",
           "lakecolor": "white",
           "landcolor": "#E5ECF6",
           "showlakes": true,
           "showland": true,
           "subunitcolor": "white"
          },
          "hoverlabel": {
           "align": "left"
          },
          "hovermode": "closest",
          "mapbox": {
           "style": "light"
          },
          "paper_bgcolor": "white",
          "plot_bgcolor": "#E5ECF6",
          "polar": {
           "angularaxis": {
            "gridcolor": "white",
            "linecolor": "white",
            "ticks": ""
           },
           "bgcolor": "#E5ECF6",
           "radialaxis": {
            "gridcolor": "white",
            "linecolor": "white",
            "ticks": ""
           }
          },
          "scene": {
           "xaxis": {
            "backgroundcolor": "#E5ECF6",
            "gridcolor": "white",
            "gridwidth": 2,
            "linecolor": "white",
            "showbackground": true,
            "ticks": "",
            "zerolinecolor": "white"
           },
           "yaxis": {
            "backgroundcolor": "#E5ECF6",
            "gridcolor": "white",
            "gridwidth": 2,
            "linecolor": "white",
            "showbackground": true,
            "ticks": "",
            "zerolinecolor": "white"
           },
           "zaxis": {
            "backgroundcolor": "#E5ECF6",
            "gridcolor": "white",
            "gridwidth": 2,
            "linecolor": "white",
            "showbackground": true,
            "ticks": "",
            "zerolinecolor": "white"
           }
          },
          "shapedefaults": {
           "line": {
            "color": "#2a3f5f"
           }
          },
          "ternary": {
           "aaxis": {
            "gridcolor": "white",
            "linecolor": "white",
            "ticks": ""
           },
           "baxis": {
            "gridcolor": "white",
            "linecolor": "white",
            "ticks": ""
           },
           "bgcolor": "#E5ECF6",
           "caxis": {
            "gridcolor": "white",
            "linecolor": "white",
            "ticks": ""
           }
          },
          "title": {
           "x": 0.05
          },
          "xaxis": {
           "automargin": true,
           "gridcolor": "white",
           "linecolor": "white",
           "ticks": "",
           "title": {
            "standoff": 15
           },
           "zerolinecolor": "white",
           "zerolinewidth": 2
          },
          "yaxis": {
           "automargin": true,
           "gridcolor": "white",
           "linecolor": "white",
           "ticks": "",
           "title": {
            "standoff": 15
           },
           "zerolinecolor": "white",
           "zerolinewidth": 2
          }
         }
        },
        "width": 1200
       }
      }
     },
     "metadata": {},
     "output_type": "display_data"
    }
   ],
   "source": [
    "specs = [[{'type':'domain'}] * 2]\n",
    "\n",
    "fig = make_subplots(rows=1, cols=2, specs=specs)\n",
    "fig.add_trace(go.Pie(labels=final_main_info.underlying_asset_type.value_counts().index, values=final_main_info.underlying_asset_type.value_counts().values), 1, 1)\n",
    "fig.add_trace(go.Pie(labels=final_main_info.operate_mode.value_counts().index, values=final_main_info.operate_mode.value_counts().values), 1, 2)\n",
    "\n",
    "fig.update_layout(width=1200, height=500)"
   ]
  },
  {
   "cell_type": "markdown",
   "metadata": {},
   "source": [
    "### 1. static filtering"
   ]
  },
  {
   "cell_type": "markdown",
   "metadata": {},
   "source": [
    "（1）基金类别为“股票型基金”或“混合型基金”；\n",
    "\n",
    "\n",
    "（2）基金为“开放式基金”\n",
    "\n",
    "<!-- （2）非 ETF 类基金；\n",
    "\n",
    "（3）非 QDII 类基金；\n",
    "\n",
    "（4）主动管理标识为 1 或者为空； -->\n",
    "\n"
   ]
  },
  {
   "cell_type": "code",
   "execution_count": 163,
   "metadata": {},
   "outputs": [
    {
     "data": {
      "text/plain": [
       "array([0.6202964 , 0.76209063])"
      ]
     },
     "execution_count": 163,
     "metadata": {},
     "output_type": "execute_result"
    }
   ],
   "source": [
    "filter_1 = np.logical_or(final_main_info.underlying_asset_type == '股票型', final_main_info.underlying_asset_type == '混合型')\n",
    "filter_2 = final_main_info.operate_mode == '开放式基金'\n",
    "\n",
    "filters = [(1, filter_1), (2, filter_2)]\n",
    "np.array(list(map(lambda _: _[1].sum(), filters))) / len(final_main_info)\n",
    "\n",
    "# proportional data left"
   ]
  },
  {
   "cell_type": "code",
   "execution_count": 164,
   "metadata": {},
   "outputs": [
    {
     "name": "stdout",
     "output_type": "stream",
     "text": [
      "filter 1: 16397 to 10171\n",
      "filter 2: 10171 to 7307\n"
     ]
    }
   ],
   "source": [
    "def func(previous, now):\n",
    "    if type(previous) == tuple:\n",
    "        print(f'filter {previous[0]}: {len(final_main_info)} to {previous[1].sum()}')\n",
    "        temp = np.logical_and(previous[1], now[1])\n",
    "        print(f'filter {now[0]}: {previous[1].sum()} to {temp.sum()}')\n",
    "        return temp\n",
    "    else:\n",
    "        temp = np.logical_and(previous, now[1])\n",
    "        print(f'filter {now[0]}: {previous.sum()} to {temp.sum()}')\n",
    "        return temp\n",
    "\n",
    "\n",
    "filters_ = reduce(func, filters)"
   ]
  },
  {
   "cell_type": "code",
   "execution_count": 165,
   "metadata": {},
   "outputs": [
    {
     "data": {
      "text/html": [
       "<div>\n",
       "<style scoped>\n",
       "    .dataframe tbody tr th:only-of-type {\n",
       "        vertical-align: middle;\n",
       "    }\n",
       "\n",
       "    .dataframe tbody tr th {\n",
       "        vertical-align: top;\n",
       "    }\n",
       "\n",
       "    .dataframe thead th {\n",
       "        text-align: right;\n",
       "    }\n",
       "</style>\n",
       "<table border=\"1\" class=\"dataframe\">\n",
       "  <thead>\n",
       "    <tr style=\"text-align: right;\">\n",
       "      <th></th>\n",
       "      <th>name</th>\n",
       "      <th>operate_mode</th>\n",
       "      <th>underlying_asset_type</th>\n",
       "      <th>invest_style</th>\n",
       "      <th>start_date</th>\n",
       "    </tr>\n",
       "    <tr>\n",
       "      <th>main_code</th>\n",
       "      <th></th>\n",
       "      <th></th>\n",
       "      <th></th>\n",
       "      <th></th>\n",
       "      <th></th>\n",
       "    </tr>\n",
       "  </thead>\n",
       "  <tbody>\n",
       "    <tr>\n",
       "      <th>000001</th>\n",
       "      <td>华夏成长</td>\n",
       "      <td>开放式基金</td>\n",
       "      <td>混合型</td>\n",
       "      <td>偏股混合型</td>\n",
       "      <td>2001-12</td>\n",
       "    </tr>\n",
       "    <tr>\n",
       "      <th>000006</th>\n",
       "      <td>西部利得量化成长混合</td>\n",
       "      <td>开放式基金</td>\n",
       "      <td>混合型</td>\n",
       "      <td>偏股混合型</td>\n",
       "      <td>2019-03</td>\n",
       "    </tr>\n",
       "    <tr>\n",
       "      <th>000011</th>\n",
       "      <td>华夏大盘</td>\n",
       "      <td>开放式基金</td>\n",
       "      <td>混合型</td>\n",
       "      <td>偏股混合型</td>\n",
       "      <td>2004-08</td>\n",
       "    </tr>\n",
       "    <tr>\n",
       "      <th>000017</th>\n",
       "      <td>财通可持续混合</td>\n",
       "      <td>开放式基金</td>\n",
       "      <td>混合型</td>\n",
       "      <td>偏股混合型</td>\n",
       "      <td>2013-03</td>\n",
       "    </tr>\n",
       "    <tr>\n",
       "      <th>000020</th>\n",
       "      <td>景顺品质</td>\n",
       "      <td>开放式基金</td>\n",
       "      <td>混合型</td>\n",
       "      <td>偏股混合型</td>\n",
       "      <td>2013-03</td>\n",
       "    </tr>\n",
       "    <tr>\n",
       "      <th>...</th>\n",
       "      <td>...</td>\n",
       "      <td>...</td>\n",
       "      <td>...</td>\n",
       "      <td>...</td>\n",
       "      <td>...</td>\n",
       "    </tr>\n",
       "    <tr>\n",
       "      <th>968045</th>\n",
       "      <td>摩根股息人民币对冲(每月派息)</td>\n",
       "      <td>开放式基金</td>\n",
       "      <td>股票型</td>\n",
       "      <td>普通股票型</td>\n",
       "      <td>2019-03</td>\n",
       "    </tr>\n",
       "    <tr>\n",
       "      <th>968046</th>\n",
       "      <td>摩根股息美元(累计)</td>\n",
       "      <td>开放式基金</td>\n",
       "      <td>股票型</td>\n",
       "      <td>普通股票型</td>\n",
       "      <td>2019-03</td>\n",
       "    </tr>\n",
       "    <tr>\n",
       "      <th>968047</th>\n",
       "      <td>摩根股息美元(每月派息)</td>\n",
       "      <td>开放式基金</td>\n",
       "      <td>股票型</td>\n",
       "      <td>普通股票型</td>\n",
       "      <td>2019-03</td>\n",
       "    </tr>\n",
       "    <tr>\n",
       "      <th>968048</th>\n",
       "      <td>摩根股息人民币(累计)</td>\n",
       "      <td>开放式基金</td>\n",
       "      <td>股票型</td>\n",
       "      <td>普通股票型</td>\n",
       "      <td>2019-03</td>\n",
       "    </tr>\n",
       "    <tr>\n",
       "      <th>968049</th>\n",
       "      <td>摩根股息人民币(每月派息)</td>\n",
       "      <td>开放式基金</td>\n",
       "      <td>股票型</td>\n",
       "      <td>普通股票型</td>\n",
       "      <td>2019-03</td>\n",
       "    </tr>\n",
       "  </tbody>\n",
       "</table>\n",
       "<p>7307 rows × 5 columns</p>\n",
       "</div>"
      ],
      "text/plain": [
       "                      name operate_mode underlying_asset_type invest_style  \\\n",
       "main_code                                                                    \n",
       "000001                华夏成长        开放式基金                   混合型        偏股混合型   \n",
       "000006          西部利得量化成长混合        开放式基金                   混合型        偏股混合型   \n",
       "000011                华夏大盘        开放式基金                   混合型        偏股混合型   \n",
       "000017             财通可持续混合        开放式基金                   混合型        偏股混合型   \n",
       "000020                景顺品质        开放式基金                   混合型        偏股混合型   \n",
       "...                    ...          ...                   ...          ...   \n",
       "968045     摩根股息人民币对冲(每月派息)        开放式基金                   股票型        普通股票型   \n",
       "968046          摩根股息美元(累计)        开放式基金                   股票型        普通股票型   \n",
       "968047        摩根股息美元(每月派息)        开放式基金                   股票型        普通股票型   \n",
       "968048         摩根股息人民币(累计)        开放式基金                   股票型        普通股票型   \n",
       "968049       摩根股息人民币(每月派息)        开放式基金                   股票型        普通股票型   \n",
       "\n",
       "          start_date  \n",
       "main_code             \n",
       "000001       2001-12  \n",
       "000006       2019-03  \n",
       "000011       2004-08  \n",
       "000017       2013-03  \n",
       "000020       2013-03  \n",
       "...              ...  \n",
       "968045       2019-03  \n",
       "968046       2019-03  \n",
       "968047       2019-03  \n",
       "968048       2019-03  \n",
       "968049       2019-03  \n",
       "\n",
       "[7307 rows x 5 columns]"
      ]
     },
     "execution_count": 165,
     "metadata": {},
     "output_type": "execute_result"
    }
   ],
   "source": [
    "final_main_info_ = final_main_info[filters_]\n",
    "final_main_info_.set_index('main_code').sort_index()"
   ]
  },
  {
   "cell_type": "markdown",
   "metadata": {},
   "source": [
    "### 2. big table\n",
    "\n",
    "from `code` indexed only to `code-month` multiIndex"
   ]
  },
  {
   "cell_type": "code",
   "execution_count": 166,
   "metadata": {},
   "outputs": [
    {
     "data": {
      "text/html": [
       "<div>\n",
       "<style scoped>\n",
       "    .dataframe tbody tr th:only-of-type {\n",
       "        vertical-align: middle;\n",
       "    }\n",
       "\n",
       "    .dataframe tbody tr th {\n",
       "        vertical-align: top;\n",
       "    }\n",
       "\n",
       "    .dataframe thead th {\n",
       "        text-align: right;\n",
       "    }\n",
       "</style>\n",
       "<table border=\"1\" class=\"dataframe\">\n",
       "  <thead>\n",
       "    <tr style=\"text-align: right;\">\n",
       "      <th></th>\n",
       "      <th></th>\n",
       "      <th>name</th>\n",
       "      <th>operate_mode</th>\n",
       "      <th>underlying_asset_type</th>\n",
       "      <th>invest_style</th>\n",
       "      <th>start_date</th>\n",
       "    </tr>\n",
       "    <tr>\n",
       "      <th>Symbol</th>\n",
       "      <th>Date</th>\n",
       "      <th></th>\n",
       "      <th></th>\n",
       "      <th></th>\n",
       "      <th></th>\n",
       "      <th></th>\n",
       "    </tr>\n",
       "  </thead>\n",
       "  <tbody>\n",
       "    <tr>\n",
       "      <th rowspan=\"5\" valign=\"top\">000001</th>\n",
       "      <th>2002-01</th>\n",
       "      <td>华夏成长</td>\n",
       "      <td>开放式基金</td>\n",
       "      <td>混合型</td>\n",
       "      <td>偏股混合型</td>\n",
       "      <td>2001-12</td>\n",
       "    </tr>\n",
       "    <tr>\n",
       "      <th>2002-02</th>\n",
       "      <td>华夏成长</td>\n",
       "      <td>开放式基金</td>\n",
       "      <td>混合型</td>\n",
       "      <td>偏股混合型</td>\n",
       "      <td>2001-12</td>\n",
       "    </tr>\n",
       "    <tr>\n",
       "      <th>2002-03</th>\n",
       "      <td>华夏成长</td>\n",
       "      <td>开放式基金</td>\n",
       "      <td>混合型</td>\n",
       "      <td>偏股混合型</td>\n",
       "      <td>2001-12</td>\n",
       "    </tr>\n",
       "    <tr>\n",
       "      <th>2002-04</th>\n",
       "      <td>华夏成长</td>\n",
       "      <td>开放式基金</td>\n",
       "      <td>混合型</td>\n",
       "      <td>偏股混合型</td>\n",
       "      <td>2001-12</td>\n",
       "    </tr>\n",
       "    <tr>\n",
       "      <th>2002-05</th>\n",
       "      <td>华夏成长</td>\n",
       "      <td>开放式基金</td>\n",
       "      <td>混合型</td>\n",
       "      <td>偏股混合型</td>\n",
       "      <td>2001-12</td>\n",
       "    </tr>\n",
       "    <tr>\n",
       "      <th>...</th>\n",
       "      <th>...</th>\n",
       "      <td>...</td>\n",
       "      <td>...</td>\n",
       "      <td>...</td>\n",
       "      <td>...</td>\n",
       "      <td>...</td>\n",
       "    </tr>\n",
       "    <tr>\n",
       "      <th rowspan=\"5\" valign=\"top\">968049</th>\n",
       "      <th>2022-05</th>\n",
       "      <td>摩根股息人民币(每月派息)</td>\n",
       "      <td>开放式基金</td>\n",
       "      <td>股票型</td>\n",
       "      <td>普通股票型</td>\n",
       "      <td>2019-03</td>\n",
       "    </tr>\n",
       "    <tr>\n",
       "      <th>2022-06</th>\n",
       "      <td>摩根股息人民币(每月派息)</td>\n",
       "      <td>开放式基金</td>\n",
       "      <td>股票型</td>\n",
       "      <td>普通股票型</td>\n",
       "      <td>2019-03</td>\n",
       "    </tr>\n",
       "    <tr>\n",
       "      <th>2022-07</th>\n",
       "      <td>摩根股息人民币(每月派息)</td>\n",
       "      <td>开放式基金</td>\n",
       "      <td>股票型</td>\n",
       "      <td>普通股票型</td>\n",
       "      <td>2019-03</td>\n",
       "    </tr>\n",
       "    <tr>\n",
       "      <th>2022-08</th>\n",
       "      <td>摩根股息人民币(每月派息)</td>\n",
       "      <td>开放式基金</td>\n",
       "      <td>股票型</td>\n",
       "      <td>普通股票型</td>\n",
       "      <td>2019-03</td>\n",
       "    </tr>\n",
       "    <tr>\n",
       "      <th>2022-09</th>\n",
       "      <td>摩根股息人民币(每月派息)</td>\n",
       "      <td>开放式基金</td>\n",
       "      <td>股票型</td>\n",
       "      <td>普通股票型</td>\n",
       "      <td>2019-03</td>\n",
       "    </tr>\n",
       "  </tbody>\n",
       "</table>\n",
       "<p>1819443 rows × 5 columns</p>\n",
       "</div>"
      ],
      "text/plain": [
       "                         name operate_mode underlying_asset_type invest_style  \\\n",
       "Symbol Date                                                                     \n",
       "000001 2002-01           华夏成长        开放式基金                   混合型        偏股混合型   \n",
       "       2002-02           华夏成长        开放式基金                   混合型        偏股混合型   \n",
       "       2002-03           华夏成长        开放式基金                   混合型        偏股混合型   \n",
       "       2002-04           华夏成长        开放式基金                   混合型        偏股混合型   \n",
       "       2002-05           华夏成长        开放式基金                   混合型        偏股混合型   \n",
       "...                       ...          ...                   ...          ...   \n",
       "968049 2022-05  摩根股息人民币(每月派息)        开放式基金                   股票型        普通股票型   \n",
       "       2022-06  摩根股息人民币(每月派息)        开放式基金                   股票型        普通股票型   \n",
       "       2022-07  摩根股息人民币(每月派息)        开放式基金                   股票型        普通股票型   \n",
       "       2022-08  摩根股息人民币(每月派息)        开放式基金                   股票型        普通股票型   \n",
       "       2022-09  摩根股息人民币(每月派息)        开放式基金                   股票型        普通股票型   \n",
       "\n",
       "               start_date  \n",
       "Symbol Date                \n",
       "000001 2002-01    2001-12  \n",
       "       2002-02    2001-12  \n",
       "       2002-03    2001-12  \n",
       "       2002-04    2001-12  \n",
       "       2002-05    2001-12  \n",
       "...                   ...  \n",
       "968049 2022-05    2019-03  \n",
       "       2022-06    2019-03  \n",
       "       2022-07    2019-03  \n",
       "       2022-08    2019-03  \n",
       "       2022-09    2019-03  \n",
       "\n",
       "[1819443 rows x 5 columns]"
      ]
     },
     "execution_count": 166,
     "metadata": {},
     "output_type": "execute_result"
    }
   ],
   "source": [
    "indexes = pd.MultiIndex.from_product([final_main_info_.main_code.sort_values().values, pd.date_range('2002-1', '2022-10', freq='M')])\n",
    "temp_codes = indexes.get_level_values(0)\n",
    "temp_date = indexes.get_level_values(1)\n",
    "main_data = pd.DataFrame(index=indexes)\n",
    "main_data['main_code'] = temp_codes\n",
    "main_data['Date'] = temp_date.to_period('M')\n",
    "main_data = pd.merge(main_data, final_main_info_, on='main_code')\n",
    "main_data = main_data.rename(columns={'main_code': 'Symbol'})\n",
    "main_data = main_data.set_index(['Symbol', 'Date'])\n",
    "main_data"
   ]
  },
  {
   "cell_type": "markdown",
   "metadata": {},
   "source": [
    "### 3. dynamic filtering"
   ]
  },
  {
   "cell_type": "markdown",
   "metadata": {},
   "source": [
    "（3）基金上市时间超过一年\n",
    "\n",
    "（4）最近一次**二季度报/年报/半年报**~~年报或半年报~~披露的中国市场股票持股比例超过总管理规模的30%"
   ]
  },
  {
   "cell_type": "code",
   "execution_count": 167,
   "metadata": {},
   "outputs": [
    {
     "data": {
      "text/plain": [
       "'filter 3: 7307 to 5847'"
      ]
     },
     "execution_count": 167,
     "metadata": {},
     "output_type": "execute_result"
    }
   ],
   "source": [
    "main_data = main_data[main_data.index.get_level_values(1) >= main_data.start_date + pd.offsets.MonthEnd(12)]\n",
    "main_data.index.get_level_values(0).unique()\n",
    "f'filter 3: {len(final_main_info_)} to {len(main_data.index.get_level_values(0).unique())}'"
   ]
  },
  {
   "cell_type": "markdown",
   "metadata": {},
   "source": [
    "*problem*: annual report or semi-annual report not available before 2008\n",
    "\n",
    "*reason*: regulation rule changed\n",
    "\n",
    "*solve*: add second quarter report"
   ]
  },
  {
   "cell_type": "code",
   "execution_count": 168,
   "metadata": {},
   "outputs": [
    {
     "data": {
      "image/png": "[encoded data removed]",
      "text/plain": [
       "<Figure size 1152x288 with 1 Axes>"
      ]
     },
     "metadata": {
      "needs_background": "light"
     },
     "output_type": "display_data"
    }
   ],
   "source": [
    "allocation['report_type_check'] = allocation.Date.dt.year\n",
    "report_type_check = allocation.groupby(['MasterFundCode', 'report_type_check']).apply(lambda temp : 5 in temp.ReportTypeID.values or 6 in temp.ReportTypeID.values)\n",
    "plt.figure(figsize=(16,4))\n",
    "report_type_check_ = report_type_check.groupby(level=1).apply(lambda temp: temp.sum() / len(temp))\n",
    "year_report_count = report_type_check.groupby(level=1).apply(lambda temp: temp.sum())\n",
    "total_report_count = report_type_check.groupby(level=1).apply(lambda temp: len(temp))\n",
    "plt.scatter(x=report_type_check_.index, y=report_type_check_.values, label='proportion for symbols who have annual/semi-annual report')\n",
    "temp = year_report_count.cumsum() / total_report_count.cumsum()\n",
    "plt.plot(temp.index, temp.values, label='cumulative sum of proportion for symbols who have annual/semi-annual report')\n",
    "plt.legend()\n",
    "pass"
   ]
  },
  {
   "cell_type": "markdown",
   "metadata": {},
   "source": [
    "<img src=\"attachment/2008_search.png\" alt=\"drawing\" width=\"500\"/> <img src=\"attachment/2009_search.png\" alt=\"drawing\" width=\"508\"/>\n",
    "\n",
    "[中国证券监督管理委员会公告〔2008〕第4号](http://www.gov.cn/zwgk/2008-02/21/content_896020.htm)\n"
   ]
  },
  {
   "cell_type": "markdown",
   "metadata": {},
   "source": [
    "使用存在二季度报/年报/半年报的数据"
   ]
  },
  {
   "cell_type": "code",
   "execution_count": 169,
   "metadata": {},
   "outputs": [],
   "source": [
    "allocation_ = allocation[allocation.ReportTypeID.isin([2, 5, 6])]\n",
    "allocation_ = pd.merge(allocation_, symbol_code_mapping, on='MasterFundCode', how='left')\n",
    "allocation_ = allocation_[allocation_.Symbol.isin(main_data.index.get_level_values(0).unique())]"
   ]
  },
  {
   "cell_type": "markdown",
   "metadata": {},
   "source": [
    "筛选中国市场股票持股比例超过总管理规模的30%"
   ]
  },
  {
   "cell_type": "code",
   "execution_count": 170,
   "metadata": {},
   "outputs": [
    {
     "name": "stdout",
     "output_type": "stream",
     "text": [
      "filter 4: 5847 to 5131\n"
     ]
    }
   ],
   "source": [
    "allocation_ = allocation_[(allocation_.Equity / allocation_.TotalAsset) > .3]\n",
    "print(f'filter 4: {len(main_data.index.get_level_values(0).unique())} to {len(allocation_.Symbol.unique())}')\n",
    "main_data = main_data.loc[allocation_.Symbol.unique(), slice(None)]"
   ]
  },
  {
   "cell_type": "markdown",
   "metadata": {},
   "source": [
    "### 4. full data"
   ]
  },
  {
   "cell_type": "markdown",
   "metadata": {},
   "source": [
    "reset nav"
   ]
  },
  {
   "cell_type": "code",
   "execution_count": 171,
   "metadata": {},
   "outputs": [],
   "source": [
    "nav_monthly_ = pd.Series(nav_monthly.stack().swaplevel(), name='NAV')\n",
    "nav_monthly_ = pd.DataFrame(nav_monthly_).reset_index()"
   ]
  },
  {
   "cell_type": "markdown",
   "metadata": {},
   "source": [
    "merge data"
   ]
  },
  {
   "cell_type": "code",
   "execution_count": 172,
   "metadata": {},
   "outputs": [],
   "source": [
    "main_data = pd.merge(main_data, nav_monthly_, on=['Symbol', 'Date'], how='left').set_index(['Symbol', 'Date'])\n",
    "main_data = pd.merge(main_data, fund_dividend, on=['Symbol', 'Date'], how='left').set_index(['Symbol', 'Date'])\n",
    "main_data = pd.merge(main_data, resolution, on=['Symbol', 'Date'], how='left').set_index(['Symbol', 'Date'])"
   ]
  },
  {
   "cell_type": "markdown",
   "metadata": {},
   "source": [
    "handle NA"
   ]
  },
  {
   "cell_type": "code",
   "execution_count": 173,
   "metadata": {},
   "outputs": [],
   "source": [
    "main_data['NAV'] = main_data.groupby(level=0).apply(lambda x: x.NAV.fillna(method='ffill')).droplevel(0)\n",
    "main_data['DividendperShare'] = main_data.DividendperShare.fillna(0)\n",
    "main_data['SplitRatio'] = main_data.SplitRatio.fillna(1)"
   ]
  },
  {
   "cell_type": "code",
   "execution_count": 174,
   "metadata": {},
   "outputs": [
    {
     "data": {
      "text/html": [
       "<div>\n",
       "<style scoped>\n",
       "    .dataframe tbody tr th:only-of-type {\n",
       "        vertical-align: middle;\n",
       "    }\n",
       "\n",
       "    .dataframe tbody tr th {\n",
       "        vertical-align: top;\n",
       "    }\n",
       "\n",
       "    .dataframe thead th {\n",
       "        text-align: right;\n",
       "    }\n",
       "</style>\n",
       "<table border=\"1\" class=\"dataframe\">\n",
       "  <thead>\n",
       "    <tr style=\"text-align: right;\">\n",
       "      <th></th>\n",
       "      <th></th>\n",
       "      <th>name</th>\n",
       "      <th>operate_mode</th>\n",
       "      <th>underlying_asset_type</th>\n",
       "      <th>invest_style</th>\n",
       "      <th>start_date</th>\n",
       "      <th>NAV</th>\n",
       "      <th>DividendperShare</th>\n",
       "      <th>SplitRatio</th>\n",
       "    </tr>\n",
       "    <tr>\n",
       "      <th>Symbol</th>\n",
       "      <th>Date</th>\n",
       "      <th></th>\n",
       "      <th></th>\n",
       "      <th></th>\n",
       "      <th></th>\n",
       "      <th></th>\n",
       "      <th></th>\n",
       "      <th></th>\n",
       "      <th></th>\n",
       "    </tr>\n",
       "  </thead>\n",
       "  <tbody>\n",
       "    <tr>\n",
       "      <th rowspan=\"5\" valign=\"top\">000001</th>\n",
       "      <th>2002-12</th>\n",
       "      <td>华夏成长</td>\n",
       "      <td>开放式基金</td>\n",
       "      <td>混合型</td>\n",
       "      <td>偏股混合型</td>\n",
       "      <td>2001-12</td>\n",
       "      <td>0.9450</td>\n",
       "      <td>0.0</td>\n",
       "      <td>1.0</td>\n",
       "    </tr>\n",
       "    <tr>\n",
       "      <th>2003-01</th>\n",
       "      <td>华夏成长</td>\n",
       "      <td>开放式基金</td>\n",
       "      <td>混合型</td>\n",
       "      <td>偏股混合型</td>\n",
       "      <td>2001-12</td>\n",
       "      <td>1.0100</td>\n",
       "      <td>0.0</td>\n",
       "      <td>1.0</td>\n",
       "    </tr>\n",
       "    <tr>\n",
       "      <th>2003-02</th>\n",
       "      <td>华夏成长</td>\n",
       "      <td>开放式基金</td>\n",
       "      <td>混合型</td>\n",
       "      <td>偏股混合型</td>\n",
       "      <td>2001-12</td>\n",
       "      <td>1.0140</td>\n",
       "      <td>0.0</td>\n",
       "      <td>1.0</td>\n",
       "    </tr>\n",
       "    <tr>\n",
       "      <th>2003-03</th>\n",
       "      <td>华夏成长</td>\n",
       "      <td>开放式基金</td>\n",
       "      <td>混合型</td>\n",
       "      <td>偏股混合型</td>\n",
       "      <td>2001-12</td>\n",
       "      <td>1.0230</td>\n",
       "      <td>0.0</td>\n",
       "      <td>1.0</td>\n",
       "    </tr>\n",
       "    <tr>\n",
       "      <th>2003-04</th>\n",
       "      <td>华夏成长</td>\n",
       "      <td>开放式基金</td>\n",
       "      <td>混合型</td>\n",
       "      <td>偏股混合型</td>\n",
       "      <td>2001-12</td>\n",
       "      <td>1.0300</td>\n",
       "      <td>0.0</td>\n",
       "      <td>1.0</td>\n",
       "    </tr>\n",
       "    <tr>\n",
       "      <th>...</th>\n",
       "      <th>...</th>\n",
       "      <td>...</td>\n",
       "      <td>...</td>\n",
       "      <td>...</td>\n",
       "      <td>...</td>\n",
       "      <td>...</td>\n",
       "      <td>...</td>\n",
       "      <td>...</td>\n",
       "      <td>...</td>\n",
       "    </tr>\n",
       "    <tr>\n",
       "      <th>012243</th>\n",
       "      <th>2022-09</th>\n",
       "      <td>东方红内需增长混合B</td>\n",
       "      <td>开放式基金</td>\n",
       "      <td>混合型</td>\n",
       "      <td>偏股混合型</td>\n",
       "      <td>2021-06</td>\n",
       "      <td>3.1259</td>\n",
       "      <td>0.0</td>\n",
       "      <td>1.0</td>\n",
       "    </tr>\n",
       "    <tr>\n",
       "      <th rowspan=\"4\" valign=\"top\">910028</th>\n",
       "      <th>2022-06</th>\n",
       "      <td>东方红内需增长混合</td>\n",
       "      <td>开放式基金</td>\n",
       "      <td>混合型</td>\n",
       "      <td>偏股混合型</td>\n",
       "      <td>2021-06</td>\n",
       "      <td>3.6542</td>\n",
       "      <td>0.0</td>\n",
       "      <td>1.0</td>\n",
       "    </tr>\n",
       "    <tr>\n",
       "      <th>2022-07</th>\n",
       "      <td>东方红内需增长混合</td>\n",
       "      <td>开放式基金</td>\n",
       "      <td>混合型</td>\n",
       "      <td>偏股混合型</td>\n",
       "      <td>2021-06</td>\n",
       "      <td>3.6414</td>\n",
       "      <td>0.0</td>\n",
       "      <td>1.0</td>\n",
       "    </tr>\n",
       "    <tr>\n",
       "      <th>2022-08</th>\n",
       "      <td>东方红内需增长混合</td>\n",
       "      <td>开放式基金</td>\n",
       "      <td>混合型</td>\n",
       "      <td>偏股混合型</td>\n",
       "      <td>2021-06</td>\n",
       "      <td>3.3234</td>\n",
       "      <td>0.0</td>\n",
       "      <td>1.0</td>\n",
       "    </tr>\n",
       "    <tr>\n",
       "      <th>2022-09</th>\n",
       "      <td>东方红内需增长混合</td>\n",
       "      <td>开放式基金</td>\n",
       "      <td>混合型</td>\n",
       "      <td>偏股混合型</td>\n",
       "      <td>2021-06</td>\n",
       "      <td>3.1545</td>\n",
       "      <td>0.0</td>\n",
       "      <td>1.0</td>\n",
       "    </tr>\n",
       "  </tbody>\n",
       "</table>\n",
       "<p>249172 rows × 8 columns</p>\n",
       "</div>"
      ],
      "text/plain": [
       "                      name operate_mode underlying_asset_type invest_style  \\\n",
       "Symbol Date                                                                  \n",
       "000001 2002-12        华夏成长        开放式基金                   混合型        偏股混合型   \n",
       "       2003-01        华夏成长        开放式基金                   混合型        偏股混合型   \n",
       "       2003-02        华夏成长        开放式基金                   混合型        偏股混合型   \n",
       "       2003-03        华夏成长        开放式基金                   混合型        偏股混合型   \n",
       "       2003-04        华夏成长        开放式基金                   混合型        偏股混合型   \n",
       "...                    ...          ...                   ...          ...   \n",
       "012243 2022-09  东方红内需增长混合B        开放式基金                   混合型        偏股混合型   \n",
       "910028 2022-06   东方红内需增长混合        开放式基金                   混合型        偏股混合型   \n",
       "       2022-07   东方红内需增长混合        开放式基金                   混合型        偏股混合型   \n",
       "       2022-08   东方红内需增长混合        开放式基金                   混合型        偏股混合型   \n",
       "       2022-09   东方红内需增长混合        开放式基金                   混合型        偏股混合型   \n",
       "\n",
       "               start_date     NAV  DividendperShare  SplitRatio  \n",
       "Symbol Date                                                      \n",
       "000001 2002-12    2001-12  0.9450               0.0         1.0  \n",
       "       2003-01    2001-12  1.0100               0.0         1.0  \n",
       "       2003-02    2001-12  1.0140               0.0         1.0  \n",
       "       2003-03    2001-12  1.0230               0.0         1.0  \n",
       "       2003-04    2001-12  1.0300               0.0         1.0  \n",
       "...                   ...     ...               ...         ...  \n",
       "012243 2022-09    2021-06  3.1259               0.0         1.0  \n",
       "910028 2022-06    2021-06  3.6542               0.0         1.0  \n",
       "       2022-07    2021-06  3.6414               0.0         1.0  \n",
       "       2022-08    2021-06  3.3234               0.0         1.0  \n",
       "       2022-09    2021-06  3.1545               0.0         1.0  \n",
       "\n",
       "[249172 rows x 8 columns]"
      ]
     },
     "execution_count": 174,
     "metadata": {},
     "output_type": "execute_result"
    }
   ],
   "source": [
    "main_data"
   ]
  },
  {
   "cell_type": "markdown",
   "metadata": {},
   "source": [
    "## **IV. Return**"
   ]
  },
  {
   "cell_type": "markdown",
   "metadata": {},
   "source": [
    "$$\n",
    "R_t^{real}=\\frac{\\left(NAV_t+Div_t\\right)*SF_t}{NAV_{t-1}*SF_{t-1}}\\tag{1}\n",
    "$$\n",
    "\n",
    "$NAV_t$ 基金在 $t$ 月末的基金净值\n",
    "\n",
    "$Div_t$ 在 $t$ 月中发放的现金分红\n",
    "\n",
    "$SF_t$ 累计拆分因子\n",
    "\n",
    "当$t$月中发生比例为$s_t$的拆分时, $SF_t=s_tSF_{t-1}$"
   ]
  },
  {
   "cell_type": "markdown",
   "metadata": {},
   "source": [
    "公式等价于\n",
    "\n",
    "$$\n",
    "R_t^{real}=\\frac{\\left(NAV_t+Div_t\\right)*s_t}{NAV_{t-1}}\\tag{2}\n",
    "$$"
   ]
  },
  {
   "cell_type": "code",
   "execution_count": 400,
   "metadata": {},
   "outputs": [],
   "source": [
    "main_data['NAV_shift'] = main_data.groupby(level=0).apply(lambda x: x.NAV.shift(1)).droplevel(0)\n",
    "main_data['cumulative_split'] = main_data.groupby(level=0).apply(lambda x: x.SplitRatio.cumprod()).droplevel(0)\n",
    "main_data['shift_cumulative_split'] = main_data.groupby(level=0).apply(lambda x: x.cumulative_split.shift(1)).droplevel(0)\n",
    "main_data['shift_SplitRatio'] = main_data.groupby(level=0).apply(lambda x: x.SplitRatio.shift(1)).droplevel(0)"
   ]
  },
  {
   "cell_type": "code",
   "execution_count": 401,
   "metadata": {},
   "outputs": [],
   "source": [
    "mixed_data = main_data[main_data.underlying_asset_type == '混合型']\n",
    "stock_data = main_data[main_data.underlying_asset_type == '股票型']\n",
    "\n",
    "# formula modify here\n",
    "return_of_stock_fund = stock_data.groupby(level=0).apply(lambda x: ((x.NAV + x.DividendperShare) * x.shift_SplitRatio) / x.NAV_shift).droplevel(0)\n",
    "return_of_mixed_fund = mixed_data.groupby(level=0).apply(lambda x: ((x.NAV + x.DividendperShare) * x.shift_SplitRatio) / x.NAV_shift).droplevel(0)"
   ]
  },
  {
   "cell_type": "code",
   "execution_count": 402,
   "metadata": {},
   "outputs": [
    {
     "name": "stdout",
     "output_type": "stream",
     "text": [
      "[] will not be used\n"
     ]
    },
    {
     "data": {
      "text/plain": [
       "<AxesSubplot:xlabel='Date'>"
      ]
     },
     "execution_count": 402,
     "metadata": {},
     "output_type": "execute_result"
    },
    {
     "data": {
      "image/png": "[encoded data removed]",
      "text/plain": [
       "<Figure size 432x288 with 1 Axes>"
      ]
     },
     "metadata": {
      "needs_background": "light"
     },
     "output_type": "display_data"
    }
   ],
   "source": [
    "stock_fund_weight = (share_info_6.loc[csmar_co_time_6, csmar_stock_code_6] * nav_monthly_6.loc[csmar_co_time_6, csmar_stock_code_6])\n",
    "stock_fund_weight = pd.concat([stock_fund_weight, \\\n",
    "    pd.DataFrame([[np.nan] * stock_fund_weight.shape[1]], index=[pd.to_datetime('2023-06').to_period('M')], columns=stock_fund_weight.columns)])\n",
    "stock_fund_weight = stock_fund_weight.div(stock_fund_weight.sum(axis=1), axis=0)\n",
    "stock_fund_weight = stock_fund_weight.resample('M').ffill()\n",
    "\n",
    "stock_fund_dates = return_of_stock_fund.unstack(level=0).index\n",
    "stock_fund_funds = return_of_stock_fund.unstack(level=0).columns\n",
    "\n",
    "stock_fund_new = np.setdiff1d(stock_fund_funds, stock_fund_weight.columns)\n",
    "print(f'{stock_fund_new} will not be used')\n",
    "stock_fund_funds = np.intersect1d(stock_fund_funds, stock_fund_weight.columns)\n",
    "\n",
    "(((return_of_stock_fund.unstack(level=0) - 1) * stock_fund_weight.loc[stock_fund_dates, stock_fund_funds]).sum(axis=1) + 1).cumprod().plot()\n"
   ]
  },
  {
   "cell_type": "code",
   "execution_count": 403,
   "metadata": {},
   "outputs": [
    {
     "name": "stdout",
     "output_type": "stream",
     "text": [
      "['960002' '960004'] will not be used\n"
     ]
    },
    {
     "data": {
      "text/plain": [
       "<AxesSubplot:xlabel='Date'>"
      ]
     },
     "execution_count": 403,
     "metadata": {},
     "output_type": "execute_result"
    },
    {
     "data": {
      "image/png": "[encoded data removed]",
      "text/plain": [
       "<Figure size 432x288 with 1 Axes>"
      ]
     },
     "metadata": {
      "needs_background": "light"
     },
     "output_type": "display_data"
    }
   ],
   "source": [
    "mixed_fund_weight = (share_info_6.loc[csmar_co_time_6, csmar_mixed_code_6] * nav_monthly_6.loc[csmar_co_time_6, csmar_mixed_code_6])\n",
    "mixed_fund_weight = pd.concat([mixed_fund_weight, \\\n",
    "    pd.DataFrame([[np.nan] * mixed_fund_weight.shape[1]], index=[pd.to_datetime('2023-06').to_period('M')], columns=mixed_fund_weight.columns)])\n",
    "mixed_fund_weight = mixed_fund_weight.div(mixed_fund_weight.sum(axis=1), axis=0)\n",
    "mixed_fund_weight = mixed_fund_weight.resample('M').ffill()\n",
    "\n",
    "mixed_fund_dates = return_of_mixed_fund.unstack(level=0).index\n",
    "mixed_fund_funds = return_of_mixed_fund.unstack(level=0).columns\n",
    "\n",
    "mixed_fund_new = np.setdiff1d(mixed_fund_funds, mixed_fund_weight.columns)\n",
    "print(f'{mixed_fund_new} will not be used')\n",
    "mixed_fund_funds = np.intersect1d(mixed_fund_funds, mixed_fund_weight.columns)\n",
    "\n",
    "(((return_of_mixed_fund.unstack(level=0) - 1) * mixed_fund_weight.loc[mixed_fund_dates, mixed_fund_funds]).sum(axis=1) + 1).cumprod().plot()"
   ]
  },
  {
   "cell_type": "markdown",
   "metadata": {},
   "source": [
    "market value weighted"
   ]
  },
  {
   "cell_type": "code",
   "execution_count": 404,
   "metadata": {},
   "outputs": [
    {
     "data": {
      "image/png": "[encoded data removed]",
      "text/plain": [
       "<Figure size 1728x576 with 1 Axes>"
      ]
     },
     "metadata": {
      "needs_background": "light"
     },
     "output_type": "display_data"
    }
   ],
   "source": [
    "plt.figure(figsize=(24,8))\n",
    "(((return_of_stock_fund.unstack(level=0) - 1) * stock_fund_weight.loc[stock_fund_dates, stock_fund_funds]).sum(axis=1) + 1).cumprod().plot()\n",
    "(((return_of_mixed_fund.unstack(level=0) - 1) * mixed_fund_weight.loc[mixed_fund_dates, mixed_fund_funds]).sum(axis=1) + 1).cumprod().plot()\n",
    "plt.grid()"
   ]
  },
  {
   "cell_type": "markdown",
   "metadata": {},
   "source": [
    "share equal"
   ]
  },
  {
   "cell_type": "code",
   "execution_count": 405,
   "metadata": {},
   "outputs": [
    {
     "data": {
      "image/png": "[encoded data removed]",
      "text/plain": [
       "<Figure size 1728x576 with 1 Axes>"
      ]
     },
     "metadata": {
      "needs_background": "light"
     },
     "output_type": "display_data"
    }
   ],
   "source": [
    "plt.figure(figsize=(24,8))\n",
    "return_of_stock_fund.groupby(level=1).mean().cumprod().plot()\n",
    "return_of_mixed_fund.groupby(level=1).mean().cumprod().plot()\n",
    "plt.grid()"
   ]
  },
  {
   "cell_type": "markdown",
   "metadata": {},
   "source": [
    "money equal\n",
    "\n",
    "fund portfolio, here we do not apply money equal strategy"
   ]
  },
  {
   "cell_type": "code",
   "execution_count": 406,
   "metadata": {},
   "outputs": [],
   "source": [
    "return_of_all = pd.concat([return_of_mixed_fund, return_of_stock_fund])\n",
    "agg_desc = return_of_all.unstack(level=1).describe()"
   ]
  },
  {
   "cell_type": "code",
   "execution_count": 407,
   "metadata": {},
   "outputs": [
    {
     "data": {
      "text/plain": [
       "<AxesSubplot:xlabel='Date'>"
      ]
     },
     "execution_count": 407,
     "metadata": {},
     "output_type": "execute_result"
    },
    {
     "data": {
      "image/png": "[encoded data removed]",
      "text/plain": [
       "<Figure size 432x288 with 1 Axes>"
      ]
     },
     "metadata": {
      "needs_background": "light"
     },
     "output_type": "display_data"
    }
   ],
   "source": [
    "agg_desc.loc['min'].plot()"
   ]
  },
  {
   "cell_type": "code",
   "execution_count": 408,
   "metadata": {},
   "outputs": [
    {
     "data": {
      "text/plain": [
       "<AxesSubplot:>"
      ]
     },
     "execution_count": 408,
     "metadata": {},
     "output_type": "execute_result"
    },
    {
     "data": {
      "image/png": "[encoded data removed]",
      "text/plain": [
       "<Figure size 432x288 with 1 Axes>"
      ]
     },
     "metadata": {
      "needs_background": "light"
     },
     "output_type": "display_data"
    }
   ],
   "source": [
    "agg_desc.loc['min'].hist(bins=30)"
   ]
  },
  {
   "cell_type": "code",
   "execution_count": 409,
   "metadata": {},
   "outputs": [],
   "source": [
    "# all funds have positive return\n",
    "return_of_all.unstack(level=0)[agg_desc.loc['min'] > 1].dropna(how='all', axis=1)\n",
    "pass"
   ]
  },
  {
   "cell_type": "code",
   "execution_count": 410,
   "metadata": {},
   "outputs": [
    {
     "data": {
      "text/plain": [
       "<AxesSubplot:>"
      ]
     },
     "execution_count": 410,
     "metadata": {},
     "output_type": "execute_result"
    },
    {
     "data": {
      "image/png": "[encoded data removed]",
      "text/plain": [
       "<Figure size 432x288 with 1 Axes>"
      ]
     },
     "metadata": {
      "needs_background": "light"
     },
     "output_type": "display_data"
    }
   ],
   "source": [
    "agg_desc.loc['max'].hist(bins=30)"
   ]
  },
  {
   "cell_type": "code",
   "execution_count": 411,
   "metadata": {},
   "outputs": [
    {
     "data": {
      "text/plain": [
       "<AxesSubplot:xlabel='Date'>"
      ]
     },
     "execution_count": 411,
     "metadata": {},
     "output_type": "execute_result"
    },
    {
     "data": {
      "image/png": "[encoded data removed]",
      "text/plain": [
       "<Figure size 432x288 with 1 Axes>"
      ]
     },
     "metadata": {
      "needs_background": "light"
     },
     "output_type": "display_data"
    }
   ],
   "source": [
    "agg_desc.loc['max'].plot()"
   ]
  },
  {
   "cell_type": "code",
   "execution_count": 412,
   "metadata": {},
   "outputs": [],
   "source": [
    "# all funds have negative return\n",
    "return_of_all.unstack(level=0)[agg_desc.loc['max'] < 1].dropna(how='all', axis=1)\n",
    "pass"
   ]
  },
  {
   "cell_type": "code",
   "execution_count": 413,
   "metadata": {},
   "outputs": [
    {
     "data": {
      "text/html": [
       "<div>\n",
       "<style scoped>\n",
       "    .dataframe tbody tr th:only-of-type {\n",
       "        vertical-align: middle;\n",
       "    }\n",
       "\n",
       "    .dataframe tbody tr th {\n",
       "        vertical-align: top;\n",
       "    }\n",
       "\n",
       "    .dataframe thead th {\n",
       "        text-align: right;\n",
       "    }\n",
       "</style>\n",
       "<table border=\"1\" class=\"dataframe\">\n",
       "  <thead>\n",
       "    <tr style=\"text-align: right;\">\n",
       "      <th>Symbol</th>\n",
       "      <th>020005</th>\n",
       "      <th>040001</th>\n",
       "      <th>270005</th>\n",
       "      <th>481001</th>\n",
       "    </tr>\n",
       "    <tr>\n",
       "      <th>Date</th>\n",
       "      <th></th>\n",
       "      <th></th>\n",
       "      <th></th>\n",
       "      <th></th>\n",
       "    </tr>\n",
       "  </thead>\n",
       "  <tbody>\n",
       "    <tr>\n",
       "      <th>2006-09-01</th>\n",
       "      <td>1.021001</td>\n",
       "      <td>1.049931</td>\n",
       "      <td>NaN</td>\n",
       "      <td>1.073775</td>\n",
       "    </tr>\n",
       "    <tr>\n",
       "      <th>2006-10-01</th>\n",
       "      <td>1.003863</td>\n",
       "      <td>1.019815</td>\n",
       "      <td>NaN</td>\n",
       "      <td>1.027380</td>\n",
       "    </tr>\n",
       "    <tr>\n",
       "      <th>2006-11-01</th>\n",
       "      <td>1.118024</td>\n",
       "      <td>1.127591</td>\n",
       "      <td>NaN</td>\n",
       "      <td>1.150704</td>\n",
       "    </tr>\n",
       "    <tr>\n",
       "      <th>2006-12-01</th>\n",
       "      <td>1.147447</td>\n",
       "      <td>1.155083</td>\n",
       "      <td>NaN</td>\n",
       "      <td>1.167283</td>\n",
       "    </tr>\n",
       "    <tr>\n",
       "      <th>2007-01-01</th>\n",
       "      <td>1.125500</td>\n",
       "      <td>1.148682</td>\n",
       "      <td>1.136689</td>\n",
       "      <td>1.151879</td>\n",
       "    </tr>\n",
       "    <tr>\n",
       "      <th>2007-02-01</th>\n",
       "      <td>1.053754</td>\n",
       "      <td>1.021212</td>\n",
       "      <td>0.984356</td>\n",
       "      <td>0.967931</td>\n",
       "    </tr>\n",
       "    <tr>\n",
       "      <th>2007-03-01</th>\n",
       "      <td>1.071248</td>\n",
       "      <td>1.022467</td>\n",
       "      <td>1.076476</td>\n",
       "      <td>1.015998</td>\n",
       "    </tr>\n",
       "    <tr>\n",
       "      <th>2007-04-01</th>\n",
       "      <td>1.237308</td>\n",
       "      <td>1.191128</td>\n",
       "      <td>1.217678</td>\n",
       "      <td>1.149899</td>\n",
       "    </tr>\n",
       "    <tr>\n",
       "      <th>2007-05-01</th>\n",
       "      <td>1.065522</td>\n",
       "      <td>1.143752</td>\n",
       "      <td>1.118332</td>\n",
       "      <td>1.139073</td>\n",
       "    </tr>\n",
       "    <tr>\n",
       "      <th>2007-06-01</th>\n",
       "      <td>1.047463</td>\n",
       "      <td>1.001522</td>\n",
       "      <td>1.046149</td>\n",
       "      <td>1.041051</td>\n",
       "    </tr>\n",
       "    <tr>\n",
       "      <th>2007-07-01</th>\n",
       "      <td>1.108008</td>\n",
       "      <td>1.170769</td>\n",
       "      <td>1.168295</td>\n",
       "      <td>1.086868</td>\n",
       "    </tr>\n",
       "    <tr>\n",
       "      <th>2007-08-01</th>\n",
       "      <td>0.268776</td>\n",
       "      <td>1.098105</td>\n",
       "      <td>1.189968</td>\n",
       "      <td>1.122423</td>\n",
       "    </tr>\n",
       "    <tr>\n",
       "      <th>2007-09-01</th>\n",
       "      <td>4.138060</td>\n",
       "      <td>1.038998</td>\n",
       "      <td>0.238739</td>\n",
       "      <td>1.100411</td>\n",
       "    </tr>\n",
       "    <tr>\n",
       "      <th>2007-10-01</th>\n",
       "      <td>1.012915</td>\n",
       "      <td>0.231119</td>\n",
       "      <td>4.646499</td>\n",
       "      <td>0.998583</td>\n",
       "    </tr>\n",
       "    <tr>\n",
       "      <th>2007-11-01</th>\n",
       "      <td>0.886157</td>\n",
       "      <td>4.026670</td>\n",
       "      <td>0.893605</td>\n",
       "      <td>0.240511</td>\n",
       "    </tr>\n",
       "    <tr>\n",
       "      <th>2007-12-01</th>\n",
       "      <td>1.098664</td>\n",
       "      <td>1.047269</td>\n",
       "      <td>1.090186</td>\n",
       "      <td>4.049411</td>\n",
       "    </tr>\n",
       "    <tr>\n",
       "      <th>2008-01-01</th>\n",
       "      <td>0.924228</td>\n",
       "      <td>0.945838</td>\n",
       "      <td>0.912668</td>\n",
       "      <td>0.922459</td>\n",
       "    </tr>\n",
       "  </tbody>\n",
       "</table>\n",
       "</div>"
      ],
      "text/plain": [
       "Symbol        020005    040001    270005    481001\n",
       "Date                                              \n",
       "2006-09-01  1.021001  1.049931       NaN  1.073775\n",
       "2006-10-01  1.003863  1.019815       NaN  1.027380\n",
       "2006-11-01  1.118024  1.127591       NaN  1.150704\n",
       "2006-12-01  1.147447  1.155083       NaN  1.167283\n",
       "2007-01-01  1.125500  1.148682  1.136689  1.151879\n",
       "2007-02-01  1.053754  1.021212  0.984356  0.967931\n",
       "2007-03-01  1.071248  1.022467  1.076476  1.015998\n",
       "2007-04-01  1.237308  1.191128  1.217678  1.149899\n",
       "2007-05-01  1.065522  1.143752  1.118332  1.139073\n",
       "2007-06-01  1.047463  1.001522  1.046149  1.041051\n",
       "2007-07-01  1.108008  1.170769  1.168295  1.086868\n",
       "2007-08-01  0.268776  1.098105  1.189968  1.122423\n",
       "2007-09-01  4.138060  1.038998  0.238739  1.100411\n",
       "2007-10-01  1.012915  0.231119  4.646499  0.998583\n",
       "2007-11-01  0.886157  4.026670  0.893605  0.240511\n",
       "2007-12-01  1.098664  1.047269  1.090186  4.049411\n",
       "2008-01-01  0.924228  0.945838  0.912668  0.922459"
      ]
     },
     "execution_count": 413,
     "metadata": {},
     "output_type": "execute_result"
    }
   ],
   "source": [
    "temp = return_of_all.unstack(level=0)\n",
    "temp.index = temp.index.astype(np.datetime64)\n",
    "temp = temp.loc['2006-09-01': '2008-01-01'].dropna(how='all', axis=1)\n",
    "temp.loc[:, (temp > 4).any()]"
   ]
  },
  {
   "cell_type": "code",
   "execution_count": 364,
   "metadata": {},
   "outputs": [
    {
     "data": {
      "text/html": [
       "<div>\n",
       "<style scoped>\n",
       "    .dataframe tbody tr th:only-of-type {\n",
       "        vertical-align: middle;\n",
       "    }\n",
       "\n",
       "    .dataframe tbody tr th {\n",
       "        vertical-align: top;\n",
       "    }\n",
       "\n",
       "    .dataframe thead th {\n",
       "        text-align: right;\n",
       "    }\n",
       "</style>\n",
       "<table border=\"1\" class=\"dataframe\">\n",
       "  <thead>\n",
       "    <tr style=\"text-align: right;\">\n",
       "      <th></th>\n",
       "      <th>Symbol</th>\n",
       "      <th>Date</th>\n",
       "      <th>SplitRatio</th>\n",
       "    </tr>\n",
       "  </thead>\n",
       "  <tbody>\n",
       "    <tr>\n",
       "      <th>0</th>\n",
       "      <td>000028</td>\n",
       "      <td>2016-04-21</td>\n",
       "      <td>0.998495</td>\n",
       "    </tr>\n",
       "    <tr>\n",
       "      <th>1</th>\n",
       "      <td>000030</td>\n",
       "      <td>2016-04-15</td>\n",
       "      <td>1.851295</td>\n",
       "    </tr>\n",
       "    <tr>\n",
       "      <th>2</th>\n",
       "      <td>000053</td>\n",
       "      <td>2018-11-20</td>\n",
       "      <td>1.454000</td>\n",
       "    </tr>\n",
       "    <tr>\n",
       "      <th>3</th>\n",
       "      <td>000058</td>\n",
       "      <td>2016-04-22</td>\n",
       "      <td>1.171550</td>\n",
       "    </tr>\n",
       "    <tr>\n",
       "      <th>4</th>\n",
       "      <td>000066</td>\n",
       "      <td>2016-04-26</td>\n",
       "      <td>1.411347</td>\n",
       "    </tr>\n",
       "    <tr>\n",
       "      <th>...</th>\n",
       "      <td>...</td>\n",
       "      <td>...</td>\n",
       "      <td>...</td>\n",
       "    </tr>\n",
       "    <tr>\n",
       "      <th>3741</th>\n",
       "      <td>880007</td>\n",
       "      <td>2020-10-13</td>\n",
       "      <td>1.385466</td>\n",
       "    </tr>\n",
       "    <tr>\n",
       "      <th>3742</th>\n",
       "      <td>970044</td>\n",
       "      <td>2021-09-01</td>\n",
       "      <td>1.272947</td>\n",
       "    </tr>\n",
       "    <tr>\n",
       "      <th>3743</th>\n",
       "      <td>970080</td>\n",
       "      <td>2021-12-06</td>\n",
       "      <td>1.000000</td>\n",
       "    </tr>\n",
       "    <tr>\n",
       "      <th>3744</th>\n",
       "      <td>970087</td>\n",
       "      <td>2021-12-20</td>\n",
       "      <td>1.001735</td>\n",
       "    </tr>\n",
       "    <tr>\n",
       "      <th>3745</th>\n",
       "      <td>970117</td>\n",
       "      <td>2022-01-07</td>\n",
       "      <td>1.004620</td>\n",
       "    </tr>\n",
       "  </tbody>\n",
       "</table>\n",
       "<p>3746 rows × 3 columns</p>\n",
       "</div>"
      ],
      "text/plain": [
       "      Symbol       Date  SplitRatio\n",
       "0     000028 2016-04-21    0.998495\n",
       "1     000030 2016-04-15    1.851295\n",
       "2     000053 2018-11-20    1.454000\n",
       "3     000058 2016-04-22    1.171550\n",
       "4     000066 2016-04-26    1.411347\n",
       "...      ...        ...         ...\n",
       "3741  880007 2020-10-13    1.385466\n",
       "3742  970044 2021-09-01    1.272947\n",
       "3743  970080 2021-12-06    1.000000\n",
       "3744  970087 2021-12-20    1.001735\n",
       "3745  970117 2022-01-07    1.004620\n",
       "\n",
       "[3746 rows x 3 columns]"
      ]
     },
     "execution_count": 364,
     "metadata": {},
     "output_type": "execute_result"
    }
   ],
   "source": [
    "resolution = pd.read_csv('data/CSMAR/Fund_Resolution.csv', parse_dates=['DeclareDate'])\n",
    "resolution['Symbol'] = resolution.Symbol.astype(str).str.zfill(6)\n",
    "resolution = resolution.rename(columns={'DeclareDate': 'Date'})\n",
    "resolution['SplitRatio'] = resolution.SplitRatio.fillna(1)\n",
    "# resolution['Date'] = resolution.Date.dt.to_period('M')\n",
    "resolution"
   ]
  },
  {
   "cell_type": "code",
   "execution_count": 418,
   "metadata": {},
   "outputs": [
    {
     "data": {
      "text/html": [
       "<div>\n",
       "<style scoped>\n",
       "    .dataframe tbody tr th:only-of-type {\n",
       "        vertical-align: middle;\n",
       "    }\n",
       "\n",
       "    .dataframe tbody tr th {\n",
       "        vertical-align: top;\n",
       "    }\n",
       "\n",
       "    .dataframe thead th {\n",
       "        text-align: right;\n",
       "    }\n",
       "</style>\n",
       "<table border=\"1\" class=\"dataframe\">\n",
       "  <thead>\n",
       "    <tr style=\"text-align: right;\">\n",
       "      <th></th>\n",
       "      <th>Symbol</th>\n",
       "      <th>Date</th>\n",
       "      <th>SplitRatio</th>\n",
       "    </tr>\n",
       "  </thead>\n",
       "  <tbody>\n",
       "    <tr>\n",
       "      <th>1</th>\n",
       "      <td>000030</td>\n",
       "      <td>2016-04-15</td>\n",
       "      <td>1.851295</td>\n",
       "    </tr>\n",
       "    <tr>\n",
       "      <th>517</th>\n",
       "      <td>020005</td>\n",
       "      <td>2007-08-01</td>\n",
       "      <td>3.989181</td>\n",
       "    </tr>\n",
       "    <tr>\n",
       "      <th>3742</th>\n",
       "      <td>970044</td>\n",
       "      <td>2021-09-01</td>\n",
       "      <td>1.272947</td>\n",
       "    </tr>\n",
       "  </tbody>\n",
       "</table>\n",
       "</div>"
      ],
      "text/plain": [
       "      Symbol       Date  SplitRatio\n",
       "1     000030 2016-04-15    1.851295\n",
       "517   020005 2007-08-01    3.989181\n",
       "3742  970044 2021-09-01    1.272947"
      ]
     },
     "execution_count": 418,
     "metadata": {},
     "output_type": "execute_result"
    }
   ],
   "source": [
    "resolution[resolution.Symbol.isin(['020005', '000030', '970044'])]"
   ]
  },
  {
   "cell_type": "code",
   "execution_count": 419,
   "metadata": {},
   "outputs": [
    {
     "data": {
      "text/plain": [
       "Date\n",
       "2016-05-13    1.851\n",
       "2016-05-16    1.851\n",
       "2016-05-17    1.000\n",
       "2016-05-18    1.000\n",
       "2016-05-19    1.000\n",
       "2016-05-20    1.000\n",
       "Name: NAV, dtype: float64"
      ]
     },
     "execution_count": 419,
     "metadata": {},
     "output_type": "execute_result"
    }
   ],
   "source": [
    "nav_daily[nav_daily.Symbol == 30].set_index('Date').sort_index().NAV.loc['2016-5-13':'2016-5-20']"
   ]
  },
  {
   "cell_type": "code",
   "execution_count": 422,
   "metadata": {},
   "outputs": [
    {
     "data": {
      "text/plain": [
       "Date\n",
       "2007-08-03    3.956\n",
       "2007-08-06    3.994\n",
       "2007-08-07    3.998\n",
       "2007-08-08    1.000\n",
       "2007-08-09    1.005\n",
       "2007-08-10    1.000\n",
       "Name: NAV, dtype: float64"
      ]
     },
     "execution_count": 422,
     "metadata": {},
     "output_type": "execute_result"
    }
   ],
   "source": [
    "nav_daily[nav_daily.Symbol == 20005].set_index('Date').sort_index().NAV.loc['2007-8-3':'2007-8-10']"
   ]
  },
  {
   "cell_type": "code",
   "execution_count": 421,
   "metadata": {},
   "outputs": [
    {
     "data": {
      "text/plain": [
       "Date\n",
       "2021-08-27    1.2609\n",
       "2021-08-30    1.0000\n",
       "2021-08-31    0.9988\n",
       "2021-09-01    0.9927\n",
       "2021-09-02    0.9928\n",
       "Name: NAV, dtype: float64"
      ]
     },
     "execution_count": 421,
     "metadata": {},
     "output_type": "execute_result"
    }
   ],
   "source": [
    "nav_daily[nav_daily.Symbol == 970044].set_index('Date').sort_index().NAV.loc['2021-8-25':'2021-9-2']"
   ]
  },
  {
   "cell_type": "code",
   "execution_count": 423,
   "metadata": {},
   "outputs": [
    {
     "data": {
      "text/html": [
       "<div>\n",
       "<style scoped>\n",
       "    .dataframe tbody tr th:only-of-type {\n",
       "        vertical-align: middle;\n",
       "    }\n",
       "\n",
       "    .dataframe tbody tr th {\n",
       "        vertical-align: top;\n",
       "    }\n",
       "\n",
       "    .dataframe thead th {\n",
       "        text-align: right;\n",
       "    }\n",
       "</style>\n",
       "<table border=\"1\" class=\"dataframe\">\n",
       "  <thead>\n",
       "    <tr style=\"text-align: right;\">\n",
       "      <th>Symbol</th>\n",
       "      <th>020005</th>\n",
       "      <th>040001</th>\n",
       "      <th>270005</th>\n",
       "      <th>481001</th>\n",
       "    </tr>\n",
       "    <tr>\n",
       "      <th>Date</th>\n",
       "      <th></th>\n",
       "      <th></th>\n",
       "      <th></th>\n",
       "      <th></th>\n",
       "    </tr>\n",
       "  </thead>\n",
       "  <tbody>\n",
       "    <tr>\n",
       "      <th>2007-01-01</th>\n",
       "      <td>1.125500</td>\n",
       "      <td>1.148682</td>\n",
       "      <td>1.136689</td>\n",
       "      <td>1.151879</td>\n",
       "    </tr>\n",
       "    <tr>\n",
       "      <th>2007-02-01</th>\n",
       "      <td>1.053754</td>\n",
       "      <td>1.021212</td>\n",
       "      <td>0.984356</td>\n",
       "      <td>0.967931</td>\n",
       "    </tr>\n",
       "    <tr>\n",
       "      <th>2007-03-01</th>\n",
       "      <td>1.071248</td>\n",
       "      <td>1.022467</td>\n",
       "      <td>1.076476</td>\n",
       "      <td>1.015998</td>\n",
       "    </tr>\n",
       "    <tr>\n",
       "      <th>2007-04-01</th>\n",
       "      <td>1.237308</td>\n",
       "      <td>1.191128</td>\n",
       "      <td>1.217678</td>\n",
       "      <td>1.149899</td>\n",
       "    </tr>\n",
       "    <tr>\n",
       "      <th>2007-05-01</th>\n",
       "      <td>1.065522</td>\n",
       "      <td>1.143752</td>\n",
       "      <td>1.118332</td>\n",
       "      <td>1.139073</td>\n",
       "    </tr>\n",
       "    <tr>\n",
       "      <th>2007-06-01</th>\n",
       "      <td>1.047463</td>\n",
       "      <td>1.001522</td>\n",
       "      <td>1.046149</td>\n",
       "      <td>1.041051</td>\n",
       "    </tr>\n",
       "    <tr>\n",
       "      <th>2007-07-01</th>\n",
       "      <td>1.108008</td>\n",
       "      <td>1.170769</td>\n",
       "      <td>1.168295</td>\n",
       "      <td>1.086868</td>\n",
       "    </tr>\n",
       "    <tr>\n",
       "      <th>2007-08-01</th>\n",
       "      <td>0.268776</td>\n",
       "      <td>1.098105</td>\n",
       "      <td>1.189968</td>\n",
       "      <td>1.122423</td>\n",
       "    </tr>\n",
       "    <tr>\n",
       "      <th>2007-09-01</th>\n",
       "      <td>4.138060</td>\n",
       "      <td>1.038998</td>\n",
       "      <td>0.238739</td>\n",
       "      <td>1.100411</td>\n",
       "    </tr>\n",
       "    <tr>\n",
       "      <th>2007-10-01</th>\n",
       "      <td>1.012915</td>\n",
       "      <td>0.231119</td>\n",
       "      <td>4.646499</td>\n",
       "      <td>0.998583</td>\n",
       "    </tr>\n",
       "    <tr>\n",
       "      <th>2007-11-01</th>\n",
       "      <td>0.886157</td>\n",
       "      <td>4.026670</td>\n",
       "      <td>0.893605</td>\n",
       "      <td>0.240511</td>\n",
       "    </tr>\n",
       "    <tr>\n",
       "      <th>2007-12-01</th>\n",
       "      <td>1.098664</td>\n",
       "      <td>1.047269</td>\n",
       "      <td>1.090186</td>\n",
       "      <td>4.049411</td>\n",
       "    </tr>\n",
       "    <tr>\n",
       "      <th>2008-01-01</th>\n",
       "      <td>0.924228</td>\n",
       "      <td>0.945838</td>\n",
       "      <td>0.912668</td>\n",
       "      <td>0.922459</td>\n",
       "    </tr>\n",
       "    <tr>\n",
       "      <th>2008-02-01</th>\n",
       "      <td>1.038462</td>\n",
       "      <td>1.001060</td>\n",
       "      <td>0.994742</td>\n",
       "      <td>1.006428</td>\n",
       "    </tr>\n",
       "    <tr>\n",
       "      <th>2008-03-01</th>\n",
       "      <td>0.839181</td>\n",
       "      <td>0.899364</td>\n",
       "      <td>0.852537</td>\n",
       "      <td>0.861845</td>\n",
       "    </tr>\n",
       "    <tr>\n",
       "      <th>2008-04-01</th>\n",
       "      <td>1.032520</td>\n",
       "      <td>0.956419</td>\n",
       "      <td>1.002356</td>\n",
       "      <td>1.027249</td>\n",
       "    </tr>\n",
       "    <tr>\n",
       "      <th>2008-05-01</th>\n",
       "      <td>0.937008</td>\n",
       "      <td>0.943350</td>\n",
       "      <td>0.913780</td>\n",
       "      <td>0.965372</td>\n",
       "    </tr>\n",
       "    <tr>\n",
       "      <th>2008-06-01</th>\n",
       "      <td>0.815126</td>\n",
       "      <td>0.882507</td>\n",
       "      <td>0.823880</td>\n",
       "      <td>0.876868</td>\n",
       "    </tr>\n",
       "    <tr>\n",
       "      <th>2008-07-01</th>\n",
       "      <td>1.023564</td>\n",
       "      <td>0.995562</td>\n",
       "      <td>1.006244</td>\n",
       "      <td>1.028320</td>\n",
       "    </tr>\n",
       "    <tr>\n",
       "      <th>2008-08-01</th>\n",
       "      <td>0.840288</td>\n",
       "      <td>0.921248</td>\n",
       "      <td>0.886022</td>\n",
       "      <td>0.922479</td>\n",
       "    </tr>\n",
       "    <tr>\n",
       "      <th>2008-09-01</th>\n",
       "      <td>0.909247</td>\n",
       "      <td>0.958065</td>\n",
       "      <td>0.917619</td>\n",
       "      <td>0.975397</td>\n",
       "    </tr>\n",
       "    <tr>\n",
       "      <th>2008-10-01</th>\n",
       "      <td>0.772128</td>\n",
       "      <td>0.838384</td>\n",
       "      <td>0.839727</td>\n",
       "      <td>0.815502</td>\n",
       "    </tr>\n",
       "    <tr>\n",
       "      <th>2008-11-01</th>\n",
       "      <td>1.119512</td>\n",
       "      <td>1.048193</td>\n",
       "      <td>1.099737</td>\n",
       "      <td>1.047263</td>\n",
       "    </tr>\n",
       "    <tr>\n",
       "      <th>2008-12-01</th>\n",
       "      <td>1.076253</td>\n",
       "      <td>1.042146</td>\n",
       "      <td>1.006090</td>\n",
       "      <td>1.071843</td>\n",
       "    </tr>\n",
       "    <tr>\n",
       "      <th>2009-01-01</th>\n",
       "      <td>1.113360</td>\n",
       "      <td>1.038603</td>\n",
       "      <td>1.078470</td>\n",
       "      <td>1.018421</td>\n",
       "    </tr>\n",
       "  </tbody>\n",
       "</table>\n",
       "</div>"
      ],
      "text/plain": [
       "Symbol        020005    040001    270005    481001\n",
       "Date                                              \n",
       "2007-01-01  1.125500  1.148682  1.136689  1.151879\n",
       "2007-02-01  1.053754  1.021212  0.984356  0.967931\n",
       "2007-03-01  1.071248  1.022467  1.076476  1.015998\n",
       "2007-04-01  1.237308  1.191128  1.217678  1.149899\n",
       "2007-05-01  1.065522  1.143752  1.118332  1.139073\n",
       "2007-06-01  1.047463  1.001522  1.046149  1.041051\n",
       "2007-07-01  1.108008  1.170769  1.168295  1.086868\n",
       "2007-08-01  0.268776  1.098105  1.189968  1.122423\n",
       "2007-09-01  4.138060  1.038998  0.238739  1.100411\n",
       "2007-10-01  1.012915  0.231119  4.646499  0.998583\n",
       "2007-11-01  0.886157  4.026670  0.893605  0.240511\n",
       "2007-12-01  1.098664  1.047269  1.090186  4.049411\n",
       "2008-01-01  0.924228  0.945838  0.912668  0.922459\n",
       "2008-02-01  1.038462  1.001060  0.994742  1.006428\n",
       "2008-03-01  0.839181  0.899364  0.852537  0.861845\n",
       "2008-04-01  1.032520  0.956419  1.002356  1.027249\n",
       "2008-05-01  0.937008  0.943350  0.913780  0.965372\n",
       "2008-06-01  0.815126  0.882507  0.823880  0.876868\n",
       "2008-07-01  1.023564  0.995562  1.006244  1.028320\n",
       "2008-08-01  0.840288  0.921248  0.886022  0.922479\n",
       "2008-09-01  0.909247  0.958065  0.917619  0.975397\n",
       "2008-10-01  0.772128  0.838384  0.839727  0.815502\n",
       "2008-11-01  1.119512  1.048193  1.099737  1.047263\n",
       "2008-12-01  1.076253  1.042146  1.006090  1.071843\n",
       "2009-01-01  1.113360  1.038603  1.078470  1.018421"
      ]
     },
     "execution_count": 423,
     "metadata": {},
     "output_type": "execute_result"
    }
   ],
   "source": [
    "temp = return_of_all.unstack(level=0)\n",
    "temp.index = temp.index.astype(np.datetime64)\n",
    "temp = temp.loc['2007-01-01': '2009-01-01'].dropna(how='all', axis=1)\n",
    "temp.loc[:, (temp > 3.5).any()]"
   ]
  },
  {
   "cell_type": "code",
   "execution_count": 424,
   "metadata": {},
   "outputs": [
    {
     "data": {
      "text/plain": [
       "Date\n",
       "2007-04-30    3.1619\n",
       "2007-05-08    3.2437\n",
       "2007-05-09    3.2399\n",
       "2007-05-10    1.0000\n",
       "2007-05-11    1.0000\n",
       "2007-05-14    1.0064\n",
       "Name: NAV, dtype: float64"
      ]
     },
     "execution_count": 424,
     "metadata": {},
     "output_type": "execute_result"
    }
   ],
   "source": [
    "nav_daily[nav_daily.Symbol == 519001].set_index('Date').sort_index().NAV.loc['2007-4-30':'2007-5-14']"
   ]
  },
  {
   "cell_type": "code",
   "execution_count": 425,
   "metadata": {},
   "outputs": [
    {
     "data": {
      "text/html": [
       "<div>\n",
       "<style scoped>\n",
       "    .dataframe tbody tr th:only-of-type {\n",
       "        vertical-align: middle;\n",
       "    }\n",
       "\n",
       "    .dataframe tbody tr th {\n",
       "        vertical-align: top;\n",
       "    }\n",
       "\n",
       "    .dataframe thead th {\n",
       "        text-align: right;\n",
       "    }\n",
       "</style>\n",
       "<table border=\"1\" class=\"dataframe\">\n",
       "  <thead>\n",
       "    <tr style=\"text-align: right;\">\n",
       "      <th></th>\n",
       "      <th>Symbol</th>\n",
       "      <th>Date</th>\n",
       "      <th>SplitRatio</th>\n",
       "    </tr>\n",
       "  </thead>\n",
       "  <tbody>\n",
       "    <tr>\n",
       "      <th>3673</th>\n",
       "      <td>519001</td>\n",
       "      <td>2007-04-30</td>\n",
       "      <td>3.232592</td>\n",
       "    </tr>\n",
       "  </tbody>\n",
       "</table>\n",
       "</div>"
      ],
      "text/plain": [
       "      Symbol       Date  SplitRatio\n",
       "3673  519001 2007-04-30    3.232592"
      ]
     },
     "execution_count": 425,
     "metadata": {},
     "output_type": "execute_result"
    }
   ],
   "source": [
    "resolution[resolution.Symbol == '519001']"
   ]
  }
 ],
 "metadata": {
  "kernelspec": {
   "display_name": "Python 3.10.7 64-bit",
   "language": "python",
   "name": "python3"
  },
  "language_info": {
   "codemirror_mode": {
    "name": "ipython",
    "version": 3
   },
   "file_extension": ".py",
   "mimetype": "text/x-python",
   "name": "python",
   "nbconvert_exporter": "python",
   "pygments_lexer": "ipython3",
   "version": "3.10.7"
  },
  "orig_nbformat": 4,
  "vscode": {
   "interpreter": {
    "hash": "30f376259ad5d5354be6f280c6eaf9568078f04b7c7fbe2e366bcbeb41831e82"
   }
  }
 },
 "nbformat": 4,
 "nbformat_minor": 2
}
